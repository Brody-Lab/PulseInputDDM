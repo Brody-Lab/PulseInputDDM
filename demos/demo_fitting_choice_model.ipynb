{
 "cells": [
  {
   "cell_type": "markdown",
   "metadata": {},
   "source": [
    "## Demo notebook for fitting the model of _Brunton et. al. (2013)_"
   ]
  },
  {
   "cell_type": "markdown",
   "metadata": {},
   "source": [
    "This is some boilerplate, for loading packages necessary for running the notebook"
   ]
  },
  {
   "cell_type": "code",
   "execution_count": 1,
   "metadata": {},
   "outputs": [],
   "source": [
    "using Distributed\n",
    "addprocs(4);"
   ]
  },
  {
   "cell_type": "code",
   "execution_count": null,
   "metadata": {},
   "outputs": [
    {
     "name": "stderr",
     "output_type": "stream",
     "text": [
      "┌ Info: Precompiling PyPlot [d330b81b-6aea-500a-939a-2ce795aea3ee]\n",
      "└ @ Base loading.jl:1192\n",
      "┌ Info: Installing matplotlib via the Conda matplotlib package...\n",
      "└ @ PyCall /Users/briandepasquale/.julia/packages/PyCall/ttONZ/src/PyCall.jl:705\n",
      "┌ Info: Running `conda install -y matplotlib` in root environment\n",
      "└ @ Conda /Users/briandepasquale/.julia/packages/Conda/CpuvI/src/Conda.jl:112\n"
     ]
    },
    {
     "name": "stdout",
     "output_type": "stream",
     "text": [
      "Collecting package metadata: ...working... done\n",
      "Solving environment: ...working... done\n",
      "\n",
      "## Package Plan ##\n",
      "\n",
      "  environment location: /Users/briandepasquale/.julia/conda/3\n",
      "\n",
      "  added / updated specs:\n",
      "    - matplotlib\n",
      "\n",
      "\n",
      "The following packages will be downloaded:\n",
      "\n",
      "    package                    |            build\n",
      "    ---------------------------|-----------------\n",
      "    cycler-0.10.0              |           py37_0          14 KB\n",
      "    freetype-2.9.1             |       hb4e5f40_0         864 KB\n",
      "    kiwisolver-1.0.1           |   py37h0a44026_0          56 KB\n",
      "    libpng-1.6.37              |       ha441bb4_0         325 KB\n",
      "    matplotlib-3.0.3           |   py37h54f8f79_0         6.6 MB\n",
      "    pyparsing-2.4.0            |             py_0          58 KB\n",
      "    python-dateutil-2.8.0      |           py37_0         281 KB\n",
      "    pytz-2019.1                |             py_0         236 KB\n",
      "    tornado-6.0.2              |   py37h1de35cc_0         642 KB\n",
      "    ------------------------------------------------------------\n",
      "                                           Total:         9.0 MB\n",
      "\n",
      "The following NEW packages will be INSTALLED:\n",
      "\n",
      "  cycler             pkgs/main/osx-64::cycler-0.10.0-py37_0\n",
      "  freetype           pkgs/main/osx-64::freetype-2.9.1-hb4e5f40_0\n",
      "  kiwisolver         pkgs/main/osx-64::kiwisolver-1.0.1-py37h0a44026_0\n",
      "  libpng             pkgs/main/osx-64::libpng-1.6.37-ha441bb4_0\n",
      "  matplotlib         pkgs/main/osx-64::matplotlib-3.0.3-py37h54f8f79_0\n",
      "  pyparsing          pkgs/main/noarch::pyparsing-2.4.0-py_0\n",
      "  python-dateutil    pkgs/main/osx-64::python-dateutil-2.8.0-py37_0\n",
      "  pytz               pkgs/main/noarch::pytz-2019.1-py_0\n",
      "  tornado            pkgs/main/osx-64::tornado-6.0.2-py37h1de35cc_0\n",
      "\n",
      "\n",
      "\n",
      "Downloading and Extracting Packages\n",
      "cycler-0.10.0        | 14 KB     | ########## | 100% \n",
      "python-dateutil-2.8. | 281 KB    | ########## | 100% \n",
      "matplotlib-3.0.3     | 6.6 MB    | ########## | 100% \n",
      "pyparsing-2.4.0      | 58 KB     | ########## | 100% \n",
      "libpng-1.6.37        | 325 KB    | ########## | 100% \n",
      "tornado-6.0.2        | 642 KB    | ########## | 100% \n",
      "pytz-2019.1          | 236 KB    | ########## | 100% \n",
      "kiwisolver-1.0.1     | 56 KB     | ########## | 100% \n",
      "freetype-2.9.1       | 864 KB    | ########## | 100% \n",
      "Preparing transaction: ...working... done\n",
      "Verifying transaction: ...working... done\n",
      "Executing transaction: ...working... done\n"
     ]
    }
   ],
   "source": [
    "using PyPlot, JLD2, DataFrames\n",
    "using LinearAlgebra, Pandas, GLM"
   ]
  },
  {
   "cell_type": "code",
   "execution_count": 3,
   "metadata": {},
   "outputs": [
    {
     "name": "stderr",
     "output_type": "stream",
     "text": [
      "┌ Info: Recompiling stale cache file /Users/briandepasquale/.julia/compiled/v1.1/pulse_input_DDM/m8WoA.ji for pulse_input_DDM [c2542da2-1f7d-11e9-2506-87691095ebb2]\n",
      "└ @ Base loading.jl:1184\n",
      "┌ Warning: Module StatsBase with build ID 227921036430982 is missing from the cache.\n",
      "│ This may mean StatsBase [2913bbd2-ae8a-5f71-8c99-4fb6c76f3a91] does not support precompilation but is imported by a module that does.\n",
      "└ @ Base loading.jl:947\n",
      "┌ Info: Recompiling stale cache file /Users/briandepasquale/.julia/compiled/v1.1/Optim/R5uoh.ji for Optim [429524aa-4258-5aef-a3af-852621145aeb]\n",
      "└ @ Base loading.jl:1184\n",
      "┌ Warning: Module StatsBase with build ID 227921036430982 is missing from the cache.\n",
      "│ This may mean StatsBase [2913bbd2-ae8a-5f71-8c99-4fb6c76f3a91] does not support precompilation but is imported by a module that does.\n",
      "└ @ Base loading.jl:947\n",
      "┌ Info: Recompiling stale cache file /Users/briandepasquale/.julia/compiled/v1.1/JLD/l8ijy.ji for JLD [4138dd39-2aa7-5051-a626-17a0bb65d9c8]\n",
      "└ @ Base loading.jl:1184\n",
      "┌ Info: Recompiling stale cache file /Users/briandepasquale/.julia/compiled/v1.1/MAT/3FHIv.ji for MAT [23992714-dd62-5051-b70f-ba57cb901cac]\n",
      "└ @ Base loading.jl:1184\n",
      "┌ Info: Recompiling stale cache file /Users/briandepasquale/.julia/compiled/v1.1/ROCAnalysis/GJ3BH.ji for ROCAnalysis [f535d66d-59bb-5153-8d2b-ef0a426c6aff]\n",
      "└ @ Base loading.jl:1184\n",
      "┌ Warning: Module DataFrames with build ID 227920531188240 is missing from the cache.\n",
      "│ This may mean DataFrames [a93c6f00-e57d-5684-b7b6-d8193f3e46c0] does not support precompilation but is imported by a module that does.\n",
      "└ @ Base loading.jl:947\n",
      "┌ Info: Recompiling stale cache file /Users/briandepasquale/.julia/compiled/v1.1/ImageFiltering/MN5uU.ji for ImageFiltering [6a3955dd-da59-5b1f-98d4-e7296123deb5]\n",
      "└ @ Base loading.jl:1184\n",
      "┌ Warning: Module StatsBase with build ID 227921036430982 is missing from the cache.\n",
      "│ This may mean StatsBase [2913bbd2-ae8a-5f71-8c99-4fb6c76f3a91] does not support precompilation but is imported by a module that does.\n",
      "└ @ Base loading.jl:947\n",
      "┌ Warning: Module StatsBase with build ID 227921036430982 is missing from the cache.\n",
      "│ This may mean StatsBase [2913bbd2-ae8a-5f71-8c99-4fb6c76f3a91] does not support precompilation but is imported by a module that does.\n",
      "└ @ Base loading.jl:947\n",
      "┌ Info: Precompiling ColorVectorSpace [c3611d14-8923-5661-9e6a-0046d554d3a4]\n",
      "└ @ Base loading.jl:1186\n",
      "┌ Warning: Module StatsBase with build ID 227921036430982 is missing from the cache.\n",
      "│ This may mean StatsBase [2913bbd2-ae8a-5f71-8c99-4fb6c76f3a91] does not support precompilation but is imported by a module that does.\n",
      "└ @ Base loading.jl:947\n"
     ]
    },
    {
     "name": "stdout",
     "output_type": "stream",
     "text": [
      "      From worker 5:\t┌ Warning: Module DataFrames with build ID 227942982430769 is missing from the cache.\n",
      "      From worker 5:\t│ This may mean DataFrames [a93c6f00-e57d-5684-b7b6-d8193f3e46c0] does not support precompilation but is imported by a module that does.\n",
      "      From worker 5:\t└ @ Base loading.jl:947\n",
      "      From worker 4:\t┌ Warning: Module DataFrames with build ID 227942982402836 is missing from the cache.\n",
      "      From worker 4:\t│ This may mean DataFrames [a93c6f00-e57d-5684-b7b6-d8193f3e46c0] does not support precompilation but is imported by a module that does.\n",
      "      From worker 4:\t└ @ Base loading.jl:947\n",
      "      From worker 2:\t┌ Warning: Module DataFrames with build ID 227939112442822 is missing from the cache.\n",
      "      From worker 2:\t│ This may mean DataFrames [a93c6f00-e57d-5684-b7b6-d8193f3e46c0] does not support precompilation but is imported by a module that does.\n",
      "      From worker 2:\t└ @ Base loading.jl:947\n",
      "      From worker 4:\t┌ Warning: Module DataFrames with build ID 227942982402836 is missing from the cache.\n",
      "      From worker 4:\t│ This may mean DataFrames [a93c6f00-e57d-5684-b7b6-d8193f3e46c0] does not support precompilation but is imported by a module that does.\n",
      "      From worker 4:\t└ @ Base loading.jl:947\n",
      "      From worker 5:\t┌ Warning: Module DataFrames with build ID 227942982430769 is missing from the cache.\n",
      "      From worker 5:\t│ This may mean DataFrames [a93c6f00-e57d-5684-b7b6-d8193f3e46c0] does not support precompilation but is imported by a module that does.\n",
      "      From worker 5:\t└ @ Base loading.jl:947\n",
      "      From worker 2:\t┌ Warning: Module DataFrames with build ID 227939112442822 is missing from the cache.\n",
      "      From worker 2:\t│ This may mean DataFrames [a93c6f00-e57d-5684-b7b6-d8193f3e46c0] does not support precompilation but is imported by a module that does.\n",
      "      From worker 2:\t└ @ Base loading.jl:947\n",
      "      From worker 4:\t┌ Warning: Module DataFrames with build ID 227942982402836 is missing from the cache.\n",
      "      From worker 4:\t│ This may mean DataFrames [a93c6f00-e57d-5684-b7b6-d8193f3e46c0] does not support precompilation but is imported by a module that does.\n",
      "      From worker 4:\t└ @ Base loading.jl:947\n",
      "      From worker 5:\t┌ Warning: Module DataFrames with build ID 227942982430769 is missing from the cache.\n",
      "      From worker 5:\t│ This may mean DataFrames [a93c6f00-e57d-5684-b7b6-d8193f3e46c0] does not support precompilation but is imported by a module that does.\n",
      "      From worker 5:\t└ @ Base loading.jl:947\n",
      "      From worker 2:\t┌ Warning: Module DataFrames with build ID 227939112442822 is missing from the cache.\n",
      "      From worker 2:\t│ This may mean DataFrames [a93c6f00-e57d-5684-b7b6-d8193f3e46c0] does not support precompilation but is imported by a module that does.\n",
      "      From worker 2:\t└ @ Base loading.jl:947\n",
      "      From worker 3:\t┌ Warning: The call to compilecache failed to create a usable precompiled cache file for ImageFiltering [6a3955dd-da59-5b1f-98d4-e7296123deb5]\n",
      "      From worker 3:\t│   exception = Required dependency ColorVectorSpace [c3611d14-8923-5661-9e6a-0046d554d3a4] failed to load from a cache file.\n",
      "      From worker 3:\t└ @ Base loading.jl:969\n"
     ]
    },
    {
     "name": "stderr",
     "output_type": "stream",
     "text": [
      "┌ Warning: The call to compilecache failed to create a usable precompiled cache file for pulse_input_DDM [c2542da2-1f7d-11e9-2506-87691095ebb2]\n",
      "│   exception = Required dependency ROCAnalysis [f535d66d-59bb-5153-8d2b-ef0a426c6aff] failed to load from a cache file.\n",
      "└ @ Base loading.jl:969\n"
     ]
    }
   ],
   "source": [
    "using pulse_input_DDM"
   ]
  },
  {
   "cell_type": "markdown",
   "metadata": {},
   "source": [
    "Define dictionaries with some generative parameters, a Boolean vector of which ones to fit, and initial values."
   ]
  },
  {
   "cell_type": "code",
   "execution_count": 4,
   "metadata": {},
   "outputs": [],
   "source": [
    "#parameters of the latent model\n",
    "pz_gen = Dict(\"generative\" => vcat(1.,13.,-0.5,10.,1.,0.4,0.02), \n",
    "    \"name\" => vcat(\"σ_i\",\"B\", \"λ\", \"σ_a\",\"σ_s\",\"ϕ\",\"τ_ϕ\"),\n",
    "    \"fit\" => vcat(trues(7)),\n",
    "    \"initial\" => vcat(2.,15.,-5.,100.,2.,0.2,0.005),\n",
    "    \"lb\" => [eps(), 4., -5., eps(), eps(), eps(), eps()],\n",
    "    \"ub\" => [10., 100, 5., 800., 40., 2., 10.])\n",
    "\n",
    "#parameters for the choice observation\n",
    "pd_gen = Dict(\"generative\" => vcat(0.1,0.1), \n",
    "    \"name\" => vcat(\"bias\",\"lapse\"), \"fit\" => trues(2), \n",
    "    \"initial\" => vcat(0.,0.5));"
   ]
  },
  {
   "cell_type": "markdown",
   "metadata": {},
   "source": [
    "## simulate choices from a model, to check that generative parameters can be found"
   ]
  },
  {
   "cell_type": "code",
   "execution_count": 5,
   "metadata": {},
   "outputs": [
    {
     "data": {
      "text/plain": [
       "(1000, 0.01)"
      ]
     },
     "execution_count": 5,
     "metadata": {},
     "output_type": "execute_result"
    }
   ],
   "source": [
    "#define how many trials to generate data from and the time binning scale (in seconds)\n",
    "ntrials,dt = Int(0.1e4), 1e-2"
   ]
  },
  {
   "cell_type": "code",
   "execution_count": 6,
   "metadata": {},
   "outputs": [],
   "source": [
    "#generate some simulated clicks times and trial durations\n",
    "data = pulse_input_DDM.sample_clicks(ntrials,dt);"
   ]
  },
  {
   "cell_type": "code",
   "execution_count": 7,
   "metadata": {},
   "outputs": [
    {
     "ename": "RemoteException",
     "evalue": "On worker 2:\nUndefVarError: ##196#197 not defined\ndeserialize_datatype at /Users/osx/buildbot/slave/package_osx64/build/usr/share/julia/stdlib/v1.1/Serialization/src/Serialization.jl:1115\nhandle_deserialize at /Users/osx/buildbot/slave/package_osx64/build/usr/share/julia/stdlib/v1.1/Serialization/src/Serialization.jl:771\ndeserialize at /Users/osx/buildbot/slave/package_osx64/build/usr/share/julia/stdlib/v1.1/Serialization/src/Serialization.jl:731\ndeserialize_datatype at /Users/osx/buildbot/slave/package_osx64/build/usr/share/julia/stdlib/v1.1/Serialization/src/Serialization.jl:1139\nhandle_deserialize at /Users/osx/buildbot/slave/package_osx64/build/usr/share/julia/stdlib/v1.1/Serialization/src/Serialization.jl:771\ndeserialize at /Users/osx/buildbot/slave/package_osx64/build/usr/share/julia/stdlib/v1.1/Serialization/src/Serialization.jl:731\nhandle_deserialize at /Users/osx/buildbot/slave/package_osx64/build/usr/share/julia/stdlib/v1.1/Serialization/src/Serialization.jl:778\ndeserialize at /Users/osx/buildbot/slave/package_osx64/build/usr/share/julia/stdlib/v1.1/Serialization/src/Serialization.jl:731\ndeserialize_msg at /Users/osx/buildbot/slave/package_osx64/build/usr/share/julia/stdlib/v1.1/Distributed/src/messages.jl:99\n#invokelatest#1 at ./essentials.jl:742 [inlined]\ninvokelatest at ./essentials.jl:741 [inlined]\nmessage_handler_loop at /Users/osx/buildbot/slave/package_osx64/build/usr/share/julia/stdlib/v1.1/Distributed/src/process_messages.jl:160\nprocess_tcp_streams at /Users/osx/buildbot/slave/package_osx64/build/usr/share/julia/stdlib/v1.1/Distributed/src/process_messages.jl:117\n#105 at ./task.jl:259",
     "output_type": "error",
     "traceback": [
      "On worker 2:\nUndefVarError: ##196#197 not defined\ndeserialize_datatype at /Users/osx/buildbot/slave/package_osx64/build/usr/share/julia/stdlib/v1.1/Serialization/src/Serialization.jl:1115\nhandle_deserialize at /Users/osx/buildbot/slave/package_osx64/build/usr/share/julia/stdlib/v1.1/Serialization/src/Serialization.jl:771\ndeserialize at /Users/osx/buildbot/slave/package_osx64/build/usr/share/julia/stdlib/v1.1/Serialization/src/Serialization.jl:731\ndeserialize_datatype at /Users/osx/buildbot/slave/package_osx64/build/usr/share/julia/stdlib/v1.1/Serialization/src/Serialization.jl:1139\nhandle_deserialize at /Users/osx/buildbot/slave/package_osx64/build/usr/share/julia/stdlib/v1.1/Serialization/src/Serialization.jl:771\ndeserialize at /Users/osx/buildbot/slave/package_osx64/build/usr/share/julia/stdlib/v1.1/Serialization/src/Serialization.jl:731\nhandle_deserialize at /Users/osx/buildbot/slave/package_osx64/build/usr/share/julia/stdlib/v1.1/Serialization/src/Serialization.jl:778\ndeserialize at /Users/osx/buildbot/slave/package_osx64/build/usr/share/julia/stdlib/v1.1/Serialization/src/Serialization.jl:731\ndeserialize_msg at /Users/osx/buildbot/slave/package_osx64/build/usr/share/julia/stdlib/v1.1/Distributed/src/messages.jl:99\n#invokelatest#1 at ./essentials.jl:742 [inlined]\ninvokelatest at ./essentials.jl:741 [inlined]\nmessage_handler_loop at /Users/osx/buildbot/slave/package_osx64/build/usr/share/julia/stdlib/v1.1/Distributed/src/process_messages.jl:160\nprocess_tcp_streams at /Users/osx/buildbot/slave/package_osx64/build/usr/share/julia/stdlib/v1.1/Distributed/src/process_messages.jl:117\n#105 at ./task.jl:259",
      "",
      "Stacktrace:",
      " [1] (::getfield(Base, Symbol(\"##696#698\")))(::Task) at ./asyncmap.jl:178",
      " [2] foreach(::getfield(Base, Symbol(\"##696#698\")), ::Array{Any,1}) at ./abstractarray.jl:1866",
      " [3] maptwice(::Function, ::Channel{Any}, ::Array{Any,1}, ::Base.Iterators.Zip{Tuple{Array{Float64,1},Array{Array{Float64,1},1},Array{Array{Float64,1},1},Array{Int64,1}}}) at ./asyncmap.jl:178",
      " [4] #async_usemap#681 at ./asyncmap.jl:154 [inlined]",
      " [5] #async_usemap at ./none:0 [inlined]",
      " [6] #asyncmap#680 at ./asyncmap.jl:81 [inlined]",
      " [7] #asyncmap at ./none:0 [inlined]",
      " [8] #pmap#215(::Bool, ::Int64, ::Nothing, ::Array{Any,1}, ::Nothing, ::Function, ::Function, ::WorkerPool, ::Base.Iterators.Zip{Tuple{Array{Float64,1},Array{Array{Float64,1},1},Array{Array{Float64,1},1},Array{Int64,1}}}) at /Users/osx/buildbot/slave/package_osx64/build/usr/share/julia/stdlib/v1.1/Distributed/src/pmap.jl:126",
      " [9] pmap(::Function, ::WorkerPool, ::Base.Iterators.Zip{Tuple{Array{Float64,1},Array{Array{Float64,1},1},Array{Array{Float64,1},1},Array{Int64,1}}}) at /Users/osx/buildbot/slave/package_osx64/build/usr/share/julia/stdlib/v1.1/Distributed/src/pmap.jl:101",
      " [10] #pmap#225(::Base.Iterators.Pairs{Union{},Union{},Tuple{},NamedTuple{(),Tuple{}}}, ::Function, ::Function, ::Base.Iterators.Zip{Tuple{Array{Float64,1},Array{Array{Float64,1},1},Array{Array{Float64,1},1},Array{Int64,1}}}) at /Users/osx/buildbot/slave/package_osx64/build/usr/share/julia/stdlib/v1.1/Distributed/src/pmap.jl:156",
      " [11] pmap(::Function, ::Base.Iterators.Zip{Tuple{Array{Float64,1},Array{Array{Float64,1},1},Array{Array{Float64,1},1},Array{Int64,1}}}) at /Users/osx/buildbot/slave/package_osx64/build/usr/share/julia/stdlib/v1.1/Distributed/src/pmap.jl:156",
      " [12] #pmap#226(::Base.Iterators.Pairs{Union{},Union{},Tuple{},NamedTuple{(),Tuple{}}}, ::Function, ::Function, ::Array{Float64,1}, ::Array{Array{Float64,1},1}, ::Vararg{Any,N} where N) at /Users/osx/buildbot/slave/package_osx64/build/usr/share/julia/stdlib/v1.1/Distributed/src/pmap.jl:157",
      " [13] pmap(::Function, ::Array{Float64,1}, ::Array{Array{Float64,1},1}, ::Array{Array{Float64,1},1}, ::Vararg{Any,N} where N) at /Users/osx/buildbot/slave/package_osx64/build/usr/share/julia/stdlib/v1.1/Distributed/src/pmap.jl:157",
      " [14] #sampled_dataset!#195(::Float64, ::Int64, ::Int64, ::Function, ::Dict{Any,Any}, ::Array{Float64,1}, ::Array{Float64,1}) at /Users/briandepasquale/Projects/inProgress/pulse_input_DDM.jl/src/sample_model_functions.jl:110",
      " [15] (::getfield(pulse_input_DDM, Symbol(\"#kw##sampled_dataset!\")))(::NamedTuple{(:num_reps, :rng),Tuple{Int64,Int64}}, ::typeof(pulse_input_DDM.sampled_dataset!), ::Dict{Any,Any}, ::Array{Float64,1}, ::Array{Float64,1}) at ./none:0",
      " [16] top-level scope at In[7]:1"
     ]
    }
   ],
   "source": [
    "#simulate choices from the model, given the generative parameters\n",
    "pulse_input_DDM.sampled_dataset!(data, pz_gen[\"generative\"], pd_gen[\"generative\"]; num_reps=1, rng=4);"
   ]
  },
  {
   "cell_type": "code",
   "execution_count": null,
   "metadata": {},
   "outputs": [],
   "source": [
    "#compute the likelihood of the data, given the generative parameters\n",
    "compute_LL(pz_gen[\"generative\"], pd_gen[\"generative\"],data)"
   ]
  },
  {
   "cell_type": "code",
   "execution_count": null,
   "metadata": {},
   "outputs": [],
   "source": [
    "#find the ML parameters with gradient descent\n",
    "@time pz_gen, pd_gen, = optimize_model(pz_gen, pd_gen, data)"
   ]
  },
  {
   "cell_type": "code",
   "execution_count": null,
   "metadata": {},
   "outputs": [],
   "source": [
    "#compute the Hessian of the LL landscape, to compute confidence intervals on the parameters\n",
    "compute_H_CI(pz_gen, pd_gen, data, dt)"
   ]
  },
  {
   "cell_type": "code",
   "execution_count": null,
   "metadata": {},
   "outputs": [],
   "source": [
    "#identify which ML parameters have generative parameters within the CI \n",
    "pz_gen[:within_bounds] = (pz_gen[:CI_minus] .< pz_gen[:generative]) .& (pz_gen[:CI_plus] .> pz_gen[:generative])\n",
    "pd_gen[:within_bounds] = (pd_gen[:CI_minus] .< pd_gen[:generative]) .& (pd_gen[:CI_plus] .> pd_gen[:generative]);"
   ]
  },
  {
   "cell_type": "code",
   "execution_count": null,
   "metadata": {},
   "outputs": [],
   "source": [
    "DataFrames.DataFrame(pz_gen)"
   ]
  },
  {
   "cell_type": "code",
   "execution_count": null,
   "metadata": {},
   "outputs": [],
   "source": [
    "pd_gen"
   ]
  },
  {
   "cell_type": "code",
   "execution_count": null,
   "metadata": {},
   "outputs": [],
   "source": [
    "#sample data from the model using the ML parameters\n",
    "sampled_choices = pmap((T,L,R) -> sample_model(T,L,R,pz_gen[:final],pd_gen[:final]),\n",
    "    data[\"T\"],data[\"leftbups\"],data[\"rightbups\"])\n",
    "\n",
    "#compute the final click difference, which will dictate the correct choice\n",
    "ΔLR = map((nT,L,R)->diffLR(nT,L,R,dt),data[\"nT\"],data[\"leftbups\"],data[\"rightbups\"])\n",
    "ΔLR = map(x-> x[end], ΔLR);"
   ]
  },
  {
   "cell_type": "code",
   "execution_count": null,
   "metadata": {},
   "outputs": [],
   "source": [
    "#bin the real choices and the sampled choices\n",
    "nbins = 15;\n",
    "conds,qcut_bins = qcut(ΔLR,nbins,labels=false,retbins=true);\n",
    "conds = conds .+ 1;\n",
    "\n",
    "frac_choice_sampled = fill!(Vector{Float64}(undef,nbins),NaN)\n",
    "frac_choice = fill!(Vector{Float64}(undef,nbins),NaN)\n",
    "for i = 1:nbins\n",
    "    frac_choice_sampled[i] = mean(sampled_choices[conds .== i])\n",
    "    frac_choice[i] = mean(data[\"pokedR\"][conds .== i])\n",
    "end"
   ]
  },
  {
   "cell_type": "code",
   "execution_count": null,
   "metadata": {
    "scrolled": true
   },
   "outputs": [],
   "source": [
    "#fit a GLM to the real choices and the simulated choices\n",
    "GLM_dataframe = DataFrames.DataFrame(X= ΔLR, Y = data[\"pokedR\"])\n",
    "GLM_data = glm(@formula(Y ~ X), GLM_dataframe, Binomial(), LogitLink())\n",
    "GLM_samplesframe = DataFrames.DataFrame(X= ΔLR, Y = sampled_choices)\n",
    "GLM_samples = glm(@formula(Y ~ X), GLM_samplesframe, Binomial(), LogitLink())"
   ]
  },
  {
   "cell_type": "code",
   "execution_count": null,
   "metadata": {},
   "outputs": [],
   "source": [
    "fig = figure(figsize=(6,6))\n",
    "ax = subplot(111)\n",
    "\n",
    "scatter(qcut_bins[1:end-1] + diff(qcut_bins)/2, frac_choice, color=\"red\", label=\"data\")\n",
    "scatter(qcut_bins[1:end-1] + diff(qcut_bins)/2, frac_choice_sampled, color=\"grey\", label=\"sampled\")\n",
    "\n",
    "PyPlot.plot(sort(GLM_dataframe[:X]), sort(predict(GLM_data)), color=\"red\")\n",
    "PyPlot.plot(sort(GLM_samplesframe[:X]), sort(predict(GLM_samples)), color=\"grey\")\n",
    "\n",
    "ylabel(\"% poked R\")\n",
    "xlabel(L\"\\Delta{LR}\")\n",
    "ax[:spines][\"top\"][:set_color](\"none\") # Remove the top axis boundary\n",
    "ax[:spines][\"right\"][:set_color](\"none\") # Remove the top axis boundary\n",
    "legend()"
   ]
  },
  {
   "cell_type": "markdown",
   "metadata": {},
   "source": [
    "## fit real data"
   ]
  },
  {
   "cell_type": "code",
   "execution_count": null,
   "metadata": {},
   "outputs": [],
   "source": [
    "path = \"/mnt/bucket/labs/brody/vdtang/P055_processed\"\n",
    "ratnames=[\"P055\"]\n",
    "sessids=[[17061800,18041700,16052600,16070500,16111700,18010300,18022600,17122200,\n",
    "        17081200,17092600,17051900,18030500,17011800,18012200,17011500,17062500,\n",
    "        17112700,18032700,16082200,18060800,18032500,17082900,17080500,17081000,\n",
    "        17052300,17090800,17090900,18041500,18040500,17122000]];"
   ]
  },
  {
   "cell_type": "code",
   "execution_count": null,
   "metadata": {},
   "outputs": [],
   "source": [
    "data = aggregate_choice_data(path, sessids, ratnames, dt)"
   ]
  },
  {
   "cell_type": "markdown",
   "metadata": {},
   "source": [
    "## saving things"
   ]
  },
  {
   "cell_type": "code",
   "execution_count": null,
   "metadata": {},
   "outputs": [],
   "source": [
    "JLD2.@save \"/usr/people/briandd/Projects/pulse_input_DDM.jl/data/results/marino.jld\" pz pd pzF pdF"
   ]
  }
 ],
 "metadata": {
  "@webio": {
   "lastCommId": null,
   "lastKernelId": null
  },
  "anaconda-cloud": {},
  "kernelspec": {
   "display_name": "Julia 1.0.3",
   "language": "julia",
   "name": "julia-1.0"
  },
  "language_info": {
   "file_extension": ".jl",
   "mimetype": "application/julia",
   "name": "julia",
   "version": "1.0.3"
  }
 },
 "nbformat": 4,
 "nbformat_minor": 2
}
