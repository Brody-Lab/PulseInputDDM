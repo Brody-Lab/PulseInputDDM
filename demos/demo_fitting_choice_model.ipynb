{
 "cells": [
  {
   "cell_type": "markdown",
   "metadata": {},
   "source": [
    "## Demo notebook for fitting the model of _Brunton et. al. (2013)_"
   ]
  },
  {
   "cell_type": "markdown",
   "metadata": {},
   "source": [
    "This is some boilerplate, for loading packages necessary for running the notebook"
   ]
  },
  {
   "cell_type": "code",
   "execution_count": 1,
   "metadata": {},
   "outputs": [],
   "source": [
    "using Distributed\n",
    "addprocs(44);"
   ]
  },
  {
   "cell_type": "code",
   "execution_count": 19,
   "metadata": {
    "scrolled": true
   },
   "outputs": [],
   "source": [
    "@everywhere using pulse_input_DDM"
   ]
  },
  {
   "cell_type": "code",
   "execution_count": 20,
   "metadata": {},
   "outputs": [],
   "source": [
    "using PyPlot, JLD2, DataFrames\n",
    "using LinearAlgebra, Pandas, GLM"
   ]
  },
  {
   "cell_type": "markdown",
   "metadata": {},
   "source": [
    "Define dictionaries with some generative parameters, a Boolean vector of which ones to fit, and initial values."
   ]
  },
  {
   "cell_type": "code",
   "execution_count": 4,
   "metadata": {},
   "outputs": [],
   "source": [
    "#parameters of the latent model\n",
    "pz_gen = Dict(\"generative\" => vcat(1.,13.,-0.5,10.,1.,0.4,0.02), \n",
    "    \"name\" => vcat(\"σ_i\",\"B\", \"λ\", \"σ_a\",\"σ_s\",\"ϕ\",\"τ_ϕ\"),\n",
    "    \"fit\" => vcat(trues(7)),\n",
    "    \"initial\" => vcat(2.,15.,-5.,100.,2.,0.2,0.005),\n",
    "    \"lb\" => [eps(), 4., -5., eps(), eps(), eps(), eps()],\n",
    "    \"ub\" => [10., 100, 5., 800., 40., 2., 10.])\n",
    "\n",
    "#parameters for the choice observation\n",
    "pd_gen = Dict(\"generative\" => vcat(0.1,0.1), \n",
    "    \"name\" => vcat(\"bias\",\"lapse\"), \"fit\" => trues(2), \n",
    "    \"initial\" => vcat(0.,0.5));"
   ]
  },
  {
   "cell_type": "markdown",
   "metadata": {},
   "source": [
    "## simulate choices from a model, to check that generative parameters can be found"
   ]
  },
  {
   "cell_type": "code",
   "execution_count": 5,
   "metadata": {},
   "outputs": [
    {
     "data": {
      "text/plain": [
       "(5000, 0.01)"
      ]
     },
     "execution_count": 5,
     "metadata": {},
     "output_type": "execute_result"
    }
   ],
   "source": [
    "#define how many trials to generate data from and the time binning scale (in seconds)\n",
    "ntrials,dt = Int(0.5e4), 1e-2"
   ]
  },
  {
   "cell_type": "code",
   "execution_count": 6,
   "metadata": {},
   "outputs": [],
   "source": [
    "#generate some simulated clicks times and trial durations\n",
    "data = pulse_input_DDM.sample_clicks(ntrials,dt);"
   ]
  },
  {
   "cell_type": "code",
   "execution_count": 21,
   "metadata": {},
   "outputs": [
    {
     "ename": "RemoteException",
     "evalue": "On worker 34:\nUndefVarError: ##197#198 not defined\ndeserialize_datatype at /home/conda/feedstock_root/build_artifacts/julia_1548684429855/work/usr/share/julia/stdlib/v1.0/Serialization/src/Serialization.jl:1095\nhandle_deserialize at /home/conda/feedstock_root/build_artifacts/julia_1548684429855/work/usr/share/julia/stdlib/v1.0/Serialization/src/Serialization.jl:751\ndeserialize at /home/conda/feedstock_root/build_artifacts/julia_1548684429855/work/usr/share/julia/stdlib/v1.0/Serialization/src/Serialization.jl:711\ndeserialize_datatype at /home/conda/feedstock_root/build_artifacts/julia_1548684429855/work/usr/share/julia/stdlib/v1.0/Serialization/src/Serialization.jl:1119\nhandle_deserialize at /home/conda/feedstock_root/build_artifacts/julia_1548684429855/work/usr/share/julia/stdlib/v1.0/Serialization/src/Serialization.jl:751\ndeserialize at /home/conda/feedstock_root/build_artifacts/julia_1548684429855/work/usr/share/julia/stdlib/v1.0/Serialization/src/Serialization.jl:711\nhandle_deserialize at /home/conda/feedstock_root/build_artifacts/julia_1548684429855/work/usr/share/julia/stdlib/v1.0/Serialization/src/Serialization.jl:758\ndeserialize at /home/conda/feedstock_root/build_artifacts/julia_1548684429855/work/usr/share/julia/stdlib/v1.0/Serialization/src/Serialization.jl:711\ndeserialize_msg at /home/conda/feedstock_root/build_artifacts/julia_1548684429855/work/usr/share/julia/stdlib/v1.0/Distributed/src/messages.jl:99\n#invokelatest#1 at ./essentials.jl:697 [inlined]\ninvokelatest at ./essentials.jl:696 [inlined]\nmessage_handler_loop at /home/conda/feedstock_root/build_artifacts/julia_1548684429855/work/usr/share/julia/stdlib/v1.0/Distributed/src/process_messages.jl:160\nprocess_tcp_streams at /home/conda/feedstock_root/build_artifacts/julia_1548684429855/work/usr/share/julia/stdlib/v1.0/Distributed/src/process_messages.jl:117\n#105 at ./task.jl:259",
     "output_type": "error",
     "traceback": [
      "On worker 34:\nUndefVarError: ##197#198 not defined\ndeserialize_datatype at /home/conda/feedstock_root/build_artifacts/julia_1548684429855/work/usr/share/julia/stdlib/v1.0/Serialization/src/Serialization.jl:1095\nhandle_deserialize at /home/conda/feedstock_root/build_artifacts/julia_1548684429855/work/usr/share/julia/stdlib/v1.0/Serialization/src/Serialization.jl:751\ndeserialize at /home/conda/feedstock_root/build_artifacts/julia_1548684429855/work/usr/share/julia/stdlib/v1.0/Serialization/src/Serialization.jl:711\ndeserialize_datatype at /home/conda/feedstock_root/build_artifacts/julia_1548684429855/work/usr/share/julia/stdlib/v1.0/Serialization/src/Serialization.jl:1119\nhandle_deserialize at /home/conda/feedstock_root/build_artifacts/julia_1548684429855/work/usr/share/julia/stdlib/v1.0/Serialization/src/Serialization.jl:751\ndeserialize at /home/conda/feedstock_root/build_artifacts/julia_1548684429855/work/usr/share/julia/stdlib/v1.0/Serialization/src/Serialization.jl:711\nhandle_deserialize at /home/conda/feedstock_root/build_artifacts/julia_1548684429855/work/usr/share/julia/stdlib/v1.0/Serialization/src/Serialization.jl:758\ndeserialize at /home/conda/feedstock_root/build_artifacts/julia_1548684429855/work/usr/share/julia/stdlib/v1.0/Serialization/src/Serialization.jl:711\ndeserialize_msg at /home/conda/feedstock_root/build_artifacts/julia_1548684429855/work/usr/share/julia/stdlib/v1.0/Distributed/src/messages.jl:99\n#invokelatest#1 at ./essentials.jl:697 [inlined]\ninvokelatest at ./essentials.jl:696 [inlined]\nmessage_handler_loop at /home/conda/feedstock_root/build_artifacts/julia_1548684429855/work/usr/share/julia/stdlib/v1.0/Distributed/src/process_messages.jl:160\nprocess_tcp_streams at /home/conda/feedstock_root/build_artifacts/julia_1548684429855/work/usr/share/julia/stdlib/v1.0/Distributed/src/process_messages.jl:117\n#105 at ./task.jl:259",
      "",
      "Stacktrace:",
      " [1] (::getfield(Base, Symbol(\"##682#684\")))(::Task) at ./asyncmap.jl:178",
      " [2] foreach(::getfield(Base, Symbol(\"##682#684\")), ::Array{Any,1}) at ./abstractarray.jl:1835",
      " [3] maptwice(::Function, ::Channel{Any}, ::Array{Any,1}, ::Base.Iterators.Zip{Array{Float64,1},Base.Iterators.Zip{Array{Array{Float64,1},1},Base.Iterators.Zip2{Array{Array{Float64,1},1},Array{Int64,1}}}}) at ./asyncmap.jl:178",
      " [4] #async_usemap#667 at ./asyncmap.jl:154 [inlined]",
      " [5] #async_usemap at ./none:0 [inlined]",
      " [6] #asyncmap#666 at ./asyncmap.jl:81 [inlined]",
      " [7] #asyncmap at ./none:0 [inlined]",
      " [8] #pmap#215(::Bool, ::Int64, ::Nothing, ::Array{Any,1}, ::Nothing, ::Function, ::Function, ::WorkerPool, ::Base.Iterators.Zip{Array{Float64,1},Base.Iterators.Zip{Array{Array{Float64,1},1},Base.Iterators.Zip2{Array{Array{Float64,1},1},Array{Int64,1}}}}) at /home/conda/feedstock_root/build_artifacts/julia_1548684429855/work/usr/share/julia/stdlib/v1.0/Distributed/src/pmap.jl:126",
      " [9] pmap(::Function, ::WorkerPool, ::Base.Iterators.Zip{Array{Float64,1},Base.Iterators.Zip{Array{Array{Float64,1},1},Base.Iterators.Zip2{Array{Array{Float64,1},1},Array{Int64,1}}}}) at /home/conda/feedstock_root/build_artifacts/julia_1548684429855/work/usr/share/julia/stdlib/v1.0/Distributed/src/pmap.jl:101",
      " [10] #pmap#225(::Base.Iterators.Pairs{Union{},Union{},Tuple{},NamedTuple{(),Tuple{}}}, ::Function, ::Function, ::Base.Iterators.Zip{Array{Float64,1},Base.Iterators.Zip{Array{Array{Float64,1},1},Base.Iterators.Zip2{Array{Array{Float64,1},1},Array{Int64,1}}}}) at /home/conda/feedstock_root/build_artifacts/julia_1548684429855/work/usr/share/julia/stdlib/v1.0/Distributed/src/pmap.jl:156",
      " [11] pmap(::Function, ::Base.Iterators.Zip{Array{Float64,1},Base.Iterators.Zip{Array{Array{Float64,1},1},Base.Iterators.Zip2{Array{Array{Float64,1},1},Array{Int64,1}}}}) at /home/conda/feedstock_root/build_artifacts/julia_1548684429855/work/usr/share/julia/stdlib/v1.0/Distributed/src/pmap.jl:156",
      " [12] #pmap#226(::Base.Iterators.Pairs{Union{},Union{},Tuple{},NamedTuple{(),Tuple{}}}, ::Function, ::Function, ::Array{Float64,1}, ::Array{Array{Float64,1},1}, ::Vararg{Any,N} where N) at /home/conda/feedstock_root/build_artifacts/julia_1548684429855/work/usr/share/julia/stdlib/v1.0/Distributed/src/pmap.jl:157",
      " [13] pmap(::Function, ::Array{Float64,1}, ::Array{Array{Float64,1},1}, ::Array{Array{Float64,1},1}, ::Vararg{Any,N} where N) at /home/conda/feedstock_root/build_artifacts/julia_1548684429855/work/usr/share/julia/stdlib/v1.0/Distributed/src/pmap.jl:157",
      " [14] #sampled_dataset!#196(::Float64, ::Int64, ::Int64, ::Function, ::Dict{Any,Any}, ::Array{Float64,1}, ::Array{Float64,1}) at /mnt/bucket/people/briandd/Projects/pulse_input_DDM.jl/src/sample_model_functions.jl:110",
      " [15] (::getfield(pulse_input_DDM, Symbol(\"#kw##sampled_dataset!\")))(::NamedTuple{(:num_reps, :rng),Tuple{Int64,Int64}}, ::typeof(pulse_input_DDM.sampled_dataset!), ::Dict{Any,Any}, ::Array{Float64,1}, ::Array{Float64,1}) at ./none:0",
      " [16] top-level scope at In[21]:1"
     ]
    }
   ],
   "source": [
    "#simulate choices from the model, given the generative parameters\n",
    "pulse_input_DDM.sampled_dataset!(data, pz_gen[\"generative\"], pd_gen[\"generative\"]; num_reps=1, rng=4);"
   ]
  },
  {
   "cell_type": "code",
   "execution_count": 8,
   "metadata": {},
   "outputs": [
    {
     "ename": "KeyError",
     "evalue": "KeyError: key \"pokedR\" not found",
     "output_type": "error",
     "traceback": [
      "KeyError: key \"pokedR\" not found",
      "",
      "Stacktrace:",
      " [1] #LL_all_trials#93(::Int64, ::Float64, ::Bool, ::Function, ::Array{Float64,1}, ::Array{Float64,1}, ::Dict{Any,Any}) at ./dict.jl:478",
      " [2] #LL_all_trials at ./none:0 [inlined]",
      " [3] #compute_LL#149(::Float64, ::Int64, ::Function, ::Array{Float64,1}, ::Array{Float64,1}, ::Dict{Any,Any}) at /mnt/bucket/people/briandd/Projects/pulse_input_DDM.jl/src/wrapper_functions.jl:315",
      " [4] compute_LL(::Array{Float64,1}, ::Array{Float64,1}, ::Dict{Any,Any}) at /mnt/bucket/people/briandd/Projects/pulse_input_DDM.jl/src/wrapper_functions.jl:315",
      " [5] top-level scope at In[8]:1"
     ]
    }
   ],
   "source": [
    "#compute the likelihood of the data, given the generative parameters\n",
    "compute_LL(pz_gen[\"generative\"], pd_gen[\"generative\"],data)"
   ]
  },
  {
   "cell_type": "code",
   "execution_count": null,
   "metadata": {},
   "outputs": [],
   "source": [
    "#find the ML parameters with gradient descent\n",
    "@time pz_gen, pd_gen, = optimize_model(pz_gen, pd_gen, data)"
   ]
  },
  {
   "cell_type": "code",
   "execution_count": null,
   "metadata": {},
   "outputs": [],
   "source": [
    "#compute the Hessian of the LL landscape, to compute confidence intervals on the parameters\n",
    "compute_H_CI(pz_gen, pd_gen, data, dt)"
   ]
  },
  {
   "cell_type": "code",
   "execution_count": null,
   "metadata": {},
   "outputs": [],
   "source": [
    "#identify which ML parameters have generative parameters within the CI \n",
    "pz_gen[:within_bounds] = (pz_gen[:CI_minus] .< pz_gen[:generative]) .& (pz_gen[:CI_plus] .> pz_gen[:generative])\n",
    "pd_gen[:within_bounds] = (pd_gen[:CI_minus] .< pd_gen[:generative]) .& (pd_gen[:CI_plus] .> pd_gen[:generative]);"
   ]
  },
  {
   "cell_type": "code",
   "execution_count": null,
   "metadata": {},
   "outputs": [],
   "source": [
    "DataFrames.DataFrame(pz_gen)"
   ]
  },
  {
   "cell_type": "code",
   "execution_count": null,
   "metadata": {},
   "outputs": [],
   "source": [
    "pd_gen"
   ]
  },
  {
   "cell_type": "code",
   "execution_count": null,
   "metadata": {},
   "outputs": [],
   "source": [
    "#sample data from the model using the ML parameters\n",
    "sampled_choices = pmap((T,L,R) -> sample_model(T,L,R,pz_gen[:final],pd_gen[:final]),\n",
    "    data[\"T\"],data[\"leftbups\"],data[\"rightbups\"])\n",
    "\n",
    "#compute the final click difference, which will dictate the correct choice\n",
    "ΔLR = map((nT,L,R)->diffLR(nT,L,R,dt),data[\"nT\"],data[\"leftbups\"],data[\"rightbups\"])\n",
    "ΔLR = map(x-> x[end], ΔLR);"
   ]
  },
  {
   "cell_type": "code",
   "execution_count": null,
   "metadata": {},
   "outputs": [],
   "source": [
    "#bin the real choices and the sampled choices\n",
    "nbins = 15;\n",
    "conds,qcut_bins = qcut(ΔLR,nbins,labels=false,retbins=true);\n",
    "conds = conds .+ 1;\n",
    "\n",
    "frac_choice_sampled = fill!(Vector{Float64}(undef,nbins),NaN)\n",
    "frac_choice = fill!(Vector{Float64}(undef,nbins),NaN)\n",
    "for i = 1:nbins\n",
    "    frac_choice_sampled[i] = mean(sampled_choices[conds .== i])\n",
    "    frac_choice[i] = mean(data[\"pokedR\"][conds .== i])\n",
    "end"
   ]
  },
  {
   "cell_type": "code",
   "execution_count": null,
   "metadata": {
    "scrolled": true
   },
   "outputs": [],
   "source": [
    "#fit a GLM to the real choices and the simulated choices\n",
    "GLM_dataframe = DataFrames.DataFrame(X= ΔLR, Y = data[\"pokedR\"])\n",
    "GLM_data = glm(@formula(Y ~ X), GLM_dataframe, Binomial(), LogitLink())\n",
    "GLM_samplesframe = DataFrames.DataFrame(X= ΔLR, Y = sampled_choices)\n",
    "GLM_samples = glm(@formula(Y ~ X), GLM_samplesframe, Binomial(), LogitLink())"
   ]
  },
  {
   "cell_type": "code",
   "execution_count": null,
   "metadata": {},
   "outputs": [],
   "source": [
    "fig = figure(figsize=(6,6))\n",
    "ax = subplot(111)\n",
    "\n",
    "scatter(qcut_bins[1:end-1] + diff(qcut_bins)/2, frac_choice, color=\"red\", label=\"data\")\n",
    "scatter(qcut_bins[1:end-1] + diff(qcut_bins)/2, frac_choice_sampled, color=\"grey\", label=\"sampled\")\n",
    "\n",
    "PyPlot.plot(sort(GLM_dataframe[:X]), sort(predict(GLM_data)), color=\"red\")\n",
    "PyPlot.plot(sort(GLM_samplesframe[:X]), sort(predict(GLM_samples)), color=\"grey\")\n",
    "\n",
    "ylabel(\"% poked R\")\n",
    "xlabel(L\"\\Delta{LR}\")\n",
    "ax[:spines][\"top\"][:set_color](\"none\") # Remove the top axis boundary\n",
    "ax[:spines][\"right\"][:set_color](\"none\") # Remove the top axis boundary\n",
    "legend()"
   ]
  },
  {
   "cell_type": "markdown",
   "metadata": {},
   "source": [
    "## fit real data"
   ]
  },
  {
   "cell_type": "code",
   "execution_count": null,
   "metadata": {},
   "outputs": [],
   "source": [
    "path = \"/mnt/bucket/labs/brody/vdtang/P055_processed\"\n",
    "ratnames=[\"P055\"]\n",
    "sessids=[[17061800,18041700,16052600,16070500,16111700,18010300,18022600,17122200,\n",
    "        17081200,17092600,17051900,18030500,17011800,18012200,17011500,17062500,\n",
    "        17112700,18032700,16082200,18060800,18032500,17082900,17080500,17081000,\n",
    "        17052300,17090800,17090900,18041500,18040500,17122000]];"
   ]
  },
  {
   "cell_type": "code",
   "execution_count": null,
   "metadata": {},
   "outputs": [],
   "source": [
    "data = aggregate_choice_data(path, sessids, ratnames, dt)"
   ]
  },
  {
   "cell_type": "markdown",
   "metadata": {},
   "source": [
    "## saving things"
   ]
  },
  {
   "cell_type": "code",
   "execution_count": null,
   "metadata": {},
   "outputs": [],
   "source": [
    "JLD2.@save \"/usr/people/briandd/Projects/pulse_input_DDM.jl/data/results/marino.jld\" pz pd pzF pdF"
   ]
  }
 ],
 "metadata": {
  "anaconda-cloud": {},
  "kernelspec": {
   "display_name": "Julia 1.0.3",
   "language": "julia",
   "name": "julia-1.0"
  },
  "language_info": {
   "file_extension": ".jl",
   "mimetype": "application/julia",
   "name": "julia",
   "version": "1.0.3"
  }
 },
 "nbformat": 4,
 "nbformat_minor": 2
}
