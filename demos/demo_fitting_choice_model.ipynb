{
 "cells": [
  {
   "cell_type": "markdown",
   "metadata": {},
   "source": [
    "## Demo notebook for fitting the model of _Brunton et. al. (2013)_"
   ]
  },
  {
   "cell_type": "markdown",
   "metadata": {},
   "source": [
    "This is some boilerplate, for loading packages necessary for running the notebook"
   ]
  },
  {
   "cell_type": "code",
   "execution_count": 1,
   "metadata": {},
   "outputs": [],
   "source": [
    "using Distributed\n",
    "#addprocs(44);\n",
    "addprocs(4);"
   ]
  },
  {
   "cell_type": "code",
   "execution_count": 2,
   "metadata": {
    "scrolled": true
   },
   "outputs": [
    {
     "name": "stderr",
     "output_type": "stream",
     "text": [
      "┌ Info: Recompiling stale cache file /Users/briandepasquale/.julia/compiled/v1.1/pulse_input_DDM/m8WoA.ji for pulse_input_DDM [c2542da2-1f7d-11e9-2506-87691095ebb2]\n",
      "└ @ Base loading.jl:1184\n"
     ]
    },
    {
     "name": "stdout",
     "output_type": "stream",
     "text": [
      "      From worker 2:\t┌ Warning: The call to compilecache failed to create a usable precompiled cache file for JLD [4138dd39-2aa7-5051-a626-17a0bb65d9c8]\n",
      "      From worker 2:\t│   exception = Required dependency HDF5 [f67ccb44-e63f-5c2f-98bd-6dc0ccc4ba2f] failed to load from a cache file.\n",
      "      From worker 2:\t└ @ Base loading.jl:969\n",
      "      From worker 4:\t┌ Warning: The call to compilecache failed to create a usable precompiled cache file for JLD [4138dd39-2aa7-5051-a626-17a0bb65d9c8]\n",
      "      From worker 4:\t│   exception = Required dependency HDF5 [f67ccb44-e63f-5c2f-98bd-6dc0ccc4ba2f] failed to load from a cache file.\n",
      "      From worker 4:\t└ @ Base loading.jl:969\n",
      "      From worker 3:\t┌ Warning: The call to compilecache failed to create a usable precompiled cache file for DataFrames [a93c6f00-e57d-5684-b7b6-d8193f3e46c0]\n",
      "      From worker 3:\t│   exception = Required dependency Tables [bd369af6-aec1-5ad0-b16a-f7cc5008161c] failed to load from a cache file.\n",
      "      From worker 3:\t└ @ Base loading.jl:969\n",
      "      From worker 5:\t┌ Warning: The call to compilecache failed to create a usable precompiled cache file for DataFrames [a93c6f00-e57d-5684-b7b6-d8193f3e46c0]\n",
      "      From worker 5:\t│   exception = Required dependency Tables [bd369af6-aec1-5ad0-b16a-f7cc5008161c] failed to load from a cache file.\n",
      "      From worker 5:\t└ @ Base loading.jl:969\n",
      "      From worker 4:\t┌ Warning: The call to compilecache failed to create a usable precompiled cache file for ROCAnalysis [f535d66d-59bb-5153-8d2b-ef0a426c6aff]\n",
      "      From worker 4:\t│   exception = Wrong number of entries in module list.\n",
      "      From worker 4:\t└ @ Base loading.jl:969\n",
      "      From worker 2:\t┌ Warning: The call to compilecache failed to create a usable precompiled cache file for ROCAnalysis [f535d66d-59bb-5153-8d2b-ef0a426c6aff]\n",
      "      From worker 2:\t│   exception = Wrong number of entries in module list.\n",
      "      From worker 2:\t└ @ Base loading.jl:969\n"
     ]
    },
    {
     "name": "stderr",
     "output_type": "stream",
     "text": [
      "┌ Warning: The call to compilecache failed to create a usable precompiled cache file for pulse_input_DDM [c2542da2-1f7d-11e9-2506-87691095ebb2]\n",
      "│   exception = Required dependency MAT [23992714-dd62-5051-b70f-ba57cb901cac] failed to load from a cache file.\n",
      "└ @ Base loading.jl:969\n",
      "┌ Warning: The call to compilecache failed to create a usable precompiled cache file for pulse_input_DDM [c2542da2-1f7d-11e9-2506-87691095ebb2]\n",
      "│   exception = Required dependency MAT [23992714-dd62-5051-b70f-ba57cb901cac] failed to load from a cache file.\n",
      "└ @ Base loading.jl:969\n",
      "┌ Warning: The call to compilecache failed to create a usable precompiled cache file for pulse_input_DDM [c2542da2-1f7d-11e9-2506-87691095ebb2]\n",
      "│   exception = Invalid input in module list: expected MAT.\n",
      "└ @ Base loading.jl:969\n",
      "┌ Warning: The call to compilecache failed to create a usable precompiled cache file for pulse_input_DDM [c2542da2-1f7d-11e9-2506-87691095ebb2]\n",
      "│   exception = Invalid input in module list: expected MAT.\n",
      "└ @ Base loading.jl:969\n",
      "┌ Warning: Replacing module `DataFrames`\n",
      "└ @ Base loading.jl:878\n",
      "┌ Warning: Replacing module `DataFrames`\n",
      "└ @ Base loading.jl:878\n"
     ]
    }
   ],
   "source": [
    "#@everywhere using pulse_input_DDM\n",
    "using pulse_input_DDM"
   ]
  },
  {
   "cell_type": "code",
   "execution_count": 3,
   "metadata": {
    "scrolled": true
   },
   "outputs": [
    {
     "name": "stderr",
     "output_type": "stream",
     "text": [
      "┌ Info: Recompiling stale cache file /Users/briandepasquale/.julia/compiled/v1.1/GLM/6OREG.ji for GLM [38e38edf-8417-5370-95a0-9cbb8c7f171a]\n",
      "└ @ Base loading.jl:1184\n",
      "┌ Warning: Module Distributions with build ID 222722722110496 is missing from the cache.\n",
      "│ This may mean Distributions [31c24e10-a181-5473-b8eb-7969acd0382f] does not support precompilation but is imported by a module that does.\n",
      "└ @ Base loading.jl:947\n",
      "┌ Info: Recompiling stale cache file /Users/briandepasquale/.julia/compiled/v1.1/StatsModels/4MFnV.ji for StatsModels [3eaba693-59b7-5ba5-a881-562e759f1c8d]\n",
      "└ @ Base loading.jl:1184\n",
      "┌ Warning: Module DataFrames with build ID 222745133468364 is missing from the cache.\n",
      "│ This may mean DataFrames [a93c6f00-e57d-5684-b7b6-d8193f3e46c0] does not support precompilation but is imported by a module that does.\n",
      "└ @ Base loading.jl:947\n"
     ]
    },
    {
     "name": "stdout",
     "output_type": "stream",
     "text": [
      "      From worker 5:\t┌ Warning: Module DataFrames with build ID 222821805177773 is missing from the cache.\n",
      "      From worker 5:\t│ This may mean DataFrames [a93c6f00-e57d-5684-b7b6-d8193f3e46c0] does not support precompilation but is imported by a module that does.\n",
      "      From worker 5:\t└ @ Base loading.jl:947\n",
      "      From worker 3:\t┌ Warning: Module DataFrames with build ID 222821805177773 is missing from the cache.\n",
      "      From worker 3:\t│ This may mean DataFrames [a93c6f00-e57d-5684-b7b6-d8193f3e46c0] does not support precompilation but is imported by a module that does.\n",
      "      From worker 3:\t└ @ Base loading.jl:947\n",
      "      From worker 2:\t┌ Warning: Module DataFrames with build ID 222821805177773 is missing from the cache.\n",
      "      From worker 2:\t│ This may mean DataFrames [a93c6f00-e57d-5684-b7b6-d8193f3e46c0] does not support precompilation but is imported by a module that does.\n",
      "      From worker 2:\t└ @ Base loading.jl:947\n",
      "      From worker 4:\t┌ Warning: Module DataFrames with build ID 222821805177773 is missing from the cache.\n",
      "      From worker 4:\t│ This may mean DataFrames [a93c6f00-e57d-5684-b7b6-d8193f3e46c0] does not support precompilation but is imported by a module that does.\n",
      "      From worker 4:\t└ @ Base loading.jl:947\n",
      "      From worker 5:\t┌ Warning: Module DataFrames with build ID 222821805177773 is missing from the cache.\n",
      "      From worker 5:\t│ This may mean DataFrames [a93c6f00-e57d-5684-b7b6-d8193f3e46c0] does not support precompilation but is imported by a module that does.\n",
      "      From worker 5:\t└ @ Base loading.jl:947\n",
      "      From worker 3:\t┌ Warning: Module DataFrames with build ID 222821805177773 is missing from the cache.\n",
      "      From worker 3:\t│ This may mean DataFrames [a93c6f00-e57d-5684-b7b6-d8193f3e46c0] does not support precompilation but is imported by a module that does.\n",
      "      From worker 3:\t└ @ Base loading.jl:947\n",
      "      From worker 2:\t┌ Warning: Module DataFrames with build ID 222821805177773 is missing from the cache.\n",
      "      From worker 2:\t│ This may mean DataFrames [a93c6f00-e57d-5684-b7b6-d8193f3e46c0] does not support precompilation but is imported by a module that does.\n",
      "      From worker 2:\t└ @ Base loading.jl:947\n",
      "      From worker 4:\t┌ Warning: Module DataFrames with build ID 222821805177773 is missing from the cache.\n",
      "      From worker 4:\t│ This may mean DataFrames [a93c6f00-e57d-5684-b7b6-d8193f3e46c0] does not support precompilation but is imported by a module that does.\n",
      "      From worker 4:\t└ @ Base loading.jl:947\n",
      "      From worker 5:\t┌ Warning: Module DataFrames with build ID 222821805177773 is missing from the cache.\n",
      "      From worker 5:\t│ This may mean DataFrames [a93c6f00-e57d-5684-b7b6-d8193f3e46c0] does not support precompilation but is imported by a module that does.\n",
      "      From worker 5:\t└ @ Base loading.jl:947\n",
      "      From worker 3:\t┌ Warning: Module DataFrames with build ID 222821805177773 is missing from the cache.\n",
      "      From worker 3:\t│ This may mean DataFrames [a93c6f00-e57d-5684-b7b6-d8193f3e46c0] does not support precompilation but is imported by a module that does.\n",
      "      From worker 3:\t└ @ Base loading.jl:947\n",
      "      From worker 2:\t┌ Warning: Module DataFrames with build ID 222821805177773 is missing from the cache.\n",
      "      From worker 2:\t│ This may mean DataFrames [a93c6f00-e57d-5684-b7b6-d8193f3e46c0] does not support precompilation but is imported by a module that does.\n",
      "      From worker 2:\t└ @ Base loading.jl:947\n",
      "      From worker 4:\t┌ Warning: Module DataFrames with build ID 222821805177773 is missing from the cache.\n",
      "      From worker 4:\t│ This may mean DataFrames [a93c6f00-e57d-5684-b7b6-d8193f3e46c0] does not support precompilation but is imported by a module that does.\n",
      "      From worker 4:\t└ @ Base loading.jl:947\n"
     ]
    }
   ],
   "source": [
    "using PyPlot, JLD2, DataFrames\n",
    "using LinearAlgebra, Pandas, GLM"
   ]
  },
  {
   "cell_type": "markdown",
   "metadata": {},
   "source": [
    "Define dictionaries with some generative parameters, a Boolean vector of which ones to fit, and initial values."
   ]
  },
  {
   "cell_type": "code",
   "execution_count": 4,
   "metadata": {},
   "outputs": [],
   "source": [
    "#parameters of the latent model\n",
    "pz_gen = Dict(\"generative\" => vcat(1.,13.,-0.5,10.,1.,0.4,0.02), \n",
    "    \"name\" => vcat(\"σ_i\",\"B\", \"λ\", \"σ_a\",\"σ_s\",\"ϕ\",\"τ_ϕ\"),\n",
    "    \"fit\" => vcat(trues(7)),\n",
    "    \"initial\" => vcat(2.,15.,-5.,100.,2.,0.2,0.005),\n",
    "    \"lb\" => [eps(), 4., -5., eps(), eps(), eps(), eps()],\n",
    "    \"ub\" => [10., 100, 5., 800., 40., 2., 10.])\n",
    "\n",
    "#parameters for the choice observation\n",
    "pd_gen = Dict(\"generative\" => vcat(0.1,0.1), \n",
    "    \"name\" => vcat(\"bias\",\"lapse\"), \"fit\" => trues(2), \n",
    "    \"initial\" => vcat(0.,0.5));"
   ]
  },
  {
   "cell_type": "markdown",
   "metadata": {},
   "source": [
    "## simulate choices from a model, to check that generative parameters can be found"
   ]
  },
  {
   "cell_type": "code",
   "execution_count": 5,
   "metadata": {},
   "outputs": [
    {
     "data": {
      "text/plain": [
       "(1000, 0.01)"
      ]
     },
     "execution_count": 5,
     "metadata": {},
     "output_type": "execute_result"
    }
   ],
   "source": [
    "#define how many trials to generate data from and the time binning scale (in seconds)\n",
    "ntrials,dt = Int(0.1e4), 1e-2"
   ]
  },
  {
   "cell_type": "code",
   "execution_count": 6,
   "metadata": {},
   "outputs": [],
   "source": [
    "#generate some simulated clicks times and trial durations\n",
    "data = pulse_input_DDM.sample_clicks(ntrials,dt);"
   ]
  },
  {
   "cell_type": "code",
   "execution_count": 7,
   "metadata": {},
   "outputs": [],
   "source": [
    "#simulate choices from the model, given the generative parameters\n",
    "pulse_input_DDM.sampled_dataset!(data, pz_gen[\"generative\"], pd_gen[\"generative\"]; num_reps=1, rng=4);"
   ]
  },
  {
   "cell_type": "code",
   "execution_count": 8,
   "metadata": {},
   "outputs": [
    {
     "data": {
      "text/plain": [
       "-402.0625068034104"
      ]
     },
     "execution_count": 8,
     "metadata": {},
     "output_type": "execute_result"
    }
   ],
   "source": [
    "#compute the likelihood of the data, given the generative parameters\n",
    "compute_LL(pz_gen[\"generative\"], pd_gen[\"generative\"],data)"
   ]
  },
  {
   "cell_type": "code",
   "execution_count": null,
   "metadata": {},
   "outputs": [
    {
     "name": "stderr",
     "output_type": "stream",
     "text": [
      "┌ Warning: some parameter(s) at lower bound. bumped it (them) up 1/4 from the lower bound.\n",
      "└ @ pulse_input_DDM /Users/briandepasquale/Projects/inProgress/pulse_input_DDM.jl/src/wrapper_functions.jl:66\n"
     ]
    },
    {
     "name": "stdout",
     "output_type": "stream",
     "text": [
      "Iter     Function value   Gradient norm \n",
      "     0     4.928052e+02     1.508580e+02\n",
      "     1     4.076504e+02     1.456861e+01\n",
      "     2     4.045523e+02     1.454315e+01\n",
      "     3     4.023401e+02     6.905086e+00\n",
      "     4     3.991265e+02     4.025686e+00\n",
      "     5     3.986615e+02     3.673119e+00\n",
      "     6     3.984288e+02     5.499980e+00\n",
      "     7     3.983185e+02     3.437827e+00\n",
      "     8     3.982588e+02     1.381193e+00\n",
      "     9     3.978124e+02     5.395541e+00\n",
      "    10     3.976176e+02     4.885572e+00\n",
      "    11     3.971240e+02     2.923723e+00\n",
      "    12     3.968307e+02     1.792665e+00\n",
      "    13     3.966490e+02     5.467875e+00\n",
      "    14     3.966379e+02     3.837457e+00\n",
      "    15     3.964539e+02     4.060813e+00\n",
      "    16     3.963729e+02     4.051075e+00\n",
      "    17     3.962524e+02     1.435666e+00\n",
      "    18     3.961327e+02     6.472870e-01\n",
      "    19     3.960757e+02     7.332553e-01\n",
      "    20     3.960404e+02     8.336341e-01\n",
      "    21     3.960058e+02     3.857234e-01\n"
     ]
    }
   ],
   "source": [
    "#find the ML parameters with gradient descent\n",
    "@time pz_gen, pd_gen, = optimize_model(pz_gen, pd_gen, data)"
   ]
  },
  {
   "cell_type": "code",
   "execution_count": null,
   "metadata": {},
   "outputs": [],
   "source": [
    "#compute the Hessian of the LL landscape, to compute confidence intervals on the parameters\n",
    "compute_H_CI(pz_gen, pd_gen, data, dt)"
   ]
  },
  {
   "cell_type": "code",
   "execution_count": null,
   "metadata": {},
   "outputs": [],
   "source": [
    "#identify which ML parameters have generative parameters within the CI \n",
    "pz_gen[:within_bounds] = (pz_gen[:CI_minus] .< pz_gen[:generative]) .& (pz_gen[:CI_plus] .> pz_gen[:generative])\n",
    "pd_gen[:within_bounds] = (pd_gen[:CI_minus] .< pd_gen[:generative]) .& (pd_gen[:CI_plus] .> pd_gen[:generative]);"
   ]
  },
  {
   "cell_type": "code",
   "execution_count": null,
   "metadata": {},
   "outputs": [],
   "source": [
    "DataFrames.DataFrame(pz_gen)"
   ]
  },
  {
   "cell_type": "code",
   "execution_count": null,
   "metadata": {},
   "outputs": [],
   "source": [
    "pd_gen"
   ]
  },
  {
   "cell_type": "code",
   "execution_count": null,
   "metadata": {},
   "outputs": [],
   "source": [
    "#sample data from the model using the ML parameters\n",
    "sampled_choices = pmap((T,L,R) -> sample_model(T,L,R,pz_gen[:final],pd_gen[:final]),\n",
    "    data[\"T\"],data[\"leftbups\"],data[\"rightbups\"])\n",
    "\n",
    "#compute the final click difference, which will dictate the correct choice\n",
    "ΔLR = map((nT,L,R)->diffLR(nT,L,R,dt),data[\"nT\"],data[\"leftbups\"],data[\"rightbups\"])\n",
    "ΔLR = map(x-> x[end], ΔLR);"
   ]
  },
  {
   "cell_type": "code",
   "execution_count": null,
   "metadata": {},
   "outputs": [],
   "source": [
    "#bin the real choices and the sampled choices\n",
    "nbins = 15;\n",
    "conds,qcut_bins = qcut(ΔLR,nbins,labels=false,retbins=true);\n",
    "conds = conds .+ 1;\n",
    "\n",
    "frac_choice_sampled = fill!(Vector{Float64}(undef,nbins),NaN)\n",
    "frac_choice = fill!(Vector{Float64}(undef,nbins),NaN)\n",
    "for i = 1:nbins\n",
    "    frac_choice_sampled[i] = mean(sampled_choices[conds .== i])\n",
    "    frac_choice[i] = mean(data[\"pokedR\"][conds .== i])\n",
    "end"
   ]
  },
  {
   "cell_type": "code",
   "execution_count": null,
   "metadata": {
    "scrolled": true
   },
   "outputs": [],
   "source": [
    "#fit a GLM to the real choices and the simulated choices\n",
    "GLM_dataframe = DataFrames.DataFrame(X= ΔLR, Y = data[\"pokedR\"])\n",
    "GLM_data = glm(@formula(Y ~ X), GLM_dataframe, Binomial(), LogitLink())\n",
    "GLM_samplesframe = DataFrames.DataFrame(X= ΔLR, Y = sampled_choices)\n",
    "GLM_samples = glm(@formula(Y ~ X), GLM_samplesframe, Binomial(), LogitLink())"
   ]
  },
  {
   "cell_type": "code",
   "execution_count": null,
   "metadata": {},
   "outputs": [],
   "source": [
    "fig = figure(figsize=(6,6))\n",
    "ax = subplot(111)\n",
    "\n",
    "scatter(qcut_bins[1:end-1] + diff(qcut_bins)/2, frac_choice, color=\"red\", label=\"data\")\n",
    "scatter(qcut_bins[1:end-1] + diff(qcut_bins)/2, frac_choice_sampled, color=\"grey\", label=\"sampled\")\n",
    "\n",
    "PyPlot.plot(sort(GLM_dataframe[:X]), sort(predict(GLM_data)), color=\"red\")\n",
    "PyPlot.plot(sort(GLM_samplesframe[:X]), sort(predict(GLM_samples)), color=\"grey\")\n",
    "\n",
    "ylabel(\"% poked R\")\n",
    "xlabel(L\"\\Delta{LR}\")\n",
    "ax[:spines][\"top\"][:set_color](\"none\") # Remove the top axis boundary\n",
    "ax[:spines][\"right\"][:set_color](\"none\") # Remove the top axis boundary\n",
    "legend()"
   ]
  },
  {
   "cell_type": "markdown",
   "metadata": {},
   "source": [
    "## fit real data"
   ]
  },
  {
   "cell_type": "code",
   "execution_count": null,
   "metadata": {},
   "outputs": [],
   "source": [
    "path = \"/mnt/bucket/labs/brody/vdtang/P055_processed\"\n",
    "ratnames=[\"P055\"]\n",
    "sessids=[[17061800,18041700,16052600,16070500,16111700,18010300,18022600,17122200,\n",
    "        17081200,17092600,17051900,18030500,17011800,18012200,17011500,17062500,\n",
    "        17112700,18032700,16082200,18060800,18032500,17082900,17080500,17081000,\n",
    "        17052300,17090800,17090900,18041500,18040500,17122000]];"
   ]
  },
  {
   "cell_type": "code",
   "execution_count": null,
   "metadata": {},
   "outputs": [],
   "source": [
    "data = aggregate_choice_data(path, sessids, ratnames, dt)"
   ]
  },
  {
   "cell_type": "markdown",
   "metadata": {},
   "source": [
    "## saving things"
   ]
  },
  {
   "cell_type": "code",
   "execution_count": null,
   "metadata": {},
   "outputs": [],
   "source": [
    "JLD2.@save \"/usr/people/briandd/Projects/pulse_input_DDM.jl/data/results/marino.jld\" pz pd pzF pdF"
   ]
  }
 ],
 "metadata": {
  "@webio": {
   "lastCommId": null,
   "lastKernelId": null
  },
  "anaconda-cloud": {},
  "kernelspec": {
   "display_name": "Julia 1.1.0",
   "language": "julia",
   "name": "julia-1.1"
  },
  "language_info": {
   "file_extension": ".jl",
   "mimetype": "application/julia",
   "name": "julia",
   "version": "1.1.0"
  }
 },
 "nbformat": 4,
 "nbformat_minor": 2
}
