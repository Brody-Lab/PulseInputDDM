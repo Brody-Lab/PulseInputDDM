{
 "cells": [
  {
   "cell_type": "code",
   "execution_count": 1,
   "metadata": {},
   "outputs": [],
   "source": [
    "using Distributed"
   ]
  },
  {
   "cell_type": "code",
   "execution_count": 2,
   "metadata": {},
   "outputs": [],
   "source": [
    "#addprocs(4);\n",
    "#@everywhere using Pkg; @everywhere Pkg.activate(\"/Users/briandepasquale/Projects/inProgress/pulse_input_DDM.jl\")\n",
    "\n",
    "addprocs(44);\n",
    "@everywhere using Pkg; @everywhere Pkg.activate(\"/usr/people/briandd/Projects/pulse_input_DDM.jl\")"
   ]
  },
  {
   "cell_type": "code",
   "execution_count": 3,
   "metadata": {},
   "outputs": [
    {
     "name": "stderr",
     "output_type": "stream",
     "text": [
      "┌ Info: Recompiling stale cache file /usr/people/briandd/.julia/compiled/v1.0/pulse_input_DDM/m8WoA.ji for pulse_input_DDM [c2542da2-1f7d-11e9-2506-87691095ebb2]\n",
      "└ @ Base loading.jl:1190\n"
     ]
    }
   ],
   "source": [
    "@everywhere using pulse_input_DDM"
   ]
  },
  {
   "cell_type": "markdown",
   "metadata": {},
   "source": [
    "## Compare against monte carlo simulation dt"
   ]
  },
  {
   "cell_type": "code",
   "execution_count": null,
   "metadata": {},
   "outputs": [],
   "source": [
    "#check that decimate on \\lambda0 isn't doing something horrible."
   ]
  },
  {
   "cell_type": "code",
   "execution_count": null,
   "metadata": {
    "scrolled": true
   },
   "outputs": [
    {
     "name": "stderr",
     "output_type": "stream",
     "text": [
      "┌ Warning: Linesearch failed, using alpha = 0.0 and exiting optimization.\n",
      "│ The linesearch exited with message:\n",
      "│ Linesearch failed to converge, reached maximum iterations 1000.\n",
      "└ @ Optim /usr/people/briandd/.julia/packages/Optim/Agd3B/src/utilities/perform_linesearch.jl:47\n",
      "┌ Warning: Linesearch failed, using alpha = 0.0 and exiting optimization.\n",
      "│ The linesearch exited with message:\n",
      "│ Linesearch failed to converge, reached maximum iterations 1000.\n",
      "└ @ Optim /usr/people/briandd/.julia/packages/Optim/Agd3B/src/utilities/perform_linesearch.jl:47\n",
      "┌ Warning: Linesearch failed, using alpha = 0.0 and exiting optimization.\n",
      "│ The linesearch exited with message:\n",
      "│ Linesearch failed to converge, reached maximum iterations 1000.\n",
      "└ @ Optim /usr/people/briandd/.julia/packages/Optim/Agd3B/src/utilities/perform_linesearch.jl:47\n",
      "┌ Warning: Linesearch failed, using alpha = 0.0 and exiting optimization.\n",
      "│ The linesearch exited with message:\n",
      "│ Linesearch failed to converge, reached maximum iterations 1000.\n",
      "└ @ Optim /usr/people/briandd/.julia/packages/Optim/Agd3B/src/utilities/perform_linesearch.jl:47\n",
      "┌ Warning: Linesearch failed, using alpha = 0.0 and exiting optimization.\n",
      "│ The linesearch exited with message:\n",
      "│ Linesearch failed to converge, reached maximum iterations 1000.\n",
      "└ @ Optim /usr/people/briandd/.julia/packages/Optim/Agd3B/src/utilities/perform_linesearch.jl:47\n",
      "┌ Warning: Linesearch failed, using alpha = 0.0 and exiting optimization.\n",
      "│ The linesearch exited with message:\n",
      "│ Linesearch failed to converge, reached maximum iterations 1000.\n",
      "└ @ Optim /usr/people/briandd/.julia/packages/Optim/Agd3B/src/utilities/perform_linesearch.jl:47\n",
      "┌ Warning: Linesearch failed, using alpha = 0.0 and exiting optimization.\n",
      "│ The linesearch exited with message:\n",
      "│ Linesearch failed to converge, reached maximum iterations 1000.\n",
      "└ @ Optim /usr/people/briandd/.julia/packages/Optim/Agd3B/src/utilities/perform_linesearch.jl:47\n"
     ]
    }
   ],
   "source": [
    "num_trials = map(i->[i], 100:500:4100)\n",
    "nsessions = ones(Int,length(num_trials))\n",
    "num_cells = map(i->[i], nsessions)\n",
    "\n",
    "output = map((x,y,z)-> pulse_input_DDM.generate_syn_data_fit_CI(x,y,z;dt=1e-4), \n",
    "    nsessions, num_cells, num_trials)\n",
    "pz, py = map(collect, zip(output...));"
   ]
  },
  {
   "cell_type": "code",
   "execution_count": null,
   "metadata": {},
   "outputs": [],
   "source": [
    "using PyPlot\n",
    "num_rows, num_cols = 1,5\n",
    "fig, ax = subplots(num_rows, num_cols, figsize=(9,3))\n",
    "param_str = [\"B\", \"λ\"]\n",
    "fs,lw,ms = 22,2,6\n",
    "\n",
    "for j in 1:2  \n",
    "\n",
    "    ax[j][:plot](num_trials, pz[1][\"generative\"][pz[1][\"name\"] .== param_str[j]][1] * ones(length(num_trials)))\n",
    "    ax[j][:set_xlabel](\"num trials\")\n",
    "    ax[j][:set_title](\"$(param_str[j])\")\n",
    "\n",
    "    for k = 1:length(num_trials)\n",
    "\n",
    "        x = pz[k][\"final\"][pz[k][\"name\"] .== param_str[j]]\n",
    "        yerr = cat(pz[k][\"final\"][pz[k][\"name\"] .== param_str[j]] - \n",
    "            pz[k][\"CI_minus\"][pz[k][\"name\"] .== param_str[j]],\n",
    "            pz[k][\"CI_plus\"][pz[k][\"name\"] .== param_str[j]] - \n",
    "            pz[k][\"final\"][pz[k][\"name\"] .== param_str[j]], dims=2)\n",
    "\n",
    "        ax[j][:errorbar](num_trials[k], x, yerr = yerr'*ones(1,1), fmt=\"o\", \n",
    "            elinewidth=lw, color = \"black\", markersize=ms)\n",
    "\n",
    "    end        \n",
    "end\n",
    "\n",
    "for j in 3:5  \n",
    "\n",
    "    ax[j][:plot](num_trials, py[1][\"generative\"][1][1][j-2] * ones(length(num_trials)))\n",
    "    ax[j][:set_xlabel](\"num trials\")\n",
    "\n",
    "    for k = 1:length(num_trials)\n",
    "\n",
    "        x = py[k][\"final\"][1][1][j-2]\n",
    "        yerr = cat(py[k][\"final\"][1][1][j-2] - \n",
    "            py[k][\"CI_minus\"][1][1][j-2],\n",
    "            py[k][\"CI_plus\"][1][1][j-2] - \n",
    "            py[k][\"final\"][1][1][j-2], dims=2)\n",
    "\n",
    "        ax[j][:errorbar](num_trials[k], x, yerr = yerr'*ones(1,1), fmt=\"o\", \n",
    "            elinewidth=lw, color = \"black\", markersize=ms)\n",
    "\n",
    "    end        \n",
    "end\n",
    "\n",
    "tight_layout()"
   ]
  },
  {
   "cell_type": "markdown",
   "metadata": {},
   "source": [
    "## Test noiseless model"
   ]
  },
  {
   "cell_type": "code",
   "execution_count": null,
   "metadata": {},
   "outputs": [],
   "source": [
    "nsessions = [1,2,3,4,5]\n",
    "output = map((x,y,z)-> pulse_input_DDM.generate_syn_data_fit_CI(x,y,z;dt=1e-2), \n",
    "    nsessions, \n",
    "    [1*ones(Int,n) for n in 1:length(nsessions)], \n",
    "    [100*ones(Int,n) for n in 1:length(nsessions)])\n",
    "pz, py = map(collect, zip(output...));"
   ]
  },
  {
   "cell_type": "code",
   "execution_count": null,
   "metadata": {},
   "outputs": [],
   "source": [
    "using PyPlot\n",
    "num_rows, num_cols = 1,2\n",
    "fig, ax = subplots(num_rows, num_cols, figsize=(9,3))\n",
    "param_str = [\"B\", \"λ\"]\n",
    "fs,lw,ms = 22,2,6\n",
    "\n",
    "for i in 1:1\n",
    "    for j in 1:num_cols  \n",
    "        \n",
    "        ax[j][:plot](0:6, pz[1][\"generative\"][pz[1][\"name\"] .== param_str[j]][1] * ones(7))\n",
    "        ax[j][:set_xlim](0,6)\n",
    "        ax[j][:set_xlabel](\"num sessions\")\n",
    "        ax[j][:set_title](\"$(param_str[j])\")\n",
    "        \n",
    "        for k = 1:length(pz)\n",
    "\n",
    "            x = pz[k][\"final\"][pz[k][\"name\"] .== param_str[j]]\n",
    "            yerr = cat(pz[k][\"final\"][pz[k][\"name\"] .== param_str[j]] - \n",
    "                pz[k][\"CI_minus\"][pz[k][\"name\"] .== param_str[j]],\n",
    "                pz[k][\"CI_plus\"][pz[k][\"name\"] .== param_str[j]] - \n",
    "                pz[k][\"final\"][pz[k][\"name\"] .== param_str[j]], dims=2)\n",
    "            #yerr[yerr .>= 1e4] .= 1e4\n",
    "\n",
    "            ax[j][:errorbar](k, x, yerr = yerr'*ones(1,1), fmt=\"o\", \n",
    "                elinewidth=lw, color = \"black\", markersize=ms)\n",
    "            \n",
    "        end        \n",
    "    end\n",
    "end\n",
    "\n",
    "tight_layout()"
   ]
  },
  {
   "cell_type": "code",
   "execution_count": null,
   "metadata": {},
   "outputs": [],
   "source": [
    "plot(pulse_input_DDM.f_py!([0.,10,80], collect(-8:0.1:8), \n",
    "        zeros(length(collect(-8:0.1:8))), f_str=\"softplus\"))"
   ]
  },
  {
   "cell_type": "markdown",
   "metadata": {},
   "source": [
    "## test stitching"
   ]
  },
  {
   "cell_type": "code",
   "execution_count": null,
   "metadata": {
    "scrolled": true
   },
   "outputs": [],
   "source": [
    "nsessions = [1,2,3,4,5,6,7,8]\n",
    "output = map((x,y,z)-> pulse_input_DDM.generate_syn_data_fit_CI(x,y,z;dt=1e-3,n=53), \n",
    "    nsessions, \n",
    "    [1*ones(Int,n) for n in 1:length(nsessions)], \n",
    "    [100*ones(Int,n) for n in 1:length(nsessions)])\n",
    "pz, py = map(collect, zip(output...));"
   ]
  },
  {
   "cell_type": "code",
   "execution_count": null,
   "metadata": {},
   "outputs": [],
   "source": [
    "using PyPlot\n",
    "num_rows, num_cols = 1,3\n",
    "fig, ax = subplots(num_rows, num_cols, figsize=(9,3))\n",
    "param_str = [\"B\", \"λ\", \"σ_a\"]\n",
    "fs,lw,ms = 22,2,6\n",
    "\n",
    "for i in 1:1\n",
    "    for j in 1:num_cols  \n",
    "        \n",
    "        ax[j][:plot](0:9, pz[1][\"generative\"][pz[1][\"name\"] .== param_str[j]][1] * ones(10))\n",
    "        ax[j][:set_xlim](0,9)\n",
    "        ax[j][:set_xlabel](\"num sessions\")\n",
    "        ax[j][:set_title](\"$(param_str[j])\")\n",
    "        \n",
    "        for k = 1:length(pz)\n",
    "\n",
    "            x = pz[k][\"final\"][pz[k][\"name\"] .== param_str[j]]\n",
    "            yerr = cat(pz[k][\"final\"][pz[k][\"name\"] .== param_str[j]] - \n",
    "                pz[k][\"CI_minus\"][pz[k][\"name\"] .== param_str[j]],\n",
    "                pz[k][\"CI_plus\"][pz[k][\"name\"] .== param_str[j]] - \n",
    "                pz[k][\"final\"][pz[k][\"name\"] .== param_str[j]], dims=2)\n",
    "            #yerr[yerr .>= 1e4] .= 1e4\n",
    "\n",
    "            ax[j][:errorbar](k, x, yerr = yerr'*ones(1,1), fmt=\"o\", \n",
    "                elinewidth=lw, color = \"black\", markersize=ms)\n",
    "            \n",
    "        end        \n",
    "    end\n",
    "end\n",
    "\n",
    "tight_layout()\n",
    "path=\"/usr/people/briandd/Projects/pulse_input_DDM.jl\"\n",
    "PyPlot.savefig(path*\"/data/results/working/stitching.png\")"
   ]
  },
  {
   "cell_type": "code",
   "execution_count": null,
   "metadata": {},
   "outputs": [],
   "source": [
    "using PyPlot\n",
    "num_rows, num_cols = 1,4\n",
    "fig, ax = subplots(num_rows, num_cols, figsize=(9,3))\n",
    "param_str = [\"B\", \"λ\", \"σ_a\",\"σ_s\"]\n",
    "fs,lw,ms = 22,2,6\n",
    "\n",
    "for i in 1:1\n",
    "    for j in 1:num_cols  \n",
    "        \n",
    "        ax[j][:plot](0:21, pz[1][\"generative\"][pz[1][\"name\"] .== param_str[j]][1] * ones(22))\n",
    "        ax[j][:set_xlim](0,21)\n",
    "        ax[j][:set_xlabel](\"num sessions\")\n",
    "        ax[j][:set_title](\"$(param_str[j])\")\n",
    "        \n",
    "        for k = 1:length(pz)\n",
    "\n",
    "            x = pz[k][\"final\"][pz[k][\"name\"] .== param_str[j]]\n",
    "            yerr = cat(pz[k][\"final\"][pz[k][\"name\"] .== param_str[j]] - \n",
    "                pz[k][\"CI_minus\"][pz[k][\"name\"] .== param_str[j]],\n",
    "                pz[k][\"CI_plus\"][pz[k][\"name\"] .== param_str[j]] - \n",
    "                pz[k][\"final\"][pz[k][\"name\"] .== param_str[j]], dims=2)\n",
    "            #yerr[yerr .>= 1e4] .= 1e4\n",
    "\n",
    "            ax[j][:errorbar](k, x, yerr = yerr'*ones(1,1), fmt=\"o\", \n",
    "                elinewidth=lw, color = \"black\", markersize=ms)\n",
    "            \n",
    "        end        \n",
    "    end\n",
    "end\n",
    "\n",
    "tight_layout()\n",
    "path=\"/usr/people/briandd/Projects/pulse_input_DDM.jl\"\n",
    "PyPlot.savefig(path*\"/data/results/working/stitching.png\")"
   ]
  }
 ],
 "metadata": {
  "@webio": {
   "lastCommId": null,
   "lastKernelId": null
  },
  "anaconda-cloud": {},
  "kernelspec": {
   "display_name": "Julia 1.0.3",
   "language": "julia",
   "name": "julia-1.0"
  },
  "language_info": {
   "file_extension": ".jl",
   "mimetype": "application/julia",
   "name": "julia",
   "version": "1.0.3"
  }
 },
 "nbformat": 4,
 "nbformat_minor": 2
}
