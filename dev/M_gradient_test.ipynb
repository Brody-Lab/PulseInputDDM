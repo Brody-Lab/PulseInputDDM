{
 "cells": [
  {
   "cell_type": "code",
   "execution_count": 1,
   "metadata": {},
   "outputs": [],
   "source": [
    "using ForwardDiff, pulse_input_DDM"
   ]
  },
  {
   "cell_type": "code",
   "execution_count": 2,
   "metadata": {},
   "outputs": [
    {
     "data": {
      "text/plain": [
       "(15.0, 53, 0.01, 40.0, -1.0)"
      ]
     },
     "execution_count": 2,
     "metadata": {},
     "output_type": "execute_result"
    }
   ],
   "source": [
    "B,n,dt,vara,lambda = 15.,53,1e-2,40.,-1."
   ]
  },
  {
   "cell_type": "code",
   "execution_count": 3,
   "metadata": {},
   "outputs": [
    {
     "data": {
      "text/plain": [
       "([-15.2941, -14.7059, -14.1176, -13.5294, -12.9412, -12.3529, -11.7647, -11.1765, -10.5882, -10.0  …  10.0, 10.5882, 11.1765, 11.7647, 12.3529, 12.9412, 13.5294, 14.1176, 14.7059, 15.2941], 0.5882352941176471, [-15.5882, -15.0, -14.4118, -13.8235, -13.2353, -12.6471, -12.0588, -11.4706, -10.8824, -10.2941  …  10.2941, 10.8824, 11.4706, 12.0588, 12.6471, 13.2353, 13.8235, 14.4118, 15.0, 15.5882])"
      ]
     },
     "execution_count": 3,
     "metadata": {},
     "output_type": "execute_result"
    }
   ],
   "source": [
    "xc, dx, = pulse_input_DDM.bins(B,n)"
   ]
  },
  {
   "cell_type": "code",
   "execution_count": 4,
   "metadata": {},
   "outputs": [
    {
     "data": {
      "text/plain": [
       "M1! (generic function with 1 method)"
      ]
     },
     "execution_count": 4,
     "metadata": {},
     "output_type": "execute_result"
    }
   ],
   "source": [
    "function M1!(x::Vector{TT}, h::Union{UU,Float64}, dx::UU,\n",
    "        xc::Vector{UU}, n::Int, dt::Float64) where {TT,UU <: Any}\n",
    "    \n",
    "    F = zeros(TT,n,n)\n",
    "    vara,lambda = x\n",
    "    \n",
    "    F[1,1] = one(TT); F[n,n] = one(TT); F[:,2:n-1] = zeros(TT,n,n-2)\n",
    "\n",
    "    #changed 2/17 to keep to less than 1000 bins, haven't checked how that effects returned results\n",
    "    ndeltas = max(70,ceil(Int, 10. *sqrt(vara)/dx))   \n",
    "    #ndeltas = 70 + (1000 - 70) * ceil(Int, 0.5*(1+tanh(10. *sqrt(vara)/dx)))\n",
    "    ndeltas > 1000 ? (ndeltas = 1000; @warn \"using lots of bins!\";) : nothing\n",
    "\n",
    "    (ndeltas > 1e3 && h == zero(TT)) ? (println(vara); println(dx); println(ndeltas)) : nothing\n",
    "\n",
    "    #deltas = collect(-ndeltas:ndeltas) * (5.*sqrt(vara))/ndeltas;\n",
    "    #ps = broadcast(exp, broadcast(/, -broadcast(^, deltas,2), 2.*vara)); ps = ps/sum(ps);\n",
    "    \n",
    "    deltaidx = collect(-ndeltas:ndeltas);\n",
    "    deltas = deltaidx * (5. *sqrt(vara))/ndeltas;\n",
    "    ps = exp.(-0.5 * (5*deltaidx./ndeltas).^2); ps = ps/sum(ps);\n",
    "    \n",
    "    @inbounds for j = 2:n-1\n",
    "\n",
    "        abs(lambda) < 1e-150 ? mu = xc[j] + h * dt : mu = exp(lambda*dt)*(xc[j] + h/lambda) - h/lambda\n",
    "        \n",
    "        #now we're going to look over all the slices of the gaussian\n",
    "        for k = 1:2*ndeltas+1\n",
    "\n",
    "            s = mu + deltas[k]\n",
    "\n",
    "            if s <= xc[1]\n",
    "\n",
    "                F[1,j] += ps[k];\n",
    "\n",
    "            elseif s >= xc[n]\n",
    "\n",
    "                F[n,j] += ps[k];\n",
    "\n",
    "            else\n",
    "\n",
    "                if xc[1] < s && xc[2] > s\n",
    "\n",
    "                    lp,hp = 1,2;\n",
    "\n",
    "                elseif xc[n-1] < s && xc[n] > s\n",
    "\n",
    "                    lp,hp = n-1,n;\n",
    "\n",
    "                else\n",
    "\n",
    "                    hp,lp = ceil(Int, (s-xc[2])/dx) + 2, floor(Int, (s-xc[2])/dx) + 2;\n",
    "\n",
    "                end\n",
    "\n",
    "                if (hp == lp)\n",
    "\n",
    "                    F[lp,j] += ps[k];\n",
    "\n",
    "                else\n",
    "\n",
    "                    dd = xc[hp] - xc[lp];\n",
    "                    F[hp,j] += ps[k]*(s-xc[lp])/dd;\n",
    "                    F[lp,j] += ps[k]*(xc[hp]-s)/dd;\n",
    "\n",
    "                end\n",
    "\n",
    "            end\n",
    "\n",
    "        end\n",
    "\n",
    "    end\n",
    "    \n",
    "    sum(F)\n",
    "\n",
    "end"
   ]
  },
  {
   "cell_type": "code",
   "execution_count": 5,
   "metadata": {},
   "outputs": [
    {
     "data": {
      "text/plain": [
       "myconvert (generic function with 1 method)"
      ]
     },
     "execution_count": 5,
     "metadata": {},
     "output_type": "execute_result"
    }
   ],
   "source": [
    "myconvert(::Type{T}, x::ForwardDiff.Dual) where {T} = T(x.value)"
   ]
  },
  {
   "cell_type": "code",
   "execution_count": 6,
   "metadata": {},
   "outputs": [
    {
     "data": {
      "text/plain": [
       "M2! (generic function with 1 method)"
      ]
     },
     "execution_count": 6,
     "metadata": {},
     "output_type": "execute_result"
    }
   ],
   "source": [
    "function M2!(x::Vector{TT}, h::Union{UU,Float64}, dx::UU,\n",
    "        xc::Vector{UU}, n::Int, dt::Float64) where {TT,UU <: Any}\n",
    "    \n",
    "    F = zeros(TT,n,n)\n",
    "    vara,lambda = x\n",
    "    \n",
    "    F[1,1] = one(TT); F[n,n] = one(TT); F[:,2:n-1] = zeros(TT,n,n-2)\n",
    "    \n",
    "    if typeof(vara) == ForwardDiff.Dual{Nothing,Float64,0}\n",
    "        sigma2_sbin = myconvert(Float64, vara)\n",
    "    else\n",
    "        sigma2_sbin = vara\n",
    "    end\n",
    "\n",
    "    #changed 2/17 to keep to less than 1000 bins, haven't checked how that effects returned results\n",
    "    ndeltas = max(70,ceil(Int, 10. *sqrt(sigma2_sbin)/dx))   \n",
    "    #ndeltas = 70 + (1000 - 70) * ceil(Int, 0.5*(1+tanh(10. *sqrt(vara)/dx)))\n",
    "    #ndeltas > 1000 ? (ndeltas = 1000; @warn \"using lots of bins!\";) : nothing\n",
    "\n",
    "    #(ndeltas > 1e3 && h == zero(TT)) ? (println(vara); println(dx); println(ndeltas)) : nothing\n",
    "\n",
    "    deltas = collect(-ndeltas:ndeltas) * (5. *sqrt(sigma2_sbin))/ndeltas;\n",
    "    #ps = broadcast(exp, broadcast(/, -broadcast(^, deltas,2), 2. *vara)); ps = ps/sum(ps);\n",
    "    ps = exp.(-deltas.^2 / (2. * vara)); ps = ps/sum(ps);\n",
    "    \n",
    "    #deltaidx = collect(-ndeltas:ndeltas);\n",
    "    #deltas = deltaidx * (5. *sqrt(vara))/ndeltas;\n",
    "    #ps = exp.(-0.5 * (5*deltaidx./ndeltas).^2); ps = ps/sum(ps);\n",
    "    \n",
    "    @inbounds for j = 2:n-1\n",
    "\n",
    "        abs(lambda) < 1e-150 ? mu = xc[j] + h * dt : mu = exp(lambda*dt)*(xc[j] + h/lambda) - h/lambda\n",
    "        \n",
    "        #now we're going to look over all the slices of the gaussian\n",
    "        for k = 1:2*ndeltas+1\n",
    "\n",
    "            s = mu + deltas[k]\n",
    "\n",
    "            if s <= xc[1]\n",
    "\n",
    "                F[1,j] += ps[k];\n",
    "\n",
    "            elseif s >= xc[n]\n",
    "\n",
    "                F[n,j] += ps[k];\n",
    "\n",
    "            else\n",
    "\n",
    "                if xc[1] < s && xc[2] > s\n",
    "\n",
    "                    lp,hp = 1,2;\n",
    "\n",
    "                elseif xc[n-1] < s && xc[n] > s\n",
    "\n",
    "                    lp,hp = n-1,n;\n",
    "\n",
    "                else\n",
    "\n",
    "                    hp,lp = ceil(Int, (s-xc[2])/dx) + 2, floor(Int, (s-xc[2])/dx) + 2;\n",
    "\n",
    "                end\n",
    "\n",
    "                if (hp == lp)\n",
    "\n",
    "                    F[lp,j] += ps[k];\n",
    "\n",
    "                else\n",
    "\n",
    "                    dd = xc[hp] - xc[lp];\n",
    "                    F[hp,j] += ps[k]*(s-xc[lp])/dd;\n",
    "                    F[lp,j] += ps[k]*(xc[hp]-s)/dd;\n",
    "\n",
    "                end\n",
    "\n",
    "            end\n",
    "\n",
    "        end\n",
    "\n",
    "    end\n",
    "    \n",
    "    sum(F)\n",
    "\n",
    "end"
   ]
  },
  {
   "cell_type": "code",
   "execution_count": 7,
   "metadata": {},
   "outputs": [
    {
     "data": {
      "text/plain": [
       "2-element Array{Float64,1}:\n",
       " -9.269928574751063e-18 \n",
       "  1.6479873021779667e-17"
      ]
     },
     "execution_count": 7,
     "metadata": {},
     "output_type": "execute_result"
    }
   ],
   "source": [
    "ForwardDiff.gradient(x-> M1!(x,0.,dx,xc, n, dt), [vara,lambda])"
   ]
  },
  {
   "cell_type": "code",
   "execution_count": 8,
   "metadata": {},
   "outputs": [
    {
     "data": {
      "text/plain": [
       "2-element Array{Float64,1}:\n",
       " -1.3877787807814457e-17\n",
       " -8.673617379884035e-19 "
      ]
     },
     "execution_count": 8,
     "metadata": {},
     "output_type": "execute_result"
    }
   ],
   "source": [
    "ForwardDiff.gradient(x-> M2!(x,0.,dx,xc, n, dt), [vara,lambda])"
   ]
  },
  {
   "cell_type": "code",
   "execution_count": 9,
   "metadata": {},
   "outputs": [
    {
     "data": {
      "text/plain": [
       "53.0"
      ]
     },
     "execution_count": 9,
     "metadata": {},
     "output_type": "execute_result"
    }
   ],
   "source": [
    "M1!([vara,lambda],0.,dx,xc, n, dt)"
   ]
  },
  {
   "cell_type": "code",
   "execution_count": 10,
   "metadata": {},
   "outputs": [
    {
     "data": {
      "text/plain": [
       "53.0"
      ]
     },
     "execution_count": 10,
     "metadata": {},
     "output_type": "execute_result"
    }
   ],
   "source": [
    "M2!([vara,lambda],0.,dx,xc, n, dt)"
   ]
  },
  {
   "cell_type": "code",
   "execution_count": 65,
   "metadata": {},
   "outputs": [
    {
     "data": {
      "text/plain": [
       "true"
      ]
     },
     "execution_count": 65,
     "metadata": {},
     "output_type": "execute_result"
    }
   ],
   "source": [
    "typeof(ForwardDiff.Dual.(1.2)) == ForwardDiff.Dual{Nothing,Float64,0}"
   ]
  },
  {
   "cell_type": "code",
   "execution_count": null,
   "metadata": {},
   "outputs": [],
   "source": []
  }
 ],
 "metadata": {
  "kernelspec": {
   "display_name": "Julia 1.0.3",
   "language": "julia",
   "name": "julia-1.0"
  },
  "language_info": {
   "file_extension": ".jl",
   "mimetype": "application/julia",
   "name": "julia",
   "version": "1.0.3"
  }
 },
 "nbformat": 4,
 "nbformat_minor": 2
}
