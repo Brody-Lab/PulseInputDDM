{
 "cells": [
  {
   "cell_type": "code",
   "execution_count": 1,
   "metadata": {},
   "outputs": [],
   "source": [
    "using Base.Threads"
   ]
  },
  {
   "cell_type": "code",
   "execution_count": 2,
   "metadata": {},
   "outputs": [
    {
     "data": {
      "text/plain": [
       "4"
      ]
     },
     "execution_count": 2,
     "metadata": {},
     "output_type": "execute_result"
    }
   ],
   "source": [
    "nthreads()"
   ]
  },
  {
   "cell_type": "code",
   "execution_count": 3,
   "metadata": {},
   "outputs": [
    {
     "data": {
      "text/plain": [
       "\"/Users/briandepasquale/Projects/inProgress/pulse_input_DDM.jl/Project.toml\""
      ]
     },
     "execution_count": 3,
     "metadata": {},
     "output_type": "execute_result"
    }
   ],
   "source": [
    "using Pkg; Pkg.activate(\"/Users/briandepasquale/Projects/inProgress/pulse_input_DDM.jl\")"
   ]
  },
  {
   "cell_type": "code",
   "execution_count": 4,
   "metadata": {},
   "outputs": [
    {
     "name": "stderr",
     "output_type": "stream",
     "text": [
      "┌ Info: Recompiling stale cache file /Users/briandepasquale/.julia/compiled/v1.0/pulse_input_DDM/m8WoA.ji for pulse_input_DDM [c2542da2-1f7d-11e9-2506-87691095ebb2]\n",
      "└ @ Base loading.jl:1190\n"
     ]
    }
   ],
   "source": [
    "using pulse_input_DDM"
   ]
  },
  {
   "cell_type": "code",
   "execution_count": null,
   "metadata": {},
   "outputs": [],
   "source": [
    "using Distributed\n",
    "addprocs(8);\n",
    "@everywhere using Pkg; @everywhere Pkg.activate(\"/Users/briandepasquale/Projects/inProgress/pulse_input_DDM.jl\")\n",
    "\n",
    "#addprocs(44);\n",
    "#@everywhere using Pkg; @everywhere Pkg.activate(\"/usr/people/briandd/Projects/pulse_input_DDM.jl\")"
   ]
  },
  {
   "cell_type": "code",
   "execution_count": 5,
   "metadata": {},
   "outputs": [
    {
     "data": {
      "text/plain": [
       "\"softplus\""
      ]
     },
     "execution_count": 5,
     "metadata": {},
     "output_type": "execute_result"
    }
   ],
   "source": [
    "n = 53\n",
    "dt = 1e-2\n",
    "f_str = \"softplus\""
   ]
  },
  {
   "cell_type": "code",
   "execution_count": 6,
   "metadata": {},
   "outputs": [],
   "source": [
    "num_trials = map(i->[i], 500:1000:16500);"
   ]
  },
  {
   "cell_type": "code",
   "execution_count": 7,
   "metadata": {},
   "outputs": [
    {
     "data": {
      "text/plain": [
       "Dict{String,Any} with 6 entries:\n",
       "  \"generative\" => Array{Array{Float64,1},1}[[[10.0, 10.0, -10.0]]]\n",
       "  \"N\"          => [1]\n",
       "  \"nsessions\"  => 1\n",
       "  \"fit\"        => Array{BitArray{1},1}[[[false], [true], [false]]]\n",
       "  \"initial\"    => Array{Array{Float64,1},1}[[[10.0, 10.0, -10.0]]]\n",
       "  \"dimy\"       => 3"
      ]
     },
     "execution_count": 7,
     "metadata": {},
     "output_type": "execute_result"
    }
   ],
   "source": [
    "pz = Dict(\"generative\" => [0., 20, -4., 10, 0., 1., 0.02], \n",
    "            \"name\" => [\"σ_i\",\"B\", \"λ\", \"σ_a\",\"σ_s\",\"ϕ\",\"τ_ϕ\"],\n",
    "            \"fit\" => vcat(falses(1),trues(3),falses(3)),\n",
    "            \"initial\" => [0.,20.,-3,100.,0., 1., 0.02],\n",
    "            \"lb\" => [-eps(), 4., -5., -eps(), -eps(), eps(), eps()],\n",
    "            \"ub\" => [10., 100, 5., 800., 40., 2., 10.])\n",
    "\n",
    "py = Dict(\"generative\" => [[[10., 10., -10.] for n in 1:N] for N in [1]], \n",
    "            \"fit\" => map(N-> repeat([falses(1),trues(1),falses(1)],outer=N), [1]),\n",
    "            \"initial\" => [[[10., 10., -10.] for n in 1:N] for N in [1]],\n",
    "            \"dimy\"=> 3, \"N\"=> [1], \"nsessions\"=> 1)"
   ]
  },
  {
   "cell_type": "code",
   "execution_count": 8,
   "metadata": {},
   "outputs": [],
   "source": [
    "data = sample_input_and_spikes_multiple_sessions(pz[\"generative\"], py[\"generative\"], [500]; f_str=f_str)\n",
    "data = map(x->bin_clicks_spikes_and_λ0!(x;dt=dt), data);"
   ]
  },
  {
   "cell_type": "code",
   "execution_count": 18,
   "metadata": {},
   "outputs": [
    {
     "name": "stdout",
     "output_type": "stream",
     "text": [
      "  2.151887 seconds (20.38 M allocations: 1.045 GiB, 46.06% gc time)\n"
     ]
    },
    {
     "data": {
      "text/plain": [
       "-17633.55024984749"
      ]
     },
     "execution_count": 18,
     "metadata": {},
     "output_type": "execute_result"
    }
   ],
   "source": [
    "@time pulse_input_DDM.compute_LL_threads(pz[\"generative\"], py[\"generative\"], data, n, f_str)"
   ]
  },
  {
   "cell_type": "code",
   "execution_count": 34,
   "metadata": {},
   "outputs": [
    {
     "name": "stdout",
     "output_type": "stream",
     "text": [
      "  1.895090 seconds (18.98 M allocations: 977.200 MiB, 44.94% gc time)\n"
     ]
    },
    {
     "data": {
      "text/plain": [
       "-17633.55024984749"
      ]
     },
     "execution_count": 34,
     "metadata": {},
     "output_type": "execute_result"
    }
   ],
   "source": [
    "@time compute_LL(pz[\"generative\"], py[\"generative\"], data, n, f_str)"
   ]
  },
  {
   "cell_type": "code",
   "execution_count": null,
   "metadata": {},
   "outputs": [],
   "source": []
  }
 ],
 "metadata": {
  "@webio": {
   "lastCommId": null,
   "lastKernelId": null
  },
  "kernelspec": {
   "display_name": "Julia 1.0.3",
   "language": "julia",
   "name": "julia-1.0"
  },
  "language_info": {
   "file_extension": ".jl",
   "mimetype": "application/julia",
   "name": "julia",
   "version": "1.0.3"
  }
 },
 "nbformat": 4,
 "nbformat_minor": 2
}
