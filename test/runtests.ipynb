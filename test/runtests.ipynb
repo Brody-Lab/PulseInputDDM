{
 "cells": [
  {
   "cell_type": "code",
   "execution_count": 1,
   "metadata": {},
   "outputs": [
    {
     "name": "stderr",
     "output_type": "stream",
     "text": [
      "┌ Info: Recompiling stale cache file /usr/people/briandd/.julia/compiled/v1.2/pulse_input_DDM/m8WoA.ji for pulse_input_DDM [c2542da2-1f7d-11e9-2506-87691095ebb2]\n",
      "└ @ Base loading.jl:1240\n"
     ]
    }
   ],
   "source": [
    "using Test, pulse_input_DDM, LinearAlgebra, Flatten, Parameters"
   ]
  },
  {
   "cell_type": "code",
   "execution_count": 2,
   "metadata": {},
   "outputs": [
    {
     "data": {
      "text/plain": [
       "53"
      ]
     },
     "execution_count": 2,
     "metadata": {},
     "output_type": "execute_result"
    }
   ],
   "source": [
    "n = 53"
   ]
  },
  {
   "cell_type": "code",
   "execution_count": 3,
   "metadata": {},
   "outputs": [
    {
     "data": {
      "text/plain": [
       "choiceDDM{θchoice{θz{Float64},Float64},Array{choicedata{pulse_input_DDM.choiceinputs{pulse_input_DDM.clicks,pulse_input_DDM.binned_clicks}},1}}\n",
       "  θ: θchoice{θz{Float64},Float64}\n",
       "  data: Array{choicedata{pulse_input_DDM.choiceinputs{pulse_input_DDM.clicks,pulse_input_DDM.binned_clicks}}}((10,))\n"
      ]
     },
     "execution_count": 3,
     "metadata": {},
     "output_type": "execute_result"
    }
   ],
   "source": [
    "## Choice model\n",
    "θ = θchoice(θz=θz(σ2_i = 0.5, B = 15., λ = -0.5, σ2_a = 50., σ2_s = 1.5,\n",
    "    ϕ = 0.8, τ_ϕ = 0.05),\n",
    "    bias=1., lapse=0.05)\n",
    "\n",
    "θ, data = synthetic_data(;θ=θ, ntrials=10, rng=1)\n",
    "model_gen = choiceDDM(θ, data)"
   ]
  },
  {
   "cell_type": "code",
   "execution_count": 4,
   "metadata": {},
   "outputs": [],
   "source": [
    "choices = getfield.(data, :choice);"
   ]
  },
  {
   "cell_type": "code",
   "execution_count": 5,
   "metadata": {},
   "outputs": [
    {
     "data": {
      "text/plain": [
       "\u001b[32m\u001b[1mTest Passed\u001b[22m\u001b[39m"
      ]
     },
     "execution_count": 5,
     "metadata": {},
     "output_type": "execute_result"
    }
   ],
   "source": [
    "@test all(choices .== vcat(falses(9), trues(1)))"
   ]
  },
  {
   "cell_type": "code",
   "execution_count": 6,
   "metadata": {},
   "outputs": [
    {
     "name": "stdout",
     "output_type": "stream",
     "text": [
      "  1.652521 seconds (4.17 M allocations: 226.213 MiB, 8.91% gc time)\n"
     ]
    },
    {
     "data": {
      "text/plain": [
       "\u001b[32m\u001b[1mTest Passed\u001b[22m\u001b[39m"
      ]
     },
     "execution_count": 6,
     "metadata": {},
     "output_type": "execute_result"
    }
   ],
   "source": [
    "@time @test round(loglikelihood(model_gen), digits=2) ≈ -3.72"
   ]
  },
  {
   "cell_type": "code",
   "execution_count": 7,
   "metadata": {},
   "outputs": [
    {
     "name": "stdout",
     "output_type": "stream",
     "text": [
      "  0.074668 seconds (9.98 k allocations: 15.813 MiB, 18.96% gc time)\n"
     ]
    },
    {
     "data": {
      "text/plain": [
       "\u001b[32m\u001b[1mTest Passed\u001b[22m\u001b[39m"
      ]
     },
     "execution_count": 7,
     "metadata": {},
     "output_type": "execute_result"
    }
   ],
   "source": [
    "@time @test round(loglikelihood(θ, data), digits=2) ≈ -3.72"
   ]
  },
  {
   "cell_type": "code",
   "execution_count": 8,
   "metadata": {},
   "outputs": [
    {
     "data": {
      "text/plain": [
       "\u001b[32m\u001b[1mTest Passed\u001b[22m\u001b[39m"
      ]
     },
     "execution_count": 8,
     "metadata": {},
     "output_type": "execute_result"
    }
   ],
   "source": [
    "@test round(θ(data), digits=2) ≈ -3.72"
   ]
  },
  {
   "cell_type": "code",
   "execution_count": null,
   "metadata": {},
   "outputs": [],
   "source": [
    "@test round(norm(gradient(model_gen)), digits=2) ≈ 14.32"
   ]
  },
  {
   "cell_type": "code",
   "execution_count": 10,
   "metadata": {},
   "outputs": [
    {
     "name": "stdout",
     "output_type": "stream",
     "text": [
      "Fminbox\n",
      "-------\n",
      "Initial mu = 0.000251462\n",
      "\n",
      "Fminbox iteration 1\n",
      "-------------------\n",
      "Calling inner optimizer with mu = 0.000251462\n",
      "\n",
      "(numbers below include barrier contribution)\n",
      "Iter     Function value   Gradient norm \n",
      "     0     7.774665e+00     9.860045e+01\n",
      " * time: 7.295608520507812e-5\n",
      "\n",
      "Exiting inner optimizer with x = [0.10908907449676107, 14.998922611692793, -0.119808301908876, 19.99841299411124, 0.5668629214289671, 1.1815218500705917, 0.2572173860091957, 0.29433081444119363, 0.652638765006292]\n",
      "Current distance to box: 0.0184781\n",
      "Decreasing barrier term μ.\n",
      "\n",
      "optimization complete. converged: false \n",
      "\n"
     ]
    },
    {
     "data": {
      "text/plain": [
       "\u001b[32m\u001b[1mTest Passed\u001b[22m\u001b[39m"
      ]
     },
     "execution_count": 10,
     "metadata": {},
     "output_type": "execute_result"
    }
   ],
   "source": [
    "options = choiceoptions(fit = vcat(trues(9)),\n",
    "    lb = vcat([0., 8., -5., 0., 0., 0.01, 0.005], [-30, 0.]),\n",
    "    ub = vcat([2., 30., 5., 100., 2.5, 1.2, 1.], [30, 1.]),\n",
    "    x0 = vcat([0.1, 15., -0.1, 20., 0.5, 0.8, 0.008], [0.,0.01]))\n",
    "\n",
    "model, = optimize(data, options; iterations=5, outer_iterations=1);\n",
    "@test round(norm(Flatten.flatten(model.θ)), digits=2) ≈ 25.05"
   ]
  },
  {
   "cell_type": "code",
   "execution_count": 11,
   "metadata": {},
   "outputs": [
    {
     "data": {
      "text/plain": [
       "\u001b[32m\u001b[1mTest Passed\u001b[22m\u001b[39m"
      ]
     },
     "execution_count": 11,
     "metadata": {},
     "output_type": "execute_result"
    }
   ],
   "source": [
    "H = Hessian(model)\n",
    "@test round(norm(H), digits=2) ≈ 92.6"
   ]
  },
  {
   "cell_type": "code",
   "execution_count": 12,
   "metadata": {},
   "outputs": [
    {
     "name": "stderr",
     "output_type": "stream",
     "text": [
      "┌ Warning: Hessian is not positive definite. Approximated by closest PSD matrix.\n",
      "│             ||ϵ||/||H|| is 0.016142554603615196\n",
      "└ @ pulse_input_DDM /usr/people/briandd/Projects/pulse_input_DDM/src/base_model.jl:19\n"
     ]
    },
    {
     "data": {
      "text/plain": [
       "\u001b[32m\u001b[1mTest Passed\u001b[22m\u001b[39m"
      ]
     },
     "execution_count": 12,
     "metadata": {},
     "output_type": "execute_result"
    }
   ],
   "source": [
    "CI, HPSD = CIs(H)\n",
    "@test round(norm(CI), digits=2) ≈ 1471.54"
   ]
  },
  {
   "cell_type": "code",
   "execution_count": 13,
   "metadata": {},
   "outputs": [],
   "source": [
    "## Neural model\n",
    "f, ncells, ntrials, nparams = \"Sigmoid\", [1,2], [10,5], 4\n",
    "\n",
    "θ = θneural(θz = θz(σ2_i = 0.5, B = 15., λ = -0.5, σ2_a = 10., σ2_s = 1.2,\n",
    "    ϕ = 0.6, τ_ϕ =  0.02),\n",
    "    θy=[[Sigmoid() for n in 1:N] for N in ncells], ncells=ncells,\n",
    "    nparams=nparams, f=f);"
   ]
  },
  {
   "cell_type": "code",
   "execution_count": 14,
   "metadata": {},
   "outputs": [],
   "source": [
    "data, = synthetic_data(θ, ntrials);\n",
    "model_gen = neuralDDM(θ, data);"
   ]
  },
  {
   "cell_type": "code",
   "execution_count": 18,
   "metadata": {},
   "outputs": [
    {
     "data": {
      "text/plain": [
       "15-element Array{Array{Int64,1},1}:\n",
       " [2]     \n",
       " [13]    \n",
       " [4]     \n",
       " [1]     \n",
       " [4]     \n",
       " [9]     \n",
       " [21]    \n",
       " [9]     \n",
       " [7]     \n",
       " [23]    \n",
       " [11, 10]\n",
       " [3, 6]  \n",
       " [7, 6]  \n",
       " [10, 10]\n",
       " [10, 9] "
      ]
     },
     "execution_count": 18,
     "metadata": {},
     "output_type": "execute_result"
    }
   ],
   "source": [
    "spikes = map(x-> sum.(x), getfield.(vcat(data...), :spikes))"
   ]
  },
  {
   "cell_type": "code",
   "execution_count": 16,
   "metadata": {},
   "outputs": [
    {
     "name": "stdout",
     "output_type": "stream",
     "text": [
      "\u001b[91m\u001b[1mTest Failed\u001b[22m\u001b[39m at \u001b[39m\u001b[1mIn[16]:1\u001b[22m\n",
      "  Expression: all(spikes .== [[3], [14], [6], [1], [5], [9], [20], [9], [5], [21], [11, 10], [5, 8], [7, 5], [10, 11], [11, 9]])\n"
     ]
    },
    {
     "ename": "Test.FallbackTestSetException",
     "evalue": "There was an error during testing",
     "output_type": "error",
     "traceback": [
      "There was an error during testing",
      "",
      "Stacktrace:",
      " [1] record(::Test.FallbackTestSet, ::Test.Fail) at /buildworker/worker/package_linux64/build/usr/share/julia/stdlib/v1.2/Test/src/Test.jl:737",
      " [2] do_test(::Test.Returned, ::Expr) at /buildworker/worker/package_linux64/build/usr/share/julia/stdlib/v1.2/Test/src/Test.jl:526",
      " [3] top-level scope at In[16]:1"
     ]
    }
   ],
   "source": [
    "@test all(spikes .== [[3], [14], [6], [1], [5], [9], [20], [9], [5], [21], [11, 10], [5, 8], [7, 5], [10, 11], [11, 9]])"
   ]
  },
  {
   "cell_type": "code",
   "execution_count": 19,
   "metadata": {
    "scrolled": true
   },
   "outputs": [
    {
     "data": {
      "text/plain": [
       "\u001b[32m\u001b[1mTest Passed\u001b[22m\u001b[39m"
      ]
     },
     "execution_count": 19,
     "metadata": {},
     "output_type": "execute_result"
    }
   ],
   "source": [
    "@test round(loglikelihood(model_gen), digits=2) ≈ -529.86"
   ]
  },
  {
   "cell_type": "code",
   "execution_count": 20,
   "metadata": {},
   "outputs": [
    {
     "name": "stdout",
     "output_type": "stream",
     "text": [
      "\u001b[91m\u001b[1mTest Failed\u001b[22m\u001b[39m at \u001b[39m\u001b[1mIn[20]:1\u001b[22m\n",
      "  Expression: round(norm(gradient(model_gen)), digits=2) ≈ 63.56\n",
      "   Evaluated: 63.51 ≈ 63.56\n"
     ]
    },
    {
     "ename": "Test.FallbackTestSetException",
     "evalue": "There was an error during testing",
     "output_type": "error",
     "traceback": [
      "There was an error during testing",
      "",
      "Stacktrace:",
      " [1] record(::Test.FallbackTestSet, ::Test.Fail) at /buildworker/worker/package_linux64/build/usr/share/julia/stdlib/v1.2/Test/src/Test.jl:737",
      " [2] do_test(::Test.Returned, ::Expr) at /buildworker/worker/package_linux64/build/usr/share/julia/stdlib/v1.2/Test/src/Test.jl:526",
      " [3] top-level scope at In[20]:1"
     ]
    }
   ],
   "source": [
    "@test round(norm(gradient(model_gen)), digits=2) ≈ 52.18"
   ]
  },
  {
   "cell_type": "code",
   "execution_count": 21,
   "metadata": {},
   "outputs": [
    {
     "data": {
      "text/plain": [
       "\u001b[32m\u001b[1mTest Passed\u001b[22m\u001b[39m"
      ]
     },
     "execution_count": 21,
     "metadata": {},
     "output_type": "execute_result"
    }
   ],
   "source": [
    "x = pulse_input_DDM.flatten(θ)\n",
    "@test round(loglikelihood(x, data, θ), digits=2) ≈ -529.86"
   ]
  },
  {
   "cell_type": "code",
   "execution_count": 22,
   "metadata": {},
   "outputs": [
    {
     "name": "stdout",
     "output_type": "stream",
     "text": [
      "\u001b[91m\u001b[1mTest Failed\u001b[22m\u001b[39m at \u001b[39m\u001b[1mIn[22]:2\u001b[22m\n",
      "  Expression: round(norm(θy0), digits=2) ≈ 53.56\n",
      "   Evaluated: 38.81 ≈ 53.56\n"
     ]
    },
    {
     "ename": "Test.FallbackTestSetException",
     "evalue": "There was an error during testing",
     "output_type": "error",
     "traceback": [
      "There was an error during testing",
      "",
      "Stacktrace:",
      " [1] record(::Test.FallbackTestSet, ::Test.Fail) at /buildworker/worker/package_linux64/build/usr/share/julia/stdlib/v1.2/Test/src/Test.jl:737",
      " [2] do_test(::Test.Returned, ::Expr) at /buildworker/worker/package_linux64/build/usr/share/julia/stdlib/v1.2/Test/src/Test.jl:526",
      " [3] top-level scope at In[22]:2"
     ]
    }
   ],
   "source": [
    "θy0 = vcat(vcat(θy.(data, f)...)...)\n",
    "@test round(norm(θy0), digits=2) ≈ 31.16"
   ]
  },
  {
   "cell_type": "code",
   "execution_count": 23,
   "metadata": {},
   "outputs": [
    {
     "data": {
      "text/plain": [
       "Sigmoid_options_noiseless\n",
       "  ncells: Array{Int64}((2,)) [1, 2]\n",
       "  nparams: Int64 4\n",
       "  f: String \"Sigmoid\"\n",
       "  fit: Array{Bool}((19,)) Bool[0, 0, 0, 0, 0, 0, 0, 1, 1, 1, 1, 1, 1, 1, 1, 1, 1, 1, 1]\n",
       "  lb: Array{Float64}((19,)) [0.0, 8.0, -5.0, 0.0, 0.0, 0.01, 0.005, -100.0, 0.0, -10.0, -10.0, -100.0, 0.0, -10.0, -10.0, -100.0, 0.0, -10.0, -10.0]\n",
       "  ub: Array{Float64}((19,)) [Inf, Inf, 10.0, Inf, Inf, 1.2, 1.0, 100.0, 100.0, 10.0, 10.0, 100.0, 100.0, 10.0, 10.0, 100.0, 100.0, 10.0, 10.0]\n",
       "  x0: Array{Float64}((19,)) [0.0, 30.0, 2.220446049250313e-16, 0.0, 0.0, 0.9999999999999998, 0.008, -11.823240890025499, 10.9789569121723, 0.0012275100524168838, 0.0, -14.192838387217776, 21.261707067327677, 0.008475145450118802, 0.0, -7.880146395368877, 23.02894451372203, 0.0058347955302947676, 0.0]\n"
      ]
     },
     "execution_count": 23,
     "metadata": {},
     "output_type": "execute_result"
    }
   ],
   "source": [
    "#deterministic model\n",
    "options0 = Sigmoid_options_noiseless(ncells=ncells,\n",
    "    fit=vcat(falses(dimz), trues(sum(ncells)*nparams)),\n",
    "    x0=vcat([0., 30., 0. + eps(), 0., 0., 1. - eps(), 0.008], θy0))"
   ]
  },
  {
   "cell_type": "code",
   "execution_count": 24,
   "metadata": {},
   "outputs": [
    {
     "data": {
      "text/plain": [
       "neuralDDM{θneural_noiseless{θz{Float64},Array{Array{Sigmoid{Float64},1},1}},Array{Array{neuraldata,1},1}}\n",
       "  θ: θneural_noiseless{θz{Float64},Array{Array{Sigmoid{Float64},1},1}}\n",
       "  data: Array{Array{neuraldata,1}}((2,))\n"
      ]
     },
     "execution_count": 24,
     "metadata": {},
     "output_type": "execute_result"
    }
   ],
   "source": [
    "θ0 = θneural_noiseless(options0.x0, ncells, nparams, f)\n",
    "model0 = neuralDDM(θ0, data)"
   ]
  },
  {
   "cell_type": "code",
   "execution_count": 25,
   "metadata": {},
   "outputs": [
    {
     "name": "stdout",
     "output_type": "stream",
     "text": [
      "\u001b[91m\u001b[1mTest Failed\u001b[22m\u001b[39m at \u001b[39m\u001b[1mIn[25]:1\u001b[22m\n",
      "  Expression: round(loglikelihood(model0), digits=2) ≈ -533.09\n",
      "   Evaluated: -1495.56 ≈ -533.09\n"
     ]
    },
    {
     "ename": "Test.FallbackTestSetException",
     "evalue": "There was an error during testing",
     "output_type": "error",
     "traceback": [
      "There was an error during testing",
      "",
      "Stacktrace:",
      " [1] record(::Test.FallbackTestSet, ::Test.Fail) at /buildworker/worker/package_linux64/build/usr/share/julia/stdlib/v1.2/Test/src/Test.jl:737",
      " [2] do_test(::Test.Returned, ::Expr) at /buildworker/worker/package_linux64/build/usr/share/julia/stdlib/v1.2/Test/src/Test.jl:526",
      " [3] top-level scope at In[25]:1"
     ]
    }
   ],
   "source": [
    "@test round(loglikelihood(model0), digits=2) ≈ -1399.68"
   ]
  },
  {
   "cell_type": "code",
   "execution_count": 20,
   "metadata": {},
   "outputs": [
    {
     "data": {
      "text/plain": [
       "θneural_noiseless{θz{Float64},Array{Array{Sigmoid{Float64},1},1}}\n",
       "  θz: θz{Float64}\n",
       "  θy: Array{Array{Sigmoid{Float64},1}}((2,))\n",
       "  ncells: Array{Int64}((2,)) [1, 2]\n",
       "  nparams: Int64 4\n",
       "  f: String \"Sigmoid\"\n"
      ]
     },
     "execution_count": 20,
     "metadata": {},
     "output_type": "execute_result"
    }
   ],
   "source": [
    "x0 = pulse_input_DDM.flatten(θ0)\n",
    "@unpack ncells, nparams, f = θ0"
   ]
  },
  {
   "cell_type": "code",
   "execution_count": 23,
   "metadata": {},
   "outputs": [
    {
     "data": {
      "text/plain": [
       "\u001b[32m\u001b[1mTest Passed\u001b[22m\u001b[39m"
      ]
     },
     "execution_count": 23,
     "metadata": {},
     "output_type": "execute_result"
    }
   ],
   "source": [
    "@test round(loglikelihood(x0, data, θ0), digits=2) ≈ -1399.68"
   ]
  },
  {
   "cell_type": "code",
   "execution_count": 25,
   "metadata": {},
   "outputs": [
    {
     "name": "stdout",
     "output_type": "stream",
     "text": [
      "Fminbox\n",
      "-------\n",
      "Initial mu = 1.59053\n",
      "\n",
      "Fminbox iteration 1\n",
      "-------------------\n",
      "Calling inner optimizer with mu = 1.59053\n",
      "\n",
      "(numbers below include barrier contribution)\n",
      "Iter     Function value   Gradient norm \n",
      "     0     1.281226e+03     9.422631e+02\n",
      " * time: 3.409385681152344e-5\n",
      "\n",
      "Exiting inner optimizer with x = [52.69070630256158, 43.434427853058395, -2.8625905261748006, 5.0336085210607395, 17.047935166694103, 33.8056973114395, 5.1937297903733795, 3.97561896305667, -5.690347702664896, 23.203791176447094, 0.4792342779693217, 3.6141666197326594]\n",
      "Current distance to box: 4.80627\n",
      "Decreasing barrier term μ.\n",
      "\n"
     ]
    },
    {
     "data": {
      "text/plain": [
       "\u001b[32m\u001b[1mTest Passed\u001b[22m\u001b[39m"
      ]
     },
     "execution_count": 25,
     "metadata": {},
     "output_type": "execute_result"
    }
   ],
   "source": [
    "model, = optimize(data, options0; iterations=2, outer_iterations=1)\n",
    "@test round(norm(pulse_input_DDM.flatten(model.θ)), digits=2) ≈ 87.51"
   ]
  },
  {
   "cell_type": "code",
   "execution_count": 27,
   "metadata": {},
   "outputs": [
    {
     "data": {
      "text/plain": [
       "\u001b[32m\u001b[1mTest Passed\u001b[22m\u001b[39m"
      ]
     },
     "execution_count": 27,
     "metadata": {},
     "output_type": "execute_result"
    }
   ],
   "source": [
    "@test round(norm(gradient(model)), digits=2) ≈ 6.82"
   ]
  },
  {
   "cell_type": "code",
   "execution_count": 33,
   "metadata": {},
   "outputs": [
    {
     "data": {
      "text/plain": [
       "19-element Array{Float64,1}:\n",
       "  0.1               \n",
       " 15.0               \n",
       " -0.1               \n",
       " 20.0               \n",
       "  0.5               \n",
       "  0.8               \n",
       "  0.008             \n",
       " 52.69070630256158  \n",
       " 43.434427853058395 \n",
       " -2.8625905261748006\n",
       "  5.0336085210607395\n",
       " 17.047935166694103 \n",
       " 33.8056973114395   \n",
       "  5.1937297903733795\n",
       "  3.97561896305667  \n",
       " -5.690347702664896 \n",
       " 23.203791176447094 \n",
       "  0.4792342779693217\n",
       "  3.6141666197326594"
      ]
     },
     "execution_count": 33,
     "metadata": {},
     "output_type": "execute_result"
    }
   ],
   "source": [
    "x0 = vcat([0.1, 15., -0.1, 20., 0.5, 0.8, 0.008], pulse_input_DDM.flatten(model.θ)[dimz+1:end])"
   ]
  },
  {
   "cell_type": "code",
   "execution_count": 35,
   "metadata": {},
   "outputs": [
    {
     "name": "stdout",
     "output_type": "stream",
     "text": [
      "Fminbox\n",
      "-------\n",
      "Initial mu = 0.00248823\n",
      "\n",
      "Fminbox iteration 1\n",
      "-------------------\n",
      "Calling inner optimizer with mu = 0.00248823\n",
      "\n",
      "(numbers below include barrier contribution)\n",
      "Iter     Function value   Gradient norm \n",
      "     0     7.682817e+02     7.356741e+02\n",
      " * time: 8.702278137207031e-5\n",
      "\n",
      "Exiting inner optimizer with x = [1.0518193782012302, 15.036691202576568, 0.2797663017620923, 20.040066830076672, 0.5926527356050355, 0.018393557393958426, 0.7082382774236562, 52.42451557297762, 43.404607103709104, -3.366376053911049, 4.683811140044606, 16.99575905575336, 33.79209919106686, 4.917694861086083, 3.9073304775861413, -5.6894928464434855, 23.202985062384148, 0.2809125301584484, 3.6334904947467415]\n",
      "Current distance to box: 0.00839356\n",
      "Decreasing barrier term μ.\n",
      "\n"
     ]
    },
    {
     "data": {
      "text/plain": [
       "\u001b[32m\u001b[1mTest Passed\u001b[22m\u001b[39m"
      ]
     },
     "execution_count": 35,
     "metadata": {},
     "output_type": "execute_result"
    }
   ],
   "source": [
    "options = Sigmoid_options(ncells=ncells, x0=x0)\n",
    "\n",
    "model, = optimize(data, options; iterations=2, outer_iterations=1)\n",
    "@test round(norm(pulse_input_DDM.flatten(model.θ)), digits=2) ≈ 85.73"
   ]
  },
  {
   "cell_type": "code",
   "execution_count": 39,
   "metadata": {},
   "outputs": [
    {
     "data": {
      "text/plain": [
       "\u001b[32m\u001b[1mTest Passed\u001b[22m\u001b[39m"
      ]
     },
     "execution_count": 39,
     "metadata": {},
     "output_type": "execute_result"
    }
   ],
   "source": [
    "H = Hessian(model, n; chuck_size=4)\n",
    "@test round(norm(H), digits=2) ≈ 22.83"
   ]
  },
  {
   "cell_type": "code",
   "execution_count": 41,
   "metadata": {},
   "outputs": [
    {
     "name": "stderr",
     "output_type": "stream",
     "text": [
      "┌ Warning: Hessian is not positive definite. Approximated by closest PSD matrix.\n",
      "│             ||ϵ||/||H|| is 1.782416929642061\n",
      "└ @ pulse_input_DDM /usr/people/briandd/Projects/pulse_input_DDM/src/base_model.jl:19\n"
     ]
    },
    {
     "data": {
      "text/plain": [
       "\u001b[32m\u001b[1mTest Passed\u001b[22m\u001b[39m"
      ]
     },
     "execution_count": 41,
     "metadata": {},
     "output_type": "execute_result"
    }
   ],
   "source": [
    "CI, HPSD = CIs(H)\n",
    "@test round(norm(CI), digits=2) ≈ 303.02"
   ]
  },
  {
   "cell_type": "code",
   "execution_count": null,
   "metadata": {},
   "outputs": [],
   "source": []
  }
 ],
 "metadata": {
  "kernelspec": {
   "display_name": "Julia 1.2.0",
   "language": "julia",
   "name": "julia-1.2"
  },
  "language_info": {
   "file_extension": ".jl",
   "mimetype": "application/julia",
   "name": "julia",
   "version": "1.2.0"
  }
 },
 "nbformat": 4,
 "nbformat_minor": 2
}
