{
 "cells": [
  {
   "cell_type": "code",
   "execution_count": 1,
   "metadata": {},
   "outputs": [
    {
     "name": "stderr",
     "output_type": "stream",
     "text": [
      "┌ Info: Recompiling stale cache file /usr/people/briandd/.julia/compiled/v1.2/pulse_input_DDM/m8WoA.ji for pulse_input_DDM [c2542da2-1f7d-11e9-2506-87691095ebb2]\n",
      "└ @ Base loading.jl:1240\n"
     ]
    }
   ],
   "source": [
    "using Test, pulse_input_DDM, LinearAlgebra, Flatten, Parameters"
   ]
  },
  {
   "cell_type": "code",
   "execution_count": 2,
   "metadata": {},
   "outputs": [
    {
     "data": {
      "text/plain": [
       "(53, false)"
      ]
     },
     "execution_count": 2,
     "metadata": {},
     "output_type": "execute_result"
    }
   ],
   "source": [
    "n, cross = 53, false"
   ]
  },
  {
   "cell_type": "code",
   "execution_count": 3,
   "metadata": {},
   "outputs": [
    {
     "data": {
      "text/plain": [
       "choiceDDM{θchoice{θz{Float64},Float64},Array{pulse_input_DDM.choicedata{pulse_input_DDM.choiceinputs{pulse_input_DDM.clicks,pulse_input_DDM.binned_clicks}},1},θprior{Float64}}\n",
       "  θ: θchoice{θz{Float64},Float64}\n",
       "  data: Array{pulse_input_DDM.choicedata{pulse_input_DDM.choiceinputs{pulse_input_DDM.clicks,pulse_input_DDM.binned_clicks}}}((10,))\n",
       "  n: Int64 53\n",
       "  cross: Bool false\n",
       "  θprior: θprior{Float64}\n"
      ]
     },
     "execution_count": 3,
     "metadata": {},
     "output_type": "execute_result"
    }
   ],
   "source": [
    "## Choice model\n",
    "θ = θchoice(θz=θz(σ2_i = 0.5, B = 15., λ = -0.5, σ2_a = 50., σ2_s = 1.5,\n",
    "    ϕ = 0.8, τ_ϕ = 0.05),\n",
    "    bias=1., lapse=0.05)\n",
    "\n",
    "θ, data = synthetic_data(;θ=θ, ntrials=10, rng=1)\n",
    "model_gen = choiceDDM(θ, data, n, cross, θprior(μ_B=40., σ_B=1e6))"
   ]
  },
  {
   "cell_type": "code",
   "execution_count": 4,
   "metadata": {},
   "outputs": [],
   "source": [
    "choices = getfield.(data, :choice);"
   ]
  },
  {
   "cell_type": "code",
   "execution_count": 5,
   "metadata": {},
   "outputs": [
    {
     "data": {
      "text/plain": [
       "\u001b[32m\u001b[1mTest Passed\u001b[22m\u001b[39m"
      ]
     },
     "execution_count": 5,
     "metadata": {},
     "output_type": "execute_result"
    }
   ],
   "source": [
    "@test all(choices .== vcat(falses(9), trues(1)))"
   ]
  },
  {
   "cell_type": "code",
   "execution_count": 6,
   "metadata": {},
   "outputs": [
    {
     "name": "stdout",
     "output_type": "stream",
     "text": [
      "  1.857963 seconds (4.66 M allocations: 251.803 MiB, 11.28% gc time)\n"
     ]
    },
    {
     "data": {
      "text/plain": [
       "\u001b[32m\u001b[1mTest Passed\u001b[22m\u001b[39m"
      ]
     },
     "execution_count": 6,
     "metadata": {},
     "output_type": "execute_result"
    }
   ],
   "source": [
    "@time @test round(loglikelihood(model_gen), digits=2) ≈ -3.72"
   ]
  },
  {
   "cell_type": "code",
   "execution_count": 7,
   "metadata": {},
   "outputs": [
    {
     "data": {
      "text/plain": [
       "\u001b[32m\u001b[1mTest Passed\u001b[22m\u001b[39m"
      ]
     },
     "execution_count": 7,
     "metadata": {},
     "output_type": "execute_result"
    }
   ],
   "source": [
    "@test round(norm(gradient(model_gen)), digits=2) ≈ 14.32"
   ]
  },
  {
   "cell_type": "code",
   "execution_count": 8,
   "metadata": {},
   "outputs": [
    {
     "name": "stdout",
     "output_type": "stream",
     "text": [
      "Fminbox\n",
      "-------\n",
      "Initial mu = 0.000239451\n",
      "\n",
      "Fminbox iteration 1\n",
      "-------------------\n",
      "Calling inner optimizer with mu = 0.000239451\n",
      "\n",
      "(numbers below include barrier contribution)\n",
      "Iter     Function value   Gradient norm \n",
      "     0     2.212393e+01     9.828961e+01\n",
      " * time: 7.081031799316406e-5\n",
      "\n",
      "Exiting inner optimizer with x = [0.12345655322543442, 14.99895530690319, -0.13726257383746795, 19.99805424621317, 0.6951082089308465, 1.1588961674091682, 0.0063088058501385305, 0.6814442212420025, 0.500394967367097]\n",
      "Current distance to box: 0.00130881\n",
      "Decreasing barrier term μ.\n",
      "\n"
     ]
    },
    {
     "data": {
      "text/plain": [
       "\u001b[32m\u001b[1mTest Passed\u001b[22m\u001b[39m"
      ]
     },
     "execution_count": 8,
     "metadata": {},
     "output_type": "execute_result"
    }
   ],
   "source": [
    "model, = optimize(data, choiceoptions(); iterations=5, outer_iterations=1, θprior=θprior(μ_B=40., σ_B=1e6));\n",
    "@test round(norm(Flatten.flatten(model.θ)), digits=2) ≈ 25.05"
   ]
  },
  {
   "cell_type": "code",
   "execution_count": 9,
   "metadata": {},
   "outputs": [
    {
     "data": {
      "text/plain": [
       "\u001b[32m\u001b[1mTest Passed\u001b[22m\u001b[39m"
      ]
     },
     "execution_count": 9,
     "metadata": {},
     "output_type": "execute_result"
    }
   ],
   "source": [
    "H = Hessian(model)\n",
    "@test round(norm(H), digits=2) ≈ 92.6"
   ]
  },
  {
   "cell_type": "code",
   "execution_count": 10,
   "metadata": {},
   "outputs": [
    {
     "name": "stderr",
     "output_type": "stream",
     "text": [
      "┌ Warning: Hessian is not positive definite. Approximated by closest PSD matrix.\n",
      "│             ||ϵ||/||H|| is 8.46979164813496\n",
      "└ @ pulse_input_DDM /usr/people/briandd/Projects/pulse_input_DDM/src/base_model.jl:19\n"
     ]
    },
    {
     "data": {
      "text/plain": [
       "\u001b[32m\u001b[1mTest Passed\u001b[22m\u001b[39m"
      ]
     },
     "execution_count": 10,
     "metadata": {},
     "output_type": "execute_result"
    }
   ],
   "source": [
    "CI, HPSD = CIs(H)\n",
    "@test round(norm(CI), digits=2) ≈ 1471.54"
   ]
  },
  {
   "cell_type": "code",
   "execution_count": 11,
   "metadata": {},
   "outputs": [],
   "source": [
    "## Neural model\n",
    "ncells, ntrials = [1,2], [10,5]\n",
    "f = [repeat([\"Sigmoid\"], N) for N in ncells]\n",
    "                    \n",
    "θ = θneural(θz = θz(σ2_i = 0.5, B = 15., λ = -0.5, σ2_a = 10., σ2_s = 1.2,\n",
    "    ϕ = 0.6, τ_ϕ =  0.02),\n",
    "    θy=[[Sigmoid() for n in 1:N] for N in ncells], f=f);"
   ]
  },
  {
   "cell_type": "code",
   "execution_count": 13,
   "metadata": {},
   "outputs": [],
   "source": [
    "data, = synthetic_data(θ, ntrials, ncells);\n",
    "model_gen = neuralDDM(θ, data, n, cross, θprior(μ_B=40., σ_B=1e6));"
   ]
  },
  {
   "cell_type": "code",
   "execution_count": 14,
   "metadata": {},
   "outputs": [
    {
     "data": {
      "text/plain": [
       "15-element Array{Array{Int64,1},1}:\n",
       " [3]     \n",
       " [14]    \n",
       " [6]     \n",
       " [1]     \n",
       " [5]     \n",
       " [9]     \n",
       " [20]    \n",
       " [9]     \n",
       " [5]     \n",
       " [21]    \n",
       " [11, 10]\n",
       " [5, 8]  \n",
       " [7, 5]  \n",
       " [10, 11]\n",
       " [11, 9] "
      ]
     },
     "execution_count": 14,
     "metadata": {},
     "output_type": "execute_result"
    }
   ],
   "source": [
    "spikes = map(x-> sum.(x), getfield.(vcat(data...), :spikes))"
   ]
  },
  {
   "cell_type": "code",
   "execution_count": 15,
   "metadata": {},
   "outputs": [
    {
     "data": {
      "text/plain": [
       "\u001b[32m\u001b[1mTest Passed\u001b[22m\u001b[39m"
      ]
     },
     "execution_count": 15,
     "metadata": {},
     "output_type": "execute_result"
    }
   ],
   "source": [
    "@test all(spikes .== [[3], [14], [6], [1], [5], [9], [20], [9], [5], [21], [11, 10], [5, 8], [7, 5], [10, 11], [11, 9]])"
   ]
  },
  {
   "cell_type": "code",
   "execution_count": 16,
   "metadata": {
    "scrolled": true
   },
   "outputs": [
    {
     "data": {
      "text/plain": [
       "\u001b[32m\u001b[1mTest Passed\u001b[22m\u001b[39m"
      ]
     },
     "execution_count": 16,
     "metadata": {},
     "output_type": "execute_result"
    }
   ],
   "source": [
    "@test round(loglikelihood(model_gen), digits=2) ≈ -529.86"
   ]
  },
  {
   "cell_type": "code",
   "execution_count": 17,
   "metadata": {},
   "outputs": [
    {
     "data": {
      "text/plain": [
       "\u001b[32m\u001b[1mTest Passed\u001b[22m\u001b[39m"
      ]
     },
     "execution_count": 17,
     "metadata": {},
     "output_type": "execute_result"
    }
   ],
   "source": [
    "@test round(norm(gradient(model_gen)), digits=2) ≈ 52.18"
   ]
  },
  {
   "cell_type": "code",
   "execution_count": 18,
   "metadata": {},
   "outputs": [
    {
     "data": {
      "text/plain": [
       "\u001b[32m\u001b[1mTest Passed\u001b[22m\u001b[39m"
      ]
     },
     "execution_count": 18,
     "metadata": {},
     "output_type": "execute_result"
    }
   ],
   "source": [
    "x = pulse_input_DDM.flatten(θ)\n",
    "@test round(loglikelihood(x, model_gen), digits=2) ≈ -529.86"
   ]
  },
  {
   "cell_type": "code",
   "execution_count": 19,
   "metadata": {},
   "outputs": [
    {
     "data": {
      "text/plain": [
       "\u001b[32m\u001b[1mTest Passed\u001b[22m\u001b[39m"
      ]
     },
     "execution_count": 19,
     "metadata": {},
     "output_type": "execute_result"
    }
   ],
   "source": [
    "θy0 = vcat(vcat(θy.(data, f)...)...)\n",
    "@test round(norm(θy0), digits=2) ≈ 31.16"
   ]
  },
  {
   "cell_type": "code",
   "execution_count": 20,
   "metadata": {},
   "outputs": [
    {
     "data": {
      "text/plain": [
       "neural_options_noiseless\n",
       "  fit: Array{Bool}((19,)) Bool[0, 0, 0, 0, 0, 0, 0, 1, 1, 1, 1, 1, 1, 1, 1, 1, 1, 1, 1]\n",
       "  ub: Array{Float64}((19,)) [100.0, 100.0, 5.0, 400.0, 10.0, 1.2, 1.0, 100.0, 100.0, 10.0, 10.0, 100.0, 100.0, 10.0, 10.0, 100.0, 100.0, 10.0, 10.0]\n",
       "  lb: Array{Float64}((19,)) [0.001, 8.0, -5.0, 0.001, 0.001, 0.001, 0.005, -100.0, 0.0, -10.0, -10.0, -100.0, 0.0, -10.0, -10.0, -100.0, 0.0, -10.0, -10.0]\n"
      ]
     },
     "execution_count": 20,
     "metadata": {},
     "output_type": "execute_result"
    }
   ],
   "source": [
    "#deterministic model\n",
    "options0 = neural_options_noiseless(f)"
   ]
  },
  {
   "cell_type": "code",
   "execution_count": 21,
   "metadata": {},
   "outputs": [
    {
     "data": {
      "text/plain": [
       "19-element Array{Float64,1}:\n",
       "   0.0                  \n",
       "  30.0                  \n",
       "   2.220446049250313e-16\n",
       "   0.0                  \n",
       "   0.0                  \n",
       "   0.9999999999999998   \n",
       "   0.008                \n",
       "  -7.705663789255116    \n",
       "   7.678951595360267    \n",
       "   0.0011352713910126341\n",
       "   0.0                  \n",
       " -11.526171720551112    \n",
       "  11.655646461267072    \n",
       "   0.008735402516937699 \n",
       "   0.0                  \n",
       "  -8.170615489116662    \n",
       "  22.738475419974247    \n",
       "   0.0075096756861132   \n",
       "   0.0                  "
      ]
     },
     "execution_count": 21,
     "metadata": {},
     "output_type": "execute_result"
    }
   ],
   "source": [
    "x0=vcat([0., 30., 0. + eps(), 0., 0., 1. - eps(), 0.008], θy0)"
   ]
  },
  {
   "cell_type": "code",
   "execution_count": 22,
   "metadata": {},
   "outputs": [
    {
     "data": {
      "text/plain": [
       "noiseless_neuralDDM{θneural_noiseless{θz{Float64},Array{Array{Sigmoid{Float64},1},1}},Array{Array{neuraldata,1},1}}\n",
       "  θ: θneural_noiseless{θz{Float64},Array{Array{Sigmoid{Float64},1},1}}\n",
       "  data: Array{Array{neuraldata,1}}((2,))\n"
      ]
     },
     "execution_count": 22,
     "metadata": {},
     "output_type": "execute_result"
    }
   ],
   "source": [
    "θ0 = θneural_noiseless(x0, f)\n",
    "model0 = noiseless_neuralDDM(θ0, data)"
   ]
  },
  {
   "cell_type": "code",
   "execution_count": 23,
   "metadata": {},
   "outputs": [
    {
     "data": {
      "text/plain": [
       "\u001b[32m\u001b[1mTest Passed\u001b[22m\u001b[39m"
      ]
     },
     "execution_count": 23,
     "metadata": {},
     "output_type": "execute_result"
    }
   ],
   "source": [
    "@test round(loglikelihood(model0), digits=2) ≈ -1399.68"
   ]
  },
  {
   "cell_type": "code",
   "execution_count": 24,
   "metadata": {},
   "outputs": [
    {
     "data": {
      "text/plain": [
       "θneural_noiseless{θz{Float64},Array{Array{Sigmoid{Float64},1},1}}\n",
       "  θz: θz{Float64}\n",
       "  θy: Array{Array{Sigmoid{Float64},1}}((2,))\n",
       "  f: Array{Array{String,1}}((2,))\n"
      ]
     },
     "execution_count": 24,
     "metadata": {},
     "output_type": "execute_result"
    }
   ],
   "source": [
    "x0 = pulse_input_DDM.flatten(θ0)\n",
    "@unpack f = θ0"
   ]
  },
  {
   "cell_type": "code",
   "execution_count": 25,
   "metadata": {},
   "outputs": [
    {
     "data": {
      "text/plain": [
       "\u001b[32m\u001b[1mTest Passed\u001b[22m\u001b[39m"
      ]
     },
     "execution_count": 25,
     "metadata": {},
     "output_type": "execute_result"
    }
   ],
   "source": [
    "@test round(loglikelihood(x0, model0), digits=2) ≈ -1399.68"
   ]
  },
  {
   "cell_type": "code",
   "execution_count": 26,
   "metadata": {},
   "outputs": [
    {
     "data": {
      "text/plain": [
       "\u001b[32m\u001b[1mTest Passed\u001b[22m\u001b[39m"
      ]
     },
     "execution_count": 26,
     "metadata": {},
     "output_type": "execute_result"
    }
   ],
   "source": [
    "model, = optimize(model0, options0; iterations=2, outer_iterations=1)\n",
    "@test round(norm(pulse_input_DDM.flatten(model.θ)), digits=2) ≈ 87.51"
   ]
  },
  {
   "cell_type": "code",
   "execution_count": 27,
   "metadata": {},
   "outputs": [
    {
     "data": {
      "text/plain": [
       "\u001b[32m\u001b[1mTest Passed\u001b[22m\u001b[39m"
      ]
     },
     "execution_count": 27,
     "metadata": {},
     "output_type": "execute_result"
    }
   ],
   "source": [
    "@test round(norm(gradient(model)), digits=2) ≈ 6.82"
   ]
  },
  {
   "cell_type": "code",
   "execution_count": 28,
   "metadata": {},
   "outputs": [
    {
     "data": {
      "text/plain": [
       "19-element Array{Float64,1}:\n",
       "  0.1               \n",
       " 15.0               \n",
       " -0.1               \n",
       " 20.0               \n",
       "  0.5               \n",
       "  0.8               \n",
       "  0.008             \n",
       " 52.69070630256158  \n",
       " 43.434427853058395 \n",
       " -2.8625905261748006\n",
       "  5.0336085210607395\n",
       " 17.047935166694103 \n",
       " 33.8056973114395   \n",
       "  5.1937297903733795\n",
       "  3.97561896305667  \n",
       " -5.690347702664896 \n",
       " 23.203791176447094 \n",
       "  0.4792342779693217\n",
       "  3.6141666197326594"
      ]
     },
     "execution_count": 28,
     "metadata": {},
     "output_type": "execute_result"
    }
   ],
   "source": [
    "x0 = vcat([0.1, 15., -0.1, 20., 0.5, 0.8, 0.008], pulse_input_DDM.flatten(model.θ)[dimz+1:end])"
   ]
  },
  {
   "cell_type": "code",
   "execution_count": 29,
   "metadata": {},
   "outputs": [
    {
     "name": "stdout",
     "output_type": "stream",
     "text": [
      "Fminbox\n",
      "-------\n",
      "Initial mu = 0.00248599\n",
      "\n",
      "Fminbox iteration 1\n",
      "-------------------\n",
      "Calling inner optimizer with mu = 0.00248599\n",
      "\n",
      "(numbers below include barrier contribution)\n",
      "Iter     Function value   Gradient norm \n",
      "     0     7.827493e+02     7.356733e+02\n",
      " * time: 5.793571472167969e-5\n",
      "\n",
      "Exiting inner optimizer with x = [1.051828368475773, 15.03668934024119, 0.2797507123339492, 20.04006641872528, 0.5926364853980968, 0.01838739503368525, 0.7082387560405169, 52.42451557332407, 43.40460710623912, -3.3663760919374215, 4.683811149066144, 16.995759054681873, 33.792099189665144, 4.917694876411467, 3.9073304947867564, -5.689492847672851, 23.20298505742793, 0.280912565861838, 3.6334905003779103]\n",
      "Current distance to box: 0.0173874\n",
      "Decreasing barrier term μ.\n",
      "\n"
     ]
    },
    {
     "data": {
      "text/plain": [
       "\u001b[32m\u001b[1mTest Passed\u001b[22m\u001b[39m"
      ]
     },
     "execution_count": 29,
     "metadata": {},
     "output_type": "execute_result"
    }
   ],
   "source": [
    "options = neural_options(f)  \n",
    "\n",
    "model = neuralDDM(θneural(x0, f), data, n, cross, θprior(μ_B=40., σ_B=1e6))\n",
    "model, = optimize(model, options; iterations=2, outer_iterations=1)\n",
    "@test round(norm(pulse_input_DDM.flatten(model.θ)), digits=2) ≈ 85.73"
   ]
  },
  {
   "cell_type": "code",
   "execution_count": 30,
   "metadata": {},
   "outputs": [
    {
     "data": {
      "text/plain": [
       "\u001b[32m\u001b[1mTest Passed\u001b[22m\u001b[39m"
      ]
     },
     "execution_count": 30,
     "metadata": {},
     "output_type": "execute_result"
    }
   ],
   "source": [
    "H = Hessian(model; chuck_size=4)\n",
    "@test round(norm(H), digits=2) ≈ 22.83"
   ]
  },
  {
   "cell_type": "code",
   "execution_count": 31,
   "metadata": {},
   "outputs": [
    {
     "name": "stderr",
     "output_type": "stream",
     "text": [
      "┌ Warning: Hessian is not positive definite. Approximated by closest PSD matrix.\n",
      "│             ||ϵ||/||H|| is 1.7824957110747937\n",
      "└ @ pulse_input_DDM /usr/people/briandd/Projects/pulse_input_DDM/src/base_model.jl:19\n"
     ]
    },
    {
     "data": {
      "text/plain": [
       "\u001b[32m\u001b[1mTest Passed\u001b[22m\u001b[39m"
      ]
     },
     "execution_count": 31,
     "metadata": {},
     "output_type": "execute_result"
    }
   ],
   "source": [
    "CI, HPSD = CIs(H)\n",
    "@test round(norm(CI), digits=2) ≈ 303.03"
   ]
  },
  {
   "cell_type": "code",
   "execution_count": 32,
   "metadata": {},
   "outputs": [
    {
     "data": {
      "text/plain": [
       "neural_choice_options\n",
       "  fit: Array{Bool}((21,)) Bool[1, 1, 1, 1, 1, 1, 1, 1, 1, 1  …  1, 1, 1, 1, 1, 1, 1, 1, 1, 1]\n",
       "  ub: Array{Float64}((21,)) [100.0, 100.0, 5.0, 400.0, 10.0, 1.2, 1.0, 30.0, 1.0, 100.0  …  10.0, 10.0, 100.0, 100.0, 10.0, 10.0, 100.0, 100.0, 10.0, 10.0]\n",
       "  lb: Array{Float64}((21,)) [0.001, 8.0, -5.0, 0.001, 0.001, 0.001, 0.005, -30.0, 0.0, -100.0  …  -10.0, -10.0, -100.0, 0.0, -10.0, -10.0, -100.0, 0.0, -10.0, -10.0]\n"
      ]
     },
     "execution_count": 32,
     "metadata": {},
     "output_type": "execute_result"
    }
   ],
   "source": [
    "options = neural_choice_options(f)"
   ]
  },
  {
   "cell_type": "code",
   "execution_count": 33,
   "metadata": {},
   "outputs": [
    {
     "data": {
      "text/plain": [
       "neural_choiceDDM{θneural_choice{θz{Float64},Float64,Array{Array{Sigmoid{Float64},1},1}},Array{Array{neuraldata,1},1}}\n",
       "  θ: θneural_choice{θz{Float64},Float64,Array{Array{Sigmoid{Float64},1},1}}\n",
       "  data: Array{Array{neuraldata,1}}((2,))\n",
       "  n: Int64 53\n",
       "  cross: Bool false\n"
      ]
     },
     "execution_count": 33,
     "metadata": {},
     "output_type": "execute_result"
    }
   ],
   "source": [
    "choice_neural_model = neural_choiceDDM(θneural_choice(vcat(x0[1:dimz], 0., 0., x0[dimz+1:end]), f), data, n, cross)"
   ]
  },
  {
   "cell_type": "code",
   "execution_count": 34,
   "metadata": {},
   "outputs": [
    {
     "data": {
      "text/plain": [
       "\u001b[32m\u001b[1mTest Passed\u001b[22m\u001b[39m"
      ]
     },
     "execution_count": 34,
     "metadata": {},
     "output_type": "execute_result"
    }
   ],
   "source": [
    "@test round(choice_loglikelihood(choice_neural_model), digits=2) ≈ -36.54"
   ]
  },
  {
   "cell_type": "code",
   "execution_count": 35,
   "metadata": {},
   "outputs": [
    {
     "data": {
      "text/plain": [
       "\u001b[32m\u001b[1mTest Passed\u001b[22m\u001b[39m"
      ]
     },
     "execution_count": 35,
     "metadata": {},
     "output_type": "execute_result"
    }
   ],
   "source": [
    "@test round(joint_loglikelihood(choice_neural_model), digits=2) ≈ -784.56"
   ]
  },
  {
   "cell_type": "code",
   "execution_count": 39,
   "metadata": {},
   "outputs": [
    {
     "data": {
      "text/plain": [
       "([4, 4, 4], [1, 2])"
      ]
     },
     "execution_count": 39,
     "metadata": {},
     "output_type": "execute_result"
    }
   ],
   "source": [
    "import pulse_input_DDM: nθparams\n",
    "nparams, = nθparams(f)"
   ]
  },
  {
   "cell_type": "code",
   "execution_count": 40,
   "metadata": {},
   "outputs": [
    {
     "data": {
      "text/plain": [
       "neural_choice_options\n",
       "  fit: Array{Bool}((21,)) Bool[0, 0, 0, 0, 0, 0, 0, 1, 1, 0  …  0, 0, 0, 0, 0, 0, 0, 0, 0, 0]\n",
       "  ub: Array{Float64}((21,)) [100.0, 100.0, 5.0, 400.0, 10.0, 1.2, 1.0, 30.0, 1.0, 100.0  …  10.0, 10.0, 100.0, 100.0, 10.0, 10.0, 100.0, 100.0, 10.0, 10.0]\n",
       "  lb: Array{Float64}((21,)) [0.001, 8.0, -5.0, 0.001, 0.001, 0.001, 0.005, -30.0, 0.0, -100.0  …  -10.0, -10.0, -100.0, 0.0, -10.0, -10.0, -100.0, 0.0, -10.0, -10.0]\n"
      ]
     },
     "execution_count": 40,
     "metadata": {},
     "output_type": "execute_result"
    }
   ],
   "source": [
    "fit = vcat(falses(dimz), trues(2), falses.(nparams)...);\n",
    "options = neural_choice_options(fit=fit, lb=options.lb, ub=options.ub)"
   ]
  },
  {
   "cell_type": "code",
   "execution_count": 41,
   "metadata": {},
   "outputs": [
    {
     "name": "stderr",
     "output_type": "stream",
     "text": [
      "┌ Warning: Initial position cannot be on the boundary of the box. Moving elements to the interior.\n",
      "│ Element indices affected: [2]\n",
      "└ @ Optim /usr/people/briandd/.julia/packages/Optim/UkDyx/src/multivariate/solvers/constrained/fminbox.jl:227\n"
     ]
    },
    {
     "name": "stdout",
     "output_type": "stream",
     "text": [
      "Fminbox\n",
      "-------\n",
      "Initial mu = 0.00198185\n",
      "\n",
      "Fminbox iteration 1\n",
      "-------------------\n",
      "Calling inner optimizer with mu = 0.00198185\n",
      "\n",
      "(numbers below include barrier contribution)\n",
      "Iter     Function value   Gradient norm \n",
      "     0     2.553508e+01     1.985417e+02\n",
      " * time: 2.9087066650390625e-5\n",
      "\n",
      "Exiting inner optimizer with x = [-0.028033068408189386, 0.8068821880005785]\n",
      "Current distance to box: 0.193118\n",
      "Decreasing barrier term μ.\n",
      "\n"
     ]
    },
    {
     "data": {
      "text/plain": [
       "(neural_choiceDDM{θneural_choice{θz{Float64},Float64,Array{Array{Sigmoid{Float64},1},1}},Array{Array{neuraldata,1},1}}\n",
       "  θ: θneural_choice{θz{Float64},Float64,Array{Array{Sigmoid{Float64},1},1}}\n",
       "  data: Array{Array{neuraldata,1}}((2,))\n",
       "  n: Int64 53\n",
       "  cross: Bool false\n",
       ",  * Status: failure (reached maximum number of iterations)\n",
       "\n",
       " * Candidate solution\n",
       "    Minimizer: [-2.80e-02, 8.07e-01]\n",
       "    Minimum:   1.121762e+01\n",
       "\n",
       " * Found with\n",
       "    Algorithm:     Fminbox with BFGS\n",
       "    Initial Point: [0.00e+00, 0.00e+00]\n",
       "\n",
       " * Convergence measures\n",
       "    |x - x'|               = 7.97e-01 ≰ 1.0e-10\n",
       "    |x - x'|/|x'|          = 9.88e-01 ≰ 0.0e+00\n",
       "    |f(x) - f(x')|         = 1.43e+01 ≰ 0.0e+00\n",
       "    |f(x) - f(x')|/|f(x')| = 1.28e+00 ≰ 1.0e-09\n",
       "    |g(x)|                 = 5.04e+00 ≰ 1.0e-03\n",
       "\n",
       " * Work counters\n",
       "    Seconds run:   4  (vs limit 170000)\n",
       "    Iterations:    1\n",
       "    f(x) calls:    11\n",
       "    ∇f(x) calls:   3\n",
       ")"
      ]
     },
     "execution_count": 41,
     "metadata": {},
     "output_type": "execute_result"
    }
   ],
   "source": [
    "choice_neural_model, = choice_optimize(choice_neural_model, options; iterations=2, outer_iterations=1)"
   ]
  },
  {
   "cell_type": "code",
   "execution_count": 43,
   "metadata": {},
   "outputs": [
    {
     "data": {
      "text/plain": [
       "\u001b[32m\u001b[1mTest Passed\u001b[22m\u001b[39m"
      ]
     },
     "execution_count": 43,
     "metadata": {},
     "output_type": "execute_result"
    }
   ],
   "source": [
    "@test round(norm(pulse_input_DDM.flatten(choice_neural_model.θ)), digits=2) ≈ 85.93"
   ]
  },
  {
   "cell_type": "code",
   "execution_count": 44,
   "metadata": {},
   "outputs": [
    {
     "data": {
      "text/plain": [
       "neural_choiceDDM{θneural_choice{θz{Float64},Float64,Array{Array{Sigmoid{Float64},1},1}},Array{Array{neuraldata,1},1}}\n",
       "  θ: θneural_choice{θz{Float64},Float64,Array{Array{Sigmoid{Float64},1},1}}\n",
       "  data: Array{Array{neuraldata,1}}((2,))\n",
       "  n: Int64 53\n",
       "  cross: Bool false\n"
      ]
     },
     "execution_count": 44,
     "metadata": {},
     "output_type": "execute_result"
    }
   ],
   "source": [
    "choice_neural_model = neural_choiceDDM(θneural_choice(vcat(x0[1:dimz], 0., 0., x0[dimz+1:end]), f), data, n, cross)"
   ]
  },
  {
   "cell_type": "code",
   "execution_count": 45,
   "metadata": {},
   "outputs": [
    {
     "data": {
      "text/plain": [
       "neural_choice_options\n",
       "  fit: Array{Bool}((21,)) Bool[1, 1, 1, 1, 1, 1, 1, 1, 1, 1  …  1, 1, 1, 1, 1, 1, 1, 1, 1, 1]\n",
       "  ub: Array{Float64}((21,)) [100.0, 100.0, 5.0, 400.0, 10.0, 1.2, 1.0, 30.0, 1.0, 100.0  …  10.0, 10.0, 100.0, 100.0, 10.0, 10.0, 100.0, 100.0, 10.0, 10.0]\n",
       "  lb: Array{Float64}((21,)) [0.001, 8.0, -5.0, 0.001, 0.001, 0.001, 0.005, -30.0, 0.0, -100.0  …  -10.0, -10.0, -100.0, 0.0, -10.0, -10.0, -100.0, 0.0, -10.0, -10.0]\n"
      ]
     },
     "execution_count": 45,
     "metadata": {},
     "output_type": "execute_result"
    }
   ],
   "source": [
    "fit = vcat(trues(dimz), trues(2), trues.(nparams)...);\n",
    "options = neural_choice_options(fit=fit, lb=options.lb, ub=options.ub)"
   ]
  },
  {
   "cell_type": "code",
   "execution_count": null,
   "metadata": {},
   "outputs": [],
   "source": [
    "choice_neural_model, = choice_optimize(choice_neural_model, options; iterations=2, outer_iterations=1)"
   ]
  },
  {
   "cell_type": "code",
   "execution_count": null,
   "metadata": {},
   "outputs": [],
   "source": [
    "@test round(norm(pulse_input_DDM.flatten(choice_neural_model.θ)), digits=2) ≈ 85.93"
   ]
  }
 ],
 "metadata": {
  "kernelspec": {
   "display_name": "Julia 1.2.0",
   "language": "julia",
   "name": "julia-1.2"
  },
  "language_info": {
   "file_extension": ".jl",
   "mimetype": "application/julia",
   "name": "julia",
   "version": "1.2.0"
  }
 },
 "nbformat": 4,
 "nbformat_minor": 2
}
