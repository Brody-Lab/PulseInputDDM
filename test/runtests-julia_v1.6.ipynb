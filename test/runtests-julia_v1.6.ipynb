{
 "cells": [
  {
   "cell_type": "markdown",
   "metadata": {},
   "source": [
    "## Run on Julia 1.6.0"
   ]
  },
  {
   "cell_type": "code",
   "execution_count": 1,
   "metadata": {},
   "outputs": [],
   "source": [
    "using Test, PulseInputDDM, LinearAlgebra, Flatten, Parameters"
   ]
  },
  {
   "cell_type": "code",
   "execution_count": 2,
   "metadata": {},
   "outputs": [
    {
     "data": {
      "text/plain": [
       "(53, false)"
      ]
     },
     "execution_count": 2,
     "metadata": {},
     "output_type": "execute_result"
    }
   ],
   "source": [
    "n, cross = 53, false"
   ]
  },
  {
   "cell_type": "code",
   "execution_count": 3,
   "metadata": {},
   "outputs": [
    {
     "data": {
      "text/plain": [
       "choiceDDM{θchoice{θz{Float64}, Float64}, Vector{PulseInputDDM.choicedata{PulseInputDDM.choiceinputs{PulseInputDDM.clicks, PulseInputDDM.binned_clicks}}}, θprior{Float64}}\n",
       "  θ: θchoice{θz{Float64}, Float64}\n",
       "  data: Array{PulseInputDDM.choicedata{PulseInputDDM.choiceinputs{PulseInputDDM.clicks, PulseInputDDM.binned_clicks}}}((10,))\n",
       "  n: Int64 53\n",
       "  cross: Bool false\n",
       "  θprior: θprior{Float64}\n"
      ]
     },
     "execution_count": 3,
     "metadata": {},
     "output_type": "execute_result"
    }
   ],
   "source": [
    "## Choice model\n",
    "θ = θchoice(θz=θz(σ2_i = 0.5, B = 15., λ = -0.5, σ2_a = 50., σ2_s = 1.5,\n",
    "    ϕ = 0.8, τ_ϕ = 0.05),\n",
    "    bias=1., lapse=0.05)\n",
    "\n",
    "θ, data = synthetic_data(;θ=θ, ntrials=10, rng=1)\n",
    "model_gen = choiceDDM(θ, data, n, cross, θprior(μ_B=40., σ_B=1e6))"
   ]
  },
  {
   "cell_type": "code",
   "execution_count": 4,
   "metadata": {},
   "outputs": [],
   "source": [
    "choices = getfield.(data, :choice);"
   ]
  },
  {
   "cell_type": "code",
   "execution_count": 5,
   "metadata": {},
   "outputs": [
    {
     "data": {
      "text/plain": [
       "10-element BitVector:\n",
       " 1\n",
       " 0\n",
       " 0\n",
       " 0\n",
       " 0\n",
       " 0\n",
       " 0\n",
       " 0\n",
       " 0\n",
       " 1"
      ]
     },
     "execution_count": 5,
     "metadata": {},
     "output_type": "execute_result"
    }
   ],
   "source": [
    "choices"
   ]
  },
  {
   "cell_type": "code",
   "execution_count": 6,
   "metadata": {},
   "outputs": [
    {
     "data": {
      "text/plain": [
       "\u001b[32m\u001b[1mTest Passed\u001b[22m\u001b[39m"
      ]
     },
     "execution_count": 6,
     "metadata": {},
     "output_type": "execute_result"
    }
   ],
   "source": [
    "@test all(choices .== vcat(true, falses(8), true))"
   ]
  },
  {
   "cell_type": "code",
   "execution_count": 7,
   "metadata": {},
   "outputs": [
    {
     "name": "stdout",
     "output_type": "stream",
     "text": [
      "  2.973292 seconds (5.27 M allocations: 315.128 MiB, 3.85% gc time, 97.06% compilation time)\n"
     ]
    },
    {
     "data": {
      "text/plain": [
       "\u001b[32m\u001b[1mTest Passed\u001b[22m\u001b[39m"
      ]
     },
     "execution_count": 7,
     "metadata": {},
     "output_type": "execute_result"
    }
   ],
   "source": [
    "@time @test round(loglikelihood(model_gen), digits=2) ≈ -3.3"
   ]
  },
  {
   "cell_type": "code",
   "execution_count": 8,
   "metadata": {},
   "outputs": [
    {
     "data": {
      "text/plain": [
       "\u001b[32m\u001b[1mTest Passed\u001b[22m\u001b[39m"
      ]
     },
     "execution_count": 8,
     "metadata": {},
     "output_type": "execute_result"
    }
   ],
   "source": [
    "@test round(norm(gradient(model_gen)), digits=2) ≈ 6.27"
   ]
  },
  {
   "cell_type": "code",
   "execution_count": 9,
   "metadata": {},
   "outputs": [],
   "source": [
    "options = choiceoptions(lb=vcat([0., 8.,  -5., 0.,   0.,  0.01, 0.005], [-30, 0.]),\n",
    "    ub = vcat([2., 30., 5., 100., 2.5, 1.2,  1.], [30, 1.]), \n",
    "    fit = trues(dimz+2));"
   ]
  },
  {
   "cell_type": "code",
   "execution_count": 10,
   "metadata": {},
   "outputs": [
    {
     "name": "stdout",
     "output_type": "stream",
     "text": [
      "Fminbox\n",
      "-------\n",
      "Initial mu = 0.00023176\n",
      "\n",
      "Fminbox iteration 1\n",
      "-------------------\n",
      "Calling inner optimizer with mu = 0.00023176\n",
      "\n",
      "(numbers below include barrier contribution)\n",
      "Iter     Function value   Gradient norm \n",
      "     0     2.031279e+01     9.526069e+01\n",
      " * time: 0.031861066818237305\n",
      "\n",
      "Exiting inner optimizer with x = [0.09245260117531101, 14.99534895309801, -0.07050520798299356, 19.995171687431025, 0.07683762452946646, 0.8225008941393236, 0.005001877508016104, 0.021251246288531825, 0.04094907661372967]\n",
      "Current distance to box: 1.87751e-6\n",
      "Decreasing barrier term μ.\n",
      "\n"
     ]
    },
    {
     "data": {
      "text/plain": [
       "\u001b[32m\u001b[1mTest Passed\u001b[22m\u001b[39m"
      ]
     },
     "execution_count": 10,
     "metadata": {},
     "output_type": "execute_result"
    }
   ],
   "source": [
    "model, = optimize(data, options; iterations=5, outer_iterations=1, θprior=θprior(μ_B=40., σ_B=1e6));\n",
    "@test round(norm(Flatten.flatten(model.θ)), digits=2) ≈ 25.01"
   ]
  },
  {
   "cell_type": "code",
   "execution_count": 11,
   "metadata": {},
   "outputs": [
    {
     "data": {
      "text/plain": [
       "\u001b[32m\u001b[1mTest Passed\u001b[22m\u001b[39m"
      ]
     },
     "execution_count": 11,
     "metadata": {},
     "output_type": "execute_result"
    }
   ],
   "source": [
    "H = Hessian(model)\n",
    "@test round(norm(H), digits=2) ≈ 762.91"
   ]
  },
  {
   "cell_type": "code",
   "execution_count": 12,
   "metadata": {},
   "outputs": [
    {
     "name": "stderr",
     "output_type": "stream",
     "text": [
      "┌ Warning: Hessian is not positive definite. Approximated by closest PSD matrix.\n",
      "│             ||ϵ||/||H|| is 299.80355140583623\n",
      "└ @ PulseInputDDM /mnt/cup/people/briandd/Projects/PulseInputDDM/src/base_model.jl:19\n"
     ]
    },
    {
     "data": {
      "text/plain": [
       "\u001b[32m\u001b[1mTest Passed\u001b[22m\u001b[39m"
      ]
     },
     "execution_count": 12,
     "metadata": {},
     "output_type": "execute_result"
    }
   ],
   "source": [
    "CI, HPSD = CIs(H)\n",
    "@test round(norm(CI), digits=2) ≈ 587.96"
   ]
  },
  {
   "cell_type": "markdown",
   "metadata": {},
   "source": [
    "## Neural"
   ]
  },
  {
   "cell_type": "code",
   "execution_count": 13,
   "metadata": {},
   "outputs": [],
   "source": [
    "## Neural model\n",
    "ncells, ntrials = [1,2], [10,5]\n",
    "f = [repeat([\"Sigmoid\"], N) for N in ncells]\n",
    "                    \n",
    "θ = θneural(θz = θz(σ2_i = 0.5, B = 15., λ = -0.5, σ2_a = 10., σ2_s = 1.2,\n",
    "    ϕ = 0.6, τ_ϕ =  0.02),\n",
    "    θy=[[Sigmoid() for n in 1:N] for N in ncells], f=f);"
   ]
  },
  {
   "cell_type": "code",
   "execution_count": 14,
   "metadata": {},
   "outputs": [],
   "source": [
    "data, = synthetic_data(θ, ntrials, ncells);\n",
    "model_gen = neuralDDM(θ, data, n, cross, θprior(μ_B=40., σ_B=1e6));"
   ]
  },
  {
   "cell_type": "code",
   "execution_count": 15,
   "metadata": {},
   "outputs": [
    {
     "data": {
      "text/plain": [
       "15-element Vector{Vector{Int64}}:\n",
       " [7]\n",
       " [8]\n",
       " [5]\n",
       " [14]\n",
       " [10]\n",
       " [10]\n",
       " [9]\n",
       " [5]\n",
       " [8]\n",
       " [5]\n",
       " [4, 3]\n",
       " [9, 13]\n",
       " [11, 8]\n",
       " [1, 3]\n",
       " [11, 10]"
      ]
     },
     "execution_count": 15,
     "metadata": {},
     "output_type": "execute_result"
    }
   ],
   "source": [
    "spikes = map(x-> sum.(x), getfield.(vcat(data...), :spikes))"
   ]
  },
  {
   "cell_type": "code",
   "execution_count": 16,
   "metadata": {},
   "outputs": [
    {
     "data": {
      "text/plain": [
       "\u001b[32m\u001b[1mTest Passed\u001b[22m\u001b[39m"
      ]
     },
     "execution_count": 16,
     "metadata": {},
     "output_type": "execute_result"
    }
   ],
   "source": [
    "@test all(spikes .== [[7], [8], [5], [14], [10], [10], [9], [5], [8], [5], [4, 3], [9, 13], [11, 8], [1, 3], [11, 10]])"
   ]
  },
  {
   "cell_type": "code",
   "execution_count": 17,
   "metadata": {
    "scrolled": true
   },
   "outputs": [
    {
     "data": {
      "text/plain": [
       "\u001b[32m\u001b[1mTest Passed\u001b[22m\u001b[39m"
      ]
     },
     "execution_count": 17,
     "metadata": {},
     "output_type": "execute_result"
    }
   ],
   "source": [
    "@test round(loglikelihood(model_gen), digits=2) ≈ -451.56"
   ]
  },
  {
   "cell_type": "code",
   "execution_count": 18,
   "metadata": {},
   "outputs": [
    {
     "data": {
      "text/plain": [
       "\u001b[32m\u001b[1mTest Passed\u001b[22m\u001b[39m"
      ]
     },
     "execution_count": 18,
     "metadata": {},
     "output_type": "execute_result"
    }
   ],
   "source": [
    "@test round(norm(gradient(model_gen)), digits=2) ≈ 4.4"
   ]
  },
  {
   "cell_type": "code",
   "execution_count": 19,
   "metadata": {},
   "outputs": [
    {
     "data": {
      "text/plain": [
       "\u001b[32m\u001b[1mTest Passed\u001b[22m\u001b[39m"
      ]
     },
     "execution_count": 19,
     "metadata": {},
     "output_type": "execute_result"
    }
   ],
   "source": [
    "x = PulseInputDDM.flatten(θ)\n",
    "@test round(loglikelihood(x, model_gen), digits=2) ≈ -451.56"
   ]
  },
  {
   "cell_type": "code",
   "execution_count": 20,
   "metadata": {},
   "outputs": [
    {
     "data": {
      "text/plain": [
       "\u001b[32m\u001b[1mTest Passed\u001b[22m\u001b[39m"
      ]
     },
     "execution_count": 20,
     "metadata": {},
     "output_type": "execute_result"
    }
   ],
   "source": [
    "θy0 = vcat(vcat(θy.(data, f)...)...)\n",
    "@test round(norm(θy0), digits=2) ≈ 21.41"
   ]
  },
  {
   "cell_type": "code",
   "execution_count": 21,
   "metadata": {},
   "outputs": [
    {
     "data": {
      "text/plain": [
       "neural_options_noiseless\n",
       "  fit: Array{Bool}((19,)) Bool[0, 0, 0, 0, 0, 0, 0, 1, 1, 1, 1, 1, 1, 1, 1, 1, 1, 1, 1]\n",
       "  ub: Array{Float64}((19,)) [100.0, 100.0, 5.0, 400.0, 10.0, 1.2, 1.0, 100.0, 100.0, 10.0, 10.0, 100.0, 100.0, 10.0, 10.0, 100.0, 100.0, 10.0, 10.0]\n",
       "  lb: Array{Float64}((19,)) [0.001, 8.0, -5.0, 0.001, 0.001, 0.001, 0.005, -100.0, 0.0, -10.0, -10.0, -100.0, 0.0, -10.0, -10.0, -100.0, 0.0, -10.0, -10.0]\n"
      ]
     },
     "execution_count": 21,
     "metadata": {},
     "output_type": "execute_result"
    }
   ],
   "source": [
    "#deterministic model\n",
    "options0 = neural_options_noiseless(f)"
   ]
  },
  {
   "cell_type": "code",
   "execution_count": 22,
   "metadata": {},
   "outputs": [
    {
     "data": {
      "text/plain": [
       "19-element Vector{Float64}:\n",
       "   0.0\n",
       "  30.0\n",
       "   2.220446049250313e-16\n",
       "   0.0\n",
       "   0.0\n",
       "   0.9999999999999998\n",
       "   0.008\n",
       "  -3.27383416829478\n",
       "   5.237344693493839\n",
       "   0.0012036030165978307\n",
       "   0.0\n",
       " -11.880907702150646\n",
       "  12.523854202611258\n",
       "   0.0017736028443593546\n",
       "   0.0\n",
       "  -7.758407900516637\n",
       "   7.870264249894646\n",
       "   0.0020604602058062076\n",
       "   0.0"
      ]
     },
     "execution_count": 22,
     "metadata": {},
     "output_type": "execute_result"
    }
   ],
   "source": [
    "x0=vcat([0., 30., 0. + eps(), 0., 0., 1. - eps(), 0.008], θy0)"
   ]
  },
  {
   "cell_type": "code",
   "execution_count": 23,
   "metadata": {},
   "outputs": [
    {
     "data": {
      "text/plain": [
       "noiseless_neuralDDM{θneural_noiseless{θz{Float64}, Vector{Vector{Sigmoid{Float64}}}}, Vector{Vector{neuraldata}}}\n",
       "  θ: θneural_noiseless{θz{Float64}, Vector{Vector{Sigmoid{Float64}}}}\n",
       "  data: Array{Vector{neuraldata}}((2,))\n"
      ]
     },
     "execution_count": 23,
     "metadata": {},
     "output_type": "execute_result"
    }
   ],
   "source": [
    "θ0 = θneural_noiseless(x0, f)\n",
    "model0 = noiseless_neuralDDM(θ0, data)"
   ]
  },
  {
   "cell_type": "code",
   "execution_count": 24,
   "metadata": {},
   "outputs": [
    {
     "data": {
      "text/plain": [
       "\u001b[32m\u001b[1mTest Passed\u001b[22m\u001b[39m"
      ]
     },
     "execution_count": 24,
     "metadata": {},
     "output_type": "execute_result"
    }
   ],
   "source": [
    "@test round(loglikelihood(model0), digits=2) ≈ -1127.15"
   ]
  },
  {
   "cell_type": "code",
   "execution_count": 25,
   "metadata": {},
   "outputs": [
    {
     "data": {
      "text/plain": [
       "θneural_noiseless{θz{Float64}, Vector{Vector{Sigmoid{Float64}}}}\n",
       "  θz: θz{Float64}\n",
       "  θy: Array{Vector{Sigmoid{Float64}}}((2,))\n",
       "  f: Array{Vector{String}}((2,))\n"
      ]
     },
     "execution_count": 25,
     "metadata": {},
     "output_type": "execute_result"
    }
   ],
   "source": [
    "x0 = PulseInputDDM.flatten(θ0)\n",
    "@unpack f = θ0"
   ]
  },
  {
   "cell_type": "code",
   "execution_count": 26,
   "metadata": {},
   "outputs": [
    {
     "data": {
      "text/plain": [
       "\u001b[32m\u001b[1mTest Passed\u001b[22m\u001b[39m"
      ]
     },
     "execution_count": 26,
     "metadata": {},
     "output_type": "execute_result"
    }
   ],
   "source": [
    "@test round(loglikelihood(x0, model0), digits=2) ≈ -1127.15"
   ]
  },
  {
   "cell_type": "code",
   "execution_count": 27,
   "metadata": {},
   "outputs": [
    {
     "data": {
      "text/plain": [
       "\u001b[32m\u001b[1mTest Passed\u001b[22m\u001b[39m"
      ]
     },
     "execution_count": 27,
     "metadata": {},
     "output_type": "execute_result"
    }
   ],
   "source": [
    "model, = optimize(model0, options0; iterations=2, outer_iterations=1)\n",
    "@test round(norm(PulseInputDDM.flatten(model.θ)), digits=2) ≈ 45.21"
   ]
  },
  {
   "cell_type": "code",
   "execution_count": 28,
   "metadata": {},
   "outputs": [
    {
     "name": "stdout",
     "output_type": "stream",
     "text": [
      "\u001b[91m\u001b[1mError During Test\u001b[22m\u001b[39m at \u001b[39m\u001b[1mIn[28]:1\u001b[22m\n",
      "  Test threw exception\n",
      "  Expression: round(norm(gradient(model)), digits = 2) ≈ 4.64\n",
      "  DomainError with Dual{ForwardDiff.Tag{PulseInputDDM.var\"#ℓℓ#224\"{noiseless_neuralDDM{θneural_noiseless{θz{Float64}, Vector{Vector{Sigmoid{Float64}}}}, Vector{Vector{neuraldata}}}}, Float64}}(NaN,NaN,NaN,NaN,NaN,NaN,NaN,NaN,NaN,NaN,NaN):\n",
      "  Poisson: the condition λ >= zero(λ) is not satisfied.\n",
      "  Stacktrace:\n",
      "    [1] \u001b[0m\u001b[1m(::Base.var\"#837#839\")\u001b[22m\u001b[0m\u001b[1m(\u001b[22m\u001b[90mx\u001b[39m::\u001b[0mTask\u001b[0m\u001b[1m)\u001b[22m\n",
      "  \u001b[90m    @ \u001b[39m\u001b[90mBase\u001b[39m \u001b[90m./\u001b[39m\u001b[90;4masyncmap.jl:177\u001b[0m\n",
      "    [2] \u001b[0m\u001b[1mforeach\u001b[22m\u001b[0m\u001b[1m(\u001b[22m\u001b[90mf\u001b[39m::\u001b[0mBase.var\"#837#839\", \u001b[90mitr\u001b[39m::\u001b[0mVector\u001b[90m{Any}\u001b[39m\u001b[0m\u001b[1m)\u001b[22m\n",
      "  \u001b[90m    @ \u001b[39m\u001b[90mBase\u001b[39m \u001b[90m./\u001b[39m\u001b[90;4mabstractarray.jl:2141\u001b[0m\n",
      "    [3] \u001b[0m\u001b[1mmaptwice\u001b[22m\u001b[0m\u001b[1m(\u001b[22m\u001b[90mwrapped_f\u001b[39m::\u001b[0mFunction, \u001b[90mchnl\u001b[39m::\u001b[0mChannel\u001b[90m{Any}\u001b[39m, \u001b[90mworker_tasks\u001b[39m::\u001b[0mVector\u001b[90m{Any}\u001b[39m, \u001b[90mc\u001b[39m::\u001b[0mVector\u001b[90m{neuraldata}\u001b[39m\u001b[0m\u001b[1m)\u001b[22m\n",
      "  \u001b[90m    @ \u001b[39m\u001b[90mBase\u001b[39m \u001b[90m./\u001b[39m\u001b[90;4masyncmap.jl:177\u001b[0m\n",
      "    [4] \u001b[0m\u001b[1mwrap_n_exec_twice\u001b[22m\n",
      "  \u001b[90m    @ \u001b[39m\u001b[90m./\u001b[39m\u001b[90;4masyncmap.jl:153\u001b[0m\u001b[90m [inlined]\u001b[39m\n",
      "    [5] \u001b[0m\u001b[1m#async_usemap#822\u001b[22m\n",
      "  \u001b[90m    @ \u001b[39m\u001b[90m./\u001b[39m\u001b[90;4masyncmap.jl:103\u001b[0m\u001b[90m [inlined]\u001b[39m\n",
      "    [6] \u001b[0m\u001b[1m#asyncmap#821\u001b[22m\n",
      "  \u001b[90m    @ \u001b[39m\u001b[90m./\u001b[39m\u001b[90;4masyncmap.jl:81\u001b[0m\u001b[90m [inlined]\u001b[39m\n",
      "    [7] \u001b[0m\u001b[1mpmap\u001b[22m\u001b[0m\u001b[1m(\u001b[22m\u001b[90mf\u001b[39m::\u001b[0mFunction, \u001b[90mp\u001b[39m::\u001b[0mDistributed.WorkerPool, \u001b[90mc\u001b[39m::\u001b[0mVector\u001b[90m{neuraldata}\u001b[39m; \u001b[90mdistributed\u001b[39m::\u001b[0mBool, \u001b[90mbatch_size\u001b[39m::\u001b[0mInt64, \u001b[90mon_error\u001b[39m::\u001b[0mNothing, \u001b[90mretry_delays\u001b[39m::\u001b[0mVector\u001b[90m{Any}\u001b[39m, \u001b[90mretry_check\u001b[39m::\u001b[0mNothing\u001b[0m\u001b[1m)\u001b[22m\n",
      "  \u001b[90m    @ \u001b[39m\u001b[35mDistributed\u001b[39m \u001b[90m/buildworker/worker/package_linux64/build/usr/share/julia/stdlib/v1.6/Distributed/src/\u001b[39m\u001b[90;4mpmap.jl:126\u001b[0m\n",
      "    [8] \u001b[0m\u001b[1m#pmap#215\u001b[22m\n",
      "  \u001b[90m    @ \u001b[39m\u001b[90m/buildworker/worker/package_linux64/build/usr/share/julia/stdlib/v1.6/Distributed/src/\u001b[39m\u001b[90;4mpmap.jl:156\u001b[0m\u001b[90m [inlined]\u001b[39m\n",
      "    [9] \u001b[0m\u001b[1m(::PulseInputDDM.var\"#490#492\"{θz{ForwardDiff.Dual{ForwardDiff.Tag{PulseInputDDM.var\"#ℓℓ#224\"{noiseless_neuralDDM{θneural_noiseless{θz{Float64}, Vector{Vector{Sigmoid{Float64}}}}, Vector{Vector{neuraldata}}}}, Float64}, Float64, 10}}})\u001b[22m\u001b[0m\u001b[1m(\u001b[22m\u001b[90mθy\u001b[39m::\u001b[0mVector\u001b[90m{Sigmoid{ForwardDiff.Dual{ForwardDiff.Tag{PulseInputDDM.var\"#ℓℓ#224\"{noiseless_neuralDDM{θneural_noiseless{θz{Float64}, Vector{Vector{Sigmoid{Float64}}}}, Vector{Vector{neuraldata}}}}, Float64}, Float64, 10}}}\u001b[39m, \u001b[90mdata\u001b[39m::\u001b[0mVector\u001b[90m{neuraldata}\u001b[39m\u001b[0m\u001b[1m)\u001b[22m\n",
      "  \u001b[90m    @ \u001b[39m\u001b[36mPulseInputDDM\u001b[39m \u001b[90m/mnt/cup/people/briandd/Projects/PulseInputDDM/src/neural_model/\u001b[39m\u001b[90;4mnoiseless_model.jl:163\u001b[0m\n",
      "   [10] \u001b[0m\u001b[1m#4\u001b[22m\n",
      "  \u001b[90m    @ \u001b[39m\u001b[90m./\u001b[39m\u001b[90;4mgenerator.jl:36\u001b[0m\u001b[90m [inlined]\u001b[39m\n",
      "   [11] \u001b[0m\u001b[1miterate\u001b[22m\n",
      "  \u001b[90m    @ \u001b[39m\u001b[90m./\u001b[39m\u001b[90;4mgenerator.jl:47\u001b[0m\u001b[90m [inlined]\u001b[39m\n",
      "   [12] \u001b[0m\u001b[1mcollect\u001b[22m\u001b[0m\u001b[1m(\u001b[22m\u001b[90mitr\u001b[39m::\u001b[0mBase.Generator\u001b[90m{Base.Iterators.Zip{Tuple{Vector{Vector{Sigmoid{ForwardDiff.Dual{ForwardDiff.Tag{PulseInputDDM.var\"#ℓℓ#224\"{noiseless_neuralDDM{θneural_noiseless{θz{Float64}, Vector{Vector{Sigmoid{Float64}}}}, Vector{Vector{neuraldata}}}}, Float64}, Float64, 10}}}}, Vector{Vector{neuraldata}}}}, Base.var\"#4#5\"{PulseInputDDM.var\"#490#492\"{θz{ForwardDiff.Dual{ForwardDiff.Tag{PulseInputDDM.var\"#ℓℓ#224\"{noiseless_neuralDDM{θneural_noiseless{θz{Float64}, Vector{Vector{Sigmoid{Float64}}}}, Vector{Vector{neuraldata}}}}, Float64}, Float64, 10}}}}}\u001b[39m\u001b[0m\u001b[1m)\u001b[22m\n",
      "  \u001b[90m    @ \u001b[39m\u001b[90mBase\u001b[39m \u001b[90m./\u001b[39m\u001b[90;4marray.jl:678\u001b[0m\n",
      "   [13] \u001b[0m\u001b[1mmap\u001b[22m\n",
      "  \u001b[90m    @ \u001b[39m\u001b[90m./\u001b[39m\u001b[90;4mabstractarray.jl:2383\u001b[0m\u001b[90m [inlined]\u001b[39m\n",
      "   [14] \u001b[0m\u001b[1mloglikelihood\u001b[22m\u001b[0m\u001b[1m(\u001b[22m\u001b[90mmodel\u001b[39m::\u001b[0mnoiseless_neuralDDM\u001b[90m{θneural_noiseless{θz{ForwardDiff.Dual{ForwardDiff.Tag{PulseInputDDM.var\"#ℓℓ#224\"{noiseless_neuralDDM{θneural_noiseless{θz{Float64}, Vector{Vector{Sigmoid{Float64}}}}, Vector{Vector{neuraldata}}}}, Float64}, Float64, 10}}, Vector{Vector{Sigmoid{ForwardDiff.Dual{ForwardDiff.Tag{PulseInputDDM.var\"#ℓℓ#224\"{noiseless_neuralDDM{θneural_noiseless{θz{Float64}, Vector{Vector{Sigmoid{Float64}}}}, Vector{Vector{neuraldata}}}}, Float64}, Float64, 10}}}}}, Vector{Vector{neuraldata}}}\u001b[39m\u001b[0m\u001b[1m)\u001b[22m\n",
      "  \u001b[90m    @ \u001b[39m\u001b[36mPulseInputDDM\u001b[39m \u001b[90m/mnt/cup/people/briandd/Projects/PulseInputDDM/src/neural_model/\u001b[39m\u001b[90;4mnoiseless_model.jl:163\u001b[0m\n",
      "   [15] \u001b[0m\u001b[1mloglikelihood\u001b[22m\u001b[0m\u001b[1m(\u001b[22m\u001b[90mx\u001b[39m::\u001b[0mVector\u001b[90m{ForwardDiff.Dual{ForwardDiff.Tag{PulseInputDDM.var\"#ℓℓ#224\"{noiseless_neuralDDM{θneural_noiseless{θz{Float64}, Vector{Vector{Sigmoid{Float64}}}}, Vector{Vector{neuraldata}}}}, Float64}, Float64, 10}}\u001b[39m, \u001b[90mmodel\u001b[39m::\u001b[0mnoiseless_neuralDDM\u001b[90m{θneural_noiseless{θz{Float64}, Vector{Vector{Sigmoid{Float64}}}}, Vector{Vector{neuraldata}}}\u001b[39m\u001b[0m\u001b[1m)\u001b[22m\n",
      "  \u001b[90m    @ \u001b[39m\u001b[36mPulseInputDDM\u001b[39m \u001b[90m/mnt/cup/people/briandd/Projects/PulseInputDDM/src/neural_model/\u001b[39m\u001b[90;4mnoiseless_model.jl:151\u001b[0m\n",
      "   [16] \u001b[0m\u001b[1m(::PulseInputDDM.var\"#ℓℓ#224\"{noiseless_neuralDDM{θneural_noiseless{θz{Float64}, Vector{Vector{Sigmoid{Float64}}}}, Vector{Vector{neuraldata}}}})\u001b[22m\u001b[0m\u001b[1m(\u001b[22m\u001b[90mx\u001b[39m::\u001b[0mVector\u001b[90m{ForwardDiff.Dual{ForwardDiff.Tag{PulseInputDDM.var\"#ℓℓ#224\"{noiseless_neuralDDM{θneural_noiseless{θz{Float64}, Vector{Vector{Sigmoid{Float64}}}}, Vector{Vector{neuraldata}}}}, Float64}, Float64, 10}}\u001b[39m\u001b[0m\u001b[1m)\u001b[22m\n",
      "  \u001b[90m    @ \u001b[39m\u001b[36mPulseInputDDM\u001b[39m \u001b[90m/mnt/cup/people/briandd/Projects/PulseInputDDM/src/neural_model/\u001b[39m\u001b[90;4mneural_model.jl:244\u001b[0m\n",
      "   [17] \u001b[0m\u001b[1mchunk_mode_gradient\u001b[22m\u001b[0m\u001b[1m(\u001b[22m\u001b[90mf\u001b[39m::\u001b[0mPulseInputDDM.var\"#ℓℓ#224\"\u001b[90m{noiseless_neuralDDM{θneural_noiseless{θz{Float64}, Vector{Vector{Sigmoid{Float64}}}}, Vector{Vector{neuraldata}}}}\u001b[39m, \u001b[90mx\u001b[39m::\u001b[0mVector\u001b[90m{Float64}\u001b[39m, \u001b[90mcfg\u001b[39m::\u001b[0mForwardDiff.GradientConfig\u001b[90m{ForwardDiff.Tag{PulseInputDDM.var\"#ℓℓ#224\"{noiseless_neuralDDM{θneural_noiseless{θz{Float64}, Vector{Vector{Sigmoid{Float64}}}}, Vector{Vector{neuraldata}}}}, Float64}, Float64, 10, Vector{ForwardDiff.Dual{ForwardDiff.Tag{PulseInputDDM.var\"#ℓℓ#224\"{noiseless_neuralDDM{θneural_noiseless{θz{Float64}, Vector{Vector{Sigmoid{Float64}}}}, Vector{Vector{neuraldata}}}}, Float64}, Float64, 10}}}\u001b[39m\u001b[0m\u001b[1m)\u001b[22m\n",
      "  \u001b[90m    @ \u001b[39m\u001b[32mForwardDiff\u001b[39m \u001b[90m~/.julia/packages/ForwardDiff/eqMFf/src/\u001b[39m\u001b[90;4mgradient.jl:150\u001b[0m\n",
      "   [18] \u001b[0m\u001b[1mgradient\u001b[22m\u001b[0m\u001b[1m(\u001b[22m\u001b[90mf\u001b[39m::\u001b[0mFunction, \u001b[90mx\u001b[39m::\u001b[0mVector\u001b[90m{Float64}\u001b[39m, \u001b[90mcfg\u001b[39m::\u001b[0mForwardDiff.GradientConfig\u001b[90m{ForwardDiff.Tag{PulseInputDDM.var\"#ℓℓ#224\"{noiseless_neuralDDM{θneural_noiseless{θz{Float64}, Vector{Vector{Sigmoid{Float64}}}}, Vector{Vector{neuraldata}}}}, Float64}, Float64, 10, Vector{ForwardDiff.Dual{ForwardDiff.Tag{PulseInputDDM.var\"#ℓℓ#224\"{noiseless_neuralDDM{θneural_noiseless{θz{Float64}, Vector{Vector{Sigmoid{Float64}}}}, Vector{Vector{neuraldata}}}}, Float64}, Float64, 10}}}\u001b[39m, ::\u001b[0mVal\u001b[90m{true}\u001b[39m\u001b[0m\u001b[1m)\u001b[22m\n",
      "  \u001b[90m    @ \u001b[39m\u001b[32mForwardDiff\u001b[39m \u001b[90m~/.julia/packages/ForwardDiff/eqMFf/src/\u001b[39m\u001b[90;4mgradient.jl:21\u001b[0m\n",
      "   [19] \u001b[0m\u001b[1mgradient\u001b[22m\u001b[0m\u001b[1m(\u001b[22m\u001b[90mf\u001b[39m::\u001b[0mFunction, \u001b[90mx\u001b[39m::\u001b[0mVector\u001b[90m{Float64}\u001b[39m, \u001b[90mcfg\u001b[39m::\u001b[0mForwardDiff.GradientConfig\u001b[90m{ForwardDiff.Tag{PulseInputDDM.var\"#ℓℓ#224\"{noiseless_neuralDDM{θneural_noiseless{θz{Float64}, Vector{Vector{Sigmoid{Float64}}}}, Vector{Vector{neuraldata}}}}, Float64}, Float64, 10, Vector{ForwardDiff.Dual{ForwardDiff.Tag{PulseInputDDM.var\"#ℓℓ#224\"{noiseless_neuralDDM{θneural_noiseless{θz{Float64}, Vector{Vector{Sigmoid{Float64}}}}, Vector{Vector{neuraldata}}}}, Float64}, Float64, 10}}}\u001b[39m\u001b[0m\u001b[1m)\u001b[22m\u001b[90m (repeats 2 times)\u001b[39m\n",
      "  \u001b[90m    @ \u001b[39m\u001b[32mForwardDiff\u001b[39m \u001b[90m~/.julia/packages/ForwardDiff/eqMFf/src/\u001b[39m\u001b[90;4mgradient.jl:17\u001b[0m\n",
      "   [20] \u001b[0m\u001b[1mgradient\u001b[22m\u001b[0m\u001b[1m(\u001b[22m\u001b[90mmodel\u001b[39m::\u001b[0mnoiseless_neuralDDM\u001b[90m{θneural_noiseless{θz{Float64}, Vector{Vector{Sigmoid{Float64}}}}, Vector{Vector{neuraldata}}}\u001b[39m\u001b[0m\u001b[1m)\u001b[22m\n",
      "  \u001b[90m    @ \u001b[39m\u001b[36mPulseInputDDM\u001b[39m \u001b[90m/mnt/cup/people/briandd/Projects/PulseInputDDM/src/neural_model/\u001b[39m\u001b[90;4mneural_model.jl:246\u001b[0m\n",
      "   [21] top-level scope\n",
      "  \u001b[90m    @ \u001b[39m\u001b[90;4mIn[28]:1\u001b[0m\n",
      "   [22] \u001b[0m\u001b[1meval\u001b[22m\n",
      "  \u001b[90m    @ \u001b[39m\u001b[90m./\u001b[39m\u001b[90;4mboot.jl:360\u001b[0m\u001b[90m [inlined]\u001b[39m\n",
      "   [23] \u001b[0m\u001b[1minclude_string\u001b[22m\u001b[0m\u001b[1m(\u001b[22m\u001b[90mmapexpr\u001b[39m::\u001b[0mtypeof(REPL.softscope), \u001b[90mmod\u001b[39m::\u001b[0mModule, \u001b[90mcode\u001b[39m::\u001b[0mString, \u001b[90mfilename\u001b[39m::\u001b[0mString\u001b[0m\u001b[1m)\u001b[22m\n",
      "  \u001b[90m    @ \u001b[39m\u001b[90mBase\u001b[39m \u001b[90m./\u001b[39m\u001b[90;4mloading.jl:1094\u001b[0m\n",
      "   [24] \u001b[0m\u001b[1msoftscope_include_string\u001b[22m\u001b[0m\u001b[1m(\u001b[22m\u001b[90mm\u001b[39m::\u001b[0mModule, \u001b[90mcode\u001b[39m::\u001b[0mString, \u001b[90mfilename\u001b[39m::\u001b[0mString\u001b[0m\u001b[1m)\u001b[22m\n",
      "  \u001b[90m    @ \u001b[39m\u001b[33mSoftGlobalScope\u001b[39m \u001b[90m~/.julia/packages/SoftGlobalScope/u4UzH/src/\u001b[39m\u001b[90;4mSoftGlobalScope.jl:65\u001b[0m\n",
      "   [25] \u001b[0m\u001b[1mexecute_request\u001b[22m\u001b[0m\u001b[1m(\u001b[22m\u001b[90msocket\u001b[39m::\u001b[0mZMQ.Socket, \u001b[90mmsg\u001b[39m::\u001b[0mIJulia.Msg\u001b[0m\u001b[1m)\u001b[22m\n",
      "  \u001b[90m    @ \u001b[39m\u001b[35mIJulia\u001b[39m \u001b[90m~/.julia/packages/IJulia/AQu2H/src/\u001b[39m\u001b[90;4mexecute_request.jl:67\u001b[0m\n",
      "   [26] \u001b[0m\u001b[1m#invokelatest#2\u001b[22m\n",
      "  \u001b[90m    @ \u001b[39m\u001b[90m./\u001b[39m\u001b[90;4messentials.jl:708\u001b[0m\u001b[90m [inlined]\u001b[39m\n",
      "   [27] \u001b[0m\u001b[1minvokelatest\u001b[22m\n",
      "  \u001b[90m    @ \u001b[39m\u001b[90m./\u001b[39m\u001b[90;4messentials.jl:706\u001b[0m\u001b[90m [inlined]\u001b[39m\n",
      "   [28] \u001b[0m\u001b[1meventloop\u001b[22m\u001b[0m\u001b[1m(\u001b[22m\u001b[90msocket\u001b[39m::\u001b[0mZMQ.Socket\u001b[0m\u001b[1m)\u001b[22m\n",
      "  \u001b[90m    @ \u001b[39m\u001b[35mIJulia\u001b[39m \u001b[90m~/.julia/packages/IJulia/AQu2H/src/\u001b[39m\u001b[90;4meventloop.jl:8\u001b[0m\n",
      "   [29] \u001b[0m\u001b[1m(::IJulia.var\"#15#18\")\u001b[22m\u001b[0m\u001b[1m(\u001b[22m\u001b[0m\u001b[1m)\u001b[22m\n",
      "  \u001b[90m    @ \u001b[39m\u001b[35mIJulia\u001b[39m \u001b[90m./\u001b[39m\u001b[90;4mtask.jl:406\u001b[0m\n"
     ]
    },
    {
     "ename": "LoadError",
     "evalue": "\u001b[91mThere was an error during testing\u001b[39m",
     "output_type": "error",
     "traceback": [
      "\u001b[91mThere was an error during testing\u001b[39m",
      "",
      "Stacktrace:",
      " [1] record(ts::Test.FallbackTestSet, t::Union{Test.Error, Test.Fail})",
      "   @ Test /buildworker/worker/package_linux64/build/usr/share/julia/stdlib/v1.6/Test/src/Test.jl:772",
      " [2] do_test(result::Test.ExecutionResult, orig_expr::Any)",
      "   @ Test /buildworker/worker/package_linux64/build/usr/share/julia/stdlib/v1.6/Test/src/Test.jl:555",
      " [3] top-level scope",
      "   @ In[28]:1",
      " [4] eval",
      "   @ ./boot.jl:360 [inlined]",
      " [5] include_string(mapexpr::typeof(REPL.softscope), mod::Module, code::String, filename::String)",
      "   @ Base ./loading.jl:1094"
     ]
    }
   ],
   "source": [
    "@test round(norm(gradient(model)), digits=2) ≈ 4.64"
   ]
  },
  {
   "cell_type": "code",
   "execution_count": 29,
   "metadata": {},
   "outputs": [
    {
     "data": {
      "text/plain": [
       "19-element Vector{Float64}:\n",
       "  0.1\n",
       " 15.0\n",
       " -0.1\n",
       " 20.0\n",
       "  0.5\n",
       "  0.8\n",
       "  0.008\n",
       " 17.071225279527855\n",
       " 12.640373768299604\n",
       " -4.011715642283551\n",
       "  6.102566985248116\n",
       " -2.804143285567207\n",
       " 19.085462303603528\n",
       "  2.673281795601461\n",
       "  0.9550686995832421\n",
       "  2.994916427273023\n",
       " 15.645197993480087\n",
       "  1.9258252163343177\n",
       "  0.8149348291364622"
      ]
     },
     "execution_count": 29,
     "metadata": {},
     "output_type": "execute_result"
    }
   ],
   "source": [
    "x0 = vcat([0.1, 15., -0.1, 20., 0.5, 0.8, 0.008], PulseInputDDM.flatten(model.θ)[dimz+1:end])"
   ]
  },
  {
   "cell_type": "code",
   "execution_count": 30,
   "metadata": {},
   "outputs": [
    {
     "name": "stdout",
     "output_type": "stream",
     "text": [
      "Fminbox\n",
      "-------\n",
      "Initial mu = 0.000549494\n",
      "\n",
      "Fminbox iteration 1\n",
      "-------------------\n",
      "Calling inner optimizer with mu = 0.000549494\n",
      "\n",
      "(numbers below include barrier contribution)\n",
      "Iter     Function value   Gradient norm \n",
      "     0     4.797230e+02     1.703780e+02\n",
      " * time: 2.002716064453125e-5\n",
      "\n",
      "Exiting inner optimizer with x = [1.0530076742670165, 15.077956768838995, 1.5128449716893115, 20.092381014683916, 0.9428569132520415, 0.7524259282726876, 0.6817275699393194, 14.659833117070193, 11.661694475460566, -5.601499616526606, 5.075616661274729, -2.368940954266793, 19.41962071534353, 2.5078212655054872, 1.661312401384596, 3.068854594327254, 15.680560718218166, 1.7794878641685616, 0.6534128629270439]\n",
      "Current distance to box: 0.318272\n",
      "Decreasing barrier term μ.\n",
      "\n"
     ]
    },
    {
     "data": {
      "text/plain": [
       "\u001b[32m\u001b[1mTest Passed\u001b[22m\u001b[39m"
      ]
     },
     "execution_count": 30,
     "metadata": {},
     "output_type": "execute_result"
    }
   ],
   "source": [
    "options = neural_options(f)  \n",
    "\n",
    "model = neuralDDM(θneural(x0, f), data, n, cross, θprior(μ_B=40., σ_B=1e6))\n",
    "model, = optimize(model, options; iterations=2, outer_iterations=1)\n",
    "@test round(norm(PulseInputDDM.flatten(model.θ)), digits=2) ≈ 41.17"
   ]
  },
  {
   "cell_type": "code",
   "execution_count": 31,
   "metadata": {},
   "outputs": [
    {
     "data": {
      "text/plain": [
       "\u001b[32m\u001b[1mTest Passed\u001b[22m\u001b[39m"
      ]
     },
     "execution_count": 31,
     "metadata": {},
     "output_type": "execute_result"
    }
   ],
   "source": [
    "H = Hessian(model; chunk_size=4)\n",
    "@test round(norm(H), digits=2) ≈ 9.17"
   ]
  },
  {
   "cell_type": "code",
   "execution_count": 32,
   "metadata": {},
   "outputs": [
    {
     "name": "stderr",
     "output_type": "stream",
     "text": [
      "┌ Warning: Hessian is not positive definite. Approximated by closest PSD matrix.\n",
      "│             ||ϵ||/||H|| is 0.5547076975499954\n",
      "└ @ PulseInputDDM /mnt/cup/people/briandd/Projects/PulseInputDDM/src/base_model.jl:19\n"
     ]
    },
    {
     "data": {
      "text/plain": [
       "\u001b[32m\u001b[1mTest Passed\u001b[22m\u001b[39m"
      ]
     },
     "execution_count": 32,
     "metadata": {},
     "output_type": "execute_result"
    }
   ],
   "source": [
    "CI, HPSD = CIs(H)\n",
    "@test round(norm(CI), digits=2) ≈ 917.8"
   ]
  },
  {
   "cell_type": "code",
   "execution_count": 33,
   "metadata": {},
   "outputs": [
    {
     "data": {
      "text/plain": [
       "neural_choice_options\n",
       "  fit: Array{Bool}((21,)) Bool[1, 1, 1, 1, 1, 1, 1, 1, 1, 1  …  1, 1, 1, 1, 1, 1, 1, 1, 1, 1]\n",
       "  ub: Array{Float64}((21,)) [100.0, 40.0, 5.0, 400.0, 10.0, 1.2, 1.0, 10.0, 1.0, 100.0  …  10.0, 10.0, 100.0, 100.0, 10.0, 10.0, 100.0, 100.0, 10.0, 10.0]\n",
       "  lb: Array{Float64}((21,)) [0.001, 8.0, -5.0, 0.001, 0.001, 0.001, 0.005, -10.0, 0.0, -100.0  …  -10.0, -10.0, -100.0, 0.0, -10.0, -10.0, -100.0, 0.0, -10.0, -10.0]\n"
      ]
     },
     "execution_count": 33,
     "metadata": {},
     "output_type": "execute_result"
    }
   ],
   "source": [
    "options = neural_choice_options(f)"
   ]
  },
  {
   "cell_type": "code",
   "execution_count": 34,
   "metadata": {},
   "outputs": [
    {
     "data": {
      "text/plain": [
       "neural_choiceDDM{θneural_choice{θz{Float64}, Float64, Vector{Vector{Sigmoid{Float64}}}}, Vector{Vector{neuraldata}}}\n",
       "  θ: θneural_choice{θz{Float64}, Float64, Vector{Vector{Sigmoid{Float64}}}}\n",
       "  data: Array{Vector{neuraldata}}((2,))\n",
       "  n: Int64 53\n",
       "  cross: Bool false\n"
      ]
     },
     "execution_count": 34,
     "metadata": {},
     "output_type": "execute_result"
    }
   ],
   "source": [
    "choice_neural_model = neural_choiceDDM(θneural_choice(vcat(x0[1:dimz], 0., 0., x0[dimz+1:end]), f), data, n, cross)"
   ]
  },
  {
   "cell_type": "code",
   "execution_count": 35,
   "metadata": {},
   "outputs": [
    {
     "data": {
      "text/plain": [
       "\u001b[32m\u001b[1mTest Passed\u001b[22m\u001b[39m"
      ]
     },
     "execution_count": 35,
     "metadata": {},
     "output_type": "execute_result"
    }
   ],
   "source": [
    "@test round(choice_loglikelihood(choice_neural_model), digits=2) ≈ -6.45"
   ]
  },
  {
   "cell_type": "code",
   "execution_count": 36,
   "metadata": {},
   "outputs": [
    {
     "data": {
      "text/plain": [
       "\u001b[32m\u001b[1mTest Passed\u001b[22m\u001b[39m"
      ]
     },
     "execution_count": 36,
     "metadata": {},
     "output_type": "execute_result"
    }
   ],
   "source": [
    "@test round(joint_loglikelihood(choice_neural_model), digits=2) ≈ -486.23"
   ]
  },
  {
   "cell_type": "code",
   "execution_count": 37,
   "metadata": {},
   "outputs": [
    {
     "data": {
      "text/plain": [
       "([4, 4, 4], [1, 2])"
      ]
     },
     "execution_count": 37,
     "metadata": {},
     "output_type": "execute_result"
    }
   ],
   "source": [
    "import PulseInputDDM: nθparams\n",
    "nparams, = nθparams(f)"
   ]
  },
  {
   "cell_type": "code",
   "execution_count": 38,
   "metadata": {},
   "outputs": [
    {
     "data": {
      "text/plain": [
       "neural_choice_options\n",
       "  fit: Array{Bool}((21,)) Bool[0, 0, 0, 0, 0, 0, 0, 1, 1, 0  …  0, 0, 0, 0, 0, 0, 0, 0, 0, 0]\n",
       "  ub: Array{Float64}((21,)) [100.0, 40.0, 5.0, 400.0, 10.0, 1.2, 1.0, 10.0, 1.0, 100.0  …  10.0, 10.0, 100.0, 100.0, 10.0, 10.0, 100.0, 100.0, 10.0, 10.0]\n",
       "  lb: Array{Float64}((21,)) [0.001, 8.0, -5.0, 0.001, 0.001, 0.001, 0.005, -10.0, 0.0, -100.0  …  -10.0, -10.0, -100.0, 0.0, -10.0, -10.0, -100.0, 0.0, -10.0, -10.0]\n"
      ]
     },
     "execution_count": 38,
     "metadata": {},
     "output_type": "execute_result"
    }
   ],
   "source": [
    "fit = vcat(falses(dimz), trues(2), falses.(nparams)...);\n",
    "options = neural_choice_options(fit=fit, lb=options.lb, ub=options.ub)"
   ]
  },
  {
   "cell_type": "code",
   "execution_count": 39,
   "metadata": {},
   "outputs": [
    {
     "name": "stderr",
     "output_type": "stream",
     "text": [
      "┌ Warning: Initial position cannot be on the boundary of the box. Moving elements to the interior.\n",
      "│ Element indices affected: [2]\n",
      "└ @ Optim /usr/people/briandd/.julia/packages/Optim/tP8PJ/src/multivariate/solvers/constrained/fminbox.jl:314\n"
     ]
    },
    {
     "name": "stdout",
     "output_type": "stream",
     "text": [
      "Fminbox\n",
      "-------\n",
      "Initial mu = 0.000560534\n",
      "\n",
      "Fminbox iteration 1\n",
      "-------------------\n",
      "Calling inner optimizer with mu = 0.000560534\n",
      "\n",
      "(numbers below include barrier contribution)\n",
      "Iter     Function value   Gradient norm \n",
      "     0     5.530525e+00     5.617773e+01\n",
      " * time: 1.7881393432617188e-5\n",
      "\n",
      "Exiting inner optimizer with x = [0.23159355604200516, 0.3782997206127649]\n",
      "Current distance to box: 0.3783\n",
      "Decreasing barrier term μ.\n",
      "\n"
     ]
    },
    {
     "data": {
      "text/plain": [
       "(neural_choiceDDM{θneural_choice{θz{Float64}, Float64, Vector{Vector{Sigmoid{Float64}}}}, Vector{Vector{neuraldata}}}\n",
       "  θ: θneural_choice{θz{Float64}, Float64, Vector{Vector{Sigmoid{Float64}}}}\n",
       "  data: Array{Vector{neuraldata}}((2,))\n",
       "  n: Int64 53\n",
       "  cross: Bool false\n",
       ",  * Status: failure (reached maximum number of iterations)\n",
       "\n",
       " * Candidate solution\n",
       "    Final objective value:     5.010782e+00\n",
       "\n",
       " * Found with\n",
       "    Algorithm:     Fminbox with BFGS\n",
       "\n",
       " * Convergence measures\n",
       "    |x - x'|               = 4.35e-01 ≰ 1.0e-10\n",
       "    |x - x'|/|x'|          = 9.81e-01 ≰ 0.0e+00\n",
       "    |f(x) - f(x')|         = 0.00e+00 ≤ 0.0e+00\n",
       "    |f(x) - f(x')|/|f(x')| = 0.00e+00 ≤ 1.0e-09\n",
       "    |g(x)|                 = 3.78e-01 ≰ 1.0e-03\n",
       "\n",
       " * Work counters\n",
       "    Seconds run:   7  (vs limit 170000)\n",
       "    Iterations:    1\n",
       "    f(x) calls:    4\n",
       "    ∇f(x) calls:   3\n",
       ")"
      ]
     },
     "execution_count": 39,
     "metadata": {},
     "output_type": "execute_result"
    }
   ],
   "source": [
    "choice_neural_model, = choice_optimize(choice_neural_model, options; iterations=2, outer_iterations=1)"
   ]
  },
  {
   "cell_type": "code",
   "execution_count": 40,
   "metadata": {},
   "outputs": [
    {
     "data": {
      "text/plain": [
       "\u001b[32m\u001b[1mTest Passed\u001b[22m\u001b[39m"
      ]
     },
     "execution_count": 40,
     "metadata": {},
     "output_type": "execute_result"
    }
   ],
   "source": [
    "@test round(norm(PulseInputDDM.flatten(choice_neural_model.θ)), digits=2) ≈ 42.06"
   ]
  },
  {
   "cell_type": "code",
   "execution_count": 41,
   "metadata": {},
   "outputs": [
    {
     "data": {
      "text/plain": [
       "neural_choiceDDM{θneural_choice{θz{Float64}, Float64, Vector{Vector{Sigmoid{Float64}}}}, Vector{Vector{neuraldata}}}\n",
       "  θ: θneural_choice{θz{Float64}, Float64, Vector{Vector{Sigmoid{Float64}}}}\n",
       "  data: Array{Vector{neuraldata}}((2,))\n",
       "  n: Int64 53\n",
       "  cross: Bool false\n"
      ]
     },
     "execution_count": 41,
     "metadata": {},
     "output_type": "execute_result"
    }
   ],
   "source": [
    "choice_neural_model = neural_choiceDDM(θneural_choice(vcat(x0[1:dimz], 0., 0., x0[dimz+1:end]), f), data, n, cross)"
   ]
  },
  {
   "cell_type": "code",
   "execution_count": 42,
   "metadata": {},
   "outputs": [
    {
     "data": {
      "text/plain": [
       "neural_choice_options\n",
       "  fit: Array{Bool}((21,)) Bool[1, 1, 1, 1, 1, 1, 1, 1, 1, 1  …  1, 1, 1, 1, 1, 1, 1, 1, 1, 1]\n",
       "  ub: Array{Float64}((21,)) [100.0, 40.0, 5.0, 400.0, 10.0, 1.2, 1.0, 10.0, 1.0, 100.0  …  10.0, 10.0, 100.0, 100.0, 10.0, 10.0, 100.0, 100.0, 10.0, 10.0]\n",
       "  lb: Array{Float64}((21,)) [0.001, 8.0, -5.0, 0.001, 0.001, 0.001, 0.005, -10.0, 0.0, -100.0  …  -10.0, -10.0, -100.0, 0.0, -10.0, -10.0, -100.0, 0.0, -10.0, -10.0]\n"
      ]
     },
     "execution_count": 42,
     "metadata": {},
     "output_type": "execute_result"
    }
   ],
   "source": [
    "fit = vcat(trues(dimz), trues(2), trues.(nparams)...);\n",
    "options = neural_choice_options(fit=fit, lb=vcat(options.lb[1:7], -10., options.lb[9:end]), \n",
    "    ub=vcat(options.ub[1:7], 10., options.ub[9:end]))"
   ]
  },
  {
   "cell_type": "code",
   "execution_count": 43,
   "metadata": {},
   "outputs": [
    {
     "name": "stderr",
     "output_type": "stream",
     "text": [
      "┌ Warning: Initial position cannot be on the boundary of the box. Moving elements to the interior.\n",
      "│ Element indices affected: [9]\n",
      "└ @ Optim /usr/people/briandd/.julia/packages/Optim/tP8PJ/src/multivariate/solvers/constrained/fminbox.jl:314\n"
     ]
    },
    {
     "name": "stdout",
     "output_type": "stream",
     "text": [
      "Fminbox\n",
      "-------\n",
      "Initial mu = 0.000180107\n",
      "\n",
      "Fminbox iteration 1\n",
      "-------------------\n",
      "Calling inner optimizer with mu = 0.000180107\n",
      "\n",
      "(numbers below include barrier contribution)\n",
      "Iter     Function value   Gradient norm \n",
      "     0     5.514275e+00     5.619398e+01\n",
      " * time: 1.7881393432617188e-5\n",
      "\n",
      "Exiting inner optimizer with x = [0.09999268868157225, 15.000000413966145, -0.1000409940028152, 19.999999687486646, 0.4998675886289066, 0.8001149204296798, 0.00500780905147053, 7.092469212054133e-5, 0.0169013086762203, 17.07122187605948, 12.640354134521216, -4.011712506688259, 6.102569142823409, -2.8041338797149864, 19.085466449710562, 2.673279937226764, 0.9550796532172342, 2.994927363012368, 15.64520015227081, 1.9258198981150547, 0.8149403419493705]\n",
      "Current distance to box: 7.80905e-6\n",
      "Decreasing barrier term μ.\n",
      "\n"
     ]
    },
    {
     "data": {
      "text/plain": [
       "(neural_choiceDDM{θneural_choice{θz{Float64}, Float64, Vector{Vector{Sigmoid{Float64}}}}, Vector{Vector{neuraldata}}}\n",
       "  θ: θneural_choice{θz{Float64}, Float64, Vector{Vector{Sigmoid{Float64}}}}\n",
       "  data: Array{Vector{neuraldata}}((2,))\n",
       "  n: Int64 53\n",
       "  cross: Bool false\n",
       ",  * Status: failure (reached maximum number of iterations)\n",
       "\n",
       " * Candidate solution\n",
       "    Final objective value:     5.139852e+00\n",
       "\n",
       " * Found with\n",
       "    Algorithm:     Fminbox with BFGS\n",
       "\n",
       " * Convergence measures\n",
       "    |x - x'|               = 7.52e-03 ≰ 1.0e-10\n",
       "    |x - x'|/|x'|          = 1.79e-04 ≰ 0.0e+00\n",
       "    |f(x) - f(x')|         = 0.00e+00 ≤ 0.0e+00\n",
       "    |f(x) - f(x')|/|f(x')| = 0.00e+00 ≤ 1.0e-09\n",
       "    |g(x)|                 = 9.83e-01 ≰ 1.0e-03\n",
       "\n",
       " * Work counters\n",
       "    Seconds run:   8  (vs limit 170000)\n",
       "    Iterations:    1\n",
       "    f(x) calls:    3\n",
       "    ∇f(x) calls:   3\n",
       ")"
      ]
     },
     "execution_count": 43,
     "metadata": {},
     "output_type": "execute_result"
    }
   ],
   "source": [
    "choice_neural_model, = choice_optimize(choice_neural_model, options; iterations=2, outer_iterations=1)"
   ]
  },
  {
   "cell_type": "code",
   "execution_count": 44,
   "metadata": {},
   "outputs": [
    {
     "data": {
      "text/plain": [
       "\u001b[32m\u001b[1mTest Passed\u001b[22m\u001b[39m"
      ]
     },
     "execution_count": 44,
     "metadata": {},
     "output_type": "execute_result"
    }
   ],
   "source": [
    "@test round(norm(PulseInputDDM.flatten(choice_neural_model.θ)), digits=2) ≈ 42.06"
   ]
  },
  {
   "cell_type": "code",
   "execution_count": null,
   "metadata": {},
   "outputs": [],
   "source": []
  }
 ],
 "metadata": {
  "kernelspec": {
   "display_name": "Julia 1.6.0",
   "language": "julia",
   "name": "julia-1.6"
  },
  "language_info": {
   "file_extension": ".jl",
   "mimetype": "application/julia",
   "name": "julia",
   "version": "1.6.0"
  }
 },
 "nbformat": 4,
 "nbformat_minor": 2
}
