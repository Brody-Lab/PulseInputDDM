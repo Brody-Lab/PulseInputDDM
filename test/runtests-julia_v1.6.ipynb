{
 "cells": [
  {
   "cell_type": "code",
   "execution_count": 1,
   "metadata": {},
   "outputs": [],
   "source": [
    "using Test, PulseInputDDM, LinearAlgebra, Flatten, Parameters"
   ]
  },
  {
   "cell_type": "code",
   "execution_count": 2,
   "metadata": {},
   "outputs": [
    {
     "data": {
      "text/plain": [
       "(53, false)"
      ]
     },
     "execution_count": 2,
     "metadata": {},
     "output_type": "execute_result"
    }
   ],
   "source": [
    "n, cross = 53, false"
   ]
  },
  {
   "cell_type": "code",
   "execution_count": 3,
   "metadata": {},
   "outputs": [
    {
     "data": {
      "text/plain": [
       "choiceDDM{θchoice{θz{Float64}, Float64}, Vector{PulseInputDDM.choicedata{PulseInputDDM.choiceinputs{PulseInputDDM.clicks, PulseInputDDM.binned_clicks}}}, θprior{Float64}}\n",
       "  θ: θchoice{θz{Float64}, Float64}\n",
       "  data: Array{PulseInputDDM.choicedata{PulseInputDDM.choiceinputs{PulseInputDDM.clicks, PulseInputDDM.binned_clicks}}}((10,))\n",
       "  n: Int64 53\n",
       "  cross: Bool false\n",
       "  θprior: θprior{Float64}\n"
      ]
     },
     "execution_count": 3,
     "metadata": {},
     "output_type": "execute_result"
    }
   ],
   "source": [
    "## Choice model\n",
    "θ = θchoice(θz=θz(σ2_i = 0.5, B = 15., λ = -0.5, σ2_a = 50., σ2_s = 1.5,\n",
    "    ϕ = 0.8, τ_ϕ = 0.05),\n",
    "    bias=1., lapse=0.05)\n",
    "\n",
    "θ, data = synthetic_data(;θ=θ, ntrials=10, rng=1)\n",
    "model_gen = choiceDDM(θ, data, n, cross, θprior(μ_B=40., σ_B=1e6))"
   ]
  },
  {
   "cell_type": "code",
   "execution_count": 4,
   "metadata": {},
   "outputs": [],
   "source": [
    "choices = getfield.(data, :choice);"
   ]
  },
  {
   "cell_type": "code",
   "execution_count": 5,
   "metadata": {},
   "outputs": [
    {
     "data": {
      "text/plain": [
       "10-element BitVector:\n",
       " 1\n",
       " 0\n",
       " 0\n",
       " 0\n",
       " 0\n",
       " 0\n",
       " 0\n",
       " 0\n",
       " 0\n",
       " 1"
      ]
     },
     "execution_count": 5,
     "metadata": {},
     "output_type": "execute_result"
    }
   ],
   "source": [
    "choices"
   ]
  },
  {
   "cell_type": "code",
   "execution_count": 9,
   "metadata": {},
   "outputs": [
    {
     "data": {
      "text/plain": [
       "\u001b[32m\u001b[1mTest Passed\u001b[22m\u001b[39m"
      ]
     },
     "execution_count": 9,
     "metadata": {},
     "output_type": "execute_result"
    }
   ],
   "source": [
    "@test all(choices .== vcat(true, falses(8), true))"
   ]
  },
  {
   "cell_type": "code",
   "execution_count": 10,
   "metadata": {},
   "outputs": [
    {
     "name": "stdout",
     "output_type": "stream",
     "text": [
      "  0.154510 seconds (7.11 k allocations: 9.569 MiB)\n"
     ]
    },
    {
     "data": {
      "text/plain": [
       "\u001b[32m\u001b[1mTest Passed\u001b[22m\u001b[39m"
      ]
     },
     "execution_count": 10,
     "metadata": {},
     "output_type": "execute_result"
    }
   ],
   "source": [
    "@time @test round(loglikelihood(model_gen), digits=2) ≈ -5.05"
   ]
  },
  {
   "cell_type": "code",
   "execution_count": 12,
   "metadata": {},
   "outputs": [
    {
     "data": {
      "text/plain": [
       "\u001b[32m\u001b[1mTest Passed\u001b[22m\u001b[39m"
      ]
     },
     "execution_count": 12,
     "metadata": {},
     "output_type": "execute_result"
    }
   ],
   "source": [
    "@test round(norm(gradient(model_gen)), digits=2) ≈ 11.28"
   ]
  },
  {
   "cell_type": "code",
   "execution_count": 13,
   "metadata": {},
   "outputs": [],
   "source": [
    "options = choiceoptions(lb=vcat([0., 8.,  -5., 0.,   0.,  0.01, 0.005], [-30, 0.]),\n",
    "    ub = vcat([2., 30., 5., 100., 2.5, 1.2,  1.], [30, 1.]), \n",
    "    fit = trues(dimz+2));"
   ]
  },
  {
   "cell_type": "code",
   "execution_count": 16,
   "metadata": {},
   "outputs": [
    {
     "name": "stdout",
     "output_type": "stream",
     "text": [
      "Fminbox\n",
      "-------\n",
      "Initial mu = 0.000298108\n",
      "\n",
      "Fminbox iteration 1\n",
      "-------------------\n",
      "Calling inner optimizer with mu = 0.000298108\n",
      "\n",
      "(numbers below include barrier contribution)\n",
      "Iter     Function value   Gradient norm \n",
      "     0     2.314601e+01     8.601207e+01\n",
      " * time: 6.29425048828125e-5\n",
      "\n",
      "Exiting inner optimizer with x = [0.09912376284413811, 14.995820111667033, -0.10118407731066002, 19.994619627901546, 0.5868783286149273, 1.0173375686849266, 0.9366399272211295, 0.02771997968283947, 0.36037768049510094]\n",
      "Current distance to box: 0.0633601\n",
      "Decreasing barrier term μ.\n",
      "\n"
     ]
    },
    {
     "data": {
      "text/plain": [
       "\u001b[32m\u001b[1mTest Passed\u001b[22m\u001b[39m"
      ]
     },
     "execution_count": 16,
     "metadata": {},
     "output_type": "execute_result"
    }
   ],
   "source": [
    "model, = optimize(data, options; iterations=5, outer_iterations=1, θprior=θprior(μ_B=40., σ_B=1e6));\n",
    "@test round(norm(Flatten.flatten(model.θ)), digits=2) ≈ 25.04"
   ]
  },
  {
   "cell_type": "code",
   "execution_count": 19,
   "metadata": {},
   "outputs": [
    {
     "data": {
      "text/plain": [
       "\u001b[32m\u001b[1mTest Passed\u001b[22m\u001b[39m"
      ]
     },
     "execution_count": 19,
     "metadata": {},
     "output_type": "execute_result"
    }
   ],
   "source": [
    "H = Hessian(model)\n",
    "@test round(norm(H), digits=2) ≈ 186.32"
   ]
  },
  {
   "cell_type": "code",
   "execution_count": 21,
   "metadata": {},
   "outputs": [
    {
     "name": "stderr",
     "output_type": "stream",
     "text": [
      "┌ Warning: Hessian is not positive definite. Approximated by closest PSD matrix.\n",
      "│             ||ϵ||/||H|| is 0.006557819729745562\n",
      "└ @ pulse_input_DDM /mnt/bucket/people/briandd/Projects/pulse_input_DDM/src/base_model.jl:19\n"
     ]
    },
    {
     "data": {
      "text/plain": [
       "\u001b[32m\u001b[1mTest Passed\u001b[22m\u001b[39m"
      ]
     },
     "execution_count": 21,
     "metadata": {},
     "output_type": "execute_result"
    }
   ],
   "source": [
    "CI, HPSD = CIs(H)\n",
    "@test round(norm(CI), digits=2) ≈ 1231.27"
   ]
  },
  {
   "cell_type": "code",
   "execution_count": 22,
   "metadata": {},
   "outputs": [],
   "source": [
    "## Neural model\n",
    "ncells, ntrials = [1,2], [10,5]\n",
    "f = [repeat([\"Sigmoid\"], N) for N in ncells]\n",
    "                    \n",
    "θ = θneural(θz = θz(σ2_i = 0.5, B = 15., λ = -0.5, σ2_a = 10., σ2_s = 1.2,\n",
    "    ϕ = 0.6, τ_ϕ =  0.02),\n",
    "    θy=[[Sigmoid() for n in 1:N] for N in ncells], f=f);"
   ]
  },
  {
   "cell_type": "code",
   "execution_count": 23,
   "metadata": {},
   "outputs": [],
   "source": [
    "data, = synthetic_data(θ, ntrials, ncells);\n",
    "model_gen = neuralDDM(θ, data, n, cross, θprior(μ_B=40., σ_B=1e6));"
   ]
  },
  {
   "cell_type": "code",
   "execution_count": 24,
   "metadata": {},
   "outputs": [
    {
     "data": {
      "text/plain": [
       "15-element Array{Array{Int64,1},1}:\n",
       " [5]\n",
       " [6]\n",
       " [4]\n",
       " [4]\n",
       " [5]\n",
       " [3]\n",
       " [8]\n",
       " [7]\n",
       " [9]\n",
       " [23]\n",
       " [11, 10]\n",
       " [9, 8]\n",
       " [4, 3]\n",
       " [11, 12]\n",
       " [15, 6]"
      ]
     },
     "execution_count": 24,
     "metadata": {},
     "output_type": "execute_result"
    }
   ],
   "source": [
    "spikes = map(x-> sum.(x), getfield.(vcat(data...), :spikes))"
   ]
  },
  {
   "cell_type": "code",
   "execution_count": 27,
   "metadata": {},
   "outputs": [
    {
     "data": {
      "text/plain": [
       "\u001b[32m\u001b[1mTest Passed\u001b[22m\u001b[39m"
      ]
     },
     "execution_count": 27,
     "metadata": {},
     "output_type": "execute_result"
    }
   ],
   "source": [
    "@test all(spikes .== [[5], [6], [4], [4], [5], [3], [8], [7], [9], [23], [11, 10], [9, 8], [4, 3], [11, 12], [15, 6]])"
   ]
  },
  {
   "cell_type": "code",
   "execution_count": 28,
   "metadata": {
    "scrolled": true
   },
   "outputs": [
    {
     "data": {
      "text/plain": [
       "\u001b[32m\u001b[1mTest Passed\u001b[22m\u001b[39m"
      ]
     },
     "execution_count": 28,
     "metadata": {},
     "output_type": "execute_result"
    }
   ],
   "source": [
    "@test round(loglikelihood(model_gen), digits=2) ≈ -487.07 "
   ]
  },
  {
   "cell_type": "code",
   "execution_count": 31,
   "metadata": {},
   "outputs": [
    {
     "data": {
      "text/plain": [
       "\u001b[32m\u001b[1mTest Passed\u001b[22m\u001b[39m"
      ]
     },
     "execution_count": 31,
     "metadata": {},
     "output_type": "execute_result"
    }
   ],
   "source": [
    "@test round(norm(gradient(model_gen)), digits=2) ≈ 10.8"
   ]
  },
  {
   "cell_type": "code",
   "execution_count": 32,
   "metadata": {},
   "outputs": [
    {
     "data": {
      "text/plain": [
       "\u001b[32m\u001b[1mTest Passed\u001b[22m\u001b[39m"
      ]
     },
     "execution_count": 32,
     "metadata": {},
     "output_type": "execute_result"
    }
   ],
   "source": [
    "x = pulse_input_DDM.flatten(θ)\n",
    "@test round(loglikelihood(x, model_gen), digits=2) ≈ -487.07"
   ]
  },
  {
   "cell_type": "code",
   "execution_count": 34,
   "metadata": {},
   "outputs": [
    {
     "data": {
      "text/plain": [
       "\u001b[32m\u001b[1mTest Passed\u001b[22m\u001b[39m"
      ]
     },
     "execution_count": 34,
     "metadata": {},
     "output_type": "execute_result"
    }
   ],
   "source": [
    "θy0 = vcat(vcat(θy.(data, f)...)...)\n",
    "@test round(norm(θy0), digits=2) ≈ 26.43"
   ]
  },
  {
   "cell_type": "code",
   "execution_count": 35,
   "metadata": {},
   "outputs": [
    {
     "data": {
      "text/plain": [
       "neural_options_noiseless\n",
       "  fit: Array{Bool}((19,)) Bool[0, 0, 0, 0, 0, 0, 0, 1, 1, 1, 1, 1, 1, 1, 1, 1, 1, 1, 1]\n",
       "  ub: Array{Float64}((19,)) [100.0, 100.0, 5.0, 400.0, 10.0, 1.2, 1.0, 100.0, 100.0, 10.0, 10.0, 100.0, 100.0, 10.0, 10.0, 100.0, 100.0, 10.0, 10.0]\n",
       "  lb: Array{Float64}((19,)) [0.001, 8.0, -5.0, 0.001, 0.001, 0.001, 0.005, -100.0, 0.0, -10.0, -10.0, -100.0, 0.0, -10.0, -10.0, -100.0, 0.0, -10.0, -10.0]\n"
      ]
     },
     "execution_count": 35,
     "metadata": {},
     "output_type": "execute_result"
    }
   ],
   "source": [
    "#deterministic model\n",
    "options0 = neural_options_noiseless(f)"
   ]
  },
  {
   "cell_type": "code",
   "execution_count": 36,
   "metadata": {},
   "outputs": [
    {
     "data": {
      "text/plain": [
       "19-element Array{Float64,1}:\n",
       "   0.0\n",
       "  30.0\n",
       "   2.220446049250313e-16\n",
       "   0.0\n",
       "   0.0\n",
       "   0.9999999999999998\n",
       "   0.008\n",
       "  -8.798943206285088\n",
       "  12.954303546961663\n",
       "   0.003986341604770168\n",
       "   0.0\n",
       " -16.190638401411235\n",
       "  12.380790170017335\n",
       "   0.00350927270742908\n",
       "   0.0\n",
       "  -2.977868345549842\n",
       "   5.367884262497849\n",
       "   0.0063343211908020135\n",
       "   0.0"
      ]
     },
     "execution_count": 36,
     "metadata": {},
     "output_type": "execute_result"
    }
   ],
   "source": [
    "x0=vcat([0., 30., 0. + eps(), 0., 0., 1. - eps(), 0.008], θy0)"
   ]
  },
  {
   "cell_type": "code",
   "execution_count": 37,
   "metadata": {},
   "outputs": [
    {
     "data": {
      "text/plain": [
       "noiseless_neuralDDM{θneural_noiseless{θz{Float64},Array{Array{Sigmoid{Float64},1},1}},Array{Array{neuraldata,1},1}}\n",
       "  θ: θneural_noiseless{θz{Float64},Array{Array{Sigmoid{Float64},1},1}}\n",
       "  data: Array{Array{neuraldata,1}}((2,))\n"
      ]
     },
     "execution_count": 37,
     "metadata": {},
     "output_type": "execute_result"
    }
   ],
   "source": [
    "θ0 = θneural_noiseless(x0, f)\n",
    "model0 = noiseless_neuralDDM(θ0, data)"
   ]
  },
  {
   "cell_type": "code",
   "execution_count": 39,
   "metadata": {},
   "outputs": [
    {
     "data": {
      "text/plain": [
       "\u001b[32m\u001b[1mTest Passed\u001b[22m\u001b[39m"
      ]
     },
     "execution_count": 39,
     "metadata": {},
     "output_type": "execute_result"
    }
   ],
   "source": [
    "@test round(loglikelihood(model0), digits=2) ≈ -1451.17"
   ]
  },
  {
   "cell_type": "code",
   "execution_count": 40,
   "metadata": {},
   "outputs": [
    {
     "data": {
      "text/plain": [
       "θneural_noiseless{θz{Float64},Array{Array{Sigmoid{Float64},1},1}}\n",
       "  θz: θz{Float64}\n",
       "  θy: Array{Array{Sigmoid{Float64},1}}((2,))\n",
       "  f: Array{Array{String,1}}((2,))\n"
      ]
     },
     "execution_count": 40,
     "metadata": {},
     "output_type": "execute_result"
    }
   ],
   "source": [
    "x0 = pulse_input_DDM.flatten(θ0)\n",
    "@unpack f = θ0"
   ]
  },
  {
   "cell_type": "code",
   "execution_count": 42,
   "metadata": {},
   "outputs": [
    {
     "data": {
      "text/plain": [
       "\u001b[32m\u001b[1mTest Passed\u001b[22m\u001b[39m"
      ]
     },
     "execution_count": 42,
     "metadata": {},
     "output_type": "execute_result"
    }
   ],
   "source": [
    "@test round(loglikelihood(x0, model0), digits=2) ≈ -1451.17"
   ]
  },
  {
   "cell_type": "code",
   "execution_count": 44,
   "metadata": {},
   "outputs": [
    {
     "data": {
      "text/plain": [
       "\u001b[32m\u001b[1mTest Passed\u001b[22m\u001b[39m"
      ]
     },
     "execution_count": 44,
     "metadata": {},
     "output_type": "execute_result"
    }
   ],
   "source": [
    "model, = optimize(model0, options0; iterations=2, outer_iterations=1)\n",
    "@test round(norm(pulse_input_DDM.flatten(model.θ)), digits=2) ≈ 54.78"
   ]
  },
  {
   "cell_type": "code",
   "execution_count": 46,
   "metadata": {},
   "outputs": [
    {
     "data": {
      "text/plain": [
       "\u001b[32m\u001b[1mTest Passed\u001b[22m\u001b[39m"
      ]
     },
     "execution_count": 46,
     "metadata": {},
     "output_type": "execute_result"
    }
   ],
   "source": [
    "@test round(norm(gradient(model)), digits=2) ≈ 4.64"
   ]
  },
  {
   "cell_type": "code",
   "execution_count": 47,
   "metadata": {},
   "outputs": [
    {
     "data": {
      "text/plain": [
       "19-element Array{Float64,1}:\n",
       "  0.1\n",
       " 15.0\n",
       " -0.1\n",
       " 20.0\n",
       "  0.5\n",
       "  0.8\n",
       "  0.008\n",
       " 14.58795545516267\n",
       " 16.470768344706336\n",
       " -2.417385137035618\n",
       "  7.421620137514486\n",
       "  8.874769231994984\n",
       " 35.25212675035163\n",
       "  7.465104766763166\n",
       "  6.227878150969508\n",
       "  3.781164487182248\n",
       " 10.814092600097048\n",
       "  1.7022754474662147\n",
       "  2.085924506446829"
      ]
     },
     "execution_count": 47,
     "metadata": {},
     "output_type": "execute_result"
    }
   ],
   "source": [
    "x0 = vcat([0.1, 15., -0.1, 20., 0.5, 0.8, 0.008], pulse_input_DDM.flatten(model.θ)[dimz+1:end])"
   ]
  },
  {
   "cell_type": "code",
   "execution_count": 51,
   "metadata": {},
   "outputs": [
    {
     "name": "stdout",
     "output_type": "stream",
     "text": [
      "Fminbox\n",
      "-------\n",
      "Initial mu = 0.000487145\n",
      "\n",
      "Fminbox iteration 1\n",
      "-------------------\n",
      "Calling inner optimizer with mu = 0.000487145\n",
      "\n",
      "(numbers below include barrier contribution)\n",
      "Iter     Function value   Gradient norm \n",
      "     0     5.984242e+02     1.331840e+02\n",
      " * time: 5.888938903808594e-5\n",
      "\n",
      "Exiting inner optimizer with x = [0.1978147195275843, 15.006127925625423, 0.008033418769255438, 20.011096331987794, 0.5805966481731385, 0.22905553030860115, 0.5840913939251057, 14.49197865194059, 16.41464849558332, -2.529275732981933, 7.357649344308625, 8.857434811219719, 35.23708866710901, 7.216161623213728, 6.203701155893139, 3.8448583729533414, 10.829971459382051, 1.5279418228585275, 2.156516925292589]\n",
      "Current distance to box: 0.196815\n",
      "Decreasing barrier term μ.\n",
      "\n"
     ]
    },
    {
     "data": {
      "text/plain": [
       "\u001b[32m\u001b[1mTest Passed\u001b[22m\u001b[39m"
      ]
     },
     "execution_count": 51,
     "metadata": {},
     "output_type": "execute_result"
    }
   ],
   "source": [
    "options = neural_options(f)  \n",
    "\n",
    "model = neuralDDM(θneural(x0, f), data, n, cross, θprior(μ_B=40., σ_B=1e6))\n",
    "model, = optimize(model, options; iterations=2, outer_iterations=1)\n",
    "@test round(norm(pulse_input_DDM.flatten(model.θ)), digits=2) ≈ 52.12"
   ]
  },
  {
   "cell_type": "code",
   "execution_count": 52,
   "metadata": {},
   "outputs": [
    {
     "data": {
      "text/plain": [
       "\u001b[32m\u001b[1mTest Passed\u001b[22m\u001b[39m"
      ]
     },
     "execution_count": 52,
     "metadata": {},
     "output_type": "execute_result"
    }
   ],
   "source": [
    "H = Hessian(model; chunk_size=4)\n",
    "@test round(norm(H), digits=2) ≈ 12.11"
   ]
  },
  {
   "cell_type": "code",
   "execution_count": 53,
   "metadata": {},
   "outputs": [
    {
     "name": "stderr",
     "output_type": "stream",
     "text": [
      "┌ Warning: Hessian is not positive definite. Approximated by closest PSD matrix.\n",
      "│             ||ϵ||/||H|| is 6.2716358606593205\n",
      "└ @ pulse_input_DDM /mnt/bucket/people/briandd/Projects/pulse_input_DDM/src/base_model.jl:19\n"
     ]
    },
    {
     "data": {
      "text/plain": [
       "\u001b[32m\u001b[1mTest Passed\u001b[22m\u001b[39m"
      ]
     },
     "execution_count": 53,
     "metadata": {},
     "output_type": "execute_result"
    }
   ],
   "source": [
    "CI, HPSD = CIs(H)\n",
    "@test round(norm(CI), digits=2) ≈ 199.93"
   ]
  },
  {
   "cell_type": "code",
   "execution_count": 54,
   "metadata": {},
   "outputs": [
    {
     "data": {
      "text/plain": [
       "neural_choice_options\n",
       "  fit: Array{Bool}((21,)) Bool[1, 1, 1, 1, 1, 1, 1, 1, 1, 1  …  1, 1, 1, 1, 1, 1, 1, 1, 1, 1]\n",
       "  ub: Array{Float64}((21,)) [100.0, 40.0, 5.0, 400.0, 10.0, 1.2, 1.0, 10.0, 1.0, 100.0  …  10.0, 10.0, 100.0, 100.0, 10.0, 10.0, 100.0, 100.0, 10.0, 10.0]\n",
       "  lb: Array{Float64}((21,)) [0.001, 8.0, -5.0, 0.001, 0.001, 0.001, 0.005, -10.0, 0.0, -100.0  …  -10.0, -10.0, -100.0, 0.0, -10.0, -10.0, -100.0, 0.0, -10.0, -10.0]\n"
      ]
     },
     "execution_count": 54,
     "metadata": {},
     "output_type": "execute_result"
    }
   ],
   "source": [
    "options = neural_choice_options(f)"
   ]
  },
  {
   "cell_type": "code",
   "execution_count": 55,
   "metadata": {},
   "outputs": [
    {
     "data": {
      "text/plain": [
       "neural_choiceDDM{θneural_choice{θz{Float64},Float64,Array{Array{Sigmoid{Float64},1},1}},Array{Array{neuraldata,1},1}}\n",
       "  θ: θneural_choice{θz{Float64},Float64,Array{Array{Sigmoid{Float64},1},1}}\n",
       "  data: Array{Array{neuraldata,1}}((2,))\n",
       "  n: Int64 53\n",
       "  cross: Bool false\n"
      ]
     },
     "execution_count": 55,
     "metadata": {},
     "output_type": "execute_result"
    }
   ],
   "source": [
    "choice_neural_model = neural_choiceDDM(θneural_choice(vcat(x0[1:dimz], 0., 0., x0[dimz+1:end]), f), data, n, cross)"
   ]
  },
  {
   "cell_type": "code",
   "execution_count": 57,
   "metadata": {},
   "outputs": [
    {
     "data": {
      "text/plain": [
       "\u001b[32m\u001b[1mTest Passed\u001b[22m\u001b[39m"
      ]
     },
     "execution_count": 57,
     "metadata": {},
     "output_type": "execute_result"
    }
   ],
   "source": [
    "@test round(choice_loglikelihood(choice_neural_model), digits=2) ≈ -4.01"
   ]
  },
  {
   "cell_type": "code",
   "execution_count": 59,
   "metadata": {},
   "outputs": [
    {
     "data": {
      "text/plain": [
       "\u001b[32m\u001b[1mTest Passed\u001b[22m\u001b[39m"
      ]
     },
     "execution_count": 59,
     "metadata": {},
     "output_type": "execute_result"
    }
   ],
   "source": [
    "@test round(joint_loglikelihood(choice_neural_model), digits=2) ≈ -552.97"
   ]
  },
  {
   "cell_type": "code",
   "execution_count": 60,
   "metadata": {},
   "outputs": [
    {
     "data": {
      "text/plain": [
       "([4, 4, 4], [1, 2])"
      ]
     },
     "execution_count": 60,
     "metadata": {},
     "output_type": "execute_result"
    }
   ],
   "source": [
    "import pulse_input_DDM: nθparams\n",
    "nparams, = nθparams(f)"
   ]
  },
  {
   "cell_type": "code",
   "execution_count": 61,
   "metadata": {},
   "outputs": [
    {
     "data": {
      "text/plain": [
       "neural_choice_options\n",
       "  fit: Array{Bool}((21,)) Bool[0, 0, 0, 0, 0, 0, 0, 1, 1, 0  …  0, 0, 0, 0, 0, 0, 0, 0, 0, 0]\n",
       "  ub: Array{Float64}((21,)) [100.0, 40.0, 5.0, 400.0, 10.0, 1.2, 1.0, 10.0, 1.0, 100.0  …  10.0, 10.0, 100.0, 100.0, 10.0, 10.0, 100.0, 100.0, 10.0, 10.0]\n",
       "  lb: Array{Float64}((21,)) [0.001, 8.0, -5.0, 0.001, 0.001, 0.001, 0.005, -10.0, 0.0, -100.0  …  -10.0, -10.0, -100.0, 0.0, -10.0, -10.0, -100.0, 0.0, -10.0, -10.0]\n"
      ]
     },
     "execution_count": 61,
     "metadata": {},
     "output_type": "execute_result"
    }
   ],
   "source": [
    "fit = vcat(falses(dimz), trues(2), falses.(nparams)...);\n",
    "options = neural_choice_options(fit=fit, lb=options.lb, ub=options.ub)"
   ]
  },
  {
   "cell_type": "code",
   "execution_count": 62,
   "metadata": {},
   "outputs": [
    {
     "name": "stderr",
     "output_type": "stream",
     "text": [
      "┌ Warning: Initial position cannot be on the boundary of the box. Moving elements to the interior.\n",
      "│ Element indices affected: [2]\n",
      "└ @ Optim /usr/people/briandd/.julia/packages/Optim/SFpsz/src/multivariate/solvers/constrained/fminbox.jl:227\n"
     ]
    },
    {
     "name": "stdout",
     "output_type": "stream",
     "text": [
      "Fminbox\n",
      "-------\n",
      "Initial mu = 4.56157e-5\n",
      "\n",
      "Fminbox iteration 1\n",
      "-------------------\n",
      "Calling inner optimizer with mu = 4.56157e-5\n",
      "\n",
      "(numbers below include barrier contribution)\n",
      "Iter     Function value   Gradient norm \n",
      "     0     4.042547e+00     3.622801e+00\n",
      " * time: 5.984306335449219e-5\n",
      "\n",
      "Exiting inner optimizer with x = [-0.004195769521542584, 0.0005851309554195752]\n",
      "Current distance to box: 0.000585131\n",
      "Decreasing barrier term μ.\n",
      "\n"
     ]
    },
    {
     "data": {
      "text/plain": [
       "(neural_choiceDDM{θneural_choice{θz{Float64},Float64,Array{Array{Sigmoid{Float64},1},1}},Array{Array{neuraldata,1},1}}\n",
       "  θ: θneural_choice{θz{Float64},Float64,Array{Array{Sigmoid{Float64},1},1}}\n",
       "  data: Array{Array{neuraldata,1}}((2,))\n",
       "  n: Int64 53\n",
       "  cross: Bool false\n",
       ",  * Status: failure (reached maximum number of iterations)\n",
       "\n",
       " * Candidate solution\n",
       "    Minimizer: [-4.20e-03, 5.85e-04]\n",
       "    Minimum:   4.004296e+00\n",
       "\n",
       " * Found with\n",
       "    Algorithm:     Fminbox with BFGS\n",
       "    Initial Point: [0.00e+00, 0.00e+00]\n",
       "\n",
       " * Convergence measures\n",
       "    |x - x'|               = 1.03e-02 ≰ 1.0e-10\n",
       "    |x - x'|/|x'|          = 2.43e+00 ≰ 0.0e+00\n",
       "    |f(x) - f(x')|         = 3.81e-02 ≰ 1.0e-09\n",
       "    |f(x) - f(x')|/|f(x')| = 9.52e-03 ≰ 0.0e+00\n",
       "    |g(x)|                 = 3.57e+00 ≰ 1.0e-03\n",
       "\n",
       " * Work counters\n",
       "    Seconds run:   6  (vs limit 170000)\n",
       "    Iterations:    1\n",
       "    f(x) calls:    24\n",
       "    ∇f(x) calls:   3\n",
       ")"
      ]
     },
     "execution_count": 62,
     "metadata": {},
     "output_type": "execute_result"
    }
   ],
   "source": [
    "choice_neural_model, = choice_optimize(choice_neural_model, options; iterations=2, outer_iterations=1)"
   ]
  },
  {
   "cell_type": "code",
   "execution_count": 64,
   "metadata": {},
   "outputs": [
    {
     "data": {
      "text/plain": [
       "\u001b[32m\u001b[1mTest Passed\u001b[22m\u001b[39m"
      ]
     },
     "execution_count": 64,
     "metadata": {},
     "output_type": "execute_result"
    }
   ],
   "source": [
    "@test round(norm(pulse_input_DDM.flatten(choice_neural_model.θ)), digits=2) ≈ 52.21"
   ]
  },
  {
   "cell_type": "code",
   "execution_count": 65,
   "metadata": {},
   "outputs": [
    {
     "data": {
      "text/plain": [
       "neural_choiceDDM{θneural_choice{θz{Float64},Float64,Array{Array{Sigmoid{Float64},1},1}},Array{Array{neuraldata,1},1}}\n",
       "  θ: θneural_choice{θz{Float64},Float64,Array{Array{Sigmoid{Float64},1},1}}\n",
       "  data: Array{Array{neuraldata,1}}((2,))\n",
       "  n: Int64 53\n",
       "  cross: Bool false\n"
      ]
     },
     "execution_count": 65,
     "metadata": {},
     "output_type": "execute_result"
    }
   ],
   "source": [
    "choice_neural_model = neural_choiceDDM(θneural_choice(vcat(x0[1:dimz], 0., 0., x0[dimz+1:end]), f), data, n, cross)"
   ]
  },
  {
   "cell_type": "code",
   "execution_count": 66,
   "metadata": {},
   "outputs": [
    {
     "data": {
      "text/plain": [
       "neural_choice_options\n",
       "  fit: Array{Bool}((21,)) Bool[1, 1, 1, 1, 1, 1, 1, 1, 1, 1  …  1, 1, 1, 1, 1, 1, 1, 1, 1, 1]\n",
       "  ub: Array{Float64}((21,)) [100.0, 40.0, 5.0, 400.0, 10.0, 1.2, 1.0, 10.0, 1.0, 100.0  …  10.0, 10.0, 100.0, 100.0, 10.0, 10.0, 100.0, 100.0, 10.0, 10.0]\n",
       "  lb: Array{Float64}((21,)) [0.001, 8.0, -5.0, 0.001, 0.001, 0.001, 0.005, -10.0, 0.0, -100.0  …  -10.0, -10.0, -100.0, 0.0, -10.0, -10.0, -100.0, 0.0, -10.0, -10.0]\n"
      ]
     },
     "execution_count": 66,
     "metadata": {},
     "output_type": "execute_result"
    }
   ],
   "source": [
    "fit = vcat(trues(dimz), trues(2), trues.(nparams)...);\n",
    "options = neural_choice_options(fit=fit, lb=vcat(options.lb[1:7], -10., options.lb[9:end]), \n",
    "    ub=vcat(options.ub[1:7], 10., options.ub[9:end]))"
   ]
  },
  {
   "cell_type": "code",
   "execution_count": 67,
   "metadata": {},
   "outputs": [
    {
     "name": "stderr",
     "output_type": "stream",
     "text": [
      "┌ Warning: Initial position cannot be on the boundary of the box. Moving elements to the interior.\n",
      "│ Element indices affected: [9]\n",
      "└ @ Optim /usr/people/briandd/.julia/packages/Optim/SFpsz/src/multivariate/solvers/constrained/fminbox.jl:227\n"
     ]
    },
    {
     "name": "stdout",
     "output_type": "stream",
     "text": [
      "Fminbox\n",
      "-------\n",
      "Initial mu = 0.000165988\n",
      "\n",
      "Fminbox iteration 1\n",
      "-------------------\n",
      "Calling inner optimizer with mu = 0.000165988\n",
      "\n",
      "(numbers below include barrier contribution)\n",
      "Iter     Function value   Gradient norm \n",
      "     0     4.027770e+00     6.486240e+01\n",
      " * time: 0.014957189559936523\n",
      "\n",
      "Exiting inner optimizer with x = [0.09985278080077206, 14.999956267205766, -0.10046337402336637, 19.99996719527292, 0.4980207797933915, 0.8080904815096662, 0.005328740300285926, -0.0010075695905341453, 0.008508645037520789, 14.587967283222266, 16.470759121798622, -2.4173221452701577, 7.421639994071943, 8.874507814263445, 35.251937580177895, 7.465168094082175, 6.227803864293804, 3.7806611884733883, 10.814033359930324, 1.702741737303312, 2.0856552210294845]\n",
      "Current distance to box: 0.00032874\n",
      "Decreasing barrier term μ.\n",
      "\n"
     ]
    },
    {
     "data": {
      "text/plain": [
       "(neural_choiceDDM{θneural_choice{θz{Float64},Float64,Array{Array{Sigmoid{Float64},1},1}},Array{Array{neuraldata,1},1}}\n",
       "  θ: θneural_choice{θz{Float64},Float64,Array{Array{Sigmoid{Float64},1},1}}\n",
       "  data: Array{Array{neuraldata,1}}((2,))\n",
       "  n: Int64 53\n",
       "  cross: Bool false\n",
       ",  * Status: failure (reached maximum number of iterations)\n",
       "\n",
       " * Candidate solution\n",
       "    Minimizer: [9.99e-02, 1.50e+01, -1.00e-01,  ...]\n",
       "    Minimum:   3.836409e+00\n",
       "\n",
       " * Found with\n",
       "    Algorithm:     Fminbox with BFGS\n",
       "    Initial Point: [1.00e-01, 1.50e+01, -1.00e-01,  ...]\n",
       "\n",
       " * Convergence measures\n",
       "    |x - x'|               = 8.98e-03 ≰ 1.0e-10\n",
       "    |x - x'|/|x'|          = 1.72e-04 ≰ 0.0e+00\n",
       "    |f(x) - f(x')|         = 2.06e-01 ≰ 1.0e-09\n",
       "    |f(x) - f(x')|/|f(x')| = 5.38e-02 ≰ 0.0e+00\n",
       "    |g(x)|                 = 7.17e+01 ≰ 1.0e-03\n",
       "\n",
       " * Work counters\n",
       "    Seconds run:   17  (vs limit 170000)\n",
       "    Iterations:    1\n",
       "    f(x) calls:    28\n",
       "    ∇f(x) calls:   3\n",
       ")"
      ]
     },
     "execution_count": 67,
     "metadata": {},
     "output_type": "execute_result"
    }
   ],
   "source": [
    "choice_neural_model, = choice_optimize(choice_neural_model, options; iterations=2, outer_iterations=1)"
   ]
  },
  {
   "cell_type": "code",
   "execution_count": 69,
   "metadata": {},
   "outputs": [
    {
     "name": "stdout",
     "output_type": "stream",
     "text": [
      "\u001b[91m\u001b[1mTest Failed\u001b[22m\u001b[39m at \u001b[39m\u001b[1mIn[69]:1\u001b[22m\n",
      "  Expression: round(norm(pulse_input_DDM.flatten(choice_neural_model.θ)), digits = 2) ≈ 85.92\n",
      "   Evaluated: 52.21 ≈ 85.92\n"
     ]
    },
    {
     "ename": "LoadError",
     "evalue": "There was an error during testing",
     "output_type": "error",
     "traceback": [
      "There was an error during testing",
      "",
      "Stacktrace:",
      " [1] record(::Test.FallbackTestSet, ::Union{Test.Error, Test.Fail}) at /buildworker/worker/package_linux64/build/usr/share/julia/stdlib/v1.5/Test/src/Test.jl:737",
      " [2] do_test(::Test.ExecutionResult, ::Any) at /buildworker/worker/package_linux64/build/usr/share/julia/stdlib/v1.5/Test/src/Test.jl:520",
      " [3] top-level scope at In[69]:1",
      " [4] include_string(::Function, ::Module, ::String, ::String) at ./loading.jl:1091"
     ]
    }
   ],
   "source": [
    "@test round(norm(pulse_input_DDM.flatten(choice_neural_model.θ)), digits=2) ≈ 52.21"
   ]
  },
  {
   "cell_type": "code",
   "execution_count": null,
   "metadata": {},
   "outputs": [],
   "source": []
  }
 ],
 "metadata": {
  "kernelspec": {
   "display_name": "Julia 1.6.0",
   "language": "julia",
   "name": "julia-1.6"
  },
  "language_info": {
   "file_extension": ".jl",
   "mimetype": "application/julia",
   "name": "julia",
   "version": "1.6.0"
  }
 },
 "nbformat": 4,
 "nbformat_minor": 2
}
