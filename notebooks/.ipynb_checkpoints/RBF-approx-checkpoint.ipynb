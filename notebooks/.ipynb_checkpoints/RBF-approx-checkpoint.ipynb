{
 "cells": [
  {
   "cell_type": "code",
   "execution_count": null,
   "metadata": {},
   "outputs": [
    {
     "name": "stderr",
     "output_type": "stream",
     "text": [
      "┌ Info: Recompiling stale cache file /usr/people/briandd/.julia/compiled/v1.0/spike_data_latent_accum/m8WoA.ji for spike_data_latent_accum [c2542da2-1f7d-11e9-2506-87691095ebb2]\n",
      "└ @ Base loading.jl:1184\n"
     ]
    }
   ],
   "source": [
    "using spike_data_latent_accum"
   ]
  },
  {
   "cell_type": "code",
   "execution_count": null,
   "metadata": {},
   "outputs": [],
   "source": [
    "using PyPlot, StatsBase, JLD, Pandas, DataFrames\n",
    "using MAT, ROC, Plots, GLM\n",
    "using BasisFunctionExpansions"
   ]
  },
  {
   "cell_type": "code",
   "execution_count": null,
   "metadata": {},
   "outputs": [],
   "source": [
    "path=ENV[\"HOME\"]*\"/Projects/spike_data_latent_accum.jl\";\n",
    "region = \"FOF\""
   ]
  },
  {
   "cell_type": "code",
   "execution_count": null,
   "metadata": {},
   "outputs": [],
   "source": [
    "@load path*\"/data/results/COSYNE/\"*region*\".jld\" dt"
   ]
  },
  {
   "cell_type": "code",
   "execution_count": null,
   "metadata": {},
   "outputs": [],
   "source": [
    "filtSD = 2.5;\n",
    "\n",
    "@load path*\"/data/results/julia/stitched/\"*region*\"_shifted_extended_stiched_data.jld\" ex_data"
   ]
  },
  {
   "cell_type": "code",
   "execution_count": null,
   "metadata": {},
   "outputs": [],
   "source": [
    "λ = map(x->rate_mat_func_filt(x,dt,filtSD),ex_data[\"spike_counts\"]);"
   ]
  },
  {
   "cell_type": "code",
   "execution_count": null,
   "metadata": {},
   "outputs": [],
   "source": [
    "μ_λ = map(x->vec(nanmean(x,1)),λ);"
   ]
  },
  {
   "cell_type": "code",
   "execution_count": null,
   "metadata": {},
   "outputs": [],
   "source": [
    "v = map(x->range(0,length(x)*dt,length=length(x)),μ_λ);\n",
    "bfa = map((x,y)->BasisFunctionApproximation(y, x, UniformRBFE(x,10)),v,μ_λ);"
   ]
  },
  {
   "cell_type": "code",
   "execution_count": null,
   "metadata": {},
   "outputs": [],
   "source": [
    "num_rows, num_cols = 3,5\n",
    "fig, ax = subplots(num_rows, num_cols, figsize=(24,24))\n",
    "ii = 0\n",
    "\n",
    "for i in 1:num_rows\n",
    "    for j in 1:num_cols\n",
    "        \n",
    "        ii += 1\n",
    "        my_max = 0.;\n",
    "        \n",
    "        ax[i, j][:plot](v[ii],μ_λ[ii],linestyle=\"-\")\n",
    "        ax[i, j][:plot](v[ii],bfa[ii](v[ii]),linestyle=\"-\")\n",
    "                    \n",
    "        #ax[i, j][:set_xlim]((0, 0.5))\n",
    "        #ax[i, j][:set_ylim]((0.,100));\n",
    "        ax[i, j][:set_xlabel](\"time (s)\")\n",
    "        ax[i, j][:set_ylabel](\"Firing rate (Hz)\")\n",
    "        ax[i, j][:set_title](\"$ii\")\n",
    "        ax[i, j][:spines][\"top\"][:set_color](\"none\") # Remove the top axis boundary\n",
    "        ax[i, j][:spines][\"right\"][:set_color](\"none\") # Remove the top axis boundary  \n",
    "        \n",
    "    end\n",
    "end"
   ]
  }
 ],
 "metadata": {
  "anaconda-cloud": {},
  "kernelspec": {
   "display_name": "Julia 1.0.0",
   "language": "julia",
   "name": "julia-1.0"
  },
  "language_info": {
   "file_extension": ".jl",
   "mimetype": "application/julia",
   "name": "julia",
   "version": "1.0.0"
  }
 },
 "nbformat": 4,
 "nbformat_minor": 2
}
