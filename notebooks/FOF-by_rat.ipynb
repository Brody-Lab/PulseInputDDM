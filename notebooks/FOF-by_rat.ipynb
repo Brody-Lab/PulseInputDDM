{
 "cells": [
  {
   "cell_type": "code",
   "execution_count": 1,
   "metadata": {},
   "outputs": [],
   "source": [
    "# group by animal if can, otherwise session\n",
    "# break up sessions\n",
    "# dx vs. n"
   ]
  },
  {
   "cell_type": "code",
   "execution_count": 2,
   "metadata": {},
   "outputs": [],
   "source": [
    "# check pvalues for STR neurons, if the format is like Hanks did, where he had it right in the data"
   ]
  },
  {
   "cell_type": "code",
   "execution_count": 3,
   "metadata": {},
   "outputs": [],
   "source": [
    "using Revise, Distributed\n",
    "\n",
    "addprocs(44);\n",
    "@everywhere using Pkg; @everywhere Pkg.activate(\"/usr/people/briandd/Projects/pulse_input_DDM.jl\")"
   ]
  },
  {
   "cell_type": "code",
   "execution_count": 18,
   "metadata": {
    "collapsed": true
   },
   "outputs": [
    {
     "name": "stderr",
     "output_type": "stream",
     "text": [
      "┌ Info: Precompiling pulse_input_DDM [c2542da2-1f7d-11e9-2506-87691095ebb2]\n",
      "└ @ Base loading.jl:1192\n"
     ]
    },
    {
     "name": "stdout",
     "output_type": "stream",
     "text": [
      "      From worker 32:\tWARNING: Method definition _bcs1(Any, Any) in module Broadcast at broadcast.jl:439 overwritten in module ImageFiltering at /usr/people/briandd/.julia/packages/ImageFiltering/8fmJ4/src/ImageFiltering.jl:28.\n",
      "      From worker 42:\tWARNING: Method definition _bcs1(Any, Any) in module Broadcast at broadcast.jl:439 overwritten in module ImageFiltering at /usr/people/briandd/.julia/packages/ImageFiltering/8fmJ4/src/ImageFiltering.jl:28.\n",
      "      From worker 30:\tWARNING: Method definition _bcs1(Any, Any) in module Broadcast at broadcast.jl:439 overwritten in module ImageFiltering at /usr/people/briandd/.julia/packages/ImageFiltering/8fmJ4/src/ImageFiltering.jl:28.\n",
      "      From worker 23:\tWARNING: Method definition _bcs1(Any, Any) in module Broadcast at broadcast.jl:439 overwritten in module ImageFiltering at /usr/people/briandd/.julia/packages/ImageFiltering/8fmJ4/src/ImageFiltering.jl:28.\n",
      "      From worker 21:\tWARNING: Method definition _bcs1(Any, Any) in module Broadcast at broadcast.jl:439 overwritten in module ImageFiltering at /usr/people/briandd/.julia/packages/ImageFiltering/8fmJ4/src/ImageFiltering.jl:28.\n",
      "      From worker 31:\tWARNING: Method definition _bcs1(Any, Any) in module Broadcast at broadcast.jl:439 overwritten in module ImageFiltering at /usr/people/briandd/.julia/packages/ImageFiltering/8fmJ4/src/ImageFiltering.jl:28.\n",
      "      From worker 4:\tWARNING: Method definition _bcs1(Any, Any) in module Broadcast at broadcast.jl:439 overwritten in module ImageFiltering at /usr/people/briandd/.julia/packages/ImageFiltering/8fmJ4/src/ImageFiltering.jl:28.\n",
      "      From worker 43:\tWARNING: Method definition _bcs1(Any, Any) in module Broadcast at broadcast.jl:439 overwritten in module ImageFiltering at /usr/people/briandd/.julia/packages/ImageFiltering/8fmJ4/src/ImageFiltering.jl:28.\n",
      "      From worker 26:\tWARNING: Method definition _bcs1(Any, Any) in module Broadcast at broadcast.jl:439 overwritten in module ImageFiltering at /usr/people/briandd/.julia/packages/ImageFiltering/8fmJ4/src/ImageFiltering.jl:28.\n",
      "      From worker 13:\tWARNING: Method definition _bcs1(Any, Any) in module Broadcast at broadcast.jl:439 overwritten in module ImageFiltering at /usr/people/briandd/.julia/packages/ImageFiltering/8fmJ4/src/ImageFiltering.jl:28.\n",
      "      From worker 40:\tWARNING: Method definition _bcs1(Any, Any) in module Broadcast at broadcast.jl:439 overwritten in module ImageFiltering at /usr/people/briandd/.julia/packages/ImageFiltering/8fmJ4/src/ImageFiltering.jl:28.\n",
      "      From worker 9:\tWARNING: Method definition _bcs1(Any, Any) in module Broadcast at broadcast.jl:439 overwritten in module ImageFiltering at /usr/people/briandd/.julia/packages/ImageFiltering/8fmJ4/src/ImageFiltering.jl:28.\n",
      "      From worker 37:\tWARNING: Method definition _bcs1(Any, Any) in module Broadcast at broadcast.jl:439 overwritten in module ImageFiltering at /usr/people/briandd/.julia/packages/ImageFiltering/8fmJ4/src/ImageFiltering.jl:28.\n",
      "      From worker 45:\tWARNING: Method definition _bcs1(Any, Any) in module Broadcast at broadcast.jl:439 overwritten in module ImageFiltering at /usr/people/briandd/.julia/packages/ImageFiltering/8fmJ4/src/ImageFiltering.jl:28.\n",
      "      From worker 14:\tWARNING: Method definition _bcs1(Any, Any) in module Broadcast at broadcast.jl:439 overwritten in module ImageFiltering at /usr/people/briandd/.julia/packages/ImageFiltering/8fmJ4/src/ImageFiltering.jl:28.\n",
      "      From worker 34:\tWARNING: Method definition _bcs1(Any, Any) in module Broadcast at broadcast.jl:439 overwritten in module ImageFiltering at /usr/people/briandd/.julia/packages/ImageFiltering/8fmJ4/src/ImageFiltering.jl:28.\n",
      "      From worker 39:\tWARNING: Method definition _bcs1(Any, Any) in module Broadcast at broadcast.jl:439 overwritten in module ImageFiltering at /usr/people/briandd/.julia/packages/ImageFiltering/8fmJ4/src/ImageFiltering.jl:28.\n",
      "      From worker 27:\tWARNING: Method definition _bcs1(Any, Any) in module Broadcast at broadcast.jl:439 overwritten in module ImageFiltering at /usr/people/briandd/.julia/packages/ImageFiltering/8fmJ4/src/ImageFiltering.jl:28.\n",
      "      From worker 8:\tWARNING: Method definition _bcs1(Any, Any) in module Broadcast at broadcast.jl:439 overwritten in module ImageFiltering at /usr/people/briandd/.julia/packages/ImageFiltering/8fmJ4/src/ImageFiltering.jl:28.\n",
      "      From worker 10:\tWARNING: Method definition _bcs1(Any, Any) in module Broadcast at broadcast.jl:439 overwritten in module ImageFiltering at /usr/people/briandd/.julia/packages/ImageFiltering/8fmJ4/src/ImageFiltering.jl:28.\n",
      "      From worker 38:\tWARNING: Method definition _bcs1(Any, Any) in module Broadcast at broadcast.jl:439 overwritten in module ImageFiltering at /usr/people/briandd/.julia/packages/ImageFiltering/8fmJ4/src/ImageFiltering.jl:28.\n",
      "      From worker 25:\tWARNING: Method definition _bcs1(Any, Any) in module Broadcast at broadcast.jl:439 overwritten in module ImageFiltering at /usr/people/briandd/.julia/packages/ImageFiltering/8fmJ4/src/ImageFiltering.jl:28.\n",
      "      From worker 22:\tWARNING: Method definition _bcs1(Any, Any) in module Broadcast at broadcast.jl:439 overwritten in module ImageFiltering at /usr/people/briandd/.julia/packages/ImageFiltering/8fmJ4/src/ImageFiltering.jl:28.\n",
      "      From worker 15:\tWARNING: Method definition _bcs1(Any, Any) in module Broadcast at broadcast.jl:439 overwritten in module ImageFiltering at /usr/people/briandd/.julia/packages/ImageFiltering/8fmJ4/src/ImageFiltering.jl:28.\n",
      "      From worker 29:\tWARNING: Method definition _bcs1(Any, Any) in module Broadcast at broadcast.jl:439 overwritten in module ImageFiltering at /usr/people/briandd/.julia/packages/ImageFiltering/8fmJ4/src/ImageFiltering.jl:28.\n",
      "      From worker 18:\tWARNING: Method definition _bcs1(Any, Any) in module Broadcast at broadcast.jl:439 overwritten in module ImageFiltering at /usr/people/briandd/.julia/packages/ImageFiltering/8fmJ4/src/ImageFiltering.jl:28.\n",
      "      From worker 3:\tWARNING: Method definition _bcs1(Any, Any) in module Broadcast at broadcast.jl:439 overwritten in module ImageFiltering at /usr/people/briandd/.julia/packages/ImageFiltering/8fmJ4/src/ImageFiltering.jl:28.\n",
      "      From worker 35:\tWARNING: Method definition _bcs1(Any, Any) in module Broadcast at broadcast.jl:439 overwritten in module ImageFiltering at /usr/people/briandd/.julia/packages/ImageFiltering/8fmJ4/src/ImageFiltering.jl:28.\n",
      "      From worker 2:\tWARNING: Method definition _bcs1(Any, Any) in module Broadcast at broadcast.jl:439 overwritten in module ImageFiltering at /usr/people/briandd/.julia/packages/ImageFiltering/8fmJ4/src/ImageFiltering.jl:28.\n",
      "      From worker 7:\tWARNING: Method definition _bcs1(Any, Any) in module Broadcast at broadcast.jl:439 overwritten in module ImageFiltering at /usr/people/briandd/.julia/packages/ImageFiltering/8fmJ4/src/ImageFiltering.jl:28.\n",
      "      From worker 19:\tWARNING: Method definition _bcs1(Any, Any) in module Broadcast at broadcast.jl:439 overwritten in module ImageFiltering at /usr/people/briandd/.julia/packages/ImageFiltering/8fmJ4/src/ImageFiltering.jl:28.\n",
      "      From worker 20:\tWARNING: Method definition _bcs1(Any, Any) in module Broadcast at broadcast.jl:439 overwritten in module ImageFiltering at /usr/people/briandd/.julia/packages/ImageFiltering/8fmJ4/src/ImageFiltering.jl:28.\n",
      "      From worker 33:\tWARNING: Method definition _bcs1(Any, Any) in module Broadcast at broadcast.jl:439 overwritten in module ImageFiltering at /usr/people/briandd/.julia/packages/ImageFiltering/8fmJ4/src/ImageFiltering.jl:28.\n",
      "      From worker 44:\tWARNING: Method definition _bcs1(Any, Any) in module Broadcast at broadcast.jl:439 overwritten in module ImageFiltering at /usr/people/briandd/.julia/packages/ImageFiltering/8fmJ4/src/ImageFiltering.jl:28.\n",
      "      From worker 24:\tWARNING: Method definition _bcs1(Any, Any) in module Broadcast at broadcast.jl:439 overwritten in module ImageFiltering at /usr/people/briandd/.julia/packages/ImageFiltering/8fmJ4/src/ImageFiltering.jl:28.\n",
      "      From worker 6:\tWARNING: Method definition _bcs1(Any, Any) in module Broadcast at broadcast.jl:439 overwritten in module ImageFiltering at /usr/people/briandd/.julia/packages/ImageFiltering/8fmJ4/src/ImageFiltering.jl:28.\n",
      "      From worker 5:\tWARNING: Method definition _bcs1(Any, Any) in module Broadcast at broadcast.jl:439 overwritten in module ImageFiltering at /usr/people/briandd/.julia/packages/ImageFiltering/8fmJ4/src/ImageFiltering.jl:28.\n"
     ]
    },
    {
     "name": "stderr",
     "output_type": "stream",
     "text": [
      "WARNING: Method definition _bcs1(Any, Any) in module Broadcast at broadcast.jl:439 overwritten in module ImageFiltering at /usr/people/briandd/.julia/packages/ImageFiltering/8fmJ4/src/ImageFiltering.jl:28.\n"
     ]
    },
    {
     "name": "stdout",
     "output_type": "stream",
     "text": [
      "      From worker 16:\tWARNING: Method definition _bcs1(Any, Any) in module Broadcast at broadcast.jl:439 overwritten in module ImageFiltering at /usr/people/briandd/.julia/packages/ImageFiltering/8fmJ4/src/ImageFiltering.jl:28.\n",
      "      From worker 11:\tWARNING: Method definition _bcs1(Any, Any) in module Broadcast at broadcast.jl:439 overwritten in module ImageFiltering at /usr/people/briandd/.julia/packages/ImageFiltering/8fmJ4/src/ImageFiltering.jl:28.\n",
      "      From worker 28:\tWARNING: Method definition _bcs1(Any, Any) in module Broadcast at broadcast.jl:439 overwritten in module ImageFiltering at /usr/people/briandd/.julia/packages/ImageFiltering/8fmJ4/src/ImageFiltering.jl:28.\n",
      "      From worker 36:\tWARNING: Method definition _bcs1(Any, Any) in module Broadcast at broadcast.jl:439 overwritten in module ImageFiltering at /usr/people/briandd/.julia/packages/ImageFiltering/8fmJ4/src/ImageFiltering.jl:28.\n",
      "      From worker 17:\tWARNING: Method definition _bcs1(Any, Any) in module Broadcast at broadcast.jl:439 overwritten in module ImageFiltering at /usr/people/briandd/.julia/packages/ImageFiltering/8fmJ4/src/ImageFiltering.jl:28.\n",
      "      From worker 41:\tWARNING: Method definition _bcs1(Any, Any) in module Broadcast at broadcast.jl:439 overwritten in module ImageFiltering at /usr/people/briandd/.julia/packages/ImageFiltering/8fmJ4/src/ImageFiltering.jl:28.\n",
      "      From worker 12:\tWARNING: Method definition _bcs1(Any, Any) in module Broadcast at broadcast.jl:439 overwritten in module ImageFiltering at /usr/people/briandd/.julia/packages/ImageFiltering/8fmJ4/src/ImageFiltering.jl:28.\n"
     ]
    }
   ],
   "source": [
    "@everywhere using pulse_input_DDM\n",
    "using JLD2, PyPlot, Statistics"
   ]
  },
  {
   "cell_type": "code",
   "execution_count": 19,
   "metadata": {},
   "outputs": [],
   "source": [
    "path = ENV[\"HOME\"]*\"/Projects/pulse_input_DDM.jl\"\n",
    "f_str, n, dt = \"sig\", 103, 1e-2;"
   ]
  },
  {
   "cell_type": "markdown",
   "metadata": {},
   "source": [
    "## individual rats"
   ]
  },
  {
   "cell_type": "code",
   "execution_count": 20,
   "metadata": {},
   "outputs": [
    {
     "data": {
      "text/plain": [
       "0.05"
      ]
     },
     "execution_count": 20,
     "metadata": {},
     "output_type": "execute_result"
    }
   ],
   "source": [
    "region = \"FOF\"\n",
    "\n",
    "sessids, ratnames = sessids_from_region(region);\n",
    "\n",
    "if (region == \"STR\") || (region == \"FOF\")\n",
    "    delay = 0.05\n",
    "elseif region == \"PPC\"\n",
    "    delay = 0.1\n",
    "end"
   ]
  },
  {
   "cell_type": "code",
   "execution_count": 27,
   "metadata": {},
   "outputs": [],
   "source": [
    "rat = ratnames[1];\n",
    "sesss = sessids[1][1:5];"
   ]
  },
  {
   "cell_type": "code",
   "execution_count": 28,
   "metadata": {},
   "outputs": [],
   "source": [
    "data = aggregate_spiking_data(path*\"/data/hanks_data_sessions/all_times\", [sesss], [rat]);\n",
    "use_bin_center = true;\n",
    "data = map(x->bin_clicks_spikes_and_λ0!(x, use_bin_center; dt=dt,delay=delay), data);"
   ]
  },
  {
   "cell_type": "code",
   "execution_count": null,
   "metadata": {
    "scrolled": true
   },
   "outputs": [],
   "source": [
    "@time pz, py, = load_and_optimize(data, f_str, n; iterations=200, show_trace=true)"
   ]
  },
  {
   "cell_type": "code",
   "execution_count": null,
   "metadata": {},
   "outputs": [],
   "source": [
    "JLD2.@save path*\"/data/results/working/\"*region*\"_\"*rat*\".jld\" pz py"
   ]
  },
  {
   "cell_type": "code",
   "execution_count": null,
   "metadata": {},
   "outputs": [],
   "source": [
    "μ_hat_ct = pulse_input_DDM.sample_average_expected_rates_multiple_sessions(pz[\"final\"], \n",
    "    py[\"final\"], data, f_str);"
   ]
  },
  {
   "cell_type": "code",
   "execution_count": null,
   "metadata": {
    "scrolled": false
   },
   "outputs": [],
   "source": [
    "num_rows, num_cols = length(data), maximum(map(x-> x[\"N\"], data))\n",
    "fig, ax = subplots(num_rows, num_cols, figsize=(4*maximum(map(x-> x[\"N\"], data)),4*length(data)))\n",
    "my_colors = [\"#E50000\",\"#9F3F00\",\"#5A7F00\",\"#15BF00\"]\n",
    "#PPC colors = [\"#1822A0\",\"#5D4A7A\",\"#A37354\",\"#E99C2F\"]\n",
    "#STR colors = [\"#A01892\",\"#B85C71\",\"#D0A150\",\"#E9E62F\"]\n",
    "\n",
    "#fix k vs. n here, they are now mixed up\n",
    "\n",
    "for i in 1:num_rows\n",
    "    \n",
    "    plt_data = data[i]\n",
    "    plt_data_2 = μ_hat_ct[i]\n",
    "    \n",
    "    for j in 1:length(plt_data_2)               \n",
    "        for k = 1:plt_data[\"nconds\"]        \n",
    "            \n",
    "            if num_cols > 1\n",
    "            \n",
    "                ax[i,j].fill_between((1:length(plt_data[\"μ_ct\"][j][k]))*dt,\n",
    "                    plt_data[\"μ_ct\"][j][k] + plt_data[\"σ_ct\"][j][k],\n",
    "                    plt_data[\"μ_ct\"][j][k] - plt_data[\"σ_ct\"][j][k],\n",
    "                    alpha=0.2, color=my_colors[k])\n",
    "                \n",
    "                ax[i,j].plot((1:length(plt_data_2[j][k]))*dt,\n",
    "                    plt_data_2[j][k], color=my_colors[k])                                     \n",
    "\n",
    "                ax[i,j].set_xlim((0, 0.5))\n",
    "                #ax[j].set_ylim((0, 30))\n",
    "\n",
    "                \n",
    "            else\n",
    "                \n",
    "                ax.fill_between((1:length(plt_data[\"μ_ct\"][j][k]))*dt,\n",
    "                    plt_data[\"μ_ct\"][j][k] + plt_data[\"σ_ct\"][j][k],\n",
    "                    plt_data[\"μ_ct\"][j][k] - plt_data[\"σ_ct\"][j][k],\n",
    "                    alpha=0.2, color=my_colors[k])\n",
    "                \n",
    "                ax.plot((1:length(plt_data_2[j][k]))*dt,\n",
    "                    plt_data_2[j][k], color=my_colors[k])\n",
    "            \n",
    "                ax.set_xlim((0, 0.5))\n",
    "                ax.set_ylim((0, 30))\n",
    "                \n",
    "            end\n",
    "                        \n",
    "        end   \n",
    "        \n",
    "        if num_cols > 1\n",
    "            ax[i,j].plot((1:length(plt_data[\"μ_t\"][j]))*dt,\n",
    "                plt_data[\"μ_t\"][j], color=\"black\")\n",
    "        else\n",
    "            ax.plot((1:length(plt_data[\"μ_t\"][j]))*dt,\n",
    "                plt_data[\"μ_t\"][j], color=\"black\")\n",
    "        end\n",
    "                      \n",
    "    end\n",
    "    \n",
    "end\n",
    "\n",
    "tight_layout() "
   ]
  },
  {
   "cell_type": "code",
   "execution_count": null,
   "metadata": {},
   "outputs": [],
   "source": []
  }
 ],
 "metadata": {
  "anaconda-cloud": {},
  "kernelspec": {
   "display_name": "Julia 1.0.3",
   "language": "julia",
   "name": "julia-1.0"
  },
  "language_info": {
   "file_extension": ".jl",
   "mimetype": "application/julia",
   "name": "julia",
   "version": "1.0.3"
  }
 },
 "nbformat": 4,
 "nbformat_minor": 2
}
