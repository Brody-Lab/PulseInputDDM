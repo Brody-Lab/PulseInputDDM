{
 "cells": [
  {
   "cell_type": "code",
   "execution_count": 1,
   "metadata": {},
   "outputs": [],
   "source": [
    "using Distributed\n",
    "addprocs(44)\n",
    "\n",
    "@everywhere using Pkg; @everywhere Pkg.activate(\"/mnt/bucket/people/briandd/Projects/pulse_input_DDM.jl\")"
   ]
  },
  {
   "cell_type": "code",
   "execution_count": 2,
   "metadata": {},
   "outputs": [
    {
     "name": "stderr",
     "output_type": "stream",
     "text": [
      "WARNING: using StatsBase.mode in module Main conflicts with an existing identifier.\n"
     ]
    }
   ],
   "source": [
    "@everywhere using pulse_input_DDM\n",
    "using PyPlot, Statistics\n",
    "using StatsBase\n",
    "using HypothesisTests\n",
    "import Pandas, LinearAlgebra\n",
    "using DataFrames"
   ]
  },
  {
   "cell_type": "code",
   "execution_count": 3,
   "metadata": {
    "scrolled": false
   },
   "outputs": [],
   "source": [
    "using JLD2\n",
    "using ImageFiltering"
   ]
  },
  {
   "cell_type": "code",
   "execution_count": 4,
   "metadata": {},
   "outputs": [],
   "source": [
    "path = ENV[\"HOME\"]*\"/Projects/pulse_input_DDM.jl\"\n",
    "region = \"FOF\"; \n",
    "#region = \"STR\";\n",
    "#region = \"PPC\";"
   ]
  },
  {
   "cell_type": "code",
   "execution_count": 5,
   "metadata": {},
   "outputs": [],
   "source": [
    "dt = 1e-2\n",
    "sessids, ratnames = sessids_from_region(region);"
   ]
  },
  {
   "cell_type": "markdown",
   "metadata": {},
   "source": [
    "## Load Data"
   ]
  },
  {
   "cell_type": "code",
   "execution_count": 1,
   "metadata": {},
   "outputs": [
    {
     "data": {
      "text/plain": [
       "0.05"
      ]
     },
     "execution_count": 1,
     "metadata": {},
     "output_type": "execute_result"
    }
   ],
   "source": [
    "delay = 0.05"
   ]
  },
  {
   "cell_type": "code",
   "execution_count": 6,
   "metadata": {},
   "outputs": [],
   "source": [
    "data = aggregate_spiking_data(path*\"/data/hanks_data_sessions/all_times\", sessids, ratnames, dt, delay = delay);"
   ]
  },
  {
   "cell_type": "code",
   "execution_count": 7,
   "metadata": {},
   "outputs": [],
   "source": [
    "ts = -(ceil(maximum(vcat(data[\"cpoke_end\"]...))/dt) + 1) * dt\n",
    "tf = (ceil(maximum(vcat(data[\"cpoke_end\"]...))/dt) + 1) * dt;\n",
    "#ts,tf = -2.,2."
   ]
  },
  {
   "cell_type": "code",
   "execution_count": 8,
   "metadata": {},
   "outputs": [],
   "source": [
    "data = aggregate_and_append_extended_spiking_data!(data, path*\"/data/hanks_data_sessions/all_times\", \n",
    "        sessids, ratnames, dt, ts, tf, delay = delay);"
   ]
  },
  {
   "cell_type": "markdown",
   "metadata": {},
   "source": [
    "## Filter data based on dprime"
   ]
  },
  {
   "cell_type": "code",
   "execution_count": 9,
   "metadata": {},
   "outputs": [],
   "source": [
    "#compute the spikes/sec on each trial\n",
    "FR = map((x,y)->map((y,z)->sum(x[y])/z,1:length(x),data[\"T\"][y]),data[\"spike_counts_by_neuron\"],data[\"trial\"])\n",
    "\n",
    "dprimes = abs.(map(i-> pulse_input_DDM.dprime(FR[i], data[\"pokedR\"][data[\"trial\"][i]]), 1:data[\"N0\"]))\n",
    "\n",
    "sorted_dprime = sort(dprimes,rev=true)\n",
    "cell_index = sortperm(dprimes,rev=true);"
   ]
  },
  {
   "cell_type": "code",
   "execution_count": 10,
   "metadata": {},
   "outputs": [],
   "source": [
    "filtSD = 3;\n",
    "kern = reflect(KernelFactors.gaussian(filtSD,8*filtSD+1));"
   ]
  },
  {
   "cell_type": "code",
   "execution_count": 11,
   "metadata": {},
   "outputs": [],
   "source": [
    "λ = map(x->padded_λ_array(x,dt,filtSD), data[\"spike_counts_by_neuron\"]);\n",
    "μ_λ = map(x-> imfilter(vec(eps().+nanmean(x,1)), kern), λ);"
   ]
  },
  {
   "cell_type": "code",
   "execution_count": null,
   "metadata": {},
   "outputs": [],
   "source": [
    "#λ = map(x->padded_λ_array(x,dt,filtSD), data[\"spike_counts_by_neuron\"]);\n",
    "#μ_λ = map(x-> imfilter(vec(eps().+nanmean(x,1)), kern), λ);\n",
    "\n",
    "λ_ex = map(x-> pulse_input_DDM.rate_mat_func_filt(x,dt,filtSD), data[\"spike_counts_stimulus_aligned_extended_by_neuron\"]);\n",
    "λ_ex = map(x-> x[:,11:end-9], λ_ex)\n",
    "μ_λ_ex = map(x-> imfilter(vec(eps().+nanmean(x,1)), kern), λ_ex);"
   ]
  },
  {
   "cell_type": "code",
   "execution_count": 12,
   "metadata": {},
   "outputs": [
    {
     "data": {
      "text/plain": [
       "Dict{String,Array{Array{Array{Float64,1},1},1}} with 2 entries:\n",
       "  \"by_neuron\" => Array{Array{Float64,1},1}[[[17.4789, 17.4268, 17.3638, 17.2914…\n",
       "  \"by_trial\"  => Array{Array{Float64,1},1}[[[17.4789, 17.4268, 17.3638, 17.2914…"
      ]
     },
     "execution_count": 12,
     "metadata": {},
     "output_type": "execute_result"
    }
   ],
   "source": [
    "trunc_μ_λ = pulse_input_DDM.λ0_by_trial(data, μ_λ_ex, cpoke_aligned = false)"
   ]
  },
  {
   "cell_type": "markdown",
   "metadata": {},
   "source": [
    "## generate single neuron data arrays"
   ]
  },
  {
   "cell_type": "code",
   "execution_count": 13,
   "metadata": {},
   "outputs": [],
   "source": [
    "single_data = map(i-> filter_data_by_cell!(deepcopy(data), i:i), 1:data[\"N0\"]);"
   ]
  },
  {
   "cell_type": "code",
   "execution_count": 14,
   "metadata": {},
   "outputs": [],
   "source": [
    "single_trunc_μ_λ = map(i-> Dict(\"by_neuron\" => [trunc_μ_λ[\"by_neuron\"][i]], \n",
    "    \"by_trial\" => map(j-> [j], trunc_μ_λ[\"by_neuron\"][i])), 1:data[\"N0\"]);"
   ]
  },
  {
   "cell_type": "markdown",
   "metadata": {},
   "source": [
    "## Fitting, test and pvalue single neurons"
   ]
  },
  {
   "cell_type": "code",
   "execution_count": 15,
   "metadata": {},
   "outputs": [],
   "source": [
    "ΔLL = Array{Float64}(undef,data[\"N0\"],10);\n",
    "\n",
    "for j = 1:data[\"N0\"]\n",
    "    \n",
    "    for i = 1:10\n",
    "\n",
    "        ΔLL[j,i] = pulse_input_DDM.splitdata_train_test(single_data[j], single_trunc_μ_λ[j]; frac=0.8, dt=dt)\n",
    "        \n",
    "    end\n",
    "    \n",
    "    pvalues = mapslices(x-> pvalue(SignTest(x)), ΔLL[1:j,:], dims=2);\n",
    "    \n",
    "    JLD2.@save path*\"/data/results/working/\"*region*\"_deltaLL_v2.jld\" ΔLL pvalues\n",
    "    \n",
    "end"
   ]
  },
  {
   "cell_type": "code",
   "execution_count": 21,
   "metadata": {},
   "outputs": [
    {
     "data": {
      "text/plain": [
       "112×1 Array{Float64,2}:\n",
       " 0.3437500000000001   \n",
       " 0.3437500000000001   \n",
       " 0.021484375000000014 \n",
       " 0.021484375000000014 \n",
       " 0.0019531250000000004\n",
       " 0.0019531250000000004\n",
       " 0.10937499999999994  \n",
       " 1.0                  \n",
       " 0.021484375000000014 \n",
       " 0.021484375000000014 \n",
       " 0.0019531250000000004\n",
       " 0.7539062500000002   \n",
       " 0.0019531250000000004\n",
       " ⋮                    \n",
       " 0.0019531250000000004\n",
       " 0.0019531250000000004\n",
       " 0.021484375000000014 \n",
       " 0.0019531250000000004\n",
       " 0.021484375000000014 \n",
       " 0.0019531250000000004\n",
       " 0.0019531250000000004\n",
       " 0.0019531250000000004\n",
       " 0.0019531250000000004\n",
       " 0.0019531250000000004\n",
       " 0.021484375000000014 \n",
       " 0.0019531250000000004"
      ]
     },
     "execution_count": 21,
     "metadata": {},
     "output_type": "execute_result"
    }
   ],
   "source": [
    "pvalues = mapslices(x-> pvalue(SignTest(x)), ΔLL, dims=2)"
   ]
  },
  {
   "cell_type": "code",
   "execution_count": null,
   "metadata": {},
   "outputs": [],
   "source": [
    "#JLD2.@save path*\"/data/results/working/\"*region*\"_deltaLL.jld\" ΔLL"
   ]
  },
  {
   "cell_type": "code",
   "execution_count": 16,
   "metadata": {},
   "outputs": [
    {
     "data": {
      "text/plain": [
       "1-element Array{Symbol,1}:\n",
       " :ΔLL"
      ]
     },
     "execution_count": 16,
     "metadata": {},
     "output_type": "execute_result"
    }
   ],
   "source": [
    "#JLD2.@load path*\"/data/results/working/\"*region*\"_deltaLL_try2.jld\" ΔLL"
   ]
  },
  {
   "cell_type": "code",
   "execution_count": 16,
   "metadata": {},
   "outputs": [
    {
     "data": {
      "text/plain": [
       "1-element Array{Symbol,1}:\n",
       " :ΔLL"
      ]
     },
     "execution_count": 16,
     "metadata": {},
     "output_type": "execute_result"
    }
   ],
   "source": [
    "#JLD2.@load path*\"/data/results/working/\"*region*\"_deltaLL_1_60.jld\" ΔLL"
   ]
  },
  {
   "cell_type": "code",
   "execution_count": null,
   "metadata": {},
   "outputs": [],
   "source": [
    "#blah = hcat(deepcopy(ΔLL)...)'"
   ]
  },
  {
   "cell_type": "code",
   "execution_count": 20,
   "metadata": {},
   "outputs": [],
   "source": [
    "#ΔLL[1:60,:] = blah;"
   ]
  },
  {
   "cell_type": "code",
   "execution_count": 35,
   "metadata": {},
   "outputs": [
    {
     "ename": "BoundsError",
     "evalue": "BoundsError: attempt to access 112×4 Array{Any,2} at index [Base.LogicalIndex(Bool[false; false; true; true; true; true; false; false; true; true; true; false; true; true; true; true; false; false; true; false; true; true; true; false; false; false; false; true; true; false; false; false; false; false; true; true; true; true; false; true; false; true; true; false; true; true; false; false; false; false; false; false; true; true; false; true; true; true; true; false; false; true; true; true; true; false; true; true; true; true; false; true; false; false; true; false; true; true; true; true; true; true; true; true; false; true; false; true; false; true; false; true; true; true; true; true; true; false; false; true; true; true; true; true; true; true; true; true; true; true; true; true]), Base.Slice(Base.OneTo(1))]",
     "output_type": "error",
     "traceback": [
      "BoundsError: attempt to access 112×4 Array{Any,2} at index [Base.LogicalIndex(Bool[false; false; true; true; true; true; false; false; true; true; true; false; true; true; true; true; false; false; true; false; true; true; true; false; false; false; false; true; true; false; false; false; false; false; true; true; true; true; false; true; false; true; true; false; true; true; false; false; false; false; false; false; true; true; false; true; true; true; true; false; false; true; true; true; true; false; true; true; true; true; false; true; false; false; true; false; true; true; true; true; true; true; true; true; false; true; false; true; false; true; false; true; true; true; true; true; true; false; false; true; true; true; true; true; true; true; true; true; true; true; true; true]), Base.Slice(Base.OneTo(1))]",
      "",
      "Stacktrace:",
      " [1] throw_boundserror(::Array{Any,2}, ::Tuple{Base.LogicalIndex{CartesianIndex{2},BitArray{2}},Base.Slice{Base.OneTo{Int64}}}) at ./abstractarray.jl:484",
      " [2] checkbounds at ./abstractarray.jl:449 [inlined]",
      " [3] _getindex at ./multidimensional.jl:588 [inlined]",
      " [4] getindex(::Array{Any,2}, ::BitArray{2}, ::Function) at ./abstractarray.jl:905",
      " [5] top-level scope at In[35]:1"
     ]
    }
   ],
   "source": [
    "hcat(data[\"cellID_by_neuron\"],data[\"sessID_by_neuron\"],\n",
    "    data[\"ratID_by_neuron\"], dprimes)"
   ]
  },
  {
   "cell_type": "code",
   "execution_count": 36,
   "metadata": {},
   "outputs": [
    {
     "data": {
      "text/plain": [
       "112×5 Array{Any,2}:\n",
       " 1287   46331  \"B068\"  0.0334404  0.34375   \n",
       " 1293   46331  \"B068\"  0.044257   0.34375   \n",
       " 1338   46484  \"B068\"  0.0602283  0.0214844 \n",
       " 1343   46484  \"B068\"  0.0304013  0.0214844 \n",
       " 1359   46630  \"B068\"  0.0390092  0.00195313\n",
       " 1361   46630  \"B068\"  0.0303393  0.00195313\n",
       " 1448   47745  \"B068\"  0.0134181  0.109375  \n",
       " 1467   48117  \"B068\"  0.0346861  1.0       \n",
       " 1469   48117  \"B068\"  0.0949105  0.0214844 \n",
       " 1522   48988  \"B068\"  0.0197945  0.0214844 \n",
       " 1533   48988  \"B068\"  0.0773042  0.00195313\n",
       " 1535   49313  \"B068\"  0.0441363  0.753906  \n",
       " 1553   49380  \"B068\"  0.0362041  0.00195313\n",
       "    ⋮                                       \n",
       " 7758  196708  \"T063\"  0.583642   0.00195313\n",
       " 7759  196708  \"T063\"  0.335635   0.00195313\n",
       " 7765  197075  \"T063\"  0.0986504  0.0214844 \n",
       " 7766  197075  \"T063\"  0.447877   0.00195313\n",
       " 7767  197075  \"T063\"  0.0628445  0.0214844 \n",
       " 7772  197212  \"T063\"  0.0762005  0.00195313\n",
       " 7774  197212  \"T063\"  0.100325   0.00195313\n",
       " 7911  197479  \"T063\"  0.0774272  0.00195313\n",
       " 7922  198004  \"T063\"  0.458378   0.00195313\n",
       " 7923  198004  \"T063\"  0.392896   0.00195313\n",
       " 7926  198004  \"T063\"  0.0681379  0.0214844 \n",
       " 4619  151411  \"T030\"  0.0814198  0.00195313"
      ]
     },
     "execution_count": 36,
     "metadata": {},
     "output_type": "execute_result"
    }
   ],
   "source": [
    "hcat(data[\"cellID_by_neuron\"], data[\"sessID_by_neuron\"],\n",
    "    data[\"ratID_by_neuron\"], dprimes, pvalues)"
   ]
  },
  {
   "cell_type": "code",
   "execution_count": null,
   "metadata": {},
   "outputs": [],
   "source": []
  }
 ],
 "metadata": {
  "anaconda-cloud": {},
  "kernelspec": {
   "display_name": "Julia 1.0.0",
   "language": "julia",
   "name": "julia-1.0"
  },
  "language_info": {
   "file_extension": ".jl",
   "mimetype": "application/julia",
   "name": "julia",
   "version": "1.0.0"
  }
 },
 "nbformat": 4,
 "nbformat_minor": 2
}
