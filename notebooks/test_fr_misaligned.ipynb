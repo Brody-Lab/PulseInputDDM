{
 "cells": [
  {
   "cell_type": "code",
   "execution_count": 1,
   "metadata": {},
   "outputs": [
    {
     "name": "stderr",
     "output_type": "stream",
     "text": [
      "┌ Info: Precompiling Distributions [31c24e10-a181-5473-b8eb-7969acd0382f]\n",
      "└ @ Base loading.jl:1192\n",
      "ERROR: LoadError: InitError: /Users/briandepasquale/.julia/packages/SpecialFunctions/fvheQ/deps/usr/lib/libopenspecfun.1.3.dylib cannot be opened, Please re-run Pkg.build(\"SpecialFunctions\"), and restart Julia.\n",
      "during initialization of module SpecialFunctions\n",
      "in expression starting at /Users/briandepasquale/.julia/packages/StatsFuns/0W2sM/src/StatsFuns.jl:6\n",
      "ERROR: LoadError: Failed to precompile StatsFuns [4c63d2b9-4356-54db-8cca-17b64c39e42c] to /Users/briandepasquale/.julia/compiled/v1.0/StatsFuns/530lR.ji.\n",
      "Stacktrace:\n",
      " [1] error(::String) at ./error.jl:33\n",
      " [2] compilecache(::Base.PkgId, ::String) at ./loading.jl:1203\n",
      " [3] _require(::Base.PkgId) at ./loading.jl:960\n",
      " [4] require(::Base.PkgId) at ./loading.jl:858\n",
      " [5] require(::Module, ::Symbol) at ./loading.jl:853\n",
      " [6] include at ./boot.jl:317 [inlined]\n",
      " [7] include_relative(::Module, ::String) at ./loading.jl:1044\n",
      " [8] include(::Module, ::String) at ./sysimg.jl:29\n",
      " [9] top-level scope at none:2\n",
      "in expression starting at /Users/briandepasquale/.julia/packages/Distributions/WHjOk/src/Distributions.jl:3\n"
     ]
    },
    {
     "ename": "ErrorException",
     "evalue": "Failed to precompile Distributions [31c24e10-a181-5473-b8eb-7969acd0382f] to /Users/briandepasquale/.julia/compiled/v1.0/Distributions/xILW0.ji.",
     "output_type": "error",
     "traceback": [
      "Failed to precompile Distributions [31c24e10-a181-5473-b8eb-7969acd0382f] to /Users/briandepasquale/.julia/compiled/v1.0/Distributions/xILW0.ji.",
      "",
      "Stacktrace:",
      " [1] error(::String) at ./error.jl:33"
     ]
    }
   ],
   "source": [
    "using Pkg, PyPlot, Distributions"
   ]
  },
  {
   "cell_type": "code",
   "execution_count": null,
   "metadata": {},
   "outputs": [],
   "source": [
    "## simulate whatever the heck Tyler and Alex are fretting about"
   ]
  },
  {
   "cell_type": "code",
   "execution_count": 2,
   "metadata": {},
   "outputs": [
    {
     "name": "stdout",
     "output_type": "stream",
     "text": [
      "\u001b[32m\u001b[1m  Building\u001b[22m\u001b[39m SpecialFunctions → `~/.julia/packages/SpecialFunctions/fvheQ/deps/build.log`\n"
     ]
    },
    {
     "name": "stderr",
     "output_type": "stream",
     "text": [
      "┌ Error: Error building `SpecialFunctions`: \n",
      "│ ERROR: LoadError: LoadError: Unable to open libLLVM!\n",
      "│ in expression starting at /Users/briandepasquale/.julia/packages/BinaryProvider/4F5Hq/src/PlatformNames.jl:685\n",
      "│ in expression starting at /Users/briandepasquale/.julia/packages/BinaryProvider/4F5Hq/src/BinaryProvider.jl:12\n",
      "│ ERROR: LoadError: Failed to precompile BinaryProvider [b99e7846-7c00-51b0-8f62-c81ae34c0232] to /Users/briandepasquale/.julia/compiled/v1.0/BinaryProvider/ek6VZ.ji.\n",
      "│ Stacktrace:\n",
      "│  [1] error(::String) at ./error.jl:33\n",
      "│  [2] compilecache(::Base.PkgId, ::String) at ./loading.jl:1203\n",
      "│  [3] _require(::Base.PkgId) at ./loading.jl:960\n",
      "│  [4] require(::Base.PkgId) at ./loading.jl:858\n",
      "│  [5] require(::Module, ::Symbol) at ./loading.jl:853\n",
      "│  [6] include at ./boot.jl:317 [inlined]\n",
      "│  [7] include_relative(::Module, ::String) at ./loading.jl:1044\n",
      "│  [8] include(::Module, ::String) at ./sysimg.jl:29\n",
      "│ in expression starting at /Users/briandepasquale/.julia/packages/SpecialFunctions/fvheQ/deps/build.jl:1\n",
      "└ @ Pkg.Operations /Users/distiller/miniconda3/conda-bld/julia_1547180056262/work/usr/share/julia/stdlib/v1.0/Pkg/src/Operations.jl:1097\n"
     ]
    }
   ],
   "source": [
    "Pkg.build(\"SpecialFunctions\")"
   ]
  },
  {
   "cell_type": "code",
   "execution_count": null,
   "metadata": {},
   "outputs": [],
   "source": []
  }
 ],
 "metadata": {
  "anaconda-cloud": {},
  "kernelspec": {
   "display_name": "Julia 1.0.3",
   "language": "julia",
   "name": "julia-1.0"
  },
  "language_info": {
   "file_extension": ".jl",
   "mimetype": "application/julia",
   "name": "julia",
   "version": "1.0.3"
  }
 },
 "nbformat": 4,
 "nbformat_minor": 2
}
