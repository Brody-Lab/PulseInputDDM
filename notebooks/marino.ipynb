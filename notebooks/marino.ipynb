{
 "cells": [
  {
   "cell_type": "code",
   "execution_count": 1,
   "metadata": {},
   "outputs": [],
   "source": [
    "using Distributed\n",
    "addprocs(44);"
   ]
  },
  {
   "cell_type": "code",
   "execution_count": 2,
   "metadata": {},
   "outputs": [],
   "source": [
    "using pulse_input_DDM"
   ]
  },
  {
   "cell_type": "code",
   "execution_count": 3,
   "metadata": {},
   "outputs": [],
   "source": [
    "path = \"/mnt/bucket/labs/brody/vdtang/P055_processed\"\n",
    "ratnames=[\"P055\"]\n",
    "sessids=[[17061800,18041700,16052600,16070500,16111700,18010300,18022600,17122200,\n",
    "        17081200,17092600,17051900,18030500,17011800,18012200,17011500,17062500,\n",
    "        17112700,18032700,16082200,18060800,18032500,17082900,17080500,17081000,\n",
    "        17052300,17090800,17090900,18041500,18040500,17122000]];"
   ]
  },
  {
   "cell_type": "code",
   "execution_count": 4,
   "metadata": {},
   "outputs": [],
   "source": [
    "#parameters of the latent model\n",
    "pz = Dict(\"name\" => vcat(\"σ_i\",\"B\", \"λ\", \"σ_a\",\"σ_s\",\"ϕ\",\"τ_ϕ\"),\n",
    "    \"fit\" => vcat(trues(7)),\n",
    "    \"initial\" => vcat(2.,15.,-5.,100.,2.,0.2,0.005),\n",
    "    \"lb\" => [eps(), 4., -5., eps(), eps(), eps(), eps()],\n",
    "    \"ub\" => [10., 100, 5., 800., 40., 2., 10.])\n",
    "\n",
    "#parameters for the choice observation\n",
    "pd = Dict(\"name\" => vcat(\"bias\",\"lapse\"), \"fit\" => trues(2), \n",
    "    \"initial\" => vcat(0.,0.5));"
   ]
  },
  {
   "cell_type": "code",
   "execution_count": 5,
   "metadata": {},
   "outputs": [
    {
     "data": {
      "text/plain": [
       "Dict{String,Any} with 9 entries:\n",
       "  \"rightbups\"   => Array{Float64,1}[[0.320735, 0.58898], [0.04424, 0.11641, 0.1…\n",
       "  \"T\"           => [1.4695, 1.507, 1.40101, 1.52, 1.49199, 1.4515, 1.401, 1.531…\n",
       "  \"ratID\"       => [\"P055\", \"P055\", \"P055\", \"P055\", \"P055\", \"P055\", \"P055\", \"P0…\n",
       "  \"leftbups\"    => Array{Float64,1}[[0.002, 0.0592, 0.061615, 0.06239, 0.06786,…\n",
       "  \"stim_start\"  => [541.881, 550.909, 573.805, 585.023, 594.216, 598.173, 601.5…\n",
       "  \"pokedR\"      => Bool[false, true, false, false, true, false, true, false, tr…\n",
       "  \"correct_dir\" => Bool[false, true, true, true, false, false, true, true, fals…\n",
       "  \"sessID\"      => [17061800, 17061800, 17061800, 17061800, 17061800, 17061800,…\n",
       "  \"cpoke_end\"   => [543.35, 552.416, 575.206, 586.543, 595.708, 599.625, 602.94…"
      ]
     },
     "execution_count": 5,
     "metadata": {},
     "output_type": "execute_result"
    }
   ],
   "source": [
    "data = aggregate_choice_data(path, sessids, ratnames)"
   ]
  },
  {
   "cell_type": "code",
   "execution_count": 6,
   "metadata": {},
   "outputs": [],
   "source": [
    "#bin the click inputs at 10 ms\n",
    "data = bin_clicks!(data;dt=1e-2);"
   ]
  },
  {
   "cell_type": "code",
   "execution_count": 10,
   "metadata": {},
   "outputs": [
    {
     "ename": "MethodError",
     "evalue": "MethodError: no method matching load_and_optimize(::Dict{String,Any}; f_tol=1.0e-9)\nClosest candidates are:\n  load_and_optimize(::Any; n, pz, show_trace, iterations) at /usr/people/briandd/.julia/packages/pulse_input_DDM/SIGgo/src/choice_model/wrapper_functions.jl:81 got unsupported keyword argument \"f_tol\"\n  load_and_optimize(!Matched::String, !Matched::Any, !Matched::Any; n, dt, pz, show_trace, iterations) at /usr/people/briandd/.julia/packages/pulse_input_DDM/SIGgo/src/choice_model/wrapper_functions.jl:62 got unsupported keyword argument \"f_tol\"\n  load_and_optimize(!Matched::String, !Matched::Any, !Matched::Any, !Matched::Any; n, dt, delay, pz, show_trace, iterations) at /usr/people/briandd/.julia/packages/pulse_input_DDM/SIGgo/src/neural_model/wrapper_functions.jl:67 got unsupported keyword argument \"f_tol\"\n  ...",
     "output_type": "error",
     "traceback": [
      "MethodError: no method matching load_and_optimize(::Dict{String,Any}; f_tol=1.0e-9)\nClosest candidates are:\n  load_and_optimize(::Any; n, pz, show_trace, iterations) at /usr/people/briandd/.julia/packages/pulse_input_DDM/SIGgo/src/choice_model/wrapper_functions.jl:81 got unsupported keyword argument \"f_tol\"\n  load_and_optimize(!Matched::String, !Matched::Any, !Matched::Any; n, dt, pz, show_trace, iterations) at /usr/people/briandd/.julia/packages/pulse_input_DDM/SIGgo/src/choice_model/wrapper_functions.jl:62 got unsupported keyword argument \"f_tol\"\n  load_and_optimize(!Matched::String, !Matched::Any, !Matched::Any, !Matched::Any; n, dt, delay, pz, show_trace, iterations) at /usr/people/briandd/.julia/packages/pulse_input_DDM/SIGgo/src/neural_model/wrapper_functions.jl:67 got unsupported keyword argument \"f_tol\"\n  ...",
      "",
      "Stacktrace:",
      " [1] kwerr(::NamedTuple{(:f_tol,),Tuple{Float64}}, ::Function, ::Dict{String,Any}) at ./error.jl:97",
      " [2] (::getfield(pulse_input_DDM, Symbol(\"#kw##load_and_optimize\")))(::NamedTuple{(:f_tol,),Tuple{Float64}}, ::typeof(load_and_optimize), ::Dict{String,Any}) at ./none:0",
      " [3] top-level scope at util.jl:156",
      " [4] top-level scope at In[10]:1"
     ]
    }
   ],
   "source": [
    "@time pz, pd = load_and_optimize(data;f_tol=1e-9)"
   ]
  },
  {
   "cell_type": "code",
   "execution_count": null,
   "metadata": {},
   "outputs": [],
   "source": [
    "#compute the Hessian of the LL landscape, to compute confidence intervals on the parameters\n",
    "pz, pd = compute_H_CI!(pz, pd, data);"
   ]
  },
  {
   "cell_type": "code",
   "execution_count": null,
   "metadata": {},
   "outputs": [],
   "source": [
    "using DataFrames\n",
    "show(DataFrame(pz),allcols=true)\n",
    "show(DataFrame(pd),allcols=true)"
   ]
  },
  {
   "cell_type": "code",
   "execution_count": null,
   "metadata": {},
   "outputs": [],
   "source": [
    "#simulate choices from the model, given the ML parameters\n",
    "ML_data = deepcopy(data)\n",
    "sample_choices_all_trials!(ML_data, pz[\"final\"], pd[\"final\"])\n",
    "\n",
    "#compute the final click difference, which will dictate the correct choice\n",
    "ΔLR = map((nT,L,R)->diffLR(nT,L,R,data[\"dt\"])[end], data[\"nT\"], data[\"leftbups\"], data[\"rightbups\"]);"
   ]
  },
  {
   "cell_type": "code",
   "execution_count": null,
   "metadata": {},
   "outputs": [],
   "source": [
    "#bin the choices from the generative parameters and from the ML parameters\n",
    "import Pandas: qcut\n",
    "import Statistics: mean\n",
    "\n",
    "nbins = 15;\n",
    "conds,qcut_bins = qcut(ΔLR, nbins, labels=false, retbins=true);\n",
    "conds = conds .+ 1;\n",
    "\n",
    "frac_choice_ML = [mean(ML_data[\"pokedR\"][conds .== i]) for i in 1:nbins]\n",
    "frac_choice_gen = [mean(data[\"pokedR\"][conds .== i]) for i in 1:nbins];"
   ]
  },
  {
   "cell_type": "code",
   "execution_count": null,
   "metadata": {
    "scrolled": true
   },
   "outputs": [],
   "source": [
    "#fit a GLM to the generative choices and the ML choices\n",
    "using GLM\n",
    "GLM_gen = glm(@formula(Y ~ X), DataFrame(X=ΔLR, Y = data[\"pokedR\"]), Binomial(), LogitLink())\n",
    "GLM_ML = glm(@formula(Y ~ X), DataFrame(X=ΔLR, Y = ML_data[\"pokedR\"]), Binomial(), LogitLink());"
   ]
  },
  {
   "cell_type": "code",
   "execution_count": null,
   "metadata": {},
   "outputs": [],
   "source": [
    "using PyPlot\n",
    "\n",
    "fig = figure(figsize=(6,6))\n",
    "ax = subplot(111)\n",
    "\n",
    "scatter(qcut_bins[1:end-1] + diff(qcut_bins)/2, frac_choice_gen, color=\"red\", label=\"generative\")\n",
    "scatter(qcut_bins[1:end-1] + diff(qcut_bins)/2, frac_choice_ML, color=\"grey\", label=\"ML\")\n",
    "\n",
    "plot(sort(ΔLR), sort(predict(GLM_gen)), color=\"red\")\n",
    "plot(sort(ΔLR), sort(predict(GLM_ML)), color=\"grey\")\n",
    "\n",
    "ylabel(\"% poked R\")\n",
    "xlabel(L\"\\Delta{LR}\")\n",
    "ax[:spines][\"top\"][:set_color](\"none\") \n",
    "ax[:spines][\"right\"][:set_color](\"none\")\n",
    "legend()"
   ]
  },
  {
   "cell_type": "code",
   "execution_count": 22,
   "metadata": {},
   "outputs": [],
   "source": [
    "sessidsF = [[17061801,18041701,16052601,16070501,16111701,18010301,\n",
    "        18022601,17122201,17081201,17092601,17051901,18030501,\n",
    "        17011801,18012201,17011501,17062501,17112701,18032701,16082201,\n",
    "        18060801,18032501,17082901,17080501,17081001,\n",
    "        17052301,17090801,17090901,18041501,18040501,17122001]];"
   ]
  },
  {
   "cell_type": "code",
   "execution_count": null,
   "metadata": {},
   "outputs": [],
   "source": [
    "#parameters of the latent model\n",
    "pzF = Dict(\"name\" => vcat(\"σ_i\",\"B\", \"λ\", \"σ_a\",\"σ_s\",\"ϕ\",\"τ_ϕ\"),\n",
    "    \"fit\" => vcat(trues(7)),\n",
    "    \"initial\" => vcat(2.,15.,-5.,100.,2.,0.2,0.005),\n",
    "    \"lb\" => [eps(), 4., -5., eps(), eps(), eps(), eps()],\n",
    "    \"ub\" => [10., 100, 5., 800., 40., 2., 10.])\n",
    "\n",
    "#parameters for the choice observation\n",
    "pdF = Dict(\"name\" => vcat(\"bias\",\"lapse\"), \"fit\" => trues(2), \n",
    "    \"initial\" => vcat(0.,0.5));"
   ]
  },
  {
   "cell_type": "code",
   "execution_count": 23,
   "metadata": {},
   "outputs": [
    {
     "data": {
      "text/plain": [
       "Dict{String,Any} with 13 entries:\n",
       "  \"binned_leftbups\"  => Array{Int64,1}[[], [4, 9, 9, 11, 12, 14, 14, 16, 16, 16…\n",
       "  \"T\"                => [1.401, 1.40099, 1.404, 1.4705, 1.437, 1.4005, 1.40101,…\n",
       "  \"stim_start\"       => [821.41, 824.232, 827.015, 837.089, 839.737, 842.788, 8…\n",
       "  \"nT\"               => [141, 141, 141, 148, 144, 141, 141, 141, 142, 160  …  1…\n",
       "  \"dt\"               => 0.01\n",
       "  \"cpoke_end\"        => [822.811, 825.633, 828.419, 838.56, 841.174, 844.188, 8…\n",
       "  \"binned_rightbups\" => Array{Int64,1}[[8, 11, 20, 29, 32, 34, 38, 39, 40, 42  …\n",
       "  \"ratID\"            => [\"P055\", \"P055\", \"P055\", \"P055\", \"P055\", \"P055\", \"P055\"…\n",
       "  \"leftbups\"         => Array{Float64,1}[[], [0.037375, 0.08617, 0.08773, 0.101…\n",
       "  \"correct_dir\"      => Bool[false, false, true, false, false, false, false, fa…\n",
       "  \"rightbups\"        => Array{Float64,1}[[0.072645, 0.108225, 0.19472, 0.28751,…\n",
       "  \"pokedR\"           => Bool[false, false, true, false, false, false, false, fa…\n",
       "  \"sessID\"           => [17061801, 17061801, 17061801, 17061801, 17061801, 1706…"
      ]
     },
     "execution_count": 23,
     "metadata": {},
     "output_type": "execute_result"
    }
   ],
   "source": [
    "dataF = aggregate_choice_data(path, sessidsF, ratnames)"
   ]
  },
  {
   "cell_type": "code",
   "execution_count": null,
   "metadata": {},
   "outputs": [],
   "source": [
    "#bin the click inputs at 10 ms\n",
    "dataF = bin_clicks!(dataF;dt=1e-2);"
   ]
  },
  {
   "cell_type": "code",
   "execution_count": null,
   "metadata": {},
   "outputs": [],
   "source": [
    "@time pzF, pdF = load_and_optimize(dataF)"
   ]
  },
  {
   "cell_type": "code",
   "execution_count": 31,
   "metadata": {},
   "outputs": [],
   "source": [
    "JLD2.@save \"/usr/people/briandd/Projects/pulse_input_DDM.jl/data/results/marino.jld\" pz pd pzF pdF"
   ]
  }
 ],
 "metadata": {
  "anaconda-cloud": {},
  "kernelspec": {
   "display_name": "Julia 1.0.3",
   "language": "julia",
   "name": "julia-1.0"
  },
  "language_info": {
   "file_extension": ".jl",
   "mimetype": "application/julia",
   "name": "julia",
   "version": "1.0.3"
  }
 },
 "nbformat": 4,
 "nbformat_minor": 2
}
