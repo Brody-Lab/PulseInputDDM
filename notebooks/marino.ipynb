{
 "cells": [
  {
   "cell_type": "code",
   "execution_count": 1,
   "metadata": {},
   "outputs": [],
   "source": [
    "using Distributed\n",
    "addprocs(44);"
   ]
  },
  {
   "cell_type": "code",
   "execution_count": 2,
   "metadata": {},
   "outputs": [],
   "source": [
    "using pulse_input_DDM"
   ]
  },
  {
   "cell_type": "code",
   "execution_count": 3,
   "metadata": {},
   "outputs": [],
   "source": [
    "path = \"/mnt/bucket/labs/brody/vdtang/P055_processed\"\n",
    "ratnames=[\"P055\"]\n",
    "sessids=[[17061800,18041700,16052600,16070500,16111700,18010300,18022600,17122200,\n",
    "        17081200,17092600,17051900,18030500,17011800,18012200,17011500,17062500,\n",
    "        17112700,18032700,16082200,18060800,18032500,17082900,17080500,17081000,\n",
    "        17052300,17090800,17090900,18041500,18040500,17122000]];"
   ]
  },
  {
   "cell_type": "code",
   "execution_count": 4,
   "metadata": {},
   "outputs": [],
   "source": [
    "#parameters of the latent model\n",
    "pz = Dict(\"name\" => vcat(\"σ_i\",\"B\", \"λ\", \"σ_a\",\"σ_s\",\"ϕ\",\"τ_ϕ\"),\n",
    "    \"fit\" => vcat(trues(7)),\n",
    "    \"initial\" => vcat(2.,15.,-5.,100.,2.,0.2,0.005),\n",
    "    \"lb\" => [eps(), 4., -5., eps(), eps(), eps(), eps()],\n",
    "    \"ub\" => [10., 100, 5., 800., 40., 2., 10.])\n",
    "\n",
    "#parameters for the choice observation\n",
    "pd = Dict(\"name\" => vcat(\"bias\",\"lapse\"), \"fit\" => trues(2), \n",
    "    \"initial\" => vcat(0.,0.5));"
   ]
  },
  {
   "cell_type": "code",
   "execution_count": 5,
   "metadata": {},
   "outputs": [],
   "source": [
    "data = aggregate_choice_data(path, sessids, ratnames);"
   ]
  },
  {
   "cell_type": "code",
   "execution_count": 6,
   "metadata": {},
   "outputs": [],
   "source": [
    "#bin the click inputs at 10 ms\n",
    "data = bin_clicks!(data;dt=1e-2);"
   ]
  },
  {
   "cell_type": "code",
   "execution_count": null,
   "metadata": {},
   "outputs": [
    {
     "name": "stdout",
     "output_type": "stream",
     "text": [
      "Iter     Function value   Gradient norm \n",
      "     0     5.198612e+03     1.179490e+03\n",
      "     1     5.062700e+03     7.092697e+02\n",
      "     2     4.866877e+03     1.073818e+02\n",
      "     3     4.862412e+03     8.480257e+01\n",
      "     4     4.854455e+03     7.851770e+01\n",
      "     5     4.843588e+03     2.548006e+01\n",
      "     6     4.842185e+03     2.133754e+01\n",
      "     7     4.839475e+03     4.747778e+01\n",
      "     8     4.834006e+03     5.577361e+01\n",
      "     9     4.828484e+03     5.779659e+01\n",
      "    10     4.824905e+03     5.678582e+01\n",
      "    11     4.816160e+03     6.422642e+01\n",
      "    12     4.794884e+03     4.350633e+01\n",
      "    13     4.794010e+03     5.807570e+01\n",
      "    14     4.789842e+03     5.181033e+01\n",
      "    15     4.788941e+03     3.346028e+01\n",
      "    16     4.785648e+03     6.769594e+01\n",
      "    17     4.782202e+03     4.453928e+01\n",
      "    18     4.778949e+03     1.973984e+01\n",
      "    19     4.776610e+03     1.268894e+01\n",
      "    20     4.774120e+03     2.688848e+01\n",
      "    21     4.772299e+03     4.290694e+01\n",
      "    22     4.771867e+03     2.537150e+01\n"
     ]
    }
   ],
   "source": [
    "@time pz, pd = load_and_optimize(data;f_tol=1e-9)"
   ]
  },
  {
   "cell_type": "code",
   "execution_count": null,
   "metadata": {},
   "outputs": [],
   "source": [
    "#compute the Hessian of the LL landscape, to compute confidence intervals on the parameters\n",
    "pz, pd = compute_H_CI!(pz, pd, data);"
   ]
  },
  {
   "cell_type": "code",
   "execution_count": null,
   "metadata": {},
   "outputs": [],
   "source": [
    "using DataFrames\n",
    "show(DataFrame(pz),allcols=true)\n",
    "show(DataFrame(pd),allcols=true)"
   ]
  },
  {
   "cell_type": "code",
   "execution_count": null,
   "metadata": {},
   "outputs": [],
   "source": [
    "#simulate choices from the model, given the ML parameters\n",
    "ML_data = deepcopy(data)\n",
    "sample_choices_all_trials!(ML_data, pz[\"final\"], pd[\"final\"])\n",
    "\n",
    "#compute the final click difference, which will dictate the correct choice\n",
    "ΔLR = map((nT,L,R)->diffLR(nT,L,R,data[\"dt\"])[end], data[\"nT\"], data[\"leftbups\"], data[\"rightbups\"]);"
   ]
  },
  {
   "cell_type": "code",
   "execution_count": null,
   "metadata": {},
   "outputs": [],
   "source": [
    "#bin the choices from the generative parameters and from the ML parameters\n",
    "import Pandas: qcut\n",
    "import Statistics: mean\n",
    "\n",
    "nbins = 15;\n",
    "conds,qcut_bins = qcut(ΔLR, nbins, labels=false, retbins=true);\n",
    "conds = conds .+ 1;\n",
    "\n",
    "frac_choice_ML = [mean(ML_data[\"pokedR\"][conds .== i]) for i in 1:nbins]\n",
    "frac_choice_gen = [mean(data[\"pokedR\"][conds .== i]) for i in 1:nbins];"
   ]
  },
  {
   "cell_type": "code",
   "execution_count": null,
   "metadata": {
    "scrolled": true
   },
   "outputs": [],
   "source": [
    "#fit a GLM to the generative choices and the ML choices\n",
    "using GLM\n",
    "GLM_gen = glm(@formula(Y ~ X), DataFrame(X=ΔLR, Y = data[\"pokedR\"]), Binomial(), LogitLink())\n",
    "GLM_ML = glm(@formula(Y ~ X), DataFrame(X=ΔLR, Y = ML_data[\"pokedR\"]), Binomial(), LogitLink());"
   ]
  },
  {
   "cell_type": "code",
   "execution_count": null,
   "metadata": {},
   "outputs": [],
   "source": [
    "using PyPlot\n",
    "\n",
    "fig = figure(figsize=(6,6))\n",
    "ax = subplot(111)\n",
    "\n",
    "scatter(qcut_bins[1:end-1] + diff(qcut_bins)/2, frac_choice_gen, color=\"red\", label=\"generative\")\n",
    "scatter(qcut_bins[1:end-1] + diff(qcut_bins)/2, frac_choice_ML, color=\"grey\", label=\"ML\")\n",
    "\n",
    "plot(sort(ΔLR), sort(predict(GLM_gen)), color=\"red\")\n",
    "plot(sort(ΔLR), sort(predict(GLM_ML)), color=\"grey\")\n",
    "\n",
    "ylabel(\"% poked R\")\n",
    "xlabel(L\"\\Delta{LR}\")\n",
    "ax[:spines][\"top\"][:set_color](\"none\") \n",
    "ax[:spines][\"right\"][:set_color](\"none\")\n",
    "legend()"
   ]
  },
  {
   "cell_type": "code",
   "execution_count": null,
   "metadata": {},
   "outputs": [],
   "source": [
    "sessidsF = [[17061801,18041701,16052601,16070501,16111701,18010301,\n",
    "        18022601,17122201,17081201,17092601,17051901,18030501,\n",
    "        17011801,18012201,17011501,17062501,17112701,18032701,16082201,\n",
    "        18060801,18032501,17082901,17080501,17081001,\n",
    "        17052301,17090801,17090901,18041501,18040501,17122001]];"
   ]
  },
  {
   "cell_type": "code",
   "execution_count": null,
   "metadata": {},
   "outputs": [],
   "source": [
    "#parameters of the latent model\n",
    "pzF = Dict(\"name\" => vcat(\"σ_i\",\"B\", \"λ\", \"σ_a\",\"σ_s\",\"ϕ\",\"τ_ϕ\"),\n",
    "    \"fit\" => vcat(trues(7)),\n",
    "    \"initial\" => vcat(2.,15.,-5.,100.,2.,0.2,0.005),\n",
    "    \"lb\" => [eps(), 4., -5., eps(), eps(), eps(), eps()],\n",
    "    \"ub\" => [10., 100, 5., 800., 40., 2., 10.])\n",
    "\n",
    "#parameters for the choice observation\n",
    "pdF = Dict(\"name\" => vcat(\"bias\",\"lapse\"), \"fit\" => trues(2), \n",
    "    \"initial\" => vcat(0.,0.5));"
   ]
  },
  {
   "cell_type": "code",
   "execution_count": null,
   "metadata": {},
   "outputs": [],
   "source": [
    "dataF = aggregate_choice_data(path, sessidsF, ratnames)"
   ]
  },
  {
   "cell_type": "code",
   "execution_count": null,
   "metadata": {},
   "outputs": [],
   "source": [
    "#bin the click inputs at 10 ms\n",
    "dataF = bin_clicks!(dataF;dt=1e-2);"
   ]
  },
  {
   "cell_type": "code",
   "execution_count": null,
   "metadata": {},
   "outputs": [],
   "source": [
    "@time pzF, pdF = load_and_optimize(dataF)"
   ]
  },
  {
   "cell_type": "code",
   "execution_count": 31,
   "metadata": {},
   "outputs": [],
   "source": [
    "JLD2.@save \"/usr/people/briandd/Projects/pulse_input_DDM.jl/data/results/marino.jld\" pz pd pzF pdF"
   ]
  }
 ],
 "metadata": {
  "anaconda-cloud": {},
  "kernelspec": {
   "display_name": "Julia 1.0.3",
   "language": "julia",
   "name": "julia-1.0"
  },
  "language_info": {
   "file_extension": ".jl",
   "mimetype": "application/julia",
   "name": "julia",
   "version": "1.0.3"
  }
 },
 "nbformat": 4,
 "nbformat_minor": 2
}
