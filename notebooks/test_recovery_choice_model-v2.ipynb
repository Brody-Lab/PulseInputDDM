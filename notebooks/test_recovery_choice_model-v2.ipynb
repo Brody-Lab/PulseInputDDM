{
 "cells": [
  {
   "cell_type": "code",
   "execution_count": 1,
   "metadata": {},
   "outputs": [],
   "source": [
    "using Distributed\n",
    "addprocs(44);\n",
    "\n",
    "@everywhere using Pkg; @everywhere Pkg.activate(\"/mnt/bucket/people/briandd/Projects/pulse_input_DDM.jl\")"
   ]
  },
  {
   "cell_type": "code",
   "execution_count": 2,
   "metadata": {
    "scrolled": false
   },
   "outputs": [
    {
     "name": "stderr",
     "output_type": "stream",
     "text": [
      "WARNING: using StatsBase.mode in module Main conflicts with an existing identifier.\n",
      "WARNING: using Pandas.mode in module Main conflicts with an existing identifier.\n",
      "WARNING: using Distributions.mode in module Main conflicts with an existing identifier.\n"
     ]
    }
   ],
   "source": [
    "using PyPlot, StatsBase, Pandas, DataFrames, Distributions\n",
    "\n",
    "@everywhere using pulse_input_DDM\n",
    "using PyPlot, Optim, ForwardDiff, LineSearches\n",
    "using ROCAnalysis, Pandas\n",
    "using DataFrames\n",
    "using ImageFiltering\n",
    "using LinearAlgebra"
   ]
  },
  {
   "cell_type": "code",
   "execution_count": 3,
   "metadata": {},
   "outputs": [
    {
     "data": {
      "text/plain": [
       "(50000, 0.01)"
      ]
     },
     "execution_count": 3,
     "metadata": {},
     "output_type": "execute_result"
    }
   ],
   "source": [
    "ntrials,dt = Int(5e4),1e-2"
   ]
  },
  {
   "cell_type": "code",
   "execution_count": 4,
   "metadata": {},
   "outputs": [],
   "source": [
    "#parameters of the latent model\n",
    "pz = DataFrames.DataFrame(generative = vcat(1e-6,10.,-0.5,40.,1.,0.8,0.02), \n",
    "    name = vcat(\"σ_i\",\"B\", \"λ\", \"σ_a\",\"σ_s\",\"ϕ\",\"τ_ϕ\"),\n",
    "    fit = vcat(falses(1),trues(4),trues(2)),\n",
    "    initial = vcat(1.,5.,-5,100.,2.,0.2,0.08));\n",
    "\n",
    "#initialize any parameter that is not going to be fit to its generative value\n",
    "pz[:initial][pz[:fit] .== false] = pz[:generative][pz[:fit] .== false];"
   ]
  },
  {
   "cell_type": "code",
   "execution_count": 5,
   "metadata": {},
   "outputs": [],
   "source": [
    "#parameters for the choice observation\n",
    "pd = DataFrames.DataFrame(generative = 0.1, name = \"bias\", fit = true, initial = 0.);"
   ]
  },
  {
   "cell_type": "code",
   "execution_count": 6,
   "metadata": {},
   "outputs": [],
   "source": [
    "#generate some simulated clicks times and trial durations\n",
    "data = pulse_input_DDM.sample_clicks(ntrials,dt);"
   ]
  },
  {
   "cell_type": "code",
   "execution_count": 7,
   "metadata": {},
   "outputs": [],
   "source": [
    "#simulate choices from the model given the generative parameters\n",
    "pulse_input_DDM.sampled_dataset!(data, pz[:generative], pd[:generative][1]; num_reps=1, rng=4);"
   ]
  },
  {
   "cell_type": "code",
   "execution_count": 8,
   "metadata": {},
   "outputs": [
    {
     "data": {
      "text/plain": [
       "-11794.359448028112"
      ]
     },
     "execution_count": 8,
     "metadata": {},
     "output_type": "execute_result"
    }
   ],
   "source": [
    "#compute the likelihood of the data given the generative parameters\n",
    "compute_LL(pz[:generative],pd[:generative][1],data)"
   ]
  },
  {
   "cell_type": "code",
   "execution_count": 9,
   "metadata": {},
   "outputs": [
    {
     "name": "stdout",
     "output_type": "stream",
     "text": [
      "Iter     Function value   Gradient norm \n",
      "     0     2.732715e+04     5.231976e+03\n",
      "     1     1.972505e+04     1.510253e+04\n",
      "     2     1.506637e+04     3.192668e+04\n",
      "     3     1.336507e+04     1.675301e+04\n",
      "     4     1.260324e+04     2.423752e+03\n",
      "     5     1.198576e+04     1.723058e+03\n",
      "     6     1.197915e+04     1.210649e+03\n",
      "     7     1.197543e+04     1.193942e+03\n",
      "     8     1.193083e+04     3.243760e+03\n",
      "     9     1.182682e+04     3.171940e+02\n",
      "    10     1.181540e+04     9.849842e+02\n",
      "    11     1.181090e+04     1.193126e+03\n",
      "    12     1.180806e+04     1.054634e+03\n",
      "    13     1.180414e+04     6.302063e+02\n",
      "    14     1.180167e+04     4.171051e+02\n",
      "    15     1.180049e+04     1.166525e+02\n",
      "    16     1.179974e+04     4.568792e+01\n",
      "    17     1.179944e+04     3.285826e+01\n",
      "    18     1.179922e+04     4.473883e+01\n",
      "    19     1.179912e+04     1.220136e+02\n",
      "    20     1.179909e+04     1.372230e+02\n",
      "    21     1.179909e+04     1.455621e+02\n",
      "    22     1.179909e+04     1.449385e+02\n",
      "    23     1.179909e+04     1.454407e+02\n",
      "    24     1.179909e+04     1.483184e+02\n",
      "    25     1.179908e+04     1.571595e+02\n",
      "    26     1.179908e+04     1.584574e+02\n",
      "    27     1.179908e+04     1.547790e+02\n",
      "    28     1.179908e+04     1.526997e+02\n",
      "    29     1.179908e+04     1.578440e+02\n",
      "    30     1.179904e+04     1.534895e+02\n",
      "    31     1.179759e+04     3.119918e+02\n",
      "    32     1.179621e+04     4.195067e+02\n",
      "    33     1.179331e+04     6.428096e+02\n",
      "    34     1.179257e+04     8.015902e+02\n",
      "    35     1.179245e+04     8.973052e+02\n",
      "    36     1.179098e+04     8.837223e+02\n",
      "    37     1.178912e+04     1.781706e+02\n",
      "    38     1.178871e+04     1.097960e+02\n",
      "    39     1.178810e+04     4.606770e+01\n",
      "    40     1.178795e+04     7.007820e+01\n",
      "    41     1.178789e+04     3.458400e+01\n",
      "    42     1.178784e+04     2.963831e+01\n",
      "    43     1.178774e+04     2.365313e+01\n",
      "    44     1.178744e+04     7.514748e+01\n",
      "    45     1.178735e+04     3.251395e+01\n",
      "    46     1.178733e+04     2.746620e+01\n",
      "    47     1.178732e+04     3.546803e+00\n",
      "    48     1.178731e+04     1.693381e+00\n",
      "    49     1.178731e+04     1.442706e+00\n",
      "    50     1.178731e+04     1.251607e-01\n",
      "    51     1.178731e+04     4.226204e-02\n",
      "    52     1.178731e+04     2.160043e-02\n",
      "    53     1.178731e+04     1.525287e-02\n",
      "    54     1.178731e+04     1.558509e-02\n",
      "    55     1.178731e+04     3.466484e-03\n",
      "    56     1.178731e+04     3.538138e-03\n",
      "    57     1.178731e+04     1.835577e-03\n",
      "    58     1.178731e+04     4.000664e-03\n",
      "    59     1.178731e+04     7.889071e-04\n",
      "    60     1.178731e+04     2.254417e-03\n",
      "    61     1.178731e+04     7.354763e-04\n",
      "    62     1.178731e+04     3.306991e-04\n",
      "    63     1.178731e+04     1.600218e-04\n",
      "    64     1.178731e+04     1.600081e-04\n",
      "    65     1.178731e+04     1.600076e-04\n",
      "    66     1.178731e+04     1.600071e-04\n"
     ]
    },
    {
     "data": {
      "text/plain": [
       "([1.0e-6, 10.0998, -0.0870964, 38.4873, 0.968198, 0.79014, 0.0194703], 0.15105080607191684, Results of Optimization Algorithm\n",
       " * Algorithm: BFGS\n",
       " * Starting Point: [1.0986122886681098,-0.10033534773107555, ...]\n",
       " * Minimizer: [2.091836513509706,-0.001741929857023188, ...]\n",
       " * Minimum: 1.178731e+04\n",
       " * Iterations: 66\n",
       " * Convergence: true\n",
       "   * |x - x'| ≤ 1.0e-16: false \n",
       "     |x - x'| = 1.28e-12 \n",
       "   * |f(x) - f(x')| ≤ 1.0e-16 |f(x)|: true\n",
       "     |f(x) - f(x')| = 0.00e+00 |f(x)|\n",
       "   * |g(x)| ≤ 1.0e-12: false \n",
       "     |g(x)| = 1.60e-04 \n",
       "   * Stopped by an increasing objective: false\n",
       "   * Reached Maximum Number of Iterations: false\n",
       " * Objective Calls: 108\n",
       " * Gradient Calls: 67, Optim.BFGSState{Array{Float64,1},Array{Float64,2},Float64,Array{Float64,1}}([2.09184, -0.00174193, 3.65033, -0.0323183, -0.235545, -3.93886, 0.151051], [2.09184, -0.00174193, 3.65033, -0.0323183, -0.235545, -3.93886, 0.151051], [-0.000145452, 0.000101397, -8.54051e-6, 4.69503e-5, -0.000160008, 6.43651e-6, 1.25043e-5], 11787.313837942565, [-5.61783e-14, -3.63446e-15, 1.53316e-13, -1.42344e-13, 2.88951e-13, 1.27806e-12, -1.49141e-13], [-3.18492e-11, 5.70566e-10, -1.08816e-10, -1.87878e-10, 4.77041e-10, -1.15344e-10, -9.32143e-13], [-4.60392e-14, 9.09664e-16, -4.59362e-14, -9.11341e-14, 1.20869e-13, 4.49909e-13, -6.40527e-14], [0.000742993 2.3472e-5 … -0.00940747 0.000910026; 2.3472e-5 4.52085e-6 … -0.000397435 6.58671e-5; … ; -0.00940747 -0.000397435 … 0.174366 -0.0151931; 0.000910026 6.58671e-5 … -0.0151931 0.00913827], [-2.04765e-7, -1.32473e-8, 5.58824e-7, -5.18832e-7, 1.0532e-6, 4.65842e-6, -5.43608e-7], [2.09184, -0.00174193, 3.65033, -0.0323183, -0.235545, -3.93886, 0.151051], 2.743550156166606e-7))"
      ]
     },
     "execution_count": 9,
     "metadata": {},
     "output_type": "execute_result"
    }
   ],
   "source": [
    "#find the ML parameters\n",
    "pz[:final], pd[:final], opt_output, state = optimize_model(pz[:initial], pd[:initial][1], \n",
    "        pz[:fit], pd[:fit], data)"
   ]
  },
  {
   "cell_type": "code",
   "execution_count": 10,
   "metadata": {},
   "outputs": [
    {
     "data": {
      "text/plain": [
       "7×7 Array{Float64,2}:\n",
       "   1271.39    -16366.8        …    451.605     -124.05      15.2953 \n",
       " -16366.8          2.78833e5      3364.82      -751.482   -340.27   \n",
       "   -558.235     4746.02          -1907.72       484.979     -8.73015\n",
       "   -721.721     5703.16          -3444.77       869.665    -13.9545 \n",
       "    451.605     3364.82          10279.0      -2464.4       -5.34376\n",
       "   -124.05      -751.482      …  -2464.4        623.621      1.1799 \n",
       "     15.2953    -340.27             -5.34376      1.1799   167.523  "
      ]
     },
     "execution_count": 10,
     "metadata": {},
     "output_type": "execute_result"
    }
   ],
   "source": [
    "#compute the Hessian around the ML parameters\n",
    "H = compute_Hessian(pz[:final],pd[:final][1],pz[:fit],pd[:fit],data)"
   ]
  },
  {
   "cell_type": "code",
   "execution_count": 11,
   "metadata": {},
   "outputs": [],
   "source": [
    "pz[:CI_z_plus], pd[:CI_z_plus], pz[:CI_z_minus], pd[:CI_z_minus] = compute_CI(H, pz[:final], \n",
    "    pd[:final][1], pz[:fit], pd[:fit], data)\n",
    "\n",
    "#identify which ML parameters have generative parameters within the CI \n",
    "pz[:within_bounds] = (pz[:CI_z_minus] .< pz[:generative]) .& (pz[:CI_z_plus] .> pz[:generative])\n",
    "pd[:within_bounds] = (pd[:CI_z_minus] .< pd[:generative]) .& (pd[:CI_z_plus] .> pd[:generative]);"
   ]
  },
  {
   "cell_type": "code",
   "execution_count": 12,
   "metadata": {},
   "outputs": [
    {
     "data": {
      "text/html": [
       "<table class=\"data-frame\"><thead><tr><th></th><th>generative</th><th>name</th><th>fit</th><th>initial</th><th>final</th><th>CI_z_plus</th><th>CI_z_minus</th><th>within_bounds</th></tr><tr><th></th><th>Float64</th><th>String</th><th>Bool</th><th>Float64</th><th>Float64</th><th>Float64</th><th>Float64</th><th>Bool</th></tr></thead><tbody><p>7 rows × 8 columns</p><tr><th>1</th><td>1.0e-6</td><td>σ_i</td><td>false</td><td>1.0e-6</td><td>1.0e-6</td><td>1.0e-6</td><td>1.0e-6</td><td>false</td></tr><tr><th>2</th><td>10.0</td><td>B</td><td>true</td><td>5.0</td><td>10.0998</td><td>11.6094</td><td>8.82728</td><td>true</td></tr><tr><th>3</th><td>-0.5</td><td>λ</td><td>true</td><td>-5.0</td><td>-0.0870964</td><td>0.339386</td><td>-0.513566</td><td>true</td></tr><tr><th>4</th><td>40.0</td><td>σ_a</td><td>true</td><td>100.0</td><td>38.4873</td><td>49.5629</td><td>29.8867</td><td>true</td></tr><tr><th>5</th><td>1.0</td><td>σ_s</td><td>true</td><td>2.0</td><td>0.968198</td><td>1.3435</td><td>0.697733</td><td>true</td></tr><tr><th>6</th><td>0.8</td><td>ϕ</td><td>true</td><td>0.2</td><td>0.79014</td><td>0.862142</td><td>0.724151</td><td>true</td></tr><tr><th>7</th><td>0.02</td><td>τ_ϕ</td><td>true</td><td>0.08</td><td>0.0194703</td><td>0.0301317</td><td>0.0125812</td><td>true</td></tr></tbody></table>"
      ],
      "text/latex": [
       "\\begin{tabular}{r|cccccccc}\n",
       "\t& generative & name & fit & initial & final & CI\\_z\\_plus & CI\\_z\\_minus & within\\_bounds\\\\\n",
       "\t\\hline\n",
       "\t& Float64 & String & Bool & Float64 & Float64 & Float64 & Float64 & Bool\\\\\n",
       "\t\\hline\n",
       "\t1 & 1.0e-6 & σ\\_i & false & 1.0e-6 & 1.0e-6 & 1.0e-6 & 1.0e-6 & false \\\\\n",
       "\t2 & 10.0 & B & true & 5.0 & 10.0998 & 11.6094 & 8.82728 & true \\\\\n",
       "\t3 & -0.5 & λ & true & -5.0 & -0.0870964 & 0.339386 & -0.513566 & true \\\\\n",
       "\t4 & 40.0 & σ\\_a & true & 100.0 & 38.4873 & 49.5629 & 29.8867 & true \\\\\n",
       "\t5 & 1.0 & σ\\_s & true & 2.0 & 0.968198 & 1.3435 & 0.697733 & true \\\\\n",
       "\t6 & 0.8 & ϕ & true & 0.2 & 0.79014 & 0.862142 & 0.724151 & true \\\\\n",
       "\t7 & 0.02 & τ\\_ϕ & true & 0.08 & 0.0194703 & 0.0301317 & 0.0125812 & true \\\\\n",
       "\\end{tabular}\n"
      ],
      "text/plain": [
       "7×8 DataFrames.DataFrame. Omitted printing of 2 columns\n",
       "│ Row │ generative │ name   │ fit   │ initial │ final      │ CI_z_plus │\n",
       "│     │ \u001b[90mFloat64\u001b[39m    │ \u001b[90mString\u001b[39m │ \u001b[90mBool\u001b[39m  │ \u001b[90mFloat64\u001b[39m │ \u001b[90mFloat64\u001b[39m    │ \u001b[90mFloat64\u001b[39m   │\n",
       "├─────┼────────────┼────────┼───────┼─────────┼────────────┼───────────┤\n",
       "│ 1   │ 1.0e-6     │ σ_i    │ false │ 1.0e-6  │ 1.0e-6     │ 1.0e-6    │\n",
       "│ 2   │ 10.0       │ B      │ true  │ 5.0     │ 10.0998    │ 11.6094   │\n",
       "│ 3   │ -0.5       │ λ      │ true  │ -5.0    │ -0.0870964 │ 0.339386  │\n",
       "│ 4   │ 40.0       │ σ_a    │ true  │ 100.0   │ 38.4873    │ 49.5629   │\n",
       "│ 5   │ 1.0        │ σ_s    │ true  │ 2.0     │ 0.968198   │ 1.3435    │\n",
       "│ 6   │ 0.8        │ ϕ      │ true  │ 0.2     │ 0.79014    │ 0.862142  │\n",
       "│ 7   │ 0.02       │ τ_ϕ    │ true  │ 0.08    │ 0.0194703  │ 0.0301317 │"
      ]
     },
     "execution_count": 12,
     "metadata": {},
     "output_type": "execute_result"
    }
   ],
   "source": [
    "pz"
   ]
  },
  {
   "cell_type": "code",
   "execution_count": 13,
   "metadata": {},
   "outputs": [
    {
     "data": {
      "text/html": [
       "<table class=\"data-frame\"><thead><tr><th></th><th>generative</th><th>name</th><th>fit</th><th>initial</th><th>final</th><th>CI_z_plus</th><th>CI_z_minus</th><th>within_bounds</th></tr><tr><th></th><th>Float64</th><th>String</th><th>Bool</th><th>Float64</th><th>Float64</th><th>Float64</th><th>Float64</th><th>Bool</th></tr></thead><tbody><p>1 rows × 8 columns</p><tr><th>1</th><td>0.1</td><td>bias</td><td>true</td><td>0.0</td><td>0.151051</td><td>0.306445</td><td>-0.00434358</td><td>true</td></tr></tbody></table>"
      ],
      "text/latex": [
       "\\begin{tabular}{r|cccccccc}\n",
       "\t& generative & name & fit & initial & final & CI\\_z\\_plus & CI\\_z\\_minus & within\\_bounds\\\\\n",
       "\t\\hline\n",
       "\t& Float64 & String & Bool & Float64 & Float64 & Float64 & Float64 & Bool\\\\\n",
       "\t\\hline\n",
       "\t1 & 0.1 & bias & true & 0.0 & 0.151051 & 0.306445 & -0.00434358 & true \\\\\n",
       "\\end{tabular}\n"
      ],
      "text/plain": [
       "1×8 DataFrames.DataFrame. Omitted printing of 2 columns\n",
       "│ Row │ generative │ name   │ fit  │ initial │ final    │ CI_z_plus │\n",
       "│     │ \u001b[90mFloat64\u001b[39m    │ \u001b[90mString\u001b[39m │ \u001b[90mBool\u001b[39m │ \u001b[90mFloat64\u001b[39m │ \u001b[90mFloat64\u001b[39m  │ \u001b[90mFloat64\u001b[39m   │\n",
       "├─────┼────────────┼────────┼──────┼─────────┼──────────┼───────────┤\n",
       "│ 1   │ 0.1        │ bias   │ true │ 0.0     │ 0.151051 │ 0.306445  │"
      ]
     },
     "execution_count": 13,
     "metadata": {},
     "output_type": "execute_result"
    }
   ],
   "source": [
    "pd"
   ]
  }
 ],
 "metadata": {
  "anaconda-cloud": {},
  "kernelspec": {
   "display_name": "Julia 1.0.0",
   "language": "julia",
   "name": "julia-1.0"
  },
  "language_info": {
   "file_extension": ".jl",
   "mimetype": "application/julia",
   "name": "julia",
   "version": "1.0.0"
  }
 },
 "nbformat": 4,
 "nbformat_minor": 2
}
