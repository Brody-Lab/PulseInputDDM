{
 "cells": [
  {
   "cell_type": "markdown",
   "metadata": {},
   "source": [
    "@Diksha. This notebook will\n",
    "\n",
    "- Generate some simulated click times and trial durations\n",
    "- Generate some simulated choices from a model based on a set of generative parameters\n",
    "- Maximize the likelihood of the parameters given the data\n",
    "- Compute the Hessian of the ML parameters\n",
    "- Verify that the generative parameters can be recovered"
   ]
  },
  {
   "cell_type": "code",
   "execution_count": 1,
   "metadata": {},
   "outputs": [],
   "source": [
    "addprocs(48);"
   ]
  },
  {
   "cell_type": "code",
   "execution_count": 2,
   "metadata": {},
   "outputs": [],
   "source": [
    "using PyPlot, StatsBase, JLD, Pandas, DataFrames, Distributions\n",
    "@everywhere using choice_observation, latent_DDM_common_functions, helpers"
   ]
  },
  {
   "cell_type": "code",
   "execution_count": 56,
   "metadata": {},
   "outputs": [
    {
     "data": {
      "text/plain": [
       "(0.01, 53, \"exp\", 2, 5.0, 50000)"
      ]
     },
     "execution_count": 56,
     "metadata": {},
     "output_type": "execute_result"
    }
   ],
   "source": [
    "#some constants\n",
    "dt,n,map_str,ntrials = 1e-2,53,\"exp\",Int(5e4)"
   ]
  },
  {
   "cell_type": "code",
   "execution_count": 57,
   "metadata": {},
   "outputs": [],
   "source": [
    "#parameters of the latent model\n",
    "pz = DataFrames.DataFrame(generative = vcat(1e-6,10.,-0.5,40.,1.,0.8,0.02), \n",
    "    name = vcat(\"σ_i\",\"B\", \"λ\", \"σ_a\",\"σ_s\",\"ϕ\",\"τ_ϕ\"),\n",
    "    fit = vcat(falses(1),trues(4),trues(2)),\n",
    "    initial = vcat(1.,5.,-5,100.,2.,0.2,0.08));\n",
    "\n",
    "#initialize any parameter that is not going to be fit to its generative value\n",
    "pz[:initial][pz[:fit] .== false] = pz[:generative][pz[:fit] .== false];"
   ]
  },
  {
   "cell_type": "code",
   "execution_count": 58,
   "metadata": {},
   "outputs": [],
   "source": [
    "#parameters for the choice observation\n",
    "pd = DataFrames.DataFrame(generative = 0.1, name = \"bias\", fit = true, initial = 0.);\n",
    "#ammend to the latent parameter dataframe\n",
    "pchoice = vcat(pz,pd);"
   ]
  },
  {
   "cell_type": "code",
   "execution_count": 59,
   "metadata": {},
   "outputs": [],
   "source": [
    "#generate some simulated clicks times and trial durations\n",
    "data = latent_DDM_common_functions.sample_clicks(ntrials,dt);"
   ]
  },
  {
   "cell_type": "code",
   "execution_count": 60,
   "metadata": {},
   "outputs": [],
   "source": [
    "#simulate choices from the model given the generative parameters\n",
    "choice_observation.sampled_dataset!(data,pchoice[:generative]; num_reps=1, rng=4);"
   ]
  },
  {
   "cell_type": "code",
   "execution_count": 61,
   "metadata": {},
   "outputs": [
    {
     "data": {
      "text/html": [
       "-11794.359448028483"
      ],
      "text/plain": [
       "-11794.359448028483"
      ]
     },
     "execution_count": 61,
     "metadata": {},
     "output_type": "execute_result"
    }
   ],
   "source": [
    "#compute the likelihood of the data given the generative parameters\n",
    "choice_observation.do_LL(pchoice[:generative],dt,data,n)"
   ]
  },
  {
   "cell_type": "code",
   "execution_count": 62,
   "metadata": {},
   "outputs": [
    {
     "name": "stdout",
     "output_type": "stream",
     "text": [
      "Iter     Function value   Gradient norm \n",
      "     0     2.732715e+04     5.231976e+03\n",
      "     1     1.972505e+04     1.510253e+04\n",
      "     2     1.506637e+04     3.192668e+04\n",
      "     3     1.336507e+04     1.675301e+04\n",
      "     4     1.260324e+04     2.423752e+03\n",
      "     5     1.198576e+04     1.723058e+03\n",
      "     6     1.197915e+04     1.210649e+03\n",
      "     7     1.197543e+04     1.193942e+03\n",
      "     8     1.193083e+04     3.243761e+03\n",
      "     9     1.182682e+04     3.171932e+02\n",
      "    10     1.181540e+04     9.849784e+02\n",
      "    11     1.181090e+04     1.193125e+03\n",
      "    12     1.180806e+04     1.054701e+03\n",
      "    13     1.180415e+04     6.303073e+02\n",
      "    14     1.180167e+04     4.182097e+02\n",
      "    15     1.180049e+04     1.166656e+02\n",
      "    16     1.179974e+04     4.552244e+01\n",
      "    17     1.179944e+04     3.279070e+01\n",
      "    18     1.179922e+04     4.457033e+01\n",
      "    19     1.179912e+04     1.220111e+02\n",
      "    20     1.179909e+04     1.368042e+02\n",
      "    21     1.179909e+04     1.460241e+02\n",
      "    22     1.179909e+04     1.446536e+02\n",
      "    23     1.179909e+04     1.471741e+02\n",
      "    24     1.179909e+04     1.535919e+02\n",
      "    25     1.179909e+04     1.560777e+02\n",
      "    26     1.179908e+04     1.534011e+02\n",
      "    27     1.179908e+04     1.547156e+02\n",
      "    28     1.179908e+04     1.521470e+02\n",
      "    29     1.179908e+04     1.592033e+02\n",
      "    30     1.179901e+04     1.561473e+02\n",
      "    31     1.179755e+04     3.204592e+02\n",
      "    32     1.179615e+04     4.318956e+02\n",
      "    33     1.179323e+04     6.560837e+02\n",
      "    34     1.179255e+04     8.113125e+02\n",
      "    35     1.179243e+04     9.077559e+02\n",
      "    36     1.179090e+04     8.851542e+02\n",
      "    37     1.178911e+04     1.682237e+02\n",
      "    38     1.178863e+04     7.485571e+01\n",
      "    39     1.178808e+04     5.072961e+01\n",
      "    40     1.178795e+04     7.487241e+01\n",
      "    41     1.178788e+04     3.392581e+01\n",
      "    42     1.178783e+04     2.921428e+01\n",
      "    43     1.178772e+04     2.223837e+01\n",
      "    44     1.178742e+04     8.228916e+01\n",
      "    45     1.178735e+04     3.020933e+01\n",
      "    46     1.178734e+04     1.929367e+01\n",
      "    47     1.178732e+04     3.634483e+00\n",
      "    48     1.178731e+04     1.208910e+00\n",
      "    49     1.178731e+04     4.009836e-01\n",
      "    50     1.178731e+04     2.428252e-01\n",
      "    51     1.178731e+04     1.011199e-01\n",
      "    52     1.178731e+04     7.771930e-02\n",
      "    53     1.178731e+04     1.798371e-02\n",
      "    54     1.178731e+04     3.966662e-03\n",
      "    55     1.178731e+04     7.426487e-03\n",
      "    56     1.178731e+04     3.629248e-03\n",
      "    57     1.178731e+04     2.579202e-03\n",
      "    58     1.178731e+04     1.018806e-03\n",
      "    59     1.178731e+04     9.890985e-04\n",
      "    60     1.178731e+04     1.331218e-03\n",
      "    61     1.178731e+04     3.999422e-04\n",
      "    62     1.178731e+04     4.720213e-04\n",
      "    63     1.178731e+04     4.694936e-04\n",
      "    64     1.178731e+04     4.421240e-04\n"
     ]
    }
   ],
   "source": [
    "#find the ML parameters\n",
    "pchoice[:final],opt_output,state = choice_observation.do_optim(copy(pchoice[:initial]),\n",
    "    pchoice[:fit],dt,data,n;map_str=map_str);"
   ]
  },
  {
   "cell_type": "code",
   "execution_count": 63,
   "metadata": {},
   "outputs": [],
   "source": [
    "#compute the Hessian around the ML parameters\n",
    "pchoice[:CI_z_plus], pchoice[:CI_z_minus], H = choice_observation.do_H(pchoice[:final],pchoice[:fit],\n",
    "    dt,data,n;map_str=map_str)\n",
    "\n",
    "#identify which ML parameters have generative parameters within the CI \n",
    "pchoice[:within_bounds] = (pchoice[:CI_z_minus] .< pchoice[:generative]) .& (pchoice[:CI_z_plus] .> pchoice[:generative]);"
   ]
  },
  {
   "cell_type": "code",
   "execution_count": 64,
   "metadata": {},
   "outputs": [
    {
     "data": {
      "text/html": [
       "<table class=\"data-frame\"><thead><tr><th></th><th>generative</th><th>name</th><th>fit</th><th>initial</th><th>final</th><th>CI_z_plus</th><th>CI_z_minus</th><th>within_bounds</th></tr></thead><tbody><tr><th>1</th><td>1.0e-6</td><td>σ_i</td><td>false</td><td>1.0e-6</td><td>1.0e-6</td><td>1.0e-6</td><td>1.0e-6</td><td>false</td></tr><tr><th>2</th><td>10.0</td><td>B</td><td>true</td><td>5.0</td><td>10.0998</td><td>11.6094</td><td>8.82728</td><td>true</td></tr><tr><th>3</th><td>-0.5</td><td>λ</td><td>true</td><td>-5.0</td><td>-0.0870973</td><td>0.339384</td><td>-0.513566</td><td>true</td></tr><tr><th>4</th><td>40.0</td><td>σ_a</td><td>true</td><td>100.0</td><td>38.4873</td><td>49.5629</td><td>29.8867</td><td>true</td></tr><tr><th>5</th><td>1.0</td><td>σ_s</td><td>true</td><td>2.0</td><td>0.968198</td><td>1.3435</td><td>0.697733</td><td>true</td></tr><tr><th>6</th><td>0.8</td><td>ϕ</td><td>true</td><td>0.2</td><td>0.79014</td><td>0.862142</td><td>0.724151</td><td>true</td></tr><tr><th>7</th><td>0.02</td><td>τ_ϕ</td><td>true</td><td>0.08</td><td>0.0194703</td><td>0.0301317</td><td>0.0125812</td><td>true</td></tr><tr><th>8</th><td>0.1</td><td>bias</td><td>true</td><td>0.0</td><td>0.151051</td><td>0.306445</td><td>-0.00434367</td><td>true</td></tr></tbody></table>"
      ],
      "text/plain": [
       "8×8 DataFrames.DataFrame. Omitted printing of 2 columns\n",
       "│ Row │ generative │ name │ fit   │ initial │ final      │ CI_z_plus │\n",
       "├─────┼────────────┼──────┼───────┼─────────┼────────────┼───────────┤\n",
       "│ 1   │ 1.0e-6     │ σ_i  │ false │ 1.0e-6  │ 1.0e-6     │ 1.0e-6    │\n",
       "│ 2   │ 10.0       │ B    │ true  │ 5.0     │ 10.0998    │ 11.6094   │\n",
       "│ 3   │ -0.5       │ λ    │ true  │ -5.0    │ -0.0870973 │ 0.339384  │\n",
       "│ 4   │ 40.0       │ σ_a  │ true  │ 100.0   │ 38.4873    │ 49.5629   │\n",
       "│ 5   │ 1.0        │ σ_s  │ true  │ 2.0     │ 0.968198   │ 1.3435    │\n",
       "│ 6   │ 0.8        │ ϕ    │ true  │ 0.2     │ 0.79014    │ 0.862142  │\n",
       "│ 7   │ 0.02       │ τ_ϕ  │ true  │ 0.08    │ 0.0194703  │ 0.0301317 │\n",
       "│ 8   │ 0.1        │ bias │ true  │ 0.0     │ 0.151051   │ 0.306445  │"
      ]
     },
     "execution_count": 64,
     "metadata": {},
     "output_type": "execute_result"
    }
   ],
   "source": [
    "pchoice"
   ]
  },
  {
   "cell_type": "code",
   "execution_count": null,
   "metadata": {},
   "outputs": [],
   "source": []
  }
 ],
 "metadata": {
  "anaconda-cloud": {},
  "kernelspec": {
   "display_name": "Julia 0.6.1",
   "language": "julia",
   "name": "julia-0.6"
  },
  "language_info": {
   "file_extension": ".jl",
   "mimetype": "application/julia",
   "name": "julia",
   "version": "0.6.1"
  }
 },
 "nbformat": 4,
 "nbformat_minor": 2
}
