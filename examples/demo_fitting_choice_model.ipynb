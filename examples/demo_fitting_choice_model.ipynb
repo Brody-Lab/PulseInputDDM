{
 "cells": [
  {
   "cell_type": "markdown",
   "metadata": {},
   "source": [
    "## Testing notebook for fitting the model of _Brunton et. al. (2013)_"
   ]
  },
  {
   "cell_type": "code",
   "execution_count": 1,
   "metadata": {},
   "outputs": [],
   "source": [
    "using Distributed"
   ]
  },
  {
   "cell_type": "code",
   "execution_count": 2,
   "metadata": {
    "scrolled": true
   },
   "outputs": [],
   "source": [
    "# add additional processors\n",
    "addprocs(44);"
   ]
  },
  {
   "cell_type": "code",
   "execution_count": 3,
   "metadata": {},
   "outputs": [
    {
     "name": "stderr",
     "output_type": "stream",
     "text": [
      "┌ Info: Recompiling stale cache file /usr/people/briandd/.julia/compiled/v1.0/pulse_input_DDM/m8WoA.ji for pulse_input_DDM [c2542da2-1f7d-11e9-2506-87691095ebb2]\n",
      "└ @ Base loading.jl:1190\n"
     ]
    }
   ],
   "source": [
    "using pulse_input_DDM"
   ]
  },
  {
   "cell_type": "markdown",
   "metadata": {},
   "source": [
    "## Recover generative parameters\n",
    "\n",
    "Simulate clicks and choices from a model, then check that generative parameters can be recovered."
   ]
  },
  {
   "cell_type": "code",
   "execution_count": 4,
   "metadata": {},
   "outputs": [],
   "source": [
    "#parameters of the latent model\n",
    "pz = Dict(\"generative\" => vcat(1.,13.,-0.5,10.,1.,0.4,0.02), \n",
    "    \"name\" => vcat(\"σ_i\",\"B\", \"λ\", \"σ_a\",\"σ_s\",\"ϕ\",\"τ_ϕ\"),\n",
    "    \"fit\" => vcat(trues(7)),\n",
    "    \"initial\" => vcat(2.,15.,-5.,100.,2.,0.2,0.005),\n",
    "    \"lb\" => [eps(), 4., -5., eps(), eps(), eps(), eps()],\n",
    "    \"ub\" => [10., 100, 5., 800., 40., 2., 10.])\n",
    "\n",
    "#parameters for the choice observation\n",
    "pd = Dict(\"generative\" => vcat(0.1,0.1), \n",
    "    \"name\" => vcat(\"bias\",\"lapse\"), \"fit\" => trues(2), \n",
    "    \"initial\" => vcat(0.,0.5));"
   ]
  },
  {
   "cell_type": "code",
   "execution_count": 5,
   "metadata": {},
   "outputs": [],
   "source": [
    "#generate a synthetic data set of clicks and choices\n",
    "ntrials = Int(2e4)\n",
    "data = sample_inputs_and_choices(pz[\"generative\"], pd[\"generative\"], ntrials);"
   ]
  },
  {
   "cell_type": "code",
   "execution_count": 7,
   "metadata": {},
   "outputs": [],
   "source": [
    "#bin the click inputs at 10 ms\n",
    "data = bin_clicks!(data;dt=1e-2);"
   ]
  },
  {
   "cell_type": "code",
   "execution_count": 7,
   "metadata": {},
   "outputs": [
    {
     "data": {
      "text/plain": [
       "-7668.67051720735"
      ]
     },
     "execution_count": 7,
     "metadata": {},
     "output_type": "execute_result"
    }
   ],
   "source": [
    "#compute the likelihood of the data, given the generative parameters\n",
    "compute_LL(pz[\"generative\"], pd[\"generative\"], data)"
   ]
  },
  {
   "cell_type": "code",
   "execution_count": 8,
   "metadata": {},
   "outputs": [
    {
     "name": "stderr",
     "output_type": "stream",
     "text": [
      "┌ Warning: some parameter(s) at lower bound. bumped it (them) up 1/4 from the lower bound.\n",
      "└ @ pulse_input_DDM /usr/people/briandd/.julia/packages/pulse_input_DDM/edA5O/src/wrapper_functions.jl:60\n"
     ]
    },
    {
     "name": "stdout",
     "output_type": "stream",
     "text": [
      "Iter     Function value   Gradient norm \n",
      "     0     9.712882e+03     3.170461e+03\n",
      "     1     7.851626e+03     4.480611e+02\n",
      "     2     7.774975e+03     3.503178e+02\n",
      "     3     7.747243e+03     1.998314e+02\n",
      "     4     7.718867e+03     3.252924e+02\n",
      "     5     7.712212e+03     3.489658e+02\n",
      "     6     7.709746e+03     3.378718e+02\n",
      "     7     7.688951e+03     1.902644e+02\n",
      "     8     7.687867e+03     1.679258e+02\n",
      "     9     7.686370e+03     7.666025e+01\n",
      "    10     7.674276e+03     2.299531e+01\n",
      "    11     7.673091e+03     8.676301e+00\n",
      "    12     7.672506e+03     8.919701e+00\n",
      "    13     7.671471e+03     2.840980e+01\n",
      "    14     7.670712e+03     2.978501e+01\n",
      "    15     7.668184e+03     2.857098e+01\n",
      "    16     7.668033e+03     2.885896e+01\n",
      "    17     7.666791e+03     1.706681e+01\n",
      "    18     7.666681e+03     6.245323e+00\n",
      "    19     7.666430e+03     1.283727e+01\n",
      "    20     7.666360e+03     9.933007e+00\n",
      "    21     7.666144e+03     2.557841e+00\n",
      "    22     7.666096e+03     3.105341e+00\n",
      "    23     7.666063e+03     3.432022e+00\n",
      "    24     7.666040e+03     1.339832e+00\n",
      "    25     7.666026e+03     1.901537e+00\n",
      "    26     7.666013e+03     2.229868e+00\n",
      "    27     7.666003e+03     3.586324e+00\n",
      "    28     7.665994e+03     2.127355e+00\n",
      "    29     7.665985e+03     1.450346e+00\n",
      "    30     7.665983e+03     8.251479e-01\n",
      "838.081850 seconds (305.51 M allocations: 33.957 GiB, 1.68% gc time)\n"
     ]
    }
   ],
   "source": [
    "#find the ML parameters with gradient descent\n",
    "@time pz, pd, = optimize_model(pz, pd, data);"
   ]
  },
  {
   "cell_type": "code",
   "execution_count": 9,
   "metadata": {},
   "outputs": [],
   "source": [
    "#compute the Hessian of the LL landscape, to compute confidence intervals on the parameters\n",
    "pz, pd = compute_H_CI!(pz, pd, data);"
   ]
  },
  {
   "cell_type": "code",
   "execution_count": 10,
   "metadata": {},
   "outputs": [
    {
     "name": "stdout",
     "output_type": "stream",
     "text": [
      "7×11 DataFrame\n",
      "│ Row │ CI_minus    │ CI_plus   │ final     │ fit  │ generative │ initial │\n",
      "│     │ \u001b[90mFloat64\u001b[39m     │ \u001b[90mFloat64\u001b[39m   │ \u001b[90mFloat64\u001b[39m   │ \u001b[90mBool\u001b[39m │ \u001b[90mFloat64\u001b[39m    │ \u001b[90mFloat64\u001b[39m │\n",
      "├─────┼─────────────┼───────────┼───────────┼──────┼────────────┼─────────┤\n",
      "│ 1   │ 0.000242663 │ 4476.62   │ 1.04226   │ true │ 1.0        │ 2.0     │\n",
      "│ 2   │ 6.57436     │ 17.1239   │ 9.81253   │ true │ 13.0       │ 15.0    │\n",
      "│ 3   │ -1.13079    │ 0.157419  │ -0.494979 │ true │ -0.5       │ -5.0    │\n",
      "│ 4   │ 0.0128488   │ 860.236   │ 3.32461   │ true │ 10.0       │ 100.0   │\n",
      "│ 5   │ 0.592886    │ 2.10235   │ 1.11645   │ true │ 1.0        │ 2.0     │\n",
      "│ 6   │ 0.19959     │ 0.5797    │ 0.34015   │ true │ 0.4        │ 0.2     │\n",
      "│ 7   │ 0.0107615   │ 0.0276737 │ 0.0172572 │ true │ 0.02       │ 0.005   │\n",
      "\n",
      "│ Row │ lb          │ name   │ state     │ ub      │ within_CI │\n",
      "│     │ \u001b[90mFloat64\u001b[39m     │ \u001b[90mString\u001b[39m │ \u001b[90mFloat64\u001b[39m   │ \u001b[90mFloat64\u001b[39m │ \u001b[90mBool\u001b[39m      │\n",
      "├─────┼─────────────┼────────┼───────────┼─────────┼───────────┤\n",
      "│ 1   │ 2.22045e-16 │ σ_i    │ 1.04226   │ 10.0    │ true      │\n",
      "│ 2   │ 4.0         │ B      │ 9.81253   │ 100.0   │ true      │\n",
      "│ 3   │ -5.0        │ λ      │ -0.494979 │ 5.0     │ true      │\n",
      "│ 4   │ 2.22045e-16 │ σ_a    │ 3.32461   │ 800.0   │ true      │\n",
      "│ 5   │ 2.22045e-16 │ σ_s    │ 1.11645   │ 40.0    │ true      │\n",
      "│ 6   │ 2.22045e-16 │ ϕ      │ 0.34015   │ 2.0     │ true      │\n",
      "│ 7   │ 2.22045e-16 │ τ_ϕ    │ 0.0172572 │ 10.0    │ true      │2×9 DataFrame\n",
      "│ Row │ CI_minus  │ CI_plus  │ final     │ fit  │ generative │ initial │\n",
      "│     │ \u001b[90mFloat64\u001b[39m   │ \u001b[90mFloat64\u001b[39m  │ \u001b[90mFloat64\u001b[39m   │ \u001b[90mBool\u001b[39m │ \u001b[90mFloat64\u001b[39m    │ \u001b[90mFloat64\u001b[39m │\n",
      "├─────┼───────────┼──────────┼───────────┼──────┼────────────┼─────────┤\n",
      "│ 1   │ -0.119092 │ 0.235021 │ 0.0579645 │ true │ 0.1        │ 0.0     │\n",
      "│ 2   │ 0.0921574 │ 0.115337 │ 0.103172  │ true │ 0.1        │ 0.5     │\n",
      "\n",
      "│ Row │ name   │ state     │ within_CI │\n",
      "│     │ \u001b[90mString\u001b[39m │ \u001b[90mFloat64\u001b[39m   │ \u001b[90mBool\u001b[39m      │\n",
      "├─────┼────────┼───────────┼───────────┤\n",
      "│ 1   │ bias   │ 0.0579645 │ true      │\n",
      "│ 2   │ lapse  │ 0.103172  │ true      │"
     ]
    }
   ],
   "source": [
    "using DataFrames\n",
    "show(DataFrame(pz),allcols=true)\n",
    "show(DataFrame(pd),allcols=true)"
   ]
  },
  {
   "cell_type": "code",
   "execution_count": 11,
   "metadata": {},
   "outputs": [],
   "source": [
    "#simulate choices from the model, given the ML parameters\n",
    "ML_data = deepcopy(data)\n",
    "sample_choices_all_trials!(ML_data, pz[\"final\"], pd[\"final\"])\n",
    "\n",
    "#compute the final click difference, which will dictate the correct choice\n",
    "ΔLR = map((nT,L,R)->diffLR(nT,L,R,data[\"dt\"])[end], data[\"nT\"], data[\"leftbups\"], data[\"rightbups\"]);"
   ]
  },
  {
   "cell_type": "code",
   "execution_count": 12,
   "metadata": {},
   "outputs": [],
   "source": [
    "#bin the choices from the generative parameters and from the ML parameters\n",
    "import Pandas: qcut\n",
    "import Statistics: mean\n",
    "\n",
    "nbins = 15;\n",
    "conds,qcut_bins = qcut(ΔLR, nbins, labels=false, retbins=true);\n",
    "conds = conds .+ 1;\n",
    "\n",
    "frac_choice_ML = [mean(ML_data[\"pokedR\"][conds .== i]) for i in 1:nbins]\n",
    "frac_choice_gen = [mean(data[\"pokedR\"][conds .== i]) for i in 1:nbins];"
   ]
  },
  {
   "cell_type": "code",
   "execution_count": 13,
   "metadata": {
    "scrolled": true
   },
   "outputs": [],
   "source": [
    "#fit a GLM to the generative choices and the ML choices\n",
    "using GLM\n",
    "GLM_gen = glm(@formula(Y ~ X), DataFrame(X=ΔLR, Y = data[\"pokedR\"]), Binomial(), LogitLink())\n",
    "GLM_ML = glm(@formula(Y ~ X), DataFrame(X=ΔLR, Y = ML_data[\"pokedR\"]), Binomial(), LogitLink());"
   ]
  },
  {
   "cell_type": "code",
   "execution_count": 14,
   "metadata": {},
   "outputs": [
    {
     "name": "stderr",
     "output_type": "stream",
     "text": [
      "┌ Warning: `getindex(o::PyObject, s::Symbol)` is deprecated in favor of dot overloading (`getproperty`) so elements should now be accessed as e.g. `o.s` instead of `o[:s]`.\n",
      "│   caller = top-level scope at In[14]:14\n",
      "└ @ Core In[14]:14\n",
      "┌ Warning: `getindex(o::PyObject, s::Symbol)` is deprecated in favor of dot overloading (`getproperty`) so elements should now be accessed as e.g. `o.s` instead of `o[:s]`.\n",
      "│   caller = top-level scope at In[14]:14\n",
      "└ @ Core In[14]:14\n"
     ]
    },
    {
     "data": {
      "image/png": "[encoded data removed]",
      "text/plain": [
       "Figure(PyObject <matplotlib.figure.Figure object at 0x7fb7399d2518>)"
      ]
     },
     "metadata": {},
     "output_type": "display_data"
    },
    {
     "name": "stderr",
     "output_type": "stream",
     "text": [
      "┌ Warning: `getindex(o::PyObject, s::Symbol)` is deprecated in favor of dot overloading (`getproperty`) so elements should now be accessed as e.g. `o.s` instead of `o[:s]`.\n",
      "│   caller = top-level scope at In[14]:15\n",
      "└ @ Core In[14]:15\n",
      "┌ Warning: `getindex(o::PyObject, s::Symbol)` is deprecated in favor of dot overloading (`getproperty`) so elements should now be accessed as e.g. `o.s` instead of `o[:s]`.\n",
      "│   caller = top-level scope at In[14]:15\n",
      "└ @ Core In[14]:15\n"
     ]
    },
    {
     "data": {
      "text/plain": [
       "PyObject <matplotlib.legend.Legend object at 0x7fb6fb215320>"
      ]
     },
     "execution_count": 14,
     "metadata": {},
     "output_type": "execute_result"
    }
   ],
   "source": [
    "using PyPlot\n",
    "\n",
    "fig = figure(figsize=(6,6))\n",
    "ax = subplot(111)\n",
    "\n",
    "scatter(qcut_bins[1:end-1] + diff(qcut_bins)/2, frac_choice_gen, color=\"red\", label=\"generative\")\n",
    "scatter(qcut_bins[1:end-1] + diff(qcut_bins)/2, frac_choice_ML, color=\"grey\", label=\"ML\")\n",
    "\n",
    "plot(sort(ΔLR), sort(predict(GLM_gen)), color=\"red\")\n",
    "plot(sort(ΔLR), sort(predict(GLM_ML)), color=\"grey\")\n",
    "\n",
    "ylabel(\"% poked R\")\n",
    "xlabel(L\"\\Delta{LR}\")\n",
    "ax[:spines][\"top\"][:set_color](\"none\") \n",
    "ax[:spines][\"right\"][:set_color](\"none\")\n",
    "legend()"
   ]
  },
  {
   "cell_type": "markdown",
   "metadata": {},
   "source": [
    "## fit real data"
   ]
  },
  {
   "cell_type": "code",
   "execution_count": null,
   "metadata": {},
   "outputs": [],
   "source": [
    "# to fit real data, see Documentation for the expected structure of .mat files. Group animals into a 1D array\n",
    "# Sessions for each animal are 1D arrays, and they are grouped into a 1D array (i.e. an array of arrays)"
   ]
  },
  {
   "cell_type": "code",
   "execution_count": 15,
   "metadata": {},
   "outputs": [],
   "source": [
    "path = \"/path/to/mat/files\"\n",
    "ratnames=[\"P055\"] \n",
    "sessids=[[17061800,18041700,16052600,16070500,16111700,18010300,18022600,17122200,\n",
    "        17081200,17092600,17051900,18030500,17011800,18012200,17011500,17062500,\n",
    "        17112700,18032700,16082200,18060800,18032500,17082900,17080500,17081000,\n",
    "        17052300,17090800,17090900,18041500,18040500,17122000]];"
   ]
  },
  {
   "cell_type": "code",
   "execution_count": 69,
   "metadata": {
    "collapsed": true
   },
   "outputs": [
    {
     "name": "stdout",
     "output_type": "stream",
     "text": [
      "Iter     Function value   Gradient norm \n",
      "     0     5.198612e+03     1.179490e+03\n",
      "     1     5.062700e+03     7.092697e+02\n",
      "     2     4.866877e+03     1.073818e+02\n",
      "     3     4.862412e+03     8.480257e+01\n",
      "     4     4.854455e+03     7.851770e+01\n",
      "     5     4.843588e+03     2.548006e+01\n",
      "     6     4.842185e+03     2.133754e+01\n",
      "     7     4.839475e+03     4.747778e+01\n",
      "     8     4.834006e+03     5.577361e+01\n",
      "     9     4.828484e+03     5.779659e+01\n",
      "    10     4.824905e+03     5.678582e+01\n",
      "    11     4.816160e+03     6.422642e+01\n",
      "    12     4.794884e+03     4.350633e+01\n",
      "    13     4.794010e+03     5.807570e+01\n",
      "    14     4.789842e+03     5.181033e+01\n",
      "    15     4.788941e+03     3.346028e+01\n",
      "    16     4.785648e+03     6.769594e+01\n",
      "    17     4.782202e+03     4.453928e+01\n",
      "    18     4.778949e+03     1.973984e+01\n",
      "    19     4.776610e+03     1.268894e+01\n",
      "    20     4.774120e+03     2.688848e+01\n",
      "    21     4.772299e+03     4.290694e+01\n",
      "    22     4.771867e+03     2.537150e+01\n",
      "    23     4.771712e+03     3.836882e+01\n",
      "    24     4.771628e+03     2.969627e+01\n",
      "    25     4.771376e+03     8.082113e+00\n",
      "    26     4.770856e+03     6.875706e+00\n",
      "    27     4.770115e+03     4.086418e+00\n",
      "    28     4.769734e+03     5.338909e+00\n",
      "    29     4.769321e+03     5.670909e+00\n",
      "    30     4.769188e+03     4.819158e+00\n",
      "    31     4.769093e+03     1.313148e+00\n",
      "    32     4.769016e+03     1.098471e+00\n",
      "    33     4.768871e+03     5.800983e-01\n",
      "    34     4.768761e+03     1.018764e+00\n",
      "    35     4.768754e+03     6.411083e-01\n",
      "    36     4.768721e+03     7.939139e-01\n",
      "    37     4.768698e+03     1.471726e+00\n",
      "    38     4.768682e+03     7.004204e-01\n",
      "    39     4.768672e+03     7.024988e-01\n",
      "    40     4.768666e+03     1.352576e+00\n",
      "    41     4.768661e+03     1.713133e-01\n"
     ]
    },
    {
     "data": {
      "text/plain": [
       "(Dict{String,AbstractArray{T,1} where T}(\"name\"=>[\"σ_i\", \"B\", \"λ\", \"σ_a\", \"σ_s\", \"ϕ\", \"τ_ϕ\"],\"lb\"=>[2.22045e-16, 4.0, -5.0, 2.22045e-16, 2.22045e-16, 2.22045e-16, 2.22045e-16],\"ub\"=>[10.0, 100.0, 5.0, 800.0, 40.0, 2.0, 10.0],\"fit\"=>Bool[true, true, true, true, true, true, true],\"initial\"=>[1.0e-6, 20.0, -0.1, 100.0, 5.0, 0.2, 0.005],\"final\"=>[1.00771e-6, 4.00235, -4.99875, 0.000265405, 2.19336, 0.000150821, 0.0147532],\"state\"=>[1.00771e-6, 4.00235, -4.99875, 0.000265405, 2.19336, 0.000150821, 0.0147532]), Dict{String,AbstractArray{T,1} where T}(\"name\"=>[\"bias\", \"lapse\"],\"fit\"=>Bool[true, true],\"initial\"=>[0.0, 0.5],\"final\"=>[-0.702246, 0.233489],\"state\"=>[-0.702246, 0.233489]))"
      ]
     },
     "execution_count": 69,
     "metadata": {},
     "output_type": "execute_result"
    }
   ],
   "source": [
    "@eval $(Symbol(\"pz_$ratnames[1]\")), $(Symbol(\"pz_$ratnames[1]\")) = load_and_optimize(path, sessids, ratnames; dt=1e-2)"
   ]
  },
  {
   "cell_type": "markdown",
   "metadata": {},
   "source": [
    "## saving things"
   ]
  },
  {
   "cell_type": "code",
   "execution_count": null,
   "metadata": {},
   "outputs": [],
   "source": [
    "using JLD2\n",
    "JLD2.@save \"path/file.jld\" pz pd"
   ]
  }
 ],
 "metadata": {
  "@webio": {
   "lastCommId": null,
   "lastKernelId": null
  },
  "anaconda-cloud": {},
  "kernelspec": {
   "display_name": "Julia 1.0.3",
   "language": "julia",
   "name": "julia-1.0"
  },
  "language_info": {
   "file_extension": ".jl",
   "mimetype": "application/julia",
   "name": "julia",
   "version": "1.0.3"
  }
 },
 "nbformat": 4,
 "nbformat_minor": 2
}
