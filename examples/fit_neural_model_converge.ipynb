{
 "cells": [
  {
   "cell_type": "code",
   "execution_count": 1,
   "metadata": {},
   "outputs": [],
   "source": [
    "using Distributed\n",
    "addprocs(44);"
   ]
  },
  {
   "cell_type": "markdown",
   "metadata": {
    "scrolled": true
   },
   "source": [
    "### Fitting a choice model.\n",
    "\n",
    "First you have to include the necessary package"
   ]
  },
  {
   "cell_type": "code",
   "execution_count": 2,
   "metadata": {},
   "outputs": [
    {
     "name": "stderr",
     "output_type": "stream",
     "text": [
      "┌ Info: Recompiling stale cache file /usr/people/briandd/.julia/compiled/v1.2/pulse_input_DDM/m8WoA.ji for pulse_input_DDM [c2542da2-1f7d-11e9-2506-87691095ebb2]\n",
      "└ @ Base loading.jl:1240\n",
      "WARNING: Method definition vec(Number) in module FiniteDiff at /usr/people/briandd/.julia/packages/FiniteDiff/LN2dd/src/jacobians.jl:128 overwritten in module DiffEqDiffTools at /usr/people/briandd/.julia/packages/DiffEqDiffTools/3mm8U/src/jacobians.jl:114.\n",
      "  ** incremental compilation may be fatally broken for this module **\n",
      "\n",
      "WARNING: Method definition load(String) in module pulse_input_DDM at /usr/people/briandd/Projects/pulse_input_DDM/src/choice_model/process_data.jl:9 overwritten at /usr/people/briandd/Projects/pulse_input_DDM/src/neural_model/process_data.jl:33.\n",
      "  ** incremental compilation may be fatally broken for this module **\n",
      "\n",
      "WARNING: Method definition #load(Any, typeof(pulse_input_DDM.load), String) in module pulse_input_DDM overwritten.\n",
      "  ** incremental compilation may be fatally broken for this module **\n",
      "\n",
      "┌ Warning: Replacing docs for `pulse_input_DDM.load :: Tuple{String}` in module `pulse_input_DDM`\n",
      "└ @ Base.Docs docs/Docs.jl:223\n"
     ]
    }
   ],
   "source": [
    "using pulse_input_DDM"
   ]
  },
  {
   "cell_type": "markdown",
   "metadata": {},
   "source": [
    "### Geneerate some data\n",
    "Blah blah blah"
   ]
  },
  {
   "cell_type": "code",
   "execution_count": 3,
   "metadata": {},
   "outputs": [
    {
     "data": {
      "text/plain": [
       "θneural{θz{Float64},Array{Array{Softplus{Float64},1},1}}\n",
       "  θz: θz{Float64}\n",
       "  θy: Array{Array{Softplus{Float64},1}}((2,))\n",
       "  ncells: Array{Int64}((2,)) [5, 4]\n",
       "  nparams: Int64 3\n",
       "  f: String \"Softplus\"\n"
      ]
     },
     "execution_count": 3,
     "metadata": {},
     "output_type": "execute_result"
    }
   ],
   "source": [
    "f, ncells, ntrials, nparams = \"Softplus\", [5,4], [300,400], 3\n",
    "\n",
    "θ_syn = θneural(θz = θz(σ2_i = 0.5, B = 40., λ = -0.5, σ2_a = 50., σ2_s = 0.1,\n",
    "    ϕ = 0.6, τ_ϕ =  0.02),\n",
    "    θy=[[Softplus(10., rand([-1.,1.]),0.) for n in 1:N] for N in ncells], ncells=ncells,\n",
    "    nparams=nparams, f=f)"
   ]
  },
  {
   "cell_type": "code",
   "execution_count": 4,
   "metadata": {},
   "outputs": [],
   "source": [
    "data = synthetic_data(θ_syn, ntrials; centered=false);"
   ]
  },
  {
   "cell_type": "code",
   "execution_count": 5,
   "metadata": {},
   "outputs": [
    {
     "data": {
      "text/plain": [
       "neuraldata\n",
       "  input_data: pulse_input_DDM.neuralinputs{pulse_input_DDM.clicks,pulse_input_DDM.binned_clicks}\n",
       "  spikes: Array{Array{Int64,1}}((5,))\n",
       "  ncells: Int64 5\n"
      ]
     },
     "execution_count": 5,
     "metadata": {},
     "output_type": "execute_result"
    }
   ],
   "source": [
    "data[1][1]"
   ]
  },
  {
   "cell_type": "code",
   "execution_count": 6,
   "metadata": {},
   "outputs": [],
   "source": [
    "using MAT"
   ]
  },
  {
   "cell_type": "code",
   "execution_count": 7,
   "metadata": {},
   "outputs": [
    {
     "data": {
      "text/plain": [
       "(true, 0.01)"
      ]
     },
     "execution_count": 7,
     "metadata": {},
     "output_type": "execute_result"
    }
   ],
   "source": [
    "centered, dt = true, 1e-2"
   ]
  },
  {
   "cell_type": "code",
   "execution_count": 8,
   "metadata": {},
   "outputs": [
    {
     "data": {
      "text/plain": [
       "1"
      ]
     },
     "execution_count": 8,
     "metadata": {},
     "output_type": "execute_result"
    }
   ],
   "source": [
    "data = read(matopen(\"/usr/people/briandd/Projects/neural_DDM_analysis/data/hanks_data_sessions/B068_52307.mat\"), \"rawdata\")\n",
    "\n",
    "T = vec(data[\"T\"])\n",
    "L = vec(map(x-> vec(collect(x)), data[collect(keys(data))[occursin.(\"left\", collect(keys(data)))][1]]))\n",
    "R = vec(map(x-> vec(collect(x)), data[collect(keys(data))[occursin.(\"right\", collect(keys(data)))][1]]))\n",
    "\n",
    "click_times = pulse_input_DDM.clicks.(L, R, T)\n",
    "binned_clicks = pulse_input_DDM.bin_clicks(click_times, centered=centered, dt=dt)\n",
    "\n",
    "ncells = size(data[\"spike_times\"][1], 2)"
   ]
  },
  {
   "cell_type": "code",
   "execution_count": 9,
   "metadata": {},
   "outputs": [],
   "source": [
    "spike_times = vec(map(x-> vec(vec.(collect.(x))), data[\"spike_times\"]));"
   ]
  },
  {
   "cell_type": "code",
   "execution_count": 10,
   "metadata": {},
   "outputs": [
    {
     "data": {
      "text/plain": [
       "600-element Array{Array{Array{Int64,1},1},1}:\n",
       " [[0, 1, 0, 0, 0, 1, 0, 0, 0, 0  …  0, 0, 0, 0, 0, 0, 0, 0, 0, 0]]\n",
       " [[0, 0, 1, 0, 0, 0, 0, 0, 0, 0  …  0, 0, 0, 0, 0, 0, 0, 0, 0, 0]]\n",
       " [[0, 0, 1, 0, 0, 0, 0, 0, 0, 0  …  0, 0, 0, 0, 0, 0, 0, 0, 0, 0]]\n",
       " [[0, 0, 0, 0, 0, 0, 0, 0, 0, 0  …  0, 0, 0, 0, 0, 0, 0, 0, 0, 0]]\n",
       " [[0, 0, 0, 0, 0, 0, 0, 0, 0, 0  …  0, 0, 0, 0, 0, 0, 0, 0, 0, 0]]\n",
       " [[1, 0, 0, 0, 0, 0, 0, 0, 0, 0  …  0, 0, 0, 0, 0, 0, 0, 0, 0, 0]]\n",
       " [[0, 0, 0, 0, 0, 0, 0, 0, 0, 0  …  0, 0, 0, 0, 0, 0, 0, 0, 0, 0]]\n",
       " [[0, 1, 0, 0, 0, 0, 0, 0, 0, 0  …  0, 0, 0, 0, 0, 0, 0, 0, 0, 0]]\n",
       " [[0, 0, 0, 0, 0, 0, 0, 0, 0, 0  …  0, 0, 0, 0, 0, 0, 0, 0, 0, 0]]\n",
       " [[0, 0, 0, 0, 0, 0, 0, 0, 0, 0  …  0, 0, 0, 0, 0, 0, 0, 0, 0, 0]]\n",
       " [[0, 0, 0, 0, 0, 0, 0, 0, 0, 0  …  0, 0, 0, 0, 0, 0, 0, 0, 0, 0]]\n",
       " [[0, 0, 0, 0, 0, 0, 0, 0, 0, 0  …  0, 0, 0, 0, 0, 0, 0, 0, 0, 0]]\n",
       " [[0, 0, 1, 0, 0, 0, 0, 0, 0, 0  …  0, 0, 0, 0, 0, 0, 0, 0, 0, 0]]\n",
       " ⋮                                                                \n",
       " [[0, 0, 0, 0, 0, 0, 0, 0, 0, 0  …  0, 1, 0, 0, 1, 0, 0, 0, 0, 0]]\n",
       " [[0, 0, 0, 0, 0, 0, 0, 0, 0, 0  …  0, 0, 0, 0, 0, 0, 0, 0, 0, 0]]\n",
       " [[0, 0, 0, 0, 0, 0, 1, 0, 0, 0  …  0, 0, 0, 0, 0, 0, 0, 0, 0, 0]]\n",
       " [[0, 1, 0, 0, 0, 0, 0, 0, 0, 1  …  0, 0, 0, 0, 0, 0, 0, 0, 0, 1]]\n",
       " [[0, 0, 0, 0, 1, 0, 0, 0, 0, 0  …  0, 0, 0, 0, 0, 0, 0, 0, 0, 0]]\n",
       " [[0, 0, 0, 0, 0, 1, 0, 0, 0, 0  …  0, 0, 0, 0, 0, 0, 0, 0, 0, 1]]\n",
       " [[0, 0, 0, 0, 0, 0, 0, 0, 0, 0  …  0, 0, 0, 0, 0, 0, 0, 0, 0, 0]]\n",
       " [[0, 0, 0, 0, 0, 0, 0, 0, 1, 0  …  0, 0, 0, 0, 0, 0, 0, 0, 0, 0]]\n",
       " [[0, 0, 0, 0, 0, 0, 0, 0, 0, 0  …  0, 0, 0, 0, 0, 0, 0, 0, 0, 0]]\n",
       " [[0, 0, 0, 0, 0, 0, 0, 0, 0, 0  …  0, 0, 0, 0, 0, 0, 0, 0, 0, 0]]\n",
       " [[0, 0, 0, 0, 0, 0, 0, 0, 0, 0  …  0, 0, 0, 0, 0, 0, 0, 0, 0, 0]]\n",
       " [[0, 0, 0, 0, 0, 0, 0, 0, 0, 0  …  0, 0, 0, 0, 0, 0, 0, 0, 0, 0]]"
      ]
     },
     "execution_count": 10,
     "metadata": {},
     "output_type": "execute_result"
    }
   ],
   "source": [
    "output = map((spike_times, binned_clicks)-> pulse_input_DDM.bin_spikes(spike_times, dt, binned_clicks.nT), spike_times, binned_clicks)\n",
    "trial = getindex.(output, 1)\n",
    "padded = getindex.(output, 2)"
   ]
  },
  {
   "cell_type": "code",
   "execution_count": 12,
   "metadata": {},
   "outputs": [
    {
     "ename": "UndefVarError",
     "evalue": "UndefVarError: KernelFactors not defined",
     "output_type": "error",
     "traceback": [
      "UndefVarError: KernelFactors not defined",
      "",
      "Stacktrace:",
      " [1] #filtered_rate#198(::Int64, ::Int64, ::typeof(pulse_input_DDM.filtered_rate), ::Array{Array{Int64,1},1}, ::Float64) at /usr/people/briandd/Projects/pulse_input_DDM/src/neural_model/process_data.jl:162",
      " [2] filtered_rate at /usr/people/briandd/Projects/pulse_input_DDM/src/neural_model/process_data.jl:162 [inlined]",
      " [3] _broadcast_getindex_evalf at ./broadcast.jl:625 [inlined]",
      " [4] _broadcast_getindex at ./broadcast.jl:598 [inlined]",
      " [5] getindex at ./broadcast.jl:558 [inlined]",
      " [6] copy at ./broadcast.jl:832 [inlined]",
      " [7] materialize(::Base.Broadcast.Broadcasted{Base.Broadcast.DefaultArrayStyle{1},Nothing,typeof(pulse_input_DDM.filtered_rate),Tuple{Array{Array{Array{Int64,1},1},1},Float64}}) at ./broadcast.jl:798",
      " [8] top-level scope at In[12]:1"
     ]
    }
   ],
   "source": [
    "μ_rnt = pulse_input_DDM.filtered_rate.(padded, dt)"
   ]
  },
  {
   "cell_type": "code",
   "execution_count": null,
   "metadata": {},
   "outputs": [],
   "source": [
    "μ_t = map(n-> [max(0., mean([μ_rnt[i][n][t]\n",
    "    for i in findall(nT .>= t)]))\n",
    "    for t in 1:(maximum(nT))], 1:ncells)\n",
    "\n",
    "λ0 = map(binned_clicks-> bin_λ0(μ_t, dt, binned_clicks.nT), binned_clicks)\n",
    "\n",
    "input_data = neuralinputs(click_times, binned_clicks, λ0, dt, centered)\n",
    "neuraldata(input_data, spikes, ncells)"
   ]
  },
  {
   "cell_type": "code",
   "execution_count": 10,
   "metadata": {},
   "outputs": [
    {
     "data": {
      "text/plain": [
       "Dict{String,Any} with 9 entries:\n",
       "  \"rightbups\"   => Any[[0.0 0.306165 … 0.385765 0.394515] [0.0 0.00826 … 0.1287…\n",
       "  \"cellID\"      => Any[2261.0 2261.0 … 2261.0 2261.0]\n",
       "  \"T\"           => Any[0.445579 0.186189 … 0.461016 0.358184]\n",
       "  \"stim_start\"  => Any[0.554618 0.814012 … 0.538996 0.642017]\n",
       "  \"leftbups\"    => Any[[0.0 0.02087 … 0.398585 0.414005] 0.0 … [0.0 0.046735 … …\n",
       "  \"spike_times\" => Any[Any[[-1.74085; -1.69176; … ; 3.29756; 3.38327]] Any[[-0.…\n",
       "  \"pokedR\"      => Any[0.0 1.0 … 0.0 1.0]\n",
       "  \"correct_dir\" => Any[0.0 1.0 … 0.0 1.0]\n",
       "  \"cpoke_end\"   => Any[1.0002 1.0002 … 1.00001 1.0002]"
      ]
     },
     "execution_count": 10,
     "metadata": {},
     "output_type": "execute_result"
    }
   ],
   "source": [
    "data = read(matopen(\"/usr/people/briandd/Projects/neural_DDM_analysis/data/hanks_data_sessions/B068_52307.mat\"), \"rawdata\")"
   ]
  },
  {
   "cell_type": "code",
   "execution_count": 41,
   "metadata": {},
   "outputs": [],
   "source": [
    "using StatsBase"
   ]
  },
  {
   "cell_type": "code",
   "execution_count": 43,
   "metadata": {},
   "outputs": [
    {
     "data": {
      "text/plain": [
       "1-element Array{Array{Float64,1},1}:\n",
       " [-1.7408498369477408, -1.691760167348543, -1.587343870123727, -1.47967059481743, -0.13460464779927372, -0.08631297282408434, -0.040724279660930396, 0.06212502811104548, 0.15115142891955236, 0.19406714007346215  …  2.7403380023752155, 2.7847287036020183, 2.8310843916042407, 2.878178074639441, 2.9723034411290477, 3.0235750960419003, 3.1361623382727024, 3.2105968372925466, 3.2975642519559236, 3.3832726750952182]"
      ]
     },
     "execution_count": 43,
     "metadata": {},
     "output_type": "execute_result"
    }
   ],
   "source": [
    "spike_times[1]"
   ]
  },
  {
   "cell_type": "code",
   "execution_count": 50,
   "metadata": {},
   "outputs": [
    {
     "data": {
      "text/plain": [
       "45"
      ]
     },
     "execution_count": 50,
     "metadata": {},
     "output_type": "execute_result"
    }
   ],
   "source": [
    "dt = 1e-2\n",
    "nT = ceil(Int,click_times[1].T/dt)"
   ]
  },
  {
   "cell_type": "code",
   "execution_count": 54,
   "metadata": {},
   "outputs": [
    {
     "data": {
      "text/plain": [
       "1-element Array{Array{Int64,1},1}:\n",
       " [0, 0, 0, 0, 0, 0, 1, 0, 0, 0  …  0, 0, 0, 0, 0, 0, 0, 0, 0, 0]"
      ]
     },
     "execution_count": 54,
     "metadata": {},
     "output_type": "execute_result"
    }
   ],
   "source": [
    "map(x-> fit(Histogram, vec(collect(x .- 0.)), collect(range(0,stop=nT*dt,length=nT+1)), closed=:left).weights, spike_times[1])"
   ]
  },
  {
   "cell_type": "code",
   "execution_count": 23,
   "metadata": {},
   "outputs": [
    {
     "data": {
      "text/plain": [
       "303"
      ]
     },
     "execution_count": 23,
     "metadata": {},
     "output_type": "execute_result"
    }
   ],
   "source": [
    "n = 303"
   ]
  },
  {
   "cell_type": "code",
   "execution_count": 24,
   "metadata": {},
   "outputs": [
    {
     "data": {
      "text/plain": [
       "-493204.7825872947"
      ]
     },
     "execution_count": 24,
     "metadata": {},
     "output_type": "execute_result"
    }
   ],
   "source": [
    "loglikelihood(θ_syn, data, n)"
   ]
  },
  {
   "cell_type": "code",
   "execution_count": 16,
   "metadata": {
    "collapsed": true
   },
   "outputs": [
    {
     "data": {
      "text/plain": [
       "3-element Array{Float64,1}:\n",
       " 9.868493150684932 \n",
       " 4.1611487103704405\n",
       " 0.0               "
      ]
     },
     "execution_count": 16,
     "metadata": {},
     "output_type": "execute_result"
    }
   ],
   "source": [
    "θy0 = vcat(vcat(initialize_θy.(data, f)...)...)\n",
    "\n",
    "θy0"
   ]
  },
  {
   "cell_type": "code",
   "execution_count": 17,
   "metadata": {
    "collapsed": true
   },
   "outputs": [
    {
     "data": {
      "text/plain": [
       "neuraloptions\n",
       "  ncells: Array{Int64}((1,)) [1]\n",
       "  nparams: Int64 3\n",
       "  f: String \"Softplus\"\n",
       "  fit: Array{Bool}((10,)) Bool[0, 0, 0, 0, 0, 0, 0, 1, 1, 1]\n",
       "  lb: Array{Float64}((10,)) [0.0, 8.0, -5.0, 0.0, 0.0, 0.01, 0.005, 0.0, -10.0, -10.0]\n",
       "  ub: Array{Float64}((10,)) [2.0, 30.0, 5.0, 100.0, 2.5, 1.2, 1.0, 100.0, 10.0, 10.0]\n",
       "  x0: Array{Float64}((10,)) [0.0, 30.0, 2.220446049250313e-16, 0.0, 0.0, 0.9999999999999998, 0.008, 9.868493150684932, 4.1611487103704405, 0.0]\n"
      ]
     },
     "execution_count": 17,
     "metadata": {},
     "output_type": "execute_result"
    }
   ],
   "source": [
    "options0 = neuraloptions(ncells=ncells,\n",
    "    fit=vcat(falses(dimz), trues(sum(ncells)*nparams)),\n",
    "    x0=vcat([0., 30., 0. + eps(), 0., 0., 1. - eps(), 0.008], θy0),\n",
    "    nparams=nparams, f=f, \n",
    "    lb = vcat([0., 8., -5., 0., 0., 0.01, 0.005], repeat([0.,-10.,-10.,], sum(ncells))), \n",
    "    ub = vcat([2., 30., 5., 100., 2.5, 1.2, 1.], repeat([100.,10.,10.], sum(ncells))))"
   ]
  },
  {
   "cell_type": "markdown",
   "metadata": {},
   "source": [
    "### Optimize stuff\n",
    "Blah blah blah"
   ]
  },
  {
   "cell_type": "code",
   "execution_count": 18,
   "metadata": {
    "collapsed": true
   },
   "outputs": [
    {
     "name": "stdout",
     "output_type": "stream",
     "text": [
      "Fminbox\n",
      "-------\n",
      "Initial mu = 76.8591\n",
      "\n",
      "Fminbox iteration 1\n",
      "-------------------\n",
      "Calling inner optimizer with mu = 76.8591\n",
      "\n",
      "(numbers below include barrier contribution)\n",
      "Iter     Function value   Gradient norm \n",
      "     0     1.028419e+06     2.840945e+04\n",
      " * time: 4.601478576660156e-5\n",
      "     1     9.979438e+05     2.504234e+04\n",
      " * time: 0.856982946395874\n",
      "     2     9.745756e+05     2.263427e+04\n",
      " * time: 1.5163750648498535\n",
      "     3     9.544536e+05     2.067304e+04\n",
      " * time: 2.0615010261535645\n",
      "     4     9.344140e+05     1.881528e+04\n",
      " * time: 2.604465961456299\n",
      "     5     9.211516e+05     1.763576e+04\n",
      " * time: 3.7332401275634766\n",
      "     6     9.071323e+05     1.642870e+04\n",
      " * time: 4.333832025527954\n",
      "     7     8.979307e+05     1.565860e+04\n",
      " * time: 4.908924102783203\n",
      "     8     8.882255e+05     1.486328e+04\n",
      " * time: 5.509658098220825\n",
      "     9     8.813918e+05     1.431444e+04\n",
      " * time: 6.083688020706177\n",
      "    10     8.740911e+05     1.373654e+04\n",
      " * time: 6.657217979431152\n",
      "    11     8.684795e+05     1.329932e+04\n",
      " * time: 7.247437000274658\n",
      "    12     8.622150e+05     1.281668e+04\n",
      " * time: 7.830222129821777\n",
      "    13     8.569940e+05     1.242000e+04\n",
      " * time: 8.423943042755127\n",
      "    14     8.507863e+05     1.195317e+04\n",
      " * time: 9.034502029418945\n",
      "    15     8.453250e+05     1.154796e+04\n",
      " * time: 9.631958961486816\n",
      "    16     8.384763e+05     1.104524e+04\n",
      " * time: 10.221830129623413\n",
      "    17     8.323593e+05     1.060234e+04\n",
      " * time: 10.918556928634644\n",
      "    18     8.245777e+05     1.004544e+04\n",
      " * time: 11.528026103973389\n",
      "    19     8.177048e+05     9.560267e+03\n",
      " * time: 12.12153697013855\n",
      "    20     8.093562e+05     8.977735e+03\n",
      " * time: 12.719820022583008\n",
      "    21     8.020347e+05     8.473094e+03\n",
      " * time: 13.41412091255188\n",
      "    22     7.939773e+05     7.923127e+03\n",
      " * time: 14.213872909545898\n",
      "    23     7.868041e+05     7.437866e+03\n",
      " * time: 14.934284925460815\n",
      "    24     7.796100e+05     6.954257e+03\n",
      " * time: 15.98957896232605\n",
      "    25     7.730419e+05     6.514763e+03\n",
      " * time: 16.67401909828186\n",
      "    26     7.667580e+05     6.095212e+03\n",
      " * time: 17.37974500656128\n",
      "    27     7.609246e+05     5.705796e+03\n",
      " * time: 18.092772006988525\n",
      "    28     7.554324e+05     5.338384e+03\n",
      " * time: 18.664942026138306\n",
      "    29     7.503029e+05     4.993752e+03\n",
      " * time: 19.238063097000122\n",
      "    30     7.454973e+05     4.668761e+03\n",
      " * time: 19.821918964385986\n",
      "    31     7.410055e+05     4.362292e+03\n",
      " * time: 20.395442008972168\n",
      "    32     7.368073e+05     4.072616e+03\n",
      " * time: 20.99213194847107\n",
      "    33     7.328883e+05     3.798486e+03\n",
      " * time: 21.57243013381958\n",
      "    34     7.292336e+05     3.538663e+03\n",
      " * time: 22.16785502433777\n",
      "    35     7.258299e+05     3.292077e+03\n",
      " * time: 22.77476692199707\n",
      "    36     7.226649e+05     3.057744e+03\n",
      " * time: 23.362338066101074\n",
      "    37     7.197269e+05     2.834782e+03\n",
      " * time: 23.949037075042725\n",
      "    38     7.170053e+05     2.622387e+03\n",
      " * time: 24.52893304824829\n",
      "    39     7.144901e+05     2.419831e+03\n",
      " * time: 25.130051136016846\n",
      "    40     7.121719e+05     2.226449e+03\n",
      " * time: 25.715158939361572\n",
      "    41     7.100420e+05     2.041636e+03\n",
      " * time: 26.323046922683716\n",
      "    42     7.080922e+05     1.864835e+03\n",
      " * time: 27.01710796356201\n",
      "    43     7.063148e+05     1.695541e+03\n",
      " * time: 27.618268966674805\n",
      "    44     7.047028e+05     1.533286e+03\n",
      " * time: 28.211992025375366\n",
      "    45     7.032493e+05     1.377641e+03\n",
      " * time: 28.79820203781128\n",
      "    46     7.019479e+05     1.228212e+03\n",
      " * time: 29.47929310798645\n",
      "    47     7.007928e+05     1.084635e+03\n",
      " * time: 30.259916067123413\n",
      "    48     6.997782e+05     9.465719e+02\n",
      " * time: 30.96143102645874\n",
      "    49     6.988989e+05     8.137125e+02\n",
      " * time: 31.9108669757843\n",
      "    50     6.981499e+05     6.857674e+02\n",
      " * time: 32.58761405944824\n",
      "    51     6.975263e+05     5.624686e+02\n",
      " * time: 33.29203796386719\n",
      "    52     6.970237e+05     4.435665e+02\n",
      " * time: 33.9870491027832\n",
      "    53     6.966378e+05     3.288285e+02\n",
      " * time: 34.568838119506836\n",
      "    54     6.963646e+05     2.180368e+02\n",
      " * time: 35.14522409439087\n",
      "    55     6.962004e+05     1.109858e+02\n",
      " * time: 35.73395395278931\n",
      "    56     6.961414e+05     7.473798e+00\n",
      " * time: 36.31188106536865\n",
      "    57     6.961411e+05     2.021816e+00\n",
      " * time: 36.88595390319824\n",
      "    58     6.961411e+05     2.725691e+00\n",
      " * time: 38.05795693397522\n",
      "\n",
      "Exiting inner optimizer with x = [58.12539808991711, 0.00012644605861317906, 1.5910267533807172]\n",
      "Current distance to box: 8.40897\n",
      "Decreasing barrier term μ.\n",
      "\n",
      "Fminbox iteration 2\n",
      "-------------------\n",
      "Calling inner optimizer with mu = 0.0768591\n",
      "\n",
      "(numbers below include barrier contribution)\n",
      "Iter     Function value   Gradient norm \n",
      "     0     6.974450e+05     3.238339e+00\n",
      " * time: 4.315376281738281e-5\n",
      "     1     6.974449e+05     2.232048e-03\n",
      " * time: 1.2001290321350098\n",
      "     2     6.974449e+05     1.297276e-03\n",
      " * time: 1.7744510173797607\n",
      "\n",
      "Exiting inner optimizer with x = [58.14531077290411, 0.00012625055643438688, 1.605455422389105]\n",
      "Current distance to box: 8.39454\n",
      "Decreasing barrier term μ.\n",
      "\n",
      "optimization complete. converged: true \n",
      "\n"
     ]
    },
    {
     "data": {
      "text/plain": [
       "neuralDDM{θneural{θz{Float64},Array{Array{Softplus{Float64},1},1}},Array{Array{neuraldata,1},1}}\n",
       "  θ: θneural{θz{Float64},Array{Array{Softplus{Float64},1},1}}\n",
       "  data: Array{Array{neuraldata,1}}((1,))\n"
      ]
     },
     "execution_count": 18,
     "metadata": {},
     "output_type": "execute_result"
    }
   ],
   "source": [
    "model = optimize(data, options0)"
   ]
  },
  {
   "cell_type": "code",
   "execution_count": 58,
   "metadata": {},
   "outputs": [],
   "source": [
    "fit=vcat(falses(dimz-2), falses(2), trues(sum(ncells)*nparams))\n",
    "#x0=vcat([0.5, 8., -2., 10., 1., 0.4, 0.008], pulse_input_DDM.flatten(model.θ)[dimz+1:end])\n",
    "x0=vcat([θ_syn.θz.σ2_i, θ_syn.θz.B, θ_syn.θz.λ, θ_syn.θz.σ2_a, θ_syn.θz.σ2_s, θ_syn.θz.ϕ, θ_syn.θz.τ_ϕ], \n",
    "    pulse_input_DDM.flatten(model.θ)[dimz+1:end]);"
   ]
  },
  {
   "cell_type": "code",
   "execution_count": 8,
   "metadata": {
    "collapsed": true
   },
   "outputs": [
    {
     "data": {
      "text/plain": [
       "10-element Array{Float64,1}:\n",
       "  0.01              \n",
       " 40.0               \n",
       " -1.0               \n",
       " 50.0               \n",
       "  0.01              \n",
       "  0.9999999999999998\n",
       "  0.02              \n",
       " 10.0               \n",
       " 10.0               \n",
       " 10.0               "
      ]
     },
     "execution_count": 8,
     "metadata": {},
     "output_type": "execute_result"
    }
   ],
   "source": [
    "pulse_input_DDM.flatten(θ_syn)"
   ]
  },
  {
   "cell_type": "code",
   "execution_count": 26,
   "metadata": {},
   "outputs": [],
   "source": [
    "fit=vcat(falses(2),trues(1),falses(4), falses(1), trues(1), falses(1))\n",
    "#x0=vcat([0.5, 8., -2., 10., 1., 0.4, 0.008], pulse_input_DDM.flatten(model.θ)[dimz+1:end])\n",
    "x0=pulse_input_DDM.flatten(θ_syn);"
   ]
  },
  {
   "cell_type": "code",
   "execution_count": 27,
   "metadata": {},
   "outputs": [
    {
     "name": "stdout",
     "output_type": "stream",
     "text": [
      "Fminbox\n",
      "-------\n",
      "Initial mu = 0.405546\n",
      "\n",
      "Fminbox iteration 1\n",
      "-------------------\n",
      "Calling inner optimizer with mu = 0.405546\n",
      "\n",
      "(numbers below include barrier contribution)\n",
      "Iter     Function value   Gradient norm \n",
      "     0     4.931998e+05     1.424261e+02\n",
      " * time: 8.893013000488281e-5\n",
      "     1     4.931920e+05     1.587904e+02\n",
      " * time: 89.6972451210022\n",
      "     2     4.931687e+05     3.646034e+00\n",
      " * time: 179.10835194587708\n",
      "     3     4.931686e+05     3.102588e-01\n",
      " * time: 238.4584789276123\n",
      "     4     4.931686e+05     1.356555e-02\n",
      " * time: 297.5549569129944\n",
      "\n",
      "Exiting inner optimizer with x = [-0.8456257015853647, 9.536915693415581]\n",
      "Current distance to box: 4.15437\n",
      "Decreasing barrier term μ.\n",
      "\n",
      "Fminbox iteration 2\n",
      "-------------------\n",
      "Calling inner optimizer with mu = 0.000405546\n",
      "\n",
      "(numbers below include barrier contribution)\n",
      "Iter     Function value   Gradient norm \n",
      "     0     4.931737e+05     4.178036e-02\n",
      " * time: 5.2928924560546875e-5\n",
      "     1     4.931737e+05     9.031785e-03\n",
      " * time: 177.18712186813354\n",
      "     2     4.931737e+05     4.691397e-06\n",
      " * time: 324.97212290763855\n",
      "\n",
      "Exiting inner optimizer with x = [-0.8456482038525149, 9.536945285154058]\n",
      "Current distance to box: 4.15435\n",
      "Decreasing barrier term μ.\n",
      "\n",
      "optimization complete. converged: true \n",
      "\n"
     ]
    },
    {
     "data": {
      "text/plain": [
       "neuralDDM{θneural{θz{Float64},Array{Array{Softplus{Float64},1},1}},Array{Array{neuraldata,1},1}}\n",
       "  θ: θneural{θz{Float64},Array{Array{Softplus{Float64},1},1}}\n",
       "  data: Array{Array{neuraldata,1}}((1,))\n"
      ]
     },
     "execution_count": 27,
     "metadata": {},
     "output_type": "execute_result"
    }
   ],
   "source": [
    "options = neuraloptions(ncells=ncells, x0=x0, fit=fit, nparams=nparams, f=f, \n",
    "    lb = vcat([0., 8., -5., 0.,   0.,  0.01, 0.005], repeat([0.,-100.,-100.,], sum(ncells))), \n",
    "    ub = vcat([2., 50., 5., 100., 2.5, 1.2,  1.], repeat([100.,100.,100.], sum(ncells))))\n",
    "model = optimize(data, options, n)"
   ]
  },
  {
   "cell_type": "code",
   "execution_count": 21,
   "metadata": {},
   "outputs": [
    {
     "data": {
      "text/plain": [
       "10-element Array{Float64,1}:\n",
       "  0.01              \n",
       " 40.0               \n",
       " -0.9795359665530979\n",
       " 50.0               \n",
       "  0.01              \n",
       "  0.9999999999999998\n",
       "  0.02              \n",
       " 10.0               \n",
       "  9.923376873524658 \n",
       " 10.0               "
      ]
     },
     "execution_count": 21,
     "metadata": {},
     "output_type": "execute_result"
    }
   ],
   "source": [
    "pulse_input_DDM.flatten(model.θ)"
   ]
  },
  {
   "cell_type": "code",
   "execution_count": 28,
   "metadata": {},
   "outputs": [
    {
     "data": {
      "text/plain": [
       "10-element Array{Float64,1}:\n",
       "  0.01              \n",
       " 40.0               \n",
       " -0.8456482038525149\n",
       " 50.0               \n",
       "  0.01              \n",
       "  0.9999999999999998\n",
       "  0.02              \n",
       " 10.0               \n",
       "  9.536945285154058 \n",
       " 10.0               "
      ]
     },
     "execution_count": 28,
     "metadata": {},
     "output_type": "execute_result"
    }
   ],
   "source": [
    "pulse_input_DDM.flatten(model.θ)"
   ]
  },
  {
   "cell_type": "markdown",
   "metadata": {},
   "source": [
    "### Compute Hessian\n",
    "Blah blah blah"
   ]
  },
  {
   "cell_type": "code",
   "execution_count": 61,
   "metadata": {},
   "outputs": [
    {
     "name": "stderr",
     "output_type": "stream",
     "text": [
      "┌ Warning: Hessian is not positive definite. Approximated by closest PSD matrix.\n",
      "│             ||ϵ||/||H|| is 0.5554666390572115\n",
      "└ @ pulse_input_DDM /usr/people/briandd/Projects/pulse_input_DDM/src/base_model.jl:19\n"
     ]
    }
   ],
   "source": [
    "# ### Compute Hessian and the confidence interavls\n",
    "# Blah blah blah\n",
    "\n",
    "H = Hessian(model, n)\n",
    "CI, HPSD = CIs(H);"
   ]
  },
  {
   "cell_type": "code",
   "execution_count": 62,
   "metadata": {},
   "outputs": [
    {
     "data": {
      "text/plain": [
       "34-element Array{Float64,1}:\n",
       "  7.8969487286689946  \n",
       " 30.64572976694986    \n",
       "  0.5227482237011131  \n",
       " 57.30293808493733    \n",
       "  1.052098579676006   \n",
       "  0.2854240586074219  \n",
       "  0.012721591348291143\n",
       "  1.0463482501293424  \n",
       "  0.44395425868206206 \n",
       "  2.0257895431530937  \n",
       "  0.9426157927375336  \n",
       "  0.475480730183873   \n",
       "  2.4824442795023702  \n",
       "  ⋮                   \n",
       "  0.8049862106153354  \n",
       "  0.46914692848536876 \n",
       "  1.8033429981739468  \n",
       "  0.7664899738381734  \n",
       "  0.6005794705927137  \n",
       "  3.6429205869982546  \n",
       "  0.7452265816163378  \n",
       "  0.5191335535916887  \n",
       "  2.378824818494355   \n",
       "  0.8853759123766897  \n",
       "  0.4566170373515372  \n",
       "  2.631376416360695   "
      ]
     },
     "execution_count": 62,
     "metadata": {},
     "output_type": "execute_result"
    }
   ],
   "source": [
    "CI"
   ]
  },
  {
   "cell_type": "code",
   "execution_count": 63,
   "metadata": {},
   "outputs": [
    {
     "data": {
      "text/plain": [
       "34×3 Array{Float64,2}:\n",
       " -7.39695      0.5     8.39695  \n",
       "  9.35427     40.0    70.6457   \n",
       " -1.02275     -0.5     0.0227482\n",
       " -7.30294     50.0   107.303    \n",
       " -0.952099     0.1     1.1521   \n",
       "  0.314576     0.6     0.885424 \n",
       "  0.00727841   0.02    0.0327216\n",
       "  7.92373     10.0    10.0164   \n",
       " -1.23579     -1.0    -0.347883 \n",
       "  0.123542     0.0     4.17512  \n",
       "  9.0495      10.0    10.9347   \n",
       " -1.35359     -1.0    -0.402627 \n",
       " -2.15134      0.0     2.81355  \n",
       "  ⋮                             \n",
       "  8.62564     10.0    10.2356   \n",
       "  0.394949     1.0     1.33324  \n",
       " -0.606459     0.0     3.00023  \n",
       "  9.55002     10.0    11.083    \n",
       "  0.409178     1.0     1.61034  \n",
       " -5.67385      0.0     1.61199  \n",
       "  9.42011     10.0    10.9106   \n",
       " -1.49154     -1.0    -0.453278 \n",
       " -3.13858      0.0     1.61907  \n",
       "  9.44594     10.0    11.2167   \n",
       "  0.365056     1.0     1.27829  \n",
       " -2.59983      0.0     2.66292  "
      ]
     },
     "execution_count": 63,
     "metadata": {},
     "output_type": "execute_result"
    }
   ],
   "source": [
    "hcat(collect(pulse_input_DDM.flatten(model.θ)) - CI, collect(pulse_input_DDM.flatten(θ_syn)), collect(pulse_input_DDM.flatten(model.θ)) + CI)"
   ]
  },
  {
   "cell_type": "code",
   "execution_count": 64,
   "metadata": {},
   "outputs": [
    {
     "data": {
      "text/plain": [
       "34×2 Array{Float64,2}:\n",
       "  0.5         0.5 \n",
       " 40.0        40.0 \n",
       " -0.5        -0.5 \n",
       " 50.0        50.0 \n",
       "  0.1         0.1 \n",
       "  0.6         0.6 \n",
       "  0.02        0.02\n",
       "  8.97008    10.0 \n",
       " -0.791837   -1.0 \n",
       "  2.14933     0.0 \n",
       "  9.99211    10.0 \n",
       " -0.878107   -1.0 \n",
       "  0.331102    0.0 \n",
       "  ⋮               \n",
       "  9.43063    10.0 \n",
       "  0.864096    1.0 \n",
       "  1.19688     0.0 \n",
       " 10.3165     10.0 \n",
       "  1.00976     1.0 \n",
       " -2.03093     0.0 \n",
       " 10.1653     10.0 \n",
       " -0.972411   -1.0 \n",
       " -0.759752    0.0 \n",
       " 10.3313     10.0 \n",
       "  0.821673    1.0 \n",
       "  0.0315479   0.0 "
      ]
     },
     "execution_count": 64,
     "metadata": {},
     "output_type": "execute_result"
    }
   ],
   "source": [
    "hcat(collect(pulse_input_DDM.flatten(model.θ)), collect(pulse_input_DDM.flatten(θ_syn)))"
   ]
  },
  {
   "cell_type": "code",
   "execution_count": 65,
   "metadata": {},
   "outputs": [
    {
     "data": {
      "text/plain": [
       "34×1 BitArray{2}:\n",
       " 1\n",
       " 1\n",
       " 1\n",
       " 1\n",
       " 1\n",
       " 1\n",
       " 1\n",
       " 1\n",
       " 1\n",
       " 0\n",
       " 1\n",
       " 1\n",
       " 1\n",
       " ⋮\n",
       " 1\n",
       " 1\n",
       " 1\n",
       " 1\n",
       " 1\n",
       " 1\n",
       " 1\n",
       " 1\n",
       " 1\n",
       " 1\n",
       " 1\n",
       " 1"
      ]
     },
     "execution_count": 65,
     "metadata": {},
     "output_type": "execute_result"
    }
   ],
   "source": [
    "hcat(collect(pulse_input_DDM.flatten(model.θ)) - CI .< \n",
    "    collect(pulse_input_DDM.flatten(θ_syn)) .< \n",
    "    collect(pulse_input_DDM.flatten(model.θ)) + CI)"
   ]
  },
  {
   "cell_type": "code",
   "execution_count": null,
   "metadata": {},
   "outputs": [],
   "source": []
  }
 ],
 "metadata": {
  "kernelspec": {
   "display_name": "Julia 1.2.0",
   "language": "julia",
   "name": "julia-1.2"
  },
  "language_info": {
   "file_extension": ".jl",
   "mimetype": "application/julia",
   "name": "julia",
   "version": "1.2.0"
  }
 },
 "nbformat": 4,
 "nbformat_minor": 2
}
