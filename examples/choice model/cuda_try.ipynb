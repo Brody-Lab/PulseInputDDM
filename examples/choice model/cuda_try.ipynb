{
 "cells": [
  {
   "cell_type": "code",
   "execution_count": 1,
   "id": "217790ab-3469-47e5-92af-ca1e8897c33f",
   "metadata": {},
   "outputs": [
    {
     "name": "stderr",
     "output_type": "stream",
     "text": [
      "\u001b[32m\u001b[1m Activating\u001b[22m\u001b[39m environment at `~/.julia/environments/v1.5/Project.toml`\n"
     ]
    }
   ],
   "source": [
    "] activate ~/.julia/environments/v1.5/Project.toml"
   ]
  },
  {
   "cell_type": "code",
   "execution_count": 2,
   "id": "c46844af-15cb-4f90-b62e-145101175ae9",
   "metadata": {},
   "outputs": [],
   "source": [
    "using CUDA"
   ]
  },
  {
   "cell_type": "code",
   "execution_count": 3,
   "id": "2a714587-6bdb-41e6-b2b3-7678b44e13f8",
   "metadata": {},
   "outputs": [
    {
     "data": {
      "text/plain": [
       "128"
      ]
     },
     "execution_count": 3,
     "metadata": {},
     "output_type": "execute_result"
    }
   ],
   "source": [
    "N = 128"
   ]
  },
  {
   "cell_type": "code",
   "execution_count": 11,
   "id": "a7a9728f-30b4-4e2c-9d09-ff19a5a6c7ec",
   "metadata": {},
   "outputs": [
    {
     "name": "stdout",
     "output_type": "stream",
     "text": [
      "search: \u001b[0m\u001b[1mf\u001b[22m\u001b[0m\u001b[1mi\u001b[22m\u001b[0m\u001b[1ml\u001b[22m\u001b[0m\u001b[1ml\u001b[22m \u001b[0m\u001b[1mf\u001b[22m\u001b[0m\u001b[1mi\u001b[22m\u001b[0m\u001b[1ml\u001b[22m\u001b[0m\u001b[1ml\u001b[22m! \u001b[0m\u001b[1mf\u001b[22m\u001b[0m\u001b[1mi\u001b[22mna\u001b[0m\u001b[1ml\u001b[22m\u001b[0m\u001b[1ml\u001b[22my \u001b[0m\u001b[1mf\u001b[22m\u001b[0m\u001b[1mi\u001b[22mnda\u001b[0m\u001b[1ml\u001b[22m\u001b[0m\u001b[1ml\u001b[22m \u001b[0m\u001b[1mf\u001b[22m\u001b[0m\u001b[1mi\u001b[22m\u001b[0m\u001b[1ml\u001b[22mter \u001b[0m\u001b[1mf\u001b[22m\u001b[0m\u001b[1mi\u001b[22m\u001b[0m\u001b[1ml\u001b[22mter! \u001b[0m\u001b[1mf\u001b[22m\u001b[0m\u001b[1mi\u001b[22m\u001b[0m\u001b[1ml\u001b[22mesize \u001b[0m\u001b[1mf\u001b[22m\u001b[0m\u001b[1mi\u001b[22m\u001b[0m\u001b[1ml\u001b[22memode is\u001b[0m\u001b[1mf\u001b[22m\u001b[0m\u001b[1mi\u001b[22m\u001b[0m\u001b[1ml\u001b[22me\n",
      "\n"
     ]
    },
    {
     "data": {
      "text/latex": [
       "\\begin{verbatim}\n",
       "fill(x, dims::Tuple)\n",
       "fill(x, dims...)\n",
       "\\end{verbatim}\n",
       "Create an array filled with the value \\texttt{x}. For example, \\texttt{fill(1.0, (5,5))} returns a 5×5 array of floats, with each element initialized to \\texttt{1.0}.\n",
       "\n",
       "\\texttt{dims} may be specified as either a tuple or a sequence of arguments. For example, the common idiom \\texttt{fill(x)} creates a zero-dimensional array containing the single value \\texttt{x}.\n",
       "\n",
       "\\section{Examples}\n",
       "\\begin{verbatim}\n",
       "julia> fill(1.0, (2,3))\n",
       "2×3 Array{Float64,2}:\n",
       " 1.0  1.0  1.0\n",
       " 1.0  1.0  1.0\n",
       "\n",
       "julia> fill(42)\n",
       "0-dimensional Array{Int64,0}:\n",
       "42\n",
       "\\end{verbatim}\n",
       "If \\texttt{x} is an object reference, all elements will refer to the same object:\n",
       "\n",
       "\\begin{verbatim}\n",
       "julia> A = fill(zeros(2), 2);\n",
       "\n",
       "julia> A[1][1] = 42; # modifies both A[1][1] and A[2][1]\n",
       "\n",
       "julia> A\n",
       "2-element Array{Array{Float64,1},1}:\n",
       " [42.0, 0.0]\n",
       " [42.0, 0.0]\n",
       "\\end{verbatim}\n"
      ],
      "text/markdown": [
       "```\n",
       "fill(x, dims::Tuple)\n",
       "fill(x, dims...)\n",
       "```\n",
       "\n",
       "Create an array filled with the value `x`. For example, `fill(1.0, (5,5))` returns a 5×5 array of floats, with each element initialized to `1.0`.\n",
       "\n",
       "`dims` may be specified as either a tuple or a sequence of arguments. For example, the common idiom `fill(x)` creates a zero-dimensional array containing the single value `x`.\n",
       "\n",
       "# Examples\n",
       "\n",
       "```jldoctest\n",
       "julia> fill(1.0, (2,3))\n",
       "2×3 Array{Float64,2}:\n",
       " 1.0  1.0  1.0\n",
       " 1.0  1.0  1.0\n",
       "\n",
       "julia> fill(42)\n",
       "0-dimensional Array{Int64,0}:\n",
       "42\n",
       "```\n",
       "\n",
       "If `x` is an object reference, all elements will refer to the same object:\n",
       "\n",
       "```jldoctest\n",
       "julia> A = fill(zeros(2), 2);\n",
       "\n",
       "julia> A[1][1] = 42; # modifies both A[1][1] and A[2][1]\n",
       "\n",
       "julia> A\n",
       "2-element Array{Array{Float64,1},1}:\n",
       " [42.0, 0.0]\n",
       " [42.0, 0.0]\n",
       "```\n"
      ],
      "text/plain": [
       "\u001b[36m  fill(x, dims::Tuple)\u001b[39m\n",
       "\u001b[36m  fill(x, dims...)\u001b[39m\n",
       "\n",
       "  Create an array filled with the value \u001b[36mx\u001b[39m. For example, \u001b[36mfill(1.0, (5,5))\u001b[39m\n",
       "  returns a 5×5 array of floats, with each element initialized to \u001b[36m1.0\u001b[39m.\n",
       "\n",
       "  \u001b[36mdims\u001b[39m may be specified as either a tuple or a sequence of arguments. For\n",
       "  example, the common idiom \u001b[36mfill(x)\u001b[39m creates a zero-dimensional array\n",
       "  containing the single value \u001b[36mx\u001b[39m.\n",
       "\n",
       "\u001b[1m  Examples\u001b[22m\n",
       "\u001b[1m  ≡≡≡≡≡≡≡≡≡≡\u001b[22m\n",
       "\n",
       "\u001b[36m  julia> fill(1.0, (2,3))\u001b[39m\n",
       "\u001b[36m  2×3 Array{Float64,2}:\u001b[39m\n",
       "\u001b[36m   1.0  1.0  1.0\u001b[39m\n",
       "\u001b[36m   1.0  1.0  1.0\u001b[39m\n",
       "\u001b[36m  \u001b[39m\n",
       "\u001b[36m  julia> fill(42)\u001b[39m\n",
       "\u001b[36m  0-dimensional Array{Int64,0}:\u001b[39m\n",
       "\u001b[36m  42\u001b[39m\n",
       "\n",
       "  If \u001b[36mx\u001b[39m is an object reference, all elements will refer to the same object:\n",
       "\n",
       "\u001b[36m  julia> A = fill(zeros(2), 2);\u001b[39m\n",
       "\u001b[36m  \u001b[39m\n",
       "\u001b[36m  julia> A[1][1] = 42; # modifies both A[1][1] and A[2][1]\u001b[39m\n",
       "\u001b[36m  \u001b[39m\n",
       "\u001b[36m  julia> A\u001b[39m\n",
       "\u001b[36m  2-element Array{Array{Float64,1},1}:\u001b[39m\n",
       "\u001b[36m   [42.0, 0.0]\u001b[39m\n",
       "\u001b[36m   [42.0, 0.0]\u001b[39m"
      ]
     },
     "execution_count": 11,
     "metadata": {},
     "output_type": "execute_result"
    }
   ],
   "source": [
    "? fill"
   ]
  },
  {
   "cell_type": "code",
   "execution_count": 57,
   "id": "370ce890-e7e8-41b0-9fe1-5b13b2c0e03a",
   "metadata": {},
   "outputs": [],
   "source": [
    "x_d = fill(1.0,128)\n",
    "y_d = fill(2.0,128);"
   ]
  },
  {
   "cell_type": "code",
   "execution_count": 58,
   "id": "cff30712-35c6-483f-bc7b-42dceb471cd3",
   "metadata": {},
   "outputs": [],
   "source": [
    "using Flux"
   ]
  },
  {
   "cell_type": "code",
   "execution_count": 43,
   "id": "3cfa8725-4be1-4085-9945-f337399416c0",
   "metadata": {},
   "outputs": [],
   "source": [
    "import Flux:|>"
   ]
  },
  {
   "cell_type": "code",
   "execution_count": 59,
   "id": "9edefb00-4a46-4bf7-90ed-af1fad5ea0dc",
   "metadata": {},
   "outputs": [],
   "source": [
    "cu_x_d = x_d |> gpu\n",
    "cu_y_d = y_d |> gpu;"
   ]
  },
  {
   "cell_type": "code",
   "execution_count": 60,
   "id": "ac75b0e0-f0ae-4191-8548-ce7ecf3101ae",
   "metadata": {},
   "outputs": [
    {
     "data": {
      "text/plain": [
       "\u001b[32m\u001b[1mTest Passed\u001b[22m\u001b[39m"
      ]
     },
     "execution_count": 60,
     "metadata": {},
     "output_type": "execute_result"
    }
   ],
   "source": [
    "cu_y_d .+= cu_x_d\n",
    "@test all(Array(cu_y_d) .== 3.0f0)"
   ]
  },
  {
   "cell_type": "code",
   "execution_count": 64,
   "id": "462c119f-6b35-4d58-8e37-b83ae504353d",
   "metadata": {},
   "outputs": [],
   "source": [
    "using BenchmarkTools, ForwardDiff, LinearAlgebra, Random"
   ]
  },
  {
   "cell_type": "code",
   "execution_count": 72,
   "id": "1f51d5f4-81b7-4264-8f8f-15622a2c2fd3",
   "metadata": {},
   "outputs": [
    {
     "data": {
      "text/plain": [
       "transition_M! (generic function with 1 method)"
      ]
     },
     "execution_count": 72,
     "metadata": {},
     "output_type": "execute_result"
    }
   ],
   "source": [
    "function transition_M!(F::Array{TT,2}, σ2::TT, λ::TT, μ::TT, dx::UU,\n",
    "        xc::Vector{TT}, n::Int, dt::Float64) where {TT,UU <: Any}\n",
    "\n",
    "    F[1,1] = one(TT); F[n,n] = one(TT); F[:,2:n-1] = zeros(TT,n,n-2)\n",
    "\n",
    "    ndeltas = max(70,ceil(Int, 10. *sqrt(σ2)/dx))\n",
    "\n",
    "    deltaidx = collect(-ndeltas:ndeltas)\n",
    "    deltas = deltaidx * (5. *sqrt(σ2))/ndeltas\n",
    "    ps = exp.(-0.5 * (5*deltaidx./ndeltas).^2)\n",
    "    ps = ps/sum(ps)\n",
    "\n",
    "    @inbounds for j = 2:n-1\n",
    "\n",
    "        #abs(λ) < 1e-150 ? mu = xc[j] + μ : mu = exp(λ*dt)*(xc[j] + μ/(λ*dt)) - μ/(λ*dt)\n",
    "        #abs(λ) < 1e-150 ? mu = xc[j] + h * dt : mu = exp(λ*dt)*(xc[j] + h/λ) - h/λ\n",
    "        #mu = exp(λ*dt)*xc[j] + μ * (exp(λ*dt) - 1.)/(λ*dt)\n",
    "        #mu = exp(λ*dt)*xc[j] + μ * (expm1(λ*dt)/(λ*dt)\n",
    "        mu = exp(λ*dt)*xc[j] + μ * expm1_div_x(λ*dt)\n",
    "\n",
    "        #now we're going to look over all the slices of the gaussian\n",
    "        for k = 1:2*ndeltas+1\n",
    "\n",
    "            s = mu + deltas[k]\n",
    "\n",
    "            if s <= xc[1]\n",
    "\n",
    "                F[1,j] += ps[k]\n",
    "\n",
    "            elseif s >= xc[n]\n",
    "\n",
    "                F[n,j] += ps[k]\n",
    "\n",
    "            else\n",
    "\n",
    "                if (xc[1] < s) && (xc[2] > s)\n",
    "\n",
    "                    lp,hp = 1,2\n",
    "\n",
    "                elseif (xc[n-1] < s) && (xc[n] > s)\n",
    "\n",
    "                    lp,hp = n-1,n\n",
    "\n",
    "                else\n",
    "\n",
    "                    hp,lp = ceil(Int, (s-xc[2])/dx) + 2, floor(Int, (s-xc[2])/dx) + 2\n",
    "\n",
    "                end\n",
    "\n",
    "                if hp == lp\n",
    "\n",
    "                    F[lp,j] += ps[k]\n",
    "\n",
    "                else\n",
    "\n",
    "                    dd = xc[hp] - xc[lp]\n",
    "                    F[hp,j] += ps[k]*(s-xc[lp])/dd\n",
    "                    F[lp,j] += ps[k]*(xc[hp]-s)/dd\n",
    "\n",
    "                end\n",
    "\n",
    "            end\n",
    "\n",
    "        end\n",
    "\n",
    "    end\n",
    "\n",
    "end"
   ]
  },
  {
   "cell_type": "code",
   "execution_count": 95,
   "id": "a15cb2de-c018-432b-a1df-2feed9f0f905",
   "metadata": {},
   "outputs": [
    {
     "data": {
      "text/plain": [
       "transition_M_opt! (generic function with 1 method)"
      ]
     },
     "execution_count": 95,
     "metadata": {},
     "output_type": "execute_result"
    }
   ],
   "source": [
    "function transition_M_opt!(P::Array{TT,2}, σ2::TT, λ::TT, μ::Vector{TT,1}, dx::UU,\n",
    "        xc::Vector{TT}, n::Int, dt::Float64) where {TT,UU <: Any}\n",
    "\n",
    "\n",
    "    block_idx = Int64(blockIdx().x)\n",
    "    thread_idx = Int64(threadIdx().x)\n",
    "    \n",
    "    if thread_idx > size(P,2)\n",
    "        return\n",
    "    end\n",
    "    \n",
    "    if block_idx > size(P,1)\n",
    "        return\n",
    "    end\n",
    "    \n",
    "    i,j = block_idx, thread_idx\n",
    "    \n",
    "    F[1,1] = one(TT); F[n,n] = one(TT); F[:,2:n-1] = zeros(TT,n,n-2)\n",
    "\n",
    "    ndeltas = max(70,ceil(Int, 10. *sqrt(σ2)/dx))\n",
    "\n",
    "    deltaidx = collect(-ndeltas:ndeltas)\n",
    "    deltas = deltaidx * (5. *sqrt(σ2))/ndeltas\n",
    "    ps = exp.(-0.5 * (5*deltaidx./ndeltas).^2)\n",
    "    ps = ps/sum(ps)\n",
    "\n",
    "    @inbounds for j = 2:n-1\n",
    "\n",
    "        #abs(λ) < 1e-150 ? mu = xc[j] + μ : mu = exp(λ*dt)*(xc[j] + μ/(λ*dt)) - μ/(λ*dt)\n",
    "        #abs(λ) < 1e-150 ? mu = xc[j] + h * dt : mu = exp(λ*dt)*(xc[j] + h/λ) - h/λ\n",
    "        #mu = exp(λ*dt)*xc[j] + μ * (exp(λ*dt) - 1.)/(λ*dt)\n",
    "        #mu = exp(λ*dt)*xc[j] + μ * (expm1(λ*dt)/(λ*dt)\n",
    "        mu = exp(λ*dt)*xc[j] + μ * expm1_div_x(λ*dt)\n",
    "\n",
    "        #now we're going to look over all the slices of the gaussian\n",
    "        for k = 1:2*ndeltas+1\n",
    "\n",
    "            s = mu + deltas[k]\n",
    "\n",
    "            if s <= xc[1]\n",
    "\n",
    "                F[1,j] += ps[k]\n",
    "\n",
    "            elseif s >= xc[n]\n",
    "\n",
    "                F[n,j] += ps[k]\n",
    "\n",
    "            else\n",
    "\n",
    "                if (xc[1] < s) && (xc[2] > s)\n",
    "\n",
    "                    lp,hp = 1,2\n",
    "\n",
    "                elseif (xc[n-1] < s) && (xc[n] > s)\n",
    "\n",
    "                    lp,hp = n-1,n\n",
    "\n",
    "                else\n",
    "\n",
    "                    hp,lp = ceil(Int, (s-xc[2])/dx) + 2, floor(Int, (s-xc[2])/dx) + 2\n",
    "\n",
    "                end\n",
    "\n",
    "                if hp == lp\n",
    "\n",
    "                    F[lp,j] += ps[k]\n",
    "\n",
    "                else\n",
    "\n",
    "                    dd = xc[hp] - xc[lp]\n",
    "                    F[hp,j] += ps[k]*(s-xc[lp])/dd\n",
    "                    F[lp,j] += ps[k]*(xc[hp]-s)/dd\n",
    "\n",
    "                end\n",
    "\n",
    "            end\n",
    "\n",
    "        end\n",
    "\n",
    "    end\n",
    "\n",
    "end"
   ]
  },
  {
   "cell_type": "code",
   "execution_count": 96,
   "id": "8db4e6bf-958e-4637-af07-0f6211a7c1b0",
   "metadata": {},
   "outputs": [
    {
     "data": {
      "text/plain": [
       "transition_M (generic function with 1 method)"
      ]
     },
     "execution_count": 96,
     "metadata": {},
     "output_type": "execute_result"
    }
   ],
   "source": [
    "function transition_M(σ2::TT, λ::TT, μ::TT, dx::UU,\n",
    "        xc::Vector{TT}, n::Int, dt::Float64) where {TT,UU <: Any}\n",
    "\n",
    "    M = zeros(TT,n,n)\n",
    "    transition_M_opt!(M,σ2,λ,μ,dx,xc,n,dt)\n",
    "\n",
    "    return M\n",
    "\n",
    "end"
   ]
  },
  {
   "cell_type": "code",
   "execution_count": null,
   "id": "939da998-3604-410d-b7fd-13cfb0bb424c",
   "metadata": {},
   "outputs": [],
   "source": [
    "function latent_one_step!(P::Vector{TT}, F::Array{TT,2}, λ::TT, σ2_a::TT, σ2_s::TT,\n",
    "        t::Int, nL::Vector{Int}, nR::Vector{Int},\n",
    "        La::Vector{TT}, Ra::Vector{TT}, M::Array{TT,2},\n",
    "        dx::UU, xc::Vector{TT}, n::Int, dt::Float64) where {TT,UU <: Any}\n",
    "\n",
    "    any(t .== nL) ? sL = sum(La[t .== nL]) : sL = zero(TT)\n",
    "    any(t .== nR) ? sR = sum(Ra[t .== nR]) : sR = zero(TT)\n",
    "\n",
    "    σ2 = σ2_s * (sL + sR);   μ = -sL + sR\n",
    "    \n",
    "    if (sL + sR) > zero(TT)\n",
    "        transition_M!(F,σ2+σ2_a*dt,λ, μ, dx, xc, n, dt)\n",
    "        P = F * P\n",
    "    else\n",
    "        P = M * P\n",
    "    end\n",
    "\n",
    "    return P, F\n",
    "\n",
    "end"
   ]
  },
  {
   "cell_type": "code",
   "execution_count": 73,
   "id": "1f46047d-1e75-4353-829c-75f3eeb09224",
   "metadata": {},
   "outputs": [],
   "source": [
    "using pulse_input_DDM"
   ]
  },
  {
   "cell_type": "code",
   "execution_count": 83,
   "id": "e658597e-6478-4206-876f-8a8a8c06cb94",
   "metadata": {},
   "outputs": [],
   "source": [
    "import pulse_input_DDM:bins,expm1_div_x"
   ]
  },
  {
   "cell_type": "code",
   "execution_count": 84,
   "id": "ee39c83e-26df-4fea-8f10-22ab43c18ebd",
   "metadata": {},
   "outputs": [],
   "source": [
    "θ_generative = θchoice(θz=θz(σ2_i = 5., B = 8., λ = -1., σ2_a = 20., σ2_s = 0.5,\n",
    "    ϕ = 0.8, τ_ϕ = 0.05), bias=2., lapse=0.05);"
   ]
  },
  {
   "cell_type": "code",
   "execution_count": 85,
   "id": "32848ef5-f011-46fe-b662-02d6a6a35005",
   "metadata": {},
   "outputs": [
    {
     "data": {
      "text/plain": [
       "(53, 0.01)"
      ]
     },
     "execution_count": 85,
     "metadata": {},
     "output_type": "execute_result"
    }
   ],
   "source": [
    "n, dt = 53, 1e-2"
   ]
  },
  {
   "cell_type": "code",
   "execution_count": 86,
   "id": "4e6efc1f-e512-46aa-b9dc-58ed0d959459",
   "metadata": {},
   "outputs": [
    {
     "data": {
      "text/plain": [
       "([-8.156862745098039, -7.8431372549019605, -7.529411764705882, -7.215686274509804, -6.901960784313726, -6.588235294117647, -6.2745098039215685, -5.96078431372549, -5.647058823529412, -5.333333333333333  …  5.333333333333333, 5.647058823529412, 5.96078431372549, 6.2745098039215685, 6.588235294117647, 6.901960784313726, 7.215686274509804, 7.529411764705882, 7.8431372549019605, 8.156862745098039], 0.3137254901960784)"
      ]
     },
     "execution_count": 86,
     "metadata": {},
     "output_type": "execute_result"
    }
   ],
   "source": [
    "xc, dx = bins(θ_generative.θz.B, n)"
   ]
  },
  {
   "cell_type": "code",
   "execution_count": 94,
   "id": "75acd5da-adc7-40bd-b333-34d4912781bc",
   "metadata": {},
   "outputs": [
    {
     "data": {
      "text/plain": [
       "BenchmarkTools.Trial: \n",
       "  memory estimate:  3.14 MiB\n",
       "  allocs estimate:  201772\n",
       "  --------------\n",
       "  minimum time:     3.899 ms (0.00% GC)\n",
       "  median time:      4.222 ms (0.00% GC)\n",
       "  mean time:        4.879 ms (7.34% GC)\n",
       "  maximum time:     19.267 ms (76.99% GC)\n",
       "  --------------\n",
       "  samples:          1024\n",
       "  evals/sample:     1"
      ]
     },
     "execution_count": 94,
     "metadata": {},
     "output_type": "execute_result"
    }
   ],
   "source": [
    "@benchmark transition_M(θ_generative.θz.σ2_a, θ_generative.θz.λ, 0., dx, xc, n, dt)"
   ]
  },
  {
   "cell_type": "code",
   "execution_count": 71,
   "id": "7147d9f8-25b1-4bab-9425-b98e85a74c58",
   "metadata": {},
   "outputs": [
    {
     "name": "stderr",
     "output_type": "stream",
     "text": [
      "┌ Info: test f cpu: 60024.59\n",
      "└ @ Main In[71]:12\n"
     ]
    },
    {
     "name": "stdout",
     "output_type": "stream",
     "text": [
      "  362.935 ms (5400 allocations: 107.54 MiB)\n"
     ]
    },
    {
     "name": "stderr",
     "output_type": "stream",
     "text": [
      "┌ Info: test f gpu: 60024.59\n",
      "└ @ Main In[71]:16\n",
      "┌ Warning: Performing scalar operations on GPU arrays: This is very slow, consider disallowing these operations with `allowscalar(false)`\n",
      "└ @ GPUArrays /home/jg5821/.julia/packages/GPUArrays/Z5nPF/src/host/indexing.jl:64\n"
     ]
    },
    {
     "name": "stdout",
     "output_type": "stream",
     "text": [
      "  49.835 ms (71695 allocations: 3.98 MiB)\n"
     ]
    },
    {
     "data": {
      "text/plain": [
       "60×60 CuArray{Float32,2}:\n",
       " 61.2084  61.6162  58.6687  61.6423  …  60.9841  66.3073  66.1485  62.3897\n",
       " 58.8725  59.2803  56.3328  59.3064     58.6482  63.9714  63.8125  60.0538\n",
       " 60.2208  60.6286  57.6811  60.6547     59.9966  65.3197  65.1609  61.4021\n",
       " 66.136   66.5438  63.5963  66.57       65.9118  71.235   71.0761  67.3174\n",
       " 61.5908  61.9986  59.0511  62.0248     61.3666  66.6898  66.5309  62.7721\n",
       " 57.9839  58.3917  55.4442  58.4178  …  57.7597  63.0828  62.924   59.1652\n",
       " 59.1025  59.5103  56.5628  59.5365     58.8783  64.2015  64.0426  60.2838\n",
       " 61.38    61.7878  58.8403  61.814      61.1558  66.479   66.3201  62.5614\n",
       " 62.3837  62.7915  59.844   62.8177     62.1595  67.4827  67.3238  63.565\n",
       " 62.8164  63.2242  60.2767  63.2504     62.5922  67.9154  67.7565  63.9978\n",
       " 63.8342  64.242   61.2945  64.2682  …  63.61    68.9332  68.7743  65.0156\n",
       " 66.0895  66.4972  63.5497  66.5234     65.8652  71.1884  71.0295  67.2708\n",
       " 62.3745  62.7823  59.8348  62.8084     62.1503  67.4734  67.3146  63.5558\n",
       "  ⋮                                  ⋱                             \n",
       " 61.1819  61.5897  58.6422  61.6158     60.9576  66.2808  66.1219  62.3632\n",
       " 61.8068  62.2146  59.2671  62.2408     61.5826  66.9058  66.7469  62.9882\n",
       " 59.9912  60.399   57.4515  60.4251  …  59.7669  65.0901  64.9313  61.1725\n",
       " 63.0934  63.5012  60.5536  63.5273     62.8691  68.1923  68.0334  64.2747\n",
       " 57.2816  57.6894  54.7419  57.7156     57.0574  62.3805  62.2217  58.4629\n",
       " 61.6019  62.0097  59.0622  62.0359     61.3777  66.7008  66.542   62.7832\n",
       " 62.3452  62.753   59.8055  62.7791     62.1209  67.4441  67.2852  63.5265\n",
       " 62.268   62.6758  59.7283  62.7019  …  62.0437  67.3669  67.208   63.4493\n",
       " 59.9441  60.3519  57.4044  60.3781     59.7199  65.0431  64.8842  61.1255\n",
       " 59.4511  59.8588  56.9113  59.885      59.2268  64.55    64.3911  60.6324\n",
       " 65.7863  66.1941  63.2466  66.2203     65.5621  70.8853  70.7264  66.9677\n",
       " 62.5642  62.972   60.0245  62.9982     62.34    67.6632  67.5043  63.7456"
      ]
     },
     "execution_count": 71,
     "metadata": {},
     "output_type": "execute_result"
    }
   ],
   "source": [
    "CUDA.allowscalar(true)\n",
    "Random.seed!(1111)\n",
    "\n",
    "function tcudiff(N, ::Type{T} = Float32) where T<:Real\n",
    "  A = rand(T, N, N)\n",
    "\n",
    "  cuA = A |> gpu\n",
    "\n",
    "  f(A) = sum(A .+ A*A .+ T(1))\n",
    "#  f(A) = sum(A .+ A*A)\n",
    "\n",
    "  @info \"test f cpu: $(f(A))\"\n",
    "  (N<5) && @info \"test ∇cpu: $(ForwardDiff.gradient(f, A))\"\n",
    "  @btime ForwardDiff.gradient($f, $A)\n",
    "\n",
    "  @info \"test f gpu: $(f(cuA))\"\n",
    "  (N<5) && @info \"test ∇gpu: $(ForwardDiff.gradient(f, cuA))\"\n",
    "  @btime ForwardDiff.gradient($f, $cuA)\n",
    "end\n",
    "\n",
    "tcudiff(60)"
   ]
  },
  {
   "cell_type": "code",
   "execution_count": 7,
   "id": "6e6880cf-fbee-4cda-9da3-5090e8a9b4e5",
   "metadata": {},
   "outputs": [
    {
     "name": "stdout",
     "output_type": "stream",
     "text": [
      "Greetings from block 2, thread 1!\n",
      "Greetings from block 2, thread 2!\n",
      "Greetings from block 1, thread 1!\n",
      "Greetings from block 1, thread 2!\n"
     ]
    }
   ],
   "source": [
    "function hello_world()\n",
    "   @cuprintf(\"Greetings from block %ld, thread %ld!\\n\", Int64(blockIdx().x), Int64(threadIdx().x))\n",
    "   return\n",
    "end\n",
    "@cuda blocks=2 threads=2 hello_world()\n",
    "synchronize()"
   ]
  },
  {
   "cell_type": "code",
   "execution_count": 8,
   "id": "0d76daaf-4e88-4dc3-ae06-620a12b972d3",
   "metadata": {},
   "outputs": [],
   "source": [
    "using Test"
   ]
  },
  {
   "cell_type": "code",
   "execution_count": null,
   "id": "1aa6724e-3998-472d-be62-57c049fecebe",
   "metadata": {},
   "outputs": [],
   "source": [
    "x"
   ]
  },
  {
   "cell_type": "code",
   "execution_count": 9,
   "id": "965cb433-a824-4c64-aa89-89ac45dac980",
   "metadata": {},
   "outputs": [
    {
     "data": {
      "text/plain": [
       "\u001b[32m\u001b[1mTest Passed\u001b[22m\u001b[39m"
      ]
     },
     "execution_count": 9,
     "metadata": {},
     "output_type": "execute_result"
    }
   ],
   "source": [
    "y_d .+= x_d\n",
    "@test all(Array(y_d) .== 3.0f0)"
   ]
  },
  {
   "cell_type": "code",
   "execution_count": null,
   "id": "77edabe6-a98a-4dbb-a1c0-4842d3c968ea",
   "metadata": {},
   "outputs": [],
   "source": []
  }
 ],
 "metadata": {
  "kernelspec": {
   "display_name": "Julia 1.5.0",
   "language": "julia",
   "name": "julia-1.5"
  },
  "language_info": {
   "file_extension": ".jl",
   "mimetype": "application/julia",
   "name": "julia",
   "version": "1.5.0"
  }
 },
 "nbformat": 4,
 "nbformat_minor": 5
}
