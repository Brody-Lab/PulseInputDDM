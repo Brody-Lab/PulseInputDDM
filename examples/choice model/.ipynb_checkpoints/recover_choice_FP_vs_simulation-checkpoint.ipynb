{
 "cells": [
  {
   "cell_type": "code",
   "execution_count": 1,
   "metadata": {},
   "outputs": [],
   "source": [
    "using Distributed\n",
    "addprocs(44);"
   ]
  },
  {
   "cell_type": "code",
   "execution_count": 2,
   "metadata": {},
   "outputs": [],
   "source": [
    "using pulse_input_DDM, Flatten"
   ]
  },
  {
   "cell_type": "code",
   "execution_count": 3,
   "metadata": {},
   "outputs": [],
   "source": [
    "θ_generative = θchoice(θz=θz(σ2_i = 5., B = 8., λ = -1., σ2_a = 20., σ2_s = 0.5,\n",
    "    ϕ = 0.8, τ_ϕ = 0.05), bias=2., lapse=0.05);"
   ]
  },
  {
   "cell_type": "code",
   "execution_count": 4,
   "metadata": {},
   "outputs": [],
   "source": [
    "x_generative = collect(Flatten.flatten(θ_generative));"
   ]
  },
  {
   "cell_type": "code",
   "execution_count": 5,
   "metadata": {},
   "outputs": [
    {
     "data": {
      "text/plain": [
       "53"
      ]
     },
     "execution_count": 5,
     "metadata": {},
     "output_type": "execute_result"
    }
   ],
   "source": [
    "n = 53"
   ]
  },
  {
   "cell_type": "code",
   "execution_count": 6,
   "metadata": {},
   "outputs": [],
   "source": [
    "_, data_20K = synthetic_data(n ;θ=θ_generative, ntrials=20_000, rng=1, dt=1e-2);"
   ]
  },
  {
   "cell_type": "markdown",
   "metadata": {},
   "source": [
    "## Plot"
   ]
  },
  {
   "cell_type": "code",
   "execution_count": 7,
   "metadata": {},
   "outputs": [],
   "source": [
    "@everywhere ℓℓ(x, n, data) = -pulse_input_DDM.loglikelihood(x, data; n=n)"
   ]
  },
  {
   "cell_type": "code",
   "execution_count": 8,
   "metadata": {},
   "outputs": [],
   "source": [
    "αs = [range(0.5,stop=8,length=30),\n",
    "    range(5,stop=20,length=30),\n",
    "    range(-2,stop=2.,length=30),\n",
    "    range(2,stop=100,length=30),\n",
    "    range(0.1,stop=2.,length=30),\n",
    "    range(0.4,stop=1.1,length=30),\n",
    "    range(0.005,stop=0.1,length=30),\n",
    "    range(-1.,stop=3,length=30),\n",
    "    range(0.0,stop=0.15,length=30)];"
   ]
  },
  {
   "cell_type": "code",
   "execution_count": null,
   "metadata": {},
   "outputs": [],
   "source": [
    "LL_scan = map(i-> map(x-> ℓℓ(vcat(x_generative[1:i-1], x, x_generative[i+1:end]), n, data_20K), αs[i]), 1:9);"
   ]
  },
  {
   "cell_type": "code",
   "execution_count": null,
   "metadata": {},
   "outputs": [],
   "source": [
    "using PyPlot\n",
    "\n",
    "num_rows, num_cols = 3,3\n",
    "fig, ax = subplots(num_rows, num_cols, figsize=(9,9))\n",
    "name = [\"σ2_i\", \"B\", \"λ\", \"σ2_a\", \"σ2_s\", \"ϕ\", \"τ_ϕ\", \"bias\", \"lapse\"]\n",
    "\n",
    "for i in 1:9\n",
    "                  \n",
    "    ax[i].plot(αs[i], LL_scan[i], \"x\")\n",
    "    ax[i].set_title(name[i])\n",
    "    ax[i].plot(x_generative[i]*ones(100), range(minimum(LL_scan[i]), stop=maximum(LL_scan[i]), length=100))\n",
    "    \n",
    "    if i == 4\n",
    "        ax[i].set_xticks(0:20:100)\n",
    "    elseif i == 1\n",
    "        ax[i].set_xticks(1:1:8)\n",
    "    elseif i == 2\n",
    "        ax[i].set_xticks(6:2:20)\n",
    "    elseif i == 5\n",
    "        ax[i].set_xticks(0.5:0.5:2)\n",
    "    end\n",
    "    \n",
    "end\n",
    "\n",
    "tight_layout() "
   ]
  },
  {
   "cell_type": "markdown",
   "metadata": {},
   "source": [
    "## Simulate data, instead of using FP"
   ]
  },
  {
   "cell_type": "code",
   "execution_count": null,
   "metadata": {},
   "outputs": [],
   "source": [
    "_, data_20K_simulate = synthetic_data(;θ=θ_generative, ntrials=20_000, rng=1, dt=1e-2);"
   ]
  },
  {
   "cell_type": "code",
   "execution_count": null,
   "metadata": {},
   "outputs": [],
   "source": [
    "LL_scan_simulate = map(i-> map(x-> ℓℓ(vcat(x_generative[1:i-1], x, x_generative[i+1:end]), n, data_20K_simulate), αs[i]), 1:9);"
   ]
  },
  {
   "cell_type": "code",
   "execution_count": null,
   "metadata": {},
   "outputs": [],
   "source": [
    "using PyPlot\n",
    "\n",
    "num_rows, num_cols = 3,3\n",
    "fig, ax = subplots(num_rows, num_cols, figsize=(9,9))\n",
    "name = [\"σ2_i\", \"B\", \"λ\", \"σ2_a\", \"σ2_s\", \"ϕ\", \"τ_ϕ\", \"bias\", \"lapse\"]\n",
    "\n",
    "for i in 1:9\n",
    "                  \n",
    "    ax[i].plot(αs[i], LL_scan_simulate[i], \"x\")\n",
    "    ax[i].set_title(name[i])\n",
    "    ax[i].plot(x_generative[i]*ones(100), range(minimum(LL_scan_simulate[i]), stop=maximum(LL_scan_simulate[i]), length=100))\n",
    "    \n",
    "    if i == 4\n",
    "        ax[i].set_xticks(0:20:100)\n",
    "    elseif i == 1\n",
    "        ax[i].set_xticks(1:1:8)\n",
    "    elseif i == 2\n",
    "        ax[i].set_xticks(6:2:20)\n",
    "    elseif i == 5\n",
    "        ax[i].set_xticks(0.5:0.5:2)\n",
    "    end\n",
    "    \n",
    "end\n",
    "\n",
    "tight_layout() "
   ]
  },
  {
   "cell_type": "code",
   "execution_count": null,
   "metadata": {},
   "outputs": [],
   "source": []
  }
 ],
 "metadata": {
  "kernelspec": {
   "display_name": "Julia 1.2.0",
   "language": "julia",
   "name": "julia-1.2"
  },
  "language_info": {
   "file_extension": ".jl",
   "mimetype": "application/julia",
   "name": "julia",
   "version": "1.2.0"
  }
 },
 "nbformat": 4,
 "nbformat_minor": 2
}
