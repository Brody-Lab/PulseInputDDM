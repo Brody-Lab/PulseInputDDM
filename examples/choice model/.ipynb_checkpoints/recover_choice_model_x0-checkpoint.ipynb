{
 "cells": [
  {
   "cell_type": "code",
   "execution_count": 1,
   "metadata": {},
   "outputs": [],
   "source": [
    "using Distributed\n",
    "addprocs(44);"
   ]
  },
  {
   "cell_type": "code",
   "execution_count": 2,
   "metadata": {},
   "outputs": [
    {
     "name": "stderr",
     "output_type": "stream",
     "text": [
      "┌ Info: Recompiling stale cache file /usr/people/briandd/.julia/compiled/v1.2/pulse_input_DDM/m8WoA.ji for pulse_input_DDM [c2542da2-1f7d-11e9-2506-87691095ebb2]\n",
      "└ @ Base loading.jl:1240\n",
      "WARNING: Method definition vec(Number) in module FiniteDiff at /usr/people/briandd/.julia/packages/FiniteDiff/EBys0/src/jacobians.jl:128 overwritten in module DiffEqDiffTools at /usr/people/briandd/.julia/packages/DiffEqDiffTools/3mm8U/src/jacobians.jl:114.\n",
      "  ** incremental compilation may be fatally broken for this module **\n",
      "\n"
     ]
    }
   ],
   "source": [
    "using pulse_input_DDM, Flatten"
   ]
  },
  {
   "cell_type": "code",
   "execution_count": 3,
   "metadata": {},
   "outputs": [],
   "source": [
    "θ_syn = θchoice(θz=θz(σ2_i = 1., B = 13., λ = -0.5, σ2_a = 10., σ2_s = 1.0,\n",
    "    ϕ = 0.4, τ_ϕ = 0.02), bias=0.1, lapse=0.1);"
   ]
  },
  {
   "cell_type": "code",
   "execution_count": 4,
   "metadata": {},
   "outputs": [],
   "source": [
    "_, data = synthetic_data(;θ=θ_syn, ntrials=5_000, rng=1, dt=2e-2);"
   ]
  },
  {
   "cell_type": "code",
   "execution_count": 5,
   "metadata": {},
   "outputs": [
    {
     "data": {
      "text/plain": [
       "53"
      ]
     },
     "execution_count": 5,
     "metadata": {},
     "output_type": "execute_result"
    }
   ],
   "source": [
    "n = 53"
   ]
  },
  {
   "cell_type": "code",
   "execution_count": 6,
   "metadata": {},
   "outputs": [
    {
     "data": {
      "text/plain": [
       "-1925.615111140547"
      ]
     },
     "execution_count": 6,
     "metadata": {},
     "output_type": "execute_result"
    }
   ],
   "source": [
    "loglikelihood(θ_syn, data, n)"
   ]
  },
  {
   "cell_type": "code",
   "execution_count": 7,
   "metadata": {},
   "outputs": [],
   "source": [
    "using Random\n",
    "\n",
    "fit = vcat(trues(7),falses(2),trues(2));\n",
    "x0 = vcat([0.1, 15., -0.1, 20., 0.5, 0.2, 0.008,0.,0.], [0.,0.01])\n",
    "lb=vcat([0., 8., -5., 0.,   0.,  0.01, 0.005, -30., -30.], [-5., 0.])\n",
    "ub=vcat([2., 30., 5., 100., 2.5, 1.2,  1.,     30., 30.], [5., 1.]);"
   ]
  },
  {
   "cell_type": "code",
   "execution_count": 8,
   "metadata": {},
   "outputs": [
    {
     "data": {
      "text/plain": [
       "fit_x0 (generic function with 1 method)"
      ]
     },
     "execution_count": 8,
     "metadata": {},
     "output_type": "execute_result"
    }
   ],
   "source": [
    "using Random\n",
    "\n",
    "fit = vcat(trues(7),falses(2),trues(2));\n",
    "x0 = vcat([0.1, 15., -0.1, 20., 0.5, 0.2, 0.008,0.,0.], [0.,0.01])\n",
    "lb=vcat([0., 8., -5., 0.,   0.,  0.01, 0.005, -30., -30.], [-5., 0.])\n",
    "ub=vcat([2., 30., 5., 100., 2.5, 1.2,  1.,     30., 30.], [5., 1.]);\n",
    "\n",
    "function fit_x0(rng, fit, x0, lb, ub, data, n)\n",
    "\n",
    "    Random.seed!(rng)\n",
    "    x00 = lb + (ub - lb) .* rand(length(x0))\n",
    "    x00[2] = 15.\n",
    "    x00[8:9] .= 0.;\n",
    "\n",
    "    options = choiceoptions(x0=x00, fit=fit, \n",
    "        lb=vcat([0.,  8., -5., 0.,   0.,  0.01, 0.005, -30., -30.], [-5., 0.]),\n",
    "        ub=vcat([30., 32., 5., 200., 5.,  1.2,  1.,     30.,  30.],  [5., 1.]))\n",
    "\n",
    "    model, output = optimize(data, options, n; f_tol=1e-9, extended_trace=true, show_trace=false, scaled=false)\n",
    "    \n",
    "end"
   ]
  },
  {
   "cell_type": "code",
   "execution_count": 9,
   "metadata": {
    "collapsed": true
   },
   "outputs": [
    {
     "name": "stdout",
     "output_type": "stream",
     "text": [
      "optimization complete. converged: true \n",
      "\n",
      "optimization complete. converged: true \n",
      "\n",
      "optimization complete. converged: true \n",
      "\n",
      "optimization complete. converged: true \n",
      "\n"
     ]
    },
    {
     "data": {
      "text/plain": [
       "4-element Array{Array{Float64,2},1}:\n",
       " [0.47206669132409385 0.46231316926969923 … 29.999998214791518 29.999999210652913; 15.0 14.992644604902193 … 8.750570233733272 8.750570238839684; … ; 4.8666636689879965 4.866448807407566 … 0.5666036809825479 0.5666036809825479; 0.5557510873245723 0.5557379715813772 … 0.5041764931664574 0.5041764931664574]     \n",
       " [0.7335928248798487 0.7335042791671761 … 29.999998927639083 29.999999640475206; 15.0 14.99970759683094 … 8.974316792347267 8.97431678902884; … ; 1.8956654998062161 1.8956607811378094 … 0.04964622653003558 0.04964622653003558; 0.14383562117576143 0.14398973064507073 … 0.49997923541946987 0.49997923541946987]  \n",
       " [1.623396809991723 1.623306896842189 … 29.999998789780086 29.999999440444384; 15.0 14.999995264571576 … 8.749557380110218 8.74955739652881; … ; 0.572251384524507 0.5722513205638353 … -7.897671180493442e-5 -7.897671180493442e-5; 0.4644219211852372 0.464422315630559 … 0.49999968190646626 0.49999968190646626]   \n",
       " [1.360158471871482 1.3600432908874014 … 29.999999825042952 29.99999993575487; 15.0 14.999994886241364 … 8.749503878157023 8.74950388143397; … ; 2.3238037955842117 2.323803350462045 … -0.0017861204785941057 -0.0017861204785941057; 0.3888589512567495 0.3888607070579907 … 0.49999819888303615 0.49999819888303615]"
      ]
     },
     "execution_count": 9,
     "metadata": {},
     "output_type": "execute_result"
    }
   ],
   "source": [
    "output = map(rng-> fit_x0(rng, fit, x0, lb, ub, data, n), 1:4)\n",
    "traces = map(y-> hcat(map(x-> x.metadata[\"x\"], y[2].trace)...), output)"
   ]
  },
  {
   "cell_type": "code",
   "execution_count": null,
   "metadata": {},
   "outputs": [],
   "source": []
  },
  {
   "cell_type": "code",
   "execution_count": 10,
   "metadata": {},
   "outputs": [
    {
     "ename": "PyCall.PyError",
     "evalue": "PyError ($(Expr(:escape, :(ccall(#= /usr/people/briandd/.julia/packages/PyCall/ttONZ/src/pyfncall.jl:44 =# @pysym(:PyObject_Call), PyPtr, (PyPtr, PyPtr, PyPtr), o, pyargsptr, kw))))) <class 'ValueError'>\nValueError('x and y can be no greater than 2-D, but have shapes (1,) and (1, 9, 178)')\n  File \"/usr/people/briandd/.julia/conda/3/lib/python3.7/site-packages/matplotlib/axes/_axes.py\", line 1666, in plot\n    lines = [*self._get_lines(*args, data=data, **kwargs)]\n  File \"/usr/people/briandd/.julia/conda/3/lib/python3.7/site-packages/matplotlib/axes/_base.py\", line 225, in __call__\n    yield from self._plot_args(this, kwargs)\n  File \"/usr/people/briandd/.julia/conda/3/lib/python3.7/site-packages/matplotlib/axes/_base.py\", line 391, in _plot_args\n    x, y = self._xy_from_xy(x, y)\n  File \"/usr/people/briandd/.julia/conda/3/lib/python3.7/site-packages/matplotlib/axes/_base.py\", line 273, in _xy_from_xy\n    \"shapes {} and {}\".format(x.shape, y.shape))\n",
     "output_type": "error",
     "traceback": [
      "PyError ($(Expr(:escape, :(ccall(#= /usr/people/briandd/.julia/packages/PyCall/ttONZ/src/pyfncall.jl:44 =# @pysym(:PyObject_Call), PyPtr, (PyPtr, PyPtr, PyPtr), o, pyargsptr, kw))))) <class 'ValueError'>\nValueError('x and y can be no greater than 2-D, but have shapes (1,) and (1, 9, 178)')\n  File \"/usr/people/briandd/.julia/conda/3/lib/python3.7/site-packages/matplotlib/axes/_axes.py\", line 1666, in plot\n    lines = [*self._get_lines(*args, data=data, **kwargs)]\n  File \"/usr/people/briandd/.julia/conda/3/lib/python3.7/site-packages/matplotlib/axes/_base.py\", line 225, in __call__\n    yield from self._plot_args(this, kwargs)\n  File \"/usr/people/briandd/.julia/conda/3/lib/python3.7/site-packages/matplotlib/axes/_base.py\", line 391, in _plot_args\n    x, y = self._xy_from_xy(x, y)\n  File \"/usr/people/briandd/.julia/conda/3/lib/python3.7/site-packages/matplotlib/axes/_base.py\", line 273, in _xy_from_xy\n    \"shapes {} and {}\".format(x.shape, y.shape))\n",
      "",
      "Stacktrace:",
      " [1] pyerr_check at /usr/people/briandd/.julia/packages/PyCall/ttONZ/src/exception.jl:60 [inlined]",
      " [2] pyerr_check at /usr/people/briandd/.julia/packages/PyCall/ttONZ/src/exception.jl:64 [inlined]",
      " [3] macro expansion at /usr/people/briandd/.julia/packages/PyCall/ttONZ/src/exception.jl:84 [inlined]",
      " [4] __pycall!(::PyCall.PyObject, ::Ptr{PyCall.PyObject_struct}, ::PyCall.PyObject, ::Ptr{Nothing}) at /usr/people/briandd/.julia/packages/PyCall/ttONZ/src/pyfncall.jl:44",
      " [5] _pycall!(::PyCall.PyObject, ::PyCall.PyObject, ::Tuple{Array{Array{Float64,2},1}}, ::Int64, ::Ptr{Nothing}) at /usr/people/briandd/.julia/packages/PyCall/ttONZ/src/pyfncall.jl:29",
      " [6] #call#111 at /usr/people/briandd/.julia/packages/PyCall/ttONZ/src/pyfncall.jl:11 [inlined]",
      " [7] (::PyCall.PyObject)(::Array{Array{Float64,2},1}) at /usr/people/briandd/.julia/packages/PyCall/ttONZ/src/pyfncall.jl:89",
      " [8] top-level scope at ./In[10]:10"
     ]
    }
   ],
   "source": [
    "using PyPlot\n",
    "\n",
    "num_rows, num_cols = 3,3\n",
    "fig, ax = subplots(num_rows, num_cols, figsize=(9,9))\n",
    "name = [\"σ2_i\", \"B\", \"λ\", \"σ2_a\", \"σ2_s\", \"ϕ\", \"τ_ϕ\", \"bias\", \"lapse\"]\n",
    "\n",
    "for i in 1:9\n",
    "                  \n",
    "    map(x-> ax[i].plot(x[i,:]), traces)\n",
    "    ax[i].set_title(name[i])\n",
    "end\n",
    "\n",
    "tight_layout() "
   ]
  },
  {
   "cell_type": "code",
   "execution_count": null,
   "metadata": {},
   "outputs": [],
   "source": []
  }
 ],
 "metadata": {
  "kernelspec": {
   "display_name": "Julia 1.2.0",
   "language": "julia",
   "name": "julia-1.2"
  },
  "language_info": {
   "file_extension": ".jl",
   "mimetype": "application/julia",
   "name": "julia",
   "version": "1.2.0"
  }
 },
 "nbformat": 4,
 "nbformat_minor": 2
}
