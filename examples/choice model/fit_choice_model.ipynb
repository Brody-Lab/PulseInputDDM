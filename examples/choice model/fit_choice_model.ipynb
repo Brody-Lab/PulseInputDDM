{
 "cells": [
  {
   "cell_type": "code",
   "execution_count": 1,
   "metadata": {},
   "outputs": [],
   "source": [
    "# # Loading data and fitting a choice model\n",
    "\n",
    "# The package expects your data to live in a single .mat file which should contain a struct called `rawdata`. Each element of `rawdata` should have data for one behavioral trial and `rawdata` should contain the following fields with the specified structure:\n",
    "\n",
    "# - `rawdata.leftbups`: row-vector containing the relative timing, in seconds, of left clicks on an individual trial. 0 seconds is the start of the click stimulus.\n",
    "# - `rawdata.rightbups`: row-vector containing the relative timing in seconds (origin at 0 sec) of right clicks on an individual trial. 0 seconds is the start of the click stimulus.\n",
    "# - `rawdata.T`: the duration of the trial, in seconds. The beginning of a trial is defined as the start of the click stimulus. The end of a trial is defined based on the behavioral event “cpoke_end”. This was the Hanks convention.\n",
    "# - `rawdata.pokedR`: `Bool` representing the animal choice (1 = right).\n",
    "\n",
    "# ## Fitting the model\n",
    "\n",
    "# Once your data is correctly formatted and you have the package added in julia, you are ready to fit the model. You need to write a slurm script to use spock's resources and a .jl file to load the data and fit the model. See examples of each below. These files are also located in the package in the `examples` directory.\n",
    "\n",
    "# ### Example slurm script\n",
    "\n",
    "# This will start a job called `fit_choice_model`. Output will be written to a log file called `fit_choice_model.out`. This will run on the `Brody` partition of spock for 12 hours, using 44 cores and 64 GB of memory. You'll notice that we load the julia module (like we did when we added the package) and then we call julia (`-p 44` uses the 44 cores) and ask it to run the .jl file.\n",
    "\n",
    "# ```\n",
    "# #!/usr/bin/env bash\n",
    "#\n",
    "# #SBATCH -J 'fit_choice_model'\n",
    "# #SBATCH -o ../logs/fit_choice_model.out\n",
    "# #SBATCH -p Brody\n",
    "# #SBATCH --time=12:00:00\n",
    "# #SBATCH --mem=64000\n",
    "# #SBATCH -c 44\n",
    "#\n",
    "# module load julia/1.0.0\n",
    "# julia -p 44 ./fit_choice_model.jl\n",
    "# ```"
   ]
  },
  {
   "cell_type": "code",
   "execution_count": 2,
   "metadata": {},
   "outputs": [],
   "source": [
    "# ### Example .jl file\n",
    "# Blah blah blah\n",
    "\n",
    "using PulseInputDDM, Flatten"
   ]
  },
  {
   "cell_type": "code",
   "execution_count": 3,
   "metadata": {},
   "outputs": [],
   "source": [
    "# ### Load some data\n",
    "# Blah blah blah\n",
    "\n",
    "data = load_choice_data(\"../choice model/example_matfile.mat\");"
   ]
  },
  {
   "cell_type": "code",
   "execution_count": 4,
   "metadata": {},
   "outputs": [
    {
     "data": {
      "text/plain": [
       "choiceoptions\n",
       "  fit: Array{Bool}((9,)) Bool[1, 1, 1, 1, 1, 1, 1, 1, 1]\n",
       "  lb: Array{Float64}((9,)) [0.0, 8.0, -5.0, 0.0, 0.0, 0.01, 0.005, -30.0, 0.0]\n",
       "  ub: Array{Float64}((9,)) [2.0, 30.0, 5.0, 100.0, 2.5, 1.2, 1.0, 30.0, 1.0]\n"
      ]
     },
     "execution_count": 4,
     "metadata": {},
     "output_type": "execute_result"
    }
   ],
   "source": [
    "# ### Set options for optimization\n",
    "# Blah blah blah\n",
    "\n",
    "n = 53\n",
    "\n",
    "options = choiceoptions(fit = vcat(trues(9)),\n",
    "    lb = vcat([0., 8., -5., 0., 0., 0.01, 0.005], [-30, 0.]),\n",
    "    ub = vcat([2., 30., 5., 100., 2.5, 1.2, 1.], [30, 1.]))"
   ]
  },
  {
   "cell_type": "code",
   "execution_count": 8,
   "metadata": {},
   "outputs": [
    {
     "data": {
      "text/plain": [
       "9-element Vector{Float64}:\n",
       "  0.1\n",
       " 15.0\n",
       " -0.1\n",
       " 20.0\n",
       "  0.5\n",
       "  0.8\n",
       "  0.008\n",
       "  0.0\n",
       "  0.01"
      ]
     },
     "execution_count": 8,
     "metadata": {},
     "output_type": "execute_result"
    }
   ],
   "source": [
    "x0 = vcat([0.1, 15., -0.1, 20., 0.5, 0.8, 0.008], [0.,0.01])"
   ]
  },
  {
   "cell_type": "code",
   "execution_count": 6,
   "metadata": {},
   "outputs": [
    {
     "data": {
      "text/plain": [
       "(θchoice{θz{Float64}, Float64}\n",
       "  θz: θz{Float64}\n",
       "  bias: Float64 0.6814442212446054\n",
       "  lapse: Float64 0.5003949673659975\n",
       ", choiceoptions\n",
       "  fit: Array{Bool}((9,)) Bool[1, 1, 1, 1, 1, 1, 1, 1, 1]\n",
       "  lb: Array{Float64}((9,)) [0.0, 8.0, -5.0, 0.0, 0.0, 0.01, 0.005, -30.0, 0.0]\n",
       "  ub: Array{Float64}((9,)) [2.0, 30.0, 5.0, 100.0, 2.5, 1.2, 1.0, 30.0, 1.0]\n",
       ")"
      ]
     },
     "execution_count": 6,
     "metadata": {},
     "output_type": "execute_result"
    }
   ],
   "source": [
    "# ### Load some data\n",
    "# Blah blah blah\n",
    "save_file = \"../choice model/example_results.mat\"\n",
    "\n",
    "#if you've already ran the optimization once and want to restart from where you stoped, this will reload those parameters\n",
    "if isfile(save_file)\n",
    "    θ, options = reload_choice_model(save_file)\n",
    "else\n",
    "    θ = Flatten.reconstruct(θchoice(), x0)\n",
    "end"
   ]
  },
  {
   "cell_type": "code",
   "execution_count": 10,
   "metadata": {},
   "outputs": [],
   "source": [
    "model = choiceDDM(θ=θ, data=data, n=n);"
   ]
  },
  {
   "cell_type": "code",
   "execution_count": 11,
   "metadata": {},
   "outputs": [
    {
     "name": "stdout",
     "output_type": "stream",
     "text": [
      "Fminbox\n",
      "-------\n",
      "Initial mu = 0.000239451\n",
      "\n",
      "Fminbox iteration 1\n",
      "-------------------\n",
      "Calling inner optimizer with mu = 0.000239451\n",
      "\n",
      "(numbers below include barrier contribution)\n",
      "Iter     Function value   Gradient norm \n",
      "     0     1.751876e+01     9.826801e+01\n",
      " * time: 0.01704096794128418\n",
      "\n",
      "Exiting inner optimizer with x = [0.12440028155538478, 14.999905238456675, -0.12704778468241013, 19.999452481025894, 0.6996703345624105, 1.1398211855275555, 0.020373338843095307, 0.6570122273138738, 0.47641135369147464]\n",
      "Current distance to box: 0.0153733\n",
      "Decreasing barrier term μ.\n",
      "\n"
     ]
    },
    {
     "data": {
      "text/plain": [
       "(choiceDDM{θchoice{θz{Float64}, Float64}, Vector{PulseInputDDM.choicedata{PulseInputDDM.choiceinputs{PulseInputDDM.clicks, PulseInputDDM.binned_clicks}}}, θprior{Float64}}\n",
       "  θ: θchoice{θz{Float64}, Float64}\n",
       "  data: Array{PulseInputDDM.choicedata{PulseInputDDM.choiceinputs{PulseInputDDM.clicks, PulseInputDDM.binned_clicks}}}((10,))\n",
       "  n: Int64 53\n",
       "  cross: Bool false\n",
       "  θprior: θprior{Float64}\n",
       ",  * Status: failure (reached maximum number of iterations)\n",
       "\n",
       " * Candidate solution\n",
       "    Final objective value:     1.486091e+01\n",
       "\n",
       " * Found with\n",
       "    Algorithm:     Fminbox with BFGS\n",
       "\n",
       " * Convergence measures\n",
       "    |x - x'|               = 8.98e-01 ≰ 1.0e-10\n",
       "    |x - x'|/|x'|          = 3.58e-02 ≰ 0.0e+00\n",
       "    |f(x) - f(x')|         = 0.00e+00 ≤ 0.0e+00\n",
       "    |f(x) - f(x')|/|f(x')| = 0.00e+00 ≤ 1.0e-09\n",
       "    |g(x)|                 = 4.76e-01 ≰ 1.0e-03\n",
       "\n",
       " * Work counters\n",
       "    Seconds run:   9  (vs limit 170000)\n",
       "    Iterations:    1\n",
       "    f(x) calls:    6\n",
       "    ∇f(x) calls:   6\n",
       ")"
      ]
     },
     "execution_count": 11,
     "metadata": {},
     "output_type": "execute_result"
    }
   ],
   "source": [
    "# ### Optimize stuff\n",
    "# Blah blah blah\n",
    "\n",
    "model, = optimize(model, options; iterations=5, outer_iterations=1)"
   ]
  },
  {
   "cell_type": "code",
   "execution_count": 8,
   "metadata": {},
   "outputs": [
    {
     "name": "stderr",
     "output_type": "stream",
     "text": [
      "┌ Warning: Hessian is not positive definite. Approximated by closest PSD matrix.\n",
      "│             ||ϵ||/||H|| is 8.46979164769424\n",
      "└ @ pulse_input_DDM /usr/people/briandd/Projects/pulse_input_DDM/src/base_model.jl:19\n"
     ]
    }
   ],
   "source": [
    "# ### Compute Hessian and the confidence interavls\n",
    "# Blah blah blah\n",
    "\n",
    "H = Hessian(model)\n",
    "CI, = CIs(H);"
   ]
  },
  {
   "cell_type": "code",
   "execution_count": 10,
   "metadata": {},
   "outputs": [],
   "source": [
    "# ### Save results\n",
    "# Blah blah blah\n",
    "\n",
    "save_choice_model(save_file, model, options, CI)"
   ]
  },
  {
   "cell_type": "code",
   "execution_count": 10,
   "metadata": {},
   "outputs": [],
   "source": [
    "# ### Getting help\n",
    "# To get more details about how any function in this package works, in julia you can type `?` and then the name of the function. Documentation will display in the REPL."
   ]
  }
 ],
 "metadata": {
  "kernelspec": {
   "display_name": "Julia 1.8.2",
   "language": "julia",
   "name": "julia-1.8"
  },
  "language_info": {
   "file_extension": ".jl",
   "mimetype": "application/julia",
   "name": "julia",
   "version": "1.8.2"
  }
 },
 "nbformat": 4,
 "nbformat_minor": 2
}
