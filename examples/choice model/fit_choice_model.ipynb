{
 "cells": [
  {
   "cell_type": "code",
   "execution_count": 1,
   "metadata": {},
   "outputs": [],
   "source": [
    "# # Loading data and fitting a choice model\n",
    "\n",
    "# The package expects your data to live in a single .mat file which should contain a struct called `rawdata`. Each element of `rawdata` should have data for one behavioral trial and `rawdata` should contain the following fields with the specified structure:\n",
    "\n",
    "# - `rawdata.leftbups`: row-vector containing the relative timing, in seconds, of left clicks on an individual trial. 0 seconds is the start of the click stimulus.\n",
    "# - `rawdata.rightbups`: row-vector containing the relative timing in seconds (origin at 0 sec) of right clicks on an individual trial. 0 seconds is the start of the click stimulus.\n",
    "# - `rawdata.T`: the duration of the trial, in seconds. The beginning of a trial is defined as the start of the click stimulus. The end of a trial is defined based on the behavioral event “cpoke_end”. This was the Hanks convention.\n",
    "# - `rawdata.pokedR`: `Bool` representing the animal choice (1 = right).\n",
    "# - `rawdata.sessbnd`: `Bool` indicating the first trial of every session\n",
    "\n",
    "# ## Fitting the model\n",
    "\n",
    "# Once your data is correctly formatted and you have the package added in julia, you are ready to fit the model. You need to write a slurm script to use spock's resources and a .jl file to load the data and fit the model. See examples of each below. These files are also located in the package in the `examples` directory.\n",
    "\n",
    "# ### Example slurm script\n",
    "\n",
    "# This will start a job called `fit_choice_model`. Output will be written to a log file called `fit_choice_model.out`. This will run on the `Brody` partition of spock for 12 hours, using 44 cores and 64 GB of memory. You'll notice that we load the julia module (like we did when we added the package) and then we call julia (`-p 44` uses the 44 cores) and ask it to run the .jl file.\n",
    "\n",
    "# ```\n",
    "# #!/usr/bin/env bash\n",
    "#\n",
    "# #SBATCH -J 'fit_choice_model'\n",
    "# #SBATCH -o ../logs/fit_choice_model.out\n",
    "# #SBATCH -p Brody\n",
    "# #SBATCH --time=12:00:00\n",
    "# #SBATCH --mem=64000\n",
    "# #SBATCH -c 44\n",
    "#\n",
    "# module load julia/1.0.0\n",
    "# julia -p 44 ./fit_choice_model.jl\n",
    "# ```"
   ]
  },
  {
   "cell_type": "code",
   "execution_count": 2,
   "metadata": {},
   "outputs": [],
   "source": [
    "# ### Example .jl file\n",
    "# Blah blah blah\n",
    "\n",
    "using pulse_input_DDM, Flatten"
   ]
  },
  {
   "cell_type": "code",
   "execution_count": 5,
   "metadata": {},
   "outputs": [
    {
     "data": {
      "text/plain": [
       "Dict{String,Any} with 5 entries:\n",
       "  \"rightbups\" => Any[[0.0; 0.000392216; … ; 0.350424; 0.374483] [0.0; 0.0187241…\n",
       "  \"T\"         => Any[0.39 0.48 … 0.41 0.99]\n",
       "  \"leftbups\"  => Any[[0.0; 0.0193924; … ; 0.383063; 0.383503] [0.0; 0.0276688; …\n",
       "  \"pokedR\"    => Any[false false … false true]\n",
       "  \"sessbnd\"   => Any[true false … false false]"
      ]
     },
     "execution_count": 5,
     "metadata": {},
     "output_type": "execute_result"
    }
   ],
   "source": [
    "using MAT\n",
    "data = read(matopen(\"../choice model/example_matfile.mat\"), \"rawdata\")\n"
   ]
  },
  {
   "cell_type": "code",
   "execution_count": 8,
   "metadata": {},
   "outputs": [
    {
     "data": {
      "text/plain": [
       "10-element BitArray{1}:\n",
       " false\n",
       " false\n",
       " false\n",
       " false\n",
       " false\n",
       " false\n",
       " false\n",
       " false\n",
       " false\n",
       "  true"
      ]
     },
     "execution_count": 8,
     "metadata": {},
     "output_type": "execute_result"
    }
   ],
   "source": [
    "haskey(data, \"sessbnd\")\n",
    "T = vec(data[\"T\"])\n",
    "    L = vec(map(x-> vec(collect(x)), data[collect(keys(data))[occursin.(\"left\", collect(keys(data)))][1]]))\n",
    "    R = vec(map(x-> vec(collect(x)), data[collect(keys(data))[occursin.(\"right\", collect(keys(data)))][1]]))\n",
    "    choices = vec(convert(BitArray, data[\"pokedR\"]))"
   ]
  },
  {
   "cell_type": "code",
   "execution_count": 9,
   "metadata": {},
   "outputs": [
    {
     "data": {
      "text/plain": [
       "10"
      ]
     },
     "execution_count": 9,
     "metadata": {},
     "output_type": "execute_result"
    }
   ],
   "source": [
    "length(choices)"
   ]
  },
  {
   "cell_type": "code",
   "execution_count": 3,
   "metadata": {},
   "outputs": [],
   "source": [
    "# ### Load some data\n",
    "# Blah blah blah\n",
    "\n",
    "data = load_choice_data(\"../choice model/example_matfile.mat\");"
   ]
  },
  {
   "cell_type": "code",
   "execution_count": 4,
   "metadata": {},
   "outputs": [
    {
     "data": {
      "text/plain": [
       "(choiceoptions\n",
       "  fit: Array{Bool}((15,)) Bool[true, true, true, true, true, true, true, true, false, false, false, false, false, false, true]\n",
       "  lb: Array{Float64}((15,)) [0.0, 8.0, -5.0, 0.0, 0.0, 0.01, 0.005, 0.0, 0.0, 0.0, -2.5, -2.5, 0.0, 0.0, -30.0]\n",
       "  ub: Array{Float64}((15,)) [2.0, 30.0, 5.0, 100.0, 2.5, 1.2, 1.0, 1.0, 10.0, 20.0, 2.5, 2.5, 1.0, 1.0, 30.0]\n",
       ", [1.97759, 18.5116, 0.13746, 33.8513, 1.11076, 0.271462, 0.914436, 0.982399, 0.0, 0.0, 0.0, 0.0, 0.0, 0.0, 24.9219])"
      ]
     },
     "execution_count": 4,
     "metadata": {},
     "output_type": "execute_result"
    }
   ],
   "source": [
    "# ### Set options for optimization\n",
    "# Blah blah blah\n",
    "\n",
    "n = 53\n",
    "\n",
    "options, x0 = create_options_and_x0(modeltype=\"bing\")"
   ]
  },
  {
   "cell_type": "code",
   "execution_count": 6,
   "metadata": {},
   "outputs": [
    {
     "data": {
      "text/plain": [
       "θchoice{θz{Float64},Float64}\n",
       "  θz: θz{Float64}\n",
       "  bias: Float64 0.0\n",
       "  lapse: Float64 0.01\n"
      ]
     },
     "execution_count": 6,
     "metadata": {},
     "output_type": "execute_result"
    }
   ],
   "source": [
    "# ### Load some data\n",
    "# Blah blah blah\n",
    "save_file = \"../choice model/example_results.mat\"\n",
    "\n",
    "#if you've already ran the optimization once and want to restart from where you stoped, this will reload those parameters\n",
    "if isfile(save_file)\n",
    "    θ, options = reload_choice_model(save_file)\n",
    "else\n",
    "    θ = Flatten.reconstruct(θchoice(), x0)\n",
    "end"
   ]
  },
  {
   "cell_type": "code",
   "execution_count": 7,
   "metadata": {},
   "outputs": [
    {
     "name": "stdout",
     "output_type": "stream",
     "text": [
      "Fminbox\n",
      "-------\n",
      "Initial mu = 0.000239451\n",
      "\n",
      "Fminbox iteration 1\n",
      "-------------------\n",
      "Calling inner optimizer with mu = 0.000239451\n",
      "\n",
      "(numbers below include barrier contribution)\n",
      "Iter     Function value   Gradient norm \n",
      "     0     7.615269e+00     9.828961e+01\n",
      " * time: 5.412101745605469e-5\n",
      "\n",
      "Exiting inner optimizer with x = [0.12345655322552201, 14.998955306903198, -0.13726257383761056, 19.99805424621316, 0.6951082089315415, 1.1588961674105702, 0.0063088058501644005, 0.6814442212446054, 0.5003949673659975]\n",
      "Current distance to box: 0.00130881\n",
      "Decreasing barrier term μ.\n",
      "\n"
     ]
    },
    {
     "data": {
      "text/plain": [
       "(choiceDDM{θchoice{θz{Float64},Float64},Array{pulse_input_DDM.choicedata{pulse_input_DDM.choiceinputs{pulse_input_DDM.clicks,pulse_input_DDM.binned_clicks}},1}}\n",
       "  θ: θchoice{θz{Float64},Float64}\n",
       "  data: Array{pulse_input_DDM.choicedata{pulse_input_DDM.choiceinputs{pulse_input_DDM.clicks,pulse_input_DDM.binned_clicks}}}((10,))\n",
       "  n: Int64 53\n",
       "  cross: Bool false\n",
       ",  * Status: failure (reached maximum number of iterations)\n",
       "\n",
       " * Candidate solution\n",
       "    Minimizer: [1.23e-01, 1.50e+01, -1.37e-01,  ...]\n",
       "    Minimum:   4.955724e+00\n",
       "\n",
       " * Found with\n",
       "    Algorithm:     Fminbox with BFGS\n",
       "    Initial Point: [1.00e-01, 1.50e+01, -1.00e-01,  ...]\n",
       "\n",
       " * Convergence measures\n",
       "    |x - x'|               = 9.35e-01 ≰ 1.0e-10\n",
       "    |x - x'|/|x'|          = 3.73e-02 ≰ 0.0e+00\n",
       "    |f(x) - f(x')|         = 2.66e+00 ≰ 0.0e+00\n",
       "    |f(x) - f(x')|/|f(x')| = 5.37e-01 ≰ 1.0e-09\n",
       "    |g(x)|                 = 2.03e+00 ≰ 1.0e-03\n",
       "\n",
       " * Work counters\n",
       "    Seconds run:   9  (vs limit 170000)\n",
       "    Iterations:    1\n",
       "    f(x) calls:    27\n",
       "    ∇f(x) calls:   6\n",
       ")"
      ]
     },
     "execution_count": 7,
     "metadata": {},
     "output_type": "execute_result"
    }
   ],
   "source": [
    "# ### Optimize stuff\n",
    "# Blah blah blah\n",
    "\n",
    "model, = optimize(θ, data, options; iterations=5, outer_iterations=1)"
   ]
  },
  {
   "cell_type": "code",
   "execution_count": 8,
   "metadata": {},
   "outputs": [
    {
     "name": "stderr",
     "output_type": "stream",
     "text": [
      "┌ Warning: Hessian is not positive definite. Approximated by closest PSD matrix.\n",
      "│             ||ϵ||/||H|| is 8.46979164769424\n",
      "└ @ pulse_input_DDM /usr/people/briandd/Projects/pulse_input_DDM/src/base_model.jl:19\n"
     ]
    }
   ],
   "source": [
    "# ### Compute Hessian and the confidence interavls\n",
    "# Blah blah blah\n",
    "\n",
    "H = Hessian(model)\n",
    "CI, = CIs(H);"
   ]
  },
  {
   "cell_type": "code",
   "execution_count": 10,
   "metadata": {},
   "outputs": [],
   "source": [
    "# ### Save results\n",
    "# Blah blah blah\n",
    "\n",
    "save_choice_model(save_file, model, options, CI)"
   ]
  },
  {
   "cell_type": "code",
   "execution_count": 10,
   "metadata": {},
   "outputs": [],
   "source": [
    "# ### Getting help\n",
    "# To get more details about how any function in this package works, in julia you can type `?` and then the name of the function. Documentation will display in the REPL."
   ]
  }
 ],
 "metadata": {
  "kernelspec": {
   "display_name": "Julia 1.0.5",
   "language": "julia",
   "name": "julia-1.0"
  },
  "language_info": {
   "file_extension": ".jl",
   "mimetype": "application/julia",
   "name": "julia",
   "version": "1.0.5"
  }
 },
 "nbformat": 4,
 "nbformat_minor": 2
}
