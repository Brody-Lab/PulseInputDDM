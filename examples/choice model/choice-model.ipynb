{
 "cells": [
  {
   "attachments": {},
   "cell_type": "markdown",
   "metadata": {},
   "source": [
    "## This notebook walks through the basics of generating synthetic choice data and fitting the model to that data to recover the paramaters that generated it"
   ]
  },
  {
   "attachments": {},
   "cell_type": "markdown",
   "metadata": {},
   "source": [
    "Fitting these models to data to choice data alone can be computational expensive. We fit the model below using 44 cpus.\n",
    "\n",
    "`using` is the julia version of python's `import`, i.e. in incorporates the exported functions of a module into the current namespace. `Distributed` is a julia module for performing parallel computing. `addprocs()` adds some workers, which can be called by a main process if there are calls to do things in parallel. `PulseInputDDM` parallelizes the computation of the log-likelhood across trials."
   ]
  },
  {
   "cell_type": "code",
   "execution_count": 1,
   "metadata": {},
   "outputs": [],
   "source": [
    "using Distributed\n",
    "addprocs(28);"
   ]
  },
  {
   "attachments": {},
   "cell_type": "markdown",
   "metadata": {
    "scrolled": true
   },
   "source": [
    "### Fitting a choice model.\n",
    "\n",
    "when `using` is called after workers have been made, i.e. above, then those modules are available on all the workers (i.e. any function called from those modules will be able to be executed on any worker)"
   ]
  },
  {
   "cell_type": "code",
   "execution_count": 2,
   "metadata": {},
   "outputs": [],
   "source": [
    "using PulseInputDDM, Flatten"
   ]
  },
  {
   "attachments": {},
   "cell_type": "markdown",
   "metadata": {},
   "source": [
    "### Generate some data\n",
    "\n",
    "Create an instance of the `θchoice` [composite type](https://docs.julialang.org/en/v1/manual/types/#Composite-Types) which contains the 9 parameters of a choice DDM model. "
   ]
  },
  {
   "cell_type": "code",
   "execution_count": 3,
   "metadata": {},
   "outputs": [],
   "source": [
    "using PyPlot"
   ]
  },
  {
   "cell_type": "code",
   "execution_count": 4,
   "metadata": {},
   "outputs": [
    {
     "data": {
      "image/png": "[encoded data removed]",
      "text/plain": [
       "Figure(PyObject <Figure size 640x480 with 1 Axes>)"
      ]
     },
     "metadata": {},
     "output_type": "display_data"
    }
   ],
   "source": [
    "plot(1:10)\n",
    "display(gcf())"
   ]
  },
  {
   "cell_type": "code",
   "execution_count": 5,
   "metadata": {},
   "outputs": [],
   "source": [
    "θ_syn = θchoice(θz=θz(σ2_i = 1., B = 13., λ = -0.5, σ2_a = 10., σ2_s = 1.0,\n",
    "    ϕ = 0.4, τ_ϕ = 0.02), bias=0.1, lapse=0.1);"
   ]
  },
  {
   "cell_type": "code",
   "execution_count": 6,
   "metadata": {},
   "outputs": [],
   "source": [
    "xgen = collect(Flatten.flatten(θ_syn));"
   ]
  },
  {
   "attachments": {},
   "cell_type": "markdown",
   "metadata": {},
   "source": [
    "Generate 20K trials of the synthetic data using those parameters. change `rng` to get a different set with the same parameters. `dt` specifies the temporal binning of the data. `1e-2` has worked well."
   ]
  },
  {
   "cell_type": "code",
   "execution_count": 7,
   "metadata": {},
   "outputs": [],
   "source": [
    "_, data = synthetic_data(;θ=θ_syn, ntrials=8_000, rng=2, dt=1e-2);"
   ]
  },
  {
   "attachments": {},
   "cell_type": "markdown",
   "metadata": {},
   "source": [
    "`PulseInputDDM` computes the log-likelihood by propogating mass of the latent distribution in time. This is done numerically by dividing the distribution up into little temporal and spatial bins. `n` is the number of spatials bins to use. `n=53` seems to work well."
   ]
  },
  {
   "cell_type": "code",
   "execution_count": 10,
   "metadata": {},
   "outputs": [
    {
     "data": {
      "text/plain": [
       "53"
      ]
     },
     "metadata": {},
     "output_type": "display_data"
    }
   ],
   "source": [
    "n = 53"
   ]
  },
  {
   "attachments": {},
   "cell_type": "markdown",
   "metadata": {},
   "source": [
    "Create an instance of the `choiceDDM` composite type which contains the parameters and the data of a choice DDM model. "
   ]
  },
  {
   "cell_type": "code",
   "execution_count": 11,
   "metadata": {},
   "outputs": [],
   "source": [
    "model = choiceDDM(θ=θ_syn, data=data, n=n);"
   ]
  },
  {
   "attachments": {},
   "cell_type": "markdown",
   "metadata": {},
   "source": [
    "to see the docstring for `choiceDDM` type `?`"
   ]
  },
  {
   "cell_type": "code",
   "execution_count": 12,
   "metadata": {},
   "outputs": [
    {
     "data": {
      "text/latex": [
       "\\begin{verbatim}\n",
       "choiceDDM(θ, data, n, cross)\n",
       "\\end{verbatim}\n",
       "Fields:\n",
       "\n",
       "\\begin{itemize}\n",
       "\\item \\texttt{θ}: a instance of the module-defined class \\texttt{θchoice} that contains all of the model parameters for a \\texttt{choiceDDM}\n",
       "\n",
       "\n",
       "\\item \\texttt{data}: an \\texttt{array} where each entry is the module-defined class \\texttt{choicedata}, which contains all of the data (inputs and choices).\n",
       "\n",
       "\n",
       "\\item \\texttt{n}: number of spatial bins to use (defaults to 53).\n",
       "\n",
       "\n",
       "\\item \\texttt{cross}: whether or not to use cross click adaptation (defaults to false).\n",
       "\n",
       "\\end{itemize}\n",
       "Example:\n",
       "\n",
       "\\begin{verbatim}\n",
       "ntrials, dt, centered, n  = 1, 1e-2, false, 53\n",
       "θ = θchoice()\n",
       "_, data = synthetic_data(n ;θ=θ, ntrials=ntrials, rng=1, dt=dt);\n",
       "choiceDDM(θ=θ, data=data, n=n)\n",
       "\\end{verbatim}\n"
      ],
      "text/markdown": [
       "```\n",
       "choiceDDM(θ, data, n, cross)\n",
       "```\n",
       "\n",
       "Fields:\n",
       "\n",
       "  * `θ`: a instance of the module-defined class `θchoice` that contains all of the model parameters for a `choiceDDM`\n",
       "  * `data`: an `array` where each entry is the module-defined class `choicedata`, which contains all of the data (inputs and choices).\n",
       "  * `n`: number of spatial bins to use (defaults to 53).\n",
       "  * `cross`: whether or not to use cross click adaptation (defaults to false).\n",
       "\n",
       "Example:\n",
       "\n",
       "```julia\n",
       "ntrials, dt, centered, n  = 1, 1e-2, false, 53\n",
       "θ = θchoice()\n",
       "_, data = synthetic_data(n ;θ=θ, ntrials=ntrials, rng=1, dt=dt);\n",
       "choiceDDM(θ=θ, data=data, n=n)\n",
       "```\n"
      ],
      "text/plain": [
       "\u001b[36m  choiceDDM(θ, data, n, cross)\u001b[39m\n",
       "\n",
       "  Fields:\n",
       "\n",
       "    •  \u001b[36mθ\u001b[39m: a instance of the module-defined class \u001b[36mθchoice\u001b[39m that contains\n",
       "       all of the model parameters for a \u001b[36mchoiceDDM\u001b[39m\n",
       "\n",
       "    •  \u001b[36mdata\u001b[39m: an \u001b[36marray\u001b[39m where each entry is the module-defined class\n",
       "       \u001b[36mchoicedata\u001b[39m, which contains all of the data (inputs and choices).\n",
       "\n",
       "    •  \u001b[36mn\u001b[39m: number of spatial bins to use (defaults to 53).\n",
       "\n",
       "    •  \u001b[36mcross\u001b[39m: whether or not to use cross click adaptation (defaults to\n",
       "       false).\n",
       "\n",
       "  Example:\n",
       "\n",
       "\u001b[36m  ntrials, dt, centered, n  = 1, 1e-2, false, 53\u001b[39m\n",
       "\u001b[36m  θ = θchoice()\u001b[39m\n",
       "\u001b[36m  _, data = synthetic_data(n ;θ=θ, ntrials=ntrials, rng=1, dt=dt);\u001b[39m\n",
       "\u001b[36m  choiceDDM(θ=θ, data=data, n=n)\u001b[39m"
      ]
     },
     "metadata": {},
     "output_type": "display_data"
    }
   ],
   "source": [
    "@doc choiceDDM"
   ]
  },
  {
   "attachments": {},
   "cell_type": "markdown",
   "metadata": {},
   "source": [
    "Compute the loglikelihood of the model under the generative parameters"
   ]
  },
  {
   "cell_type": "code",
   "execution_count": 13,
   "metadata": {},
   "outputs": [
    {
     "data": {
      "text/plain": [
       "-2969.9823448565194"
      ]
     },
     "metadata": {},
     "output_type": "display_data"
    }
   ],
   "source": [
    "loglikelihood(model)"
   ]
  },
  {
   "attachments": {},
   "cell_type": "markdown",
   "metadata": {},
   "source": [
    "random initial state"
   ]
  },
  {
   "cell_type": "code",
   "execution_count": 14,
   "metadata": {},
   "outputs": [],
   "source": [
    "x0 = vcat([0.1, 15., -0.1, 20., 0.5, 0.2, 0.008], [0.,0.01]);"
   ]
  },
  {
   "attachments": {},
   "cell_type": "markdown",
   "metadata": {},
   "source": [
    "use `Flatten.reconstruct` to place the intial state into the `θchoice()` type, with each variable going into the right place"
   ]
  },
  {
   "cell_type": "code",
   "execution_count": 15,
   "metadata": {},
   "outputs": [
    {
     "data": {
      "text/plain": [
       "θchoice{θz{Float64}, Float64}\n",
       "  θz: θz{Float64}\n",
       "  bias: Float64 0.0\n",
       "  lapse: Float64 0.01\n"
      ]
     },
     "metadata": {},
     "output_type": "display_data"
    }
   ],
   "source": [
    "θ = Flatten.reconstruct(θchoice(), x0)"
   ]
  },
  {
   "cell_type": "code",
   "execution_count": 16,
   "metadata": {},
   "outputs": [],
   "source": [
    "model = choiceDDM(θ=θ, data=data, n=n);"
   ]
  },
  {
   "attachments": {},
   "cell_type": "markdown",
   "metadata": {},
   "source": [
    "Compute the loglikelihood of the model under the initial parameters"
   ]
  },
  {
   "cell_type": "code",
   "execution_count": 17,
   "metadata": {},
   "outputs": [
    {
     "data": {
      "text/plain": [
       "-3473.4312908567326"
      ]
     },
     "metadata": {},
     "output_type": "display_data"
    }
   ],
   "source": [
    "loglikelihood(model)"
   ]
  },
  {
   "attachments": {},
   "cell_type": "markdown",
   "metadata": {},
   "source": [
    "Define bounds for each parameter for the optimization. Some of these are strict (i.e. variance > 0) and some are not (B < 100 seems reasonable, but B could of course be larger then 100.)"
   ]
  },
  {
   "cell_type": "code",
   "execution_count": 18,
   "metadata": {},
   "outputs": [],
   "source": [
    "lb = [0., 2.,  -5., 0.,   0.,  0., 0.005, -5.0, 0.0]\n",
    "ub = [30., 100., 5., 200., 10., 1.2,  1., 5.0, 1.0];"
   ]
  },
  {
   "attachments": {},
   "cell_type": "markdown",
   "metadata": {},
   "source": [
    "`fit` specifies which parameters should be learned. If they are not learned, they remain at their value from `x0`, the initial point of the optimization."
   ]
  },
  {
   "cell_type": "code",
   "execution_count": 19,
   "metadata": {},
   "outputs": [],
   "source": [
    "fit = vcat(trues(9));"
   ]
  },
  {
   "attachments": {},
   "cell_type": "markdown",
   "metadata": {},
   "source": [
    "Create an instance of the `choiceoptions` composite type, using `lb`, `ub`, and `fit`. `choiceoptions` specifies which parameters to fit, and the lower and upper bounds of the optimization."
   ]
  },
  {
   "cell_type": "code",
   "execution_count": 20,
   "metadata": {},
   "outputs": [
    {
     "data": {
      "text/plain": [
       "choiceoptions\n",
       "  fit: Array{Bool}((9,)) Bool[1, 1, 1, 1, 1, 1, 1, 1, 1]\n",
       "  lb: Array{Float64}((9,)) [0.0, 2.0, -5.0, 0.0, 0.0, 0.0, 0.005, -5.0, 0.0]\n",
       "  ub: Array{Float64}((9,)) [30.0, 100.0, 5.0, 200.0, 10.0, 1.2, 1.0, 5.0, 1.0]\n"
      ]
     },
     "metadata": {},
     "output_type": "display_data"
    }
   ],
   "source": [
    "options = choiceoptions(fit=fit, lb=lb, ub=ub)"
   ]
  },
  {
   "cell_type": "code",
   "execution_count": 21,
   "metadata": {},
   "outputs": [
    {
     "data": {
      "text/latex": [
       "\\begin{verbatim}\n",
       "choiceoptions(fit, lb, ub)\n",
       "\\end{verbatim}\n",
       "Fields:\n",
       "\n",
       "\\begin{itemize}\n",
       "\\item \\texttt{fit}: \\texttt{array} of \\texttt{Bool} for optimization for \\texttt{choiceDDM} model.\n",
       "\n",
       "\n",
       "\\item \\texttt{lb}: \\texttt{array} of lower bounds for optimization for \\texttt{choiceDDM} model.\n",
       "\n",
       "\n",
       "\\item \\texttt{ub}: \\texttt{array} of upper bounds for optimization for \\texttt{choiceDDM} model.\n",
       "\n",
       "\\end{itemize}\n"
      ],
      "text/markdown": [
       "```\n",
       "choiceoptions(fit, lb, ub)\n",
       "```\n",
       "\n",
       "Fields:\n",
       "\n",
       "  * `fit`: `array` of `Bool` for optimization for `choiceDDM` model.\n",
       "  * `lb`: `array` of lower bounds for optimization for `choiceDDM` model.\n",
       "  * `ub`: `array` of upper bounds for optimization for `choiceDDM` model.\n"
      ],
      "text/plain": [
       "\u001b[36m  choiceoptions(fit, lb, ub)\u001b[39m\n",
       "\n",
       "  Fields:\n",
       "\n",
       "    •  \u001b[36mfit\u001b[39m: \u001b[36marray\u001b[39m of \u001b[36mBool\u001b[39m for optimization for \u001b[36mchoiceDDM\u001b[39m model.\n",
       "\n",
       "    •  \u001b[36mlb\u001b[39m: \u001b[36marray\u001b[39m of lower bounds for optimization for \u001b[36mchoiceDDM\u001b[39m model.\n",
       "\n",
       "    •  \u001b[36mub\u001b[39m: \u001b[36marray\u001b[39m of upper bounds for optimization for \u001b[36mchoiceDDM\u001b[39m model."
      ]
     },
     "metadata": {},
     "output_type": "display_data"
    }
   ],
   "source": [
    "@doc choiceoptions"
   ]
  },
  {
   "attachments": {},
   "cell_type": "markdown",
   "metadata": {},
   "source": [
    "Define bounds for each parameter for the optimization. Some of these are strict (i.e. variance > 0) and some are not (B < 100 seems reasonable, but B could of course be larger then 100.)"
   ]
  },
  {
   "attachments": {},
   "cell_type": "markdown",
   "metadata": {},
   "source": [
    "### Optimize the model, using the options to define details of the optimization"
   ]
  },
  {
   "cell_type": "code",
   "execution_count": 22,
   "metadata": {},
   "outputs": [
    {
     "data": {
      "text/latex": [
       "\\begin{verbatim}\n",
       "optimize(x, ll, lb, ub)\n",
       "\\end{verbatim}\n",
       "Wrapper for executing an constrained optimization.\n",
       "\n",
       "Arguments:\n",
       "\n",
       "\\begin{itemize}\n",
       "\\item \\texttt{ll}: objective function. \n",
       "\n",
       "\n",
       "\\item \\texttt{x}: an \\texttt{array} of initial point\n",
       "\n",
       "\n",
       "\\item \\texttt{lb}: lower bounds. \\texttt{array} the same length as \\texttt{x}.\n",
       "\n",
       "\n",
       "\\item \\texttt{ub: upper bounds.}array\\texttt{the same length as}x`.\n",
       "\n",
       "\\end{itemize}\n",
       "\\begin{verbatim}\n",
       "optimize(model, options)\n",
       "\\end{verbatim}\n",
       "Optimize model parameters for a \\texttt{choiceDDM}.\n",
       "\n",
       "Returns:\n",
       "\n",
       "\\begin{itemize}\n",
       "\\item \\texttt{model}: an instance of a \\texttt{choiceDDM}.\n",
       "\n",
       "\n",
       "\\item \\texttt{output}: results from \\href{@ref}{\\texttt{Optim.optimize}}.\n",
       "\n",
       "\\end{itemize}\n",
       "Arguments:\n",
       "\n",
       "\\begin{itemize}\n",
       "\\item \\texttt{model}: an instance of a \\texttt{choiceDDM}.\n",
       "\n",
       "\n",
       "\\item \\texttt{options}: module-defind type that contains the upper (\\texttt{ub}) and lower (\\texttt{lb}) boundaries and specification of which parameters to fit (\\texttt{fit}).\n",
       "\n",
       "\\end{itemize}\n",
       "\\begin{verbatim}\n",
       "optimize(data, options)\n",
       "\\end{verbatim}\n",
       "Optimize model parameters for a \\texttt{choiceDDM}.\n",
       "\n",
       "Returns:\n",
       "\n",
       "\\begin{itemize}\n",
       "\\item \\texttt{model}: an instance of a \\texttt{choiceDDM}.\n",
       "\n",
       "\n",
       "\\item \\texttt{output}: results from \\href{@ref}{\\texttt{Optim.optimize}}.\n",
       "\n",
       "\\end{itemize}\n",
       "Arguments:\n",
       "\n",
       "\\begin{itemize}\n",
       "\\item \\texttt{data}: an \\texttt{array}, each element of which is a module-defined type \\texttt{choicedata}. \\texttt{choicedata} contains the click data and the choice for a trial.\n",
       "\n",
       "\n",
       "\\item \\texttt{options}: module-defind type that contains the upper (\\texttt{ub}) and lower (\\texttt{lb}) boundaries and specification of which parameters to fit (\\texttt{fit}).\n",
       "\n",
       "\\end{itemize}\n",
       "\\begin{verbatim}\n",
       "optimize(model, options)\n",
       "\\end{verbatim}\n",
       "Optimize model parameters for a \\texttt{choiceDDM}.\n",
       "\n",
       "Returns:\n",
       "\n",
       "\\begin{itemize}\n",
       "\\item \\texttt{model}: an instance of a \\texttt{choiceDDM\\_dx}.\n",
       "\n",
       "\n",
       "\\item \\texttt{output}: results from \\href{@ref}{\\texttt{Optim.optimize}}.\n",
       "\n",
       "\\end{itemize}\n",
       "Arguments:\n",
       "\n",
       "\\begin{itemize}\n",
       "\\item \\texttt{model}: an instance of a \\texttt{choiceDDM\\_dx}.\n",
       "\n",
       "\n",
       "\\item \\texttt{options}: module-defind type that contains the upper (\\texttt{ub}) and lower (\\texttt{lb}) boundaries and specification of which parameters to fit (\\texttt{fit}).\n",
       "\n",
       "\\end{itemize}\n",
       "\\begin{verbatim}\n",
       "optimize(data, f)\n",
       "\\end{verbatim}\n",
       "Optimize model parameters for a \\texttt{neuralDDM}. Neural tuning parameters (\\href{@ref}{\\texttt{θy}}) are initialized by fitting a the noiseless DDM model first (\\href{@ref}{\\texttt{noiseless\\_neuralDDM}}).\n",
       "\n",
       "Arguments:\n",
       "\n",
       "\\begin{itemize}\n",
       "\\item \\texttt{data}: the output of \\href{@ref}{\\texttt{load\\_neural\\_data}} with the format as described in its docstring.\n",
       "\n",
       "\n",
       "\\item \\texttt{f}: an \\texttt{array} of length number of sessions, where each subarray is length number of cells. Each entry is a string, either \\texttt{Softplus} or \\texttt{Sigmoid} to describe the nonlinear map between $a(t)$ and $\\lambda(a)$, the expected firing rate.\n",
       "\n",
       "\\end{itemize}\n",
       "Returns\n",
       "\n",
       "\\begin{itemize}\n",
       "\\item \\texttt{model}: a module-defined type that organizes the \\texttt{data} and parameters from the fit (as well as a few other things that are necessary for re-computing things the way they were computed here (e.g. \\texttt{n})\n",
       "\n",
       "\n",
       "\\item \\texttt{options}: some details related to the optimzation, such as which parameters were fit, and the upper and lower bounds of those parameters.\n",
       "\n",
       "\\end{itemize}\n",
       "\\begin{verbatim}\n",
       "optimize(model, options)\n",
       "\\end{verbatim}\n",
       "Optimize model parameters for a \\texttt{neuralDDM}.\n",
       "\n",
       "Arguments: \n",
       "\n",
       "\\begin{itemize}\n",
       "\\item \\texttt{model}: an instance of a \\texttt{neuralDDM}.\n",
       "\n",
       "\n",
       "\\item \\texttt{options}: some details related to the optimzation, such as which parameters were fit (\\texttt{fit}), and the upper (\\texttt{ub}) and lower (\\texttt{lb}) bounds of those parameters.\n",
       "\n",
       "\\end{itemize}\n",
       "Returns:\n",
       "\n",
       "\\begin{itemize}\n",
       "\\item \\texttt{model}: an instance of a \\texttt{neuralDDM}.\n",
       "\n",
       "\n",
       "\\item \\texttt{output}: results from \\href{@ref}{\\texttt{Optim.optimize}}.\n",
       "\n",
       "\\end{itemize}\n",
       "\\begin{verbatim}\n",
       "optimize(model, options)\n",
       "\\end{verbatim}\n",
       "Optimize model parameters for a \\texttt{noiseless\\_neuralDDM}.\n",
       "\n",
       "Arguments: \n",
       "\n",
       "\\begin{itemize}\n",
       "\\item \\texttt{model}: an instance of a \\texttt{noiseless\\_neuralDDM}.\n",
       "\n",
       "\n",
       "\\item \\texttt{options}: some details related to the optimzation, such as which parameters were fit (\\texttt{fit}), and the upper (\\texttt{ub}) and lower (\\texttt{lb}) bounds of those parameters.\n",
       "\n",
       "\\end{itemize}\n",
       "Returns:\n",
       "\n",
       "\\begin{itemize}\n",
       "\\item \\texttt{model}: an instance of a \\texttt{noiseless\\_neuralDDM}.\n",
       "\n",
       "\n",
       "\\item \\texttt{output}: results from \\href{@ref}{\\texttt{Optim.optimize}}.\n",
       "\n",
       "\\end{itemize}\n",
       "\\begin{verbatim}\n",
       "optimize(model, options)\n",
       "\\end{verbatim}\n",
       "Optimize model parameters for a \\texttt{neural\\_choice\\_GLM\\_DDM}.\n",
       "\n",
       "Arguments: \n",
       "\n",
       "\\begin{itemize}\n",
       "\\item \\texttt{model}: an instance of a \\texttt{neural\\_choice\\_GLM\\_DDM}.\n",
       "\n",
       "\n",
       "\\item \\texttt{options}: some details related to the optimzation, such as which parameters were fit (\\texttt{fit}), and the upper (\\texttt{ub}) and lower (\\texttt{lb}) bounds of those parameters.\n",
       "\n",
       "\\end{itemize}\n",
       "Returns:\n",
       "\n",
       "\\begin{itemize}\n",
       "\\item \\texttt{model}: an instance of a \\texttt{neural\\_choice\\_GLM\\_DDM}.\n",
       "\n",
       "\n",
       "\\item \\texttt{output}: results from \\href{@ref}{\\texttt{Optim.optimize}}.\n",
       "\n",
       "\\end{itemize}\n"
      ],
      "text/markdown": [
       "```\n",
       "optimize(x, ll, lb, ub)\n",
       "```\n",
       "\n",
       "Wrapper for executing an constrained optimization.\n",
       "\n",
       "Arguments:\n",
       "\n",
       "  * `ll`: objective function.\n",
       "  * `x`: an `array` of initial point\n",
       "  * `lb`: lower bounds. `array` the same length as `x`.\n",
       "  * `ub: upper bounds.`array`the same length as`x`.\n",
       "\n",
       "```\n",
       "optimize(model, options)\n",
       "```\n",
       "\n",
       "Optimize model parameters for a `choiceDDM`.\n",
       "\n",
       "Returns:\n",
       "\n",
       "  * `model`: an instance of a `choiceDDM`.\n",
       "  * `output`: results from [`Optim.optimize`](@ref).\n",
       "\n",
       "Arguments:\n",
       "\n",
       "  * `model`: an instance of a `choiceDDM`.\n",
       "  * `options`: module-defind type that contains the upper (`ub`) and lower (`lb`) boundaries and specification of which parameters to fit (`fit`).\n",
       "\n",
       "```\n",
       "optimize(data, options)\n",
       "```\n",
       "\n",
       "Optimize model parameters for a `choiceDDM`.\n",
       "\n",
       "Returns:\n",
       "\n",
       "  * `model`: an instance of a `choiceDDM`.\n",
       "  * `output`: results from [`Optim.optimize`](@ref).\n",
       "\n",
       "Arguments:\n",
       "\n",
       "  * `data`: an `array`, each element of which is a module-defined type `choicedata`. `choicedata` contains the click data and the choice for a trial.\n",
       "  * `options`: module-defind type that contains the upper (`ub`) and lower (`lb`) boundaries and specification of which parameters to fit (`fit`).\n",
       "\n",
       "```\n",
       "optimize(model, options)\n",
       "```\n",
       "\n",
       "Optimize model parameters for a `choiceDDM`.\n",
       "\n",
       "Returns:\n",
       "\n",
       "  * `model`: an instance of a `choiceDDM_dx`.\n",
       "  * `output`: results from [`Optim.optimize`](@ref).\n",
       "\n",
       "Arguments:\n",
       "\n",
       "  * `model`: an instance of a `choiceDDM_dx`.\n",
       "  * `options`: module-defind type that contains the upper (`ub`) and lower (`lb`) boundaries and specification of which parameters to fit (`fit`).\n",
       "\n",
       "```\n",
       "optimize(data, f)\n",
       "```\n",
       "\n",
       "Optimize model parameters for a `neuralDDM`. Neural tuning parameters ([`θy`](@ref)) are initialized by fitting a the noiseless DDM model first ([`noiseless_neuralDDM`](@ref)).\n",
       "\n",
       "Arguments:\n",
       "\n",
       "  * `data`: the output of [`load_neural_data`](@ref) with the format as described in its docstring.\n",
       "  * `f`: an `array` of length number of sessions, where each subarray is length number of cells. Each entry is a string, either `Softplus` or `Sigmoid` to describe the nonlinear map between $a(t)$ and $\\lambda(a)$, the expected firing rate.\n",
       "\n",
       "Returns\n",
       "\n",
       "  * `model`: a module-defined type that organizes the `data` and parameters from the fit (as well as a few other things that are necessary for re-computing things the way they were computed here (e.g. `n`)\n",
       "  * `options`: some details related to the optimzation, such as which parameters were fit, and the upper and lower bounds of those parameters.\n",
       "\n",
       "```\n",
       "optimize(model, options)\n",
       "```\n",
       "\n",
       "Optimize model parameters for a `neuralDDM`.\n",
       "\n",
       "Arguments: \n",
       "\n",
       "  * `model`: an instance of a `neuralDDM`.\n",
       "  * `options`: some details related to the optimzation, such as which parameters were fit (`fit`), and the upper (`ub`) and lower (`lb`) bounds of those parameters.\n",
       "\n",
       "Returns:\n",
       "\n",
       "  * `model`: an instance of a `neuralDDM`.\n",
       "  * `output`: results from [`Optim.optimize`](@ref).\n",
       "\n",
       "```\n",
       "optimize(model, options)\n",
       "```\n",
       "\n",
       "Optimize model parameters for a `noiseless_neuralDDM`.\n",
       "\n",
       "Arguments: \n",
       "\n",
       "  * `model`: an instance of a `noiseless_neuralDDM`.\n",
       "  * `options`: some details related to the optimzation, such as which parameters were fit (`fit`), and the upper (`ub`) and lower (`lb`) bounds of those parameters.\n",
       "\n",
       "Returns:\n",
       "\n",
       "  * `model`: an instance of a `noiseless_neuralDDM`.\n",
       "  * `output`: results from [`Optim.optimize`](@ref).\n",
       "\n",
       "```\n",
       "optimize(model, options)\n",
       "```\n",
       "\n",
       "Optimize model parameters for a `neural_choice_GLM_DDM`.\n",
       "\n",
       "Arguments: \n",
       "\n",
       "  * `model`: an instance of a `neural_choice_GLM_DDM`.\n",
       "  * `options`: some details related to the optimzation, such as which parameters were fit (`fit`), and the upper (`ub`) and lower (`lb`) bounds of those parameters.\n",
       "\n",
       "Returns:\n",
       "\n",
       "  * `model`: an instance of a `neural_choice_GLM_DDM`.\n",
       "  * `output`: results from [`Optim.optimize`](@ref).\n"
      ],
      "text/plain": [
       "\u001b[36m  optimize(x, ll, lb, ub)\u001b[39m\n",
       "\n",
       "  Wrapper for executing an constrained optimization.\n",
       "\n",
       "  Arguments:\n",
       "\n",
       "    •  \u001b[36mll\u001b[39m: objective function.\n",
       "\n",
       "    •  \u001b[36mx\u001b[39m: an \u001b[36marray\u001b[39m of initial point\n",
       "\n",
       "    •  \u001b[36mlb\u001b[39m: lower bounds. \u001b[36marray\u001b[39m the same length as \u001b[36mx\u001b[39m.\n",
       "\n",
       "    •  \u001b[36mub: upper bounds.\u001b[39marray\u001b[36mthe same length as\u001b[39mx`.\n",
       "\n",
       "\u001b[36m  optimize(model, options)\u001b[39m\n",
       "\n",
       "  Optimize model parameters for a \u001b[36mchoiceDDM\u001b[39m.\n",
       "\n",
       "  Returns:\n",
       "\n",
       "    •  \u001b[36mmodel\u001b[39m: an instance of a \u001b[36mchoiceDDM\u001b[39m.\n",
       "\n",
       "    •  \u001b[36moutput\u001b[39m: results from \u001b[36mOptim.optimize\u001b[39m.\n",
       "\n",
       "  Arguments:\n",
       "\n",
       "    •  \u001b[36mmodel\u001b[39m: an instance of a \u001b[36mchoiceDDM\u001b[39m.\n",
       "\n",
       "    •  \u001b[36moptions\u001b[39m: module-defind type that contains the upper (\u001b[36mub\u001b[39m) and lower\n",
       "       (\u001b[36mlb\u001b[39m) boundaries and specification of which parameters to fit\n",
       "       (\u001b[36mfit\u001b[39m).\n",
       "\n",
       "\u001b[36m  optimize(data, options)\u001b[39m\n",
       "\n",
       "  Optimize model parameters for a \u001b[36mchoiceDDM\u001b[39m.\n",
       "\n",
       "  Returns:\n",
       "\n",
       "    •  \u001b[36mmodel\u001b[39m: an instance of a \u001b[36mchoiceDDM\u001b[39m.\n",
       "\n",
       "    •  \u001b[36moutput\u001b[39m: results from \u001b[36mOptim.optimize\u001b[39m.\n",
       "\n",
       "  Arguments:\n",
       "\n",
       "    •  \u001b[36mdata\u001b[39m: an \u001b[36marray\u001b[39m, each element of which is a module-defined type\n",
       "       \u001b[36mchoicedata\u001b[39m. \u001b[36mchoicedata\u001b[39m contains the click data and the choice for\n",
       "       a trial.\n",
       "\n",
       "    •  \u001b[36moptions\u001b[39m: module-defind type that contains the upper (\u001b[36mub\u001b[39m) and lower\n",
       "       (\u001b[36mlb\u001b[39m) boundaries and specification of which parameters to fit\n",
       "       (\u001b[36mfit\u001b[39m).\n",
       "\n",
       "\u001b[36m  optimize(model, options)\u001b[39m\n",
       "\n",
       "  Optimize model parameters for a \u001b[36mchoiceDDM\u001b[39m.\n",
       "\n",
       "  Returns:\n",
       "\n",
       "    •  \u001b[36mmodel\u001b[39m: an instance of a \u001b[36mchoiceDDM_dx\u001b[39m.\n",
       "\n",
       "    •  \u001b[36moutput\u001b[39m: results from \u001b[36mOptim.optimize\u001b[39m.\n",
       "\n",
       "  Arguments:\n",
       "\n",
       "    •  \u001b[36mmodel\u001b[39m: an instance of a \u001b[36mchoiceDDM_dx\u001b[39m.\n",
       "\n",
       "    •  \u001b[36moptions\u001b[39m: module-defind type that contains the upper (\u001b[36mub\u001b[39m) and lower\n",
       "       (\u001b[36mlb\u001b[39m) boundaries and specification of which parameters to fit\n",
       "       (\u001b[36mfit\u001b[39m).\n",
       "\n",
       "\u001b[36m  optimize(data, f)\u001b[39m\n",
       "\n",
       "  Optimize model parameters for a \u001b[36mneuralDDM\u001b[39m. Neural tuning parameters (\u001b[36mθy\u001b[39m) are\n",
       "  initialized by fitting a the noiseless DDM model first\n",
       "  (\u001b[36mnoiseless_neuralDDM\u001b[39m).\n",
       "\n",
       "  Arguments:\n",
       "\n",
       "    •  \u001b[36mdata\u001b[39m: the output of \u001b[36mload_neural_data\u001b[39m with the format as described\n",
       "       in its docstring.\n",
       "\n",
       "    •  \u001b[36mf\u001b[39m: an \u001b[36marray\u001b[39m of length number of sessions, where each subarray is\n",
       "       length number of cells. Each entry is a string, either \u001b[36mSoftplus\u001b[39m or\n",
       "       \u001b[36mSigmoid\u001b[39m to describe the nonlinear map between \u001b[35ma(t)\u001b[39m and \u001b[35m\\lambda(a)\u001b[39m,\n",
       "       the expected firing rate.\n",
       "\n",
       "  Returns\n",
       "\n",
       "    •  \u001b[36mmodel\u001b[39m: a module-defined type that organizes the \u001b[36mdata\u001b[39m and\n",
       "       parameters from the fit (as well as a few other things that are\n",
       "       necessary for re-computing things the way they were computed here\n",
       "       (e.g. \u001b[36mn\u001b[39m)\n",
       "\n",
       "    •  \u001b[36moptions\u001b[39m: some details related to the optimzation, such as which\n",
       "       parameters were fit, and the upper and lower bounds of those\n",
       "       parameters.\n",
       "\n",
       "\u001b[36m  optimize(model, options)\u001b[39m\n",
       "\n",
       "  Optimize model parameters for a \u001b[36mneuralDDM\u001b[39m.\n",
       "\n",
       "  Arguments:\n",
       "\n",
       "    •  \u001b[36mmodel\u001b[39m: an instance of a \u001b[36mneuralDDM\u001b[39m.\n",
       "\n",
       "    •  \u001b[36moptions\u001b[39m: some details related to the optimzation, such as which\n",
       "       parameters were fit (\u001b[36mfit\u001b[39m), and the upper (\u001b[36mub\u001b[39m) and lower (\u001b[36mlb\u001b[39m)\n",
       "       bounds of those parameters.\n",
       "\n",
       "  Returns:\n",
       "\n",
       "    •  \u001b[36mmodel\u001b[39m: an instance of a \u001b[36mneuralDDM\u001b[39m.\n",
       "\n",
       "    •  \u001b[36moutput\u001b[39m: results from \u001b[36mOptim.optimize\u001b[39m.\n",
       "\n",
       "\u001b[36m  optimize(model, options)\u001b[39m\n",
       "\n",
       "  Optimize model parameters for a \u001b[36mnoiseless_neuralDDM\u001b[39m.\n",
       "\n",
       "  Arguments:\n",
       "\n",
       "    •  \u001b[36mmodel\u001b[39m: an instance of a \u001b[36mnoiseless_neuralDDM\u001b[39m.\n",
       "\n",
       "    •  \u001b[36moptions\u001b[39m: some details related to the optimzation, such as which\n",
       "       parameters were fit (\u001b[36mfit\u001b[39m), and the upper (\u001b[36mub\u001b[39m) and lower (\u001b[36mlb\u001b[39m)\n",
       "       bounds of those parameters.\n",
       "\n",
       "  Returns:\n",
       "\n",
       "    •  \u001b[36mmodel\u001b[39m: an instance of a \u001b[36mnoiseless_neuralDDM\u001b[39m.\n",
       "\n",
       "    •  \u001b[36moutput\u001b[39m: results from \u001b[36mOptim.optimize\u001b[39m.\n",
       "\n",
       "\u001b[36m  optimize(model, options)\u001b[39m\n",
       "\n",
       "  Optimize model parameters for a \u001b[36mneural_choice_GLM_DDM\u001b[39m.\n",
       "\n",
       "  Arguments:\n",
       "\n",
       "    •  \u001b[36mmodel\u001b[39m: an instance of a \u001b[36mneural_choice_GLM_DDM\u001b[39m.\n",
       "\n",
       "    •  \u001b[36moptions\u001b[39m: some details related to the optimzation, such as which\n",
       "       parameters were fit (\u001b[36mfit\u001b[39m), and the upper (\u001b[36mub\u001b[39m) and lower (\u001b[36mlb\u001b[39m)\n",
       "       bounds of those parameters.\n",
       "\n",
       "  Returns:\n",
       "\n",
       "    •  \u001b[36mmodel\u001b[39m: an instance of a \u001b[36mneural_choice_GLM_DDM\u001b[39m.\n",
       "\n",
       "    •  \u001b[36moutput\u001b[39m: results from \u001b[36mOptim.optimize\u001b[39m."
      ]
     },
     "metadata": {},
     "output_type": "display_data"
    }
   ],
   "source": [
    "@doc PulseInputDDM.optimize"
   ]
  },
  {
   "cell_type": "code",
   "execution_count": 23,
   "metadata": {
    "scrolled": true
   },
   "outputs": [
    {
     "name": "stdout",
     "output_type": "stream",
     "text": [
      "Fminbox\n",
      "-------\n",
      "Initial mu = 0.160987\n",
      "\n",
      "Fminbox iteration 1\n",
      "-------------------\n",
      "Calling inner optimizer with mu = 0.160987\n",
      "\n",
      "(numbers below include barrier contribution)\n",
      "Iter     Function value   Gradient norm \n",
      "     0     3.481363e+03     5.400220e+04\n",
      " * Current step size: 1.0\n",
      " * time: 0.01902294158935547\n",
      " * g(x): [-23.743724932870556, -11.064054277817245, 24.107336545875043, -13.40926923736473, -667.8315427815991, 504.5657745923168, -54002.20187941485, -29.713291845762505, -17891.119702011667]\n",
      " * ~inv(H): [1.0 0.0 -0.0 0.0 0.0 0.0 0.0 0.0 0.0; 0.0 1.0 -0.0 0.0 0.0 0.0 0.0 0.0 0.0; -0.0 -0.0 1.0 -0.0 -0.0 -0.0 -0.0 -0.0 -0.0; 0.0 0.0 -0.0 1.0 0.0 0.0 0.0 0.0 0.0; 0.0 0.0 -0.0 0.0 1.0 0.0 0.0 0.0 0.0; 0.0 0.0 -0.0 0.0 0.0 1.0 0.0 0.0 0.0; 0.0 0.0 -0.0 0.0 0.0 0.0 1.0 0.0 0.0; 0.0 0.0 -0.0 0.0 0.0 0.0 0.0 1.0 0.0; 0.0 0.0 -0.0 0.0 0.0 0.0 0.0 0.0 1.0]\n",
      " * x: [0.1, 15.0, -0.1, 20.0, 0.5, 0.2, 0.008, 0.0, 0.01]\n",
      "    10     2.976424e+03     1.878303e+03\n",
      " * Current step size: 0.4777798123749767\n",
      " * time: 321.01486706733704\n",
      " * g(x): [0.36690563677860344, 0.5066926418716248, -9.533999377990106, 0.47317847735304, 22.31665476300983, -100.63897846912698, 1878.302992379811, 1.9621268430043168, 180.20858535755667]\n",
      " * ~inv(H): [0.9571640768935755 -0.021730107407386044 0.08047621799390535 -0.02833190065563834 -0.05511551816134231 0.00856563026849142 0.00025562622429058443 -0.016802401598682556 0.001050724245053002; -0.02173010740738603 0.9833732968056283 0.015016327484915605 -0.017059837846888422 -0.015222754333474732 0.005167178925207722 0.00010439328474781218 -0.0027559409453192865 3.4536557920454556e-5; 0.08047621799390517 0.01501632748491558 0.08192231439338829 0.01737372969112844 -0.0002752923236383849 0.0006081678927762298 -2.470168369557259e-5 0.001988346523396384 0.0003102592973888434; -0.02833190065563832 -0.017059837846888436 0.01737372969112848 0.9813931631650654 -0.02865899927854824 0.006066104320785061 0.00025277997018594706 -0.0053393847353977696 9.662341402549789e-5; -0.0551155181613423 -0.015222754333474727 -0.00027529232363843697 -0.028658999278548217 0.051545901979339025 0.002699508416030681 -0.0004382434738962121 0.01178260795334602 -0.0005845422469560567; 0.00856563026849142 0.005167178925207718 0.0006081678927762455 0.006066104320785059 0.00269950841603067 0.0008427972436103014 -8.287208379195381e-6 0.0003380964895366985 -5.693748693286817e-5; 0.00025562622429058503 0.00010439328474781237 -2.470168369557158e-5 0.00025277997018594657 -0.00043824347389620906 -8.287208379234948e-6 5.39276469662233e-6 -0.00012120345518137042 -1.1124290928129013e-6; -0.016802401598682612 -0.002755940945319309 0.0019883465233966283 -0.0053393847353978095 0.011782607953345986 0.00033809648953668416 -0.0001212034551813699 0.023119173363721716 -2.28333209749098e-6; 0.0010507242450530016 3.45365579204555e-5 0.0003102592973888376 9.662341402550018e-5 -0.0005845422469560525 -5.693748693291606e-5 -1.1124290927761354e-6 -2.2833320974911233e-6 5.112450281239191e-5]\n",
      " * x: [5.536939094280324, 17.52534507031034, -1.0671086100674778, 22.3928829641232, 1.6113091105514648, 0.6163288539211125, 0.022736366918216216, 0.1595498747065186, 0.06298762692516241]\n",
      "    20     2.969802e+03     2.534691e+02\n",
      " * Current step size: 1.0\n",
      " * time: 573.790041923523\n",
      " * g(x): [-0.1384020741425393, -0.05526733446763498, 0.1174067340542619, -0.08101101206205566, -3.8947494471816015, 13.569628849361722, -253.46909968408735, 0.4750157017048535, -95.08465590560883]\n",
      " * ~inv(H): [4.194397179917051 -2.484596379815836 0.011022086519882748 -2.436357230501931 -0.27158196214690816 -0.1180131915948732 -0.005536590179633533 0.002946056125262646 0.003495680164098722; -2.484596379815835 3.4855248910943057 0.06851009915031704 2.5226564992163256 -0.130257232503188 0.1271674910284726 0.008540503526884095 -0.001755545822853273 0.001675494583280148; 0.011022086519882592 0.06851009915031704 0.05464976448445361 0.07120070151221086 -0.012124527675113109 0.003023714216568149 0.00028820665374997066 0.0017789745094232742 6.298044613105045e-5; -2.43635723050193 2.5226564992163265 0.0712007015122109 3.565993080695149 -0.18212347688661945 0.12897195005781115 0.009092278936369234 -0.002035139815227443 0.002165340560610518; -0.2715819621469084 -0.130257232503188 -0.01212452767511316 -0.18212347688661942 0.18808851288911924 -5.71439896128146e-5 -0.0018247849251002346 0.003912987160423451 -0.0022702342031447357; -0.1180131915948731 0.12716749102847258 0.003023714216568162 0.1289719500578111 -5.71439896128257e-5 0.006846891028239515 0.00037862625119627305 0.0002597294948294269 3.914348754021947e-6; -0.005536590179633525 0.008540503526884095 0.00028820665374997174 0.009092278936369231 -0.0018247849251002315 0.00037862625119623354 4.1180911563825775e-5 -5.661560597290133e-5 1.865564768129551e-5; 0.0029460561252625727 -0.0017555458228532982 0.0017789745094235175 -0.0020351398152274806 0.003912987160423422 0.00025972949482941284 -5.661560597290084e-5 0.02262926209447371 7.571912677199806e-5; 0.003495680164098724 0.00167549458328015 6.298044613104477e-5 0.0021653405606105202 -0.002270234203144732 3.91434875397414e-6 1.8655647681332283e-5 7.571912677199797e-5 5.3968783072826115e-5]\n",
      " * x: [11.24144801085653, 16.04873231892062, -0.5727829512283246, 21.24935467000926, 1.0977639306035105, 0.5742526157685129, 0.02048815962757859, 0.17700295131300123, 0.06767101264715493]\n",
      "    30     2.969490e+03     3.815678e+00\n",
      " * Current step size: 1.0\n",
      " * time: 826.4855270385742\n",
      " * g(x): [-0.02488614098311738, -0.01013063325838997, -0.13811716935117802, -0.004124650929659544, -0.08681559011991528, 0.5678061959670433, 3.815678496533142, 0.04246834040549609, -1.9562535368789185]\n",
      " * ~inv(H): [53.86674549895343 -29.207193161327723 -1.0197313344690346 -16.81354982223412 -0.22400551396823007 0.4013244271099506 0.008040666597852554 -0.048256194735169566 -0.002502311588730057; -29.207193161327726 20.563398726069895 0.794750000707052 12.625460929387522 -0.24219633132033896 -0.027691135807826915 0.004764687546170111 0.029133668638502044 0.003656838042916995; -1.0197313344690349 0.7947500007070519 0.08387443289199364 0.5322180845496647 -0.02876209528721517 0.0007867868694644342 0.00041568428947681024 0.0035673557155350448 7.526055044982681e-5; -16.81354982223412 12.625460929387511 0.5322180845496646 9.64172303623679 -0.2518469540945255 0.06841091611317812 0.0065846338387502154 0.017952550152062714 0.002536461637604559; -0.2240055139682297 -0.2421963313203387 -0.028762095287215215 -0.25184695409452584 0.12244691093550984 -0.0075285687894506535 -0.0013241307291450384 0.0019027062873403797 -0.0009278539395637858; 0.40132442710995053 -0.02769113580782718 0.000786786869464443 0.06841091611317812 -0.007528568789450664 0.015099897934901444 0.0005237060241412596 -2.4007625627502582e-5 -2.560472883041342e-5; 0.008040666597852571 0.0047646875461701 0.0004156842894768113 0.006584633838750216 -0.001324130729145036 0.0005237060241412202 3.0300359432420047e-5 -2.8512187777694226e-5 3.075747558053621e-6; -0.04825619473516962 0.029133668638502024 0.0035673557155352885 0.017952550152062662 0.0019027062873403504 -2.400762562751666e-5 -2.8512187777693728e-5 0.022933090481270985 2.698405397161623e-5; -0.0025023115887300557 0.0036568380429169924 7.526055044982103e-5 0.002536461637604561 -0.0009278539395637819 -2.5604728830461055e-5 3.0757475580903966e-6 2.6984053971616118e-5 5.428988778353535e-5]\n",
      " * x: [13.510815183378693, 14.037631423444056, -0.6878582461250339, 19.86367772167583, 1.173581346592327, 0.5595711910686627, 0.018950400468142548, 0.16095624919932996, 0.07104481959315108]\n",
      "\n",
      "Exiting inner optimizer with x = [14.004933878463827, 13.739778618437256, -0.6921301602200269, 19.631857980892544, 1.1696830861089744, 0.5572914542806381, 0.018801511628472864, 0.15994539538408312, 0.07104468774068651]\n",
      "Current distance to box: 0.0138015\n",
      "Decreasing barrier term μ.\n",
      "\n",
      "Fminbox iteration 2\n",
      "-------------------\n",
      "Calling inner optimizer with mu = 0.000160987\n",
      "\n",
      "(numbers below include barrier contribution)\n",
      "Iter     Function value   Gradient norm \n",
      "     0     2.972895e+03     5.549465e+00\n",
      " * Current step size: 1.0\n",
      " * time: 1.5974044799804688e-5\n",
      " * g(x): [-0.023448850041543925, -0.024772429666448877, 0.022163206283556728, -0.0019205845083629597, 0.031207363000171576, 0.7723411414925739, 5.549464929003625, -0.018512515941627502, 2.5471338296900523]\n",
      " * ~inv(H): [1.0 0.0 -0.0 0.0 0.0 0.0 0.0 0.0 0.0; 0.0 1.0 -0.0 0.0 0.0 0.0 0.0 0.0 0.0; -0.0 -0.0 1.0 -0.0 -0.0 -0.0 -0.0 -0.0 -0.0; 0.0 0.0 -0.0 1.0 0.0 0.0 0.0 0.0 0.0; 0.0 0.0 -0.0 0.0 1.0 0.0 0.0 0.0 0.0; 0.0 0.0 -0.0 0.0 0.0 1.0 0.0 0.0 0.0; 0.0 0.0 -0.0 0.0 0.0 0.0 1.0 0.0 0.0; 0.0 0.0 -0.0 0.0 0.0 0.0 0.0 1.0 0.0; 0.0 0.0 -0.0 0.0 0.0 0.0 0.0 0.0 1.0]\n",
      " * x: [14.004933878463827, 13.739778618437256, -0.6921301602200269, 19.631857980892544, 1.1696830861089744, 0.5572914542806381, 0.018801511628472864, 0.15994539538408312, 0.07104468774068651]\n",
      "\n",
      "Exiting inner optimizer with x = [14.004935754431994, 13.739780516608246, -0.6921318797476462, 19.63185801754, 1.169685195167337, 0.5572079720929176, 0.01880512318808635, 0.15994690342182138, 0.0708878990490391]\n",
      "Current distance to box: 0.0138051\n",
      "Decreasing barrier term μ.\n",
      "\n",
      "Fminbox iteration 3\n",
      "-------------------\n",
      "Calling inner optimizer with mu = 1.60987e-7\n",
      "\n",
      "(numbers below include barrier contribution)\n",
      "Iter     Function value   Gradient norm \n",
      "     0     2.972898e+03     1.037138e+00\n",
      " * Current step size: 7.131938665266965e-5\n",
      " * time: 1.3828277587890625e-5\n",
      " * g(x): [-0.023076893076959, -0.019620150412649588, 0.011266450196930535, -0.0007957616051564758, -0.06437250359818977, 1.0371378259126278, -0.9008475209042758, -0.01434719235088475, -0.6533489604827992]\n",
      " * ~inv(H): [1.0 0.0 -0.0 0.0 0.0 0.0 0.0 0.0 0.0; 0.0 1.0 -0.0 0.0 0.0 0.0 0.0 0.0 0.0; -0.0 -0.0 1.0 -0.0 -0.0 -0.0 -0.0 -0.0 -0.0; 0.0 0.0 -0.0 1.0 0.0 0.0 0.0 0.0 0.0; 0.0 0.0 -0.0 0.0 1.0 0.0 0.0 0.0 0.0; 0.0 0.0 -0.0 0.0 0.0 1.0 0.0 0.0 0.0; 0.0 0.0 -0.0 0.0 0.0 0.0 1.0 0.0 0.0; 0.0 0.0 -0.0 0.0 0.0 0.0 0.0 1.0 0.0; 0.0 0.0 -0.0 0.0 0.0 0.0 0.0 0.0 1.0]\n",
      " * x: [14.004935754431994, 13.739780516608246, -0.6921318797476462, 19.63185801754, 1.169685195167337, 0.5572079720929176, 0.01880512318808635, 0.15994690342182138, 0.0708878990490391]\n",
      "\n",
      "Exiting inner optimizer with x = [14.004942253291235, 13.739786095865366, -0.6921353091715754, 19.631858187421816, 1.169700511791481, 0.5569233835472661, 0.018779584007604024, 0.15995088641623564, 0.07103898730171293]\n",
      "Current distance to box: 0.0137796\n",
      "Decreasing barrier term μ.\n",
      "\n"
     ]
    },
    {
     "data": {
      "text/plain": [
       "(choiceDDM{θchoice{θz{Float64}, Float64}, Vector{PulseInputDDM.choicedata{PulseInputDDM.choiceinputs{PulseInputDDM.clicks, PulseInputDDM.binned_clicks}}}, θprior{Float64}}\n",
       "  θ: θchoice{θz{Float64}, Float64}\n",
       "  data: Array{PulseInputDDM.choicedata{PulseInputDDM.choiceinputs{PulseInputDDM.clicks, PulseInputDDM.binned_clicks}}}((8000,))\n",
       "  n: Int64 53\n",
       "  cross: Bool false\n",
       "  θprior: θprior{Float64}\n",
       ",  * Status: success\n",
       "\n",
       " * Candidate solution\n",
       "    Final objective value:     2.972898e+03\n",
       "\n",
       " * Found with\n",
       "    Algorithm:     Fminbox with BFGS\n",
       "\n",
       " * Convergence measures\n",
       "    |x - x'|               = 3.24e-04 ≰ 1.0e-10\n",
       "    |x - x'|/|x'|          = 1.16e-05 ≰ 0.0e+00\n",
       "    |f(x) - f(x')|         = 0.00e+00 ≤ 0.0e+00\n",
       "    |f(x) - f(x')|/|f(x')| = 0.00e+00 ≤ 1.0e-06\n",
       "    |g(x)|                 = 5.57e-01 ≰ 1.0e-03\n",
       "\n",
       " * Work counters\n",
       "    Seconds run:   1151  (vs limit 170000)\n",
       "    Iterations:    3\n",
       "    f(x) calls:    57\n",
       "    ∇f(x) calls:   37\n",
       ")"
      ]
     },
     "metadata": {},
     "output_type": "display_data"
    }
   ],
   "source": [
    "model, output = optimize(model, options, f_tol=1e-6, iterations = 100, extended_trace=true, show_trace=true)"
   ]
  },
  {
   "attachments": {},
   "cell_type": "markdown",
   "metadata": {},
   "source": [
    "Compute the likelihood of the optimized model"
   ]
  },
  {
   "cell_type": "code",
   "execution_count": 24,
   "metadata": {},
   "outputs": [
    {
     "data": {
      "text/plain": [
       "-2962.9948315150286"
      ]
     },
     "metadata": {},
     "output_type": "display_data"
    }
   ],
   "source": [
    "loglikelihood(model)"
   ]
  },
  {
   "attachments": {},
   "cell_type": "markdown",
   "metadata": {},
   "source": [
    "Compute the gradient of the model after optimization, to ensure we are near the minimum of the loglikelihood"
   ]
  },
  {
   "cell_type": "code",
   "execution_count": 25,
   "metadata": {},
   "outputs": [
    {
     "data": {
      "text/plain": [
       "9-element Vector{Float64}:\n",
       " -0.02148992706662494\n",
       " -0.020803739164585444\n",
       "  0.02371277840733299\n",
       "  0.0005516139016776347\n",
       " -0.01726935764427351\n",
       "  0.9444722061929269\n",
       "  0.8663104692649597\n",
       " -0.01667068230402946\n",
       "  1.9574639050152882"
      ]
     },
     "metadata": {},
     "output_type": "display_data"
    }
   ],
   "source": [
    "gradient(model)"
   ]
  },
  {
   "attachments": {},
   "cell_type": "markdown",
   "metadata": {},
   "source": [
    "Compute the Hessian of the model, to compute confidence bounds around the ML parameters"
   ]
  },
  {
   "cell_type": "code",
   "execution_count": 26,
   "metadata": {},
   "outputs": [],
   "source": [
    "H = Hessian(model)\n",
    "CI, HPSD = CIs(H);"
   ]
  },
  {
   "attachments": {},
   "cell_type": "markdown",
   "metadata": {},
   "source": [
    "Check the eigenvalues of the hessian, to ensure that it is positive semidefinite"
   ]
  },
  {
   "cell_type": "code",
   "execution_count": 27,
   "metadata": {},
   "outputs": [
    {
     "data": {
      "text/plain": [
       "9-element Vector{Float64}:\n",
       "      0.0007159995090610957\n",
       "      0.002661706557559838\n",
       "      0.030860087406699873\n",
       "      7.394942813320598\n",
       "     16.35774444661152\n",
       "     43.482947098080984\n",
       "     67.95701216855164\n",
       "  15769.334315161805\n",
       " 659890.5291036979"
      ]
     },
     "metadata": {},
     "output_type": "display_data"
    }
   ],
   "source": [
    "using LinearAlgebra\n",
    "eigvals(H)"
   ]
  },
  {
   "cell_type": "code",
   "execution_count": 28,
   "metadata": {},
   "outputs": [],
   "source": [
    "xf = collect(Flatten.flatten(model.θ));"
   ]
  },
  {
   "attachments": {},
   "cell_type": "markdown",
   "metadata": {},
   "source": [
    "Check that the solution is within the confidence intervals"
   ]
  },
  {
   "cell_type": "code",
   "execution_count": 29,
   "metadata": {},
   "outputs": [
    {
     "data": {
      "text/plain": [
       "(Bool[1, 1, 1, 1, 1, 1, 1, 1, 1], Bool[1, 1, 1, 1, 1, 1, 1, 1, 0])"
      ]
     },
     "metadata": {},
     "output_type": "display_data"
    }
   ],
   "source": [
    "(xf - CI) .< xgen, (xf + CI) .> xgen"
   ]
  },
  {
   "cell_type": "code",
   "execution_count": 30,
   "metadata": {},
   "outputs": [
    {
     "data": {
      "text/plain": [
       " * Status: success\n",
       "\n",
       " * Candidate solution\n",
       "    Final objective value:     2.972898e+03\n",
       "\n",
       " * Found with\n",
       "    Algorithm:     Fminbox with BFGS\n",
       "\n",
       " * Convergence measures\n",
       "    |x - x'|               = 3.24e-04 ≰ 1.0e-10\n",
       "    |x - x'|/|x'|          = 1.16e-05 ≰ 0.0e+00\n",
       "    |f(x) - f(x')|         = 0.00e+00 ≤ 0.0e+00\n",
       "    |f(x) - f(x')|/|f(x')| = 0.00e+00 ≤ 1.0e-06\n",
       "    |g(x)|                 = 5.57e-01 ≰ 1.0e-03\n",
       "\n",
       " * Work counters\n",
       "    Seconds run:   1151  (vs limit 170000)\n",
       "    Iterations:    3\n",
       "    f(x) calls:    57\n",
       "    ∇f(x) calls:   37\n"
      ]
     },
     "metadata": {},
     "output_type": "display_data"
    }
   ],
   "source": [
    "output"
   ]
  },
  {
   "attachments": {},
   "cell_type": "markdown",
   "metadata": {},
   "source": [
    "Get the step-by-step values of the optimization and plot them"
   ]
  },
  {
   "cell_type": "code",
   "execution_count": 31,
   "metadata": {},
   "outputs": [],
   "source": [
    "trace = hcat(map(x-> x.metadata[\"x\"], output.trace)...);"
   ]
  },
  {
   "cell_type": "code",
   "execution_count": 32,
   "metadata": {},
   "outputs": [],
   "source": [
    "using PyPlot"
   ]
  },
  {
   "cell_type": "code",
   "execution_count": 33,
   "metadata": {},
   "outputs": [
    {
     "data": {
      "image/png": "[encoded data removed]",
      "text/plain": [
       "Figure(PyObject <Figure size 900x900 with 9 Axes>)"
      ]
     },
     "metadata": {},
     "output_type": "display_data"
    }
   ],
   "source": [
    "num_rows, num_cols = 3,3\n",
    "fig, ax = subplots(num_rows, num_cols, figsize=(9,9))\n",
    "name = [\"σ2_i\", \"B\", \"λ\", \"σ2_a\", \"σ2_s\", \"ϕ\", \"τ_ϕ\", \"bias\", \"lapse\"]\n",
    "\n",
    "for i in 1:9\n",
    "                  \n",
    "    ax[i].plot(trace[i,:])\n",
    "    ax[i].plot(xgen[i] * ones(size(trace,2)))\n",
    "    ax[i].set_title(name[i])\n",
    "    \n",
    "    ax[i].errorbar(size(trace, 2), xf[i], yerr=CI[i], fmt=\"o\",\n",
    "        capsize=6)\n",
    "end\n",
    "\n",
    "tight_layout() \n",
    "display(gcf())"
   ]
  },
  {
   "cell_type": "code",
   "execution_count": 34,
   "metadata": {},
   "outputs": [],
   "source": [
    "lb = options.lb\n",
    "ub = options.ub;"
   ]
  },
  {
   "attachments": {},
   "cell_type": "markdown",
   "metadata": {},
   "source": [
    "Compute the LL over the optimization domain, for plotting"
   ]
  },
  {
   "cell_type": "code",
   "execution_count": 35,
   "metadata": {},
   "outputs": [],
   "source": [
    "@everywhere ℓℓ(x, model) = -PulseInputDDM.loglikelihood(x, model)"
   ]
  },
  {
   "cell_type": "code",
   "execution_count": 36,
   "metadata": {},
   "outputs": [],
   "source": [
    "αs = hcat(map((lb,ub)-> range(lb + eps(), stop=ub, length=30), lb, ub));"
   ]
  },
  {
   "cell_type": "code",
   "execution_count": 37,
   "metadata": {},
   "outputs": [],
   "source": [
    "LL_scan = map(i-> map(x-> ℓℓ(vcat(xf[1:i-1], x, xf[i+1:end]), model), αs[i]), 1:9);"
   ]
  },
  {
   "cell_type": "code",
   "execution_count": 39,
   "metadata": {},
   "outputs": [
    {
     "data": {
      "image/png": "[encoded data removed]",
      "text/plain": [
       "Figure(PyObject <Figure size 900x900 with 9 Axes>)"
      ]
     },
     "metadata": {},
     "output_type": "display_data"
    }
   ],
   "source": [
    "num_rows, num_cols = 3,3\n",
    "fig, ax = subplots(num_rows, num_cols, figsize=(9,9))\n",
    "name = [\"σ2_i\", \"B\", \"λ\", \"σ2_a\", \"σ2_s\", \"ϕ\", \"τ_ϕ\", \"bias\", \"lapse\"]\n",
    "\n",
    "for i in 1:9\n",
    "                  \n",
    "    ax[i].plot(αs[i], LL_scan[i], \"x\")\n",
    "    ax[i].set_title(name[i])\n",
    "    ax[i].plot(xgen[i]*ones(100), range(minimum(LL_scan[i]), stop=maximum(LL_scan[i]), length=100), \"k\")\n",
    "    ax[i].plot(xf[i]*ones(100), range(minimum(LL_scan[i]), stop=maximum(LL_scan[i]), length=100),\n",
    "        \"g--\")\n",
    "    ax[i].plot(max((xf[i] - CI[i]), lb[i]) *ones(100), range(minimum(LL_scan[i]), \n",
    "            stop=maximum(LL_scan[i]), length=100), \"r--\")\n",
    "    ax[i].plot(min((xf[i] + CI[i]), ub[i]) *ones(100), range(minimum(LL_scan[i]), \n",
    "            stop=maximum(LL_scan[i]), length=100), \"r--\")\n",
    "\n",
    "    \n",
    "end\n",
    "\n",
    "tight_layout() \n",
    "display(gcf())"
   ]
  },
  {
   "attachments": {},
   "cell_type": "markdown",
   "metadata": {},
   "source": [
    "## Saving and reloading modeling results and saving data\n",
    "\n",
    "Use the `save_choice_model` function to save the optimized model, the options used to define the optimization, and the confidence intervals"
   ]
  },
  {
   "cell_type": "code",
   "execution_count": 40,
   "metadata": {},
   "outputs": [],
   "source": [
    "save_file = \"../choice model/example_results.mat\"\n",
    "save_choice_model(save_file, model, options, CI)"
   ]
  },
  {
   "attachments": {},
   "cell_type": "markdown",
   "metadata": {},
   "source": [
    "if you want to restart the optimization from where you stopped `reload_choice_model` will reload those model parameters and the `options`"
   ]
  },
  {
   "cell_type": "code",
   "execution_count": 41,
   "metadata": {},
   "outputs": [],
   "source": [
    "θ, options = reload_choice_model(save_file);"
   ]
  },
  {
   "attachments": {},
   "cell_type": "markdown",
   "metadata": {},
   "source": [
    "Save the choice data using `save_choice_data` and then reload it using `load_choice_data`"
   ]
  },
  {
   "cell_type": "code",
   "execution_count": 42,
   "metadata": {},
   "outputs": [],
   "source": [
    "import PulseInputDDM: save_choice_data"
   ]
  },
  {
   "cell_type": "code",
   "execution_count": 43,
   "metadata": {},
   "outputs": [],
   "source": [
    "save_choice_data(\"../choice model/example_matfile_2.mat\", data)"
   ]
  },
  {
   "cell_type": "code",
   "execution_count": 44,
   "metadata": {},
   "outputs": [],
   "source": [
    "data = load_choice_data(\"../choice model/example_matfile_2.mat\");"
   ]
  },
  {
   "cell_type": "code",
   "execution_count": 45,
   "metadata": {},
   "outputs": [
    {
     "data": {
      "text/plain": [
       "-2962.9948315150286"
      ]
     },
     "metadata": {},
     "output_type": "display_data"
    }
   ],
   "source": [
    "model = choiceDDM(θ=θ, data=data, n=n);\n",
    "loglikelihood(model)"
   ]
  },
  {
   "attachments": {},
   "cell_type": "markdown",
   "metadata": {},
   "source": [
    "## Loading data and fitting a choice model from real data\n",
    "\n",
    "Because many neuroscientists use matlab, we use the [MAT.jl](https://github.com/JuliaIO/MAT.jl) package for IO. Data can be loaded using two conventions. One of these conventions is easier when data is saved within matlab as a .MAT file, and is described below. \n",
    "\n",
    "The package expects your data to live in a single .mat file which should contain a struct called `rawdata`. Each element of `rawdata` should have data for one behavioral trial and `rawdata` should contain the following fields with the specified structure:\n",
    "\n",
    " - `rawdata.leftbups`: row-vector containing the relative timing, in seconds, of left clicks on an individual trial. 0 seconds is the start of the click stimulus.\n",
    " - `rawdata.rightbups`: row-vector containing the relative timing in seconds (origin at 0 sec) of right clicks on an individual trial. 0 seconds is the start of the click stimulus.\n",
    " - `rawdata.T`: the duration of the trial, in seconds. The beginning of a trial is defined as the start of the click stimulus. The end of a trial is defined based on the behavioral event “cpoke_end”. This was the Hanks convention.\n",
    " - `rawdata.pokedR`: `Bool` representing the animal choice (1 = right).\n",
    " \n",
    "The example file located at `../choice model/example_matfile.mat` adheres to this convention and can be loaded using the `load_choice_data` method."
   ]
  },
  {
   "cell_type": "code",
   "execution_count": 46,
   "metadata": {},
   "outputs": [],
   "source": [
    "data = load_choice_data(\"../choice model/example_matfile.mat\");"
   ]
  },
  {
   "cell_type": "code",
   "execution_count": 47,
   "metadata": {},
   "outputs": [],
   "source": [
    "θ2 = θchoice(θz=θz(σ2_i = 2., B = 23., λ = 0.5, σ2_a = 100., σ2_s = 1.1,\n",
    "    ϕ = 0.35, τ_ϕ = 0.035), bias=0.2, lapse=0.01);"
   ]
  },
  {
   "cell_type": "code",
   "execution_count": 48,
   "metadata": {},
   "outputs": [
    {
     "data": {
      "text/plain": [
       "-4.321480367653434"
      ]
     },
     "metadata": {},
     "output_type": "display_data"
    }
   ],
   "source": [
    "model = choiceDDM(θ=θ2, data=data, n=n);\n",
    "loglikelihood(model)"
   ]
  },
  {
   "cell_type": "code",
   "execution_count": 49,
   "metadata": {},
   "outputs": [],
   "source": []
  },
  {
   "cell_type": "code",
   "execution_count": null,
   "metadata": {},
   "outputs": [],
   "source": []
  }
 ],
 "metadata": {
  "kernelspec": {
   "display_name": "Julia 1.9.1",
   "language": "julia",
   "name": "julia-1.9"
  },
  "language_info": {
   "file_extension": ".jl",
   "mimetype": "application/julia",
   "name": "julia",
   "version": "1.9.1"
  }
 },
 "nbformat": 4,
 "nbformat_minor": 2
}
