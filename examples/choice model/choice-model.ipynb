{
 "cells": [
  {
   "cell_type": "code",
   "execution_count": 1,
   "metadata": {},
   "outputs": [],
   "source": [
    "using Distributed\n",
    "addprocs(44);"
   ]
  },
  {
   "cell_type": "markdown",
   "metadata": {
    "scrolled": true
   },
   "source": [
    "### Fitting a choice model.\n",
    "\n",
    "First you have to include the necessary package"
   ]
  },
  {
   "cell_type": "code",
   "execution_count": 2,
   "metadata": {},
   "outputs": [],
   "source": [
    "using PulseInputDDM, Flatten"
   ]
  },
  {
   "cell_type": "markdown",
   "metadata": {},
   "source": [
    "### Geneerate some data\n",
    "Blah blah blah"
   ]
  },
  {
   "cell_type": "code",
   "execution_count": 3,
   "metadata": {},
   "outputs": [],
   "source": [
    "θ_syn = θchoice(θz=θz(σ2_i = 1., B = 13., λ = -0.5, σ2_a = 10., σ2_s = 1.0,\n",
    "    ϕ = 0.4, τ_ϕ = 0.02), bias=0.1, lapse=0.1);"
   ]
  },
  {
   "cell_type": "code",
   "execution_count": 4,
   "metadata": {},
   "outputs": [],
   "source": [
    "xgen = collect(Flatten.flatten(θ_syn));"
   ]
  },
  {
   "cell_type": "code",
   "execution_count": 5,
   "metadata": {},
   "outputs": [],
   "source": [
    "_, data = synthetic_data(;θ=θ_syn, ntrials=20_000, rng=1, dt=1e-2);"
   ]
  },
  {
   "cell_type": "code",
   "execution_count": 6,
   "metadata": {},
   "outputs": [
    {
     "data": {
      "text/plain": [
       "53"
      ]
     },
     "execution_count": 6,
     "metadata": {},
     "output_type": "execute_result"
    }
   ],
   "source": [
    "n = 53"
   ]
  },
  {
   "cell_type": "code",
   "execution_count": 7,
   "metadata": {},
   "outputs": [],
   "source": [
    "model = choiceDDM(θ=θ_syn, data=data, n=n);"
   ]
  },
  {
   "cell_type": "code",
   "execution_count": 8,
   "metadata": {},
   "outputs": [
    {
     "data": {
      "text/plain": [
       "-7480.922581827128"
      ]
     },
     "execution_count": 8,
     "metadata": {},
     "output_type": "execute_result"
    }
   ],
   "source": [
    "loglikelihood(model)"
   ]
  },
  {
   "cell_type": "code",
   "execution_count": 9,
   "metadata": {},
   "outputs": [],
   "source": [
    "x0 = vcat([0.1, 15., -0.1, 20., 0.5, 0.2, 0.008], [0.,0.01]); #random initial state"
   ]
  },
  {
   "cell_type": "code",
   "execution_count": 10,
   "metadata": {},
   "outputs": [
    {
     "data": {
      "text/plain": [
       "θchoice{θz{Float64}, Float64}\n",
       "  θz: θz{Float64}\n",
       "  bias: Float64 0.0\n",
       "  lapse: Float64 0.01\n"
      ]
     },
     "execution_count": 10,
     "metadata": {},
     "output_type": "execute_result"
    }
   ],
   "source": [
    "θ = Flatten.reconstruct(θchoice(), x0)"
   ]
  },
  {
   "cell_type": "code",
   "execution_count": 11,
   "metadata": {},
   "outputs": [],
   "source": [
    "model = choiceDDM(θ=θ, data=data, n=n);"
   ]
  },
  {
   "cell_type": "code",
   "execution_count": 12,
   "metadata": {},
   "outputs": [
    {
     "data": {
      "text/plain": [
       "-8783.722335396948"
      ]
     },
     "execution_count": 12,
     "metadata": {},
     "output_type": "execute_result"
    }
   ],
   "source": [
    "loglikelihood(model)"
   ]
  },
  {
   "cell_type": "code",
   "execution_count": 13,
   "metadata": {},
   "outputs": [
    {
     "data": {
      "text/plain": [
       "choiceoptions\n",
       "  fit: Array{Bool}((9,)) Bool[1, 1, 1, 1, 1, 1, 1, 1, 1]\n",
       "  lb: Array{Float64}((9,)) [0.0, 4.0, -5.0, 0.0, 0.0, 0.01, 0.005, -5.0, 0.0]\n",
       "  ub: Array{Float64}((9,)) [30.0, 30.0, 5.0, 100.0, 2.5, 1.2, 1.0, 5.0, 1.0]\n"
      ]
     },
     "execution_count": 13,
     "metadata": {},
     "output_type": "execute_result"
    }
   ],
   "source": [
    "options = choiceoptions()"
   ]
  },
  {
   "cell_type": "markdown",
   "metadata": {},
   "source": [
    "### Optimize stuff\n",
    "Blah blah blah"
   ]
  },
  {
   "cell_type": "code",
   "execution_count": 14,
   "metadata": {
    "scrolled": false
   },
   "outputs": [
    {
     "name": "stdout",
     "output_type": "stream",
     "text": [
      "Fminbox\n",
      "-------\n",
      "Initial mu = 0.396341\n",
      "\n",
      "Fminbox iteration 1\n",
      "-------------------\n",
      "Calling inner optimizer with mu = 0.396341\n",
      "\n",
      "(numbers below include barrier contribution)\n",
      "Iter     Function value   Gradient norm \n",
      "     0     8.790486e+03     1.277078e+05\n",
      " * time: 0.03212785720825195\n",
      "    10     7.483916e+03     1.584157e+03\n",
      " * time: 112.40252184867859\n",
      "    20     7.479882e+03     1.443157e+02\n",
      " * time: 202.04963493347168\n",
      "    30     7.479690e+03     2.722511e+01\n",
      " * time: 293.0238468647003\n",
      "    40     7.479663e+03     3.482095e+00\n",
      " * time: 386.31152391433716\n",
      "    50     7.479663e+03     2.536669e+00\n",
      " * time: 529.6162269115448\n",
      "\n",
      "Exiting inner optimizer with x = [8.758171255390243, 9.929634006402594, -0.657803717642161, 15.106766768320265, 0.6015775921004641, 0.5028012613313838, 0.025106138066745352, 0.10296987537085114, 0.08919730653492829]\n",
      "Current distance to box: 0.0201061\n",
      "Decreasing barrier term μ.\n",
      "\n",
      "Fminbox iteration 2\n",
      "-------------------\n",
      "Calling inner optimizer with mu = 0.000396341\n",
      "\n",
      "(numbers below include barrier contribution)\n",
      "Iter     Function value   Gradient norm \n",
      "     0     7.486079e+03     2.182680e+01\n",
      " * time: 3.0040740966796875e-5\n",
      "    10     7.486070e+03     2.302264e+00\n",
      " * time: 122.94940209388733\n",
      "    20     7.486062e+03     4.008233e+00\n",
      " * time: 228.01861310005188\n",
      "    30     7.486060e+03     1.374624e+00\n",
      " * time: 322.0131242275238\n",
      "    40     7.486060e+03     4.606927e-02\n",
      " * time: 422.1846251487732\n",
      "\n",
      "Exiting inner optimizer with x = [8.22181164712788, 9.722736982015702, -0.6746515315243008, 13.957143696535747, 0.6357282959148238, 0.49639876763397484, 0.02490216713490768, 0.10294903911454126, 0.08946266536045797]\n",
      "Current distance to box: 0.0199022\n",
      "Decreasing barrier term μ.\n",
      "\n",
      "Fminbox iteration 3\n",
      "-------------------\n",
      "Calling inner optimizer with mu = 3.96341e-7\n",
      "\n",
      "(numbers below include barrier contribution)\n",
      "Iter     Function value   Gradient norm \n",
      "     0     7.486067e+03     4.100789e-02\n",
      " * time: 3.2901763916015625e-5\n",
      "\n",
      "Exiting inner optimizer with x = [8.221811646413677, 9.722736973008576, -0.674651532142747, 13.957143697116775, 0.6357283025855255, 0.4963986735425631, 0.02490213912578523, 0.10294903911948766, 0.08946258741774996]\n",
      "Current distance to box: 0.0199021\n",
      "Decreasing barrier term μ.\n",
      "\n",
      "Fminbox iteration 4\n",
      "-------------------\n",
      "Calling inner optimizer with mu = 3.96341e-10\n",
      "\n",
      "(numbers below include barrier contribution)\n",
      "Iter     Function value   Gradient norm \n",
      "     0     7.486067e+03     4.838496e-03\n",
      " * time: 3.814697265625e-5\n",
      "\n",
      "Exiting inner optimizer with x = [8.221811645997633, 9.722736964595201, -0.6746515317042434, 13.957143697604316, 0.6357282931780418, 0.49639861340169505, 0.024902133661102537, 0.10294903895958779, 0.08946266347465955]\n",
      "Current distance to box: 0.0199021\n",
      "Decreasing barrier term μ.\n",
      "\n"
     ]
    },
    {
     "data": {
      "text/plain": [
       "(choiceDDM{θchoice{θz{Float64}, Float64}, Vector{PulseInputDDM.choicedata{PulseInputDDM.choiceinputs{PulseInputDDM.clicks, PulseInputDDM.binned_clicks}}}, θprior{Float64}}\n",
       "  θ: θchoice{θz{Float64}, Float64}\n",
       "  data: Array{PulseInputDDM.choicedata{PulseInputDDM.choiceinputs{PulseInputDDM.clicks, PulseInputDDM.binned_clicks}}}((20000,))\n",
       "  n: Int64 53\n",
       "  cross: Bool false\n",
       "  θprior: θprior{Float64}\n",
       ",  * Status: success\n",
       "\n",
       " * Candidate solution\n",
       "    Final objective value:     7.486067e+03\n",
       "\n",
       " * Found with\n",
       "    Algorithm:     Fminbox with BFGS\n",
       "\n",
       " * Convergence measures\n",
       "    |x - x'|               = 9.79e-08 ≰ 1.0e-10\n",
       "    |x - x'|/|x'|          = 5.18e-09 ≰ 0.0e+00\n",
       "    |f(x) - f(x')|         = 0.00e+00 ≤ 0.0e+00\n",
       "    |f(x) - f(x')|/|f(x')| = 0.00e+00 ≤ 1.0e-12\n",
       "    |g(x)|                 = 2.74e-03 ≰ 1.0e-03\n",
       "\n",
       " * Work counters\n",
       "    Seconds run:   1235  (vs limit 170000)\n",
       "    Iterations:    4\n",
       "    f(x) calls:    220\n",
       "    ∇f(x) calls:   107\n",
       ")"
      ]
     },
     "execution_count": 14,
     "metadata": {},
     "output_type": "execute_result"
    }
   ],
   "source": [
    "model, = optimize(model, options, f_tol=1e-12)"
   ]
  },
  {
   "cell_type": "code",
   "execution_count": 15,
   "metadata": {},
   "outputs": [
    {
     "data": {
      "text/plain": [
       "-7476.163209942431"
      ]
     },
     "execution_count": 15,
     "metadata": {},
     "output_type": "execute_result"
    }
   ],
   "source": [
    "loglikelihood(model)"
   ]
  },
  {
   "cell_type": "markdown",
   "metadata": {},
   "source": [
    "### Compute Hessian\n",
    "Blah blah blah"
   ]
  },
  {
   "cell_type": "code",
   "execution_count": 16,
   "metadata": {},
   "outputs": [
    {
     "data": {
      "text/plain": [
       "9-element Vector{Float64}:\n",
       "  1.515048520628337e-5\n",
       "  0.00018799498836619133\n",
       "  5.801660330817526e-6\n",
       " -9.712130112249362e-6\n",
       "  0.00020367244697361286\n",
       "  0.0012082080600208656\n",
       "  0.0027380002235304346\n",
       " -1.1891274864783696e-6\n",
       "  0.0014880339709577584"
      ]
     },
     "execution_count": 16,
     "metadata": {},
     "output_type": "execute_result"
    }
   ],
   "source": [
    "gradient(model)"
   ]
  },
  {
   "cell_type": "code",
   "execution_count": 17,
   "metadata": {},
   "outputs": [],
   "source": [
    "H = Hessian(model)\n",
    "CI, HPSD = CIs(H);"
   ]
  },
  {
   "cell_type": "code",
   "execution_count": 18,
   "metadata": {},
   "outputs": [
    {
     "data": {
      "text/plain": [
       "9-element Vector{Float64}:\n",
       "     0.008394116425879674\n",
       "     0.037046035234315745\n",
       "     0.24377112900926542\n",
       "    21.725323008838966\n",
       "    78.14397353323193\n",
       "   166.42114921239153\n",
       "   230.17235099745912\n",
       " 37074.2061175062\n",
       "     1.314365792005779e6"
      ]
     },
     "execution_count": 18,
     "metadata": {},
     "output_type": "execute_result"
    }
   ],
   "source": [
    "using LinearAlgebra\n",
    "eigvals(H)"
   ]
  },
  {
   "cell_type": "code",
   "execution_count": 19,
   "metadata": {},
   "outputs": [
    {
     "data": {
      "text/plain": [
       "9-element Vector{Float64}:\n",
       " 10.324975416655946\n",
       "  4.262537962562378\n",
       "  0.5705316490141428\n",
       " 21.803695063357726\n",
       "  0.799434215721121\n",
       "  0.1377196120122238\n",
       "  0.010010928137233395\n",
       "  0.15590877197959496\n",
       "  0.015335828930732192"
      ]
     },
     "execution_count": 19,
     "metadata": {},
     "output_type": "execute_result"
    }
   ],
   "source": [
    "CI"
   ]
  },
  {
   "cell_type": "code",
   "execution_count": 20,
   "metadata": {},
   "outputs": [
    {
     "data": {
      "text/plain": [
       "9-element Vector{Float64}:\n",
       "  8.221811645997633\n",
       "  9.722736964595201\n",
       " -0.6746515317042434\n",
       " 13.957143697604316\n",
       "  0.6357282931780418\n",
       "  0.49639861340169505\n",
       "  0.024902133661102537\n",
       "  0.10294903895958779\n",
       "  0.08946266347465955"
      ]
     },
     "execution_count": 20,
     "metadata": {},
     "output_type": "execute_result"
    }
   ],
   "source": [
    "xf = collect(Flatten.flatten(model.θ))"
   ]
  },
  {
   "cell_type": "code",
   "execution_count": 21,
   "metadata": {},
   "outputs": [
    {
     "data": {
      "text/plain": [
       "9-element BitVector:\n",
       " 1\n",
       " 1\n",
       " 1\n",
       " 1\n",
       " 1\n",
       " 1\n",
       " 1\n",
       " 1\n",
       " 1"
      ]
     },
     "execution_count": 21,
     "metadata": {},
     "output_type": "execute_result"
    }
   ],
   "source": [
    "(xf - CI) .< xgen"
   ]
  },
  {
   "cell_type": "code",
   "execution_count": 22,
   "metadata": {},
   "outputs": [
    {
     "data": {
      "text/plain": [
       "9-element BitVector:\n",
       " 1\n",
       " 1\n",
       " 1\n",
       " 1\n",
       " 1\n",
       " 1\n",
       " 1\n",
       " 1\n",
       " 1"
      ]
     },
     "execution_count": 22,
     "metadata": {},
     "output_type": "execute_result"
    }
   ],
   "source": [
    "(xf + CI) .> xgen"
   ]
  },
  {
   "cell_type": "code",
   "execution_count": 23,
   "metadata": {},
   "outputs": [
    {
     "data": {
      "text/plain": [
       "9×2 Matrix{Float64}:\n",
       "  8.22181     1.0\n",
       "  9.72274    13.0\n",
       " -0.674652   -0.5\n",
       " 13.9571     10.0\n",
       "  0.635728    1.0\n",
       "  0.496399    0.4\n",
       "  0.0249021   0.02\n",
       "  0.102949    0.1\n",
       "  0.0894627   0.1"
      ]
     },
     "execution_count": 23,
     "metadata": {},
     "output_type": "execute_result"
    }
   ],
   "source": [
    "hcat(xf, xgen)"
   ]
  },
  {
   "cell_type": "code",
   "execution_count": 24,
   "metadata": {},
   "outputs": [
    {
     "data": {
      "text/plain": [
       "9-element Vector{Float64}:\n",
       "  0.0\n",
       "  4.0\n",
       " -5.0\n",
       "  0.0\n",
       "  0.0\n",
       "  0.01\n",
       "  0.005\n",
       " -5.0\n",
       "  0.0"
      ]
     },
     "execution_count": 24,
     "metadata": {},
     "output_type": "execute_result"
    }
   ],
   "source": [
    "lb = options.lb"
   ]
  },
  {
   "cell_type": "code",
   "execution_count": 25,
   "metadata": {},
   "outputs": [
    {
     "data": {
      "text/plain": [
       "9-element Vector{Float64}:\n",
       "  30.0\n",
       "  30.0\n",
       "   5.0\n",
       " 100.0\n",
       "   2.5\n",
       "   1.2\n",
       "   1.0\n",
       "   5.0\n",
       "   1.0"
      ]
     },
     "execution_count": 25,
     "metadata": {},
     "output_type": "execute_result"
    }
   ],
   "source": [
    "ub = options.ub"
   ]
  },
  {
   "cell_type": "code",
   "execution_count": 26,
   "metadata": {},
   "outputs": [],
   "source": [
    "@everywhere ℓℓ(x, model) = -PulseInputDDM.loglikelihood(x, model)"
   ]
  },
  {
   "cell_type": "code",
   "execution_count": 27,
   "metadata": {},
   "outputs": [
    {
     "data": {
      "text/plain": [
       "9×1 Matrix{StepRangeLen{Float64, Base.TwicePrecision{Float64}, Base.TwicePrecision{Float64}}}:\n",
       " 2.220446049250313e-16:1.0344827586206897:30.0\n",
       " 4.0:0.896551724137931:30.0\n",
       " -5.0:0.3448275862068966:5.0\n",
       " 2.220446049250313e-16:3.4482758620689653:100.0\n",
       " 2.220446049250313e-16:0.08620689655172413:2.5\n",
       " 0.010000000000000222:0.04103448275862068:1.2\n",
       " 0.005000000000000222:0.0343103448275862:1.0\n",
       " -5.0:0.3448275862068966:5.0\n",
       " 2.220446049250313e-16:0.03448275862068965:1.0"
      ]
     },
     "execution_count": 27,
     "metadata": {},
     "output_type": "execute_result"
    }
   ],
   "source": [
    "αs = hcat(map((lb,ub)-> range(lb + eps(), stop=ub, length=30), lb, ub))"
   ]
  },
  {
   "cell_type": "code",
   "execution_count": 28,
   "metadata": {},
   "outputs": [],
   "source": [
    "LL_scan = map(i-> map(x-> ℓℓ(vcat(xf[1:i-1], x, xf[i+1:end]), model), αs[i]), 1:9);"
   ]
  },
  {
   "cell_type": "code",
   "execution_count": 29,
   "metadata": {},
   "outputs": [],
   "source": [
    "using PyPlot"
   ]
  },
  {
   "cell_type": "code",
   "execution_count": 30,
   "metadata": {},
   "outputs": [
    {
     "data": {
      "text/plain": [
       "(-2.1031637706583126, 0.0)"
      ]
     },
     "execution_count": 30,
     "metadata": {},
     "output_type": "execute_result"
    }
   ],
   "source": [
    "xf[1] - CI[1], lb[1]"
   ]
  },
  {
   "cell_type": "code",
   "execution_count": 31,
   "metadata": {},
   "outputs": [
    {
     "data": {
      "image/png": "[encoded data removed]",
      "text/plain": [
       "Figure(PyObject <Figure size 900x900 with 9 Axes>)"
      ]
     },
     "metadata": {},
     "output_type": "display_data"
    }
   ],
   "source": [
    "num_rows, num_cols = 3,3\n",
    "fig, ax = subplots(num_rows, num_cols, figsize=(9,9))\n",
    "name = [\"σ2_i\", \"B\", \"λ\", \"σ2_a\", \"σ2_s\", \"ϕ\", \"τ_ϕ\", \"bias\", \"lapse\"]\n",
    "\n",
    "for i in 1:9\n",
    "                  \n",
    "    ax[i].plot(αs[i], LL_scan[i], \"x\")\n",
    "    ax[i].set_title(name[i])\n",
    "    ax[i].plot(xgen[i]*ones(100), range(minimum(LL_scan[i]), stop=maximum(LL_scan[i]), length=100), \"k\")\n",
    "    ax[i].plot(xf[i]*ones(100), range(minimum(LL_scan[i]), stop=maximum(LL_scan[i]), length=100),\n",
    "        \"g--\")\n",
    "    ax[i].plot(max((xf[i] - CI[i]), lb[i]) *ones(100), range(minimum(LL_scan[i]), \n",
    "            stop=maximum(LL_scan[i]), length=100), \"r--\")\n",
    "    ax[i].plot(min((xf[i] + CI[i]), ub[i]) *ones(100), range(minimum(LL_scan[i]), \n",
    "            stop=maximum(LL_scan[i]), length=100), \"r--\")\n",
    "\n",
    "    \n",
    "end\n",
    "\n",
    "tight_layout() "
   ]
  },
  {
   "cell_type": "markdown",
   "metadata": {},
   "source": [
    "## Saving and reloading modeling results"
   ]
  },
  {
   "cell_type": "code",
   "execution_count": 32,
   "metadata": {},
   "outputs": [],
   "source": [
    "save_file = \"../choice model/example_results.mat\"\n",
    "save_choice_model(save_file, model, options, CI)"
   ]
  },
  {
   "cell_type": "code",
   "execution_count": 33,
   "metadata": {},
   "outputs": [
    {
     "data": {
      "text/plain": [
       "(θchoice{θz{Float64}, Float64}\n",
       "  θz: θz{Float64}\n",
       "  bias: Float64 0.10294903895958779\n",
       "  lapse: Float64 0.08946266347465955\n",
       ", choiceoptions\n",
       "  fit: Array{Bool}((9,)) Bool[1, 1, 1, 1, 1, 1, 1, 1, 1]\n",
       "  lb: Array{Float64}((9,)) [0.0, 4.0, -5.0, 0.0, 0.0, 0.01, 0.005, -5.0, 0.0]\n",
       "  ub: Array{Float64}((9,)) [30.0, 30.0, 5.0, 100.0, 2.5, 1.2, 1.0, 5.0, 1.0]\n",
       ")"
      ]
     },
     "execution_count": 33,
     "metadata": {},
     "output_type": "execute_result"
    }
   ],
   "source": [
    "#if you've already ran the optimization once and want to restart from where you stoped, this will reload those parameters\n",
    "θ, options = reload_choice_model(save_file)"
   ]
  },
  {
   "cell_type": "code",
   "execution_count": 34,
   "metadata": {},
   "outputs": [
    {
     "data": {
      "text/plain": [
       "-7476.163209942431"
      ]
     },
     "execution_count": 34,
     "metadata": {},
     "output_type": "execute_result"
    }
   ],
   "source": [
    "model = choiceDDM(θ=θ, data=data, n=n);\n",
    "loglikelihood(model)"
   ]
  },
  {
   "cell_type": "markdown",
   "metadata": {},
   "source": [
    "## Saving choice data"
   ]
  },
  {
   "cell_type": "code",
   "execution_count": 35,
   "metadata": {},
   "outputs": [],
   "source": [
    "PulseInputDDM.save_choice_data(\"../choice model/example_matfile_2.mat\", data)"
   ]
  },
  {
   "cell_type": "code",
   "execution_count": 36,
   "metadata": {},
   "outputs": [],
   "source": [
    "data = load_choice_data(\"../choice model/example_matfile_2.mat\");"
   ]
  },
  {
   "cell_type": "code",
   "execution_count": 37,
   "metadata": {},
   "outputs": [
    {
     "data": {
      "text/plain": [
       "-7476.163209942431"
      ]
     },
     "execution_count": 37,
     "metadata": {},
     "output_type": "execute_result"
    }
   ],
   "source": [
    "model = choiceDDM(θ=θ, data=data, n=n);\n",
    "loglikelihood(model)"
   ]
  },
  {
   "cell_type": "markdown",
   "metadata": {},
   "source": [
    "## Loading data and fitting a choice model\n",
    "\n",
    "The package expects your data to live in a single .mat file which should contain a struct called `rawdata`. Each element of `rawdata` should have data for one behavioral trial and `rawdata` should contain the following fields with the specified structure:\n",
    "\n",
    " - `rawdata.leftbups`: row-vector containing the relative timing, in seconds, of left clicks on an individual trial. 0 seconds is the start of the click stimulus.\n",
    " - `rawdata.rightbups`: row-vector containing the relative timing in seconds (origin at 0 sec) of right clicks on an individual trial. 0 seconds is the start of the click stimulus.\n",
    " - `rawdata.T`: the duration of the trial, in seconds. The beginning of a trial is defined as the start of the click stimulus. The end of a trial is defined based on the behavioral event “cpoke_end”. This was the Hanks convention.\n",
    " - `rawdata.pokedR`: `Bool` representing the animal choice (1 = right)."
   ]
  },
  {
   "cell_type": "code",
   "execution_count": 143,
   "metadata": {},
   "outputs": [],
   "source": [
    "data = load_choice_data(\"../choice model/example_matfile.mat\");"
   ]
  },
  {
   "cell_type": "markdown",
   "metadata": {},
   "source": [
    "## Fitting the model\n",
    "\n",
    "Once your data is correctly formatted and you have the package added in julia, you are ready to fit the model. You need to write a slurm script to use spock's resources and a .jl file to load the data and fit the model. See examples of each below. These files are also located in the package in the `examples` directory.\n",
    "\n",
    "### Example slurm script\n",
    "\n",
    "This will start a job called `fit_choice_model`. Output will be written to a log file called `fit_choice_model.out`. This will run on the `Brody` partition of spock for 12 hours, using 44 cores and 64 GB of memory. You'll notice that we load the julia module (like we did when we added the package) and then we call julia (`-p 44` uses the 44 cores) and ask it to run the .jl file.\n",
    "\n",
    "```\n",
    " #!/usr/bin/env bash\n",
    "\n",
    " #SBATCH -J 'fit_choice_model'\n",
    " #SBATCH -o ../logs/fit_choice_model.out\n",
    " #SBATCH -p Brody\n",
    " #SBATCH --time=12:00:00\n",
    " #SBATCH --mem=64000\n",
    " #SBATCH -c 44\n",
    "\n",
    " module load julia/1.0.0\n",
    " julia -p 44 ./fit_choice_model.jl\n",
    " ```"
   ]
  }
 ],
 "metadata": {
  "kernelspec": {
   "display_name": "Julia 1.6.0",
   "language": "julia",
   "name": "julia-1.6"
  },
  "language_info": {
   "file_extension": ".jl",
   "mimetype": "application/julia",
   "name": "julia",
   "version": "1.6.0"
  }
 },
 "nbformat": 4,
 "nbformat_minor": 2
}
