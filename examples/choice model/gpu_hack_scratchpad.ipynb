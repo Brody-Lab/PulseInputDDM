{
 "cells": [
  {
   "cell_type": "code",
   "execution_count": 6,
   "metadata": {},
   "outputs": [],
   "source": [
    "using Distributed\n",
    "# addprocs(44);"
   ]
  },
  {
   "cell_type": "code",
   "execution_count": 1,
   "metadata": {},
   "outputs": [],
   "source": [
    "using pulse_input_DDM\n",
    "using pulse_input_DDM.Parameters:@unpack"
   ]
  },
  {
   "cell_type": "code",
   "execution_count": 2,
   "metadata": {},
   "outputs": [],
   "source": [
    "using BenchmarkTools"
   ]
  },
  {
   "cell_type": "code",
   "execution_count": 3,
   "metadata": {},
   "outputs": [],
   "source": [
    "using CUDA"
   ]
  },
  {
   "cell_type": "code",
   "execution_count": null,
   "metadata": {},
   "outputs": [],
   "source": [
    "using Profile\n",
    "using ProfileSVG\n",
    "ProfileSVG.set_default(maxdepth = 500, maxframes = 3000)"
   ]
  },
  {
   "cell_type": "code",
   "execution_count": 4,
   "metadata": {},
   "outputs": [],
   "source": [
    "n = 53 \n",
    "dt = 1e-2\n",
    "ntrials = 50000\n",
    "\n",
    "σ2_i = 5.\n",
    "B = 8.\n",
    "λ = -1.\n",
    "σ2_a = 20.\n",
    "σ2_s = 0.5\n",
    "ϕ = 0.8\n",
    "τ_ϕ = 0.05\n",
    "\n",
    "bias=0.\n",
    "lapse=0.0\n",
    "\n",
    "θ = θchoice(θz=θz(σ2_i = σ2_i, B = B, λ = λ, σ2_a = σ2_a, σ2_s = σ2_s,\n",
    "    ϕ = ϕ, τ_ϕ = τ_ϕ), bias= bias, lapse=lapse);"
   ]
  },
  {
   "cell_type": "code",
   "execution_count": 7,
   "metadata": {},
   "outputs": [],
   "source": [
    "rng = 1\n",
    "clicks = synthetic_clicks(ntrials, rng, tmin = 1., tmax = 1.)\n",
    "binned_clicks = bin_clicks.(clicks,centered=true,dt=dt)\n",
    "inputs = map((clicks, binned_clicks)-> pulse_input_DDM.choiceinputs(clicks=clicks, binned_clicks=binned_clicks, \n",
    "    dt=dt, centered=true), clicks, binned_clicks)\n",
    " \n",
    "ntrials = length(inputs)\n",
    "rng = pulse_input_DDM.sample(pulse_input_DDM.Random.seed!(rng), 1:ntrials, ntrials; replace=false)\n",
    "\n",
    "#choices = rand.(Ref(θ), inputs, rng)\n",
    "choices = pmap((inputs, rng) -> rand(θ, inputs, rng), inputs, rng)\n",
    "\n",
    "data = pulse_input_DDM.choicedata.(inputs, choices);\n"
   ]
  },
  {
   "cell_type": "code",
   "execution_count": null,
   "metadata": {},
   "outputs": [],
   "source": [
    "model = choiceDDM(θ=θ, data=data, n=n)"
   ]
  },
  {
   "cell_type": "code",
   "execution_count": null,
   "metadata": {},
   "outputs": [],
   "source": [
    "@benchmark loglikelihood(model)"
   ]
  },
  {
   "cell_type": "code",
   "execution_count": 11,
   "metadata": {},
   "outputs": [
    {
     "data": {
      "text/plain": [
       "loglikelihood_gpu (generic function with 1 method)"
      ]
     },
     "execution_count": 11,
     "metadata": {},
     "output_type": "execute_result"
    }
   ],
   "source": [
    "function data_for_gpu(inputs, θ, ntrials)\n",
    "    \n",
    "    @unpack σ2_s = θ.θz\n",
    "    \n",
    "    mus = zeros(Float32, ceil(Int, 1/dt)+1, ntrials)\n",
    "    sigmas = zeros(Float32, ceil(Int, 1/dt), ntrials)\n",
    "\n",
    "    leftclicks = map(input -> map(x->round.(Int,x), (input.clicks.L ./dt)), inputs) \n",
    "    rightclicks = map(input -> map(x->round.(Int,x), (input.clicks.R ./dt)), inputs) \n",
    "\n",
    "    for i = 1:ntrials\n",
    "        leftidx = unique(leftclicks[i])[2:end-1]\n",
    "        rightidx = unique(rightclicks[i])[2:end-1]\n",
    "        mus[leftidx,i] .= Float32(-1)\n",
    "        mus[rightidx,i] .= Float32(1)\n",
    "        sigmas[leftidx, i] .= Float32(σ2_s)\n",
    "        sigmas[rightidx, i] .= Float32(σ2_s)\n",
    "\n",
    "    end\n",
    "    \n",
    "    return cu(mus), cu(sigmas)\n",
    "    \n",
    "end\n",
    "\n",
    "\n",
    "\n",
    "function transition_M_element_one!(i::Int, j::Int, σ2::TT, λ::TT, μ::TT, dx::UU,\n",
    "        xc::Union{CuDeviceVector{TT}, Vector{TT}}, n::Int, dt::Float32) where {TT,UU <: Any}\n",
    "\n",
    "    #if s <= xc[1]\n",
    "      # F[1,j] += ps[k]\n",
    "    # elseif s >= xc[n]\n",
    "      # F[n,j] += ps[k]\n",
    "\n",
    "    mu = exp(λ*dt)*xc[j] + μ * expm1_div_x(λ*dt)\n",
    "    norm = sqrt(2*pi*σ2)/dx\n",
    "\n",
    "    res ::Float32 = 0.\n",
    "\n",
    "    if ((i == 1 && j == 1) || (i == n && j == n))\n",
    "       return Float32(1.0)\n",
    "    end\n",
    "\n",
    "    if j == 1 || j == n\n",
    "      return Float32(0.0)\n",
    "    end\n",
    "\n",
    "    s = xc[2] + (i-2)*dx\n",
    "\n",
    "    val = Float32(exp(-0.5 * (s-mu)^2/σ2)/norm)\n",
    "\n",
    "    if i == 1\n",
    "      return Float32(0.5 * val) + Float32(sqrt((pi*σ2)/2) * (erf(Float32((xc[1] - mu)/sqrt(2*σ2))) + 1) / (dx* norm))\n",
    "    end\n",
    "\n",
    "    if i == n\n",
    "      return Float32(0.5 * val) + Float32(sqrt((pi*σ2)/2) * (erfc(Float32((xc[n] - mu)/sqrt(2*σ2)))) / (dx * norm))\n",
    "    end\n",
    "    \n",
    "    return val\n",
    "    \n",
    "end\n",
    "\n",
    "\n",
    "\n",
    "\n",
    "function matrix_vector_dot!(σ2::CuDeviceVector{TT}, λ:: Float32, μ::CuDeviceVector{TT}, dx::Float32,\n",
    "        xc::CuDeviceVector{TT}, n::Int, dt::Float32,\n",
    "        P, P_out) where {TT<:Any}\n",
    "\n",
    "    sdata = @cuStaticSharedMem(Float32,1024)\n",
    "\n",
    "    tid = threadIdx().x\n",
    "    tid_global = (threadIdx().y - 1) * blockDim().x + threadIdx().x\n",
    "\n",
    "    i_trial = blockIdx().z\n",
    "\n",
    "    for i = 0:blockDim().y:n\n",
    "      j = tid\n",
    "      sdata[tid] = 0.0\n",
    "      i_local = i + threadIdx().y\n",
    "      \n",
    "      if j<=n && i_local <= n\n",
    "          # initialize\n",
    "          P_out[blockIdx().y] = 0.0\n",
    "\n",
    "          sdata[tid_global] = transition_M_element_one!(i_local, j, σ2[i_trial], λ, μ[i_trial], dx, xc, n, dt)*P[i_trial, j]\n",
    "          #sdata[tid_global] = Float32(1.0)\n",
    "\n",
    "          j += blockDim().x\n",
    "          while j<=n\n",
    "              sdata[tid_global] += transition_M_element_one!(i_local, j, σ2[i_trial], λ, μ[i_trial], dx, xc, n, dt)*P[i_trial, j]\n",
    "              #sdata[tid_global] += Float32(1.0)\n",
    "              j += blockDim().x\n",
    "          end\n",
    "      end\n",
    "\n",
    "      sync_threads()\n",
    "\n",
    "      # do reduction in shared mem\n",
    "      s = blockDim().x ÷ 2\n",
    "      while s > 0\n",
    "        if ((tid-1) < s)\n",
    "            sdata[tid_global] += sdata[tid_global+s]\n",
    "        end\n",
    "        sync_threads()\n",
    "        s = (s÷2)\n",
    "      end\n",
    "\n",
    "      if i_local <= n\n",
    "        # write result\n",
    "        if tid==1\n",
    "            P_out[i_trial,i_local] = sdata[1+(threadIdx().y - 1)*blockDim().x]\n",
    "        end\n",
    "      end\n",
    "\n",
    "    end\n",
    "    return nothing\n",
    "end\n",
    "     \n",
    "\n",
    "\n",
    "\n",
    "function propagate_P(P::CuArray{TT,2}, σ2::CuArray{TT}, λ, μ::CuArray{TT}, n::Int, dx::VV, xc::CuArray{TT}, dt::Float64) where {TT,VV <: Any}\n",
    "    \n",
    "    ntrials = size(P, 1)\n",
    "    P_out = CUDA.zeros(TT,ntrials,n)\n",
    "\n",
    "    thread_x = 16\n",
    "    thread_y = 16\n",
    "\n",
    "    @cuda threads=(thread_x,thread_y) blocks=(Int(round(n/thread_x))+1, Int(round(n/thread_y))+1, ntrials) matrix_vector_dot!(σ2, Float32(λ), μ , Float32(dx),\n",
    "        xc, n, Float32(dt), P, P_out)\n",
    "    \n",
    "    sync.threads()\n",
    "    return P_out\n",
    "end\n",
    "\n",
    "\n",
    "\n",
    "function P_all_trials(θ, n, dt, μs, σs)\n",
    "    \n",
    "    @unpack σ2_i, B, λ, σ2_a, σ2_s = θ.θz\n",
    "    \n",
    "    P,M,xc,dx = pulse_input_DDM.initialize_latent_model(σ2_i, B, λ, σ2_a, n, dt)\n",
    "    xc = cu(xc)\n",
    "\n",
    "    ntrial = size(μs)[1]\n",
    "    T = size(μs)[2]\n",
    "    P = cu(Array(repeat(P, 1, ntrials)'))\n",
    "    \n",
    "    # walk over time steps\n",
    "    @inbounds for t = 1:T\n",
    "        print(t)\n",
    "        P = propagate_P(P, σs[:,t] .+ Float32(σ2_a), λ, μs[:,t], n, dx, xc, dt)\n",
    "    end\n",
    "    \n",
    "    return P\n",
    "    \n",
    "end\n",
    "\n",
    "\n",
    "function choicelik(choice, pright, pleft)\n",
    "    if choice \n",
    "        return pright\n",
    "    else \n",
    "        return pleft\n",
    "    end\n",
    "end\n",
    "\n",
    "\n",
    "function loglikelihood_gpu(μs, σs, θ, data, n, dt)\n",
    "    \n",
    "    P = P_all_trials(θ, n, dt, μs, σs)\n",
    "    \n",
    "    choice = map(data->data.choice, data)\n",
    "    P_left = sum(P[1:floor(Int,n/2)])\n",
    "    P_right = sum(P[ceil(Int,n/2):n])\n",
    "    likelihood = pmap((choice, pright, pleft) -> choicelik(choice, pright, pleft), choice, P_right, P_left)\n",
    "    \n",
    "    return log.(likelihood)\n",
    "\n",
    "end\n",
    "\n",
    "\n",
    "    \n"
   ]
  },
  {
   "cell_type": "code",
   "execution_count": 12,
   "metadata": {},
   "outputs": [],
   "source": [
    "μs, σs =  data_for_gpu(inputs, θ, ntrials);\n"
   ]
  },
  {
   "cell_type": "code",
   "execution_count": null,
   "metadata": {},
   "outputs": [],
   "source": [
    "@unpack σ2_i, B, λ, σ2_a, σ2_s = θ.θz\n",
    "    \n",
    "P,M,xc,dx = pulse_input_DDM.initialize_latent_model(σ2_i, B, λ, σ2_a, n, dt)\n",
    "xc = cu(xc)\n",
    "\n",
    "ntrial = size(μs)[1]\n",
    "T = size(μs)[2]\n",
    "P = cu(Array(repeat(P, 1, ntrials)'))\n",
    "\n",
    "\n",
    "t = 1\n",
    "\n",
    "propagate_P(P, σs[:,t] .+ Float32(σ2_a), λ, μs[:,t], n, dx, xc, dt)"
   ]
  },
  {
   "cell_type": "code",
   "execution_count": 13,
   "metadata": {},
   "outputs": [
    {
     "name": "stdout",
     "output_type": "stream",
     "text": [
      "1"
     ]
    },
    {
     "ename": "LoadError",
     "evalue": "\u001b[91mInvalidIRError: compiling kernel matrix_vector_dot!(CuDeviceArray{Float32,1,1}, Float32, CuDeviceArray{Float32,1,1}, Float32, CuDeviceArray{Float32,1,1}, Int64, Float32, CuDeviceArray{Float32,2,1}, CuDeviceArray{Float32,2,1}) resulted in invalid LLVM IR\u001b[39m\n\u001b[91mReason: unsupported dynamic function invocation (call to -)\u001b[39m\n\u001b[91mStacktrace:\u001b[39m\n\u001b[91m [1] \u001b[1mtransition_M_element_one!\u001b[22m at \u001b[1mIn[11]:50\u001b[22m\u001b[39m\n\u001b[91m [2] \u001b[1mmultiple call sites\u001b[22m at \u001b[1munknown:0\u001b[22m\u001b[39m\n\u001b[91mReason: unsupported dynamic function invocation (call to literal_pow)\u001b[39m\n\u001b[91mStacktrace:\u001b[39m\n\u001b[91m [1] \u001b[1mtransition_M_element_one!\u001b[22m at \u001b[1mIn[11]:50\u001b[22m\u001b[39m\n\u001b[91m [2] \u001b[1mmultiple call sites\u001b[22m at \u001b[1munknown:0\u001b[22m\u001b[39m\n\u001b[91mReason: unsupported dynamic function invocation (call to *)\u001b[39m\n\u001b[91mStacktrace:\u001b[39m\n\u001b[91m [1] \u001b[1mtransition_M_element_one!\u001b[22m at \u001b[1mIn[11]:50\u001b[22m\u001b[39m\n\u001b[91m [2] \u001b[1mmultiple call sites\u001b[22m at \u001b[1munknown:0\u001b[22m\u001b[39m\n\u001b[91mReason: unsupported dynamic function invocation (call to /)\u001b[39m\n\u001b[91mStacktrace:\u001b[39m\n\u001b[91m [1] \u001b[1mtransition_M_element_one!\u001b[22m at \u001b[1mIn[11]:50\u001b[22m\u001b[39m\n\u001b[91m [2] \u001b[1mmultiple call sites\u001b[22m at \u001b[1munknown:0\u001b[22m\u001b[39m\n\u001b[91mReason: unsupported dynamic function invocation (call to exp)\u001b[39m\n\u001b[91mStacktrace:\u001b[39m\n\u001b[91m [1] \u001b[1mtransition_M_element_one!\u001b[22m at \u001b[1mIn[11]:50\u001b[22m\u001b[39m\n\u001b[91m [2] \u001b[1mmultiple call sites\u001b[22m at \u001b[1munknown:0\u001b[22m\u001b[39m\n\u001b[91mReason: unsupported dynamic function invocation (call to Float32)\u001b[39m\n\u001b[91mStacktrace:\u001b[39m\n\u001b[91m [1] \u001b[1mtransition_M_element_one!\u001b[22m at \u001b[1mIn[11]:50\u001b[22m\u001b[39m\n\u001b[91m [2] \u001b[1mmultiple call sites\u001b[22m at \u001b[1munknown:0\u001b[22m\u001b[39m\n\u001b[91mReason: unsupported dynamic function invocation (call to *)\u001b[39m\n\u001b[91mStacktrace:\u001b[39m\n\u001b[91m [1] \u001b[1mtransition_M_element_one!\u001b[22m at \u001b[1mIn[11]:53\u001b[22m\u001b[39m\n\u001b[91m [2] \u001b[1mmultiple call sites\u001b[22m at \u001b[1munknown:0\u001b[22m\u001b[39m\n\u001b[91mReason: unsupported dynamic function invocation (call to Float32)\u001b[39m\n\u001b[91mStacktrace:\u001b[39m\n\u001b[91m [1] \u001b[1mtransition_M_element_one!\u001b[22m at \u001b[1mIn[11]:53\u001b[22m\u001b[39m\n\u001b[91m [2] \u001b[1mmultiple call sites\u001b[22m at \u001b[1munknown:0\u001b[22m\u001b[39m\n\u001b[91mReason: unsupported dynamic function invocation (call to -)\u001b[39m\n\u001b[91mStacktrace:\u001b[39m\n\u001b[91m [1] \u001b[1mtransition_M_element_one!\u001b[22m at \u001b[1mIn[11]:53\u001b[22m\u001b[39m\n\u001b[91m [2] \u001b[1mmultiple call sites\u001b[22m at \u001b[1munknown:0\u001b[22m\u001b[39m\n\u001b[91mReason: unsupported dynamic function invocation (call to /)\u001b[39m\n\u001b[91mStacktrace:\u001b[39m\n\u001b[91m [1] \u001b[1mtransition_M_element_one!\u001b[22m at \u001b[1mIn[11]:53\u001b[22m\u001b[39m\n\u001b[91m [2] \u001b[1mmultiple call sites\u001b[22m at \u001b[1munknown:0\u001b[22m\u001b[39m\n\u001b[91mReason: unsupported dynamic function invocation (call to *)\u001b[39m\n\u001b[91mStacktrace:\u001b[39m\n\u001b[91m [1] \u001b[1mtransition_M_element_one!\u001b[22m at \u001b[1mIn[11]:57\u001b[22m\u001b[39m\n\u001b[91m [2] \u001b[1mmultiple call sites\u001b[22m at \u001b[1munknown:0\u001b[22m\u001b[39m\n\u001b[91mReason: unsupported dynamic function invocation (call to Float32)\u001b[39m\n\u001b[91mStacktrace:\u001b[39m\n\u001b[91m [1] \u001b[1mtransition_M_element_one!\u001b[22m at \u001b[1mIn[11]:57\u001b[22m\u001b[39m\n\u001b[91m [2] \u001b[1mmultiple call sites\u001b[22m at \u001b[1munknown:0\u001b[22m\u001b[39m\n\u001b[91mReason: unsupported dynamic function invocation (call to -)\u001b[39m\n\u001b[91mStacktrace:\u001b[39m\n\u001b[91m [1] \u001b[1mtransition_M_element_one!\u001b[22m at \u001b[1mIn[11]:57\u001b[22m\u001b[39m\n\u001b[91m [2] \u001b[1mmultiple call sites\u001b[22m at \u001b[1munknown:0\u001b[22m\u001b[39m\n\u001b[91mReason: unsupported dynamic function invocation (call to /)\u001b[39m\n\u001b[91mStacktrace:\u001b[39m\n\u001b[91m [1] \u001b[1mtransition_M_element_one!\u001b[22m at \u001b[1mIn[11]:57\u001b[22m\u001b[39m\n\u001b[91m [2] \u001b[1mmultiple call sites\u001b[22m at \u001b[1munknown:0\u001b[22m\u001b[39m\n\u001b[91mReason: unsupported use of an undefined name (use of 'expm1_div_x')\u001b[39m\n\u001b[91mStacktrace:\u001b[39m\n\u001b[91m [1] \u001b[1mtransition_M_element_one!\u001b[22m at \u001b[1mIn[11]:35\u001b[22m\u001b[39m\n\u001b[91m [2] \u001b[1mmultiple call sites\u001b[22m at \u001b[1munknown:0\u001b[22m\u001b[39m\n\u001b[91mReason: unsupported dynamic function invocation\u001b[39m\n\u001b[91mStacktrace:\u001b[39m\n\u001b[91m [1] \u001b[1mtransition_M_element_one!\u001b[22m at \u001b[1mIn[11]:35\u001b[22m\u001b[39m\n\u001b[91m [2] \u001b[1mmultiple call sites\u001b[22m at \u001b[1munknown:0\u001b[22m\u001b[39m\n\u001b[91mReason: unsupported dynamic function invocation (call to *)\u001b[39m\n\u001b[91mStacktrace:\u001b[39m\n\u001b[91m [1] \u001b[1mtransition_M_element_one!\u001b[22m at \u001b[1mIn[11]:35\u001b[22m\u001b[39m\n\u001b[91m [2] \u001b[1mmultiple call sites\u001b[22m at \u001b[1munknown:0\u001b[22m\u001b[39m\n\u001b[91mReason: unsupported dynamic function invocation (call to +)\u001b[39m\n\u001b[91mStacktrace:\u001b[39m\n\u001b[91m [1] \u001b[1mtransition_M_element_one!\u001b[22m at \u001b[1mIn[11]:35\u001b[22m\u001b[39m\n\u001b[91m [2] \u001b[1mmultiple call sites\u001b[22m at \u001b[1munknown:0\u001b[22m\u001b[39m\n\u001b[91mReason: unsupported use of an undefined name (use of 'erf')\u001b[39m\n\u001b[91mStacktrace:\u001b[39m\n\u001b[91m [1] \u001b[1mtransition_M_element_one!\u001b[22m at \u001b[1mIn[11]:53\u001b[22m\u001b[39m\n\u001b[91m [2] \u001b[1mmultiple call sites\u001b[22m at \u001b[1munknown:0\u001b[22m\u001b[39m\n\u001b[91mReason: unsupported dynamic function invocation\u001b[39m\n\u001b[91mStacktrace:\u001b[39m\n\u001b[91m [1] \u001b[1mtransition_M_element_one!\u001b[22m at \u001b[1mIn[11]:53\u001b[22m\u001b[39m\n\u001b[91m [2] \u001b[1mmultiple call sites\u001b[22m at \u001b[1munknown:0\u001b[22m\u001b[39m\n\u001b[91mReason: unsupported dynamic function invocation (call to +)\u001b[39m\n\u001b[91mStacktrace:\u001b[39m\n\u001b[91m [1] \u001b[1mtransition_M_element_one!\u001b[22m at \u001b[1mIn[11]:53\u001b[22m\u001b[39m\n\u001b[91m [2] \u001b[1mmultiple call sites\u001b[22m at \u001b[1munknown:0\u001b[22m\u001b[39m\n\u001b[91mReason: unsupported use of an undefined name (use of 'erfc')\u001b[39m\n\u001b[91mStacktrace:\u001b[39m\n\u001b[91m [1] \u001b[1mtransition_M_element_one!\u001b[22m at \u001b[1mIn[11]:57\u001b[22m\u001b[39m\n\u001b[91m [2] \u001b[1mmultiple call sites\u001b[22m at \u001b[1munknown:0\u001b[22m\u001b[39m\n\u001b[91mReason: unsupported dynamic function invocation\u001b[39m\n\u001b[91mStacktrace:\u001b[39m\n\u001b[91m [1] \u001b[1mtransition_M_element_one!\u001b[22m at \u001b[1mIn[11]:57\u001b[22m\u001b[39m\n\u001b[91m [2] \u001b[1mmultiple call sites\u001b[22m at \u001b[1munknown:0\u001b[22m\u001b[39m\n\u001b[91mReason: unsupported dynamic function invocation (call to +)\u001b[39m\n\u001b[91mStacktrace:\u001b[39m\n\u001b[91m [1] \u001b[1mtransition_M_element_one!\u001b[22m at \u001b[1mIn[11]:57\u001b[22m\u001b[39m\n\u001b[91m [2] \u001b[1mmultiple call sites\u001b[22m at \u001b[1munknown:0\u001b[22m\u001b[39m\n\u001b[91mReason: unsupported dynamic function invocation (call to *)\u001b[39m\n\u001b[91mStacktrace:\u001b[39m\n\u001b[91m [1] \u001b[1mmatrix_vector_dot!\u001b[22m at \u001b[1mIn[11]:87\u001b[22m\u001b[39m\n\u001b[91mReason: unsupported dynamic function invocation (call to convert)\u001b[39m\n\u001b[91mStacktrace:\u001b[39m\n\u001b[91m [1] \u001b[1msetindex!\u001b[22m at \u001b[1m/home/dikshag/.julia/packages/CUDA/mbPFj/src/device/array.jl:101\u001b[22m\u001b[39m\n\u001b[91m [2] \u001b[1mmatrix_vector_dot!\u001b[22m at \u001b[1mIn[11]:87\u001b[22m\u001b[39m\n\u001b[91mReason: unsupported dynamic function invocation (call to *)\u001b[39m\n\u001b[91mStacktrace:\u001b[39m\n\u001b[91m [1] \u001b[1mmatrix_vector_dot!\u001b[22m at \u001b[1mIn[11]:92\u001b[22m\u001b[39m\n\u001b[91mReason: unsupported dynamic function invocation (call to +)\u001b[39m\n\u001b[91mStacktrace:\u001b[39m\n\u001b[91m [1] \u001b[1mmatrix_vector_dot!\u001b[22m at \u001b[1mIn[11]:92\u001b[22m\u001b[39m\n\u001b[91mReason: unsupported dynamic function invocation (call to convert)\u001b[39m\n\u001b[91mStacktrace:\u001b[39m\n\u001b[91m [1] \u001b[1msetindex!\u001b[22m at \u001b[1m/home/dikshag/.julia/packages/CUDA/mbPFj/src/device/array.jl:101\u001b[22m\u001b[39m\n\u001b[91m [2] \u001b[1mmatrix_vector_dot!\u001b[22m at \u001b[1mIn[11]:92\u001b[22m\u001b[39m",
     "output_type": "error",
     "traceback": [
      "\u001b[91mInvalidIRError: compiling kernel matrix_vector_dot!(CuDeviceArray{Float32,1,1}, Float32, CuDeviceArray{Float32,1,1}, Float32, CuDeviceArray{Float32,1,1}, Int64, Float32, CuDeviceArray{Float32,2,1}, CuDeviceArray{Float32,2,1}) resulted in invalid LLVM IR\u001b[39m\n\u001b[91mReason: unsupported dynamic function invocation (call to -)\u001b[39m\n\u001b[91mStacktrace:\u001b[39m\n\u001b[91m [1] \u001b[1mtransition_M_element_one!\u001b[22m at \u001b[1mIn[11]:50\u001b[22m\u001b[39m\n\u001b[91m [2] \u001b[1mmultiple call sites\u001b[22m at \u001b[1munknown:0\u001b[22m\u001b[39m\n\u001b[91mReason: unsupported dynamic function invocation (call to literal_pow)\u001b[39m\n\u001b[91mStacktrace:\u001b[39m\n\u001b[91m [1] \u001b[1mtransition_M_element_one!\u001b[22m at \u001b[1mIn[11]:50\u001b[22m\u001b[39m\n\u001b[91m [2] \u001b[1mmultiple call sites\u001b[22m at \u001b[1munknown:0\u001b[22m\u001b[39m\n\u001b[91mReason: unsupported dynamic function invocation (call to *)\u001b[39m\n\u001b[91mStacktrace:\u001b[39m\n\u001b[91m [1] \u001b[1mtransition_M_element_one!\u001b[22m at \u001b[1mIn[11]:50\u001b[22m\u001b[39m\n\u001b[91m [2] \u001b[1mmultiple call sites\u001b[22m at \u001b[1munknown:0\u001b[22m\u001b[39m\n\u001b[91mReason: unsupported dynamic function invocation (call to /)\u001b[39m\n\u001b[91mStacktrace:\u001b[39m\n\u001b[91m [1] \u001b[1mtransition_M_element_one!\u001b[22m at \u001b[1mIn[11]:50\u001b[22m\u001b[39m\n\u001b[91m [2] \u001b[1mmultiple call sites\u001b[22m at \u001b[1munknown:0\u001b[22m\u001b[39m\n\u001b[91mReason: unsupported dynamic function invocation (call to exp)\u001b[39m\n\u001b[91mStacktrace:\u001b[39m\n\u001b[91m [1] \u001b[1mtransition_M_element_one!\u001b[22m at \u001b[1mIn[11]:50\u001b[22m\u001b[39m\n\u001b[91m [2] \u001b[1mmultiple call sites\u001b[22m at \u001b[1munknown:0\u001b[22m\u001b[39m\n\u001b[91mReason: unsupported dynamic function invocation (call to Float32)\u001b[39m\n\u001b[91mStacktrace:\u001b[39m\n\u001b[91m [1] \u001b[1mtransition_M_element_one!\u001b[22m at \u001b[1mIn[11]:50\u001b[22m\u001b[39m\n\u001b[91m [2] \u001b[1mmultiple call sites\u001b[22m at \u001b[1munknown:0\u001b[22m\u001b[39m\n\u001b[91mReason: unsupported dynamic function invocation (call to *)\u001b[39m\n\u001b[91mStacktrace:\u001b[39m\n\u001b[91m [1] \u001b[1mtransition_M_element_one!\u001b[22m at \u001b[1mIn[11]:53\u001b[22m\u001b[39m\n\u001b[91m [2] \u001b[1mmultiple call sites\u001b[22m at \u001b[1munknown:0\u001b[22m\u001b[39m\n\u001b[91mReason: unsupported dynamic function invocation (call to Float32)\u001b[39m\n\u001b[91mStacktrace:\u001b[39m\n\u001b[91m [1] \u001b[1mtransition_M_element_one!\u001b[22m at \u001b[1mIn[11]:53\u001b[22m\u001b[39m\n\u001b[91m [2] \u001b[1mmultiple call sites\u001b[22m at \u001b[1munknown:0\u001b[22m\u001b[39m\n\u001b[91mReason: unsupported dynamic function invocation (call to -)\u001b[39m\n\u001b[91mStacktrace:\u001b[39m\n\u001b[91m [1] \u001b[1mtransition_M_element_one!\u001b[22m at \u001b[1mIn[11]:53\u001b[22m\u001b[39m\n\u001b[91m [2] \u001b[1mmultiple call sites\u001b[22m at \u001b[1munknown:0\u001b[22m\u001b[39m\n\u001b[91mReason: unsupported dynamic function invocation (call to /)\u001b[39m\n\u001b[91mStacktrace:\u001b[39m\n\u001b[91m [1] \u001b[1mtransition_M_element_one!\u001b[22m at \u001b[1mIn[11]:53\u001b[22m\u001b[39m\n\u001b[91m [2] \u001b[1mmultiple call sites\u001b[22m at \u001b[1munknown:0\u001b[22m\u001b[39m\n\u001b[91mReason: unsupported dynamic function invocation (call to *)\u001b[39m\n\u001b[91mStacktrace:\u001b[39m\n\u001b[91m [1] \u001b[1mtransition_M_element_one!\u001b[22m at \u001b[1mIn[11]:57\u001b[22m\u001b[39m\n\u001b[91m [2] \u001b[1mmultiple call sites\u001b[22m at \u001b[1munknown:0\u001b[22m\u001b[39m\n\u001b[91mReason: unsupported dynamic function invocation (call to Float32)\u001b[39m\n\u001b[91mStacktrace:\u001b[39m\n\u001b[91m [1] \u001b[1mtransition_M_element_one!\u001b[22m at \u001b[1mIn[11]:57\u001b[22m\u001b[39m\n\u001b[91m [2] \u001b[1mmultiple call sites\u001b[22m at \u001b[1munknown:0\u001b[22m\u001b[39m\n\u001b[91mReason: unsupported dynamic function invocation (call to -)\u001b[39m\n\u001b[91mStacktrace:\u001b[39m\n\u001b[91m [1] \u001b[1mtransition_M_element_one!\u001b[22m at \u001b[1mIn[11]:57\u001b[22m\u001b[39m\n\u001b[91m [2] \u001b[1mmultiple call sites\u001b[22m at \u001b[1munknown:0\u001b[22m\u001b[39m\n\u001b[91mReason: unsupported dynamic function invocation (call to /)\u001b[39m\n\u001b[91mStacktrace:\u001b[39m\n\u001b[91m [1] \u001b[1mtransition_M_element_one!\u001b[22m at \u001b[1mIn[11]:57\u001b[22m\u001b[39m\n\u001b[91m [2] \u001b[1mmultiple call sites\u001b[22m at \u001b[1munknown:0\u001b[22m\u001b[39m\n\u001b[91mReason: unsupported use of an undefined name (use of 'expm1_div_x')\u001b[39m\n\u001b[91mStacktrace:\u001b[39m\n\u001b[91m [1] \u001b[1mtransition_M_element_one!\u001b[22m at \u001b[1mIn[11]:35\u001b[22m\u001b[39m\n\u001b[91m [2] \u001b[1mmultiple call sites\u001b[22m at \u001b[1munknown:0\u001b[22m\u001b[39m\n\u001b[91mReason: unsupported dynamic function invocation\u001b[39m\n\u001b[91mStacktrace:\u001b[39m\n\u001b[91m [1] \u001b[1mtransition_M_element_one!\u001b[22m at \u001b[1mIn[11]:35\u001b[22m\u001b[39m\n\u001b[91m [2] \u001b[1mmultiple call sites\u001b[22m at \u001b[1munknown:0\u001b[22m\u001b[39m\n\u001b[91mReason: unsupported dynamic function invocation (call to *)\u001b[39m\n\u001b[91mStacktrace:\u001b[39m\n\u001b[91m [1] \u001b[1mtransition_M_element_one!\u001b[22m at \u001b[1mIn[11]:35\u001b[22m\u001b[39m\n\u001b[91m [2] \u001b[1mmultiple call sites\u001b[22m at \u001b[1munknown:0\u001b[22m\u001b[39m\n\u001b[91mReason: unsupported dynamic function invocation (call to +)\u001b[39m\n\u001b[91mStacktrace:\u001b[39m\n\u001b[91m [1] \u001b[1mtransition_M_element_one!\u001b[22m at \u001b[1mIn[11]:35\u001b[22m\u001b[39m\n\u001b[91m [2] \u001b[1mmultiple call sites\u001b[22m at \u001b[1munknown:0\u001b[22m\u001b[39m\n\u001b[91mReason: unsupported use of an undefined name (use of 'erf')\u001b[39m\n\u001b[91mStacktrace:\u001b[39m\n\u001b[91m [1] \u001b[1mtransition_M_element_one!\u001b[22m at \u001b[1mIn[11]:53\u001b[22m\u001b[39m\n\u001b[91m [2] \u001b[1mmultiple call sites\u001b[22m at \u001b[1munknown:0\u001b[22m\u001b[39m\n\u001b[91mReason: unsupported dynamic function invocation\u001b[39m\n\u001b[91mStacktrace:\u001b[39m\n\u001b[91m [1] \u001b[1mtransition_M_element_one!\u001b[22m at \u001b[1mIn[11]:53\u001b[22m\u001b[39m\n\u001b[91m [2] \u001b[1mmultiple call sites\u001b[22m at \u001b[1munknown:0\u001b[22m\u001b[39m\n\u001b[91mReason: unsupported dynamic function invocation (call to +)\u001b[39m\n\u001b[91mStacktrace:\u001b[39m\n\u001b[91m [1] \u001b[1mtransition_M_element_one!\u001b[22m at \u001b[1mIn[11]:53\u001b[22m\u001b[39m\n\u001b[91m [2] \u001b[1mmultiple call sites\u001b[22m at \u001b[1munknown:0\u001b[22m\u001b[39m\n\u001b[91mReason: unsupported use of an undefined name (use of 'erfc')\u001b[39m\n\u001b[91mStacktrace:\u001b[39m\n\u001b[91m [1] \u001b[1mtransition_M_element_one!\u001b[22m at \u001b[1mIn[11]:57\u001b[22m\u001b[39m\n\u001b[91m [2] \u001b[1mmultiple call sites\u001b[22m at \u001b[1munknown:0\u001b[22m\u001b[39m\n\u001b[91mReason: unsupported dynamic function invocation\u001b[39m\n\u001b[91mStacktrace:\u001b[39m\n\u001b[91m [1] \u001b[1mtransition_M_element_one!\u001b[22m at \u001b[1mIn[11]:57\u001b[22m\u001b[39m\n\u001b[91m [2] \u001b[1mmultiple call sites\u001b[22m at \u001b[1munknown:0\u001b[22m\u001b[39m\n\u001b[91mReason: unsupported dynamic function invocation (call to +)\u001b[39m\n\u001b[91mStacktrace:\u001b[39m\n\u001b[91m [1] \u001b[1mtransition_M_element_one!\u001b[22m at \u001b[1mIn[11]:57\u001b[22m\u001b[39m\n\u001b[91m [2] \u001b[1mmultiple call sites\u001b[22m at \u001b[1munknown:0\u001b[22m\u001b[39m\n\u001b[91mReason: unsupported dynamic function invocation (call to *)\u001b[39m\n\u001b[91mStacktrace:\u001b[39m\n\u001b[91m [1] \u001b[1mmatrix_vector_dot!\u001b[22m at \u001b[1mIn[11]:87\u001b[22m\u001b[39m\n\u001b[91mReason: unsupported dynamic function invocation (call to convert)\u001b[39m\n\u001b[91mStacktrace:\u001b[39m\n\u001b[91m [1] \u001b[1msetindex!\u001b[22m at \u001b[1m/home/dikshag/.julia/packages/CUDA/mbPFj/src/device/array.jl:101\u001b[22m\u001b[39m\n\u001b[91m [2] \u001b[1mmatrix_vector_dot!\u001b[22m at \u001b[1mIn[11]:87\u001b[22m\u001b[39m\n\u001b[91mReason: unsupported dynamic function invocation (call to *)\u001b[39m\n\u001b[91mStacktrace:\u001b[39m\n\u001b[91m [1] \u001b[1mmatrix_vector_dot!\u001b[22m at \u001b[1mIn[11]:92\u001b[22m\u001b[39m\n\u001b[91mReason: unsupported dynamic function invocation (call to +)\u001b[39m\n\u001b[91mStacktrace:\u001b[39m\n\u001b[91m [1] \u001b[1mmatrix_vector_dot!\u001b[22m at \u001b[1mIn[11]:92\u001b[22m\u001b[39m\n\u001b[91mReason: unsupported dynamic function invocation (call to convert)\u001b[39m\n\u001b[91mStacktrace:\u001b[39m\n\u001b[91m [1] \u001b[1msetindex!\u001b[22m at \u001b[1m/home/dikshag/.julia/packages/CUDA/mbPFj/src/device/array.jl:101\u001b[22m\u001b[39m\n\u001b[91m [2] \u001b[1mmatrix_vector_dot!\u001b[22m at \u001b[1mIn[11]:92\u001b[22m\u001b[39m",
      "",
      "Stacktrace:",
      " [1] check_ir(::GPUCompiler.CompilerJob{GPUCompiler.PTXCompilerTarget,CUDA.CUDACompilerParams}, ::LLVM.Module) at /home/dikshag/.julia/packages/GPUCompiler/uTpNx/src/validation.jl:123",
      " [2] macro expansion at /home/dikshag/.julia/packages/GPUCompiler/uTpNx/src/driver.jl:239 [inlined]",
      " [3] macro expansion at /home/dikshag/.julia/packages/TimerOutputs/PZq45/src/TimerOutput.jl:226 [inlined]",
      " [4] codegen(::Symbol, ::GPUCompiler.CompilerJob; libraries::Bool, deferred_codegen::Bool, optimize::Bool, strip::Bool, validate::Bool, only_entry::Bool) at /home/dikshag/.julia/packages/GPUCompiler/uTpNx/src/driver.jl:237",
      " [5] compile(::Symbol, ::GPUCompiler.CompilerJob; libraries::Bool, deferred_codegen::Bool, optimize::Bool, strip::Bool, validate::Bool, only_entry::Bool) at /home/dikshag/.julia/packages/GPUCompiler/uTpNx/src/driver.jl:39",
      " [6] compile at /home/dikshag/.julia/packages/GPUCompiler/uTpNx/src/driver.jl:35 [inlined]",
      " [7] cufunction_compile(::GPUCompiler.FunctionSpec; kwargs::Base.Iterators.Pairs{Union{},Union{},Tuple{},NamedTuple{(),Tuple{}}}) at /home/dikshag/.julia/packages/CUDA/mbPFj/src/compiler/execution.jl:302",
      " [8] cufunction_compile(::GPUCompiler.FunctionSpec) at /home/dikshag/.julia/packages/CUDA/mbPFj/src/compiler/execution.jl:297",
      " [9] check_cache(::Dict{UInt64,Any}, ::Any, ::Any, ::GPUCompiler.FunctionSpec{typeof(matrix_vector_dot!),Tuple{CuDeviceArray{Float32,1,1},Float32,CuDeviceArray{Float32,1,1},Float32,CuDeviceArray{Float32,1,1},Int64,Float32,CuDeviceArray{Float32,2,1},CuDeviceArray{Float32,2,1}}}, ::UInt64; kwargs::Base.Iterators.Pairs{Union{},Union{},Tuple{},NamedTuple{(),Tuple{}}}) at /home/dikshag/.julia/packages/GPUCompiler/uTpNx/src/cache.jl:40",
      " [10] matrix_vector_dot! at ./In[11]:71 [inlined]",
      " [11] cached_compilation at /home/dikshag/.julia/packages/GPUCompiler/uTpNx/src/cache.jl:65 [inlined]",
      " [12] cufunction(::typeof(matrix_vector_dot!), ::Type{Tuple{CuDeviceArray{Float32,1,1},Float32,CuDeviceArray{Float32,1,1},Float32,CuDeviceArray{Float32,1,1},Int64,Float32,CuDeviceArray{Float32,2,1},CuDeviceArray{Float32,2,1}}}; name::Nothing, kwargs::Base.Iterators.Pairs{Union{},Union{},Tuple{},NamedTuple{(),Tuple{}}}) at /home/dikshag/.julia/packages/CUDA/mbPFj/src/compiler/execution.jl:289",
      " [13] cufunction at /home/dikshag/.julia/packages/CUDA/mbPFj/src/compiler/execution.jl:286 [inlined]",
      " [14] macro expansion at /home/dikshag/.julia/packages/CUDA/mbPFj/src/compiler/execution.jl:100 [inlined]",
      " [15] propagate_P(::CuArray{Float32,2}, ::CuArray{Float32,1}, ::Float64, ::CuArray{Float32,1}, ::Int64, ::Float64, ::CuArray{Float32,1}, ::Float64) at ./In[11]:132",
      " [16] P_all_trials(::θchoice{θz{Float64},Float64}, ::Int64, ::Float64, ::CuArray{Float32,2}, ::CuArray{Float32,2}) at ./In[11]:155",
      " [17] loglikelihood_gpu(::CuArray{Float32,2}, ::CuArray{Float32,2}, ::θchoice{θz{Float64},Float64}, ::Array{pulse_input_DDM.choicedata{pulse_input_DDM.choiceinputs{pulse_input_DDM.clicks,pulse_input_DDM.binned_clicks}},1}, ::Int64, ::Float64) at ./In[11]:174",
      " [18] ##core#461() at /home/dikshag/.julia/packages/BenchmarkTools/MPPDO/src/execution.jl:479",
      " [19] ##sample#462(::BenchmarkTools.Parameters) at /home/dikshag/.julia/packages/BenchmarkTools/MPPDO/src/execution.jl:485",
      " [20] _run(::BenchmarkTools.Benchmark, ::BenchmarkTools.Parameters; verbose::Bool, pad::String, kwargs::Base.Iterators.Pairs{Symbol,Integer,NTuple{4,Symbol},NamedTuple{(:samples, :evals, :gctrial, :gcsample),Tuple{Int64,Int64,Bool,Bool}}}) at /home/dikshag/.julia/packages/BenchmarkTools/MPPDO/src/execution.jl:98",
      " [21] (::Base.var\"#inner#2\"{Base.Iterators.Pairs{Symbol,Integer,NTuple{5,Symbol},NamedTuple{(:verbose, :samples, :evals, :gctrial, :gcsample),Tuple{Bool,Int64,Int64,Bool,Bool}}},typeof(BenchmarkTools._run),Tuple{BenchmarkTools.Benchmark,BenchmarkTools.Parameters}})() at ./essentials.jl:713",
      " [22] #invokelatest#1 at ./essentials.jl:714 [inlined]",
      " [23] #run_result#38 at /home/dikshag/.julia/packages/BenchmarkTools/MPPDO/src/execution.jl:33 [inlined]",
      " [24] run(::BenchmarkTools.Benchmark, ::BenchmarkTools.Parameters; progressid::Nothing, nleaves::Float64, ndone::Float64, kwargs::Base.Iterators.Pairs{Symbol,Integer,NTuple{5,Symbol},NamedTuple{(:verbose, :samples, :evals, :gctrial, :gcsample),Tuple{Bool,Int64,Int64,Bool,Bool}}}) at /home/dikshag/.julia/packages/BenchmarkTools/MPPDO/src/execution.jl:116",
      " [25] #warmup#47 at /home/dikshag/.julia/packages/BenchmarkTools/MPPDO/src/execution.jl:168 [inlined]",
      " [26] warmup(::BenchmarkTools.Benchmark) at /home/dikshag/.julia/packages/BenchmarkTools/MPPDO/src/execution.jl:168",
      " [27] top-level scope at /home/dikshag/.julia/packages/BenchmarkTools/MPPDO/src/execution.jl:387",
      " [28] include_string(::Function, ::Module, ::String, ::String) at ./loading.jl:1091"
     ]
    }
   ],
   "source": [
    "@benchmark loglikelihood_gpu(μs, σs, θ, data, n, dt)"
   ]
  },
  {
   "cell_type": "code",
   "execution_count": null,
   "metadata": {},
   "outputs": [],
   "source": [
    "data"
   ]
  },
  {
   "cell_type": "code",
   "execution_count": null,
   "metadata": {},
   "outputs": [],
   "source": [
    "@profview loglikelihood(model)\n",
    "ProfileSVG.save(\"loglikelihood_prof.svg\")\n"
   ]
  },
  {
   "cell_type": "code",
   "execution_count": null,
   "metadata": {},
   "outputs": [],
   "source": [
    "@profview gradient(model)"
   ]
  },
  {
   "cell_type": "code",
   "execution_count": null,
   "metadata": {},
   "outputs": [],
   "source": [
    "ProfileSVG.save(\"gradient_prof.svg\")\n"
   ]
  },
  {
   "cell_type": "code",
   "execution_count": null,
   "metadata": {},
   "outputs": [],
   "source": [
    "fit = vcat(trues(9));\n",
    "lb = [0., 2.,  -5., 0.,   0.,  0., 0.005, -5.0, 0.0]\n",
    "ub = [30., 100., 5., 200., 10., 1.2,  1., 5.0, 1.0];\n",
    "options = choiceoptions(fit=fit, lb=lb, ub=ub)\n",
    "x_generative = collect(pulse_input_DDM.Flatten.flatten(θ_generative));\n",
    "\n",
    "x0 = vcat([0.1, 15., -0.1, 20.,  0.5, 0.2,  0.008], [0.,  0.01]);\n",
    "\n",
    "model = choiceDDM(θ=pulse_input_DDM.Flatten.reconstruct(θchoice(),x0), data=data_50K, n=n)\n",
    "\n",
    "@profview optimize(model, options, iterations = 2)"
   ]
  },
  {
   "cell_type": "code",
   "execution_count": null,
   "metadata": {},
   "outputs": [],
   "source": [
    "ProfileSVG.save(\"optimize_prof.svg\")\n"
   ]
  },
  {
   "cell_type": "code",
   "execution_count": null,
   "metadata": {},
   "outputs": [],
   "source": []
  }
 ],
 "metadata": {
  "kernelspec": {
   "display_name": "Julia 1.5.0",
   "language": "julia",
   "name": "julia-1.5"
  },
  "language_info": {
   "file_extension": ".jl",
   "mimetype": "application/julia",
   "name": "julia",
   "version": "1.5.0"
  }
 },
 "nbformat": 4,
 "nbformat_minor": 4
}
