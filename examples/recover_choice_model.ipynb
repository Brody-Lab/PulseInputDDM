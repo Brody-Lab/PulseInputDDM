{
 "cells": [
  {
   "cell_type": "code",
   "execution_count": 1,
   "metadata": {},
   "outputs": [],
   "source": [
    "using Distributed\n",
    "addprocs(44);"
   ]
  },
  {
   "cell_type": "markdown",
   "metadata": {
    "scrolled": true
   },
   "source": [
    "### Fitting a choice model.\n",
    "\n",
    "First you have to include the necessary package"
   ]
  },
  {
   "cell_type": "code",
   "execution_count": 2,
   "metadata": {
    "collapsed": true
   },
   "outputs": [
    {
     "name": "stderr",
     "output_type": "stream",
     "text": [
      "┌ Info: Recompiling stale cache file /usr/people/briandd/.julia/compiled/v1.2/pulse_input_DDM/m8WoA.ji for pulse_input_DDM [c2542da2-1f7d-11e9-2506-87691095ebb2]\n",
      "└ @ Base loading.jl:1240\n",
      "┌ Warning: The call to compilecache failed to create a usable precompiled cache file for pulse_input_DDM [c2542da2-1f7d-11e9-2506-87691095ebb2]\n",
      "│   exception = ArgumentError: Invalid checksum in cache file /usr/people/briandd/.julia/compiled/v1.2/pulse_input_DDM/m8WoA.ji.\n",
      "└ @ Base loading.jl:1025\n",
      "┌ Warning: The call to compilecache failed to create a usable precompiled cache file for pulse_input_DDM [c2542da2-1f7d-11e9-2506-87691095ebb2]\n",
      "│   exception = ArgumentError: Invalid checksum in cache file /usr/people/briandd/.julia/compiled/v1.2/pulse_input_DDM/m8WoA.ji.\n",
      "└ @ Base loading.jl:1025\n",
      "┌ Warning: The call to compilecache failed to create a usable precompiled cache file for pulse_input_DDM [c2542da2-1f7d-11e9-2506-87691095ebb2]\n",
      "│   exception = ArgumentError: Invalid checksum in cache file /usr/people/briandd/.julia/compiled/v1.2/pulse_input_DDM/m8WoA.ji.\n",
      "└ @ Base loading.jl:1025\n",
      "┌ Warning: The call to compilecache failed to create a usable precompiled cache file for pulse_input_DDM [c2542da2-1f7d-11e9-2506-87691095ebb2]\n",
      "│   exception = ArgumentError: Invalid checksum in cache file /usr/people/briandd/.julia/compiled/v1.2/pulse_input_DDM/m8WoA.ji.\n",
      "└ @ Base loading.jl:1025\n",
      "┌ Warning: The call to compilecache failed to create a usable precompiled cache file for pulse_input_DDM [c2542da2-1f7d-11e9-2506-87691095ebb2]\n",
      "│   exception = ArgumentError: Invalid checksum in cache file /usr/people/briandd/.julia/compiled/v1.2/pulse_input_DDM/m8WoA.ji.\n",
      "└ @ Base loading.jl:1025\n",
      "┌ Warning: The call to compilecache failed to create a usable precompiled cache file for pulse_input_DDM [c2542da2-1f7d-11e9-2506-87691095ebb2]\n",
      "│   exception = ArgumentError: Invalid checksum in cache file /usr/people/briandd/.julia/compiled/v1.2/pulse_input_DDM/m8WoA.ji.\n",
      "└ @ Base loading.jl:1025\n",
      "┌ Warning: The call to compilecache failed to create a usable precompiled cache file for pulse_input_DDM [c2542da2-1f7d-11e9-2506-87691095ebb2]\n",
      "│   exception = ArgumentError: Invalid checksum in cache file /usr/people/briandd/.julia/compiled/v1.2/pulse_input_DDM/m8WoA.ji.\n",
      "└ @ Base loading.jl:1025\n",
      "┌ Warning: The call to compilecache failed to create a usable precompiled cache file for pulse_input_DDM [c2542da2-1f7d-11e9-2506-87691095ebb2]\n",
      "│   exception = ArgumentError: Invalid checksum in cache file /usr/people/briandd/.julia/compiled/v1.2/pulse_input_DDM/m8WoA.ji.\n",
      "└ @ Base loading.jl:1025\n"
     ]
    }
   ],
   "source": [
    "using pulse_input_DDM"
   ]
  },
  {
   "cell_type": "code",
   "execution_count": 3,
   "metadata": {},
   "outputs": [
    {
     "data": {
      "text/plain": [
       "θchoice{θz{Float64},Float64}\n",
       "  θz: θz{Float64}\n",
       "  bias: Float64 0.1\n",
       "  lapse: Float64 0.1\n"
      ]
     },
     "execution_count": 3,
     "metadata": {},
     "output_type": "execute_result"
    }
   ],
   "source": [
    "θ_syn = θchoice(θz=θz(σ2_i = 1., B = 13., λ = -0.5, σ2_a = 10., σ2_s = 1.0,\n",
    "    ϕ = 0.4, τ_ϕ = 0.02), bias=0.1, lapse=0.1);"
   ]
  },
  {
   "cell_type": "code",
   "execution_count": 4,
   "metadata": {},
   "outputs": [
    {
     "data": {
      "text/plain": [
       "(θchoice{θz{Float64},Float64}\n",
       "  θz: θz{Float64}\n",
       "  bias: Float64 0.1\n",
       "  lapse: Float64 0.1\n",
       ", choicedata{pulse_input_DDM.binned_clicks{pulse_input_DDM.clicks}}\n",
       "  binned_clicks: pulse_input_DDM.binned_clicks{pulse_input_DDM.clicks}\n",
       "  choices: Array{Bool}((20000,)) Bool[0, 0, 0, 0, 0, 0, 1, 1, 0, 1  …  1, 0, 1, 0, 0, 1, 1, 1, 1, 0]\n",
       ")"
      ]
     },
     "execution_count": 4,
     "metadata": {},
     "output_type": "execute_result"
    }
   ],
   "source": [
    "# ### Geneerate some data\n",
    "# Blah blah blah\n",
    "\n",
    "θ_syn, data = synthetic_data(;θ=θ_syn, ntrials=20_000, rng=1, dt=2e-2);"
   ]
  },
  {
   "cell_type": "code",
   "execution_count": 5,
   "metadata": {},
   "outputs": [
    {
     "data": {
      "text/plain": [
       "-7696.220939998316"
      ]
     },
     "execution_count": 5,
     "metadata": {},
     "output_type": "execute_result"
    }
   ],
   "source": [
    "loglikelihood(θ_syn, data; n=53)"
   ]
  },
  {
   "cell_type": "code",
   "execution_count": 6,
   "metadata": {},
   "outputs": [],
   "source": [
    "#options = opt(x0=vcat([2.0, 15., -5., 100., 2., 0.2, 0.005], [0.,0.5]), fit=vcat(trues(9)))\n",
    "x0 = pulse_input_DDM.unpack(θ_syn);"
   ]
  },
  {
   "cell_type": "code",
   "execution_count": 7,
   "metadata": {},
   "outputs": [
    {
     "data": {
      "text/plain": [
       "opt\n",
       "  fit: Array{Bool}((9,)) Bool[1, 1, 1, 1, 1, 1, 1, 1, 1]\n",
       "  lb: Array{Float64}((9,)) [0.0, 8.0, -5.0, 0.0, 0.0, 0.01, 0.005, -30.0, 0.0]\n",
       "  ub: Array{Float64}((9,)) [2.0, 30.0, 5.0, 100.0, 2.5, 1.2, 1.0, 30.0, 1.0]\n",
       "  x0: Array{Float64}((9,)) [1.0, 13.0, -0.5, 10.0, 1.0, 0.4, 0.02, 0.1, 0.1]\n"
      ]
     },
     "execution_count": 7,
     "metadata": {},
     "output_type": "execute_result"
    }
   ],
   "source": [
    "options = opt(x0=x0, fit=vcat(trues(9)))"
   ]
  },
  {
   "cell_type": "code",
   "execution_count": null,
   "metadata": {},
   "outputs": [],
   "source": [
    "options = choiceoptions(fit = vcat(trues(9)),\n",
    "    lb = vcat([0., 8., -5., 0., 0., 0.01, 0.005], [-30, 0.]),\n",
    "    ub = vcat([2., 30., 5., 100., 2.5, 1.2, 1.], [30, 1.]),\n",
    "    x0 = vcat([0.1, 15., -0.1, 20., 0.5, 0.8, 0.008], [0.,0.01]))"
   ]
  },
  {
   "cell_type": "code",
   "execution_count": 8,
   "metadata": {},
   "outputs": [
    {
     "name": "stdout",
     "output_type": "stream",
     "text": [
      "Fminbox\n",
      "-------\n",
      "Initial mu = 0.00638245\n",
      "\n",
      "Fminbox iteration 1\n",
      "-------------------\n",
      "Calling inner optimizer with mu = 0.00638245\n",
      "\n",
      "(numbers below include barrier contribution)\n",
      "Iter     Function value   Gradient norm \n",
      "     0     7.696132e+03     4.170923e+02\n",
      " * time: 6.699562072753906e-5\n",
      "     1     7.696070e+03     7.265251e+01\n",
      " * time: 39.73499798774719\n",
      "     2     7.695984e+03     8.563043e+00\n",
      " * time: 64.82688093185425\n",
      "     3     7.695128e+03     3.943878e+02\n",
      " * time: 84.04938197135925\n",
      "     4     7.694530e+03     3.505901e+02\n",
      " * time: 102.78532004356384\n",
      "     5     7.694505e+03     3.729790e+02\n",
      " * time: 127.83246397972107\n",
      "     6     7.694407e+03     4.524382e+02\n",
      " * time: 140.4383339881897\n",
      "     7     7.694321e+03     2.269044e+02\n",
      " * time: 159.24430584907532\n",
      "     8     7.694250e+03     2.365244e+00\n",
      " * time: 171.80226492881775\n",
      "     9     7.694219e+03     5.808357e+01\n",
      " * time: 184.37298583984375\n",
      "    10     7.694179e+03     1.157545e+02\n",
      " * time: 196.99891185760498\n",
      "    11     7.694176e+03     1.128668e+02\n",
      " * time: 215.65135192871094\n",
      "    12     7.694162e+03     8.469054e+01\n",
      " * time: 228.14340686798096\n",
      "    13     7.694143e+03     2.021643e+01\n",
      " * time: 240.77227807044983\n",
      "    14     7.694117e+03     4.586432e+02\n",
      " * time: 253.25369691848755\n",
      "    15     7.694020e+03     3.009945e+02\n",
      " * time: 265.6882629394531\n",
      "    16     7.693843e+03     1.824550e+02\n",
      " * time: 278.1946918964386\n",
      "    17     7.693752e+03     6.727706e+01\n",
      " * time: 290.60057306289673\n",
      "    18     7.693685e+03     2.507662e+02\n",
      " * time: 303.0624830722809\n",
      "    19     7.693658e+03     1.855094e+02\n",
      " * time: 315.3013038635254\n",
      "    20     7.693631e+03     1.883739e+01\n",
      " * time: 327.4243450164795\n",
      "    21     7.693617e+03     2.061212e+02\n",
      " * time: 339.72110199928284\n",
      "    22     7.693585e+03     1.576291e+01\n",
      " * time: 351.9269349575043\n",
      "    23     7.693573e+03     8.366461e+00\n",
      " * time: 364.1196939945221\n",
      "    24     7.693563e+03     1.579991e+01\n",
      " * time: 376.18359088897705\n",
      "    25     7.693559e+03     1.846725e+00\n",
      " * time: 388.21659994125366\n",
      "    26     7.693554e+03     2.997631e+01\n",
      " * time: 400.4140269756317\n",
      "\n",
      "Exiting inner optimizer with x = [1.8963717225478602, 8.786295222164407, -0.9151810791656636, 5.384651932101686, 0.9481424897359911, 0.43916171112161306, 0.023242534641211125, 0.07230573278077969, 0.10432798807750282]\n",
      "Current distance to box: 0.0182425\n",
      "Decreasing barrier term μ.\n",
      "\n",
      "Fminbox iteration 2\n",
      "-------------------\n",
      "Calling inner optimizer with mu = 6.38245e-6\n",
      "\n",
      "(numbers below include barrier contribution)\n",
      "Iter     Function value   Gradient norm \n",
      "     0     7.693619e+03     2.963332e+01\n",
      " * time: 3.600120544433594e-5\n",
      "     1     7.693619e+03     2.879763e+01\n",
      " * time: 36.327208042144775\n",
      "     2     7.693619e+03     2.760242e+01\n",
      " * time: 66.4945900440216\n",
      "\n",
      "Exiting inner optimizer with x = [1.8963721972444123, 8.786293928397935, -0.9151500193130035, 5.384650377849843, 0.9481607441065288, 0.4391185341591928, 0.02327637074256916, 0.07230423723545853, 0.10444901674505674]\n",
      "Current distance to box: 0.0182764\n",
      "Decreasing barrier term μ.\n",
      "\n",
      "optimization complete. converged: true \n",
      "\n"
     ]
    },
    {
     "data": {
      "text/plain": [
       "(choiceDDM{θchoice{θz{Float64},Float64},choicedata{pulse_input_DDM.binned_clicks{pulse_input_DDM.clicks}}}\n",
       "  θ: θchoice{θz{Float64},Float64}\n",
       "  data: choicedata{pulse_input_DDM.binned_clicks{pulse_input_DDM.clicks}}\n",
       ", opt\n",
       "  fit: Array{Bool}((9,)) Bool[1, 1, 1, 1, 1, 1, 1, 1, 1]\n",
       "  lb: Array{Float64}((9,)) [0.0, 8.0, -5.0, 0.0, 0.0, 0.01, 0.005, -30.0, 0.0]\n",
       "  ub: Array{Float64}((9,)) [2.0, 30.0, 5.0, 100.0, 2.5, 1.2, 1.0, 30.0, 1.0]\n",
       "  x0: Array{Float64}((9,)) [1.0, 13.0, -0.5, 10.0, 1.0, 0.4, 0.02, 0.1, 0.1]\n",
       ")"
      ]
     },
     "execution_count": 8,
     "metadata": {},
     "output_type": "execute_result"
    }
   ],
   "source": [
    "# ### Optimize stuff\n",
    "# Blah blah blah\n",
    "\n",
    "model = optimize(data, options, n)"
   ]
  },
  {
   "cell_type": "code",
   "execution_count": 9,
   "metadata": {},
   "outputs": [
    {
     "data": {
      "text/plain": [
       "9×9 Array{Float64,2}:\n",
       "   0.421972      -0.287895      0.362867  …   -0.000377595     88.0863  \n",
       "  -0.287895       1.82425      -6.60207        0.869303       -31.678   \n",
       "   0.362867      -6.60207      38.7851        -4.20145        -77.0353  \n",
       "   0.287953      -0.218237      0.131531      -0.035091        67.5174  \n",
       "  14.0074        -8.0386        4.81296       -0.252732      3083.66    \n",
       " -26.7807        -1.62062      53.831     …  -15.2947       -5684.57    \n",
       " 607.779         51.8879    -1413.39         400.302            1.3079e5\n",
       "  -0.000377595    0.869303     -4.20145      179.108           41.7698  \n",
       "  88.0863       -31.678       -77.0353        41.7698       49830.8     "
      ]
     },
     "execution_count": 9,
     "metadata": {},
     "output_type": "execute_result"
    }
   ],
   "source": [
    "# ### Compute Hessian\n",
    "# Blah blah blah\n",
    "\n",
    "H = Hessian(model, n)\n",
    "CI, HPSD = CIs(model, H);"
   ]
  },
  {
   "cell_type": "code",
   "execution_count": 23,
   "metadata": {},
   "outputs": [
    {
     "data": {
      "text/plain": [
       "9-element Array{Float64,1}:\n",
       " 13.312598582460902   \n",
       "  3.1868183252501443  \n",
       "  0.6092720299369769  \n",
       " 21.775525026883248   \n",
       "  0.8771791422887526  \n",
       "  0.13704050545626043 \n",
       "  0.00889247732132922 \n",
       "  0.14985016702491966 \n",
       "  0.011608920273994449"
      ]
     },
     "execution_count": 23,
     "metadata": {},
     "output_type": "execute_result"
    }
   ],
   "source": [
    "CI"
   ]
  },
  {
   "cell_type": "code",
   "execution_count": 11,
   "metadata": {},
   "outputs": [],
   "source": [
    "using LinearAlgebra"
   ]
  },
  {
   "cell_type": "code",
   "execution_count": 12,
   "metadata": {},
   "outputs": [
    {
     "data": {
      "text/plain": [
       "9-element Array{Float64,1}:\n",
       "     0.00730696500058751 \n",
       "     0.037341316023954386\n",
       "     0.5033552923540534  \n",
       "    23.7581233163313     \n",
       "   104.76638205483681    \n",
       "   179.7524615850096     \n",
       "   219.27556354654058    \n",
       " 34643.43442951328       \n",
       "     1.1781022679574077e6"
      ]
     },
     "execution_count": 12,
     "metadata": {},
     "output_type": "execute_result"
    }
   ],
   "source": [
    "eigvals(H)"
   ]
  },
  {
   "cell_type": "code",
   "execution_count": 13,
   "metadata": {},
   "outputs": [],
   "source": [
    "using PositiveFactorizations"
   ]
  },
  {
   "cell_type": "code",
   "execution_count": 14,
   "metadata": {},
   "outputs": [
    {
     "data": {
      "text/plain": [
       "9×9 Array{Float64,2}:\n",
       "   0.421972      -0.287895      0.362867  …   -0.000377595     88.0863  \n",
       "  -0.287895       1.82425      -6.60207        0.869303       -31.678   \n",
       "   0.362867      -6.60207      38.7851        -4.20145        -77.0353  \n",
       "   0.287953      -0.218237      0.131531      -0.035091        67.5174  \n",
       "  14.0074        -8.0386        4.81296       -0.252732      3083.66    \n",
       " -26.7807        -1.62062      53.831     …  -15.2947       -5684.57    \n",
       " 607.779         51.8879    -1413.39         400.302            1.3079e5\n",
       "  -0.000377595    0.869303     -4.20145      179.108           41.7698  \n",
       "  88.0863       -31.678       -77.0353        41.7698       49830.8     "
      ]
     },
     "execution_count": 14,
     "metadata": {},
     "output_type": "execute_result"
    }
   ],
   "source": [
    "HPSD = Matrix(cholesky(Positive, H, Val{true}))"
   ]
  },
  {
   "cell_type": "code",
   "execution_count": 15,
   "metadata": {},
   "outputs": [
    {
     "data": {
      "text/plain": [
       "9-element Array{Float64,1}:\n",
       " 13.312598582460902   \n",
       "  3.1868183252501443  \n",
       "  0.6092720299369769  \n",
       " 21.775525026883248   \n",
       "  0.8771791422887526  \n",
       "  0.13704050545626043 \n",
       "  0.00889247732132922 \n",
       "  0.14985016702491966 \n",
       "  0.011608920273994449"
      ]
     },
     "execution_count": 15,
     "metadata": {},
     "output_type": "execute_result"
    }
   ],
   "source": [
    "2*sqrt.(diag(inv(HPSD)))"
   ]
  },
  {
   "cell_type": "code",
   "execution_count": 16,
   "metadata": {},
   "outputs": [
    {
     "data": {
      "text/plain": [
       "9-element Array{Float64,1}:\n",
       " 13.312598582460902   \n",
       "  3.1868183252501443  \n",
       "  0.6092720299369769  \n",
       " 21.775525026883248   \n",
       "  0.8771791422887526  \n",
       "  0.13704050545626043 \n",
       "  0.00889247732132922 \n",
       "  0.14985016702491966 \n",
       "  0.011608920273994449"
      ]
     },
     "execution_count": 16,
     "metadata": {},
     "output_type": "execute_result"
    }
   ],
   "source": [
    "2*sqrt.(diag(inv(HPSD)))"
   ]
  },
  {
   "cell_type": "code",
   "execution_count": 17,
   "metadata": {},
   "outputs": [
    {
     "data": {
      "text/plain": [
       "9-element Array{Float64,1}:\n",
       "     0.00730696500058751 \n",
       "     0.037341316023954386\n",
       "     0.5033552923540534  \n",
       "    23.7581233163313     \n",
       "   104.76638205483681    \n",
       "   179.7524615850096     \n",
       "   219.27556354654058    \n",
       " 34643.43442951328       \n",
       "     1.1781022679574077e6"
      ]
     },
     "execution_count": 17,
     "metadata": {},
     "output_type": "execute_result"
    }
   ],
   "source": [
    "eigvals(H)"
   ]
  },
  {
   "cell_type": "code",
   "execution_count": 18,
   "metadata": {},
   "outputs": [
    {
     "data": {
      "text/plain": [
       "9-element Array{Float64,1}:\n",
       "     0.007306965000628302\n",
       "     0.037341316024055875\n",
       "     0.5033552923532582  \n",
       "    23.758123316331563   \n",
       "   104.76638205484072    \n",
       "   179.75246158523623    \n",
       "   219.27556354653973    \n",
       " 34643.434429513254      \n",
       "     1.1781022679574075e6"
      ]
     },
     "execution_count": 18,
     "metadata": {},
     "output_type": "execute_result"
    }
   ],
   "source": [
    "eigvals(HPSD)"
   ]
  },
  {
   "cell_type": "code",
   "execution_count": 19,
   "metadata": {},
   "outputs": [
    {
     "data": {
      "text/plain": [
       "1.9846086932916232e-16"
      ]
     },
     "execution_count": 19,
     "metadata": {},
     "output_type": "execute_result"
    }
   ],
   "source": [
    "norm(HPSD - H)/norm(H)"
   ]
  },
  {
   "cell_type": "code",
   "execution_count": 20,
   "metadata": {},
   "outputs": [
    {
     "data": {
      "text/plain": [
       "2.3390827512594077e-10"
      ]
     },
     "execution_count": 20,
     "metadata": {},
     "output_type": "execute_result"
    }
   ],
   "source": [
    "norm(HPSD - H)"
   ]
  },
  {
   "cell_type": "code",
   "execution_count": 41,
   "metadata": {},
   "outputs": [
    {
     "data": {
      "text/plain": [
       "9×9 Array{Float64,2}:\n",
       "  0.999092     -0.0404961     0.00415424   …  -0.000170955  -0.000358157\n",
       "  0.00123148   -0.0871059    -0.994349         0.000134887  -0.000140576\n",
       " -0.00785227    0.00499733   -0.059484        -0.00107063    0.00152748 \n",
       "  0.0401135     0.993326     -0.0873159       -0.000809312  -0.000473354\n",
       " -0.0119559    -0.0636227    -0.0091484       -0.0116489    -0.0153775  \n",
       "  0.000511713  -0.000852837   0.000664848  …  -0.00471891    0.0460689  \n",
       " -0.000173166   0.000509764   0.00024744       0.125053     -0.990971   \n",
       "  6.11763e-5   -0.00145105   -0.00230999       0.0019582    -0.000618239\n",
       " -8.00033e-5   -8.08834e-6    0.000130401     -0.992068     -0.124956   "
      ]
     },
     "execution_count": 41,
     "metadata": {},
     "output_type": "execute_result"
    }
   ],
   "source": [
    "eigvecs(H)"
   ]
  },
  {
   "cell_type": "code",
   "execution_count": 57,
   "metadata": {},
   "outputs": [
    {
     "data": {
      "text/plain": [
       "θz{Float64}\n",
       "  σ2_i: Float64 0.20137101787637116\n",
       "  B: Float64 11.828286703666349\n",
       "  λ: Float64 -0.9337007396683598\n",
       "  σ2_a: Float64 0.37365332449262184\n",
       "  σ2_s: Float64 1.4690072727713772\n",
       "  ϕ: Float64 0.5526595212289171\n",
       "  τ_ϕ: Float64 0.020083243603889647\n"
      ]
     },
     "execution_count": 57,
     "metadata": {},
     "output_type": "execute_result"
    }
   ],
   "source": [
    "model.θ.θz"
   ]
  },
  {
   "cell_type": "code",
   "execution_count": 24,
   "metadata": {},
   "outputs": [
    {
     "data": {
      "text/plain": [
       "9×3 Array{Float64,2}:\n",
       " -11.4162      1.0   15.209    \n",
       "   5.59948    13.0   11.9731   \n",
       "  -1.52442    -0.5   -0.305878 \n",
       " -16.3909     10.0   27.1602   \n",
       "   0.0709816   1.0    1.82534  \n",
       "   0.302078    0.4    0.576159 \n",
       "   0.0143839   0.02   0.0321688\n",
       "  -0.0775459   0.1    0.222154 \n",
       "   0.0928401   0.1    0.116058 "
      ]
     },
     "execution_count": 24,
     "metadata": {},
     "output_type": "execute_result"
    }
   ],
   "source": [
    "hcat(pulse_input_DDM.unpack(model.θ) - CI, pulse_input_DDM.unpack(θ_syn), pulse_input_DDM.unpack(model.θ) + CI)"
   ]
  },
  {
   "cell_type": "code",
   "execution_count": 59,
   "metadata": {},
   "outputs": [
    {
     "data": {
      "text/plain": [
       "9-element Array{Float64,1}:\n",
       "  1.0 \n",
       " 13.0 \n",
       " -0.5 \n",
       " 10.0 \n",
       "  1.0 \n",
       "  0.4 \n",
       "  0.02\n",
       "  0.1 \n",
       "  0.1 "
      ]
     },
     "execution_count": 59,
     "metadata": {},
     "output_type": "execute_result"
    }
   ],
   "source": [
    "pulse_input_DDM.unpack(θ_syn)"
   ]
  },
  {
   "cell_type": "code",
   "execution_count": null,
   "metadata": {},
   "outputs": [],
   "source": []
  }
 ],
 "metadata": {
  "kernelspec": {
   "display_name": "Julia 1.2.0",
   "language": "julia",
   "name": "julia-1.2"
  },
  "language_info": {
   "file_extension": ".jl",
   "mimetype": "application/julia",
   "name": "julia",
   "version": "1.2.0"
  }
 },
 "nbformat": 4,
 "nbformat_minor": 2
}
