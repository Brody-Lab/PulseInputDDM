{
 "cells": [
  {
   "cell_type": "code",
   "execution_count": 1,
   "metadata": {},
   "outputs": [],
   "source": [
    "using Distributed\n",
    "addprocs(44);"
   ]
  },
  {
   "cell_type": "code",
   "execution_count": 2,
   "metadata": {},
   "outputs": [
    {
     "name": "stderr",
     "output_type": "stream",
     "text": [
      "┌ Info: Recompiling stale cache file /usr/people/briandd/.julia/compiled/v1.2/pulse_input_DDM/m8WoA.ji for pulse_input_DDM [c2542da2-1f7d-11e9-2506-87691095ebb2]\n",
      "└ @ Base loading.jl:1240\n",
      "WARNING: Method definition vec(Number) in module FiniteDiff at /usr/people/briandd/.julia/packages/FiniteDiff/EBys0/src/jacobians.jl:128 overwritten in module DiffEqDiffTools at /usr/people/briandd/.julia/packages/DiffEqDiffTools/3mm8U/src/jacobians.jl:114.\n",
      "  ** incremental compilation may be fatally broken for this module **\n",
      "\n"
     ]
    }
   ],
   "source": [
    "using pulse_input_DDM"
   ]
  },
  {
   "cell_type": "code",
   "execution_count": 3,
   "metadata": {},
   "outputs": [
    {
     "data": {
      "text/plain": [
       "θneural{θz{Float64},Array{Array{Sigmoid{Float64},1},1}}\n",
       "  θz: θz{Float64}\n",
       "  θy: Array{Array{Sigmoid{Float64},1}}((2,))\n",
       "  ncells: Array{Int64}((2,)) [5, 4]\n",
       "  nparams: Int64 4\n",
       "  f: String \"Sigmoid\"\n"
      ]
     },
     "execution_count": 3,
     "metadata": {},
     "output_type": "execute_result"
    }
   ],
   "source": [
    "f, ncells, ntrials, nparams = \"Sigmoid\", [5,4], [300,400], 4\n",
    "\n",
    "θ_syn = θneural(θz = θz(σ2_i = 0.5, B = 40., λ = -0.5, σ2_a = 50., σ2_s = 0.1,\n",
    "    ϕ = 0.6, τ_ϕ =  0.02),\n",
    "    θy=[[Sigmoid(10.,60.,0.05*rand([-1,1]),0.) for n in 1:N] for N in ncells], ncells=ncells,\n",
    "    nparams=nparams, f=f)"
   ]
  },
  {
   "cell_type": "code",
   "execution_count": 4,
   "metadata": {},
   "outputs": [],
   "source": [
    "data, μ_rnt, μ_t = synthetic_data(θ_syn, ntrials; centered=false);"
   ]
  },
  {
   "cell_type": "code",
   "execution_count": 5,
   "metadata": {},
   "outputs": [],
   "source": [
    "n = 53;"
   ]
  },
  {
   "cell_type": "code",
   "execution_count": 6,
   "metadata": {},
   "outputs": [
    {
     "data": {
      "text/plain": [
       "-182720.58381206868"
      ]
     },
     "execution_count": 6,
     "metadata": {},
     "output_type": "execute_result"
    }
   ],
   "source": [
    "loglikelihood(θ_syn, data, n)"
   ]
  },
  {
   "cell_type": "code",
   "execution_count": 7,
   "metadata": {},
   "outputs": [],
   "source": [
    "θy0 = vcat(vcat(initialize_θy.(data, f)...)...);"
   ]
  },
  {
   "cell_type": "code",
   "execution_count": 8,
   "metadata": {},
   "outputs": [],
   "source": [
    "fit=vcat(trues(dimz), trues(sum(ncells)*nparams))\n",
    "x0=vcat([0.5, 9., -2., 10., 1., 0.4, 0.008], θy0);"
   ]
  },
  {
   "cell_type": "code",
   "execution_count": 9,
   "metadata": {},
   "outputs": [],
   "source": [
    "options = neuraloptions(ncells=ncells, x0=x0, fit=fit, nparams=nparams, f=f);"
   ]
  },
  {
   "cell_type": "code",
   "execution_count": null,
   "metadata": {},
   "outputs": [],
   "source": [
    "model, = optimize(data, options, n)"
   ]
  },
  {
   "cell_type": "code",
   "execution_count": 29,
   "metadata": {},
   "outputs": [
    {
     "data": {
      "text/plain": [
       "10-element Array{Float64,1}:\n",
       "  0.01              \n",
       " 40.0               \n",
       " -0.9627358924918562\n",
       " 50.0               \n",
       "  0.01              \n",
       "  0.9999999999999998\n",
       "  0.02              \n",
       " 10.0               \n",
       "  9.778879497696998 \n",
       " 10.0               "
      ]
     },
     "execution_count": 29,
     "metadata": {},
     "output_type": "execute_result"
    }
   ],
   "source": [
    "pulse_input_DDM.flatten(model.θ)"
   ]
  },
  {
   "cell_type": "code",
   "execution_count": 35,
   "metadata": {},
   "outputs": [
    {
     "data": {
      "text/plain": [
       "10-element Array{Float64,1}:\n",
       "  0.01              \n",
       " 40.0               \n",
       " -0.8310778339064705\n",
       " 50.0               \n",
       "  0.01              \n",
       "  0.9999999999999998\n",
       "  0.02              \n",
       " 10.0               \n",
       "  9.406564860175386 \n",
       " 10.0               "
      ]
     },
     "execution_count": 35,
     "metadata": {},
     "output_type": "execute_result"
    }
   ],
   "source": [
    "pulse_input_DDM.flatten(model.θ)"
   ]
  },
  {
   "cell_type": "markdown",
   "metadata": {},
   "source": [
    "### Compute Hessian\n",
    "Blah blah blah"
   ]
  },
  {
   "cell_type": "code",
   "execution_count": 22,
   "metadata": {},
   "outputs": [
    {
     "name": "stderr",
     "output_type": "stream",
     "text": [
      "┌ Warning: Hessian is not positive definite. Approximated by closest PSD matrix.\n",
      "│             ||ϵ||/||H|| is 3.1634665397929176\n",
      "└ @ pulse_input_DDM /usr/people/briandd/Projects/pulse_input_DDM/src/base_model.jl:19\n"
     ]
    }
   ],
   "source": [
    "# ### Compute Hessian and the confidence interavls\n",
    "# Blah blah blah\n",
    "\n",
    "H = Hessian(model, n)\n",
    "CI, HPSD = CIs(H);"
   ]
  },
  {
   "cell_type": "code",
   "execution_count": 23,
   "metadata": {},
   "outputs": [
    {
     "data": {
      "text/plain": [
       "10-element Array{Float64,1}:\n",
       " 0.012932521256961121\n",
       " 3.497021858319779   \n",
       " 0.07636794260066583 \n",
       " 6.2377864707758     \n",
       " 0.06030334354772982 \n",
       " 0.009331108991109465\n",
       " 0.004129265702158947\n",
       " 0.13748158528160712 \n",
       " 0.1775739474080006  \n",
       " 0.6282239304194033  "
      ]
     },
     "execution_count": 23,
     "metadata": {},
     "output_type": "execute_result"
    }
   ],
   "source": [
    "CI"
   ]
  },
  {
   "cell_type": "code",
   "execution_count": 63,
   "metadata": {},
   "outputs": [
    {
     "data": {
      "text/plain": [
       "34×3 Array{Float64,2}:\n",
       " -7.39695      0.5     8.39695  \n",
       "  9.35427     40.0    70.6457   \n",
       " -1.02275     -0.5     0.0227482\n",
       " -7.30294     50.0   107.303    \n",
       " -0.952099     0.1     1.1521   \n",
       "  0.314576     0.6     0.885424 \n",
       "  0.00727841   0.02    0.0327216\n",
       "  7.92373     10.0    10.0164   \n",
       " -1.23579     -1.0    -0.347883 \n",
       "  0.123542     0.0     4.17512  \n",
       "  9.0495      10.0    10.9347   \n",
       " -1.35359     -1.0    -0.402627 \n",
       " -2.15134      0.0     2.81355  \n",
       "  ⋮                             \n",
       "  8.62564     10.0    10.2356   \n",
       "  0.394949     1.0     1.33324  \n",
       " -0.606459     0.0     3.00023  \n",
       "  9.55002     10.0    11.083    \n",
       "  0.409178     1.0     1.61034  \n",
       " -5.67385      0.0     1.61199  \n",
       "  9.42011     10.0    10.9106   \n",
       " -1.49154     -1.0    -0.453278 \n",
       " -3.13858      0.0     1.61907  \n",
       "  9.44594     10.0    11.2167   \n",
       "  0.365056     1.0     1.27829  \n",
       " -2.59983      0.0     2.66292  "
      ]
     },
     "execution_count": 63,
     "metadata": {},
     "output_type": "execute_result"
    }
   ],
   "source": [
    "hcat(collect(pulse_input_DDM.flatten(model.θ)) - CI, collect(pulse_input_DDM.flatten(θ_syn)), collect(pulse_input_DDM.flatten(model.θ)) + CI)"
   ]
  },
  {
   "cell_type": "code",
   "execution_count": 64,
   "metadata": {},
   "outputs": [
    {
     "data": {
      "text/plain": [
       "34×2 Array{Float64,2}:\n",
       "  0.5         0.5 \n",
       " 40.0        40.0 \n",
       " -0.5        -0.5 \n",
       " 50.0        50.0 \n",
       "  0.1         0.1 \n",
       "  0.6         0.6 \n",
       "  0.02        0.02\n",
       "  8.97008    10.0 \n",
       " -0.791837   -1.0 \n",
       "  2.14933     0.0 \n",
       "  9.99211    10.0 \n",
       " -0.878107   -1.0 \n",
       "  0.331102    0.0 \n",
       "  ⋮               \n",
       "  9.43063    10.0 \n",
       "  0.864096    1.0 \n",
       "  1.19688     0.0 \n",
       " 10.3165     10.0 \n",
       "  1.00976     1.0 \n",
       " -2.03093     0.0 \n",
       " 10.1653     10.0 \n",
       " -0.972411   -1.0 \n",
       " -0.759752    0.0 \n",
       " 10.3313     10.0 \n",
       "  0.821673    1.0 \n",
       "  0.0315479   0.0 "
      ]
     },
     "execution_count": 64,
     "metadata": {},
     "output_type": "execute_result"
    }
   ],
   "source": [
    "hcat(collect(pulse_input_DDM.flatten(model.θ)), collect(pulse_input_DDM.flatten(θ_syn)))"
   ]
  },
  {
   "cell_type": "code",
   "execution_count": 65,
   "metadata": {},
   "outputs": [
    {
     "data": {
      "text/plain": [
       "34×1 BitArray{2}:\n",
       " 1\n",
       " 1\n",
       " 1\n",
       " 1\n",
       " 1\n",
       " 1\n",
       " 1\n",
       " 1\n",
       " 1\n",
       " 0\n",
       " 1\n",
       " 1\n",
       " 1\n",
       " ⋮\n",
       " 1\n",
       " 1\n",
       " 1\n",
       " 1\n",
       " 1\n",
       " 1\n",
       " 1\n",
       " 1\n",
       " 1\n",
       " 1\n",
       " 1\n",
       " 1"
      ]
     },
     "execution_count": 65,
     "metadata": {},
     "output_type": "execute_result"
    }
   ],
   "source": [
    "hcat(collect(pulse_input_DDM.flatten(model.θ)) - CI .< \n",
    "    collect(pulse_input_DDM.flatten(θ_syn)) .< \n",
    "    collect(pulse_input_DDM.flatten(model.θ)) + CI)"
   ]
  },
  {
   "cell_type": "code",
   "execution_count": null,
   "metadata": {},
   "outputs": [],
   "source": []
  }
 ],
 "metadata": {
  "kernelspec": {
   "display_name": "Julia 1.2.0",
   "language": "julia",
   "name": "julia-1.2"
  },
  "language_info": {
   "file_extension": ".jl",
   "mimetype": "application/julia",
   "name": "julia",
   "version": "1.2.0"
  }
 },
 "nbformat": 4,
 "nbformat_minor": 2
}
