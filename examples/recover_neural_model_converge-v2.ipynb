{
 "cells": [
  {
   "cell_type": "code",
   "execution_count": 1,
   "metadata": {},
   "outputs": [],
   "source": [
    "using Distributed\n",
    "addprocs(44);"
   ]
  },
  {
   "cell_type": "code",
   "execution_count": 2,
   "metadata": {},
   "outputs": [],
   "source": [
    "using pulse_input_DDM"
   ]
  },
  {
   "cell_type": "code",
   "execution_count": 3,
   "metadata": {},
   "outputs": [
    {
     "data": {
      "text/plain": [
       "Sigmoid{Float64}\n",
       "  a: Float64 10.0\n",
       "  b: Float64 60.0\n",
       "  c: Float64 0.3\n",
       "  d: Float64 1.0\n"
      ]
     },
     "execution_count": 3,
     "metadata": {},
     "output_type": "execute_result"
    }
   ],
   "source": [
    "θy = Sigmoid(10.,60.,0.3,1.)"
   ]
  },
  {
   "cell_type": "code",
   "execution_count": 4,
   "metadata": {},
   "outputs": [
    {
     "data": {
      "image/png": "[encoded data removed]",
      "text/plain": [
       "Figure(PyObject <Figure size 640x480 with 1 Axes>)"
      ]
     },
     "metadata": {},
     "output_type": "display_data"
    },
    {
     "data": {
      "text/plain": [
       "1-element Array{PyCall.PyObject,1}:\n",
       " PyObject <matplotlib.lines.Line2D object at 0x7f23b40c8630>"
      ]
     },
     "execution_count": 4,
     "metadata": {},
     "output_type": "execute_result"
    }
   ],
   "source": [
    "using PyPlot\n",
    "plot(collect(-20.:0.1:20.), θy.(collect(-20.:0.1:20.), 0.))"
   ]
  },
  {
   "cell_type": "code",
   "execution_count": 5,
   "metadata": {},
   "outputs": [
    {
     "data": {
      "text/plain": [
       "θneural{θz{Float64},Array{Array{Sigmoid{Float64},1},1}}\n",
       "  θz: θz{Float64}\n",
       "  θy: Array{Array{Sigmoid{Float64},1}}((3,))\n",
       "  ncells: Array{Int64}((3,)) [5, 4, 2]\n",
       "  nparams: Int64 4\n",
       "  f: String \"Sigmoid\"\n"
      ]
     },
     "execution_count": 5,
     "metadata": {},
     "output_type": "execute_result"
    }
   ],
   "source": [
    "f, ncells, ntrials, nparams = \"Sigmoid\", [5,4,2], [300,400,500], 4\n",
    "\n",
    "θ_syn = θneural(θz = θz(σ2_i = 0.5, B = 20., λ = -0.5, σ2_a = 10., σ2_s = 0.1,\n",
    "    ϕ = 0.6, τ_ϕ =  0.02),\n",
    "    θy=[[Sigmoid(10., 60., 0.3*rand([-1,1]), rand([-1.,1.])) for n in 1:N] for N in ncells], ncells=ncells,\n",
    "    nparams=nparams, f=f)"
   ]
  },
  {
   "cell_type": "code",
   "execution_count": 6,
   "metadata": {},
   "outputs": [
    {
     "data": {
      "text/plain": [
       "θneural{θz{Float64},Array{Array{Sigmoid{Float64},1},1}}\n",
       "  θz: θz{Float64}\n",
       "  θy: Array{Array{Sigmoid{Float64},1}}((1,))\n",
       "  ncells: Array{Int64}((1,)) [2]\n",
       "  nparams: Int64 4\n",
       "  f: String \"Sigmoid\"\n"
      ]
     },
     "execution_count": 6,
     "metadata": {},
     "output_type": "execute_result"
    }
   ],
   "source": [
    "f, ncells, ntrials, nparams = \"Sigmoid\", [2], [5_000], 4\n",
    "\n",
    "θ_syn = θneural(θz = θz(σ2_i = 0.5, B = 20., λ = -0.5, σ2_a = 10., σ2_s = 0.1,\n",
    "    ϕ = 0.6, τ_ϕ =  0.02),\n",
    "    θy=[[Sigmoid(10., 60., 0.3*rand([-1,1]), rand([-1.,1.])) for n in 1:N] for N in ncells], ncells=ncells,\n",
    "    nparams=nparams, f=f)"
   ]
  },
  {
   "cell_type": "code",
   "execution_count": 7,
   "metadata": {},
   "outputs": [],
   "source": [
    "data, μ_rnt, μ_t = synthetic_data(θ_syn, ntrials; centered=true, pos_ramp=false);"
   ]
  },
  {
   "cell_type": "code",
   "execution_count": 8,
   "metadata": {},
   "outputs": [],
   "source": [
    "n = 53;"
   ]
  },
  {
   "cell_type": "code",
   "execution_count": 9,
   "metadata": {},
   "outputs": [
    {
     "data": {
      "text/plain": [
       "-473726.3113618728"
      ]
     },
     "execution_count": 9,
     "metadata": {},
     "output_type": "execute_result"
    }
   ],
   "source": [
    "loglikelihood(θ_syn, data, n)"
   ]
  },
  {
   "cell_type": "code",
   "execution_count": 10,
   "metadata": {},
   "outputs": [],
   "source": [
    "θy0 = vcat(vcat(initialize_θy.(data, f)...)...);"
   ]
  },
  {
   "cell_type": "code",
   "execution_count": 11,
   "metadata": {},
   "outputs": [],
   "source": [
    "fit=vcat(trues(dimz), trues(sum(ncells)*nparams))\n",
    "x0=vcat([0.5, 9., -2., 10., 1., 0.4, 0.008], θy0);"
   ]
  },
  {
   "cell_type": "code",
   "execution_count": 12,
   "metadata": {},
   "outputs": [],
   "source": [
    "options = neuraloptions(ncells=ncells, x0=x0, fit=fit, nparams=nparams, f=f);"
   ]
  },
  {
   "cell_type": "code",
   "execution_count": 13,
   "metadata": {},
   "outputs": [
    {
     "name": "stdout",
     "output_type": "stream",
     "text": [
      "Fminbox\n",
      "-------\n",
      "Initial mu = 0.806154\n",
      "\n",
      "Fminbox iteration 1\n",
      "-------------------\n",
      "Calling inner optimizer with mu = 0.806154\n",
      "\n",
      "(numbers below include barrier contribution)\n",
      "Iter     Function value   Gradient norm \n",
      "     0     5.047239e+05     1.109290e+05\n",
      " * time: 5.698204040527344e-5\n",
      "     1     5.031687e+05     1.122738e+05\n",
      " * time: 9.573920011520386\n",
      "     2     4.916341e+05     1.523689e+03\n",
      " * time: 19.785786867141724\n",
      "     3     4.883483e+05     1.851740e+03\n",
      " * time: 29.873373985290527\n",
      "     4     4.869612e+05     2.494086e+03\n",
      " * time: 40.11652493476868\n",
      "     5     4.864602e+05     2.838759e+03\n",
      " * time: 50.282511949539185\n",
      "     6     4.859358e+05     3.105856e+03\n",
      " * time: 60.516671895980835\n",
      "     7     4.858363e+05     3.029185e+03\n",
      " * time: 70.8436188697815\n",
      "     8     4.856840e+05     2.753336e+03\n",
      " * time: 81.09202194213867\n",
      "     9     4.856092e+05     1.480436e+03\n",
      " * time: 91.27239203453064\n",
      "    10     4.855979e+05     1.477184e+03\n",
      " * time: 101.4978380203247\n",
      "    11     4.854598e+05     3.177356e+03\n",
      " * time: 111.6664650440216\n",
      "    12     4.851734e+05     3.587286e+03\n",
      " * time: 121.80528497695923\n",
      "    13     4.850210e+05     3.802496e+03\n",
      " * time: 131.97564888000488\n",
      "    14     4.849199e+05     3.925371e+03\n",
      " * time: 142.3576500415802\n",
      "    15     4.838882e+05     4.242791e+03\n",
      " * time: 152.31470894813538\n",
      "    16     4.834138e+05     4.814515e+03\n",
      " * time: 162.28838992118835\n",
      "    17     4.821160e+05     3.724927e+03\n",
      " * time: 177.48003888130188\n",
      "    18     4.810456e+05     3.254307e+03\n",
      " * time: 187.64808702468872\n",
      "    19     4.806546e+05     4.506856e+03\n",
      " * time: 197.96679496765137\n",
      "    20     4.805456e+05     5.312537e+03\n",
      " * time: 208.32787704467773\n",
      "    21     4.801035e+05     7.793325e+03\n",
      " * time: 218.57687282562256\n",
      "    22     4.800303e+05     7.900213e+03\n",
      " * time: 233.89679789543152\n",
      "    23     4.796121e+05     7.926905e+03\n",
      " * time: 244.10899090766907\n",
      "    24     4.795131e+05     7.392474e+03\n",
      " * time: 259.5751600265503\n",
      "    25     4.794691e+05     6.408595e+03\n",
      " * time: 275.176687002182\n",
      "    26     4.769118e+05     2.192232e+03\n",
      " * time: 285.425076007843\n",
      "    27     4.768489e+05     1.900462e+03\n",
      " * time: 301.0244119167328\n",
      "    28     4.763424e+05     2.630511e+03\n",
      " * time: 311.13173604011536\n",
      "    29     4.763229e+05     3.144025e+03\n",
      " * time: 326.2730669975281\n",
      "    30     4.762351e+05     2.967959e+03\n",
      " * time: 336.4686028957367\n",
      "    31     4.762285e+05     3.798727e+03\n",
      " * time: 346.7730710506439\n",
      "    32     4.761438e+05     3.688022e+03\n",
      " * time: 356.9717469215393\n",
      "    33     4.759973e+05     3.142953e+03\n",
      " * time: 367.134104013443\n",
      "    34     4.759297e+05     3.099475e+03\n",
      " * time: 377.30294394493103\n",
      "    35     4.759278e+05     3.834294e+03\n",
      " * time: 387.43088603019714\n",
      "    36     4.758893e+05     3.365691e+03\n",
      " * time: 402.6414089202881\n",
      "    37     4.758810e+05     3.013239e+03\n",
      " * time: 418.02026987075806\n",
      "    38     4.758803e+05     3.049858e+03\n",
      " * time: 433.42718291282654\n",
      "    39     4.758628e+05     3.750676e+03\n",
      " * time: 444.10034584999084\n",
      "    40     4.758560e+05     4.710242e+03\n",
      " * time: 454.1832790374756\n",
      "    41     4.758171e+05     1.518338e+03\n",
      " * time: 464.35891485214233\n",
      "    42     4.756491e+05     7.732786e+03\n",
      " * time: 474.3883099555969\n",
      "    43     4.756311e+05     1.951735e+04\n",
      " * time: 484.5529489517212\n",
      "    44     4.754609e+05     1.844594e+03\n",
      " * time: 499.73894596099854\n",
      "    45     4.753543e+05     1.546906e+04\n",
      " * time: 509.91309690475464\n",
      "    46     4.753111e+05     3.666117e+04\n",
      " * time: 519.9549360275269\n",
      "    47     4.750037e+05     2.109804e+03\n",
      " * time: 535.2095799446106\n",
      "    48     4.746417e+05     6.143174e+03\n",
      " * time: 545.4231660366058\n",
      "    49     4.745964e+05     1.218784e+04\n",
      " * time: 555.7349469661713\n",
      "    50     4.745705e+05     3.912797e+04\n",
      " * time: 565.9378788471222\n",
      "    51     4.744039e+05     1.009104e+05\n",
      " * time: 576.1166558265686\n",
      "    52     4.743968e+05     2.830036e+06\n",
      " * time: 586.3489470481873\n",
      "    53     4.741554e+05     1.640291e+05\n",
      " * time: 602.1403369903564\n",
      "    54     4.740310e+05     1.563601e+05\n",
      " * time: 617.4963068962097\n",
      "    55     4.739825e+05     1.512563e+05\n",
      " * time: 632.9435548782349\n",
      "    56     4.739304e+05     1.446619e+05\n",
      " * time: 648.2597830295563\n",
      "    57     4.738721e+05     1.376117e+05\n",
      " * time: 663.5031640529633\n",
      "    58     4.738439e+05     1.359652e+05\n",
      " * time: 678.7553169727325\n",
      "    59     4.738364e+05     1.204742e+05\n",
      " * time: 688.9217929840088\n",
      "    60     4.737828e+05     1.109177e+05\n",
      " * time: 699.2980999946594\n",
      "    61     4.737531e+05     1.218002e+05\n",
      " * time: 709.6584739685059\n",
      "    62     4.737311e+05     1.124289e+05\n",
      " * time: 720.0044989585876\n",
      "    63     4.737286e+05     1.078505e+05\n",
      " * time: 730.3075098991394\n",
      "    64     4.737286e+05     1.017228e+05\n",
      " * time: 740.556056022644\n",
      "    65     4.737270e+05     9.953389e+04\n",
      " * time: 751.1098399162292\n",
      "    66     4.737262e+05     9.497086e+04\n",
      " * time: 761.3222930431366\n",
      "    67     4.737255e+05     8.933141e+04\n",
      " * time: 776.6510820388794\n",
      "    68     4.737242e+05     7.316740e+04\n",
      " * time: 786.8783378601074\n",
      "    69     4.737197e+05     4.773653e+04\n",
      " * time: 797.1281669139862\n",
      "    70     4.737166e+05     4.109918e+04\n",
      " * time: 807.5046639442444\n",
      "    71     4.737132e+05     2.945436e+04\n",
      " * time: 817.822459936142\n",
      "    72     4.737110e+05     2.698694e+04\n",
      " * time: 828.2048988342285\n",
      "    73     4.737085e+05     2.736519e+04\n",
      " * time: 838.5441398620605\n",
      "    74     4.737055e+05     2.485400e+04\n",
      " * time: 848.840577840805\n",
      "    75     4.737020e+05     2.213516e+04\n",
      " * time: 859.0909948348999\n",
      "    76     4.736956e+05     1.792247e+04\n",
      " * time: 869.3880949020386\n",
      "    77     4.736874e+05     1.401679e+04\n",
      " * time: 879.800369977951\n",
      "    78     4.736832e+05     1.175160e+04\n",
      " * time: 895.6136300563812\n",
      "    79     4.736701e+05     7.686790e+03\n",
      " * time: 906.6636559963226\n",
      "    80     4.736680e+05     7.197208e+03\n",
      " * time: 923.059798002243\n",
      "    81     4.736607e+05     6.298324e+03\n",
      " * time: 933.3993608951569\n",
      "    82     4.736579e+05     6.018041e+03\n",
      " * time: 943.6860709190369\n",
      "    83     4.736550e+05     5.147055e+03\n",
      " * time: 954.1077680587769\n",
      "    84     4.736527e+05     4.969262e+03\n",
      " * time: 964.60564494133\n",
      "    85     4.736498e+05     4.173279e+03\n",
      " * time: 974.9844388961792\n",
      "    86     4.736479e+05     3.844103e+03\n",
      " * time: 985.3929648399353\n",
      "    87     4.736474e+05     3.506445e+03\n",
      " * time: 995.784332036972\n",
      "    88     4.736460e+05     3.408907e+03\n",
      " * time: 1006.0571370124817\n",
      "    89     4.736455e+05     3.282435e+03\n",
      " * time: 1016.3100039958954\n",
      "    90     4.736455e+05     2.923660e+03\n",
      " * time: 1026.5793838500977\n",
      "    91     4.736449e+05     3.086360e+03\n",
      " * time: 1036.984011888504\n",
      "    92     4.736447e+05     3.023849e+03\n",
      " * time: 1047.3455638885498\n",
      "    93     4.736446e+05     2.914967e+03\n",
      " * time: 1058.0412230491638\n",
      "    94     4.736446e+05     2.942032e+03\n",
      " * time: 1068.3240878582\n",
      "    95     4.736446e+05     2.948426e+03\n",
      " * time: 1078.6505448818207\n",
      "    96     4.736445e+05     2.986278e+03\n",
      " * time: 1088.996985912323\n",
      "    97     4.736445e+05     3.033134e+03\n",
      " * time: 1099.2940850257874\n",
      "    98     4.736444e+05     3.077855e+03\n",
      " * time: 1109.57186293602\n",
      "    99     4.736443e+05     3.113493e+03\n",
      " * time: 1119.9232959747314\n",
      "   100     4.736441e+05     3.129208e+03\n",
      " * time: 1130.180764913559\n",
      "   101     4.736438e+05     3.096873e+03\n",
      " * time: 1140.4861509799957\n",
      "   102     4.736431e+05     3.025373e+03\n",
      " * time: 1150.741693019867\n",
      "   103     4.736414e+05     2.879593e+03\n",
      " * time: 1160.9763078689575\n",
      "   104     4.736385e+05     2.649328e+03\n",
      " * time: 1171.1763370037079\n",
      "   105     4.736376e+05     2.564231e+03\n",
      " * time: 1181.431118965149\n",
      "   106     4.736367e+05     2.432450e+03\n",
      " * time: 1191.6756398677826\n",
      "   107     4.736365e+05     2.388418e+03\n",
      " * time: 1202.0646479129791\n",
      "   108     4.736362e+05     2.322132e+03\n",
      " * time: 1212.7755708694458\n",
      "   109     4.736359e+05     2.242616e+03\n",
      " * time: 1223.0632150173187\n",
      "   110     4.736355e+05     2.174027e+03\n",
      " * time: 1233.2637598514557\n",
      "   111     4.736350e+05     2.084072e+03\n",
      " * time: 1243.4521708488464\n",
      "   112     4.736345e+05     2.022303e+03\n",
      " * time: 1253.726037979126\n",
      "   113     4.736341e+05     2.040372e+03\n",
      " * time: 1264.0234599113464\n",
      "   114     4.736340e+05     2.085438e+03\n",
      " * time: 1274.3614869117737\n",
      "   115     4.736340e+05     2.078678e+03\n",
      " * time: 1284.7101368904114\n",
      "   116     4.736340e+05     2.078783e+03\n",
      " * time: 1294.9861829280853\n"
     ]
    },
    {
     "name": "stdout",
     "output_type": "stream",
     "text": [
      "   117     4.736340e+05     2.080365e+03\n",
      " * time: 1305.2612478733063\n",
      "\n",
      "Exiting inner optimizer with x = [0.2108232385038158, 24.102366496038936, -0.49213105984717687, 0.0004086523136369902, 0.19542360257479494, 0.6364516205084467, 0.01858080206337906, 10.015487645282477, 60.615181547535485, 0.28687527358003173, -1.0303691581992498, 9.81277262785603, 60.60114304643962, 0.27635392198394687, 0.9474529602603375]\n",
      "Current distance to box: 0.000408652\n",
      "Decreasing barrier term μ.\n",
      "\n",
      "Fminbox iteration 2\n",
      "-------------------\n",
      "Calling inner optimizer with mu = 0.000806154\n",
      "\n",
      "(numbers below include barrier contribution)\n",
      "Iter     Function value   Gradient norm \n",
      "     0     4.736778e+05     1.096294e+02\n",
      " * time: 4.9114227294921875e-5\n",
      "     1     4.736778e+05     3.029750e+02\n",
      " * time: 20.395308017730713\n",
      "     2     4.736773e+05     4.447626e+03\n",
      " * time: 40.82324194908142\n",
      "     3     4.736773e+05     4.474322e+03\n",
      " * time: 66.60581994056702\n",
      "     4     4.736772e+05     4.467145e+03\n",
      " * time: 87.00348711013794\n",
      "     5     4.736770e+05     4.420645e+03\n",
      " * time: 102.38954305648804\n",
      "     6     4.736765e+05     3.030961e+03\n",
      " * time: 117.89757513999939\n",
      "     7     4.736763e+05     1.881079e+03\n",
      " * time: 138.40893697738647\n",
      "     8     4.736763e+05     1.839398e+03\n",
      " * time: 153.93331909179688\n",
      "     9     4.736762e+05     1.778985e+03\n",
      " * time: 169.35255408287048\n",
      "    10     4.736761e+05     1.826397e+03\n",
      " * time: 179.63298106193542\n",
      "    11     4.736756e+05     1.919405e+03\n",
      " * time: 194.9667091369629\n",
      "    12     4.736754e+05     1.847125e+03\n",
      " * time: 210.6357250213623\n",
      "    13     4.736750e+05     1.660705e+03\n",
      " * time: 225.9275450706482\n",
      "    14     4.736747e+05     1.549368e+03\n",
      " * time: 246.2721221446991\n",
      "    15     4.736740e+05     1.148350e+03\n",
      " * time: 256.6777911186218\n",
      "    16     4.736712e+05     6.573299e+02\n",
      " * time: 267.00569915771484\n",
      "    17     4.736696e+05     1.487788e+03\n",
      " * time: 277.33239006996155\n",
      "    18     4.736691e+05     1.735498e+03\n",
      " * time: 287.59257411956787\n",
      "    19     4.736689e+05     1.242905e+03\n",
      " * time: 297.84770703315735\n",
      "    20     4.736687e+05     9.332459e+02\n",
      " * time: 308.08823800086975\n",
      "    21     4.736682e+05     1.763310e+01\n",
      " * time: 318.42413115501404\n",
      "    22     4.736677e+05     3.833195e+02\n",
      " * time: 328.81920409202576\n",
      "    23     4.736671e+05     6.799243e+02\n",
      " * time: 339.2910361289978\n",
      "    24     4.736662e+05     1.106364e+03\n",
      " * time: 349.700670003891\n",
      "    25     4.736650e+05     1.013221e+02\n",
      " * time: 360.43480014801025\n",
      "    26     4.736635e+05     2.152882e+03\n",
      " * time: 370.6662781238556\n",
      "    27     4.736625e+05     2.624077e+02\n",
      " * time: 380.7980079650879\n",
      "    28     4.736621e+05     3.662128e+02\n",
      " * time: 391.1155779361725\n",
      "    29     4.736621e+05     2.109201e+02\n",
      " * time: 401.3809449672699\n",
      "    30     4.736620e+05     8.764320e+01\n",
      " * time: 411.5646939277649\n",
      "    31     4.736619e+05     1.615937e+02\n",
      " * time: 421.79684495925903\n",
      "    32     4.736619e+05     2.319578e+02\n",
      " * time: 432.0366590023041\n",
      "    33     4.736619e+05     1.978959e+02\n",
      " * time: 442.2166659832001\n",
      "    34     4.736618e+05     1.402050e+02\n",
      " * time: 452.3857569694519\n",
      "    35     4.736618e+05     8.241134e+01\n",
      " * time: 462.73409700393677\n",
      "    36     4.736618e+05     2.339079e+01\n",
      " * time: 473.08840012550354\n",
      "    37     4.736618e+05     2.992505e+01\n",
      " * time: 483.5272400379181\n",
      "    38     4.736618e+05     1.107671e+01\n",
      " * time: 493.91405606269836\n",
      "    39     4.736618e+05     5.789602e-01\n",
      " * time: 504.2231991291046\n",
      "    40     4.736618e+05     1.820029e+01\n",
      " * time: 514.8011951446533\n",
      "\n",
      "Exiting inner optimizer with x = [0.2962117052119825, 21.892645056831714, -0.4989786518881224, 5.114686398858123, 0.01309428668340861, 0.6343168730331039, 0.019698537968660217, 10.02763367656133, 60.579441725317366, 0.2933797368397251, -1.0304883404575085, 9.82988913557434, 60.587469421857236, 0.282386615177091, 0.9465641042109341]\n",
      "Current distance to box: 0.0130943\n",
      "Decreasing barrier term μ.\n",
      "\n",
      "Fminbox iteration 3\n",
      "-------------------\n",
      "Calling inner optimizer with mu = 8.06154e-7\n",
      "\n",
      "(numbers below include barrier contribution)\n",
      "Iter     Function value   Gradient norm \n",
      "     0     4.736619e+05     1.814632e+01\n",
      " * time: 5.3882598876953125e-5\n",
      "     1     4.736619e+05     1.007039e+01\n",
      " * time: 35.66211795806885\n",
      "     2     4.736619e+05     1.006796e+01\n",
      " * time: 71.30115294456482\n",
      "\n",
      "Exiting inner optimizer with x = [0.2962164635427144, 21.8926452459826, -0.4989754117466303, 5.114686825869814, 0.013117551674679389, 0.6343228352239778, 0.019710432504854533, 10.027633624527319, 60.57944190262204, 0.2934056207471556, -1.0304851487698805, 9.829888668982212, 60.58746940399063, 0.2824304188411855, 0.9465579994495747]\n",
      "Current distance to box: 0.0131176\n",
      "Decreasing barrier term μ.\n",
      "\n",
      "optimization complete. converged: true \n",
      "\n"
     ]
    },
    {
     "data": {
      "text/plain": [
       "(neuralDDM{θneural{θz{Float64},Array{Array{Sigmoid{Float64},1},1}},Array{Array{neuraldata,1},1}}\n",
       "  θ: θneural{θz{Float64},Array{Array{Sigmoid{Float64},1},1}}\n",
       "  data: Array{Array{neuraldata,1}}((1,))\n",
       ",  * Status: success\n",
       "\n",
       " * Candidate solution\n",
       "    Minimizer: [2.96e-01, 2.19e+01, -4.99e-01,  ...]\n",
       "    Minimum:   4.736619e+05\n",
       "\n",
       " * Found with\n",
       "    Algorithm:     Fminbox with BFGS\n",
       "    Initial Point: [5.00e-01, 9.00e+00, -2.00e+00,  ...]\n",
       "\n",
       " * Convergence measures\n",
       "    |x - x'|               = 5.82e-05 ≰ 1.0e-10\n",
       "    |x - x'|/|x'|          = 6.49e-07 ≰ 0.0e+00\n",
       "    |f(x) - f(x')|         = 6.85e-05 ≰ 1.0e-09\n",
       "    |f(x) - f(x')|/|f(x')| = 1.45e-10 ≰ 0.0e+00\n",
       "    |g(x)|                 = 1.01e+01 ≰ 1.0e-03\n",
       "\n",
       " * Work counters\n",
       "    Seconds run:   1933  (vs limit Inf)\n",
       "    Iterations:    3\n",
       "    f(x) calls:    2635\n",
       "    ∇f(x) calls:   439\n",
       ")"
      ]
     },
     "execution_count": 13,
     "metadata": {},
     "output_type": "execute_result"
    }
   ],
   "source": [
    "model, = optimize(data, options, n; scaled=false, f_tol=1e-9)"
   ]
  },
  {
   "cell_type": "code",
   "execution_count": 14,
   "metadata": {},
   "outputs": [
    {
     "data": {
      "text/plain": [
       "15-element Array{Float64,1}:\n",
       "  0.2962164635427144  \n",
       " 21.8926452459826     \n",
       " -0.4989754117466303  \n",
       "  5.114686825869814   \n",
       "  0.013117551674679389\n",
       "  0.6343228352239778  \n",
       "  0.019710432504854533\n",
       " 10.027633624527319   \n",
       " 60.57944190262204    \n",
       "  0.2934056207471556  \n",
       " -1.0304851487698805  \n",
       "  9.829888668982212   \n",
       " 60.58746940399063    \n",
       "  0.2824304188411855  \n",
       "  0.9465579994495747  "
      ]
     },
     "execution_count": 14,
     "metadata": {},
     "output_type": "execute_result"
    }
   ],
   "source": [
    "pulse_input_DDM.flatten(model.θ)"
   ]
  },
  {
   "cell_type": "markdown",
   "metadata": {},
   "source": [
    "### Compute Hessian\n",
    "Blah blah blah"
   ]
  },
  {
   "cell_type": "code",
   "execution_count": 15,
   "metadata": {},
   "outputs": [],
   "source": [
    "H = Hessian(model, n)\n",
    "CI, HPSD = CIs(H);"
   ]
  },
  {
   "cell_type": "code",
   "execution_count": 16,
   "metadata": {},
   "outputs": [
    {
     "data": {
      "text/plain": [
       "15-element Array{Float64,1}:\n",
       " 0.48866877425226474 \n",
       " 5.8685662700726695  \n",
       " 0.14053087013187276 \n",
       " 4.282845910024707   \n",
       " 0.08708030833096013 \n",
       " 0.07070183375572925 \n",
       " 0.004815018944977865\n",
       " 0.3589049613847241  \n",
       " 1.378728006609921   \n",
       " 0.01956927643200986 \n",
       " 0.04653496306885156 \n",
       " 0.6991649533373822  \n",
       " 1.1917820838553284  \n",
       " 0.02008083628380654 \n",
       " 0.06519867332718784 "
      ]
     },
     "execution_count": 16,
     "metadata": {},
     "output_type": "execute_result"
    }
   ],
   "source": [
    "CI"
   ]
  },
  {
   "cell_type": "code",
   "execution_count": 17,
   "metadata": {},
   "outputs": [
    {
     "data": {
      "text/plain": [
       "15×3 Array{Float64,2}:\n",
       " -0.192452    0.5    0.784885 \n",
       " 16.0241     20.0   27.7612   \n",
       " -0.639506   -0.5   -0.358445 \n",
       "  0.831841   10.0    9.39753  \n",
       " -0.0739628   0.1    0.100198 \n",
       "  0.563621    0.6    0.705025 \n",
       "  0.0148954   0.02   0.0245255\n",
       "  9.66873    10.0   10.3865   \n",
       " 59.2007     60.0   61.9582   \n",
       "  0.273836    0.3    0.312975 \n",
       " -1.07702    -1.0   -0.98395  \n",
       "  9.13072    10.0   10.5291   \n",
       " 59.3957     60.0   61.7793   \n",
       "  0.26235     0.3    0.302511 \n",
       "  0.881359    1.0    1.01176  "
      ]
     },
     "execution_count": 17,
     "metadata": {},
     "output_type": "execute_result"
    }
   ],
   "source": [
    "hcat(collect(pulse_input_DDM.flatten(model.θ)) - CI, collect(pulse_input_DDM.flatten(θ_syn)), collect(pulse_input_DDM.flatten(model.θ)) + CI)"
   ]
  },
  {
   "cell_type": "code",
   "execution_count": 18,
   "metadata": {},
   "outputs": [
    {
     "data": {
      "text/plain": [
       "15×2 Array{Float64,2}:\n",
       "  0.296216    0.5 \n",
       " 21.8926     20.0 \n",
       " -0.498975   -0.5 \n",
       "  5.11469    10.0 \n",
       "  0.0131176   0.1 \n",
       "  0.634323    0.6 \n",
       "  0.0197104   0.02\n",
       " 10.0276     10.0 \n",
       " 60.5794     60.0 \n",
       "  0.293406    0.3 \n",
       " -1.03049    -1.0 \n",
       "  9.82989    10.0 \n",
       " 60.5875     60.0 \n",
       "  0.28243     0.3 \n",
       "  0.946558    1.0 "
      ]
     },
     "execution_count": 18,
     "metadata": {},
     "output_type": "execute_result"
    }
   ],
   "source": [
    "hcat(collect(pulse_input_DDM.flatten(model.θ)), collect(pulse_input_DDM.flatten(θ_syn)))"
   ]
  },
  {
   "cell_type": "code",
   "execution_count": 19,
   "metadata": {},
   "outputs": [
    {
     "data": {
      "text/plain": [
       "15×1 BitArray{2}:\n",
       " 1\n",
       " 1\n",
       " 1\n",
       " 0\n",
       " 1\n",
       " 1\n",
       " 1\n",
       " 1\n",
       " 1\n",
       " 1\n",
       " 1\n",
       " 1\n",
       " 1\n",
       " 1\n",
       " 1"
      ]
     },
     "execution_count": 19,
     "metadata": {},
     "output_type": "execute_result"
    }
   ],
   "source": [
    "hcat(collect(pulse_input_DDM.flatten(model.θ)) - CI .< \n",
    "    collect(pulse_input_DDM.flatten(θ_syn)) .< \n",
    "    collect(pulse_input_DDM.flatten(model.θ)) + CI)"
   ]
  },
  {
   "cell_type": "code",
   "execution_count": null,
   "metadata": {},
   "outputs": [],
   "source": []
  }
 ],
 "metadata": {
  "kernelspec": {
   "display_name": "Julia 1.2.0",
   "language": "julia",
   "name": "julia-1.2"
  },
  "language_info": {
   "file_extension": ".jl",
   "mimetype": "application/julia",
   "name": "julia",
   "version": "1.2.0"
  }
 },
 "nbformat": 4,
 "nbformat_minor": 2
}
