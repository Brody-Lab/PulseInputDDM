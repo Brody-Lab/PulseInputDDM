{
 "cells": [
  {
   "cell_type": "code",
   "execution_count": 1,
   "metadata": {},
   "outputs": [],
   "source": [
    "using Distributed\n",
    "addprocs(44);"
   ]
  },
  {
   "cell_type": "code",
   "execution_count": 2,
   "metadata": {
    "scrolled": true
   },
   "outputs": [],
   "source": [
    "# ### Fitting a choice model\n",
    "# Blah blah blah\n",
    "\n",
    "using pulse_input_DDM"
   ]
  },
  {
   "cell_type": "code",
   "execution_count": null,
   "metadata": {},
   "outputs": [],
   "source": [
    "# ### Geneerate some data\n",
    "# Blah blah blah\n",
    "\n",
    "θ_syn, data = synthetic_data(;ntrials=20000)\n",
    "\n",
    "# ### Optimize stuff\n",
    "# Blah blah blah\n",
    "\n",
    "model, options = optimize(data)"
   ]
  },
  {
   "cell_type": "code",
   "execution_count": 4,
   "metadata": {},
   "outputs": [
    {
     "data": {
      "text/plain": [
       "9×9 Array{Float64,2}:\n",
       "   0.16929     0.119848     -0.06341    …    -0.272061     115.963    \n",
       "   0.119848    0.109555     -0.989957        -0.0949004     58.6585   \n",
       "  -0.06341    -0.989957     67.7766           1.16524      -39.7616   \n",
       "   0.145297    0.0774263    -0.0275692       -0.148154      69.9387   \n",
       "  10.9575      4.95207      -3.37848        -10.315       4733.24     \n",
       " -18.0988     -8.28025      16.9159     …    20.8703     -7074.38     \n",
       " 250.626     114.276      -298.304         -285.229      99852.9      \n",
       "  -0.272061   -0.0949004     1.16524         67.0454        18.0438   \n",
       " 115.963      58.6585      -39.7616          18.0438         4.61946e5"
      ]
     },
     "execution_count": 4,
     "metadata": {},
     "output_type": "execute_result"
    }
   ],
   "source": [
    "# ### Compute Hessian\n",
    "# Blah blah blah\n",
    "\n",
    "H = Hessian(model)"
   ]
  },
  {
   "cell_type": "code",
   "execution_count": 5,
   "metadata": {},
   "outputs": [
    {
     "name": "stderr",
     "output_type": "stream",
     "text": [
      "┌ Warning: Hessian is not positive definite. Approximated by closest PSD matrix.\n",
      "└ @ pulse_input_DDM /usr/people/briandd/Projects/pulse_input_DDM/src/choice_model/wrappers.jl:136\n"
     ]
    },
    {
     "data": {
      "text/plain": [
       "9-element Array{Float64,1}:\n",
       " 22.43314219492913     \n",
       " 24.03534891749488     \n",
       "  0.4119756129001433   \n",
       " 21.786650175688475    \n",
       "  0.3553397797120615   \n",
       "  0.12934518545953694  \n",
       "  0.011772971258223203 \n",
       "  0.24507951559994     \n",
       "  0.0031300370761072694"
      ]
     },
     "execution_count": 5,
     "metadata": {},
     "output_type": "execute_result"
    }
   ],
   "source": [
    "# ### Get the CIs from the Hessian\n",
    "# Blah blah blah\n",
    "\n",
    "CI = CIs(model, H)"
   ]
  },
  {
   "cell_type": "code",
   "execution_count": 6,
   "metadata": {},
   "outputs": [],
   "source": [
    "using LinearAlgebra"
   ]
  },
  {
   "cell_type": "code",
   "execution_count": 7,
   "metadata": {},
   "outputs": [
    {
     "data": {
      "text/plain": [
       "9-element Array{Float64,1}:\n",
       "     -0.0976017732766127  \n",
       "      0.009581491466465104\n",
       "      0.045622848940013935\n",
       "     63.4143526503606     \n",
       "     66.95743049236579    \n",
       "     78.63911085019552    \n",
       "    257.6183445317696     \n",
       " 242586.81314145625       \n",
       " 507725.5956938709        "
      ]
     },
     "execution_count": 7,
     "metadata": {},
     "output_type": "execute_result"
    }
   ],
   "source": [
    "eigvals(H)"
   ]
  },
  {
   "cell_type": "code",
   "execution_count": 15,
   "metadata": {},
   "outputs": [],
   "source": [
    "using PositiveFactorizations"
   ]
  },
  {
   "cell_type": "code",
   "execution_count": 16,
   "metadata": {},
   "outputs": [
    {
     "data": {
      "text/plain": [
       "9×9 Array{Float64,2}:\n",
       "   0.16929     0.119848     -0.06341    …     -0.272061      115.963    \n",
       "   0.119848    0.109555     -0.989957         -0.0949004      58.6585   \n",
       "  -0.06341    -0.989957     67.7766            1.16524       -39.7616   \n",
       "   0.145297    0.0774263    -0.0275692        -0.807335      230.802    \n",
       "  10.9575      4.95207      -3.37848         -85.2205      23012.8      \n",
       " -18.0988     -8.28025      16.9159     …    152.312      -39150.7      \n",
       " 250.626     114.276      -298.304         -2120.21            5.47653e5\n",
       "  -0.272061   -0.0949004     1.16524          69.641        -615.373    \n",
       " 115.963      58.6585      -39.7616         -615.373           6.16522e5"
      ]
     },
     "execution_count": 16,
     "metadata": {},
     "output_type": "execute_result"
    }
   ],
   "source": [
    "HPSD = Matrix(cholesky(Positive, H, Val{false}))"
   ]
  },
  {
   "cell_type": "code",
   "execution_count": 18,
   "metadata": {},
   "outputs": [
    {
     "data": {
      "text/plain": [
       "9-element Array{Float64,1}:\n",
       "     -0.0976017732766127  \n",
       "      0.009581491466465104\n",
       "      0.045622848940013935\n",
       "     63.4143526503606     \n",
       "     66.95743049236579    \n",
       "     78.63911085019552    \n",
       "    257.6183445317696     \n",
       " 242586.81314145625       \n",
       " 507725.5956938709        "
      ]
     },
     "execution_count": 18,
     "metadata": {},
     "output_type": "execute_result"
    }
   ],
   "source": [
    "eigvals(H)"
   ]
  },
  {
   "cell_type": "code",
   "execution_count": 19,
   "metadata": {},
   "outputs": [
    {
     "data": {
      "text/plain": [
       "9-element Array{Float64,1}:\n",
       "      0.0035677632013840716\n",
       "      0.009627157356940867 \n",
       "      0.2089077632234809   \n",
       "     63.69152929430628     \n",
       "     67.08482491649627     \n",
       "     83.45449481272912     \n",
       "    259.4203551811363      \n",
       " 369911.1448770035         \n",
       "      1.8410490474330971e6 "
      ]
     },
     "execution_count": 19,
     "metadata": {},
     "output_type": "execute_result"
    }
   ],
   "source": [
    "eigvals(HPSD)"
   ]
  },
  {
   "cell_type": "code",
   "execution_count": 8,
   "metadata": {},
   "outputs": [
    {
     "data": {
      "text/plain": [
       "9×9 Array{Float64,2}:\n",
       "  0.999705     -0.00128865   -0.00342602   …   0.0007444    -0.000413584\n",
       "  0.00339128    0.340763      0.939967         0.000329518  -0.000198942\n",
       " -0.000283388   0.00447064    0.013471        -0.0010522     0.000315685\n",
       " -0.000479315  -0.940045      0.340568         0.000352528  -0.000228393\n",
       " -0.0240478     0.0131594    -0.0168194        0.0305088    -0.0169085  \n",
       " -6.55751e-5    0.000972869  -9.79026e-5   …  -0.0629604     0.0290606  \n",
       " -1.80779e-5   -0.000124782   9.46782e-5       0.906892     -0.414156   \n",
       "  0.000309171  -0.000488885  -0.000314608     -0.00110424    0.000201904\n",
       " -2.0461e-6     6.81631e-6   -1.85161e-5      -0.415509     -0.909585   "
      ]
     },
     "execution_count": 8,
     "metadata": {},
     "output_type": "execute_result"
    }
   ],
   "source": [
    "eigvecs(H)"
   ]
  },
  {
   "cell_type": "code",
   "execution_count": 11,
   "metadata": {},
   "outputs": [
    {
     "data": {
      "text/plain": [
       "pulse_input_DDM.θz{Float64}\n",
       "  σ2_i: Float64 0.10269604731710869\n",
       "  B: Float64 16.83869382808288\n",
       "  λ: Float64 -0.1515230156831915\n",
       "  σ2_a: Float64 47.496498787178\n",
       "  σ2_s: Float64 0.6435004541190359\n",
       "  ϕ: Float64 0.8745155127329068\n",
       "  τ_ϕ: Float64 0.008821190390875857\n"
      ]
     },
     "execution_count": 11,
     "metadata": {},
     "output_type": "execute_result"
    }
   ],
   "source": [
    "model.θ.θz"
   ]
  },
  {
   "cell_type": "code",
   "execution_count": 13,
   "metadata": {},
   "outputs": [
    {
     "data": {
      "text/plain": [
       "pulse_input_DDM.θz{Float64}\n",
       "  σ2_i: Float64 0.1\n",
       "  B: Float64 15.0\n",
       "  λ: Float64 -0.1\n",
       "  σ2_a: Float64 60.0\n",
       "  σ2_s: Float64 0.5\n",
       "  ϕ: Float64 0.8\n",
       "  τ_ϕ: Float64 0.008\n"
      ]
     },
     "execution_count": 13,
     "metadata": {},
     "output_type": "execute_result"
    }
   ],
   "source": [
    "θ_syn.θz"
   ]
  },
  {
   "cell_type": "code",
   "execution_count": null,
   "metadata": {},
   "outputs": [],
   "source": []
  }
 ],
 "metadata": {
  "kernelspec": {
   "display_name": "Julia 1.2.0",
   "language": "julia",
   "name": "julia-1.2"
  },
  "language_info": {
   "file_extension": ".jl",
   "mimetype": "application/julia",
   "name": "julia",
   "version": "1.2.0"
  }
 },
 "nbformat": 4,
 "nbformat_minor": 2
}
