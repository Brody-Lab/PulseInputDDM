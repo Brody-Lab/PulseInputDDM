{
 "cells": [
  {
   "cell_type": "code",
   "execution_count": 1,
   "metadata": {},
   "outputs": [],
   "source": [
    "using Revise, Distributed\n",
    "addprocs(44);"
   ]
  },
  {
   "cell_type": "code",
   "execution_count": 2,
   "metadata": {
    "scrolled": true
   },
   "outputs": [
    {
     "name": "stderr",
     "output_type": "stream",
     "text": [
      "┌ Info: Recompiling stale cache file /usr/people/briandd/.julia/compiled/v1.2/pulse_input_DDM/m8WoA.ji for pulse_input_DDM [c2542da2-1f7d-11e9-2506-87691095ebb2]\n",
      "└ @ Base loading.jl:1240\n"
     ]
    }
   ],
   "source": [
    "# ### Fitting a choice model\n",
    "# Blah blah blah\n",
    "\n",
    "using pulse_input_DDM"
   ]
  },
  {
   "cell_type": "code",
   "execution_count": 3,
   "metadata": {},
   "outputs": [
    {
     "data": {
      "text/plain": [
       "opt\n",
       "  fit: Array{Bool}((9,)) Bool[1, 1, 1, 1, 1, 1, 1, 1, 1]\n",
       "  lb: Array{Float64}((9,)) [2.220446049250313e-16, 4.0, -5.0, 2.220446049250313e-16, 2.220446049250313e-16, 2.220446049250313e-16, 2.220446049250313e-16, -30.0, 0.0]\n",
       "  ub: Array{Float64}((9,)) [10.0, 100.0, 5.0, 800.0, 40.0, 2.0, 10.0, 30.0, 1.0]\n",
       "  x0: Array{Float64}((9,)) [1.0, 13.0, -0.5, 50.0, 1.0, 0.4, 0.01, 0.1, 0.1]\n"
      ]
     },
     "execution_count": 3,
     "metadata": {},
     "output_type": "execute_result"
    }
   ],
   "source": [
    "# ### Geneerate some data\n",
    "# Blah blah blah\n",
    "\n",
    "\n",
    "#parameters of the latent model\n",
    "#pz = Dict(\"generative\" => vcat(1.,13.,-0.5,10.,1.,0.4,0.02), \n",
    "#    \"name\" => vcat(\"σ_i\",\"B\", \"λ\", \"σ_a\",\"σ_s\",\"ϕ\",\"τ_ϕ\"),\n",
    "#    \"fit\" => vcat(trues(7)),\n",
    "#    \"initial\" => vcat(2.,15.,-5.,100.,2.,0.2,0.005),\n",
    "#    \"lb\" => [eps(), 4., -5., eps(), eps(), eps(), eps()],\n",
    "#    \"ub\" => [10., 100, 5., 800., 40., 2., 10.])\n",
    "\n",
    "#parameters for the choice observation\n",
    "#pd = Dict(\"generative\" => vcat(0.1,0.1), \n",
    "#    \"initial\" => vcat(0.,0.5));\n",
    "\n",
    "options = opt(lb=vcat([eps(), 4., -5., eps(), eps(), eps(), eps()],[-30,0.]),\n",
    "    ub=vcat([10., 100, 5., 800., 40., 2., 10.],[30,1.]),\n",
    "    x0=vcat([1.,13.,-0.5,50.,1.,0.4,0.01],[0.1,0.1]),\n",
    "    fit=vcat(trues(9)))"
   ]
  },
  {
   "cell_type": "code",
   "execution_count": 5,
   "metadata": {},
   "outputs": [
    {
     "name": "stdout",
     "output_type": "stream",
     "text": [
      "Fminbox\n",
      "-------\n",
      "Initial mu = 0.0044314\n",
      "\n",
      "Fminbox iteration 1\n",
      "-------------------\n",
      "Calling inner optimizer with mu = 0.0044314\n",
      "\n",
      "(numbers below include barrier contribution)\n",
      "Iter     Function value   Gradient norm \n",
      "     0     7.612311e+03     3.999569e+02\n",
      " * time: 3.4809112548828125e-5\n",
      "     1     7.612282e+03     1.050999e+02\n",
      " * time: 47.98634696006775\n",
      "     2     7.612275e+03     1.167906e+02\n",
      " * time: 71.79832577705383\n",
      "     3     7.610692e+03     4.159282e+03\n",
      " * time: 87.74084877967834\n",
      "     4     7.609922e+03     2.854858e+03\n",
      " * time: 112.1049587726593\n",
      "     5     7.609516e+03     2.788170e+03\n",
      " * time: 136.49077582359314\n",
      "     6     7.609305e+03     2.172690e+03\n",
      " * time: 160.3963429927826\n",
      "     7     7.608456e+03     5.538928e+01\n",
      " * time: 184.3278248310089\n",
      "     8     7.608250e+03     2.021554e+02\n",
      " * time: 200.44343996047974\n",
      "     9     7.608132e+03     2.518949e+02\n",
      " * time: 216.61038279533386\n",
      "    10     7.607971e+03     2.182098e+02\n",
      " * time: 232.801020860672\n",
      "    11     7.607861e+03     6.103310e+01\n",
      " * time: 249.04066681861877\n",
      "    12     7.607815e+03     3.198593e+01\n",
      " * time: 265.4063079357147\n",
      "    13     7.607804e+03     1.427532e+01\n",
      " * time: 281.5330698490143\n",
      "    14     7.607786e+03     2.022527e+01\n",
      " * time: 297.6612129211426\n",
      "    15     7.607748e+03     3.516733e+01\n",
      " * time: 313.8304808139801\n",
      "    16     7.607718e+03     3.533422e+01\n",
      " * time: 330.1526589393616\n",
      "    17     7.607695e+03     2.268429e+01\n",
      " * time: 346.51845383644104\n",
      "    18     7.607676e+03     1.291410e+01\n",
      " * time: 362.86425495147705\n",
      "    19     7.607648e+03     4.792139e+01\n",
      " * time: 379.2987380027771\n",
      "    20     7.607625e+03     5.345489e+01\n",
      " * time: 396.0343179702759\n",
      "    21     7.607596e+03     5.921268e+01\n",
      " * time: 412.37029480934143\n",
      "    22     7.607596e+03     9.297750e-01\n",
      " * time: 469.97932982444763\n",
      "    23     7.607596e+03     2.399018e+00\n",
      " * time: 510.9103260040283\n",
      "\n",
      "Exiting inner optimizer with x = [0.3186118032677798, 21.33001185027027, -0.2656023691593325, 42.552892198287566, 0.8065529364556389, 0.20241555922902638, 0.008830723806683274, 0.2629554327227294, 0.09949332801992287]\n",
      "Current distance to box: 0.00883072\n",
      "Decreasing barrier term μ.\n",
      "\n",
      "Fminbox iteration 2\n",
      "-------------------\n",
      "Calling inner optimizer with mu = 4.4314e-6\n",
      "\n",
      "(numbers below include barrier contribution)\n",
      "Iter     Function value   Gradient norm \n",
      "     0     7.607713e+03     2.438597e+00\n",
      " * time: 3.0040740966796875e-5\n",
      "     1     7.607713e+03     4.310137e+00\n",
      " * time: 49.56061911582947\n",
      "     2     7.607713e+03     5.584054e-01\n",
      " * time: 90.68182611465454\n",
      "\n",
      "Exiting inner optimizer with x = [0.3186107820307711, 21.33001023582277, -0.2655925997699022, 42.552890475469205, 0.8065633675988793, 0.20239741083654303, 0.00883429160270837, 0.2629437767413457, 0.09941851529044902]\n",
      "Current distance to box: 0.00883429\n",
      "Decreasing barrier term μ.\n",
      "\n",
      "optimization complete. converged: true \n",
      "\n"
     ]
    },
    {
     "data": {
      "text/plain": [
       "(choiceDDM{θchoice{θz{Float64},Float64},choicedata{pulse_input_DDM.binned_clicks{pulse_input_DDM.clicks}}}\n",
       "  θ: θchoice{θz{Float64},Float64}\n",
       "  data: choicedata{pulse_input_DDM.binned_clicks{pulse_input_DDM.clicks}}\n",
       ", opt\n",
       "  fit: Array{Bool}((9,)) Bool[1, 1, 1, 1, 1, 1, 1, 1, 1]\n",
       "  lb: Array{Float64}((9,)) [2.220446049250313e-16, 4.0, -5.0, 2.220446049250313e-16, 2.220446049250313e-16, 2.220446049250313e-16, 2.220446049250313e-16, -30.0, 0.0]\n",
       "  ub: Array{Float64}((9,)) [10.0, 100.0, 5.0, 800.0, 40.0, 2.0, 10.0, 30.0, 1.0]\n",
       "  x0: Array{Float64}((9,)) [1.0, 13.0, -0.5, 50.0, 1.0, 0.4, 0.01, 0.1, 0.1]\n",
       ")"
      ]
     },
     "execution_count": 5,
     "metadata": {},
     "output_type": "execute_result"
    }
   ],
   "source": [
    "θ_syn = θchoice(θz=θz(σ2_i=1.,B=13.,λ=-0.5,σ2_a=50.,σ2_s=1.,ϕ=0.4,τ_ϕ=0.01), bias=0.1, lapse=0.1)\n",
    "θ_syn, data = synthetic_data(;θ=θ_syn,ntrials=20000,rng=2)\n",
    "\n",
    "# ### Optimize stuff\n",
    "# Blah blah blah\n",
    "\n",
    "model, options = optimize(data;options=options,iterations=80)"
   ]
  },
  {
   "cell_type": "code",
   "execution_count": 6,
   "metadata": {},
   "outputs": [
    {
     "data": {
      "text/plain": [
       "9×9 Array{Float64,2}:\n",
       "   0.144645     0.117541     -0.0284287  …     0.0329322     60.0383   \n",
       "   0.117541     0.0802571    -0.0863948        0.0465012     42.5196   \n",
       "  -0.0284287   -0.0863948    36.2701          -6.3155       -61.8556   \n",
       "   0.100589     0.077261     -0.0526711        0.036258      37.3378   \n",
       "   6.56693      4.13831      -2.7413           1.19028     2078.24     \n",
       " -11.1551      -6.64286      12.2405     …   -15.3329     -3237.39     \n",
       " 985.23       591.701      -822.004         1307.9            2.88805e5\n",
       "   0.0329322    0.0465012    -6.3155          77.1462        17.9814   \n",
       "  60.0383      42.5196      -61.8556          17.9814     50953.2      "
      ]
     },
     "execution_count": 6,
     "metadata": {},
     "output_type": "execute_result"
    }
   ],
   "source": [
    "# ### Compute Hessian\n",
    "# Blah blah blah\n",
    "\n",
    "H = Hessian(model)"
   ]
  },
  {
   "cell_type": "code",
   "execution_count": 7,
   "metadata": {},
   "outputs": [
    {
     "data": {
      "text/plain": [
       "9-element Array{Float64,1}:\n",
       "  0.03160377910198561\n",
       "  0.0500200662246911 \n",
       " -0.3047849477177813 \n",
       "  0.05333584141257789\n",
       " -0.34758357135983964\n",
       "  0.558424803362068  \n",
       "  0.38464648708949767\n",
       "  0.36860044216435117\n",
       " -0.26215785947644576"
      ]
     },
     "execution_count": 7,
     "metadata": {},
     "output_type": "execute_result"
    }
   ],
   "source": [
    "gradient(model)"
   ]
  },
  {
   "cell_type": "code",
   "execution_count": 8,
   "metadata": {},
   "outputs": [
    {
     "name": "stderr",
     "output_type": "stream",
     "text": [
      "┌ Warning: Hessian is not positive definite. Approximated by closest PSD matrix.\n",
      "└ @ pulse_input_DDM /usr/people/briandd/Projects/pulse_input_DDM/src/choice_model/wrappers.jl:133\n"
     ]
    },
    {
     "data": {
      "text/plain": [
       "9-element Array{Float64,1}:\n",
       " 28.227147435186286    \n",
       " 20.32082742131915     \n",
       "  0.3365729657529781   \n",
       " 48.866915968353       \n",
       "  0.5818156310041473   \n",
       "  0.2145884980876065   \n",
       "  0.0038445956346110483\n",
       "  0.23293089431822284  \n",
       "  0.011584349199276658 "
      ]
     },
     "execution_count": 8,
     "metadata": {},
     "output_type": "execute_result"
    }
   ],
   "source": [
    "# ### Get the CIs from the Hessian\n",
    "# Blah blah blah\n",
    "\n",
    "CI = CIs(model, H)"
   ]
  },
  {
   "cell_type": "code",
   "execution_count": 9,
   "metadata": {},
   "outputs": [],
   "source": [
    "using LinearAlgebra"
   ]
  },
  {
   "cell_type": "code",
   "execution_count": 10,
   "metadata": {},
   "outputs": [
    {
     "data": {
      "text/plain": [
       "9-element Array{Float64,1}:\n",
       "    -0.04779079575909576  \n",
       "    -0.0051504384557450635\n",
       "     0.01526393398441106  \n",
       "    20.06286974543947     \n",
       "    35.18678767672181     \n",
       "    78.28350191732851     \n",
       "    87.82714895007382     \n",
       " 35426.24414865903        \n",
       "     5.422733734708138e6  "
      ]
     },
     "execution_count": 10,
     "metadata": {},
     "output_type": "execute_result"
    }
   ],
   "source": [
    "eigvals(H)"
   ]
  },
  {
   "cell_type": "code",
   "execution_count": 11,
   "metadata": {},
   "outputs": [],
   "source": [
    "using PositiveFactorizations"
   ]
  },
  {
   "cell_type": "code",
   "execution_count": 12,
   "metadata": {},
   "outputs": [
    {
     "data": {
      "text/plain": [
       "9×9 Array{Float64,2}:\n",
       "   0.144645      0.117541     -0.0284287  …    0.0329322      60.0383   \n",
       "   0.117541      0.110777      0.0401912       0.00702166     55.0573   \n",
       "  -0.0284287     0.0401912    36.7951         -6.47925        -9.85315  \n",
       "   0.100589      0.08622      -0.0155121       0.0145568      46.1845   \n",
       "   6.56693       6.53457       7.19766        -3.8532       4055.7      \n",
       " -11.1551      -11.4869       -7.85125    …   -4.80165     -7406.38     \n",
       " 985.23       1009.54        911.06          388.856           6.53853e5\n",
       "   0.0329322     0.00702166   -6.47925        77.2137         -6.62482  \n",
       "  60.0383       55.0573       -9.85315        -6.62482     60389.0      "
      ]
     },
     "execution_count": 12,
     "metadata": {},
     "output_type": "execute_result"
    }
   ],
   "source": [
    "HPSD = Matrix(cholesky(Positive, H, Val{false}))"
   ]
  },
  {
   "cell_type": "code",
   "execution_count": 13,
   "metadata": {},
   "outputs": [
    {
     "data": {
      "text/plain": [
       "9-element Array{Float64,1}:\n",
       "    -0.04779079575909576  \n",
       "    -0.0051504384557450635\n",
       "     0.01526393398441106  \n",
       "    20.06286974543947     \n",
       "    35.18678767672181     \n",
       "    78.28350191732851     \n",
       "    87.82714895007382     \n",
       " 35426.24414865903        \n",
       "     5.422733734708138e6  "
      ]
     },
     "execution_count": 13,
     "metadata": {},
     "output_type": "execute_result"
    }
   ],
   "source": [
    "eigvals(H)"
   ]
  },
  {
   "cell_type": "code",
   "execution_count": 14,
   "metadata": {},
   "outputs": [
    {
     "data": {
      "text/plain": [
       "9-element Array{Float64,1}:\n",
       "     0.001321855283760833\n",
       "     0.007645027230884942\n",
       "     0.08233879651441287 \n",
       "    22.00197703848998    \n",
       "    35.72887877756227    \n",
       "    78.77381439362314    \n",
       "    88.10215090226606    \n",
       " 38818.89329555095       \n",
       "     1.987970541378241e7 "
      ]
     },
     "execution_count": 14,
     "metadata": {},
     "output_type": "execute_result"
    }
   ],
   "source": [
    "eigvals(HPSD)"
   ]
  },
  {
   "cell_type": "code",
   "execution_count": 15,
   "metadata": {},
   "outputs": [
    {
     "data": {
      "text/plain": [
       "9×9 Array{Float64,2}:\n",
       " -0.997448      0.0168394    -0.0656489    …  -0.00019913    0.000182033\n",
       " -0.0296114     0.757993      0.651268        -0.000301788   0.000109388\n",
       "  0.00182355    0.000499013   0.00111184       0.000497135  -0.000151996\n",
       " -0.0602745    -0.65204       0.755506        -0.00028388    9.37656e-5 \n",
       "  0.0241651    -0.00251181   -0.0273579       -0.00850223    0.00610575 \n",
       " -0.000354082  -0.000412594   0.000242585  …  -0.00206288   -0.0113694  \n",
       "  3.81434e-5   -1.28032e-5    4.89619e-5       0.0537211     0.998474   \n",
       " -0.000473518   6.28979e-5   -0.000950254      0.00148026    0.000241036\n",
       "  2.22293e-5   -2.51819e-5   -0.00016431      -0.998516      0.0536906  "
      ]
     },
     "execution_count": 15,
     "metadata": {},
     "output_type": "execute_result"
    }
   ],
   "source": [
    "eigvecs(H)"
   ]
  },
  {
   "cell_type": "code",
   "execution_count": 16,
   "metadata": {},
   "outputs": [
    {
     "data": {
      "text/plain": [
       "θz{Float64}\n",
       "  σ2_i: Float64 0.3186107820307711\n",
       "  B: Float64 21.33001023582277\n",
       "  λ: Float64 -0.2655925997699022\n",
       "  σ2_a: Float64 42.552890475469205\n",
       "  σ2_s: Float64 0.8065633675988793\n",
       "  ϕ: Float64 0.20239741083654303\n",
       "  τ_ϕ: Float64 0.00883429160270837\n"
      ]
     },
     "execution_count": 16,
     "metadata": {},
     "output_type": "execute_result"
    }
   ],
   "source": [
    "model.θ.θz"
   ]
  },
  {
   "cell_type": "code",
   "execution_count": 17,
   "metadata": {},
   "outputs": [
    {
     "data": {
      "text/plain": [
       "θz{Float64}\n",
       "  σ2_i: Float64 1.0\n",
       "  B: Float64 13.0\n",
       "  λ: Float64 -0.5\n",
       "  σ2_a: Float64 50.0\n",
       "  σ2_s: Float64 1.0\n",
       "  ϕ: Float64 0.4\n",
       "  τ_ϕ: Float64 0.01\n"
      ]
     },
     "execution_count": 17,
     "metadata": {},
     "output_type": "execute_result"
    }
   ],
   "source": [
    "θ_syn.θz"
   ]
  },
  {
   "cell_type": "code",
   "execution_count": 36,
   "metadata": {},
   "outputs": [
    {
     "data": {
      "text/plain": [
       "9-element Array{Float64,1}:\n",
       "    0.394517306271814    \n",
       "    0.1092495821711515   \n",
       "   -0.0002467815386095751\n",
       "    0.6290161144862537   \n",
       "   24.075469856217794    \n",
       "   -0.22972084424637806  \n",
       " 1266.8567439965118      \n",
       "   -9.06789393701702     \n",
       " -119.36410987294812     "
      ]
     },
     "execution_count": 36,
     "metadata": {},
     "output_type": "execute_result"
    }
   ],
   "source": [
    "gradient(model,options)"
   ]
  },
  {
   "cell_type": "code",
   "execution_count": 4,
   "metadata": {},
   "outputs": [
    {
     "data": {
      "text/plain": [
       "9-element Array{Float64,1}:\n",
       "  0.9526209964395455 \n",
       " -0.2108585000640888 \n",
       " -0.05335186191697083\n",
       "  0.2548502635048735 \n",
       "  0.7558914872737619 \n",
       " -0.2441849640750603 \n",
       "  1.0799782810035703 \n",
       "  0.5052282915661279 \n",
       "  1.008768178908245  "
      ]
     },
     "execution_count": 4,
     "metadata": {},
     "output_type": "execute_result"
    }
   ],
   "source": [
    "gradient(model,options)"
   ]
  },
  {
   "cell_type": "code",
   "execution_count": 4,
   "metadata": {},
   "outputs": [
    {
     "data": {
      "text/plain": [
       "9-element Array{Float64,1}:\n",
       "  0.284206666702987   \n",
       "  0.007885074175106976\n",
       " -0.03468138866772197 \n",
       "  0.004287337850792605\n",
       "  0.2515098182362774  \n",
       " -0.5313760260409204  \n",
       " 18.501815475607486   \n",
       "  0.03377101925114623 \n",
       "  2.876060060109239   "
      ]
     },
     "execution_count": 4,
     "metadata": {},
     "output_type": "execute_result"
    }
   ],
   "source": [
    "gradient(model,options)"
   ]
  },
  {
   "cell_type": "code",
   "execution_count": 32,
   "metadata": {},
   "outputs": [
    {
     "data": {
      "text/plain": [
       "opt\n",
       "  fit: Array{Bool}((9,)) Bool[1, 1, 1, 1, 1, 1, 1, 1, 1]\n",
       "  lb: Array{Float64}((9,)) [0.0, 8.0, -5.0, 0.0, 0.0, 0.01, 0.005, -30.0, 0.0]\n",
       "  ub: Array{Float64}((9,)) [2.0, 30.0, 5.0, 100.0, 2.5, 1.2, 1.0, 30.0, 1.0]\n",
       "  x0: Array{Float64}((9,)) [0.1, 15.0, -0.1, 20.0, 0.5, 0.8, 0.008, 0.0, 0.01]\n"
      ]
     },
     "execution_count": 32,
     "metadata": {},
     "output_type": "execute_result"
    }
   ],
   "source": [
    "options"
   ]
  },
  {
   "cell_type": "code",
   "execution_count": null,
   "metadata": {},
   "outputs": [],
   "source": []
  }
 ],
 "metadata": {
  "kernelspec": {
   "display_name": "Julia 1.2.0",
   "language": "julia",
   "name": "julia-1.2"
  },
  "language_info": {
   "file_extension": ".jl",
   "mimetype": "application/julia",
   "name": "julia",
   "version": "1.2.0"
  }
 },
 "nbformat": 4,
 "nbformat_minor": 2
}
