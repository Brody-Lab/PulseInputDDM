{
 "cells": [
  {
   "cell_type": "code",
   "execution_count": null,
   "metadata": {},
   "outputs": [],
   "source": [
    "using Revise, Distributed\n",
    "addprocs(44);"
   ]
  },
  {
   "cell_type": "code",
   "execution_count": null,
   "metadata": {
    "scrolled": true
   },
   "outputs": [],
   "source": [
    "# ### Fitting a choice model\n",
    "# Blah blah blah\n",
    "\n",
    "using pulse_input_DDM"
   ]
  },
  {
   "cell_type": "code",
   "execution_count": null,
   "metadata": {},
   "outputs": [],
   "source": [
    "using JLD2\n",
    "JLD2.@load \"mydata.jld2\""
   ]
  },
  {
   "cell_type": "code",
   "execution_count": null,
   "metadata": {},
   "outputs": [],
   "source": [
    "# ### Geneerate some data\n",
    "# Blah blah blah\n",
    "\n",
    "\n",
    "#parameters of the latent model\n",
    "#pz = Dict(\"generative\" => vcat(1.,13.,-0.5,10.,1.,0.4,0.02), \n",
    "#    \"name\" => vcat(\"σ_i\",\"B\", \"λ\", \"σ_a\",\"σ_s\",\"ϕ\",\"τ_ϕ\"),\n",
    "#    \"fit\" => vcat(trues(7)),\n",
    "#    \"initial\" => vcat(2.,15.,-5.,100.,2.,0.2,0.005),\n",
    "#    \"lb\" => [eps(), 4., -5., eps(), eps(), eps(), eps()],\n",
    "#    \"ub\" => [10., 100, 5., 800., 40., 2., 10.])\n",
    "\n",
    "#parameters for the choice observation\n",
    "#pd = Dict(\"generative\" => vcat(0.1,0.1), \n",
    "#    \"initial\" => vcat(0.,0.5));\n",
    "\n",
    "options = opt(lb=vcat([eps(), 4., -5., eps(), eps(), eps(), eps()],[-30,0.]),\n",
    "    ub=vcat([10., 100, 5., 800., 40., 2., 10.],[30,1.]),\n",
    "    x0=vcat([1.,13.,-0.5,50.,1.,0.4,0.01],[0.1,0.1]),\n",
    "    fit=vcat(trues(9)))"
   ]
  },
  {
   "cell_type": "code",
   "execution_count": null,
   "metadata": {},
   "outputs": [],
   "source": [
    "θ_syn = θchoice(θz=θz(σ2_i=1.,B=13.,λ=-0.5,σ2_a=50.,σ2_s=1.,ϕ=0.4,τ_ϕ=0.01), bias=0.1, lapse=0.1)\n",
    "θ_syn, data = synthetic_data(;θ=θ_syn,ntrials=20000,rng=2)\n",
    "\n",
    "# ### Optimize stuff\n",
    "# Blah blah blah\n",
    "\n",
    "model, options = optimize(data;options=options,iterations=80)"
   ]
  },
  {
   "cell_type": "code",
   "execution_count": null,
   "metadata": {},
   "outputs": [],
   "source": [
    "gradient(model,options)"
   ]
  },
  {
   "cell_type": "code",
   "execution_count": null,
   "metadata": {},
   "outputs": [],
   "source": [
    "# ### Compute Hessian\n",
    "# Blah blah blah\n",
    "\n",
    "H = Hessian(model)"
   ]
  },
  {
   "cell_type": "code",
   "execution_count": null,
   "metadata": {},
   "outputs": [],
   "source": [
    "CI = CIs(model, H)"
   ]
  },
  {
   "cell_type": "code",
   "execution_count": null,
   "metadata": {},
   "outputs": [],
   "source": [
    "model.θ.θz"
   ]
  },
  {
   "cell_type": "code",
   "execution_count": null,
   "metadata": {},
   "outputs": [],
   "source": [
    "θ_syn = θchoice(θz=θz(σ2_i=1.,B=13.,λ=-0.5,σ2_a=50.,σ2_s=1.,ϕ=0.4,τ_ϕ=0.01), bias=0.1, lapse=0.1)\n",
    "θ_syn, data = synthetic_data(;θ=θ_syn,ntrials=20000,rng=2)\n",
    "\n",
    "# ### Optimize stuff\n",
    "# Blah blah blah\n",
    "\n",
    "model, options = optimize(data;options=options,iterations=80)"
   ]
  },
  {
   "cell_type": "code",
   "execution_count": null,
   "metadata": {},
   "outputs": [],
   "source": [
    "# ### Compute Hessian\n",
    "# Blah blah blah\n",
    "\n",
    "H = Hessian(model)"
   ]
  },
  {
   "cell_type": "code",
   "execution_count": null,
   "metadata": {},
   "outputs": [],
   "source": [
    "model = choiceDDM(θ,data)\n",
    "pulse_input_DDM.gradient(model,53)"
   ]
  },
  {
   "cell_type": "code",
   "execution_count": null,
   "metadata": {},
   "outputs": [],
   "source": [
    "# ### Get the CIs from the Hessian\n",
    "# Blah blah blah\n",
    "\n",
    "CI = CIs(model, H)"
   ]
  },
  {
   "cell_type": "code",
   "execution_count": null,
   "metadata": {},
   "outputs": [],
   "source": [
    "using Flatten\n",
    "using ForwardDiff"
   ]
  },
  {
   "cell_type": "code",
   "execution_count": null,
   "metadata": {},
   "outputs": [],
   "source": [
    "@unpack θ, data = model\n",
    "x = [Flatten.flatten(θ)...]\n",
    "ℓℓ(x) = -loglikelihood(x, data, n)"
   ]
  },
  {
   "cell_type": "code",
   "execution_count": null,
   "metadata": {},
   "outputs": [],
   "source": [
    "ForwardDiff.gradient(ℓℓ, x)\n"
   ]
  },
  {
   "cell_type": "code",
   "execution_count": null,
   "metadata": {},
   "outputs": [],
   "source": [
    "eigvals(H)"
   ]
  },
  {
   "cell_type": "code",
   "execution_count": null,
   "metadata": {},
   "outputs": [],
   "source": [
    "using PositiveFactorizations"
   ]
  },
  {
   "cell_type": "code",
   "execution_count": null,
   "metadata": {},
   "outputs": [],
   "source": [
    "HPSD = Matrix(cholesky(Positive, H, Val{false}))"
   ]
  },
  {
   "cell_type": "code",
   "execution_count": null,
   "metadata": {},
   "outputs": [],
   "source": [
    "eigvals(H)"
   ]
  },
  {
   "cell_type": "code",
   "execution_count": null,
   "metadata": {},
   "outputs": [],
   "source": [
    "eigvals(HPSD)"
   ]
  },
  {
   "cell_type": "code",
   "execution_count": null,
   "metadata": {},
   "outputs": [],
   "source": [
    "eigvecs(H)"
   ]
  },
  {
   "cell_type": "code",
   "execution_count": null,
   "metadata": {},
   "outputs": [],
   "source": [
    "model.θ.θz"
   ]
  },
  {
   "cell_type": "code",
   "execution_count": null,
   "metadata": {},
   "outputs": [],
   "source": [
    "model.θ.θz"
   ]
  },
  {
   "cell_type": "code",
   "execution_count": null,
   "metadata": {},
   "outputs": [],
   "source": [
    "θ_syn.θz"
   ]
  },
  {
   "cell_type": "code",
   "execution_count": null,
   "metadata": {},
   "outputs": [],
   "source": [
    "using JLD2\n",
    "JLD2.@save \"mydata2.jld2\" data"
   ]
  },
  {
   "cell_type": "code",
   "execution_count": null,
   "metadata": {},
   "outputs": [],
   "source": [
    "using JLD2\n",
    "JLD2.@load \"mydata2.jld2\""
   ]
  },
  {
   "cell_type": "code",
   "execution_count": null,
   "metadata": {},
   "outputs": [],
   "source": [
    "data"
   ]
  },
  {
   "cell_type": "code",
   "execution_count": null,
   "metadata": {},
   "outputs": [],
   "source": [
    "nT"
   ]
  },
  {
   "cell_type": "code",
   "execution_count": null,
   "metadata": {},
   "outputs": [],
   "source": [
    "@unpack binned_clicks,choices = data"
   ]
  },
  {
   "cell_type": "code",
   "execution_count": null,
   "metadata": {},
   "outputs": [],
   "source": [
    "using Parameters\n",
    "@unpack clicks,nT,nL,nR,dt,centered = binned_clicks"
   ]
  },
  {
   "cell_type": "code",
   "execution_count": null,
   "metadata": {},
   "outputs": [],
   "source": [
    "@unpack L,R,T,ntrials = clicks"
   ]
  },
  {
   "cell_type": "code",
   "execution_count": null,
   "metadata": {},
   "outputs": [],
   "source": [
    "gradient(model,options)"
   ]
  },
  {
   "cell_type": "code",
   "execution_count": null,
   "metadata": {},
   "outputs": [],
   "source": [
    "gradient(model,options)"
   ]
  },
  {
   "cell_type": "code",
   "execution_count": null,
   "metadata": {},
   "outputs": [],
   "source": [
    "gradient(model,options)"
   ]
  },
  {
   "cell_type": "code",
   "execution_count": null,
   "metadata": {},
   "outputs": [],
   "source": [
    "options"
   ]
  },
  {
   "cell_type": "code",
   "execution_count": 1,
   "metadata": {},
   "outputs": [
    {
     "name": "stderr",
     "output_type": "stream",
     "text": [
      "┌ Info: Precompiling pulse_input_DDM [c2542da2-1f7d-11e9-2506-87691095ebb2]\n",
      "└ @ Base loading.jl:1273\n",
      "WARNING: Method definition vec(Number) in module FiniteDiff at /Users/dikshag/.julia/packages/FiniteDiff/LN2dd/src/jacobians.jl:128 overwritten in module DiffEqDiffTools at /Users/dikshag/.julia/packages/DiffEqDiffTools/3mm8U/src/jacobians.jl:114.\n",
      "  ** incremental compilation may be fatally broken for this module **\n",
      "\n"
     ]
    }
   ],
   "source": [
    "using pulse_input_DDM\n",
    "using PyPlot\n",
    "using Parameters"
   ]
  },
  {
   "cell_type": "code",
   "execution_count": 9,
   "metadata": {},
   "outputs": [
    {
     "data": {
      "text/plain": [
       "(θchoice{θz{Float64},Float64}\n",
       "  θz: θz{Float64}\n",
       "  bias: Float64 0.0\n",
       "  lapse: Float64 0.01\n",
       ", choicedata{pulse_input_DDM.choiceinputs{pulse_input_DDM.clicks,pulse_input_DDM.binned_clicks}}[choicedata{pulse_input_DDM.choiceinputs{pulse_input_DDM.clicks,pulse_input_DDM.binned_clicks}}\n",
       "  click_data: pulse_input_DDM.choiceinputs{pulse_input_DDM.clicks,pulse_input_DDM.binned_clicks}\n",
       "  choice: Bool false\n",
       "  sessbnd: Bool false\n",
       ", choicedata{pulse_input_DDM.choiceinputs{pulse_input_DDM.clicks,pulse_input_DDM.binned_clicks}}\n",
       "  click_data: pulse_input_DDM.choiceinputs{pulse_input_DDM.clicks,pulse_input_DDM.binned_clicks}\n",
       "  choice: Bool true\n",
       "  sessbnd: Bool false\n",
       ", choicedata{pulse_input_DDM.choiceinputs{pulse_input_DDM.clicks,pulse_input_DDM.binned_clicks}}\n",
       "  click_data: pulse_input_DDM.choiceinputs{pulse_input_DDM.clicks,pulse_input_DDM.binned_clicks}\n",
       "  choice: Bool false\n",
       "  sessbnd: Bool false\n",
       ", choicedata{pulse_input_DDM.choiceinputs{pulse_input_DDM.clicks,pulse_input_DDM.binned_clicks}}\n",
       "  click_data: pulse_input_DDM.choiceinputs{pulse_input_DDM.clicks,pulse_input_DDM.binned_clicks}\n",
       "  choice: Bool true\n",
       "  sessbnd: Bool false\n",
       ", choicedata{pulse_input_DDM.choiceinputs{pulse_input_DDM.clicks,pulse_input_DDM.binned_clicks}}\n",
       "  click_data: pulse_input_DDM.choiceinputs{pulse_input_DDM.clicks,pulse_input_DDM.binned_clicks}\n",
       "  choice: Bool true\n",
       "  sessbnd: Bool false\n",
       ", choicedata{pulse_input_DDM.choiceinputs{pulse_input_DDM.clicks,pulse_input_DDM.binned_clicks}}\n",
       "  click_data: pulse_input_DDM.choiceinputs{pulse_input_DDM.clicks,pulse_input_DDM.binned_clicks}\n",
       "  choice: Bool false\n",
       "  sessbnd: Bool false\n",
       ", choicedata{pulse_input_DDM.choiceinputs{pulse_input_DDM.clicks,pulse_input_DDM.binned_clicks}}\n",
       "  click_data: pulse_input_DDM.choiceinputs{pulse_input_DDM.clicks,pulse_input_DDM.binned_clicks}\n",
       "  choice: Bool true\n",
       "  sessbnd: Bool false\n",
       ", choicedata{pulse_input_DDM.choiceinputs{pulse_input_DDM.clicks,pulse_input_DDM.binned_clicks}}\n",
       "  click_data: pulse_input_DDM.choiceinputs{pulse_input_DDM.clicks,pulse_input_DDM.binned_clicks}\n",
       "  choice: Bool true\n",
       "  sessbnd: Bool false\n",
       ", choicedata{pulse_input_DDM.choiceinputs{pulse_input_DDM.clicks,pulse_input_DDM.binned_clicks}}\n",
       "  click_data: pulse_input_DDM.choiceinputs{pulse_input_DDM.clicks,pulse_input_DDM.binned_clicks}\n",
       "  choice: Bool true\n",
       "  sessbnd: Bool false\n",
       ", choicedata{pulse_input_DDM.choiceinputs{pulse_input_DDM.clicks,pulse_input_DDM.binned_clicks}}\n",
       "  click_data: pulse_input_DDM.choiceinputs{pulse_input_DDM.clicks,pulse_input_DDM.binned_clicks}\n",
       "  choice: Bool false\n",
       "  sessbnd: Bool false\n",
       "  …  choicedata{pulse_input_DDM.choiceinputs{pulse_input_DDM.clicks,pulse_input_DDM.binned_clicks}}\n",
       "  click_data: pulse_input_DDM.choiceinputs{pulse_input_DDM.clicks,pulse_input_DDM.binned_clicks}\n",
       "  choice: Bool true\n",
       "  sessbnd: Bool false\n",
       ", choicedata{pulse_input_DDM.choiceinputs{pulse_input_DDM.clicks,pulse_input_DDM.binned_clicks}}\n",
       "  click_data: pulse_input_DDM.choiceinputs{pulse_input_DDM.clicks,pulse_input_DDM.binned_clicks}\n",
       "  choice: Bool false\n",
       "  sessbnd: Bool false\n",
       ", choicedata{pulse_input_DDM.choiceinputs{pulse_input_DDM.clicks,pulse_input_DDM.binned_clicks}}\n",
       "  click_data: pulse_input_DDM.choiceinputs{pulse_input_DDM.clicks,pulse_input_DDM.binned_clicks}\n",
       "  choice: Bool true\n",
       "  sessbnd: Bool false\n",
       ", choicedata{pulse_input_DDM.choiceinputs{pulse_input_DDM.clicks,pulse_input_DDM.binned_clicks}}\n",
       "  click_data: pulse_input_DDM.choiceinputs{pulse_input_DDM.clicks,pulse_input_DDM.binned_clicks}\n",
       "  choice: Bool true\n",
       "  sessbnd: Bool false\n",
       ", choicedata{pulse_input_DDM.choiceinputs{pulse_input_DDM.clicks,pulse_input_DDM.binned_clicks}}\n",
       "  click_data: pulse_input_DDM.choiceinputs{pulse_input_DDM.clicks,pulse_input_DDM.binned_clicks}\n",
       "  choice: Bool false\n",
       "  sessbnd: Bool false\n",
       ", choicedata{pulse_input_DDM.choiceinputs{pulse_input_DDM.clicks,pulse_input_DDM.binned_clicks}}\n",
       "  click_data: pulse_input_DDM.choiceinputs{pulse_input_DDM.clicks,pulse_input_DDM.binned_clicks}\n",
       "  choice: Bool true\n",
       "  sessbnd: Bool false\n",
       ", choicedata{pulse_input_DDM.choiceinputs{pulse_input_DDM.clicks,pulse_input_DDM.binned_clicks}}\n",
       "  click_data: pulse_input_DDM.choiceinputs{pulse_input_DDM.clicks,pulse_input_DDM.binned_clicks}\n",
       "  choice: Bool true\n",
       "  sessbnd: Bool false\n",
       ", choicedata{pulse_input_DDM.choiceinputs{pulse_input_DDM.clicks,pulse_input_DDM.binned_clicks}}\n",
       "  click_data: pulse_input_DDM.choiceinputs{pulse_input_DDM.clicks,pulse_input_DDM.binned_clicks}\n",
       "  choice: Bool true\n",
       "  sessbnd: Bool false\n",
       ", choicedata{pulse_input_DDM.choiceinputs{pulse_input_DDM.clicks,pulse_input_DDM.binned_clicks}}\n",
       "  click_data: pulse_input_DDM.choiceinputs{pulse_input_DDM.clicks,pulse_input_DDM.binned_clicks}\n",
       "  choice: Bool true\n",
       "  sessbnd: Bool false\n",
       ", choicedata{pulse_input_DDM.choiceinputs{pulse_input_DDM.clicks,pulse_input_DDM.binned_clicks}}\n",
       "  click_data: pulse_input_DDM.choiceinputs{pulse_input_DDM.clicks,pulse_input_DDM.binned_clicks}\n",
       "  choice: Bool false\n",
       "  sessbnd: Bool false\n",
       "])"
      ]
     },
     "execution_count": 9,
     "metadata": {},
     "output_type": "execute_result"
    }
   ],
   "source": [
    "θ, data = synthetic_data(ntrials = 5000)"
   ]
  },
  {
   "cell_type": "code",
   "execution_count": 10,
   "metadata": {},
   "outputs": [
    {
     "data": {
      "image/png": "[encoded data removed]",
      "text/plain": [
       "Figure(PyObject <Figure size 640x480 with 1 Axes>)"
      ]
     },
     "metadata": {},
     "output_type": "display_data"
    },
    {
     "data": {
      "text/plain": [
       "1-element Array{PyCall.PyObject,1}:\n",
       " PyObject <matplotlib.lines.Line2D object at 0x14d1bc310>"
      ]
     },
     "execution_count": 10,
     "metadata": {},
     "output_type": "execute_result"
    }
   ],
   "source": [
    "sessbnd = map(data->data.sessbnd,data)\n",
    "plot(sessbnd)"
   ]
  },
  {
   "cell_type": "code",
   "execution_count": 23,
   "metadata": {},
   "outputs": [
    {
     "data": {
      "text/plain": [
       "true"
      ]
     },
     "execution_count": 23,
     "metadata": {},
     "output_type": "execute_result"
    }
   ],
   "source": [
    "a,b = filter(x -> x == 1, sessbnd)\n"
   ]
  },
  {
   "cell_type": "code",
   "execution_count": 14,
   "metadata": {},
   "outputs": [
    {
     "data": {
      "image/png": "[encoded data removed]",
      "text/plain": [
       "Figure(PyObject <Figure size 640x480 with 1 Axes>)"
      ]
     },
     "metadata": {},
     "output_type": "display_data"
    },
    {
     "data": {
      "text/plain": [
       "1-element Array{PyCall.PyObject,1}:\n",
       " PyObject <matplotlib.lines.Line2D object at 0x14f3013d0>"
      ]
     },
     "execution_count": 14,
     "metadata": {},
     "output_type": "execute_result"
    }
   ],
   "source": [
    "@unpack ibias, eta, beta = θ.θz\n",
    "clickdata = map(data->data.click_data,data)\n",
    "sessbnd = map(data->data.sessbnd,data)\n",
    "\n",
    "i_0 = pulse_input_DDM.compute_initial_pt(ibias,eta,beta,clickdata, sessbnd)\n",
    "plot(i_0[1:500])"
   ]
  },
  {
   "cell_type": "code",
   "execution_count": 15,
   "metadata": {},
   "outputs": [
    {
     "data": {
      "text/plain": [
       "0.1"
      ]
     },
     "execution_count": 15,
     "metadata": {},
     "output_type": "execute_result"
    }
   ],
   "source": [
    "ibias\n"
   ]
  },
  {
   "cell_type": "code",
   "execution_count": 3,
   "metadata": {},
   "outputs": [
    {
     "data": {
      "text/plain": [
       "choiceoptions\n",
       "  fit: Array{Bool}((12,)) Bool[0, 1, 1, 1, 1, 1, 1, 1, 1, 1, 0, 0]\n",
       "  lb: Array{Float64}((12,)) [0.0, -2.0, -4.0, -0.9, 0.5, -5.0, 0.0, 0.0, 0.01, 0.005, -30.0, 0.0]\n",
       "  ub: Array{Float64}((12,)) [2.220446049250313e-16, 2.0, 4.0, 0.9, 30.0, 5.0, 100.0, 2.5, 1.2, 1.0, 30.0, 1.0]\n",
       "  x0: Array{Float64}((12,)) [2.220446049250313e-16, 0.5, 0.9, 0.6, 15.0, -0.5, 2.0, 1.5, 0.8, 0.05, 0.0, 1.0e-5]\n"
      ]
     },
     "execution_count": 3,
     "metadata": {},
     "output_type": "execute_result"
    }
   ],
   "source": [
    "n = 53;\n",
    "options = choiceoptions(fit = vcat(false,true, true, true, true, true, true, true, true, true, false, false),\n",
    "    lb = vcat([0.,-2., -4.,-0.9, .5, -5., 0., 0., 0.01, 0.005], [-30, 0.]),\n",
    "    ub = vcat([eps(),2., 4., 0.9, 30., 5., 100., 2.5, 1.2, 1.], [30, 1.]),\n",
    "    x0 = vcat([eps(),0.5, 0.9, 0.6, 15., -0.5, 2., 1.5, 0.8, 0.05], [0.,1e-5]))\n"
   ]
  },
  {
   "cell_type": "code",
   "execution_count": 6,
   "metadata": {},
   "outputs": [
    {
     "name": "stdout",
     "output_type": "stream",
     "text": [
      "Fminbox\n",
      "-------\n",
      "Initial mu = 0.00202187\n",
      "\n",
      "Fminbox iteration 1\n",
      "-------------------\n",
      "Calling inner optimizer with mu = 0.00202187\n",
      "\n",
      "(numbers below include barrier contribution)\n",
      "Iter     Function value   Gradient norm \n",
      "     0     2.498143e+01     4.865063e+01\n",
      " * time: 3.695487976074219e-5\n",
      "     1     2.381048e+01     4.195304e+01\n",
      " * time: 2.451663017272949\n",
      "     2     2.314796e+01     5.225496e+01\n",
      " * time: 4.798779010772705\n"
     ]
    },
    {
     "ename": "InterruptException",
     "evalue": "InterruptException:",
     "output_type": "error",
     "traceback": [
      "InterruptException:",
      "",
      "Stacktrace:",
      " [1] (::Base.var\"#732#734\")(::Task) at ./asyncmap.jl:178",
      " [2] foreach(::Base.var\"#732#734\", ::Array{Any,1}) at ./abstractarray.jl:1920",
      " [3] maptwice(::Function, ::Channel{Any}, ::Array{Any,1}, ::Base.Iterators.Zip{Tuple{Array{choicedata{pulse_input_DDM.choiceinputs{pulse_input_DDM.clicks,pulse_input_DDM.binned_clicks}},1},Array{ForwardDiff.Dual{ForwardDiff.Tag{pulse_input_DDM.var\"#ℓℓ#69\"{Array{choicedata{pulse_input_DDM.choiceinputs{pulse_input_DDM.clicks,pulse_input_DDM.binned_clicks}},1},Int64,Array{Bool,1},Array{Float64,1}},Float64},Float64,9},1}}}) at ./asyncmap.jl:178",
      " [4] wrap_n_exec_twice(::Channel{Any}, ::Array{Any,1}, ::Distributed.var\"#208#211\"{Distributed.WorkerPool}, ::Function, ::Base.Iterators.Zip{Tuple{Array{choicedata{pulse_input_DDM.choiceinputs{pulse_input_DDM.clicks,pulse_input_DDM.binned_clicks}},1},Array{ForwardDiff.Dual{ForwardDiff.Tag{pulse_input_DDM.var\"#ℓℓ#69\"{Array{choicedata{pulse_input_DDM.choiceinputs{pulse_input_DDM.clicks,pulse_input_DDM.binned_clicks}},1},Int64,Array{Bool,1},Array{Float64,1}},Float64},Float64,9},1}}}) at ./asyncmap.jl:154",
      " [5] #async_usemap#717(::Function, ::Nothing, ::typeof(Base.async_usemap), ::Distributed.var\"#219#220\"{pulse_input_DDM.var\"#74#77\"{θchoice{θz{ForwardDiff.Dual{ForwardDiff.Tag{pulse_input_DDM.var\"#ℓℓ#69\"{Array{choicedata{pulse_input_DDM.choiceinputs{pulse_input_DDM.clicks,pulse_input_DDM.binned_clicks}},1},Int64,Array{Bool,1},Array{Float64,1}},Float64},Float64,9}},ForwardDiff.Dual{ForwardDiff.Tag{pulse_input_DDM.var\"#ℓℓ#69\"{Array{choicedata{pulse_input_DDM.choiceinputs{pulse_input_DDM.clicks,pulse_input_DDM.binned_clicks}},1},Int64,Array{Bool,1},Array{Float64,1}},Float64},Float64,9}},Int64}}, ::Base.Iterators.Zip{Tuple{Array{choicedata{pulse_input_DDM.choiceinputs{pulse_input_DDM.clicks,pulse_input_DDM.binned_clicks}},1},Array{ForwardDiff.Dual{ForwardDiff.Tag{pulse_input_DDM.var\"#ℓℓ#69\"{Array{choicedata{pulse_input_DDM.choiceinputs{pulse_input_DDM.clicks,pulse_input_DDM.binned_clicks}},1},Int64,Array{Bool,1},Array{Float64,1}},Float64},Float64,9},1}}}) at ./asyncmap.jl:103",
      " [6] (::Base.var\"#kw##async_usemap\")(::NamedTuple{(:ntasks, :batch_size),Tuple{Distributed.var\"#208#211\"{Distributed.WorkerPool},Nothing}}, ::typeof(Base.async_usemap), ::Function, ::Base.Iterators.Zip{Tuple{Array{choicedata{pulse_input_DDM.choiceinputs{pulse_input_DDM.clicks,pulse_input_DDM.binned_clicks}},1},Array{ForwardDiff.Dual{ForwardDiff.Tag{pulse_input_DDM.var\"#ℓℓ#69\"{Array{choicedata{pulse_input_DDM.choiceinputs{pulse_input_DDM.clicks,pulse_input_DDM.binned_clicks}},1},Int64,Array{Bool,1},Array{Float64,1}},Float64},Float64,9},1}}}) at ./none:0",
      " [7] #asyncmap#716 at ./asyncmap.jl:81 [inlined]",
      " [8] #asyncmap at ./none:0 [inlined]",
      " [9] #pmap#207(::Bool, ::Int64, ::Nothing, ::Array{Any,1}, ::Nothing, ::typeof(Distributed.pmap), ::Function, ::Distributed.WorkerPool, ::Base.Iterators.Zip{Tuple{Array{choicedata{pulse_input_DDM.choiceinputs{pulse_input_DDM.clicks,pulse_input_DDM.binned_clicks}},1},Array{ForwardDiff.Dual{ForwardDiff.Tag{pulse_input_DDM.var\"#ℓℓ#69\"{Array{choicedata{pulse_input_DDM.choiceinputs{pulse_input_DDM.clicks,pulse_input_DDM.binned_clicks}},1},Int64,Array{Bool,1},Array{Float64,1}},Float64},Float64,9},1}}}) at /Users/julia/buildbot/worker/package_macos64/build/usr/share/julia/stdlib/v1.3/Distributed/src/pmap.jl:126",
      " [10] pmap(::Function, ::Distributed.WorkerPool, ::Base.Iterators.Zip{Tuple{Array{choicedata{pulse_input_DDM.choiceinputs{pulse_input_DDM.clicks,pulse_input_DDM.binned_clicks}},1},Array{ForwardDiff.Dual{ForwardDiff.Tag{pulse_input_DDM.var\"#ℓℓ#69\"{Array{choicedata{pulse_input_DDM.choiceinputs{pulse_input_DDM.clicks,pulse_input_DDM.binned_clicks}},1},Int64,Array{Bool,1},Array{Float64,1}},Float64},Float64,9},1}}}) at /Users/julia/buildbot/worker/package_macos64/build/usr/share/julia/stdlib/v1.3/Distributed/src/pmap.jl:101",
      " [11] #pmap#217(::Base.Iterators.Pairs{Union{},Union{},Tuple{},NamedTuple{(),Tuple{}}}, ::typeof(Distributed.pmap), ::Function, ::Base.Iterators.Zip{Tuple{Array{choicedata{pulse_input_DDM.choiceinputs{pulse_input_DDM.clicks,pulse_input_DDM.binned_clicks}},1},Array{ForwardDiff.Dual{ForwardDiff.Tag{pulse_input_DDM.var\"#ℓℓ#69\"{Array{choicedata{pulse_input_DDM.choiceinputs{pulse_input_DDM.clicks,pulse_input_DDM.binned_clicks}},1},Int64,Array{Bool,1},Array{Float64,1}},Float64},Float64,9},1}}}) at /Users/julia/buildbot/worker/package_macos64/build/usr/share/julia/stdlib/v1.3/Distributed/src/pmap.jl:156",
      " [12] pmap(::Function, ::Base.Iterators.Zip{Tuple{Array{choicedata{pulse_input_DDM.choiceinputs{pulse_input_DDM.clicks,pulse_input_DDM.binned_clicks}},1},Array{ForwardDiff.Dual{ForwardDiff.Tag{pulse_input_DDM.var\"#ℓℓ#69\"{Array{choicedata{pulse_input_DDM.choiceinputs{pulse_input_DDM.clicks,pulse_input_DDM.binned_clicks}},1},Int64,Array{Bool,1},Array{Float64,1}},Float64},Float64,9},1}}}) at /Users/julia/buildbot/worker/package_macos64/build/usr/share/julia/stdlib/v1.3/Distributed/src/pmap.jl:156",
      " [13] #pmap#218(::Base.Iterators.Pairs{Union{},Union{},Tuple{},NamedTuple{(),Tuple{}}}, ::typeof(Distributed.pmap), ::Function, ::Array{choicedata{pulse_input_DDM.choiceinputs{pulse_input_DDM.clicks,pulse_input_DDM.binned_clicks}},1}, ::Array{ForwardDiff.Dual{ForwardDiff.Tag{pulse_input_DDM.var\"#ℓℓ#69\"{Array{choicedata{pulse_input_DDM.choiceinputs{pulse_input_DDM.clicks,pulse_input_DDM.binned_clicks}},1},Int64,Array{Bool,1},Array{Float64,1}},Float64},Float64,9},1}) at /Users/julia/buildbot/worker/package_macos64/build/usr/share/julia/stdlib/v1.3/Distributed/src/pmap.jl:157",
      " [14] pmap(::Function, ::Array{choicedata{pulse_input_DDM.choiceinputs{pulse_input_DDM.clicks,pulse_input_DDM.binned_clicks}},1}, ::Array{ForwardDiff.Dual{ForwardDiff.Tag{pulse_input_DDM.var\"#ℓℓ#69\"{Array{choicedata{pulse_input_DDM.choiceinputs{pulse_input_DDM.clicks,pulse_input_DDM.binned_clicks}},1},Int64,Array{Bool,1},Array{Float64,1}},Float64},Float64,9},1}) at /Users/julia/buildbot/worker/package_macos64/build/usr/share/julia/stdlib/v1.3/Distributed/src/pmap.jl:157",
      " [15] loglikelihood(::θchoice{θz{ForwardDiff.Dual{ForwardDiff.Tag{pulse_input_DDM.var\"#ℓℓ#69\"{Array{choicedata{pulse_input_DDM.choiceinputs{pulse_input_DDM.clicks,pulse_input_DDM.binned_clicks}},1},Int64,Array{Bool,1},Array{Float64,1}},Float64},Float64,9}},ForwardDiff.Dual{ForwardDiff.Tag{pulse_input_DDM.var\"#ℓℓ#69\"{Array{choicedata{pulse_input_DDM.choiceinputs{pulse_input_DDM.clicks,pulse_input_DDM.binned_clicks}},1},Int64,Array{Bool,1},Array{Float64,1}},Float64},Float64,9}}, ::Array{choicedata{pulse_input_DDM.choiceinputs{pulse_input_DDM.clicks,pulse_input_DDM.binned_clicks}},1}, ::Int64) at /Users/dikshag/.julia/dev/pulse_input_DDM/src/choice_model/compute_LL.jl:14",
      " [16] loglikelihood at /Users/dikshag/.julia/dev/pulse_input_DDM/src/choice_model/choice_model.jl:127 [inlined]",
      " [17] (::pulse_input_DDM.var\"#ℓℓ#69\"{Array{choicedata{pulse_input_DDM.choiceinputs{pulse_input_DDM.clicks,pulse_input_DDM.binned_clicks}},1},Int64,Array{Bool,1},Array{Float64,1}})(::Array{ForwardDiff.Dual{ForwardDiff.Tag{pulse_input_DDM.var\"#ℓℓ#69\"{Array{choicedata{pulse_input_DDM.choiceinputs{pulse_input_DDM.clicks,pulse_input_DDM.binned_clicks}},1},Int64,Array{Bool,1},Array{Float64,1}},Float64},Float64,9},1}) at /Users/dikshag/.julia/dev/pulse_input_DDM/src/choice_model/choice_model.jl:97",
      " [18] vector_mode_gradient!(::DiffResults.MutableDiffResult{1,Float64,Tuple{Array{Float64,1}}}, ::pulse_input_DDM.var\"#ℓℓ#69\"{Array{choicedata{pulse_input_DDM.choiceinputs{pulse_input_DDM.clicks,pulse_input_DDM.binned_clicks}},1},Int64,Array{Bool,1},Array{Float64,1}}, ::Array{Float64,1}, ::ForwardDiff.GradientConfig{ForwardDiff.Tag{pulse_input_DDM.var\"#ℓℓ#69\"{Array{choicedata{pulse_input_DDM.choiceinputs{pulse_input_DDM.clicks,pulse_input_DDM.binned_clicks}},1},Int64,Array{Bool,1},Array{Float64,1}},Float64},Float64,9,Array{ForwardDiff.Dual{ForwardDiff.Tag{pulse_input_DDM.var\"#ℓℓ#69\"{Array{choicedata{pulse_input_DDM.choiceinputs{pulse_input_DDM.clicks,pulse_input_DDM.binned_clicks}},1},Int64,Array{Bool,1},Array{Float64,1}},Float64},Float64,9},1}}) at /Users/dikshag/.julia/packages/ForwardDiff/Asf4O/src/apiutils.jl:37",
      " [19] gradient! at /Users/dikshag/.julia/packages/ForwardDiff/Asf4O/src/gradient.jl:35 [inlined]",
      " [20] gradient! at /Users/dikshag/.julia/packages/ForwardDiff/Asf4O/src/gradient.jl:33 [inlined]",
      " [21] #14 at /Users/dikshag/.julia/packages/NLSolversBase/eVJ9t/src/objective_types/oncedifferentiable.jl:70 [inlined]",
      " [22] function_barrier(::Array{Float64,1}, ::Array{Float64,1}, ::Array{Float64,1}, ::NLSolversBase.var\"#14#18\"{Float64,pulse_input_DDM.var\"#ℓℓ#69\"{Array{choicedata{pulse_input_DDM.choiceinputs{pulse_input_DDM.clicks,pulse_input_DDM.binned_clicks}},1},Int64,Array{Bool,1},Array{Float64,1}},ForwardDiff.GradientConfig{ForwardDiff.Tag{pulse_input_DDM.var\"#ℓℓ#69\"{Array{choicedata{pulse_input_DDM.choiceinputs{pulse_input_DDM.clicks,pulse_input_DDM.binned_clicks}},1},Int64,Array{Bool,1},Array{Float64,1}},Float64},Float64,9,Array{ForwardDiff.Dual{ForwardDiff.Tag{pulse_input_DDM.var\"#ℓℓ#69\"{Array{choicedata{pulse_input_DDM.choiceinputs{pulse_input_DDM.clicks,pulse_input_DDM.binned_clicks}},1},Int64,Array{Bool,1},Array{Float64,1}},Float64},Float64,9},1}}}, ::Optim.var\"#60#66\"{Array{Float64,1},Array{Float64,1}}) at /Users/dikshag/.julia/packages/Optim/cJRng/src/multivariate/solvers/constrained/fminbox.jl:56",
      " [23] (::Optim.var\"#61#67\"{NLSolversBase.OnceDifferentiable{Float64,Array{Float64,1},Array{Float64,1}},Optim.var\"#60#66\"{Array{Float64,1},Array{Float64,1}}})(::Array{Float64,1}, ::Array{Float64,1}, ::Array{Float64,1}) at /Users/dikshag/.julia/packages/Optim/cJRng/src/multivariate/solvers/constrained/fminbox.jl:196",
      " [24] barrier_combined(::Array{Float64,1}, ::Array{Float64,1}, ::Nothing, ::Array{Float64,1}, ::Optim.var\"#61#67\"{NLSolversBase.OnceDifferentiable{Float64,Array{Float64,1},Array{Float64,1}},Optim.var\"#60#66\"{Array{Float64,1},Array{Float64,1}}}, ::Base.RefValue{Float64}) at /Users/dikshag/.julia/packages/Optim/cJRng/src/multivariate/solvers/constrained/fminbox.jl:61",
      " [25] #63 at /Users/dikshag/.julia/packages/Optim/cJRng/src/multivariate/solvers/constrained/fminbox.jl:254 [inlined]",
      " [26] (::Optim.var\"#64#70\"{Optim.var\"#63#69\"{Optim.var\"#61#67\"{NLSolversBase.OnceDifferentiable{Float64,Array{Float64,1},Array{Float64,1}},Optim.var\"#60#66\"{Array{Float64,1},Array{Float64,1}}},Array{Float64,1},Array{Float64,1},Base.RefValue{Float64}}})(::Array{Float64,1}) at /Users/dikshag/.julia/packages/Optim/cJRng/src/multivariate/solvers/constrained/fminbox.jl:255",
      " [27] value!!(::NLSolversBase.OnceDifferentiable{Float64,Array{Float64,1},Array{Float64,1}}, ::Array{Float64,1}) at /Users/dikshag/.julia/packages/NLSolversBase/eVJ9t/src/interface.jl:9",
      " [28] value!(::NLSolversBase.OnceDifferentiable{Float64,Array{Float64,1},Array{Float64,1}}, ::Array{Float64,1}) at /Users/dikshag/.julia/packages/NLSolversBase/eVJ9t/src/interface.jl:28",
      " [29] value!(::Optim.ManifoldObjective{NLSolversBase.OnceDifferentiable{Float64,Array{Float64,1},Array{Float64,1}}}, ::Array{Float64,1}) at /Users/dikshag/.julia/packages/Optim/cJRng/src/Manifolds.jl:31",
      " [30] (::LineSearches.var\"#ϕ#1\"{Optim.ManifoldObjective{NLSolversBase.OnceDifferentiable{Float64,Array{Float64,1},Array{Float64,1}}},Array{Float64,1},Array{Float64,1},Array{Float64,1}})(::Float64) at /Users/dikshag/.julia/packages/LineSearches/WrsMD/src/LineSearches.jl:25",
      " [31] (::LineSearches.BackTracking{Float64,Int64})(::LineSearches.var\"#ϕ#1\"{Optim.ManifoldObjective{NLSolversBase.OnceDifferentiable{Float64,Array{Float64,1},Array{Float64,1}}},Array{Float64,1},Array{Float64,1},Array{Float64,1}}, ::Float64, ::Float64, ::Float64) at /Users/dikshag/.julia/packages/LineSearches/WrsMD/src/backtracking.jl:69",
      " [32] BackTracking at /Users/dikshag/.julia/packages/LineSearches/WrsMD/src/backtracking.jl:33 [inlined]",
      " [33] BackTracking at /Users/dikshag/.julia/packages/LineSearches/WrsMD/src/backtracking.jl:23 [inlined]",
      " [34] perform_linesearch!(::Optim.BFGSState{Array{Float64,1},Array{Float64,2},Float64,Array{Float64,1}}, ::Optim.BFGS{LineSearches.InitialStatic{Float64},LineSearches.BackTracking{Float64,Int64},Nothing,Nothing,Optim.Flat}, ::Optim.ManifoldObjective{NLSolversBase.OnceDifferentiable{Float64,Array{Float64,1},Array{Float64,1}}}) at /Users/dikshag/.julia/packages/Optim/cJRng/src/utilities/perform_linesearch.jl:53",
      " [35] update_state!(::NLSolversBase.OnceDifferentiable{Float64,Array{Float64,1},Array{Float64,1}}, ::Optim.BFGSState{Array{Float64,1},Array{Float64,2},Float64,Array{Float64,1}}, ::Optim.BFGS{LineSearches.InitialStatic{Float64},LineSearches.BackTracking{Float64,Int64},Nothing,Nothing,Optim.Flat}) at /Users/dikshag/.julia/packages/Optim/cJRng/src/multivariate/solvers/first_order/bfgs.jl:110",
      " [36] optimize(::NLSolversBase.OnceDifferentiable{Float64,Array{Float64,1},Array{Float64,1}}, ::Array{Float64,1}, ::Optim.BFGS{LineSearches.InitialStatic{Float64},LineSearches.BackTracking{Float64,Int64},Nothing,Nothing,Optim.Flat}, ::Optim.Options{Float64,Nothing}, ::Optim.BFGSState{Array{Float64,1},Array{Float64,2},Float64,Array{Float64,1}}) at /Users/dikshag/.julia/packages/Optim/cJRng/src/multivariate/optimize/optimize.jl:57",
      " [37] optimize at /Users/dikshag/.julia/packages/Optim/cJRng/src/multivariate/optimize/optimize.jl:33 [inlined]",
      " [38] optimize(::NLSolversBase.OnceDifferentiable{Float64,Array{Float64,1},Array{Float64,1}}, ::Array{Float64,1}, ::Array{Float64,1}, ::Array{Float64,1}, ::Optim.Fminbox{Optim.BFGS{LineSearches.InitialStatic{Float64},LineSearches.BackTracking{Float64,Int64},Nothing,Nothing,Optim.Flat},Float64,Optim.var\"#43#45\"}, ::Optim.Options{Float64,Nothing}) at /Users/dikshag/.julia/packages/Optim/cJRng/src/multivariate/solvers/constrained/fminbox.jl:283",
      " [39] (::pulse_input_DDM.var\"#kw##optimize\")(::NamedTuple{(:iterations, :outer_iterations),Tuple{Int64,Int64}}, ::typeof(optimize), ::Array{choicedata{pulse_input_DDM.choiceinputs{pulse_input_DDM.clicks,pulse_input_DDM.binned_clicks}},1}, ::choiceoptions, ::Int64) at /Users/dikshag/.julia/dev/pulse_input_DDM/src/optim_funcs.jl:24",
      " [40] top-level scope at In[6]:1"
     ]
    }
   ],
   "source": [
    "model, = optimize(data, options, n; iterations=5, outer_iterations=1)\n"
   ]
  },
  {
   "cell_type": "code",
   "execution_count": null,
   "metadata": {},
   "outputs": [],
   "source": [
    "@unpack ibias, eta, beta = θ.θz\n",
    "clickdata = map(data->data.click_data,data)\n",
    "i_0 = pulse_input_DDM.compute_initial_pt(0.,eta,beta,clickdata)"
   ]
  },
  {
   "cell_type": "code",
   "execution_count": null,
   "metadata": {},
   "outputs": [],
   "source": [
    "plot(i_0)"
   ]
  },
  {
   "cell_type": "code",
   "execution_count": null,
   "metadata": {},
   "outputs": [],
   "source": [
    "θ, data = synthetic_data(ntrials = 500)\n",
    "ll = loglikelihood(θ, data,n)"
   ]
  },
  {
   "cell_type": "code",
   "execution_count": null,
   "metadata": {},
   "outputs": [],
   "source": [
    " # not respecting session boundaries yet\n",
    "ΔLR = pulse_input_DDM.diffLR.(clickdata)\n",
    "correct = map(ΔLR->sign(ΔLR),ΔLR)"
   ]
  }
 ],
 "metadata": {
  "kernelspec": {
   "display_name": "Julia 1.3.1",
   "language": "julia",
   "name": "julia-1.3"
  },
  "language_info": {
   "file_extension": ".jl",
   "mimetype": "application/julia",
   "name": "julia",
   "version": "1.3.1"
  }
 },
 "nbformat": 4,
 "nbformat_minor": 2
}
