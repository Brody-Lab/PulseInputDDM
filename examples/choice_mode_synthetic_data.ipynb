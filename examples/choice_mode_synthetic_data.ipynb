{
 "cells": [
  {
   "cell_type": "code",
   "execution_count": 1,
   "metadata": {},
   "outputs": [],
   "source": [
    "using Revise, Distributed\n",
    "addprocs(44);"
   ]
  },
  {
   "cell_type": "code",
   "execution_count": 2,
   "metadata": {
    "scrolled": true
   },
   "outputs": [
    {
     "name": "stderr",
     "output_type": "stream",
     "text": [
      "┌ Info: Recompiling stale cache file /usr/people/briandd/.julia/compiled/v1.2/pulse_input_DDM/m8WoA.ji for pulse_input_DDM [c2542da2-1f7d-11e9-2506-87691095ebb2]\n",
      "└ @ Base loading.jl:1240\n"
     ]
    }
   ],
   "source": [
    "# ### Fitting a choice model\n",
    "# Blah blah blah\n",
    "\n",
    "using pulse_input_DDM"
   ]
  },
  {
   "cell_type": "code",
   "execution_count": 74,
   "metadata": {},
   "outputs": [
    {
     "data": {
      "text/plain": [
       "opt\n",
       "  fit: Array{Bool}((9,)) Bool[1, 1, 1, 1, 1, 1, 1, 1, 1]\n",
       "  lb: Array{Float64}((9,)) [2.220446049250313e-16, 4.0, -5.0, 2.220446049250313e-16, 2.220446049250313e-16, 2.220446049250313e-16, 2.220446049250313e-16, -30.0, 0.0]\n",
       "  ub: Array{Float64}((9,)) [10.0, 100.0, 5.0, 800.0, 40.0, 2.0, 10.0, 30.0, 1.0]\n",
       "  x0: Array{Float64}((9,)) [1.0, 13.0, -0.5, 50.0, 1.0, 0.4, 0.01, 0.1, 0.1]\n"
      ]
     },
     "execution_count": 74,
     "metadata": {},
     "output_type": "execute_result"
    }
   ],
   "source": [
    "# ### Geneerate some data\n",
    "# Blah blah blah\n",
    "\n",
    "\n",
    "#parameters of the latent model\n",
    "#pz = Dict(\"generative\" => vcat(1.,13.,-0.5,10.,1.,0.4,0.02), \n",
    "#    \"name\" => vcat(\"σ_i\",\"B\", \"λ\", \"σ_a\",\"σ_s\",\"ϕ\",\"τ_ϕ\"),\n",
    "#    \"fit\" => vcat(trues(7)),\n",
    "#    \"initial\" => vcat(2.,15.,-5.,100.,2.,0.2,0.005),\n",
    "#    \"lb\" => [eps(), 4., -5., eps(), eps(), eps(), eps()],\n",
    "#    \"ub\" => [10., 100, 5., 800., 40., 2., 10.])\n",
    "\n",
    "#parameters for the choice observation\n",
    "#pd = Dict(\"generative\" => vcat(0.1,0.1), \n",
    "#    \"initial\" => vcat(0.,0.5));\n",
    "\n",
    "options = opt(lb=vcat([eps(), 4., -5., eps(), eps(), eps(), eps()],[-30,0.]),\n",
    "    ub=vcat([10., 100, 5., 800., 40., 2., 10.],[30,1.]),\n",
    "    x0=vcat([1.,13.,-0.5,50.,1.,0.4,0.01],[0.1,0.1]),\n",
    "    fit=vcat(trues(9)))"
   ]
  },
  {
   "cell_type": "code",
   "execution_count": 75,
   "metadata": {},
   "outputs": [
    {
     "name": "stdout",
     "output_type": "stream",
     "text": [
      "Iter     Function value   Gradient norm \n",
      "     0     1.869840e+04     1.121486e+02\n",
      " * time: 3.600120544433594e-5\n",
      "     1     1.869721e+04     2.110407e+02\n",
      " * time: 37.13901209831238\n",
      "     2     1.869347e+04     7.265331e+01\n",
      " * time: 68.43705201148987\n",
      "     3     1.869191e+04     7.568387e+01\n",
      " * time: 99.7546911239624\n",
      "     4     1.868996e+04     7.804074e+01\n",
      " * time: 131.43950390815735\n",
      "     5     1.868995e+04     7.880766e+01\n",
      " * time: 168.13983011245728\n",
      "     6     1.868977e+04     7.233635e+01\n",
      " * time: 199.63553404808044\n",
      "     7     1.868953e+04     6.529728e+01\n",
      " * time: 230.89470410346985\n",
      "     8     1.868930e+04     5.703566e+01\n",
      " * time: 262.30356907844543\n",
      "     9     1.868908e+04     4.204137e+01\n",
      " * time: 293.7450621128082\n",
      "    10     1.868888e+04     2.621072e+01\n",
      " * time: 320.3422610759735\n",
      "    11     1.868871e+04     5.203447e+01\n",
      " * time: 346.30529594421387\n",
      "    12     1.868847e+04     4.125389e+00\n",
      " * time: 372.2708189487457\n",
      "    13     1.868835e+04     8.663383e+00\n",
      " * time: 398.3739230632782\n",
      "    14     1.868827e+04     1.058037e+01\n",
      " * time: 424.5487470626831\n",
      "    15     1.868817e+04     1.537936e+01\n",
      " * time: 450.5865559577942\n",
      "    16     1.868786e+04     2.433726e+01\n",
      " * time: 476.84995198249817\n",
      "    17     1.868744e+04     2.303097e+01\n",
      " * time: 502.9903860092163\n",
      "    18     1.868737e+04     1.644984e+01\n",
      " * time: 529.3351058959961\n",
      "    19     1.868720e+04     4.442871e+00\n",
      " * time: 555.6293759346008\n",
      "    20     1.868715e+04     5.058957e+00\n",
      " * time: 582.0663740634918\n",
      "    21     1.868712e+04     2.302241e+00\n",
      " * time: 608.8688349723816\n",
      "    22     1.868711e+04     7.029102e-01\n",
      " * time: 635.0570049285889\n",
      "    23     1.868711e+04     1.827263e+00\n",
      " * time: 661.2918031215668\n",
      "optimization complete. converged: true \n",
      "\n"
     ]
    },
    {
     "data": {
      "text/plain": [
       "(choiceDDM{θchoice{θz{Float64},Float64},choicedata{pulse_input_DDM.binned_clicks{pulse_input_DDM.clicks}}}\n",
       "  θ: θchoice{θz{Float64},Float64}\n",
       "  data: choicedata{pulse_input_DDM.binned_clicks{pulse_input_DDM.clicks}}\n",
       ", opt\n",
       "  fit: Array{Bool}((9,)) Bool[1, 1, 1, 1, 1, 1, 1, 1, 1]\n",
       "  lb: Array{Float64}((9,)) [2.220446049250313e-16, 4.0, -5.0, 2.220446049250313e-16, 2.220446049250313e-16, 2.220446049250313e-16, 2.220446049250313e-16, -30.0, 0.0]\n",
       "  ub: Array{Float64}((9,)) [10.0, 100.0, 5.0, 800.0, 40.0, 2.0, 10.0, 30.0, 1.0]\n",
       "  x0: Array{Float64}((9,)) [1.0, 13.0, -0.5, 50.0, 1.0, 0.4, 0.01, 0.1, 0.1]\n",
       ")"
      ]
     },
     "execution_count": 75,
     "metadata": {},
     "output_type": "execute_result"
    }
   ],
   "source": [
    "θ_syn = θchoice(θz=θz(σ2_i=1.,B=13.,λ=-0.5,σ2_a=50.,σ2_s=1.,ϕ=0.4,τ_ϕ=0.01), bias=0.1, lapse=0.1)\n",
    "θ_syn, data = synthetic_data(;θ=θ_syn,ntrials=50000,rng=2)\n",
    "\n",
    "# ### Optimize stuff\n",
    "# Blah blah blah\n",
    "\n",
    "model, options = optimize(data;options=options,iterations=80)"
   ]
  },
  {
   "cell_type": "code",
   "execution_count": null,
   "metadata": {},
   "outputs": [],
   "source": [
    "# ### Compute Hessian\n",
    "# Blah blah blah\n",
    "\n",
    "H = Hessian(model)"
   ]
  },
  {
   "cell_type": "code",
   "execution_count": null,
   "metadata": {},
   "outputs": [],
   "source": [
    "# ### Get the CIs from the Hessian\n",
    "# Blah blah blah\n",
    "\n",
    "CI = CIs(model, H)"
   ]
  },
  {
   "cell_type": "code",
   "execution_count": null,
   "metadata": {},
   "outputs": [],
   "source": [
    "using LinearAlgebra"
   ]
  },
  {
   "cell_type": "code",
   "execution_count": null,
   "metadata": {},
   "outputs": [],
   "source": [
    "eigvals(H)"
   ]
  },
  {
   "cell_type": "code",
   "execution_count": null,
   "metadata": {},
   "outputs": [],
   "source": [
    "using PositiveFactorizations"
   ]
  },
  {
   "cell_type": "code",
   "execution_count": null,
   "metadata": {},
   "outputs": [],
   "source": [
    "HPSD = Matrix(cholesky(Positive, H, Val{false}))"
   ]
  },
  {
   "cell_type": "code",
   "execution_count": null,
   "metadata": {},
   "outputs": [],
   "source": [
    "eigvals(H)"
   ]
  },
  {
   "cell_type": "code",
   "execution_count": null,
   "metadata": {},
   "outputs": [],
   "source": [
    "eigvals(HPSD)"
   ]
  },
  {
   "cell_type": "code",
   "execution_count": null,
   "metadata": {},
   "outputs": [],
   "source": [
    "eigvecs(H)"
   ]
  },
  {
   "cell_type": "code",
   "execution_count": null,
   "metadata": {},
   "outputs": [],
   "source": [
    "model.θ.θz"
   ]
  },
  {
   "cell_type": "code",
   "execution_count": null,
   "metadata": {},
   "outputs": [],
   "source": [
    "θ_syn.θz"
   ]
  },
  {
   "cell_type": "code",
   "execution_count": 36,
   "metadata": {},
   "outputs": [
    {
     "data": {
      "text/plain": [
       "9-element Array{Float64,1}:\n",
       "    0.394517306271814    \n",
       "    0.1092495821711515   \n",
       "   -0.0002467815386095751\n",
       "    0.6290161144862537   \n",
       "   24.075469856217794    \n",
       "   -0.22972084424637806  \n",
       " 1266.8567439965118      \n",
       "   -9.06789393701702     \n",
       " -119.36410987294812     "
      ]
     },
     "execution_count": 36,
     "metadata": {},
     "output_type": "execute_result"
    }
   ],
   "source": [
    "gradient(model,options)"
   ]
  },
  {
   "cell_type": "code",
   "execution_count": 4,
   "metadata": {},
   "outputs": [
    {
     "data": {
      "text/plain": [
       "9-element Array{Float64,1}:\n",
       "  0.9526209964395455 \n",
       " -0.2108585000640888 \n",
       " -0.05335186191697083\n",
       "  0.2548502635048735 \n",
       "  0.7558914872737619 \n",
       " -0.2441849640750603 \n",
       "  1.0799782810035703 \n",
       "  0.5052282915661279 \n",
       "  1.008768178908245  "
      ]
     },
     "execution_count": 4,
     "metadata": {},
     "output_type": "execute_result"
    }
   ],
   "source": [
    "gradient(model,options)"
   ]
  },
  {
   "cell_type": "code",
   "execution_count": 4,
   "metadata": {},
   "outputs": [
    {
     "data": {
      "text/plain": [
       "9-element Array{Float64,1}:\n",
       "  0.284206666702987   \n",
       "  0.007885074175106976\n",
       " -0.03468138866772197 \n",
       "  0.004287337850792605\n",
       "  0.2515098182362774  \n",
       " -0.5313760260409204  \n",
       " 18.501815475607486   \n",
       "  0.03377101925114623 \n",
       "  2.876060060109239   "
      ]
     },
     "execution_count": 4,
     "metadata": {},
     "output_type": "execute_result"
    }
   ],
   "source": [
    "gradient(model,options)"
   ]
  },
  {
   "cell_type": "code",
   "execution_count": 32,
   "metadata": {},
   "outputs": [
    {
     "data": {
      "text/plain": [
       "opt\n",
       "  fit: Array{Bool}((9,)) Bool[1, 1, 1, 1, 1, 1, 1, 1, 1]\n",
       "  lb: Array{Float64}((9,)) [0.0, 8.0, -5.0, 0.0, 0.0, 0.01, 0.005, -30.0, 0.0]\n",
       "  ub: Array{Float64}((9,)) [2.0, 30.0, 5.0, 100.0, 2.5, 1.2, 1.0, 30.0, 1.0]\n",
       "  x0: Array{Float64}((9,)) [0.1, 15.0, -0.1, 20.0, 0.5, 0.8, 0.008, 0.0, 0.01]\n"
      ]
     },
     "execution_count": 32,
     "metadata": {},
     "output_type": "execute_result"
    }
   ],
   "source": [
    "options"
   ]
  },
  {
   "cell_type": "code",
   "execution_count": null,
   "metadata": {},
   "outputs": [],
   "source": []
  }
 ],
 "metadata": {
  "kernelspec": {
   "display_name": "Julia 1.2.0",
   "language": "julia",
   "name": "julia-1.2"
  },
  "language_info": {
   "file_extension": ".jl",
   "mimetype": "application/julia",
   "name": "julia",
   "version": "1.2.0"
  }
 },
 "nbformat": 4,
 "nbformat_minor": 2
}
