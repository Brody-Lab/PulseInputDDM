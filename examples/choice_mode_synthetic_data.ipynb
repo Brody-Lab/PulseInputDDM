{
 "cells": [
  {
   "cell_type": "code",
   "execution_count": null,
   "metadata": {},
   "outputs": [],
   "source": [
    "using Revise, Distributed\n",
    "addprocs(44);"
   ]
  },
  {
   "cell_type": "code",
   "execution_count": null,
   "metadata": {
    "scrolled": true
   },
   "outputs": [],
   "source": [
    "# ### Fitting a choice model\n",
    "# Blah blah blah\n",
    "\n",
    "using pulse_input_DDM"
   ]
  },
  {
   "cell_type": "code",
   "execution_count": null,
   "metadata": {},
   "outputs": [],
   "source": [
    "using JLD2\n",
    "JLD2.@load \"mydata.jld2\""
   ]
  },
  {
   "cell_type": "code",
   "execution_count": null,
   "metadata": {},
   "outputs": [],
   "source": [
    "# ### Geneerate some data\n",
    "# Blah blah blah\n",
    "\n",
    "\n",
    "#parameters of the latent model\n",
    "#pz = Dict(\"generative\" => vcat(1.,13.,-0.5,10.,1.,0.4,0.02), \n",
    "#    \"name\" => vcat(\"σ_i\",\"B\", \"λ\", \"σ_a\",\"σ_s\",\"ϕ\",\"τ_ϕ\"),\n",
    "#    \"fit\" => vcat(trues(7)),\n",
    "#    \"initial\" => vcat(2.,15.,-5.,100.,2.,0.2,0.005),\n",
    "#    \"lb\" => [eps(), 4., -5., eps(), eps(), eps(), eps()],\n",
    "#    \"ub\" => [10., 100, 5., 800., 40., 2., 10.])\n",
    "\n",
    "#parameters for the choice observation\n",
    "#pd = Dict(\"generative\" => vcat(0.1,0.1), \n",
    "#    \"initial\" => vcat(0.,0.5));\n",
    "\n",
    "options = opt(lb=vcat([eps(), 4., -5., eps(), eps(), eps(), eps()],[-30,0.]),\n",
    "    ub=vcat([10., 100, 5., 800., 40., 2., 10.],[30,1.]),\n",
    "    x0=vcat([1.,13.,-0.5,50.,1.,0.4,0.01],[0.1,0.1]),\n",
    "    fit=vcat(trues(9)))"
   ]
  },
  {
   "cell_type": "code",
   "execution_count": null,
   "metadata": {},
   "outputs": [],
   "source": [
    "θ_syn = θchoice(θz=θz(σ2_i=1.,B=13.,λ=-0.5,σ2_a=50.,σ2_s=1.,ϕ=0.4,τ_ϕ=0.01), bias=0.1, lapse=0.1)\n",
    "θ_syn, data = synthetic_data(;θ=θ_syn,ntrials=20000,rng=2)\n",
    "\n",
    "# ### Optimize stuff\n",
    "# Blah blah blah\n",
    "\n",
    "model, options = optimize(data;options=options,iterations=80)"
   ]
  },
  {
   "cell_type": "code",
   "execution_count": null,
   "metadata": {},
   "outputs": [],
   "source": [
    "gradient(model,options)"
   ]
  },
  {
   "cell_type": "code",
   "execution_count": null,
   "metadata": {},
   "outputs": [],
   "source": [
    "# ### Compute Hessian\n",
    "# Blah blah blah\n",
    "\n",
    "H = Hessian(model)"
   ]
  },
  {
   "cell_type": "code",
   "execution_count": null,
   "metadata": {},
   "outputs": [],
   "source": [
    "CI = CIs(model, H)"
   ]
  },
  {
   "cell_type": "code",
   "execution_count": null,
   "metadata": {},
   "outputs": [],
   "source": [
    "model.θ.θz"
   ]
  },
  {
   "cell_type": "code",
   "execution_count": null,
   "metadata": {},
   "outputs": [],
   "source": [
    "θ_syn = θchoice(θz=θz(σ2_i=1.,B=13.,λ=-0.5,σ2_a=50.,σ2_s=1.,ϕ=0.4,τ_ϕ=0.01), bias=0.1, lapse=0.1)\n",
    "θ_syn, data = synthetic_data(;θ=θ_syn,ntrials=20000,rng=2)\n",
    "\n",
    "# ### Optimize stuff\n",
    "# Blah blah blah\n",
    "\n",
    "model, options = optimize(data;options=options,iterations=80)"
   ]
  },
  {
   "cell_type": "code",
   "execution_count": null,
   "metadata": {},
   "outputs": [],
   "source": [
    "# ### Compute Hessian\n",
    "# Blah blah blah\n",
    "\n",
    "H = Hessian(model)"
   ]
  },
  {
   "cell_type": "code",
   "execution_count": null,
   "metadata": {},
   "outputs": [],
   "source": [
    "model = choiceDDM(θ,data)\n",
    "pulse_input_DDM.gradient(model,53)"
   ]
  },
  {
   "cell_type": "code",
   "execution_count": null,
   "metadata": {},
   "outputs": [],
   "source": [
    "# ### Get the CIs from the Hessian\n",
    "# Blah blah blah\n",
    "\n",
    "CI = CIs(model, H)"
   ]
  },
  {
   "cell_type": "code",
   "execution_count": null,
   "metadata": {},
   "outputs": [],
   "source": [
    "using Flatten\n",
    "using ForwardDiff"
   ]
  },
  {
   "cell_type": "code",
   "execution_count": null,
   "metadata": {},
   "outputs": [],
   "source": [
    "@unpack θ, data = model\n",
    "x = [Flatten.flatten(θ)...]\n",
    "ℓℓ(x) = -loglikelihood(x, data, n)"
   ]
  },
  {
   "cell_type": "code",
   "execution_count": null,
   "metadata": {},
   "outputs": [],
   "source": [
    "ForwardDiff.gradient(ℓℓ, x)\n"
   ]
  },
  {
   "cell_type": "code",
   "execution_count": null,
   "metadata": {},
   "outputs": [],
   "source": [
    "eigvals(H)"
   ]
  },
  {
   "cell_type": "code",
   "execution_count": null,
   "metadata": {},
   "outputs": [],
   "source": [
    "using PositiveFactorizations"
   ]
  },
  {
   "cell_type": "code",
   "execution_count": null,
   "metadata": {},
   "outputs": [],
   "source": [
    "HPSD = Matrix(cholesky(Positive, H, Val{false}))"
   ]
  },
  {
   "cell_type": "code",
   "execution_count": null,
   "metadata": {},
   "outputs": [],
   "source": [
    "eigvals(H)"
   ]
  },
  {
   "cell_type": "code",
   "execution_count": null,
   "metadata": {},
   "outputs": [],
   "source": [
    "eigvals(HPSD)"
   ]
  },
  {
   "cell_type": "code",
   "execution_count": null,
   "metadata": {},
   "outputs": [],
   "source": [
    "eigvecs(H)"
   ]
  },
  {
   "cell_type": "code",
   "execution_count": null,
   "metadata": {},
   "outputs": [],
   "source": [
    "model.θ.θz"
   ]
  },
  {
   "cell_type": "code",
   "execution_count": null,
   "metadata": {},
   "outputs": [],
   "source": [
    "model.θ.θz"
   ]
  },
  {
   "cell_type": "code",
   "execution_count": null,
   "metadata": {},
   "outputs": [],
   "source": [
    "θ_syn.θz"
   ]
  },
  {
   "cell_type": "code",
   "execution_count": null,
   "metadata": {},
   "outputs": [],
   "source": [
    "using JLD2\n",
    "JLD2.@save \"mydata2.jld2\" data"
   ]
  },
  {
   "cell_type": "code",
   "execution_count": null,
   "metadata": {},
   "outputs": [],
   "source": [
    "using JLD2\n",
    "JLD2.@load \"mydata2.jld2\""
   ]
  },
  {
   "cell_type": "code",
   "execution_count": null,
   "metadata": {},
   "outputs": [],
   "source": [
    "data"
   ]
  },
  {
   "cell_type": "code",
   "execution_count": null,
   "metadata": {},
   "outputs": [],
   "source": [
    "nT"
   ]
  },
  {
   "cell_type": "code",
   "execution_count": null,
   "metadata": {},
   "outputs": [],
   "source": [
    "@unpack binned_clicks,choices = data"
   ]
  },
  {
   "cell_type": "code",
   "execution_count": null,
   "metadata": {},
   "outputs": [],
   "source": [
    "using Parameters\n",
    "@unpack clicks,nT,nL,nR,dt,centered = binned_clicks"
   ]
  },
  {
   "cell_type": "code",
   "execution_count": null,
   "metadata": {},
   "outputs": [],
   "source": [
    "@unpack L,R,T,ntrials = clicks"
   ]
  },
  {
   "cell_type": "code",
   "execution_count": null,
   "metadata": {},
   "outputs": [],
   "source": [
    "gradient(model,options)"
   ]
  },
  {
   "cell_type": "code",
   "execution_count": null,
   "metadata": {},
   "outputs": [],
   "source": [
    "gradient(model,options)"
   ]
  },
  {
   "cell_type": "code",
   "execution_count": null,
   "metadata": {},
   "outputs": [],
   "source": [
    "gradient(model,options)"
   ]
  },
  {
   "cell_type": "code",
   "execution_count": null,
   "metadata": {},
   "outputs": [],
   "source": [
    "options"
   ]
  },
  {
   "cell_type": "code",
   "execution_count": 1,
   "metadata": {},
   "outputs": [
    {
     "name": "stderr",
     "output_type": "stream",
     "text": [
      "┌ Info: Precompiling pulse_input_DDM [c2542da2-1f7d-11e9-2506-87691095ebb2]\n",
      "└ @ Base loading.jl:1273\n",
      "WARNING: Method definition vec(Number) in module FiniteDiff at /Users/dikshag/.julia/packages/FiniteDiff/LN2dd/src/jacobians.jl:128 overwritten in module DiffEqDiffTools at /Users/dikshag/.julia/packages/DiffEqDiffTools/3mm8U/src/jacobians.jl:114.\n",
      "  ** incremental compilation may be fatally broken for this module **\n",
      "\n"
     ]
    }
   ],
   "source": [
    "using pulse_input_DDM\n",
    "using PyPlot\n",
    "using Parameters"
   ]
  },
  {
   "cell_type": "code",
   "execution_count": 2,
   "metadata": {},
   "outputs": [
    {
     "data": {
      "text/plain": [
       "(θchoice{θz{Float64},Float64}\n",
       "  θz: θz{Float64}\n",
       "  bias: Float64 0.0\n",
       "  lapse: Float64 0.01\n",
       ", choicedata{pulse_input_DDM.choiceinputs{pulse_input_DDM.clicks,pulse_input_DDM.binned_clicks}}[choicedata{pulse_input_DDM.choiceinputs{pulse_input_DDM.clicks,pulse_input_DDM.binned_clicks}}\n",
       "  click_data: pulse_input_DDM.choiceinputs{pulse_input_DDM.clicks,pulse_input_DDM.binned_clicks}\n",
       "  choice: Bool false\n",
       "  sessbnd: Bool false\n",
       ", choicedata{pulse_input_DDM.choiceinputs{pulse_input_DDM.clicks,pulse_input_DDM.binned_clicks}}\n",
       "  click_data: pulse_input_DDM.choiceinputs{pulse_input_DDM.clicks,pulse_input_DDM.binned_clicks}\n",
       "  choice: Bool false\n",
       "  sessbnd: Bool false\n",
       ", choicedata{pulse_input_DDM.choiceinputs{pulse_input_DDM.clicks,pulse_input_DDM.binned_clicks}}\n",
       "  click_data: pulse_input_DDM.choiceinputs{pulse_input_DDM.clicks,pulse_input_DDM.binned_clicks}\n",
       "  choice: Bool false\n",
       "  sessbnd: Bool false\n",
       ", choicedata{pulse_input_DDM.choiceinputs{pulse_input_DDM.clicks,pulse_input_DDM.binned_clicks}}\n",
       "  click_data: pulse_input_DDM.choiceinputs{pulse_input_DDM.clicks,pulse_input_DDM.binned_clicks}\n",
       "  choice: Bool true\n",
       "  sessbnd: Bool false\n",
       ", choicedata{pulse_input_DDM.choiceinputs{pulse_input_DDM.clicks,pulse_input_DDM.binned_clicks}}\n",
       "  click_data: pulse_input_DDM.choiceinputs{pulse_input_DDM.clicks,pulse_input_DDM.binned_clicks}\n",
       "  choice: Bool false\n",
       "  sessbnd: Bool false\n",
       ", choicedata{pulse_input_DDM.choiceinputs{pulse_input_DDM.clicks,pulse_input_DDM.binned_clicks}}\n",
       "  click_data: pulse_input_DDM.choiceinputs{pulse_input_DDM.clicks,pulse_input_DDM.binned_clicks}\n",
       "  choice: Bool true\n",
       "  sessbnd: Bool false\n",
       ", choicedata{pulse_input_DDM.choiceinputs{pulse_input_DDM.clicks,pulse_input_DDM.binned_clicks}}\n",
       "  click_data: pulse_input_DDM.choiceinputs{pulse_input_DDM.clicks,pulse_input_DDM.binned_clicks}\n",
       "  choice: Bool false\n",
       "  sessbnd: Bool false\n",
       ", choicedata{pulse_input_DDM.choiceinputs{pulse_input_DDM.clicks,pulse_input_DDM.binned_clicks}}\n",
       "  click_data: pulse_input_DDM.choiceinputs{pulse_input_DDM.clicks,pulse_input_DDM.binned_clicks}\n",
       "  choice: Bool false\n",
       "  sessbnd: Bool false\n",
       ", choicedata{pulse_input_DDM.choiceinputs{pulse_input_DDM.clicks,pulse_input_DDM.binned_clicks}}\n",
       "  click_data: pulse_input_DDM.choiceinputs{pulse_input_DDM.clicks,pulse_input_DDM.binned_clicks}\n",
       "  choice: Bool true\n",
       "  sessbnd: Bool false\n",
       ", choicedata{pulse_input_DDM.choiceinputs{pulse_input_DDM.clicks,pulse_input_DDM.binned_clicks}}\n",
       "  click_data: pulse_input_DDM.choiceinputs{pulse_input_DDM.clicks,pulse_input_DDM.binned_clicks}\n",
       "  choice: Bool true\n",
       "  sessbnd: Bool false\n",
       "  …  choicedata{pulse_input_DDM.choiceinputs{pulse_input_DDM.clicks,pulse_input_DDM.binned_clicks}}\n",
       "  click_data: pulse_input_DDM.choiceinputs{pulse_input_DDM.clicks,pulse_input_DDM.binned_clicks}\n",
       "  choice: Bool false\n",
       "  sessbnd: Bool false\n",
       ", choicedata{pulse_input_DDM.choiceinputs{pulse_input_DDM.clicks,pulse_input_DDM.binned_clicks}}\n",
       "  click_data: pulse_input_DDM.choiceinputs{pulse_input_DDM.clicks,pulse_input_DDM.binned_clicks}\n",
       "  choice: Bool false\n",
       "  sessbnd: Bool false\n",
       ", choicedata{pulse_input_DDM.choiceinputs{pulse_input_DDM.clicks,pulse_input_DDM.binned_clicks}}\n",
       "  click_data: pulse_input_DDM.choiceinputs{pulse_input_DDM.clicks,pulse_input_DDM.binned_clicks}\n",
       "  choice: Bool false\n",
       "  sessbnd: Bool false\n",
       ", choicedata{pulse_input_DDM.choiceinputs{pulse_input_DDM.clicks,pulse_input_DDM.binned_clicks}}\n",
       "  click_data: pulse_input_DDM.choiceinputs{pulse_input_DDM.clicks,pulse_input_DDM.binned_clicks}\n",
       "  choice: Bool false\n",
       "  sessbnd: Bool false\n",
       ", choicedata{pulse_input_DDM.choiceinputs{pulse_input_DDM.clicks,pulse_input_DDM.binned_clicks}}\n",
       "  click_data: pulse_input_DDM.choiceinputs{pulse_input_DDM.clicks,pulse_input_DDM.binned_clicks}\n",
       "  choice: Bool false\n",
       "  sessbnd: Bool false\n",
       ", choicedata{pulse_input_DDM.choiceinputs{pulse_input_DDM.clicks,pulse_input_DDM.binned_clicks}}\n",
       "  click_data: pulse_input_DDM.choiceinputs{pulse_input_DDM.clicks,pulse_input_DDM.binned_clicks}\n",
       "  choice: Bool false\n",
       "  sessbnd: Bool false\n",
       ", choicedata{pulse_input_DDM.choiceinputs{pulse_input_DDM.clicks,pulse_input_DDM.binned_clicks}}\n",
       "  click_data: pulse_input_DDM.choiceinputs{pulse_input_DDM.clicks,pulse_input_DDM.binned_clicks}\n",
       "  choice: Bool false\n",
       "  sessbnd: Bool false\n",
       ", choicedata{pulse_input_DDM.choiceinputs{pulse_input_DDM.clicks,pulse_input_DDM.binned_clicks}}\n",
       "  click_data: pulse_input_DDM.choiceinputs{pulse_input_DDM.clicks,pulse_input_DDM.binned_clicks}\n",
       "  choice: Bool true\n",
       "  sessbnd: Bool false\n",
       ", choicedata{pulse_input_DDM.choiceinputs{pulse_input_DDM.clicks,pulse_input_DDM.binned_clicks}}\n",
       "  click_data: pulse_input_DDM.choiceinputs{pulse_input_DDM.clicks,pulse_input_DDM.binned_clicks}\n",
       "  choice: Bool false\n",
       "  sessbnd: Bool false\n",
       ", choicedata{pulse_input_DDM.choiceinputs{pulse_input_DDM.clicks,pulse_input_DDM.binned_clicks}}\n",
       "  click_data: pulse_input_DDM.choiceinputs{pulse_input_DDM.clicks,pulse_input_DDM.binned_clicks}\n",
       "  choice: Bool true\n",
       "  sessbnd: Bool false\n",
       "])"
      ]
     },
     "execution_count": 2,
     "metadata": {},
     "output_type": "execute_result"
    }
   ],
   "source": [
    "θ, data = synthetic_data(ntrials = 50)"
   ]
  },
  {
   "cell_type": "code",
   "execution_count": 3,
   "metadata": {},
   "outputs": [
    {
     "data": {
      "image/png": "[encoded data removed]",
      "text/plain": [
       "Figure(PyObject <Figure size 640x480 with 1 Axes>)"
      ]
     },
     "metadata": {},
     "output_type": "display_data"
    },
    {
     "data": {
      "text/plain": [
       "1-element Array{PyCall.PyObject,1}:\n",
       " PyObject <matplotlib.lines.Line2D object at 0x149bf44d0>"
      ]
     },
     "execution_count": 3,
     "metadata": {},
     "output_type": "execute_result"
    }
   ],
   "source": [
    "sessbnd = map(data->data.sessbnd,data)\n",
    "plot(sessbnd)"
   ]
  },
  {
   "cell_type": "code",
   "execution_count": 4,
   "metadata": {},
   "outputs": [
    {
     "ename": "BoundsError",
     "evalue": "BoundsError: attempt to access 0-element Array{Bool,1} at index [1]",
     "output_type": "error",
     "traceback": [
      "BoundsError: attempt to access 0-element Array{Bool,1} at index [1]",
      "",
      "Stacktrace:",
      " [1] getindex at ./array.jl:744 [inlined]",
      " [2] indexed_iterate at ./tuple.jl:64 [inlined] (repeats 2 times)",
      " [3] top-level scope at In[4]:1"
     ]
    }
   ],
   "source": [
    "a,b = filter(x -> x == 1, sessbnd)\n"
   ]
  },
  {
   "cell_type": "code",
   "execution_count": 5,
   "metadata": {},
   "outputs": [
    {
     "data": {
      "image/png": "[encoded data removed]",
      "text/plain": [
       "Figure(PyObject <Figure size 640x480 with 1 Axes>)"
      ]
     },
     "metadata": {},
     "output_type": "display_data"
    },
    {
     "data": {
      "text/plain": [
       "1-element Array{PyCall.PyObject,1}:\n",
       " PyObject <matplotlib.lines.Line2D object at 0x149e418d0>"
      ]
     },
     "execution_count": 5,
     "metadata": {},
     "output_type": "execute_result"
    }
   ],
   "source": [
    "@unpack ibias, eta, beta, scaling = θ.θz\n",
    "clickdata = map(data->data.click_data,data)\n",
    "sessbnd = map(data->data.sessbnd,data)\n",
    "\n",
    "i_0 = pulse_input_DDM.compute_initial_pt(ibias,eta,beta,scaling,clickdata, sessbnd)\n",
    "plot(i_0[1:50])"
   ]
  },
  {
   "cell_type": "code",
   "execution_count": 6,
   "metadata": {},
   "outputs": [
    {
     "data": {
      "text/plain": [
       "choiceoptions\n",
       "  fit: Array{Bool}((13,)) Bool[0, 1, 1, 1, 1, 1, 1, 1, 1, 1, 1, 1, 1]\n",
       "  lb: Array{Float64}((13,)) [0.0, 0.0, 0.0, 0.0, 2.0, -5.0, 0.0, 1.0, 0.01, 0.005, 0.0, -30.0, 0.0]\n",
       "  ub: Array{Float64}((13,)) [2.0, 1.0, 1.0, 1.0, 60.0, 5.0, 100.0, 8.0, 1.2, 1.0, 5.0, 30.0, 0.2]\n",
       "  x0: Array{Float64}((13,)) [2.220446049250313e-16, 0.3014, 0.9664, 0.357, 15.89798, 0.210063, 1.0e-10, 2.54713, 0.182666, 0.0232964, 2.0, 0.0, 0.07]\n"
      ]
     },
     "execution_count": 6,
     "metadata": {},
     "output_type": "execute_result"
    }
   ],
   "source": [
    "n = 53;\n",
    "\n",
    "options = choiceoptions(fit = vcat(false,true,true, true, true, true, true, true, true, true, true, true, true),\n",
    "    lb = vcat([0., 0., 0., 0, 2., -5., 0., 1., 0.01, 0.005, 0.], [-30, 0.]),\n",
    "    ub = vcat([2., 1., 1., 1., 60., 5., 100., 8, 1.2, 1., 5.], [30, 0.2]),\n",
    "    x0 = vcat([eps(), 0.3014, 0.9664, 0.3570, 15.89798, 0.210063, 1e-10, 2.54713, 0.182666, 0.0232964, 2.], [0., 0.07]))"
   ]
  },
  {
   "cell_type": "code",
   "execution_count": 8,
   "metadata": {},
   "outputs": [
    {
     "name": "stdout",
     "output_type": "stream",
     "text": [
      "Fminbox\n",
      "-------\n",
      "Initial mu = 1.35983e-11\n",
      "\n",
      "Fminbox iteration 1\n",
      "-------------------\n",
      "Calling inner optimizer with mu = 1.35983e-11\n",
      "\n",
      "(numbers below include barrier contribution)\n",
      "Iter     Function value   Gradient norm \n",
      "     0     2.411352e+01     8.297904e+01\n",
      " * time: 3.314018249511719e-5\n",
      "     1     2.408855e+01     1.633877e+02\n",
      " * time: 1.1122260093688965\n",
      "     2     2.354237e+01     3.889398e+01\n",
      " * time: 4.036880016326904\n",
      "     3     2.297308e+01     4.507722e+01\n",
      " * time: 5.207273960113525\n",
      "     4     2.294565e+01     4.509034e+01\n",
      " * time: 6.3667731285095215\n",
      "     5     2.294434e+01     4.506596e+01\n",
      " * time: 7.511276006698608\n",
      "     6     2.294434e+01     4.506589e+01\n",
      " * time: 8.744359016418457\n",
      "     7     2.294432e+01     4.506546e+01\n",
      " * time: 9.996330976486206\n",
      "     8     2.294430e+01     4.506513e+01\n",
      " * time: 11.221029996871948\n",
      "     9     2.271393e+01     4.067799e+01\n",
      " * time: 12.338413000106812\n",
      "    10     2.269948e+01     4.042395e+01\n",
      " * time: 13.602954149246216\n",
      "    11     2.269185e+01     4.027900e+01\n",
      " * time: 14.712053060531616\n",
      "    12     2.268943e+01     4.019995e+01\n",
      " * time: 15.876810073852539\n",
      "    13     2.268630e+01     4.010124e+01\n",
      " * time: 16.999457120895386\n",
      "    14     2.268555e+01     4.011831e+01\n",
      " * time: 18.128249168395996\n",
      "    15     2.268551e+01     4.011747e+01\n",
      " * time: 19.31515407562256\n",
      "    16     2.268551e+01     4.011693e+01\n",
      " * time: 20.50888204574585\n",
      "    17     2.268551e+01     4.011691e+01\n",
      " * time: 21.651287078857422\n",
      "    18     2.268550e+01     4.011724e+01\n",
      " * time: 22.848325967788696\n",
      "    19     2.268549e+01     4.011722e+01\n",
      " * time: 24.0908420085907\n",
      "    20     2.268529e+01     4.009480e+01\n",
      " * time: 25.327491998672485\n",
      "    21     2.268529e+01     4.009481e+01\n",
      " * time: 26.52709412574768\n",
      "    22     2.268525e+01     4.009488e+01\n",
      " * time: 27.708858013153076\n",
      "    23     2.268461e+01     4.009744e+01\n",
      " * time: 28.98009204864502\n",
      "    24     2.268439e+01     4.011336e+01\n",
      " * time: 30.230708122253418\n",
      "    25     2.268355e+01     4.011462e+01\n",
      " * time: 31.437411069869995\n",
      "    26     2.227441e+01     6.479421e+01\n",
      " * time: 32.79494094848633\n",
      "    27     2.221077e+01     5.715271e+01\n",
      " * time: 34.027925968170166\n",
      "    28     2.220414e+01     5.692188e+01\n",
      " * time: 35.30468416213989\n",
      "    29     2.220407e+01     5.692304e+01\n",
      " * time: 36.517117977142334\n",
      "    30     2.219476e+01     5.707307e+01\n",
      " * time: 37.730015993118286\n",
      "    31     2.219346e+01     5.710185e+01\n",
      " * time: 38.9497971534729\n",
      "    32     2.219339e+01     5.710307e+01\n",
      " * time: 40.13897705078125\n",
      "    33     2.219338e+01     5.710325e+01\n",
      " * time: 41.37750506401062\n",
      "    34     2.219338e+01     5.710326e+01\n",
      " * time: 42.56357216835022\n",
      "    35     2.219337e+01     5.710261e+01\n",
      " * time: 43.72549796104431\n",
      "    36     2.180813e+01     3.137897e+01\n",
      " * time: 45.54966711997986\n",
      "    37     2.167222e+01     3.875082e+00\n",
      " * time: 46.725831031799316\n",
      "    38     2.165192e+01     3.338142e+00\n",
      " * time: 47.927494049072266\n",
      "    39     2.164696e+01     3.331768e+00\n",
      " * time: 49.25900602340698\n",
      "    40     2.164675e+01     3.331693e+00\n",
      " * time: 50.50690507888794\n",
      "    41     2.164667e+01     3.331421e+00\n",
      " * time: 51.75069999694824\n",
      "    42     2.164667e+01     3.331415e+00\n",
      " * time: 52.9130220413208\n",
      "    43     2.164667e+01     3.331382e+00\n",
      " * time: 54.07148098945618\n",
      "    44     2.164667e+01     3.331317e+00\n",
      " * time: 55.2849440574646\n",
      "    45     2.164667e+01     3.326238e+00\n",
      " * time: 56.49034404754639\n",
      "    46     2.164667e+01     3.318672e+00\n",
      " * time: 57.781973123550415\n",
      "    47     2.164433e+01     3.162977e+00\n",
      " * time: 60.27587413787842\n",
      "    48     2.163541e+01     3.163475e+00\n",
      " * time: 61.50323700904846\n",
      "    49     2.163087e+01     3.165781e+00\n",
      " * time: 62.881633043289185\n",
      "    50     2.162853e+01     3.165001e+00\n",
      " * time: 64.28101110458374\n",
      "    51     2.162659e+01     3.166136e+00\n",
      " * time: 65.55851197242737\n",
      "    52     2.162649e+01     3.166226e+00\n",
      " * time: 66.83554005622864\n",
      "    53     2.162648e+01     3.166235e+00\n",
      " * time: 68.09663605690002\n",
      "    54     2.162648e+01     3.166232e+00\n",
      " * time: 69.44416809082031\n",
      "    55     2.162648e+01     3.166234e+00\n",
      " * time: 70.7763569355011\n",
      "    56     2.160378e+01     3.184571e+00\n",
      " * time: 72.12000799179077\n",
      "    57     2.160094e+01     3.188226e+00\n",
      " * time: 73.37858295440674\n",
      "    58     2.159936e+01     3.188886e+00\n",
      " * time: 74.65492916107178\n",
      "    59     2.159916e+01     3.176785e+00\n",
      " * time: 75.83383297920227\n",
      "    60     2.159911e+01     3.143852e+00\n",
      " * time: 77.00181698799133\n",
      "    61     2.159911e+01     3.056226e+00\n",
      " * time: 78.17005705833435\n",
      "    62     2.159813e+01     3.298722e+00\n",
      " * time: 80.6115050315857\n",
      "    63     2.158737e+01     3.319149e+00\n",
      " * time: 81.92463302612305\n",
      "    64     2.158547e+01     3.321151e+00\n",
      " * time: 83.1737539768219\n",
      "    65     2.158461e+01     3.321842e+00\n",
      " * time: 84.46051716804504\n",
      "    66     2.158449e+01     3.321946e+00\n",
      " * time: 85.69584894180298\n",
      "    67     2.158446e+01     3.321958e+00\n",
      " * time: 87.0370500087738\n",
      "    68     2.158446e+01     3.321957e+00\n",
      " * time: 88.42810702323914\n",
      "    69     2.158445e+01     3.321957e+00\n",
      " * time: 89.65389513969421\n",
      "    70     2.158445e+01     3.321958e+00\n",
      " * time: 90.95624208450317\n",
      "    71     2.158445e+01     3.321963e+00\n",
      " * time: 92.2855110168457\n",
      "    72     2.155567e+01     3.217727e+00\n",
      " * time: 93.74269509315491\n",
      "    73     2.155530e+01     3.004764e+00\n",
      " * time: 95.21379208564758\n",
      "    74     2.155489e+01     3.369974e+00\n",
      " * time: 96.56219816207886\n",
      "    75     2.155471e+01     3.340467e+00\n",
      " * time: 97.98997402191162\n",
      "    76     2.155468e+01     3.336684e+00\n",
      " * time: 99.16285705566406\n",
      "    77     2.155467e+01     3.335807e+00\n",
      " * time: 100.40957713127136\n",
      "    78     2.155467e+01     3.335810e+00\n",
      " * time: 101.61759114265442\n",
      "    79     2.155467e+01     3.337165e+00\n",
      " * time: 102.88709902763367\n",
      "    80     2.152004e+01     3.438124e+00\n",
      " * time: 104.88592600822449\n",
      "    81     2.150831e+01     4.846816e+01\n",
      " * time: 106.1635890007019\n",
      "    82     2.142114e+01     1.715064e+01\n",
      " * time: 107.5000729560852\n",
      "    83     2.137789e+01     4.075929e+00\n",
      " * time: 108.85111498832703\n",
      "    84     2.135478e+01     4.245358e+00\n",
      " * time: 110.16263198852539\n",
      "    85     2.132824e+01     4.242217e+00\n",
      " * time: 111.50298404693604\n",
      "    86     2.131759e+01     4.213933e+00\n",
      " * time: 113.38962006568909\n",
      "    87     2.130800e+01     4.328039e+00\n",
      " * time: 114.80494904518127\n",
      "    88     2.130540e+01     4.317920e+00\n",
      " * time: 116.18282794952393\n",
      "    89     2.130239e+01     4.302708e+00\n",
      " * time: 117.54526996612549\n",
      "    90     2.130102e+01     4.304943e+00\n",
      " * time: 118.7932071685791\n",
      "    91     2.130068e+01     4.304211e+00\n",
      " * time: 120.05329012870789\n",
      "    92     2.130058e+01     4.304038e+00\n",
      " * time: 121.2938711643219\n",
      "    93     2.130050e+01     4.304090e+00\n",
      " * time: 122.54365396499634\n",
      "    94     2.130046e+01     4.304038e+00\n",
      " * time: 123.73804903030396\n",
      "    95     2.130046e+01     4.303366e+00\n",
      " * time: 125.1132321357727\n",
      "    96     2.130034e+01     4.335881e+00\n",
      " * time: 127.58209896087646\n",
      "    97     2.129994e+01     4.329263e+00\n",
      " * time: 128.96127009391785\n",
      "    98     2.129934e+01     4.296830e+00\n",
      " * time: 130.9017870426178\n",
      "    99     2.129867e+01     4.294244e+00\n",
      " * time: 132.07702898979187\n",
      "   100     2.129862e+01     4.293852e+00\n",
      " * time: 133.42139410972595\n",
      "\n",
      "Exiting inner optimizer with x = [0.1285159248063226, 0.9957655398916169, 0.28091479189356533, 15.53610474673569, 0.33143043825352386, 0.9282213763344582, 1.1797276248401949, 0.013819851372199684, 0.02777951395532248, 3.2618929121749405, -1.8139409669564912, 7.403151612714857e-8]\n",
      "Current distance to box: 7.40315e-8\n",
      "Decreasing barrier term μ.\n",
      "\n",
      "optimization complete. converged: false \n",
      "\n"
     ]
    },
    {
     "data": {
      "text/plain": [
       "(choiceDDM{θchoice{θz{Float64},Float64},Array{choicedata{pulse_input_DDM.choiceinputs{pulse_input_DDM.clicks,pulse_input_DDM.binned_clicks}},1}}\n",
       "  θ: θchoice{θz{Float64},Float64}\n",
       "  data: Array{choicedata{pulse_input_DDM.choiceinputs{pulse_input_DDM.clicks,pulse_input_DDM.binned_clicks}}}((50,))\n",
       ",  * Status: failure (reached maximum number of iterations)\n",
       "\n",
       " * Candidate solution\n",
       "    Minimizer: [1.29e-01, 9.96e-01, 2.81e-01,  ...]\n",
       "    Minimum:   2.129862e+01\n",
       "\n",
       " * Found with\n",
       "    Algorithm:     Fminbox with BFGS\n",
       "    Initial Point: [3.01e-01, 9.66e-01, 3.57e-01,  ...]\n",
       "\n",
       " * Convergence measures\n",
       "    |x - x'|               = 2.80e+00 ≰ 1.0e-12\n",
       "    |x - x'|/|x'|          = 1.74e-01 ≰ 0.0e+00\n",
       "    |f(x) - f(x')|         = 2.81e+00 ≰ 1.0e-12\n",
       "    |f(x) - f(x')|/|f(x')| = 1.32e-01 ≰ 0.0e+00\n",
       "    |g(x)|                 = 4.29e+00 ≰ 1.0e-10\n",
       "\n",
       " * Work counters\n",
       "    Seconds run:   135  (vs limit Inf)\n",
       "    Iterations:    1\n",
       "    f(x) calls:    1368\n",
       "    ∇f(x) calls:   101\n",
       ")"
      ]
     },
     "execution_count": 8,
     "metadata": {},
     "output_type": "execute_result"
    }
   ],
   "source": [
    "model, = optimize(data, options, n; iterations=100, outer_iterations=1)\n"
   ]
  },
  {
   "cell_type": "code",
   "execution_count": 9,
   "metadata": {},
   "outputs": [],
   "source": [
    "using Distributions"
   ]
  },
  {
   "cell_type": "code",
   "execution_count": null,
   "metadata": {},
   "outputs": [],
   "source": [
    "reg = Gamma(2., 1.)\n",
    "log(pdf.(reg, 1. - ibias - (eta*beta/(1. - beta))))"
   ]
  },
  {
   "cell_type": "code",
   "execution_count": null,
   "metadata": {},
   "outputs": [],
   "source": [
    "@unpack ibias, eta, beta = θ.θz\n",
    "clickdata = map(data->data.click_data,data)\n",
    "i_0 = pulse_input_DDM.compute_initial_pt(0.,eta,beta,clickdata)"
   ]
  },
  {
   "cell_type": "code",
   "execution_count": null,
   "metadata": {},
   "outputs": [],
   "source": [
    "plot(i_0)"
   ]
  },
  {
   "cell_type": "code",
   "execution_count": null,
   "metadata": {},
   "outputs": [],
   "source": [
    "θ, data = synthetic_data(ntrials = 500)\n",
    "ll = loglikelihood(θ, data,n)"
   ]
  },
  {
   "cell_type": "code",
   "execution_count": null,
   "metadata": {},
   "outputs": [],
   "source": [
    " # not respecting session boundaries yet\n",
    "ΔLR = pulse_input_DDM.diffLR.(clickdata)\n",
    "correct = map(ΔLR->sign(ΔLR),ΔLR)"
   ]
  },
  {
   "cell_type": "code",
   "execution_count": 23,
   "metadata": {},
   "outputs": [],
   "source": [
    "using Distributions\n",
    "using PyPlot"
   ]
  },
  {
   "cell_type": "code",
   "execution_count": 21,
   "metadata": {},
   "outputs": [
    {
     "data": {
      "text/plain": [
       "0.0001344"
      ]
     },
     "execution_count": 21,
     "metadata": {},
     "output_type": "execute_result"
    }
   ],
   "source": [
    "reg = InverseGamma(0.001, 0.1)\n",
    "ep = 0.0001344"
   ]
  },
  {
   "cell_type": "code",
   "execution_count": 52,
   "metadata": {},
   "outputs": [
    {
     "data": {
      "text/plain": [
       "-742.0421766485829"
      ]
     },
     "execution_count": 52,
     "metadata": {},
     "output_type": "execute_result"
    }
   ],
   "source": [
    "c = log(pdf.(reg, ep))"
   ]
  },
  {
   "cell_type": "code",
   "execution_count": 53,
   "metadata": {},
   "outputs": [
    {
     "data": {
      "text/plain": [
       "2.762936385019056e6"
      ]
     },
     "execution_count": 53,
     "metadata": {},
     "output_type": "execute_result"
    }
   ],
   "source": [
    "m = -(log(pdf.(reg, ep)) - log(pdf.(reg,2*ep)))/ep"
   ]
  },
  {
   "cell_type": "code",
   "execution_count": 60,
   "metadata": {},
   "outputs": [
    {
     "data": {
      "text/plain": [
       "2-element Array{Float64,1}:\n",
       " -742.0421766485829\n",
       " -370.7035265020218"
      ]
     },
     "execution_count": 60,
     "metadata": {},
     "output_type": "execute_result"
    }
   ],
   "source": [
    "x = collect(-ep:ep:ep)\n",
    "χ = collect(ep:ep:2*ep)\n",
    "\n",
    "y = m.*(x .- ep) .+ c\n",
    "z = log.(pdf.(reg,χ))"
   ]
  },
  {
   "cell_type": "code",
   "execution_count": 61,
   "metadata": {},
   "outputs": [
    {
     "data": {
      "image/png": "[encoded data removed]",
      "text/plain": [
       "Figure(PyObject <Figure size 640x480 with 1 Axes>)"
      ]
     },
     "metadata": {},
     "output_type": "display_data"
    },
    {
     "data": {
      "text/plain": [
       "1-element Array{PyCall.PyObject,1}:\n",
       " PyObject <matplotlib.lines.Line2D object at 0x14eb79c90>"
      ]
     },
     "execution_count": 61,
     "metadata": {},
     "output_type": "execute_result"
    }
   ],
   "source": [
    "plot(x,y)\n",
    "plot(χ,z)"
   ]
  },
  {
   "cell_type": "code",
   "execution_count": 56,
   "metadata": {},
   "outputs": [
    {
     "data": {
      "text/plain": [
       "2.762936385019056e6"
      ]
     },
     "execution_count": 56,
     "metadata": {},
     "output_type": "execute_result"
    }
   ],
   "source": [
    "ibias = 1\n",
    "eta = 1\n",
    "beta = 0.1\n",
    "reg = InverseGamma(0.001, 0.1);\n",
    "\n",
    "    ep = 0.0001344\n",
    "    dum = 1. - ibias - (eta*beta/(1. - beta)) \n",
    "dum_slope = -(log(pdf.(reg, ep)) - log(pdf.(reg,2*ep)))/ep"
   ]
  },
  {
   "cell_type": "code",
   "execution_count": 57,
   "metadata": {},
   "outputs": [
    {
     "data": {
      "text/plain": [
       "-308106.3124955792"
      ]
     },
     "execution_count": 57,
     "metadata": {},
     "output_type": "execute_result"
    }
   ],
   "source": [
    "dum_intercept = log(pdf.(reg, ep))\n",
    "(dum_slope*(dum-ep) + dum_intercept)"
   ]
  },
  {
   "cell_type": "code",
   "execution_count": 62,
   "metadata": {},
   "outputs": [
    {
     "data": {
      "text/plain": [
       "-55451.77444479562"
      ]
     },
     "execution_count": 62,
     "metadata": {},
     "output_type": "execute_result"
    }
   ],
   "source": [
    "80000*log(0.5)"
   ]
  },
  {
   "cell_type": "code",
   "execution_count": 63,
   "metadata": {},
   "outputs": [
    {
     "data": {
      "text/plain": [
       "2.8899999999999997"
      ]
     },
     "execution_count": 63,
     "metadata": {},
     "output_type": "execute_result"
    }
   ],
   "source": [
    "1.7*1.7"
   ]
  },
  {
   "cell_type": "code",
   "execution_count": null,
   "metadata": {},
   "outputs": [],
   "source": [
    "    "
   ]
  }
 ],
 "metadata": {
  "kernelspec": {
   "display_name": "Julia 1.3.1",
   "language": "julia",
   "name": "julia-1.3"
  },
  "language_info": {
   "file_extension": ".jl",
   "mimetype": "application/julia",
   "name": "julia",
   "version": "1.3.1"
  }
 },
 "nbformat": 4,
 "nbformat_minor": 2
}
