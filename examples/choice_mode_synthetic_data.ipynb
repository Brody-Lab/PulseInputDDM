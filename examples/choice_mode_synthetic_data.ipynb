{
 "cells": [
  {
   "cell_type": "code",
   "execution_count": null,
   "metadata": {},
   "outputs": [],
   "source": [
    "using Revise, Distributed\n",
    "addprocs(44);"
   ]
  },
  {
   "cell_type": "code",
   "execution_count": null,
   "metadata": {
    "scrolled": true
   },
   "outputs": [],
   "source": [
    "# ### Fitting a choice model\n",
    "# Blah blah blah\n",
    "\n",
    "using pulse_input_DDM"
   ]
  },
  {
   "cell_type": "code",
   "execution_count": null,
   "metadata": {},
   "outputs": [],
   "source": [
    "using JLD2\n",
    "JLD2.@load \"mydata.jld2\""
   ]
  },
  {
   "cell_type": "code",
   "execution_count": null,
   "metadata": {},
   "outputs": [],
   "source": [
    "# ### Geneerate some data\n",
    "# Blah blah blah\n",
    "\n",
    "\n",
    "#parameters of the latent model\n",
    "#pz = Dict(\"generative\" => vcat(1.,13.,-0.5,10.,1.,0.4,0.02), \n",
    "#    \"name\" => vcat(\"σ_i\",\"B\", \"λ\", \"σ_a\",\"σ_s\",\"ϕ\",\"τ_ϕ\"),\n",
    "#    \"fit\" => vcat(trues(7)),\n",
    "#    \"initial\" => vcat(2.,15.,-5.,100.,2.,0.2,0.005),\n",
    "#    \"lb\" => [eps(), 4., -5., eps(), eps(), eps(), eps()],\n",
    "#    \"ub\" => [10., 100, 5., 800., 40., 2., 10.])\n",
    "\n",
    "#parameters for the choice observation\n",
    "#pd = Dict(\"generative\" => vcat(0.1,0.1), \n",
    "#    \"initial\" => vcat(0.,0.5));\n",
    "\n",
    "options = opt(lb=vcat([eps(), 4., -5., eps(), eps(), eps(), eps()],[-30,0.]),\n",
    "    ub=vcat([10., 100, 5., 800., 40., 2., 10.],[30,1.]),\n",
    "    x0=vcat([1.,13.,-0.5,50.,1.,0.4,0.01],[0.1,0.1]),\n",
    "    fit=vcat(trues(9)))"
   ]
  },
  {
   "cell_type": "code",
   "execution_count": null,
   "metadata": {},
   "outputs": [],
   "source": [
    "θ_syn = θchoice(θz=θz(σ2_i=1.,B=13.,λ=-0.5,σ2_a=50.,σ2_s=1.,ϕ=0.4,τ_ϕ=0.01), bias=0.1, lapse=0.1)\n",
    "θ_syn, data = synthetic_data(;θ=θ_syn,ntrials=20000,rng=2)\n",
    "\n",
    "# ### Optimize stuff\n",
    "# Blah blah blah\n",
    "\n",
    "model, options = optimize(data;options=options,iterations=80)"
   ]
  },
  {
   "cell_type": "code",
   "execution_count": null,
   "metadata": {},
   "outputs": [],
   "source": [
    "gradient(model,options)"
   ]
  },
  {
   "cell_type": "code",
   "execution_count": null,
   "metadata": {},
   "outputs": [],
   "source": [
    "# ### Compute Hessian\n",
    "# Blah blah blah\n",
    "\n",
    "H = Hessian(model)"
   ]
  },
  {
   "cell_type": "code",
   "execution_count": null,
   "metadata": {},
   "outputs": [],
   "source": [
    "CI = CIs(model, H)"
   ]
  },
  {
   "cell_type": "code",
   "execution_count": null,
   "metadata": {},
   "outputs": [],
   "source": [
    "model.θ.θz"
   ]
  },
  {
   "cell_type": "code",
   "execution_count": null,
   "metadata": {},
   "outputs": [],
   "source": [
    "θ_syn = θchoice(θz=θz(σ2_i=1.,B=13.,λ=-0.5,σ2_a=50.,σ2_s=1.,ϕ=0.4,τ_ϕ=0.01), bias=0.1, lapse=0.1)\n",
    "θ_syn, data = synthetic_data(;θ=θ_syn,ntrials=20000,rng=2)\n",
    "\n",
    "# ### Optimize stuff\n",
    "# Blah blah blah\n",
    "\n",
    "model, options = optimize(data;options=options,iterations=80)"
   ]
  },
  {
   "cell_type": "code",
   "execution_count": null,
   "metadata": {},
   "outputs": [],
   "source": [
    "# ### Compute Hessian\n",
    "# Blah blah blah\n",
    "\n",
    "H = Hessian(model)"
   ]
  },
  {
   "cell_type": "code",
   "execution_count": null,
   "metadata": {},
   "outputs": [],
   "source": [
    "model = choiceDDM(θ,data)\n",
    "pulse_input_DDM.gradient(model,53)"
   ]
  },
  {
   "cell_type": "code",
   "execution_count": null,
   "metadata": {},
   "outputs": [],
   "source": [
    "# ### Get the CIs from the Hessian\n",
    "# Blah blah blah\n",
    "\n",
    "CI = CIs(model, H)"
   ]
  },
  {
   "cell_type": "code",
   "execution_count": null,
   "metadata": {},
   "outputs": [],
   "source": [
    "using Flatten\n",
    "using ForwardDiff"
   ]
  },
  {
   "cell_type": "code",
   "execution_count": null,
   "metadata": {},
   "outputs": [],
   "source": [
    "@unpack θ, data = model\n",
    "x = [Flatten.flatten(θ)...]\n",
    "ℓℓ(x) = -loglikelihood(x, data, n)"
   ]
  },
  {
   "cell_type": "code",
   "execution_count": null,
   "metadata": {},
   "outputs": [],
   "source": [
    "ForwardDiff.gradient(ℓℓ, x)\n"
   ]
  },
  {
   "cell_type": "code",
   "execution_count": null,
   "metadata": {},
   "outputs": [],
   "source": [
    "eigvals(H)"
   ]
  },
  {
   "cell_type": "code",
   "execution_count": null,
   "metadata": {},
   "outputs": [],
   "source": [
    "using PositiveFactorizations"
   ]
  },
  {
   "cell_type": "code",
   "execution_count": null,
   "metadata": {},
   "outputs": [],
   "source": [
    "HPSD = Matrix(cholesky(Positive, H, Val{false}))"
   ]
  },
  {
   "cell_type": "code",
   "execution_count": null,
   "metadata": {},
   "outputs": [],
   "source": [
    "eigvals(H)"
   ]
  },
  {
   "cell_type": "code",
   "execution_count": null,
   "metadata": {},
   "outputs": [],
   "source": [
    "eigvals(HPSD)"
   ]
  },
  {
   "cell_type": "code",
   "execution_count": null,
   "metadata": {},
   "outputs": [],
   "source": [
    "eigvecs(H)"
   ]
  },
  {
   "cell_type": "code",
   "execution_count": null,
   "metadata": {},
   "outputs": [],
   "source": [
    "model.θ.θz"
   ]
  },
  {
   "cell_type": "code",
   "execution_count": null,
   "metadata": {},
   "outputs": [],
   "source": [
    "model.θ.θz"
   ]
  },
  {
   "cell_type": "code",
   "execution_count": null,
   "metadata": {},
   "outputs": [],
   "source": [
    "θ_syn.θz"
   ]
  },
  {
   "cell_type": "code",
   "execution_count": null,
   "metadata": {},
   "outputs": [],
   "source": [
    "using JLD2\n",
    "JLD2.@save \"mydata2.jld2\" data"
   ]
  },
  {
   "cell_type": "code",
   "execution_count": null,
   "metadata": {},
   "outputs": [],
   "source": [
    "using JLD2\n",
    "JLD2.@load \"mydata2.jld2\""
   ]
  },
  {
   "cell_type": "code",
   "execution_count": null,
   "metadata": {},
   "outputs": [],
   "source": [
    "data"
   ]
  },
  {
   "cell_type": "code",
   "execution_count": null,
   "metadata": {},
   "outputs": [],
   "source": [
    "nT"
   ]
  },
  {
   "cell_type": "code",
   "execution_count": null,
   "metadata": {},
   "outputs": [],
   "source": [
    "@unpack binned_clicks,choices = data"
   ]
  },
  {
   "cell_type": "code",
   "execution_count": null,
   "metadata": {},
   "outputs": [],
   "source": [
    "using Parameters\n",
    "@unpack clicks,nT,nL,nR,dt,centered = binned_clicks"
   ]
  },
  {
   "cell_type": "code",
   "execution_count": null,
   "metadata": {},
   "outputs": [],
   "source": [
    "@unpack L,R,T,ntrials = clicks"
   ]
  },
  {
   "cell_type": "code",
   "execution_count": null,
   "metadata": {},
   "outputs": [],
   "source": [
    "gradient(model,options)"
   ]
  },
  {
   "cell_type": "code",
   "execution_count": null,
   "metadata": {},
   "outputs": [],
   "source": [
    "gradient(model,options)"
   ]
  },
  {
   "cell_type": "code",
   "execution_count": null,
   "metadata": {},
   "outputs": [],
   "source": [
    "gradient(model,options)"
   ]
  },
  {
   "cell_type": "code",
   "execution_count": null,
   "metadata": {},
   "outputs": [],
   "source": [
    "options"
   ]
  },
  {
   "cell_type": "code",
   "execution_count": 1,
   "metadata": {},
   "outputs": [
    {
     "name": "stderr",
     "output_type": "stream",
     "text": [
      "┌ Info: Precompiling pulse_input_DDM [c2542da2-1f7d-11e9-2506-87691095ebb2]\n",
      "└ @ Base loading.jl:1273\n",
      "WARNING: Method definition vec(Number) in module FiniteDiff at /Users/dikshag/.julia/packages/FiniteDiff/LN2dd/src/jacobians.jl:128 overwritten in module DiffEqDiffTools at /Users/dikshag/.julia/packages/DiffEqDiffTools/3mm8U/src/jacobians.jl:114.\n",
      "  ** incremental compilation may be fatally broken for this module **\n",
      "\n"
     ]
    }
   ],
   "source": [
    "using pulse_input_DDM\n",
    "using PyPlot\n",
    "using Parameters"
   ]
  },
  {
   "cell_type": "code",
   "execution_count": 2,
   "metadata": {},
   "outputs": [
    {
     "data": {
      "text/plain": [
       "(θchoice{θz{Float64},Float64}\n",
       "  θz: θz{Float64}\n",
       "  bias: Float64 0.0\n",
       "  lapse: Float64 0.01\n",
       ", choicedata{pulse_input_DDM.choiceinputs{pulse_input_DDM.clicks,pulse_input_DDM.binned_clicks}}[choicedata{pulse_input_DDM.choiceinputs{pulse_input_DDM.clicks,pulse_input_DDM.binned_clicks}}\n",
       "  click_data: pulse_input_DDM.choiceinputs{pulse_input_DDM.clicks,pulse_input_DDM.binned_clicks}\n",
       "  choice: Bool false\n",
       ", choicedata{pulse_input_DDM.choiceinputs{pulse_input_DDM.clicks,pulse_input_DDM.binned_clicks}}\n",
       "  click_data: pulse_input_DDM.choiceinputs{pulse_input_DDM.clicks,pulse_input_DDM.binned_clicks}\n",
       "  choice: Bool true\n",
       ", choicedata{pulse_input_DDM.choiceinputs{pulse_input_DDM.clicks,pulse_input_DDM.binned_clicks}}\n",
       "  click_data: pulse_input_DDM.choiceinputs{pulse_input_DDM.clicks,pulse_input_DDM.binned_clicks}\n",
       "  choice: Bool true\n",
       ", choicedata{pulse_input_DDM.choiceinputs{pulse_input_DDM.clicks,pulse_input_DDM.binned_clicks}}\n",
       "  click_data: pulse_input_DDM.choiceinputs{pulse_input_DDM.clicks,pulse_input_DDM.binned_clicks}\n",
       "  choice: Bool true\n",
       ", choicedata{pulse_input_DDM.choiceinputs{pulse_input_DDM.clicks,pulse_input_DDM.binned_clicks}}\n",
       "  click_data: pulse_input_DDM.choiceinputs{pulse_input_DDM.clicks,pulse_input_DDM.binned_clicks}\n",
       "  choice: Bool false\n",
       ", choicedata{pulse_input_DDM.choiceinputs{pulse_input_DDM.clicks,pulse_input_DDM.binned_clicks}}\n",
       "  click_data: pulse_input_DDM.choiceinputs{pulse_input_DDM.clicks,pulse_input_DDM.binned_clicks}\n",
       "  choice: Bool true\n",
       ", choicedata{pulse_input_DDM.choiceinputs{pulse_input_DDM.clicks,pulse_input_DDM.binned_clicks}}\n",
       "  click_data: pulse_input_DDM.choiceinputs{pulse_input_DDM.clicks,pulse_input_DDM.binned_clicks}\n",
       "  choice: Bool true\n",
       ", choicedata{pulse_input_DDM.choiceinputs{pulse_input_DDM.clicks,pulse_input_DDM.binned_clicks}}\n",
       "  click_data: pulse_input_DDM.choiceinputs{pulse_input_DDM.clicks,pulse_input_DDM.binned_clicks}\n",
       "  choice: Bool false\n",
       ", choicedata{pulse_input_DDM.choiceinputs{pulse_input_DDM.clicks,pulse_input_DDM.binned_clicks}}\n",
       "  click_data: pulse_input_DDM.choiceinputs{pulse_input_DDM.clicks,pulse_input_DDM.binned_clicks}\n",
       "  choice: Bool true\n",
       ", choicedata{pulse_input_DDM.choiceinputs{pulse_input_DDM.clicks,pulse_input_DDM.binned_clicks}}\n",
       "  click_data: pulse_input_DDM.choiceinputs{pulse_input_DDM.clicks,pulse_input_DDM.binned_clicks}\n",
       "  choice: Bool true\n",
       "  …  choicedata{pulse_input_DDM.choiceinputs{pulse_input_DDM.clicks,pulse_input_DDM.binned_clicks}}\n",
       "  click_data: pulse_input_DDM.choiceinputs{pulse_input_DDM.clicks,pulse_input_DDM.binned_clicks}\n",
       "  choice: Bool false\n",
       ", choicedata{pulse_input_DDM.choiceinputs{pulse_input_DDM.clicks,pulse_input_DDM.binned_clicks}}\n",
       "  click_data: pulse_input_DDM.choiceinputs{pulse_input_DDM.clicks,pulse_input_DDM.binned_clicks}\n",
       "  choice: Bool true\n",
       ", choicedata{pulse_input_DDM.choiceinputs{pulse_input_DDM.clicks,pulse_input_DDM.binned_clicks}}\n",
       "  click_data: pulse_input_DDM.choiceinputs{pulse_input_DDM.clicks,pulse_input_DDM.binned_clicks}\n",
       "  choice: Bool false\n",
       ", choicedata{pulse_input_DDM.choiceinputs{pulse_input_DDM.clicks,pulse_input_DDM.binned_clicks}}\n",
       "  click_data: pulse_input_DDM.choiceinputs{pulse_input_DDM.clicks,pulse_input_DDM.binned_clicks}\n",
       "  choice: Bool true\n",
       ", choicedata{pulse_input_DDM.choiceinputs{pulse_input_DDM.clicks,pulse_input_DDM.binned_clicks}}\n",
       "  click_data: pulse_input_DDM.choiceinputs{pulse_input_DDM.clicks,pulse_input_DDM.binned_clicks}\n",
       "  choice: Bool false\n",
       ", choicedata{pulse_input_DDM.choiceinputs{pulse_input_DDM.clicks,pulse_input_DDM.binned_clicks}}\n",
       "  click_data: pulse_input_DDM.choiceinputs{pulse_input_DDM.clicks,pulse_input_DDM.binned_clicks}\n",
       "  choice: Bool true\n",
       ", choicedata{pulse_input_DDM.choiceinputs{pulse_input_DDM.clicks,pulse_input_DDM.binned_clicks}}\n",
       "  click_data: pulse_input_DDM.choiceinputs{pulse_input_DDM.clicks,pulse_input_DDM.binned_clicks}\n",
       "  choice: Bool false\n",
       ", choicedata{pulse_input_DDM.choiceinputs{pulse_input_DDM.clicks,pulse_input_DDM.binned_clicks}}\n",
       "  click_data: pulse_input_DDM.choiceinputs{pulse_input_DDM.clicks,pulse_input_DDM.binned_clicks}\n",
       "  choice: Bool true\n",
       ", choicedata{pulse_input_DDM.choiceinputs{pulse_input_DDM.clicks,pulse_input_DDM.binned_clicks}}\n",
       "  click_data: pulse_input_DDM.choiceinputs{pulse_input_DDM.clicks,pulse_input_DDM.binned_clicks}\n",
       "  choice: Bool true\n",
       ", choicedata{pulse_input_DDM.choiceinputs{pulse_input_DDM.clicks,pulse_input_DDM.binned_clicks}}\n",
       "  click_data: pulse_input_DDM.choiceinputs{pulse_input_DDM.clicks,pulse_input_DDM.binned_clicks}\n",
       "  choice: Bool false\n",
       "])"
      ]
     },
     "execution_count": 2,
     "metadata": {},
     "output_type": "execute_result"
    }
   ],
   "source": [
    "θ, data = synthetic_data(ntrials = 100)"
   ]
  },
  {
   "cell_type": "code",
   "execution_count": 11,
   "metadata": {},
   "outputs": [
    {
     "data": {
      "text/plain": [
       "choiceoptions\n",
       "  fit: Array{Bool}((12,)) Bool[0, 1, 1, 1, 1, 1, 1, 1, 1, 1, 0, 0]\n",
       "  lb: Array{Float64}((12,)) [0.0, -2.0, -4.0, -0.9, 0.5, -5.0, 0.0, 0.0, 0.01, 0.005, -30.0, 0.0]\n",
       "  ub: Array{Float64}((12,)) [2.220446049250313e-16, 2.0, 4.0, 0.9, 30.0, 5.0, 100.0, 2.5, 1.2, 1.0, 30.0, 1.0]\n",
       "  x0: Array{Float64}((12,)) [2.220446049250313e-16, 0.5, 0.9, 0.6, 15.0, -0.5, 2.0, 1.5, 0.8, 0.05, 0.0, 1.0e-5]\n"
      ]
     },
     "execution_count": 11,
     "metadata": {},
     "output_type": "execute_result"
    }
   ],
   "source": [
    "n = 53;\n",
    "options = choiceoptions(fit = vcat(false,true, true, true, true, true, true, true, true, true, false, false),\n",
    "    lb = vcat([0.,-2., -4.,-0.9, .5, -5., 0., 0., 0.01, 0.005], [-30, 0.]),\n",
    "    ub = vcat([eps(),2., 4., 0.9, 30., 5., 100., 2.5, 1.2, 1.], [30, 1.]),\n",
    "    x0 = vcat([eps(),0.5, 0.9, 0.6, 15., -0.5, 2., 1.5, 0.8, 0.05], [0.,1e-5]))\n"
   ]
  },
  {
   "cell_type": "code",
   "execution_count": 12,
   "metadata": {},
   "outputs": [
    {
     "name": "stdout",
     "output_type": "stream",
     "text": [
      "Fminbox\n",
      "-------\n",
      "Initial mu = 0.00021187\n",
      "\n",
      "Fminbox iteration 1\n",
      "-------------------\n",
      "Calling inner optimizer with mu = 0.00021187\n",
      "\n",
      "(numbers below include barrier contribution)\n",
      "Iter     Function value   Gradient norm \n",
      "     0     1.399293e+02     2.449903e+00\n",
      " * time: 3.719329833984375e-5\n",
      "     1     1.399236e+02     8.241533e+00\n",
      " * time: 28.623228073120117\n",
      "     2     1.397866e+02     1.074015e+00\n",
      " * time: 46.12197709083557\n",
      "     3     1.397040e+02     8.164000e+00\n",
      " * time: 63.690967082977295\n",
      "     4     1.396590e+02     4.534258e+00\n",
      " * time: 80.8585090637207\n",
      "     5     1.396097e+02     9.093369e+00\n",
      " * time: 92.36420822143555\n",
      "\n",
      "Exiting inner optimizer with x = [0.12369240282907246, 0.7377957926615919, 0.7731657464541929, 15.00902454856545, -0.5710476311897834, 2.0092278506532817, 1.460742724429018, 0.7552263386342162, 0.04150500865916512]\n",
      "Current distance to box: 0.036505\n",
      "Decreasing barrier term μ.\n",
      "\n",
      "optimization complete. converged: false \n",
      "\n"
     ]
    },
    {
     "data": {
      "text/plain": [
       "(choiceDDM{θchoice{θz{Float64},Float64},Array{choicedata{pulse_input_DDM.choiceinputs{pulse_input_DDM.clicks,pulse_input_DDM.binned_clicks}},1}}\n",
       "  θ: θchoice{θz{Float64},Float64}\n",
       "  data: Array{choicedata{pulse_input_DDM.choiceinputs{pulse_input_DDM.clicks,pulse_input_DDM.binned_clicks}}}((500,))\n",
       ",  * Status: failure (reached maximum number of iterations)\n",
       "\n",
       " * Candidate solution\n",
       "    Minimizer: [1.24e-01, 7.38e-01, 7.73e-01,  ...]\n",
       "    Minimum:   1.396123e+02\n",
       "\n",
       " * Found with\n",
       "    Algorithm:     Fminbox with BFGS\n",
       "    Initial Point: [5.00e-01, 9.00e-01, 6.00e-01,  ...]\n",
       "\n",
       " * Convergence measures\n",
       "    |x - x'|               = 4.55e-01 ≰ 1.0e-10\n",
       "    |x - x'|/|x'|          = 2.98e-02 ≰ 0.0e+00\n",
       "    |f(x) - f(x')|         = 3.20e-01 ≰ 1.0e-06\n",
       "    |f(x) - f(x')|/|f(x')| = 2.29e-03 ≰ 0.0e+00\n",
       "    |g(x)|                 = 9.09e+00 ≰ 1.0e-03\n",
       "\n",
       " * Work counters\n",
       "    Seconds run:   109  (vs limit Inf)\n",
       "    Iterations:    1\n",
       "    f(x) calls:    28\n",
       "    ∇f(x) calls:   6\n",
       ")"
      ]
     },
     "execution_count": 12,
     "metadata": {},
     "output_type": "execute_result"
    }
   ],
   "source": [
    "model, = optimize(data, options, n; iterations=5, outer_iterations=1)\n"
   ]
  },
  {
   "cell_type": "code",
   "execution_count": null,
   "metadata": {},
   "outputs": [],
   "source": [
    "@unpack ibias, eta, beta = θ.θz\n",
    "clickdata = map(data->data.click_data,data)\n",
    "i_0 = pulse_input_DDM.compute_initial_pt(0.,eta,beta,clickdata)"
   ]
  },
  {
   "cell_type": "code",
   "execution_count": null,
   "metadata": {},
   "outputs": [],
   "source": [
    "plot(i_0)"
   ]
  },
  {
   "cell_type": "code",
   "execution_count": null,
   "metadata": {},
   "outputs": [],
   "source": [
    "θ, data = synthetic_data(ntrials = 500)\n",
    "ll = loglikelihood(θ, data,n)"
   ]
  },
  {
   "cell_type": "code",
   "execution_count": null,
   "metadata": {},
   "outputs": [],
   "source": [
    " # not respecting session boundaries yet\n",
    "ΔLR = pulse_input_DDM.diffLR.(clickdata)\n",
    "correct = map(ΔLR->sign(ΔLR),ΔLR)"
   ]
  }
 ],
 "metadata": {
  "kernelspec": {
   "display_name": "Julia 1.3.1",
   "language": "julia",
   "name": "julia-1.3"
  },
  "language_info": {
   "file_extension": ".jl",
   "mimetype": "application/julia",
   "name": "julia",
   "version": "1.3.1"
  }
 },
 "nbformat": 4,
 "nbformat_minor": 2
}
