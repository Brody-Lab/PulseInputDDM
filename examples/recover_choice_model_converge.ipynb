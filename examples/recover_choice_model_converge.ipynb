{
 "cells": [
  {
   "cell_type": "code",
   "execution_count": 1,
   "metadata": {},
   "outputs": [],
   "source": [
    "using Distributed\n",
    "addprocs(44);"
   ]
  },
  {
   "cell_type": "markdown",
   "metadata": {
    "scrolled": true
   },
   "source": [
    "### Fitting a choice model.\n",
    "\n",
    "First you have to include the necessary package"
   ]
  },
  {
   "cell_type": "code",
   "execution_count": 2,
   "metadata": {},
   "outputs": [
    {
     "name": "stderr",
     "output_type": "stream",
     "text": [
      "┌ Info: Recompiling stale cache file /usr/people/briandd/.julia/compiled/v1.2/pulse_input_DDM/m8WoA.ji for pulse_input_DDM [c2542da2-1f7d-11e9-2506-87691095ebb2]\n",
      "└ @ Base loading.jl:1240\n"
     ]
    }
   ],
   "source": [
    "using pulse_input_DDM, Flatten"
   ]
  },
  {
   "cell_type": "markdown",
   "metadata": {},
   "source": [
    "### Geneerate some data\n",
    "Blah blah blah"
   ]
  },
  {
   "cell_type": "code",
   "execution_count": 3,
   "metadata": {},
   "outputs": [],
   "source": [
    "θ_syn = θchoice(θz=θz(σ2_i = 1., B = 13., λ = -0.5, σ2_a = 10., σ2_s = 1.0,\n",
    "    ϕ = 0.4, τ_ϕ = 0.02), bias=0.1, lapse=0.1);"
   ]
  },
  {
   "cell_type": "code",
   "execution_count": 4,
   "metadata": {},
   "outputs": [],
   "source": [
    "_, data = synthetic_data(;θ=θ_syn, ntrials=20_000, rng=1, dt=2e-2);"
   ]
  },
  {
   "cell_type": "code",
   "execution_count": 5,
   "metadata": {},
   "outputs": [
    {
     "data": {
      "text/plain": [
       "53"
      ]
     },
     "execution_count": 5,
     "metadata": {},
     "output_type": "execute_result"
    }
   ],
   "source": [
    "n = 53"
   ]
  },
  {
   "cell_type": "code",
   "execution_count": 6,
   "metadata": {},
   "outputs": [
    {
     "data": {
      "text/plain": [
       "-7696.220939998316"
      ]
     },
     "execution_count": 6,
     "metadata": {},
     "output_type": "execute_result"
    }
   ],
   "source": [
    "loglikelihood(θ_syn, data, n)"
   ]
  },
  {
   "cell_type": "code",
   "execution_count": 12,
   "metadata": {},
   "outputs": [],
   "source": [
    "#x0 = collect(Flatten.flatten(θ_syn));\n",
    "x0 = vcat([0.1, 15., -0.1, 20., 0.5, 0.2, 0.008], [0.,0.01]) #random initial state"
   ]
  },
  {
   "cell_type": "code",
   "execution_count": 24,
   "metadata": {},
   "outputs": [
    {
     "data": {
      "text/plain": [
       "choiceoptions\n",
       "  fit: Array{Bool}((9,)) Bool[1, 1, 1, 1, 1, 1, 1, 1, 1]\n",
       "  lb: Array{Float64}((9,)) [0.0, 8.0, -5.0, 0.0, 0.0, 0.01, 0.005, -30.0, 0.0]\n",
       "  ub: Array{Float64}((9,)) [2.0, 30.0, 5.0, 100.0, 2.5, 1.2, 1.0, 30.0, 1.0]\n",
       "  x0: Array{Float64}((9,)) [0.1, 15.0, -0.1, 20.0, 0.5, 0.2, 0.008, 0.0, 0.01]\n"
      ]
     },
     "execution_count": 24,
     "metadata": {},
     "output_type": "execute_result"
    }
   ],
   "source": [
    "options = choiceoptions(x0=x0)"
   ]
  },
  {
   "cell_type": "markdown",
   "metadata": {},
   "source": [
    "### Optimize stuff\n",
    "Blah blah blah"
   ]
  },
  {
   "cell_type": "code",
   "execution_count": 25,
   "metadata": {
    "collapsed": true
   },
   "outputs": [
    {
     "name": "stdout",
     "output_type": "stream",
     "text": [
      "Fminbox\n",
      "-------\n",
      "Initial mu = 0.428371\n",
      "\n",
      "Fminbox iteration 1\n",
      "-------------------\n",
      "Calling inner optimizer with mu = 0.428371\n",
      "\n",
      "(numbers below include barrier contribution)\n",
      "Iter     Function value   Gradient norm \n",
      "     0     9.212963e+03     1.353167e+05\n",
      " * time: 3.1948089599609375e-5\n",
      "     1     9.112715e+03     2.895310e+04\n",
      " * time: 32.75376510620117\n",
      "     2     8.157816e+03     2.859493e+04\n",
      " * time: 45.62749004364014\n",
      "     3     7.879931e+03     1.280273e+04\n",
      " * time: 58.42168998718262\n",
      "     4     7.873706e+03     1.323454e+04\n",
      " * time: 77.75011205673218\n",
      "     5     7.856478e+03     1.204454e+04\n",
      " * time: 90.75878190994263\n",
      "     6     7.856133e+03     1.191773e+04\n",
      " * time: 110.43634104728699\n",
      "     7     7.841525e+03     9.041094e+03\n",
      " * time: 123.47024893760681\n",
      "     8     7.832685e+03     8.277498e+03\n",
      " * time: 136.6883089542389\n",
      "     9     7.800460e+03     4.103174e+03\n",
      " * time: 149.7026629447937\n",
      "    10     7.763240e+03     6.055365e+03\n",
      " * time: 162.56869101524353\n",
      "    11     7.761642e+03     6.235206e+03\n",
      " * time: 175.46449899673462\n",
      "    12     7.753332e+03     1.716827e+03\n",
      " * time: 207.90497303009033\n",
      "    13     7.696519e+03     5.530339e+02\n",
      " * time: 227.305251121521\n",
      "    14     7.695549e+03     2.482609e+03\n",
      " * time: 246.7101330757141\n",
      "    15     7.694518e+03     2.136616e+03\n",
      " * time: 265.7422869205475\n",
      "    16     7.694282e+03     2.180757e+03\n",
      " * time: 284.9593710899353\n",
      "    17     7.693923e+03     2.088472e+03\n",
      " * time: 304.45033502578735\n",
      "    18     7.692428e+03     1.483793e+03\n",
      " * time: 317.5553469657898\n",
      "    19     7.691278e+03     8.901795e+02\n",
      " * time: 330.6137230396271\n",
      "    20     7.690224e+03     5.618998e+02\n",
      " * time: 343.58953189849854\n",
      "    21     7.689798e+03     4.812600e+02\n",
      " * time: 356.65217900276184\n",
      "    22     7.689347e+03     6.341161e+01\n",
      " * time: 369.5337018966675\n",
      "    23     7.689141e+03     1.951305e+02\n",
      " * time: 382.4178669452667\n",
      "    24     7.688993e+03     2.084519e+02\n",
      " * time: 395.3101680278778\n",
      "    25     7.688929e+03     1.733654e+02\n",
      " * time: 408.1940050125122\n",
      "    26     7.688845e+03     2.130447e+02\n",
      " * time: 420.993567943573\n",
      "    27     7.688757e+03     2.486893e+02\n",
      " * time: 433.85430788993835\n",
      "    28     7.688648e+03     2.493155e+02\n",
      " * time: 446.65881991386414\n",
      "    29     7.688525e+03     2.092214e+02\n",
      " * time: 459.49903893470764\n",
      "    30     7.688414e+03     1.117787e+02\n",
      " * time: 472.4289939403534\n",
      "    31     7.688347e+03     1.594330e+01\n",
      " * time: 485.1623649597168\n",
      "    32     7.688328e+03     5.016258e+01\n",
      " * time: 497.8978679180145\n",
      "    33     7.688316e+03     1.747852e+01\n",
      " * time: 510.6708359718323\n",
      "    34     7.688314e+03     3.061275e+00\n",
      " * time: 523.7487869262695\n",
      "    35     7.688313e+03     1.803194e+00\n",
      " * time: 537.446536064148\n",
      "\n",
      "Exiting inner optimizer with x = [1.1019738115814135, 13.372764313412096, -0.6510616409517089, 8.32977628652834, 0.8328531442340977, 0.43903733277110263, 0.024588925010796625, 0.06890591995104343, 0.10474742015813486]\n",
      "Current distance to box: 0.0195889\n",
      "Decreasing barrier term μ.\n",
      "\n",
      "Fminbox iteration 2\n",
      "-------------------\n",
      "Calling inner optimizer with mu = 0.000428371\n",
      "\n",
      "(numbers below include barrier contribution)\n",
      "Iter     Function value   Gradient norm \n",
      "     0     7.694308e+03     2.321060e+01\n",
      " * time: 3.504753112792969e-5\n",
      "     1     7.694308e+03     1.296589e+00\n",
      " * time: 32.192046880722046\n",
      "     2     7.694308e+03     1.687311e+00\n",
      " * time: 63.961174964904785\n",
      "\n",
      "Exiting inner optimizer with x = [1.1019818254109486, 13.372761611508087, -0.6510632820349779, 8.329772866131457, 0.8328621938210158, 0.4389280903756196, 0.024573697004627807, 0.06890654480543011, 0.10466381260707082]\n",
      "Current distance to box: 0.0195737\n",
      "Decreasing barrier term μ.\n",
      "\n",
      "optimization complete. converged: true \n",
      "\n"
     ]
    },
    {
     "data": {
      "text/plain": [
       "choiceDDM{θchoice{θz{Float64},Float64},Array{choicedata{pulse_input_DDM.choiceinputs{pulse_input_DDM.clicks,pulse_input_DDM.binned_clicks}},1}}\n",
       "  θ: θchoice{θz{Float64},Float64}\n",
       "  data: Array{choicedata{pulse_input_DDM.choiceinputs{pulse_input_DDM.clicks,pulse_input_DDM.binned_clicks}}}((20000,))\n"
      ]
     },
     "execution_count": 25,
     "metadata": {},
     "output_type": "execute_result"
    }
   ],
   "source": [
    "model = optimize(data, options, n)"
   ]
  },
  {
   "cell_type": "markdown",
   "metadata": {},
   "source": [
    "### Compute Hessian\n",
    "Blah blah blah"
   ]
  },
  {
   "cell_type": "code",
   "execution_count": null,
   "metadata": {},
   "outputs": [],
   "source": [
    "H = Hessian(model, n)\n",
    "CI, HPSD = CIs(H);"
   ]
  },
  {
   "cell_type": "code",
   "execution_count": 27,
   "metadata": {},
   "outputs": [
    {
     "data": {
      "text/plain": [
       "9-element Array{Float64,1}:\n",
       "  7.02779325556363    \n",
       " 27.313530435573018   \n",
       "  0.32910155780013295 \n",
       " 22.8607815117612     \n",
       "  0.7214667685824548  \n",
       "  0.13990921002103934 \n",
       "  0.00932707515443111 \n",
       "  0.1503506830437755  \n",
       "  0.011360633182694002"
      ]
     },
     "execution_count": 27,
     "metadata": {},
     "output_type": "execute_result"
    }
   ],
   "source": [
    "CI"
   ]
  },
  {
   "cell_type": "code",
   "execution_count": 28,
   "metadata": {},
   "outputs": [
    {
     "data": {
      "text/plain": [
       "9×3 Array{Float64,2}:\n",
       "  -5.92581     1.0    8.12978  \n",
       " -13.9408     13.0   40.6863   \n",
       "  -0.980165   -0.5   -0.321962 \n",
       " -14.531      10.0   31.1906   \n",
       "   0.111395    1.0    1.55433  \n",
       "   0.299019    0.4    0.578837 \n",
       "   0.0152466   0.02   0.0339008\n",
       "  -0.0814441   0.1    0.219257 \n",
       "   0.0933032   0.1    0.116024 "
      ]
     },
     "execution_count": 28,
     "metadata": {},
     "output_type": "execute_result"
    }
   ],
   "source": [
    "hcat(collect(Flatten.flatten(model.θ)) - CI, collect(Flatten.flatten(θ_syn)), collect(Flatten.flatten(model.θ)) + CI)"
   ]
  },
  {
   "cell_type": "code",
   "execution_count": 30,
   "metadata": {},
   "outputs": [
    {
     "data": {
      "text/plain": [
       "9×2 Array{Float64,2}:\n",
       "  1.10198     1.0 \n",
       " 13.3728     13.0 \n",
       " -0.651063   -0.5 \n",
       "  8.32977    10.0 \n",
       "  0.832862    1.0 \n",
       "  0.438928    0.4 \n",
       "  0.0245737   0.02\n",
       "  0.0689065   0.1 \n",
       "  0.104664    0.1 "
      ]
     },
     "execution_count": 30,
     "metadata": {},
     "output_type": "execute_result"
    }
   ],
   "source": [
    "hcat(collect(Flatten.flatten(model.θ)), collect(Flatten.flatten(θ_syn)))"
   ]
  },
  {
   "cell_type": "code",
   "execution_count": null,
   "metadata": {},
   "outputs": [],
   "source": []
  }
 ],
 "metadata": {
  "kernelspec": {
   "display_name": "Julia 1.2.0",
   "language": "julia",
   "name": "julia-1.2"
  },
  "language_info": {
   "file_extension": ".jl",
   "mimetype": "application/julia",
   "name": "julia",
   "version": "1.2.0"
  }
 },
 "nbformat": 4,
 "nbformat_minor": 2
}
