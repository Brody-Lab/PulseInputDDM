{
 "cells": [
  {
   "cell_type": "markdown",
   "metadata": {},
   "source": [
    "This code is for generating fake choice data and recovering generative parameters"
   ]
  },
  {
   "cell_type": "code",
   "execution_count": 1,
   "metadata": {},
   "outputs": [],
   "source": [
    "addprocs(48);"
   ]
  },
  {
   "cell_type": "code",
   "execution_count": 2,
   "metadata": {},
   "outputs": [],
   "source": [
    "using PyPlot, StatsBase, JLD, Pandas, DataFrames, Distributions\n",
    "@everywhere using choice_observation, latent_DDM_common_functions, helpers"
   ]
  },
  {
   "cell_type": "code",
   "execution_count": 21,
   "metadata": {},
   "outputs": [
    {
     "data": {
      "text/plain": [
       "(0.02, 103, \"exp\", 2, 5.0, 50000)"
      ]
     },
     "execution_count": 21,
     "metadata": {},
     "output_type": "execute_result"
    }
   ],
   "source": [
    "dt,n,map_str,N,c,ntrials = 2e-2,103,\"exp\",2,5.,Int(5e4)"
   ]
  },
  {
   "cell_type": "code",
   "execution_count": 23,
   "metadata": {},
   "outputs": [],
   "source": [
    "pz = DataFrames.DataFrame(generative = vcat(1e-6,10.,-0.5,40.,1.,1.,0.02), \n",
    "    name = vcat(\"σ_i\",\"B\", \"λ\", \"σ_a\",\"σ_s\",\"ϕ\",\"τ_ϕ\"),\n",
    "    fit = vcat(falses(1),trues(4),falses(2)),\n",
    "    initial = vcat(1.,5.,-5,100.,2.,0.2,0.08));\n",
    "\n",
    "pz[:initial][pz[:fit] .== false] = pz[:generative][pz[:fit] .== false];"
   ]
  },
  {
   "cell_type": "code",
   "execution_count": 24,
   "metadata": {},
   "outputs": [],
   "source": [
    "pd = DataFrames.DataFrame(generative = 0.1, name = \"bias\", fit = true, initial = 0.);\n",
    "pchoice = vcat(pz,pd);"
   ]
  },
  {
   "cell_type": "code",
   "execution_count": 22,
   "metadata": {},
   "outputs": [],
   "source": [
    "data = latent_DDM_common_functions.sample_clicks(ntrials,dt);"
   ]
  },
  {
   "cell_type": "code",
   "execution_count": 25,
   "metadata": {},
   "outputs": [],
   "source": [
    "choice_observation.sampled_dataset!(data,pchoice[:generative]; num_reps=1, rng=4);"
   ]
  },
  {
   "cell_type": "code",
   "execution_count": 26,
   "metadata": {},
   "outputs": [
    {
     "data": {
      "text/html": [
       "-9752.956715366083"
      ],
      "text/plain": [
       "-9752.956715366083"
      ]
     },
     "execution_count": 26,
     "metadata": {},
     "output_type": "execute_result"
    }
   ],
   "source": [
    "choice_observation.do_LL(pchoice[:generative],dt,data,n)"
   ]
  },
  {
   "cell_type": "code",
   "execution_count": null,
   "metadata": {},
   "outputs": [
    {
     "name": "stdout",
     "output_type": "stream",
     "text": [
      "Iter     Function value   Gradient norm \n",
      "     0     1.493047e+04     5.971926e+03\n",
      "     1     1.254925e+04     1.020964e+04\n",
      "     2     1.062708e+04     8.955435e+03\n",
      "     3     1.043153e+04     2.880100e+03\n",
      "     4     1.013358e+04     3.560553e+03\n",
      "     5     1.010507e+04     1.165552e+03\n",
      "     6     1.004257e+04     7.494641e+02\n",
      "     7     1.003595e+04     4.283952e+03\n",
      "     8     9.935242e+03     3.621544e+03\n",
      "     9     9.848277e+03     1.456926e+03\n",
      "    10     9.810400e+03     1.913728e+03\n",
      "    11     9.766063e+03     9.014393e+02\n",
      "    12     9.749736e+03     3.274701e+02\n",
      "    13     9.740807e+03     2.979993e+02\n",
      "    14     9.731892e+03     1.940202e+02\n",
      "    15     9.730634e+03     7.133506e+00\n",
      "    16     9.730610e+03     6.187127e+00\n",
      "    17     9.730609e+03     6.191352e-01\n",
      "    18     9.730609e+03     7.201787e-01\n",
      "    19     9.730606e+03     2.615570e-01\n",
      "    20     9.730606e+03     1.021763e-01\n",
      "    21     9.730606e+03     1.530949e-01\n",
      "    22     9.730606e+03     9.254504e-02\n",
      "    23     9.730606e+03     1.103106e-01\n",
      "    24     9.730606e+03     1.330532e-01\n",
      "    25     9.730606e+03     1.481757e-01\n",
      "    26     9.730606e+03     1.427364e-01\n",
      "    27     9.730606e+03     1.286164e-01\n",
      "    28     9.730606e+03     1.165815e-01\n",
      "    29     9.730606e+03     1.070557e-01\n",
      "    30     9.730606e+03     9.566735e-02\n",
      "    31     9.730606e+03     9.459153e-02\n",
      "    32     9.730606e+03     9.352050e-02\n",
      "    33     9.730606e+03     9.233787e-02\n",
      "    34     9.730606e+03     9.140939e-02\n",
      "    35     9.730606e+03     9.034856e-02\n",
      "    36     9.730606e+03     8.929446e-02\n",
      "    37     9.730606e+03     8.824945e-02\n",
      "    38     9.730606e+03     8.722137e-02\n"
     ]
    }
   ],
   "source": [
    "pchoice[:final],opt_output,state = choice_observation.do_optim(copy(pchoice[:initial]),\n",
    "    pchoice[:fit],dt,data,n;map_str=map_str);"
   ]
  },
  {
   "cell_type": "code",
   "execution_count": null,
   "metadata": {},
   "outputs": [],
   "source": [
    "pchoice[:CI_z_plus], pchoice[:CI_z_minus], H = choice_observation.do_H(pchoice[:final],pchoice[:fit],\n",
    "    dt,data,n;map_str=map_str)\n",
    "\n",
    "pchoice[:within_bounds] = (pchoice[:CI_z_minus] .< pchoice[:generative]) .& (pchoice[:CI_z_plus] .> pchoice[:generative]);"
   ]
  },
  {
   "cell_type": "code",
   "execution_count": null,
   "metadata": {},
   "outputs": [],
   "source": [
    "pchoice"
   ]
  },
  {
   "cell_type": "code",
   "execution_count": null,
   "metadata": {},
   "outputs": [],
   "source": []
  }
 ],
 "metadata": {
  "anaconda-cloud": {},
  "kernelspec": {
   "display_name": "Julia 0.6.1",
   "language": "julia",
   "name": "julia-0.6"
  },
  "language_info": {
   "file_extension": ".jl",
   "mimetype": "application/julia",
   "name": "julia",
   "version": "0.6.1"
  }
 },
 "nbformat": 4,
 "nbformat_minor": 2
}
