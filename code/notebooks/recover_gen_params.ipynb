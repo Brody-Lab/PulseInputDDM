{
 "cells": [
  {
   "cell_type": "code",
   "execution_count": 1,
   "metadata": {},
   "outputs": [],
   "source": [
    "addprocs(48);"
   ]
  },
  {
   "cell_type": "code",
   "execution_count": 2,
   "metadata": {},
   "outputs": [],
   "source": [
    "@everywhere using do_maximum_likelihood\n",
    "using PyPlot, initialize_latent_model\n",
    "using global_functions, Pandas, initialize_spike_obs_model\n",
    "using StatsBase, JLD\n",
    "@everywhere using sample_model"
   ]
  },
  {
   "cell_type": "code",
   "execution_count": 3,
   "metadata": {},
   "outputs": [],
   "source": [
    "ratname = \"T036\"\n",
    "model_type_dir = \"spikes\"\n",
    "path=ENV[\"HOME\"]*\"/Dropbox/spike-data_latent-accum\";\n",
    "model_type = model_type_dir\n",
    "map_str = \"exp\";\n",
    "sessid = [157201];"
   ]
  },
  {
   "cell_type": "code",
   "execution_count": 69,
   "metadata": {},
   "outputs": [],
   "source": [
    "f_str = \"softplus\";\n",
    "#f_str = \"sig\";\n",
    "num_reps = 1;\n",
    "noise = \"Poisson\";\n",
    "#noise = \"Gaussian\";\n",
    "#          vari       inatt        B          lambda       vara          vars       phi    tau_phi \n",
    "pzstar = [1e-6,      0.,         20.,        -1.,         40.,            1.,         1.0,    0.2];\n",
    "pz0 =    [1e-6,      0.,         5.,         -2.,         10.,            0.25,       1.0,    0.2];\n",
    "fit_vec_z = [falses(2);    trues(4); falses(2)];"
   ]
  },
  {
   "cell_type": "code",
   "execution_count": 83,
   "metadata": {},
   "outputs": [],
   "source": [
    "#pyp = [[1.,10.,1.,0.],[1.,10.,0.1,0.]];\n",
    "py = [[1.,1.,0.],[1.,-1.,0.]];\n",
    "py = [py;deepcopy(py);deepcopy(py);deepcopy(py);deepcopy(py)];\n",
    "py = [py;deepcopy(py)];\n",
    "py = [py;deepcopy(py)];\n",
    "py = [py;deepcopy(py)];"
   ]
  },
  {
   "cell_type": "code",
   "execution_count": 84,
   "metadata": {},
   "outputs": [],
   "source": [
    "dt = 1e-3;\n",
    "data, = make_data(path,sessid,ratname;dt=dt,organize=\"by_trial\");"
   ]
  },
  {
   "cell_type": "code",
   "execution_count": 103,
   "metadata": {
    "scrolled": false
   },
   "outputs": [
    {
     "name": "stdout",
     "output_type": "stream",
     "text": [
      "Iter     Function value   Gradient norm \n",
      "     0     9.002514e+04     4.986401e+03\n",
      "     1     9.000493e+04     2.341398e+03\n",
      "     2     8.819181e+04     1.485836e+04\n",
      "     3     8.780997e+04     2.846771e+04\n",
      "     4     8.760687e+04     2.836044e+04\n",
      "     5     8.747073e+04     1.067183e+04\n",
      "     6     8.745749e+04     9.344346e+03\n",
      "     7     8.744278e+04     2.281083e+03\n",
      "     8     8.741830e+04     3.863907e+03\n",
      "     9     8.741181e+04     5.174210e+03\n",
      "    10     8.739904e+04     9.747054e+03\n",
      "    11     8.739630e+04     1.060125e+04\n",
      "    12     8.739539e+04     1.583926e+04\n",
      "    13     8.739368e+04     1.669778e+04\n",
      "    14     8.738123e+04     1.774796e+04\n",
      "    15     8.738013e+04     1.318832e+04\n",
      "    16     8.736741e+04     6.364004e+03\n",
      "    17     8.736332e+04     4.625186e+03\n",
      "    18     8.735647e+04     9.716859e+02\n",
      "    19     8.735093e+04     3.015294e+03\n",
      "    20     8.734528e+04     1.198185e+04\n",
      "    21     8.734383e+04     1.267279e+04\n",
      "    22     8.734046e+04     1.302522e+04\n",
      "    23     8.733764e+04     1.274992e+04\n",
      "    24     8.732526e+04     1.127518e+04\n",
      "    25     8.732059e+04     1.024290e+04\n",
      "    26     8.731872e+04     9.319689e+03\n",
      "    27     8.731830e+04     9.191192e+03\n",
      "    28     8.731730e+04     9.084570e+03\n",
      "    29     8.731582e+04     8.390696e+03\n",
      "    30     8.731213e+04     4.509983e+03\n",
      "    31     8.730994e+04     3.034972e+03\n",
      "    32     8.730955e+04     2.629782e+03\n",
      "    33     8.730900e+04     1.831990e+03\n",
      "    34     8.730876e+04     1.410404e+03\n",
      "    35     8.730785e+04     7.675598e+02\n",
      "    36     8.730636e+04     9.486253e+02\n",
      "    37     8.730601e+04     1.320591e+03\n",
      "    38     8.730594e+04     1.477815e+03\n",
      "    39     8.730561e+04     1.687294e+03\n",
      "    40     8.730529e+04     1.859810e+03\n",
      "    41     8.730506e+04     2.026719e+03\n",
      "    42     8.730504e+04     2.121858e+03\n",
      "    43     8.730473e+04     1.260682e+03\n",
      "    44     8.730448e+04     4.686260e+02\n",
      "    45     8.730445e+04     3.815383e+02\n",
      "    46     8.730428e+04     1.373242e+02\n",
      "    47     8.730419e+04     2.701660e+01\n",
      "    48     8.730418e+04     1.611975e+02\n",
      "    49     8.730408e+04     3.326042e+02\n",
      "    50     8.730407e+04     4.086289e+02\n",
      "    51     8.730404e+04     2.330020e+02\n",
      "    52     8.730399e+04     5.509128e+00\n",
      "    53     8.730399e+04     8.624996e+00\n",
      "    54     8.730393e+04     2.123260e+02\n",
      "    55     8.730393e+04     2.950654e+02\n",
      "    56     8.730389e+04     3.589673e+02\n",
      "    57     8.730383e+04     3.501515e+01\n",
      "    58     8.730379e+04     9.650769e+00\n",
      "    59     8.730379e+04     1.946803e+01\n",
      "    60     8.730378e+04     1.488312e+02\n",
      "    61     8.730378e+04     6.887961e+01\n",
      "    62     8.730376e+04     1.598991e+01\n",
      "    63     8.730376e+04     9.391765e+00\n",
      "    64     8.730376e+04     2.583169e+00\n",
      "    65     8.730376e+04     1.949816e+01\n",
      "    66     8.730376e+04     1.551351e+00\n",
      "    67     8.730376e+04     8.592305e-01\n",
      "    68     8.730376e+04     8.196651e-01\n",
      "    69     8.730376e+04     9.236777e-01\n",
      "    70     8.730376e+04     3.582771e-01\n",
      "    71     8.730376e+04     4.029736e-01\n",
      "    72     8.730376e+04     1.899734e-02\n",
      "    73     8.730376e+04     2.276914e-02\n",
      "    74     8.730376e+04     1.352538e-02\n",
      "    75     8.730376e+04     4.044925e-02\n",
      "    76     8.730376e+04     3.791167e-02\n",
      "    77     8.730376e+04     3.798263e-03\n",
      "    78     8.730376e+04     8.425146e-04\n",
      "    79     8.730376e+04     4.456312e-03\n",
      "    80     8.730376e+04     2.278622e-03\n",
      "    81     8.730376e+04     8.718233e-04\n"
     ]
    }
   ],
   "source": [
    "N = 20;\n",
    "pz3, CI_z_plus, CI_z_minus, py3, data_t_1ms = make_data_and_fit(deepcopy(data),num_reps,\n",
    "        fit_vec_z,dt,copy(pzstar),pz0,model_type,map_str,f_str,\n",
    "        betas=map(i->zeros(length(py[1])),1:N),pystar=deepcopy(py[1:N]),\n",
    "        all_sim=true,N=N,noise=noise,fity=true,fit_lambda=false,n=203,\n",
    "        x_tol=1e-16,f_tol=1e-16,g_tol=1e-12);"
   ]
  },
  {
   "cell_type": "code",
   "execution_count": null,
   "metadata": {},
   "outputs": [],
   "source": [
    "results = cat(2,CI_z_minus[fit_vec_z],pz3[fit_vec_z],CI_z_plus[fit_vec_z])\n",
    "\n",
    "pz = cat(2,results[:,2]...)\n",
    "CIminus = abs.(cat(2,results[:,1]...) - pz)\n",
    "CIplus = abs.(cat(2,results[:,3]...) - pz);\n",
    "\n",
    "CIplus[isinf.(CIplus)] = 1e8;"
   ]
  },
  {
   "cell_type": "code",
   "execution_count": 104,
   "metadata": {},
   "outputs": [],
   "source": [
    "if true\n",
    "    num_rows, num_cols = 1, 4\n",
    "    fig, ax = subplots(num_rows, num_cols, figsize=(16,6))\n",
    "    subplot_num = 0\n",
    "    param_str = [\"B\",L\"\\lambda\",L\"\\sigma_a^2\",L\"\\sigma_s^2\"]\n",
    "\n",
    "    for j in 1:num_cols\n",
    "        subplot_num += 1\n",
    "        ax[j][:errorbar](1,pz[subplot_num], yerr = cat(2,CIminus[subplot_num],CIplus[subplot_num])',fmt=\"o\")\n",
    "        ax[j][:plot](linspace(0,maximum(2),100),pzstar[fit_vec_z][subplot_num]*ones(100))\n",
    "        ax[j][:set_title](\"$(param_str[subplot_num])\",fontsize=10)\n",
    "        ax[j][:set_xlabel](\"$(length(data[\"T\"])) trials, # of neurons\",fontsize=10)\n",
    "\n",
    "        if param_str[subplot_num] == L\"\\sigma_a^2\"\n",
    "            ax[j][:set_ylim](0, 300)\n",
    "        elseif param_str[subplot_num] == L\"\\sigma_s^2\"\n",
    "            ax[j][:set_ylim](0, 5)\n",
    "        elseif param_str[subplot_num] == \"B\"\n",
    "            ax[j][:set_ylim](0, 70)\n",
    "        end\n",
    "    end\n",
    "end"
   ]
  },
  {
   "cell_type": "code",
   "execution_count": 107,
   "metadata": {},
   "outputs": [
    {
     "name": "stderr",
     "output_type": "stream",
     "text": [
      "\u001b[1m\u001b[33mWARNING: \u001b[39m\u001b[22m\u001b[33mSkipping PyCall.PyObject[PyObject <matplotlib.axes._subplots.AxesSubplot object at 0x7fba4740d4e0>, PyObject <matplotlib.axes._subplots.AxesSubplot object at 0x7fba4772e978>, PyObject <matplotlib.axes._subplots.AxesSubplot object at 0x7fba4768c208>, PyObject <matplotlib.axes._subplots.AxesSubplot object at 0x7fba47a36ac8>] because it contains a pointer\u001b[39m\n",
      "\u001b[1m\u001b[33mWARNING: \u001b[39m\u001b[22m\u001b[33mSkipping PyPlot.Figure(PyObject <matplotlib.figure.Figure object at 0x7fba47a6ff60>) because it contains a pointer\u001b[39m\n"
     ]
    }
   ],
   "source": [
    "@save path*\"/\"*ratname*\"_\"*f_str*\"_\"*string(length(sessid))*\"_sessions\"*\"_\"*string(sum(fit_vec_z))*\"_simulated_data_recovery_all_params.jld\""
   ]
  },
  {
   "cell_type": "code",
   "execution_count": 106,
   "metadata": {},
   "outputs": [
    {
     "data": {
      "text/plain": [
       "20-element Array{Array{Float64,1},1}:\n",
       " [0.85411, 0.956246, 0.776654]    \n",
       " [0.828606, -0.976636, 0.4153]    \n",
       " [0.986157, 1.02087, -0.563938]   \n",
       " [0.973189, -0.996537, 0.00375644]\n",
       " [0.967422, 1.11505, -1.03908]    \n",
       " [1.28269, -0.999712, 0.0389885]  \n",
       " [0.820409, 0.970731, 0.157762]   \n",
       " [0.886887, -1.08582, 0.27837]    \n",
       " [1.1209, 1.07554, -0.559514]     \n",
       " [0.933871, -0.955716, 0.27861]   \n",
       " [1.12441, 0.997253, -1.05368]    \n",
       " [1.06582, -1.1176, -1.19405]     \n",
       " [0.73562, 1.0819, 0.141139]      \n",
       " [1.1408, -1.08575, -0.515248]    \n",
       " [1.27323, 1.01864, -0.29578]     \n",
       " [0.977684, -0.947889, 0.524105]  \n",
       " [1.20703, 0.913633, -0.117257]   \n",
       " [0.822015, -0.988266, 0.670585]  \n",
       " [0.764178, 0.921824, 0.585548]   \n",
       " [0.698474, -0.970083, 0.300748]  "
      ]
     },
     "execution_count": 106,
     "metadata": {},
     "output_type": "execute_result"
    }
   ],
   "source": [
    "py3"
   ]
  },
  {
   "cell_type": "code",
   "execution_count": null,
   "metadata": {},
   "outputs": [],
   "source": []
  }
 ],
 "metadata": {
  "anaconda-cloud": {},
  "kernelspec": {
   "display_name": "Julia 0.6.1",
   "language": "julia",
   "name": "julia-0.6"
  },
  "language_info": {
   "file_extension": ".jl",
   "mimetype": "application/julia",
   "name": "julia",
   "version": "0.6.1"
  }
 },
 "nbformat": 4,
 "nbformat_minor": 2
}
