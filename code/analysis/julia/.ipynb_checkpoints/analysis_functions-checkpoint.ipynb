{
 "cells": [
  {
   "cell_type": "code",
   "execution_count": null,
   "metadata": {},
   "outputs": [],
   "source": [
    "module analysis_functions\n",
    "\n",
    "using DSP, Distributions\n",
    "\n",
    "function FilterSpikes(x,SD)\n",
    "\n",
    "    gausswidth = 8*SD;  # 2.5 is the default for the function gausswin\n",
    "    F = pdf.(Normal(gausswidth/2, SD),1:gausswidth);\n",
    "    F /= sum(F);\n",
    "    shift = Int(floor(length(F)/2)); # this is the amount of time that must be added to the beginning and end;\n",
    "    last = length(x); # length of incoming data\n",
    "    prefilt = cat(1,zeros(shift)+mean(x[1:SD]),x,zeros(shift)+mean(x[last-SD:last])); # pads the beginning and end with copies of first and last value (not zeros)\n",
    "    postfilt = 1000*filt(F,prefilt); # filters the data with the impulse response in Filter\n",
    "    postfilt = postfilt[2*shift:length(postfilt)-1];\n",
    "\n",
    "end"
   ]
  }
 ],
 "metadata": {
  "kernelspec": {
   "display_name": "Julia 0.6.0",
   "language": "julia",
   "name": "julia-0.6"
  },
  "language_info": {
   "file_extension": ".jl",
   "mimetype": "application/julia",
   "name": "julia",
   "version": "0.6.0"
  }
 },
 "nbformat": 4,
 "nbformat_minor": 2
}
