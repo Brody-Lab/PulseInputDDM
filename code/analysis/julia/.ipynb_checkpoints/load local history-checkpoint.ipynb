{
 "cells": [
  {
   "cell_type": "code",
   "execution_count": 1,
   "metadata": {},
   "outputs": [],
   "source": [
    "using JLD"
   ]
  },
  {
   "cell_type": "code",
   "execution_count": 3,
   "metadata": {},
   "outputs": [],
   "source": [
    "pth=\"/Users/briandepasquale/Projects/inProgress/spike-data_latent-accum\";\n",
    "tail=\"local\"; model_type = \"spikes\"; ratname=\"T036\"; #with new x0 priors, b,c,d priors, no prior on B"
   ]
  },
  {
   "cell_type": "code",
   "execution_count": 4,
   "metadata": {},
   "outputs": [],
   "source": [
    "reload_pth=pth*\"/data/results/julia/\"*model_type*\"/\"*ratname*\"/\"*tail;"
   ]
  },
  {
   "cell_type": "code",
   "execution_count": 7,
   "metadata": {},
   "outputs": [
    {
     "data": {
      "text/plain": [
       "Dict{String,Any} with 2 entries:\n",
       "  \"history\"    => [20.0; 0.001; … ; -0.637927; -1.26318]\n",
       "  \"history_gx\" => [-28.1786; -1123.93; … ; -522.252; -268.052]"
      ]
     },
     "execution_count": 7,
     "metadata": {},
     "output_type": "execute_result"
    }
   ],
   "source": [
    "history = load(reload_pth*\"/history.jld\");"
   ]
  },
  {
   "cell_type": "code",
   "execution_count": null,
   "metadata": {},
   "outputs": [],
   "source": []
  }
 ],
 "metadata": {
  "kernelspec": {
   "display_name": "Julia 0.6.0",
   "language": "julia",
   "name": "julia-0.6"
  },
  "language_info": {
   "file_extension": ".jl",
   "mimetype": "application/julia",
   "name": "julia",
   "version": "0.6.0"
  }
 },
 "nbformat": 4,
 "nbformat_minor": 2
}
