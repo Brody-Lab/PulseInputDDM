{
 "cells": [
  {
   "cell_type": "code",
   "execution_count": 1,
   "metadata": {},
   "outputs": [],
   "source": [
    "using JLD, PyPlot"
   ]
  },
  {
   "cell_type": "code",
   "execution_count": 2,
   "metadata": {},
   "outputs": [],
   "source": [
    "#spikes fit, load ML parameters and Hessian\n",
    "pth=\"/Users/briandepasquale/Projects/inProgress/spike-data_latent-accum\"\n",
    "ratname=\"T036\";\n",
    "reload_pth=pth*\"/data/results/julia/spikes/\"*ratname*\"/17918961/18074606/18080128/18081171/18093518\"; # with adaptation, 4 sessions\n",
    "p_opt,x0,N,fit_vec,data,sessid = load(reload_pth*\"/results.jld\",\"p_opt\",\"x0\",\"N\",\"fit_vec\",\"data\",\"sessid\");\n",
    "H = load(reload_pth*\"/Hessian_bounded.jld\",\"H\");"
   ]
  },
  {
   "cell_type": "code",
   "execution_count": 3,
   "metadata": {},
   "outputs": [],
   "source": [
    "p_const = x0[.!fit_vec]\n",
    "d,V = eig(H);"
   ]
  },
  {
   "cell_type": "code",
   "execution_count": 4,
   "metadata": {},
   "outputs": [
    {
     "data": {
      "text/plain": [
       "LL (generic function with 1 method)"
      ]
     },
     "execution_count": 4,
     "metadata": {},
     "output_type": "execute_result"
    }
   ],
   "source": [
    "function LL(p_const,p,nT,L,R,Nvec,spike_counts;n::Int=203,dt::Float64=2e-2)\n",
    "\n",
    "    c = Vector{Float64}(nT)\n",
    "    \n",
    "    py = reshape(p[7:end],N,4)\n",
    "    B,lambda_drift,vara,vars,phi,tau_phi = p[1:6]\n",
    "\n",
    "    xc,dx, = bins(B,n=n)\n",
    "\n",
    "    lambda = my_sigmoid(xc,py)\n",
    "    temp = broadcast(+,broadcast(*,-py[:,3]',xc),py[:,4]')\n",
    "    lambda[exp.(temp) .<= 1e-150] = broadcast(+,py[:,1]',broadcast(/,py[:,2]',ones(n,)))[exp.(temp) .<= 1e-150]\n",
    "    lambda[exp.(temp) .>= 1e150] = broadcast(*,py[:,1]',ones(n,))[exp.(temp) .>= 1e150]  \n",
    "    lambda = lambda[:,Nvec]\n",
    "\n",
    "    P = zeros(xc); \n",
    "    P[ceil(Int,n/2)] = 1.; \n",
    "    M = zeros(n,n);  \n",
    "    Mprime!(M,p_const[1],0.,0.,dx,xc,n=n); \n",
    "    P = M * P\n",
    "    \n",
    "    La, Ra = make_adapted_clicks(L,R,phi,tau_phi);\n",
    "    F = zeros(M);\n",
    "    \n",
    "    Py = exp.(broadcast(-, broadcast(-, spike_counts *  log.(lambda'*dt), sum(lambda,2)' * dt), \n",
    "        sum(lgamma.(spike_counts + 1),2)))' \n",
    "    \n",
    "    for t = 1:nT\n",
    "        \n",
    "        any(t .== data[\"hereL\"][tri]) ? sL = sum(La[t .== data[\"hereL\"][tri]]) : sL = 0.\n",
    "        any(t .== data[\"hereR\"][tri]) ? sR = sum(Ra[t .== data[\"hereR\"][tri]]) : sR = 0.\n",
    "\n",
    "        var = vars  * (sL + sR);  mu = -sL + sR\n",
    "\n",
    "        (var > 0.) ? (Mprime!(F,var+vara*dt,lambda_drift,mu/dt,dx,xc,n=n); P  = F * P;) : P = M * P\n",
    "        \n",
    "        P .*= Py[:,t]\n",
    "\n",
    "        c[t] = sum(P)\n",
    "        P /= c[t]   \n",
    "        \n",
    "    end\n",
    "    \n",
    "    return c\n",
    "    \n",
    "end"
   ]
  },
  {
   "cell_type": "code",
   "execution_count": 36,
   "metadata": {},
   "outputs": [
    {
     "ename": "LoadError",
     "evalue": "\u001b[91mDimensionMismatch(\"tried to assign 0-element array to 10×1 destination\")\u001b[39m",
     "output_type": "error",
     "traceback": [
      "\u001b[91mDimensionMismatch(\"tried to assign 0-element array to 10×1 destination\")\u001b[39m",
      "",
      "Stacktrace:",
      " [1] \u001b[1mthrow_setindex_mismatch\u001b[22m\u001b[22m\u001b[1m(\u001b[22m\u001b[22m::Array{Float64,1}, ::Tuple{Int64,Int64}\u001b[1m)\u001b[22m\u001b[22m at \u001b[1m./indices.jl:94\u001b[22m\u001b[22m",
      " [2] \u001b[1msetindex_shape_check\u001b[22m\u001b[22m\u001b[1m(\u001b[22m\u001b[22m::Array{Float64,1}, ::Int64, ::Int64\u001b[1m)\u001b[22m\u001b[22m at \u001b[1m./indices.jl:146\u001b[22m\u001b[22m",
      " [3] \u001b[1mmacro expansion\u001b[22m\u001b[22m at \u001b[1m./multidimensional.jl:501\u001b[22m\u001b[22m [inlined]",
      " [4] \u001b[1m_unsafe_setindex!\u001b[22m\u001b[22m\u001b[1m(\u001b[22m\u001b[22m::IndexLinear, ::Array{Float64,2}, ::Array{Float64,1}, ::Base.Slice{Base.OneTo{Int64}}, ::Int64\u001b[1m)\u001b[22m\u001b[22m at \u001b[1m./multidimensional.jl:496\u001b[22m\u001b[22m",
      " [5] \u001b[1mmacro expansion\u001b[22m\u001b[22m at \u001b[1m./multidimensional.jl:488\u001b[22m\u001b[22m [inlined]",
      " [6] \u001b[1m_setindex!\u001b[22m\u001b[22m at \u001b[1m./multidimensional.jl:484\u001b[22m\u001b[22m [inlined]",
      " [7] \u001b[1msetindex!\u001b[22m\u001b[22m\u001b[1m(\u001b[22m\u001b[22m::Array{Float64,2}, ::Array{Float64,1}, ::Colon, ::Int64\u001b[1m)\u001b[22m\u001b[22m at \u001b[1m./abstractarray.jl:967\u001b[22m\u001b[22m",
      " [8] \u001b[1mmacro expansion\u001b[22m\u001b[22m at \u001b[1m./In[36]:13\u001b[22m\u001b[22m [inlined]",
      " [9] \u001b[1manonymous\u001b[22m\u001b[22m at \u001b[1m./<missing>:?\u001b[22m\u001b[22m"
     ]
    }
   ],
   "source": [
    "magvec = -1:0.2:1\n",
    "mag = 1e-14;\n",
    "params = broadcast(+,p_opt,broadcast(*,mag*magvec',V[:,3]))\n",
    "grad = fill!(Array{Float64,2}(10,length(data[\"nT\"])),NaN)\n",
    "\n",
    "for tri = 1:length(data[\"nT\"])\n",
    "    \n",
    "    c = fill!(Array{Float64,2}(data[\"nT\"][tri],size(params,2)),NaN)\n",
    "\n",
    "    for i = 1:size(params,2)\n",
    "        c[:,i] = LL(p_const,params[:,i],data[\"nT\"][tri],data[\"leftbups\"][tri],data[\"rightbups\"][tri],\n",
    "            data[\"N\"][tri],data[\"spike_counts\"][tri])\n",
    "    end\n",
    "    \n",
    "    grad[:,i] = diff(vec(sum(log.(c),1)))/mag\n",
    "    \n",
    "end"
   ]
  },
  {
   "cell_type": "code",
   "execution_count": 35,
   "metadata": {},
   "outputs": [
    {
     "data": {
      "text/plain": [
       "10-element Array{Float64,1}:\n",
       "  0.0       \n",
       "  0.0       \n",
       "  0.0       \n",
       "  0.0       \n",
       " -0.355271  \n",
       "  0.0       \n",
       "  0.0       \n",
       "  0.0       \n",
       " -9.64477e13\n",
       "  0.0       "
      ]
     },
     "execution_count": 35,
     "metadata": {},
     "output_type": "execute_result"
    }
   ],
   "source": [
    "diff(vec(sum(log.(c),1)))/1e-14"
   ]
  },
  {
   "cell_type": "code",
   "execution_count": 5,
   "metadata": {},
   "outputs": [
    {
     "data": {
      "text/plain": [
       "bins (generic function with 1 method)"
      ]
     },
     "execution_count": 5,
     "metadata": {},
     "output_type": "execute_result"
    }
   ],
   "source": [
    "function bins{TT}(B::TT;n::Int=203)\n",
    "    \n",
    "    # binning\n",
    "    dx = 2.*B/(n-2);  #bin width\n",
    "    xc = vcat(collect(linspace(-(B+dx/2.),-dx,(n-1)/2.)),0.,collect(linspace(dx,(B+dx/2.),(n-1)/2))); #centers\n",
    "    xe = cat(1,xc[1]-dx/2,xc+dx/2) #edges\n",
    "    \n",
    "    return xc, dx, xe\n",
    "    \n",
    "end"
   ]
  },
  {
   "cell_type": "code",
   "execution_count": 6,
   "metadata": {},
   "outputs": [
    {
     "data": {
      "text/plain": [
       "Mprime! (generic function with 1 method)"
      ]
     },
     "execution_count": 6,
     "metadata": {},
     "output_type": "execute_result"
    }
   ],
   "source": [
    "function Mprime!{TT}(F::AbstractArray{TT,2},vara::TT,lambda::TT,h::TT,dx::TT,xc::Vector{TT}; n::Int=203, dt::Float64=2e-2)\n",
    "    \n",
    "    F[1,1] = one(TT); F[n,n] = one(TT); F[:,2:n-1] = zero(TT)\n",
    "\n",
    "    ndeltas = max(70,ceil(Int, 10.*sqrt(vara)/dx));\n",
    "\n",
    "    deltas = collect(-ndeltas:ndeltas) * (5.*sqrt(vara))/ndeltas;\n",
    "    ps = broadcast(exp, broadcast(/, -broadcast(^, deltas,2), 2.*vara)); ps = ps/sum(ps);\n",
    "\n",
    "    @inbounds for j = 2:n-1\n",
    "\n",
    "        abs(lambda) < 1e-150 ? mu = xc[j] + h * dt : mu = exp(lambda*dt)*(xc[j] + h/lambda) - h/lambda\n",
    "        \n",
    "        #now we're going to look over all the slices of the gaussian\n",
    "        for k = 1:2*ndeltas+1\n",
    "\n",
    "            s = mu + deltas[k]\n",
    "\n",
    "            if s <= xc[1]\n",
    "\n",
    "                F[1,j] += ps[k];\n",
    "\n",
    "            elseif s >= xc[n]\n",
    "\n",
    "                F[n,j] += ps[k];\n",
    "\n",
    "            else\n",
    "\n",
    "                if xc[1] < s && xc[2] > s\n",
    "\n",
    "                    lp,hp = 1,2;\n",
    "\n",
    "                elseif xc[n-1] < s && xc[n] > s\n",
    "\n",
    "                    lp,hp = n-1,n;\n",
    "\n",
    "                else\n",
    "\n",
    "                    hp,lp = ceil(Int, (s-xc[2])/dx) + 2, floor(Int, (s-xc[2])/dx) + 2;\n",
    "\n",
    "                end\n",
    "\n",
    "                if (hp == lp)\n",
    "\n",
    "                    F[lp,j] += ps[k];\n",
    "\n",
    "                else\n",
    "\n",
    "                    dd = xc[hp] - xc[lp];\n",
    "                    F[hp,j] += ps[k]*(s-xc[lp])/dd;\n",
    "                    F[lp,j] += ps[k]*(xc[hp]-s)/dd;\n",
    "\n",
    "                end\n",
    "\n",
    "            end\n",
    "\n",
    "        end\n",
    "\n",
    "    end\n",
    "\n",
    "end"
   ]
  },
  {
   "cell_type": "code",
   "execution_count": 7,
   "metadata": {},
   "outputs": [
    {
     "data": {
      "text/plain": [
       "my_sigmoid (generic function with 1 method)"
      ]
     },
     "execution_count": 7,
     "metadata": {},
     "output_type": "execute_result"
    }
   ],
   "source": [
    "function my_sigmoid(x,p)\n",
    "    \n",
    "    y = broadcast(+,p[:,1]',broadcast(/,p[:,2]',(1. + exp.(broadcast(+,broadcast(*,-p[:,3]',x),p[:,4]')))));\n",
    "    \n",
    "end"
   ]
  },
  {
   "cell_type": "code",
   "execution_count": 8,
   "metadata": {},
   "outputs": [
    {
     "data": {
      "text/plain": [
       "make_adapted_clicks (generic function with 1 method)"
      ]
     },
     "execution_count": 8,
     "metadata": {},
     "output_type": "execute_result"
    }
   ],
   "source": [
    "function make_adapted_clicks(leftbups, rightbups, phi, tau_phi)\n",
    "\n",
    "    L = ones(typeof(phi),size(leftbups));\n",
    "    R = ones(typeof(phi),size(rightbups));\n",
    "\n",
    "    if phi !== 1.\n",
    "\n",
    "    # magnitude of stereo clicks set to zero\n",
    "    if ~isempty(leftbups) && ~isempty(rightbups) && abs(leftbups[1]-rightbups[1]) < eps()\n",
    "        L[1] = eps()\n",
    "        R[1] = eps()\n",
    "    end\n",
    "\n",
    "        if length(leftbups) <= 1\n",
    "            ici_l = [];\n",
    "        else\n",
    "            ici_L = (leftbups[2:end]  - leftbups[1:end-1])'\n",
    "        end\n",
    "\n",
    "        if length(rightbups) <= 1\n",
    "            ici_R = []\n",
    "        else\n",
    "            ici_R = (rightbups[2:end]  - rightbups[1:end-1])'\n",
    "        end\n",
    "\n",
    "        for i = 2:length(leftbups)\n",
    "            if abs(1. - L[i-1]*phi) <= 1e-150\n",
    "                L[i] = 1.\n",
    "            else\n",
    "                last_L = tau_phi*log(abs(1-L[i-1]*phi))\n",
    "                L[i] = 1 - exp((-ici_L[i-1] + last_L)/tau_phi)\n",
    "            end\n",
    "        end;\n",
    "\n",
    "        for i = 2:length(rightbups)\n",
    "            if abs(1. - R[i-1]*phi) <= 1e-150\n",
    "                R[i] = 1.\n",
    "            else\n",
    "                last_R = tau_phi*log(abs(1-R[i-1]*phi))\n",
    "                R[i] = 1 - exp((-ici_R[i-1] + last_R)/tau_phi)\n",
    "            end\n",
    "        end;\n",
    "\n",
    "    end\n",
    "\n",
    "        L = real(L)\n",
    "        R = real(R)\n",
    "\n",
    "    return L, R\n",
    "\n",
    "end"
   ]
  },
  {
   "cell_type": "code",
   "execution_count": null,
   "metadata": {},
   "outputs": [],
   "source": []
  }
 ],
 "metadata": {
  "anaconda-cloud": {},
  "kernelspec": {
   "display_name": "Julia 0.6.0",
   "language": "julia",
   "name": "julia-0.6"
  },
  "language_info": {
   "file_extension": ".jl",
   "mimetype": "application/julia",
   "name": "julia",
   "version": "0.6.0"
  }
 },
 "nbformat": 4,
 "nbformat_minor": 2
}
