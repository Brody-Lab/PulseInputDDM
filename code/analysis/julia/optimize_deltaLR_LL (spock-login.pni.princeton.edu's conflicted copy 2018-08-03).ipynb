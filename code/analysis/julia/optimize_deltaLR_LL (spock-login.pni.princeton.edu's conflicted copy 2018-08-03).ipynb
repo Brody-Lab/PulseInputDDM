{
 "cells": [
  {
   "cell_type": "code",
   "execution_count": 1,
   "metadata": {},
   "outputs": [],
   "source": [
    "addprocs(4);"
   ]
  },
  {
   "cell_type": "code",
   "execution_count": 2,
   "metadata": {
    "nbpresent": {
     "id": "044602f1-172e-453d-93cb-3248a53b5dee"
    }
   },
   "outputs": [],
   "source": [
    "using JLD, PyPlot, MAT\n",
    "@everywhere using module_DDM_v4\n",
    "using analysis_functions\n",
    "using Pandas, helpers\n",
    "@everywhere using opt_diff_model, Optim, LineSearches"
   ]
  },
  {
   "cell_type": "code",
   "execution_count": 3,
   "metadata": {
    "nbpresent": {
     "id": "e8172dd5-0222-42b0-9d02-af497dd439e0"
    }
   },
   "outputs": [],
   "source": [
    "pth=ENV[\"HOME\"]*\"/Dropbox/spike-data_latent-accum\";"
   ]
  },
  {
   "cell_type": "code",
   "execution_count": 111,
   "metadata": {
    "nbpresent": {
     "id": "363c2aed-8b15-4f0d-ad03-d39c35aba768"
    }
   },
   "outputs": [],
   "source": [
    "#tail=\"18323739/8190069\"; model_type_dir = \"spikes\"; ratname=\"T036\";\n",
    "tail=\"18263622\"; model_type_dir = \"spikes\"; ratname=\"T035\";"
   ]
  },
  {
   "cell_type": "code",
   "execution_count": 112,
   "metadata": {
    "nbpresent": {
     "id": "594f0b1a-8e28-48be-aaf0-6671fd63505f"
    }
   },
   "outputs": [],
   "source": [
    "model_type_dir == \"joint\" ? (model_type = [\"choice\", \"spikes\"];) : model_type = model_type_dir;"
   ]
  },
  {
   "cell_type": "code",
   "execution_count": 113,
   "metadata": {
    "nbpresent": {
     "id": "90487f5a-b486-4e78-866c-f344a57f566e"
    }
   },
   "outputs": [],
   "source": [
    "reload_pth=pth*\"/data/results/julia/\"*model_type_dir*\"/\"*ratname*\"/\"*tail;"
   ]
  },
  {
   "cell_type": "markdown",
   "metadata": {
    "nbpresent": {
     "id": "2f4433ec-84f9-4aac-9e47-503087e954eb"
    }
   },
   "source": [
    "## Down to business"
   ]
  },
  {
   "cell_type": "code",
   "execution_count": 114,
   "metadata": {
    "nbpresent": {
     "id": "86360476-24e9-4e1d-94be-a2f891646b0d"
    }
   },
   "outputs": [],
   "source": [
    "#data = load(reload_pth*\"/results.jld\",\"data\");\n",
    "#data[\"nT\"] = repmat(data[\"nT\"],10)\n",
    "#data[\"leftbups\"] = repmat(data[\"leftbups\"],10)\n",
    "#data[\"rightbups\"] = repmat(data[\"rightbups\"],10);"
   ]
  },
  {
   "cell_type": "code",
   "execution_count": 115,
   "metadata": {},
   "outputs": [],
   "source": [
    "#create new data for sampling from model\n",
    "mydt = 1e-3;\n",
    "\n",
    "ratname == \"T036\" ? sessid = [157201,157357,157507,168499] : sessid = [169448,167725,166135,164900]\n",
    "#ratname == \"T036\" ? sessid = 157201 : sessid = 166135\n",
    "\n",
    "data, N = make_data(pth,sessid,ratname;dt=mydt);"
   ]
  },
  {
   "cell_type": "code",
   "execution_count": 116,
   "metadata": {},
   "outputs": [],
   "source": [
    "ΔLR = map((x,y,z)->diffLR(x,y,z,path=true,dt=mydt),data[\"nT\"],data[\"leftbups\"],data[\"rightbups\"]);"
   ]
  },
  {
   "cell_type": "code",
   "execution_count": 117,
   "metadata": {},
   "outputs": [],
   "source": [
    "kind = \"exp\";"
   ]
  },
  {
   "cell_type": "markdown",
   "metadata": {
    "nbpresent": {
     "id": "f44c708f-e4a8-4c6c-8878-78d5a5232646"
    }
   },
   "source": [
    "## Make new data"
   ]
  },
  {
   "cell_type": "code",
   "execution_count": 10,
   "metadata": {},
   "outputs": [],
   "source": [
    "#create new dataset, and organize \"by neuron\"\n",
    "N = 3;\n",
    "\n",
    "#make sigmoid parameters\n",
    "py = map(i->cat(1,log.(10*rand(1)), log.(30*rand(1)), 2*sign.(randn(2)).*rand(2)),1:N);"
   ]
  },
  {
   "cell_type": "code",
   "execution_count": 12,
   "metadata": {},
   "outputs": [],
   "source": [
    "#map rate parameters\n",
    "map(x->map_func_fr!(x,kind),py)\n",
    "\n",
    "#make firing rates\n",
    "λ_samp = map(neuron->map(i->my_sigmoid_2(ΔLR[i],py[neuron]),data[\"trial\"][neuron]),1:N);\n",
    "\n",
    "#remap\n",
    "map(x->inv_map_func_fr!(x,kind),py)\n",
    "\n",
    "#make spikes\n",
    "data[\"spike_counts\"] = map(λ->map(i->make_spikes(λ[i],dt=mydt),1:length(λ)),λ_samp);\n",
    "data[\"trial\"] = data[\"trial\"][1:N];\n",
    "\n",
    "ΔLR = map((x,y,z)->diffLR(x,y,z,path=true,dt=mydt),data[\"nT\"][data[\"trial\"][end]],\n",
    "    data[\"leftbups\"][data[\"trial\"][end]],data[\"rightbups\"][data[\"trial\"][end]]);"
   ]
  },
  {
   "cell_type": "code",
   "execution_count": 13,
   "metadata": {},
   "outputs": [
    {
     "data": {
      "text/plain": [
       "3-element Array{Float64,1}:\n",
       " -2663.15\n",
       " -6515.68\n",
       " -5887.76"
      ]
     },
     "execution_count": 13,
     "metadata": {},
     "output_type": "execute_result"
    }
   ],
   "source": [
    "#compute true loglikelihood for each neuron\n",
    "pmap((p,k,trials)->ll_func(p,k,trials,ΔLR),py,data[\"spike_counts\"],data[\"trial\"])"
   ]
  },
  {
   "cell_type": "code",
   "execution_count": 14,
   "metadata": {},
   "outputs": [
    {
     "data": {
      "text/plain": [
       "3-element Array{Array{Float64,1},1}:\n",
       " [2.2948, 6.31934, 0.90298, 1.14388]  \n",
       " [7.87522, 22.3254, -1.24752, 0.29554]\n",
       " [5.01333, 25.497, -1.29608, 0.938745]"
      ]
     },
     "execution_count": 14,
     "metadata": {},
     "output_type": "execute_result"
    }
   ],
   "source": [
    "#map real parameters\n",
    "map(x->map_func_fr!(x,kind),py)"
   ]
  },
  {
   "cell_type": "markdown",
   "metadata": {},
   "source": [
    "## Optimize"
   ]
  },
  {
   "cell_type": "code",
   "execution_count": 118,
   "metadata": {
    "nbpresent": {
     "id": "221001bf-dce2-4bfa-b462-b9b35d2c98dd"
    }
   },
   "outputs": [],
   "source": [
    "#make sigmoid parameters\n",
    "py0 = cat(1,log.(1e-2),log.(1e-2), zeros(2));"
   ]
  },
  {
   "cell_type": "code",
   "execution_count": 119,
   "metadata": {
    "nbpresent": {
     "id": "9740d3c9-a78f-4298-a6e5-d95afb873e09"
    }
   },
   "outputs": [],
   "source": [
    "#define optimization function\n",
    "@everywhere opt_func(p0,k,trials,ΔLR) = Optim.minimizer(optimize(p0 -> -1*ll_func(p0,k,trials,ΔLR), \n",
    "        p0, method = Optim.BFGS(alphaguess = InitialStatic(alpha=1.0,scaled=true), \n",
    "        linesearch = BackTracking()), autodiff=:forward, g_tol = 1e-12, x_tol = 1e-16, \n",
    "        f_tol = 1e-16, iterations = 1000, show_trace = false, allow_f_increases = true));"
   ]
  },
  {
   "cell_type": "code",
   "execution_count": 120,
   "metadata": {
    "nbpresent": {
     "id": "74b24861-e9cb-4c79-9da8-8e07c9ea0a5c"
    }
   },
   "outputs": [],
   "source": [
    "#optimize all neurons\n",
    "pystar = pmap((k,trials)->opt_func(py0,k,trials,ΔLR),data[\"spike_counts\"],data[\"trial\"]);"
   ]
  },
  {
   "cell_type": "code",
   "execution_count": 121,
   "metadata": {},
   "outputs": [
    {
     "data": {
      "text/plain": [
       "12-element Array{Float64,1}:\n",
       " -11631.8 \n",
       " -43443.5 \n",
       "  -4478.75\n",
       " -34580.0 \n",
       " -10454.6 \n",
       "  -5260.82\n",
       " -45013.1 \n",
       " -17739.0 \n",
       "  -1941.66\n",
       " -17567.1 \n",
       " -11459.7 \n",
       " -41899.1 "
      ]
     },
     "execution_count": 121,
     "metadata": {},
     "output_type": "execute_result"
    }
   ],
   "source": [
    "#compute inital loglikelihood for each neuron\n",
    "pmap((k,trials)->ll_func(py0,k,trials,ΔLR),data[\"spike_counts\"],data[\"trial\"])"
   ]
  },
  {
   "cell_type": "code",
   "execution_count": 122,
   "metadata": {},
   "outputs": [
    {
     "data": {
      "text/plain": [
       "12-element Array{Float64,1}:\n",
       "  -6250.7 \n",
       " -18186.9 \n",
       "  -2820.67\n",
       " -15418.8 \n",
       "  -9079.46\n",
       "  -4987.62\n",
       " -29734.0 \n",
       " -14124.3 \n",
       "  -1737.28\n",
       " -15337.3 \n",
       " -10667.3 \n",
       " -30743.2 "
      ]
     },
     "execution_count": 122,
     "metadata": {},
     "output_type": "execute_result"
    }
   ],
   "source": [
    "#compute star loglikelihood for each neuron\n",
    "pmap((p,k,trials)->ll_func(p,k,trials,ΔLR),pystar,data[\"spike_counts\"],data[\"trial\"])"
   ]
  },
  {
   "cell_type": "code",
   "execution_count": 123,
   "metadata": {},
   "outputs": [
    {
     "data": {
      "text/plain": [
       "4-element Array{Float64,1}:\n",
       " 0.01\n",
       " 0.01\n",
       " 0.0 \n",
       " 0.0 "
      ]
     },
     "execution_count": 123,
     "metadata": {},
     "output_type": "execute_result"
    }
   ],
   "source": [
    "#map initial parameters\n",
    "map_func_fr!(py0,kind)"
   ]
  },
  {
   "cell_type": "code",
   "execution_count": 124,
   "metadata": {},
   "outputs": [
    {
     "data": {
      "text/plain": [
       "12-element Array{Array{Float64,1},1}:\n",
       " [6.15955, 1.28869, -0.89926, -1.82057]         \n",
       " [23.2834, 36.9331, -0.108914, 2.94122]         \n",
       " [2.32521, 0.248572, -52.3979, -25.7417]        \n",
       " [12.4637, 4.35441e11, -0.0231066, 24.9544]     \n",
       " [7.68021, 0.600083, 41.4716, -643.639]         \n",
       " [2.4482, 1.93709, 0.0955062, -1.80033]         \n",
       " [29.8336, 6.72574, -0.542894, -9.0595]         \n",
       " [1.33742e-8, 8.20436e111, -0.00871174, 255.052]\n",
       " [1.37902, 5.30755e-13, -7.71067, -54.7821]     \n",
       " [18.5114, 7.4866e-11, 5.47224, -14.8133]       \n",
       " [11.4894, 1.92864, 0.707464, 5.40183]          \n",
       " [43.6816, 2.70904e7, -0.0546958, 16.8677]      "
      ]
     },
     "execution_count": 124,
     "metadata": {},
     "output_type": "execute_result"
    }
   ],
   "source": [
    "#map pystar parameters\n",
    "map(x->map_func_fr!(x,kind),pystar)"
   ]
  },
  {
   "cell_type": "code",
   "execution_count": 125,
   "metadata": {},
   "outputs": [],
   "source": [
    "@everywhere function x0_spikes2(ΔLR,k,kind;dt::Float64=1e-3)\n",
    "        \n",
    "    p0 = [1e-2,1e-2,0.,0.];\n",
    "    p0 = inv_map_func_fr!(p0,kind);\n",
    "\n",
    "    x0_C(p) = sum((my_sigmoid_2(ΔLR,map_func_fr!(p,kind)) - k/dt).^2)\n",
    "\n",
    "    od = OnceDifferentiable(x0_C,p0; autodiff=:forward)\n",
    "        results = optimize(od, p0, BFGS(alphaguess = LineSearches.InitialStatic(alpha=1.0,scaled=true), \n",
    "        linesearch = BackTracking()), Optim.Options(g_tol = 1e-12, x_tol = 1e-16, \n",
    "        f_tol = 1e-16, allow_f_increases = true))   \n",
    "\n",
    "    x0y = results.minimizer;          \n",
    "    x0y = map_func_fr!(x0y,kind);\n",
    "    \n",
    "    return x0y\n",
    "    \n",
    "end"
   ]
  },
  {
   "cell_type": "code",
   "execution_count": null,
   "metadata": {},
   "outputs": [],
   "source": [
    "pystar2 = pmap((k,trials)->x0_spikes2(vcat(ΔLR[trials]...),vcat(k...),kind;dt=mydt),\n",
    "    data[\"spike_counts\"],data[\"trial\"]);"
   ]
  },
  {
   "cell_type": "code",
   "execution_count": null,
   "metadata": {},
   "outputs": [],
   "source": [
    "pystar2"
   ]
  },
  {
   "cell_type": "markdown",
   "metadata": {
    "nbpresent": {
     "id": "3e52064a-4f27-4f59-9232-52badd6ad86f"
    }
   },
   "source": [
    "## Binning data and plotting"
   ]
  },
  {
   "cell_type": "code",
   "execution_count": null,
   "metadata": {
    "nbpresent": {
     "id": "375c1507-a918-457e-bc1d-c790f101158f"
    }
   },
   "outputs": [],
   "source": [
    "nconds = 11;\n",
    "\n",
    "conds_bins = map(x->qcut(vcat(ΔLR[x]...),nconds,labels=false,duplicates=\"drop\",retbins=true),data[\"trial\"]);\n",
    "fr = map(j -> map(i -> (1/mydt)*mean(vcat(data[\"spike_counts\"][j]...)[conds_bins[j][1] .== i]),0:nconds-1),1:N); #this doesn't work anymore"
   ]
  },
  {
   "cell_type": "code",
   "execution_count": null,
   "metadata": {
    "nbpresent": {
     "id": "e1437fd2-65ab-4259-86a4-5420704f9e03"
    },
    "scrolled": false
   },
   "outputs": [],
   "source": [
    "fig, ax = subplots(N,1, figsize=(6,56))\n",
    "\n",
    "for i = 1:N\n",
    "    \n",
    "    xc = conds_bins[i][2][1:end-1] + diff(conds_bins[i][2])/2;\n",
    "    \n",
    "    ax[i][:scatter](xc,fr[i],color=\"grey\",label=\"data\")\n",
    "    ax[i][:plot](xc,my_sigmoid_2(xc,pystar[i]),color=\"red\",label=\"new way\")\n",
    "    ax[i][:plot](xc,my_sigmoid_2(xc,py0),color=\"green\",label=\"initial\")\n",
    "    #ax[i][:plot](xc,my_sigmoid_2(xc,py[i]),color=\"blue\",label=\"true\")\n",
    "    ax[i][:plot](xc,my_sigmoid_2(xc,pystar2[i]),color=\"orange\",label=\"old way\")\n",
    "    \n",
    "    ax[i][:set_ylabel](\"rate\")\n",
    "    ax[i][:set_xlabel](L\"\\Delta_{LR}(T)\")\n",
    "    ax[i][:set_xlim](-40,40);\n",
    "    ax[i][:spines][\"top\"][:set_color](\"none\") # Remove the top axis boundary\n",
    "    ax[i][:spines][\"right\"][:set_color](\"none\") # Remove the top axis boundary\n",
    "    ax[i][:legend](loc=\"lower left\")\n",
    "    \n",
    "end\n",
    "#savefig(pth*\"/figures/labmeeting/\"*ratname*\"_\"*model_type_dir*\"_tanh_psychometric.png\")"
   ]
  },
  {
   "cell_type": "markdown",
   "metadata": {},
   "source": [
    "## Dangling bits"
   ]
  },
  {
   "cell_type": "code",
   "execution_count": 69,
   "metadata": {
    "nbpresent": {
     "id": "c7fd73d5-65e6-44a4-bc7c-cefcee76f1e3"
    }
   },
   "outputs": [
    {
     "ename": "LoadError",
     "evalue": "\u001b[91mMethodError: no method matching package_data!(::Dict{String,Any}, ::Dict{String,Any}, ::Array{String,1}, ::Int64, ::Int64; dt=0.02)\u001b[0m\nClosest candidates are:\n  package_data!(::Any, ::Any, ::Any; dt, organize) at /Users/briandepasquale/Projects/inProgress/spike-data_latent-accum/code/julia/helpers.jl:64\u001b[39m",
     "output_type": "error",
     "traceback": [
      "\u001b[91mMethodError: no method matching package_data!(::Dict{String,Any}, ::Dict{String,Any}, ::Array{String,1}, ::Int64, ::Int64; dt=0.02)\u001b[0m\nClosest candidates are:\n  package_data!(::Any, ::Any, ::Any; dt, organize) at /Users/briandepasquale/Projects/inProgress/spike-data_latent-accum/code/julia/helpers.jl:64\u001b[39m",
      "",
      "Stacktrace:",
      " [1] \u001b[1mmacro expansion\u001b[22m\u001b[22m at \u001b[1m./In[69]:17\u001b[22m\u001b[22m [inlined]",
      " [2] \u001b[1manonymous\u001b[22m\u001b[22m at \u001b[1m./<missing>:?\u001b[22m\u001b[22m",
      " [3] \u001b[1minclude_string\u001b[22m\u001b[22m\u001b[1m(\u001b[22m\u001b[22m::String, ::String\u001b[1m)\u001b[22m\u001b[22m at \u001b[1m./loading.jl:515\u001b[22m\u001b[22m"
     ]
    }
   ],
   "source": [
    "#create new data for sampling from model\n",
    "\n",
    "in_pth = pth*\"/data/hanks_data_sessions\"\n",
    "\n",
    "data2 = Dict(\"leftbups\" => Array{Float64}[], \"rightbups\" => Array{Float64}[], \n",
    "            \"T\" => Float64[], \"hereL\" => Array{Int64}[], \"hereR\" => Array{Int64}[],\n",
    "            \"nT\" => Int64[], \"pokedR\" => Bool[], \"spike_counts\" => Array{Int64}[], \n",
    "            \"N\" => Array{Int64}[], \"correct_dir\" => Bool[],\n",
    "            \"sessid\" => Int[])\n",
    "\n",
    "t0 = 0;\n",
    "N0 = 0;\n",
    "\n",
    "for i = 1:length(sessid)\n",
    "    file = matopen(in_pth*\"/\"*ratname*\"_\"*string(sessid[i])*\".mat\")\n",
    "    rawdata = read(file,\"rawdata\")\n",
    "    data2,t0,N0 = package_data!(data2,rawdata,[\"spikes\"],t0,N0,dt=2e-2)\n",
    "end\n",
    "N = N0;"
   ]
  },
  {
   "cell_type": "code",
   "execution_count": 21,
   "metadata": {
    "nbpresent": {
     "id": "73809b5c-0b00-4bb4-ac43-12651de590f6"
    }
   },
   "outputs": [],
   "source": [
    "nbins2 = 20;\n",
    "mSC2 = Array{Float64,2}(nbins2,N);\n",
    "num_data = Array{Float64,2}(nbins2,N);\n",
    "temp2 = vcat(ΔLR...);\n",
    "\n",
    "xediffLR2 = linspace(minimum(temp2),maximum(temp2),nbins2 + 1);\n",
    "xc2 = xediffLR2[1:end-1]+mean(diff(xediffLR2))/2;\n",
    "\n",
    "for j = 1:N\n",
    "    \n",
    "    temp1 = vcat(data[\"spike_counts\"][j]...);\n",
    "    \n",
    "    for i = 1:nbins2\n",
    "        mSC2[i,j] = (1/mydt) * mean(temp1[(temp2 .>= xediffLR2[i]) .& (temp2 .< xediffLR2[i+1])]);\n",
    "        num_data[i,j] = length(temp1[(temp2 .>= xediffLR2[i]) .& (temp2 .< xediffLR2[i+1])])\n",
    "    end\n",
    "    \n",
    "end"
   ]
  },
  {
   "cell_type": "code",
   "execution_count": 27,
   "metadata": {
    "collapsed": true,
    "nbpresent": {
     "id": "931829ce-b8dc-4b26-8570-6b8049f30b8d"
    }
   },
   "outputs": [
    {
     "data": {
      "text/plain": [
       "12×4 Array{Float64,2}:\n",
       " 19.9888     8.39758     -0.628975     -3.22603 \n",
       "  0.964895   2.75524     -1.31598      -4.80008 \n",
       " 20.2397    18.9859       0.220353      1.38118 \n",
       " 20.9226     3.73841   -184.672      -211.922   \n",
       "  0.940697   1.4868      -2.54405      -7.44369 \n",
       " 16.062     25.932        0.0897874     0.770666\n",
       " 20.6558     9.81194     -0.143027      0.481584\n",
       "  1.05261    4.01621     -0.712512     -2.72006 \n",
       " 14.0877     5.58256      0.476742      2.51589 \n",
       "  6.10329    3.10894    -22.2338     -133.495   \n",
       " 27.1032    95.8155       0.0433593     0.698334\n",
       "  4.64261    0.759692    22.9164      -20.3367  "
      ]
     },
     "execution_count": 27,
     "metadata": {},
     "output_type": "execute_result"
    }
   ],
   "source": [
    "betas2,mu02 = compute_priors(\"spikes\",N)\n",
    "py02 = x0_spikes(data2,N,betas2,mu02,kind,dt=2e-2)"
   ]
  },
  {
   "cell_type": "code",
   "execution_count": null,
   "metadata": {
    "nbpresent": {
     "id": "3763be8d-bac2-4f3e-9903-2819d77a8e3d"
    }
   },
   "outputs": [],
   "source": [
    "#a,b, max binnec fr"
   ]
  },
  {
   "cell_type": "code",
   "execution_count": 28,
   "metadata": {
    "nbpresent": {
     "id": "3026ddf9-c7e7-4e1d-bcc1-8ece212935d8"
    }
   },
   "outputs": [],
   "source": [
    "tail=\"18359421\"; model_type_dir = \"spikes\"; ratname=\"T036\";\n",
    "reload_pth=pth*\"/data/results/julia/\"*model_type_dir*\"/\"*ratname*\"/\"*tail;\n",
    "x0 = load(reload_pth*\"/results.jld\",\"x0\");"
   ]
  },
  {
   "cell_type": "code",
   "execution_count": 30,
   "metadata": {
    "nbpresent": {
     "id": "0a1c7f52-d01b-4da1-9768-3f62a30876fa"
    }
   },
   "outputs": [
    {
     "data": {
      "text/plain": [
       "12×4 Array{Float64,2}:\n",
       " 19.9888     8.39758    -0.628975     -3.22603 \n",
       "  0.964895   2.75524    -1.31598      -4.80008 \n",
       " 20.2397    18.9859      0.220353      1.38118 \n",
       " 20.9226     3.73841   -90.8646     -166.707   \n",
       "  0.940697   1.4868     -2.54402      -7.44361 \n",
       " 16.062     25.932       0.0897876     0.770666\n",
       " 20.6558     9.81194    -0.143027      0.481584\n",
       "  1.05261    4.01621    -0.712512     -2.72006 \n",
       " 14.0877     5.58256     0.476742      2.51589 \n",
       "  6.10327    3.10895   -10.4539      -62.8157  \n",
       " 27.1044    95.8108      0.0433614     0.698321\n",
       "  4.64531    0.887049   23.6493       10.2385  "
      ]
     },
     "execution_count": 30,
     "metadata": {},
     "output_type": "execute_result"
    }
   ],
   "source": [
    "reshape(x0[9:end],12,4)"
   ]
  },
  {
   "cell_type": "code",
   "execution_count": 31,
   "metadata": {
    "nbpresent": {
     "id": "fead9b47-603e-44ef-8a5b-1fe505096d1f"
    }
   },
   "outputs": [],
   "source": [
    "betas = Array{Float64,2}(N,4)\n",
    "mu0 = Array{Float64,2}(N,4)\n",
    "\n",
    "for j = 1:N\n",
    "    betas[j,:] = [0.,0.,0.,0.];\n",
    "    mu0[j,:] = [1e-2,1e-2,0.,0.];\n",
    "end\n",
    "\n",
    "betas = vec(betas);\n",
    "mu0 = vec(mu0);"
   ]
  },
  {
   "cell_type": "code",
   "execution_count": 35,
   "metadata": {
    "nbpresent": {
     "id": "c6daf2b1-74c2-451f-a107-ece40d8d4355"
    }
   },
   "outputs": [],
   "source": [
    "od = OnceDifferentiable(x->ll, py0; autodiff=:forward);"
   ]
  },
  {
   "cell_type": "code",
   "execution_count": 31,
   "metadata": {
    "nbpresent": {
     "id": "49a1333c-1c0b-49c0-8b96-8ecda830bc94"
    }
   },
   "outputs": [
    {
     "name": "stdout",
     "output_type": "stream",
     "text": [
      " 71.085731 seconds (700.72 k allocations: 94.514 GiB, 23.59% gc time)\n"
     ]
    }
   ],
   "source": [
    "@time Optim.minimizer(optimize(x -> ll_func(x,vcat(data[\"spike_counts\"][1]...),vcat(ΔLR[data[\"trial\"][1]]...)), \n",
    "        py0[1,:], method = BFGS(alphaguess = LineSearches.InitialStatic(alpha=1.0,scaled=true), \n",
    "        linesearch = BackTracking()), autodiff=:forward, g_tol = 1e-12, x_tol = 1e-16, \n",
    "        f_tol = 1e-16, iterations = 1000, show_trace = false, allow_f_increases = true));"
   ]
  },
  {
   "cell_type": "code",
   "execution_count": 7,
   "metadata": {
    "nbpresent": {
     "id": "b77cb734-4eed-4be7-b7dd-b2b9f4c45fb2"
    }
   },
   "outputs": [
    {
     "data": {
      "text/plain": [
       "LL_all (generic function with 1 method)"
      ]
     },
     "execution_count": 7,
     "metadata": {},
     "output_type": "execute_result"
    }
   ],
   "source": [
    "function LL_all{TT}(py::Array{TT}, data::Dict, N::Int, kind::String, ΔLR::Array{Array{Int64,1},1}; dt::Float64=2e-2)\n",
    "    \n",
    "    py = map(i->map_func_fr(py[i,:],kind),1:N)\n",
    "    \n",
    "    output = reduce(+, pmap((N,k,ΔLR) -> LL_one(py[N], k ,ΔLR, dt = dt), data[\"N\"], data[\"spike_counts\"], ΔLR))  \n",
    "    \n",
    "    return output\n",
    "    \n",
    "    #return -(sum(output) - sum(beta .* (vec(py) - mu0).^2))    \n",
    "\n",
    "end\n",
    "\n",
    "function LL_one(py,k,ΔLR;dt::Float64=2e-2)\n",
    "    \n",
    "    λ = map(neuron -> my_sigmoid_2(ΔLR,py[neuron]),1:length(py));      \n",
    "    LL = reduce(+, map((k,λ) -> reduce(+, poiss_likelihood(k,λ,dt)), k, λ))  \n",
    "    \n",
    "    return LL\n",
    "    \n",
    "end\n",
    "\n",
    "ll(x) = -1*LL_all(x, data, N, kind, ΔLR, dt = mydt) "
   ]
  }
 ],
 "metadata": {
  "anaconda-cloud": {},
  "kernelspec": {
   "display_name": "Julia 0.6.1",
   "language": "julia",
   "name": "julia-0.6"
  },
  "language_info": {
   "file_extension": ".jl",
   "mimetype": "application/julia",
   "name": "julia",
   "version": "0.6.1"
  },
  "nbpresent": {
   "slides": {
    "e24b9174-f280-4c0d-b028-f445274e7fe7": {
     "id": "e24b9174-f280-4c0d-b028-f445274e7fe7",
     "layout": "grid",
     "prev": null,
     "regions": {
      "587ac977-c8a0-4014-99ad-2d71d106ceb4": {
       "attrs": {
        "height": 0.6666666666666666,
        "pad": 0.01,
        "treemap:weight": 1,
        "width": 0.5,
        "x": 0.5,
        "y": 0
       },
       "id": "587ac977-c8a0-4014-99ad-2d71d106ceb4"
      },
      "959a93f8-edee-4811-b21d-ee699d27423c": {
       "attrs": {
        "height": 0.6666666666666666,
        "pad": 0.01,
        "treemap:weight": 1,
        "width": 0.5,
        "x": 0,
        "y": 0
       },
       "id": "959a93f8-edee-4811-b21d-ee699d27423c"
      },
      "c0fbc60a-9423-435a-824f-e948e7021d7a": {
       "attrs": {
        "height": 0.3333333333333333,
        "pad": 0.01,
        "treemap:weight": 1,
        "width": 1,
        "x": 0,
        "y": 0.6666666666666666
       },
       "id": "c0fbc60a-9423-435a-824f-e948e7021d7a"
      }
     }
    }
   },
   "themes": {}
  }
 },
 "nbformat": 4,
 "nbformat_minor": 2
}
