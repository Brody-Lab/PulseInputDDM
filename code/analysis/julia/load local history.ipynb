{
 "cells": [
  {
   "cell_type": "code",
   "execution_count": 1,
   "metadata": {},
   "outputs": [],
   "source": [
    "using JLD"
   ]
  },
  {
   "cell_type": "code",
   "execution_count": 2,
   "metadata": {},
   "outputs": [],
   "source": [
    "pth=\"/Users/briandepasquale/Projects/inProgress/spike-data_latent-accum\";\n",
    "tail=\"local\"; model_type = \"spikes\"; ratname=\"T036\"; #with new x0 priors, b,c,d priors, no prior on B"
   ]
  },
  {
   "cell_type": "code",
   "execution_count": 3,
   "metadata": {},
   "outputs": [],
   "source": [
    "reload_pth=pth*\"/data/results/julia/\"*model_type*\"/\"*ratname*\"/\"*tail;"
   ]
  },
  {
   "cell_type": "code",
   "execution_count": 4,
   "metadata": {},
   "outputs": [],
   "source": [
    "history = load(reload_pth*\"/history.jld\");"
   ]
  },
  {
   "cell_type": "code",
   "execution_count": 5,
   "metadata": {},
   "outputs": [
    {
     "data": {
      "text/plain": [
       "Dict{String,Any} with 2 entries:\n",
       "  \"history\"    => [20.0 20.0539 … 26.8188 27.6117; 0.001 6.71762 … 11.6197 11.9…\n",
       "  \"history_gx\" => [-2.43146 0.528469 … 0.694488 0.139433; -367.045 -48.4355 … 3…"
      ]
     },
     "execution_count": 5,
     "metadata": {},
     "output_type": "execute_result"
    }
   ],
   "source": [
    "history"
   ]
  },
  {
   "cell_type": "code",
   "execution_count": 6,
   "metadata": {},
   "outputs": [
    {
     "data": {
      "text/plain": [
       "12×4 Array{Float64,2}:\n",
       " 25.075      2.97267  -9.99      -9.99   \n",
       "  0.382661   5.03479  -4.60732   -5.63498\n",
       " 18.2162    15.569     7.52884    7.55686\n",
       " 19.3444     5.54082   0.188645  -5.01678\n",
       "  0.542996   2.68619  -5.07485   -7.09601\n",
       " 18.2578    14.0072    9.98999    9.99001\n",
       " 23.3808     2.78996  -9.53902   -9.99   \n",
       "  0.695725   6.31793  -6.26519   -9.98999\n",
       " 11.1873    10.8548    0.138397   1.351  \n",
       "  7.4328     2.25597  -9.54916   -9.99   \n",
       " 44.7529    29.991     9.98999    9.99   \n",
       "  4.45472    1.18279   9.99       4.16681"
      ]
     },
     "execution_count": 6,
     "metadata": {},
     "output_type": "execute_result"
    }
   ],
   "source": [
    "reshape(history[\"history\"][7:end,end],12,4)"
   ]
  },
  {
   "cell_type": "code",
   "execution_count": 7,
   "metadata": {},
   "outputs": [
    {
     "data": {
      "text/plain": [
       "6×24 Array{Float64,2}:\n",
       " 20.0       20.0539      20.0544      …  25.3129    26.8188    27.6117  \n",
       "  0.001      6.71762      7.63625        10.9429    11.6197    11.9095  \n",
       "  2.30259    2.30092      2.29951         2.07665    2.01122    1.93445 \n",
       "  0.0       -0.00127349  -0.00243864     -0.158827  -0.20342   -0.254913\n",
       "  0.999999   1.19469      1.22183         1.30324    1.30305    1.31994 \n",
       "  0.2        0.193502     0.192264    …   0.181991   0.182843   0.184529"
      ]
     },
     "execution_count": 7,
     "metadata": {},
     "output_type": "execute_result"
    }
   ],
   "source": [
    "history[\"history\"][1:6,:]"
   ]
  },
  {
   "cell_type": "code",
   "execution_count": null,
   "metadata": {},
   "outputs": [],
   "source": []
  }
 ],
 "metadata": {
  "kernelspec": {
   "display_name": "Julia 0.6.0",
   "language": "julia",
   "name": "julia-0.6"
  },
  "language_info": {
   "file_extension": ".jl",
   "mimetype": "application/julia",
   "name": "julia",
   "version": "0.6.0"
  }
 },
 "nbformat": 4,
 "nbformat_minor": 2
}
