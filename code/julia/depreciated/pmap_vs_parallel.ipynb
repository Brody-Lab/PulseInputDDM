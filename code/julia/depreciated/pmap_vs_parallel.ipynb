{
 "cells": [
  {
   "cell_type": "code",
   "execution_count": 1,
   "metadata": {},
   "outputs": [],
   "source": [
    "addprocs(4);"
   ]
  },
  {
   "cell_type": "code",
   "execution_count": 2,
   "metadata": {},
   "outputs": [],
   "source": [
    "###########################################################################################\n",
    "\n",
    "@everywhere using latent_model\n",
    "using LineSearches, Optim, JLD, ForwardDiff, Pandas\n",
    "using global_functions, initialize_latent_model, initialize_spike_obs_model\n",
    "@everywhere using sample_model, PyPlot"
   ]
  },
  {
   "cell_type": "code",
   "execution_count": 3,
   "metadata": {},
   "outputs": [],
   "source": [
    "###########################################################################################\n",
    "## External inputs\n",
    "\n",
    "ratname = \"T036\"\n",
    "model_type_dir = \"spikes\"\n",
    "path=ENV[\"HOME\"]*\"/Dropbox/spike-data_latent-accum\";"
   ]
  },
  {
   "cell_type": "code",
   "execution_count": 4,
   "metadata": {},
   "outputs": [],
   "source": [
    "###########################################################################################\n",
    "## Constants\n",
    "\n",
    "model_type = model_type_dir\n",
    "map_str = \"exp\"\n",
    "dt = 2e-2;\n",
    "dimy = 4;\n",
    "noise = \"Poisson\";"
   ]
  },
  {
   "cell_type": "code",
   "execution_count": 5,
   "metadata": {},
   "outputs": [],
   "source": [
    "###########################################################################################\n",
    "## Define a closure over optimization function\n",
    "\n",
    "@everywhere ll(x) = ll_wrapper(x, p_const, fit_vec, data, model_type,\n",
    "    beta_y=beta_y, mu0_y=mu0_y, noise=noise, n=103);"
   ]
  },
  {
   "cell_type": "code",
   "execution_count": 6,
   "metadata": {},
   "outputs": [],
   "source": [
    "###########################################################################################\n",
    "## Load data\n",
    "\n",
    "sessid = [157201];"
   ]
  },
  {
   "cell_type": "code",
   "execution_count": 7,
   "metadata": {},
   "outputs": [],
   "source": [
    "data,N = make_data(path,sessid,ratname;dt=dt,organize=\"by_trial\");"
   ]
  },
  {
   "cell_type": "code",
   "execution_count": 8,
   "metadata": {},
   "outputs": [],
   "source": [
    "p_y_star = map(i->[1.,10.,0.1,0.],1:N);\n",
    "p_z_star = [10.,      0.,         10., -2.,        40.,    1e-6,      1.,    0.2];"
   ]
  },
  {
   "cell_type": "code",
   "execution_count": 9,
   "metadata": {},
   "outputs": [],
   "source": [
    "kwargs = ((:py,p_y_star))\n",
    "sampled_dataset!(data, p_z_star, rng = 2, num_reps=10, noise=noise; kwargs);"
   ]
  },
  {
   "cell_type": "code",
   "execution_count": 10,
   "metadata": {},
   "outputs": [
    {
     "data": {
      "text/plain": [
       "203"
      ]
     },
     "execution_count": 10,
     "metadata": {},
     "output_type": "execute_result"
    }
   ],
   "source": [
    "n = 203"
   ]
  },
  {
   "cell_type": "code",
   "execution_count": 11,
   "metadata": {},
   "outputs": [],
   "source": [
    "#break up latent variables\n",
    "vari,inatt,B,lambda_z,vara = p_z_star[1:5]\n",
    "\n",
    "# spatial bin centers, width and edges\n",
    "xc,dx,xe = bins(B,n=n)\n",
    "\n",
    "# make initial latent distribution\n",
    "P = P0(vari,inatt,n,dx,xc);\n",
    "\n",
    "# build empty transition matrix\n",
    "M = zeros(Float64,n,n);\n",
    "# build state transition matrix for no input time bins\n",
    "Mprime!(M,vara*dt,lambda_z,zero(Float64),dx,xc,n=n)\n",
    "\n",
    "lambda = map(p->my_sigmoid(xc,p),p_y_star);"
   ]
  },
  {
   "cell_type": "code",
   "execution_count": null,
   "metadata": {},
   "outputs": [],
   "source": [
    "@time output = -sum(pmap((L,R,T,nL,nR,N,SC) -> LL_single_trial(p_z_star, P, M, dx, xc, model_type,\n",
    "        L, R, T, nL, nR,\n",
    "        lambda=lambda[N],spike_counts=SC,\n",
    "        comp_posterior=false,n=n,noise=noise),\n",
    "        data[\"leftbups\"], data[\"rightbups\"], data[\"nT\"], data[\"binned_leftbups\"], \n",
    "        data[\"binned_rightbups\"],\n",
    "        data[\"N\"],data[\"spike_counts\"]))"
   ]
  },
  {
   "cell_type": "code",
   "execution_count": null,
   "metadata": {},
   "outputs": [],
   "source": [
    "@time @parallel (+) for i = 1:length(data[\"T\"]) \n",
    "    -LL_single_trial(p_z_star, P, M, dx, xc, model_type,\n",
    "        data[\"leftbups\"][i], data[\"rightbups\"][i], data[\"nT\"][i], \n",
    "        data[\"binned_leftbups\"][i], data[\"binned_rightbups\"][i],\n",
    "        lambda=lambda[data[\"N\"][i]],spike_counts=data[\"spike_counts\"][i],\n",
    "        comp_posterior=false,n=n,noise=noise);\n",
    "end"
   ]
  },
  {
   "cell_type": "code",
   "execution_count": null,
   "metadata": {},
   "outputs": [],
   "source": [
    "16"
   ]
  }
 ],
 "metadata": {
  "anaconda-cloud": {},
  "kernelspec": {
   "display_name": "Julia 0.6.0",
   "language": "julia",
   "name": "julia-0.6"
  },
  "language_info": {
   "file_extension": ".jl",
   "mimetype": "application/julia",
   "name": "julia",
   "version": "0.6.4"
  }
 },
 "nbformat": 4,
 "nbformat_minor": 2
}
