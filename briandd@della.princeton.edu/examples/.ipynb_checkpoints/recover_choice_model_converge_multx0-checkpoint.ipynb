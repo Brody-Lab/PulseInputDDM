{
 "cells": [
  {
   "cell_type": "code",
   "execution_count": 1,
   "metadata": {},
   "outputs": [],
   "source": [
    "using Distributed\n",
    "addprocs(44);"
   ]
  },
  {
   "cell_type": "markdown",
   "metadata": {
    "scrolled": true
   },
   "source": [
    "### Fitting a choice model.\n",
    "\n",
    "First you have to include the necessary package"
   ]
  },
  {
   "cell_type": "code",
   "execution_count": 2,
   "metadata": {},
   "outputs": [],
   "source": [
    "using pulse_input_DDM, Flatten"
   ]
  },
  {
   "cell_type": "markdown",
   "metadata": {},
   "source": [
    "### Geneerate some data\n",
    "Blah blah blah"
   ]
  },
  {
   "cell_type": "code",
   "execution_count": 3,
   "metadata": {},
   "outputs": [],
   "source": [
    "θ_syn = θchoice(θz=θz(σ2_i = 1., B = 13., λ = -0.5, σ2_a = 10., σ2_s = 1.0,\n",
    "    ϕ = 0.4, τ_ϕ = 0.02), bias=0.1, lapse=0.1);"
   ]
  },
  {
   "cell_type": "code",
   "execution_count": 21,
   "metadata": {},
   "outputs": [],
   "source": [
    "_, data = synthetic_data(;θ=θ_syn, ntrials=20_000, rng=1, dt=2e-2);"
   ]
  },
  {
   "cell_type": "code",
   "execution_count": 22,
   "metadata": {},
   "outputs": [
    {
     "data": {
      "text/plain": [
       "53"
      ]
     },
     "execution_count": 22,
     "metadata": {},
     "output_type": "execute_result"
    }
   ],
   "source": [
    "n = 53"
   ]
  },
  {
   "cell_type": "code",
   "execution_count": 23,
   "metadata": {},
   "outputs": [
    {
     "data": {
      "text/plain": [
       "-7584.3319152221975"
      ]
     },
     "execution_count": 23,
     "metadata": {},
     "output_type": "execute_result"
    }
   ],
   "source": [
    "loglikelihood(θ_syn, data, n)"
   ]
  },
  {
   "cell_type": "code",
   "execution_count": 24,
   "metadata": {},
   "outputs": [],
   "source": [
    "using Random"
   ]
  },
  {
   "cell_type": "code",
   "execution_count": 25,
   "metadata": {},
   "outputs": [],
   "source": [
    "fit = vcat(trues(7),falses(2),trues(2));\n",
    "x0 = vcat([0.1, 15., -0.1, 20., 0.5, 0.2, 0.008,0.,0.], [0.,0.01])\n",
    "lb=vcat([0., 8., -5., 0.,   0.,  0.01, 0.005, -30., -30.], [-5., 0.])\n",
    "ub=vcat([2., 30., 5., 100., 2.5, 1.2,  1.,     30., 30.], [5., 1.]);"
   ]
  },
  {
   "cell_type": "code",
   "execution_count": 26,
   "metadata": {},
   "outputs": [
    {
     "data": {
      "text/plain": [
       "fit_x0 (generic function with 1 method)"
      ]
     },
     "execution_count": 26,
     "metadata": {},
     "output_type": "execute_result"
    }
   ],
   "source": [
    "function fit_x0(rng, fit, x0, lb, ub, data, n)\n",
    "\n",
    "    Random.seed!(rng)\n",
    "    x00 = lb + (ub - lb) .* rand(length(x0))\n",
    "    x00[2] = 15.\n",
    "    x00[8:9] .= 0.;\n",
    "\n",
    "    options = choiceoptions(x0=x00, fit=fit, \n",
    "        lb=vcat([0.,  8., -5., 0.,   0.,  0.01, 0.005, -30., -30.], [-5., 0.]),\n",
    "        ub=vcat([30., 32., 5., 200., 5.,  1.2,  1.,     30.,  30.],  [5., 1.]))\n",
    "\n",
    "    model, output = optimize(data, options, n; f_tol=1e-4, extended_trace=true, show_trace=false, scaled=false)\n",
    "    \n",
    "end"
   ]
  },
  {
   "cell_type": "code",
   "execution_count": 27,
   "metadata": {
    "collapsed": true
   },
   "outputs": [
    {
     "name": "stdout",
     "output_type": "stream",
     "text": [
      "optimization complete. converged: true \n",
      "\n",
      "optimization complete. converged: true \n",
      "\n",
      "optimization complete. converged: true \n",
      "\n",
      "optimization complete. converged: true \n",
      "\n",
      "optimization complete. converged: true \n",
      "\n",
      "optimization complete. converged: true \n",
      "\n",
      "optimization complete. converged: true \n",
      "\n",
      "optimization complete. converged: true \n",
      "\n",
      "optimization complete. converged: true \n",
      "\n",
      "optimization complete. converged: true \n",
      "\n"
     ]
    },
    {
     "data": {
      "text/plain": [
       "10-element Array{Tuple{choiceDDM{θchoice{θz{Float64},Float64},Array{choicedata{pulse_input_DDM.choiceinputs{pulse_input_DDM.clicks,pulse_input_DDM.binned_clicks}},1}},Optim.MultivariateOptimizationResults{Optim.Fminbox{Optim.BFGS{LineSearches.InitialStatic{Float64},LineSearches.BackTracking{Float64,Int64},Nothing,Nothing,Optim.Flat},Float64,getfield(Optim, Symbol(\"##43#45\"))},Float64,Array{Float64,1},Float64,Float64,Array{Optim.OptimizationState{Float64,Optim.BFGS{LineSearches.InitialStatic{Float64},LineSearches.BackTracking{Float64,Int64},Nothing,Nothing,Optim.Flat}},1},Nothing}},1}:\n",
       " (choiceDDM{θchoice{θz{Float64},Float64},Array{choicedata{pulse_input_DDM.choiceinputs{pulse_input_DDM.clicks,pulse_input_DDM.binned_clicks}},1}}\n",
       "  θ: θchoice{θz{Float64},Float64}\n",
       "  data: Array{choicedata{pulse_input_DDM.choiceinputs{pulse_input_DDM.clicks,pulse_input_DDM.binned_clicks}}}((20000,))\n",
       ",  * Status: success\n",
       "\n",
       " * Candidate solution\n",
       "    Minimizer: [1.25e+00, 1.52e+01, -4.88e+00,  ...]\n",
       "    Minimum:   1.386072e+04\n",
       "\n",
       " * Found with\n",
       "    Algorithm:     Fminbox with BFGS\n",
       "    Initial Point: [4.72e-01, 1.50e+01, -1.87e+00,  ...]\n",
       "\n",
       " * Convergence measures\n",
       "    |x - x'|               = 4.43e-03 ≰ 1.0e-10\n",
       "    |x - x'|/|x'|          = 2.67e-04 ≰ 0.0e+00\n",
       "    |f(x) - f(x')|         = 1.97e-02 ≰ 1.0e-04\n",
       "    |f(x) - f(x')|/|f(x')| = 1.42e-06 ≰ 0.0e+00\n",
       "    |g(x)|                 = 1.62e-02 ≰ 1.0e-03\n",
       "\n",
       " * Work counters\n",
       "    Seconds run:   247  (vs limit Inf)\n",
       "    Iterations:    2\n",
       "    f(x) calls:    167\n",
       "    ∇f(x) calls:   31\n",
       ")   \n",
       " (choiceDDM{θchoice{θz{Float64},Float64},Array{choicedata{pulse_input_DDM.choiceinputs{pulse_input_DDM.clicks,pulse_input_DDM.binned_clicks}},1}}\n",
       "  θ: θchoice{θz{Float64},Float64}\n",
       "  data: Array{choicedata{pulse_input_DDM.choiceinputs{pulse_input_DDM.clicks,pulse_input_DDM.binned_clicks}}}((20000,))\n",
       ",  * Status: success\n",
       "\n",
       " * Candidate solution\n",
       "    Minimizer: [2.40e+01, 9.94e+00, -4.20e-01,  ...]\n",
       "    Minimum:   7.631134e+03\n",
       "\n",
       " * Found with\n",
       "    Algorithm:     Fminbox with BFGS\n",
       "    Initial Point: [7.34e-01, 1.50e+01, -2.90e+00,  ...]\n",
       "\n",
       " * Convergence measures\n",
       "    |x - x'|               = 3.35e-03 ≰ 1.0e-10\n",
       "    |x - x'|/|x'|          = 1.29e-04 ≰ 0.0e+00\n",
       "    |f(x) - f(x')|         = 4.53e-01 ≰ 1.0e-04\n",
       "    |f(x) - f(x')|/|f(x')| = 5.94e-05 ≰ 0.0e+00\n",
       "    |g(x)|                 = 3.47e+01 ≰ 1.0e-03\n",
       "\n",
       " * Work counters\n",
       "    Seconds run:   582  (vs limit Inf)\n",
       "    Iterations:    2\n",
       "    f(x) calls:    296\n",
       "    ∇f(x) calls:   73\n",
       ")   \n",
       " (choiceDDM{θchoice{θz{Float64},Float64},Array{choicedata{pulse_input_DDM.choiceinputs{pulse_input_DDM.clicks,pulse_input_DDM.binned_clicks}},1}}\n",
       "  θ: θchoice{θz{Float64},Float64}\n",
       "  data: Array{choicedata{pulse_input_DDM.choiceinputs{pulse_input_DDM.clicks,pulse_input_DDM.binned_clicks}}}((20000,))\n",
       ",  * Status: success\n",
       "\n",
       " * Candidate solution\n",
       "    Minimizer: [1.21e+00, 1.09e+01, -3.12e-01,  ...]\n",
       "    Minimum:   7.591431e+03\n",
       "\n",
       " * Found with\n",
       "    Algorithm:     Fminbox with BFGS\n",
       "    Initial Point: [1.62e+00, 1.50e+01, 3.08e+00,  ...]\n",
       "\n",
       " * Convergence measures\n",
       "    |x - x'|               = 1.11e-02 ≰ 1.0e-10\n",
       "    |x - x'|/|x'|          = 6.32e-04 ≰ 0.0e+00\n",
       "    |f(x) - f(x')|         = 2.65e-01 ≰ 1.0e-04\n",
       "    |f(x) - f(x')|/|f(x')| = 3.49e-05 ≰ 0.0e+00\n",
       "    |g(x)|                 = 1.62e+02 ≰ 1.0e-03\n",
       "\n",
       " * Work counters\n",
       "    Seconds run:   518  (vs limit Inf)\n",
       "    Iterations:    3\n",
       "    f(x) calls:    430\n",
       "    ∇f(x) calls:   84\n",
       ")    \n",
       " (choiceDDM{θchoice{θz{Float64},Float64},Array{choicedata{pulse_input_DDM.choiceinputs{pulse_input_DDM.clicks,pulse_input_DDM.binned_clicks}},1}}\n",
       "  θ: θchoice{θz{Float64},Float64}\n",
       "  data: Array{choicedata{pulse_input_DDM.choiceinputs{pulse_input_DDM.clicks,pulse_input_DDM.binned_clicks}}}((20000,))\n",
       ",  * Status: success\n",
       "\n",
       " * Candidate solution\n",
       "    Minimizer: [5.91e+00, 2.07e+01, -5.50e-01,  ...]\n",
       "    Minimum:   7.684798e+03\n",
       "\n",
       " * Found with\n",
       "    Algorithm:     Fminbox with BFGS\n",
       "    Initial Point: [1.36e+00, 1.50e+01, 4.24e+00,  ...]\n",
       "\n",
       " * Convergence measures\n",
       "    |x - x'|               = 3.75e-05 ≰ 1.0e-10\n",
       "    |x - x'|/|x'|          = 1.71e-06 ≰ 0.0e+00\n",
       "    |f(x) - f(x')|         = 3.85e-02 ≰ 1.0e-04\n",
       "    |f(x) - f(x')|/|f(x')| = 5.02e-06 ≰ 0.0e+00\n",
       "    |g(x)|                 = 9.98e+02 ≰ 1.0e-03\n",
       "\n",
       " * Work counters\n",
       "    Seconds run:   472  (vs limit Inf)\n",
       "    Iterations:    3\n",
       "    f(x) calls:    559\n",
       "    ∇f(x) calls:   92\n",
       ")    \n",
       " (choiceDDM{θchoice{θz{Float64},Float64},Array{choicedata{pulse_input_DDM.choiceinputs{pulse_input_DDM.clicks,pulse_input_DDM.binned_clicks}},1}}\n",
       "  θ: θchoice{θz{Float64},Float64}\n",
       "  data: Array{choicedata{pulse_input_DDM.choiceinputs{pulse_input_DDM.clicks,pulse_input_DDM.binned_clicks}}}((20000,))\n",
       ",  * Status: success\n",
       "\n",
       " * Candidate solution\n",
       "    Minimizer: [6.96e-01, 1.96e+01, -6.20e-01,  ...]\n",
       "    Minimum:   7.734942e+03\n",
       "\n",
       " * Found with\n",
       "    Algorithm:     Fminbox with BFGS\n",
       "    Initial Point: [1.06e+00, 1.50e+01, -1.99e+00,  ...]\n",
       "\n",
       " * Convergence measures\n",
       "    |x - x'|               = 5.92e-05 ≰ 1.0e-10\n",
       "    |x - x'|/|x'|          = 6.60e-07 ≰ 0.0e+00\n",
       "    |f(x) - f(x')|         = 1.16e-01 ≰ 1.0e-04\n",
       "    |f(x) - f(x')|/|f(x')| = 1.50e-05 ≰ 0.0e+00\n",
       "    |g(x)|                 = 1.96e+03 ≰ 1.0e-03\n",
       "\n",
       " * Work counters\n",
       "    Seconds run:   471  (vs limit Inf)\n",
       "    Iterations:    3\n",
       "    f(x) calls:    976\n",
       "    ∇f(x) calls:   86\n",
       ")   \n",
       " (choiceDDM{θchoice{θz{Float64},Float64},Array{choicedata{pulse_input_DDM.choiceinputs{pulse_input_DDM.clicks,pulse_input_DDM.binned_clicks}},1}}\n",
       "  θ: θchoice{θz{Float64},Float64}\n",
       "  data: Array{choicedata{pulse_input_DDM.choiceinputs{pulse_input_DDM.clicks,pulse_input_DDM.binned_clicks}}}((20000,))\n",
       ",  * Status: success\n",
       "\n",
       " * Candidate solution\n",
       "    Minimizer: [3.00e-02, 1.81e+01, -3.34e-01,  ...]\n",
       "    Minimum:   7.583216e+03\n",
       "\n",
       " * Found with\n",
       "    Algorithm:     Fminbox with BFGS\n",
       "    Initial Point: [1.02e+00, 1.50e+01, 3.30e+00,  ...]\n",
       "\n",
       " * Convergence measures\n",
       "    |x - x'|               = 2.46e-03 ≰ 1.0e-10\n",
       "    |x - x'|/|x'|          = 1.21e-04 ≰ 0.0e+00\n",
       "    |f(x) - f(x')|         = 1.28e-01 ≰ 1.0e-04\n",
       "    |f(x) - f(x')|/|f(x')| = 1.69e-05 ≰ 0.0e+00\n",
       "    |g(x)|                 = 1.02e+02 ≰ 1.0e-03\n",
       "\n",
       " * Work counters\n",
       "    Seconds run:   739  (vs limit Inf)\n",
       "    Iterations:    2\n",
       "    f(x) calls:    567\n",
       "    ∇f(x) calls:   89\n",
       ")    \n",
       " (choiceDDM{θchoice{θz{Float64},Float64},Array{choicedata{pulse_input_DDM.choiceinputs{pulse_input_DDM.clicks,pulse_input_DDM.binned_clicks}},1}}\n",
       "  θ: θchoice{θz{Float64},Float64}\n",
       "  data: Array{choicedata{pulse_input_DDM.choiceinputs{pulse_input_DDM.clicks,pulse_input_DDM.binned_clicks}}}((20000,))\n",
       ",  * Status: success\n",
       "\n",
       " * Candidate solution\n",
       "    Minimizer: [8.75e+00, 2.97e+01, -3.60e-01,  ...]\n",
       "    Minimum:   7.583868e+03\n",
       "\n",
       " * Found with\n",
       "    Algorithm:     Fminbox with BFGS\n",
       "    Initial Point: [1.62e+00, 1.50e+01, -1.04e-01,  ...]\n",
       "\n",
       " * Convergence measures\n",
       "    |x - x'|               = 6.69e-02 ≰ 1.0e-10\n",
       "    |x - x'|/|x'|          = 2.14e-03 ≰ 0.0e+00\n",
       "    |f(x) - f(x')|         = 1.17e-01 ≰ 1.0e-04\n",
       "    |f(x) - f(x')|/|f(x')| = 1.54e-05 ≰ 0.0e+00\n",
       "    |g(x)|                 = 4.07e+02 ≰ 1.0e-03\n",
       "\n",
       " * Work counters\n",
       "    Seconds run:   564  (vs limit Inf)\n",
       "    Iterations:    2\n",
       "    f(x) calls:    412\n",
       "    ∇f(x) calls:   73\n",
       ")   \n",
       " (choiceDDM{θchoice{θz{Float64},Float64},Array{choicedata{pulse_input_DDM.choiceinputs{pulse_input_DDM.clicks,pulse_input_DDM.binned_clicks}},1}}\n",
       "  θ: θchoice{θz{Float64},Float64}\n",
       "  data: Array{choicedata{pulse_input_DDM.choiceinputs{pulse_input_DDM.clicks,pulse_input_DDM.binned_clicks}}}((20000,))\n",
       ",  * Status: success\n",
       "\n",
       " * Candidate solution\n",
       "    Minimizer: [3.69e-02, 2.41e+01, -3.46e-01,  ...]\n",
       "    Minimum:   7.594752e+03\n",
       "\n",
       " * Found with\n",
       "    Algorithm:     Fminbox with BFGS\n",
       "    Initial Point: [2.47e-02, 1.50e+01, 3.81e+00,  ...]\n",
       "\n",
       " * Convergence measures\n",
       "    |x - x'|               = 1.19e-02 ≰ 1.0e-10\n",
       "    |x - x'|/|x'|          = 4.93e-04 ≰ 0.0e+00\n",
       "    |f(x) - f(x')|         = 3.03e-01 ≰ 1.0e-04\n",
       "    |f(x) - f(x')|/|f(x')| = 3.99e-05 ≰ 0.0e+00\n",
       "    |g(x)|                 = 2.08e+02 ≰ 1.0e-03\n",
       "\n",
       " * Work counters\n",
       "    Seconds run:   835  (vs limit Inf)\n",
       "    Iterations:    3\n",
       "    f(x) calls:    1279\n",
       "    ∇f(x) calls:   159\n",
       ")  \n",
       " (choiceDDM{θchoice{θz{Float64},Float64},Array{choicedata{pulse_input_DDM.choiceinputs{pulse_input_DDM.clicks,pulse_input_DDM.binned_clicks}},1}}\n",
       "  θ: θchoice{θz{Float64},Float64}\n",
       "  data: Array{choicedata{pulse_input_DDM.choiceinputs{pulse_input_DDM.clicks,pulse_input_DDM.binned_clicks}}}((20000,))\n",
       ",  * Status: success\n",
       "\n",
       " * Candidate solution\n",
       "    Minimizer: [1.57e+01, 1.44e+01, -3.55e-01,  ...]\n",
       "    Minimum:   7.585313e+03\n",
       "\n",
       " * Found with\n",
       "    Algorithm:     Fminbox with BFGS\n",
       "    Initial Point: [1.41e+00, 1.50e+01, -2.42e+00,  ...]\n",
       "\n",
       " * Convergence measures\n",
       "    |x - x'|               = 5.43e-03 ≰ 1.0e-10\n",
       "    |x - x'|/|x'|          = 1.51e-04 ≰ 0.0e+00\n",
       "    |f(x) - f(x')|         = 3.54e-01 ≰ 1.0e-04\n",
       "    |f(x) - f(x')|/|f(x')| = 4.67e-05 ≰ 0.0e+00\n",
       "    |g(x)|                 = 3.92e+01 ≰ 1.0e-03\n",
       "\n",
       " * Work counters\n",
       "    Seconds run:   1128  (vs limit Inf)\n",
       "    Iterations:    6\n",
       "    f(x) calls:    1678\n",
       "    ∇f(x) calls:   350\n",
       ")\n",
       " (choiceDDM{θchoice{θz{Float64},Float64},Array{choicedata{pulse_input_DDM.choiceinputs{pulse_input_DDM.clicks,pulse_input_DDM.binned_clicks}},1}}\n",
       "  θ: θchoice{θz{Float64},Float64}\n",
       "  data: Array{choicedata{pulse_input_DDM.choiceinputs{pulse_input_DDM.clicks,pulse_input_DDM.binned_clicks}}}((20000,))\n",
       ",  * Status: success\n",
       "\n",
       " * Candidate solution\n",
       "    Minimizer: [2.99e+01, 1.55e+01, -2.43e+00,  ...]\n",
       "    Minimum:   7.871656e+03\n",
       "\n",
       " * Found with\n",
       "    Algorithm:     Fminbox with BFGS\n",
       "    Initial Point: [2.25e-01, 1.50e+01, -1.56e+00,  ...]\n",
       "\n",
       " * Convergence measures\n",
       "    |x - x'|               = 2.32e-06 ≰ 1.0e-10\n",
       "    |x - x'|/|x'|          = 6.70e-08 ≰ 0.0e+00\n",
       "    |f(x) - f(x')|         = 2.85e-03 ≰ 1.0e-04\n",
       "    |f(x) - f(x')|/|f(x')| = 3.62e-07 ≰ 0.0e+00\n",
       "    |g(x)|                 = 1.04e+03 ≰ 1.0e-03\n",
       "\n",
       " * Work counters\n",
       "    Seconds run:   843  (vs limit Inf)\n",
       "    Iterations:    6\n",
       "    f(x) calls:    2349\n",
       "    ∇f(x) calls:   313\n",
       ") "
      ]
     },
     "execution_count": 27,
     "metadata": {},
     "output_type": "execute_result"
    }
   ],
   "source": [
    "output = map(rng-> fit_x0(rng,fit, x0, lb, ub, data, n), 1:10)"
   ]
  },
  {
   "cell_type": "code",
   "execution_count": 28,
   "metadata": {
    "collapsed": true
   },
   "outputs": [
    {
     "data": {
      "text/plain": [
       "10-element Array{Array{Float64,2},1}:\n",
       " [0.47206669132409385 0.4721970009791387 … 1.2473246530636382 1.2475377660437597; 15.0 14.999999751713753 … 15.174289228084204 15.174312876221235; … ; 4.8666636689879965 4.8662092660132075 … 3.930097636271955 3.9297979218566477; 0.5557510873245723 0.8808908985444757 … 0.9850992278737966 0.9850990968491647]            \n",
       " [0.7335928248798487 0.7337589691037765 … 23.99610926720631 23.996118500087626; 15.0 14.999853954843912 … 9.9365504039299 9.936530420947228; … ; 1.8956654998062161 1.8384303542432792 … 0.18367393235093696 0.18282616009279426; 0.14383562117576143 0.1892506715098239 … 0.06157052529570423 0.06421689995708296]            \n",
       " [1.623396809991723 1.623299098724696 … 1.212331469187304 1.2123580636638749; 15.0 14.999994658489632 … 10.908537475020713 10.908527457483581; … ; 0.572251384524507 0.5722472862791089 … 0.12741209792754002 0.12794026272372025; 0.4644219211852372 0.4543200044412291 … 0.09537042675161948 0.10198375996972603]            \n",
       " [1.360158471871482 1.3594803173177066 … 5.90777457080529 5.907774571775553; 15.0 14.999967766387831 … 20.717558180383293 20.717558180073983; … ; 2.3238037955842117 2.3236848500990988 … 0.409137466097956 0.40913746138364765; 0.3888589512567495 0.3157567158117235 … 0.0922935112880789 0.09229462937231446]               \n",
       " [1.0607293211073614 1.0612331309401861 … 0.6955885219321484 0.6955885218577508; 15.0 14.999158342063552 … 19.596681621684198 19.596681621573797; … ; -3.8185256142003343 -3.770109909115966 … 0.5467975597875729 0.5467975579140134; 0.5114826505242656 0.7660893361518331 … 0.09236000027360802 0.09235982825319933]         \n",
       " [1.0229548737140512 1.018053035771138 … 0.029898116628260994 0.029957812314609342; 15.0 14.999703149624127 … 18.102110739321255 18.10211051362825; … ; 4.098959528367503 4.07626923249801 … 0.16501700646843642 0.16478219195806934; 0.3998765849272963 0.2646614534958215 … 0.09744467515140515 0.09653513467008783]         \n",
       " [1.6248771644015054 1.6245890162036682 … 8.752051258534262 8.75105142422625; 15.0 14.999896304841245 … 29.73144024458357 29.731038787763655; … ; 1.619303282513103 1.6133713059151122 … 0.19341181013932907 0.18320645566709542; 0.40135181610379633 0.3713933616843184 … 0.09492436104655523 0.09948399157252853]            \n",
       " [0.024715408869055988 0.020118600348066284 … 0.03682915470600126 0.03686716790690994; 15.0 14.999828171204557 … 24.058720595476544 24.05872372962725; … ; -0.7642386280660274 -0.7622788896479841 … 0.10347575386004887 0.10411978723418432; 0.2394476876411793 0.10101856006557366 … 0.10073180414151137 0.09254112552268834]\n",
       " [1.4141569415074762 1.4141514451211008 … 15.744520960092368 15.744516922970643; 15.0 14.99990293107661 … 14.409878281448721 14.409876564137262; … ; 0.4158850044179907 0.4157682520618583 … 0.15522576825325146 0.1552498957334354; 0.6813602720898049 0.563106493709469 … 0.09792241571416985 0.09267224476107003]           \n",
       " [0.2251648895729459 0.22686109822312583 … 29.91859401286062 29.91859401305463; 15.0 15.000884562888654 … 15.52513874864175 15.525138744073661; … ; 3.1977797040088003 3.177970811109155 … 4.946833319292587 4.946833307980211; 0.6699313951612162 0.9958950149709721 … 0.09737096205064731 0.09737103643015638]               "
      ]
     },
     "execution_count": 28,
     "metadata": {},
     "output_type": "execute_result"
    }
   ],
   "source": [
    "traces = map(y-> hcat(map(x-> x.metadata[\"x\"], y[2].trace)...), output)"
   ]
  },
  {
   "cell_type": "code",
   "execution_count": 17,
   "metadata": {},
   "outputs": [],
   "source": [
    "#map(x-> θchoice(x[1:7,end], x[8,end], x[9,end]), traces[[1,3]])"
   ]
  },
  {
   "cell_type": "code",
   "execution_count": null,
   "metadata": {},
   "outputs": [],
   "source": [
    "#loglikelihood(θ_syn, data, n)"
   ]
  },
  {
   "cell_type": "code",
   "execution_count": null,
   "metadata": {},
   "outputs": [],
   "source": [
    "#output.initial_x"
   ]
  },
  {
   "cell_type": "code",
   "execution_count": null,
   "metadata": {},
   "outputs": [],
   "source": [
    "#results = hcat(map(x-> x.metadata[\"x\"], output.trace)...)"
   ]
  },
  {
   "cell_type": "code",
   "execution_count": 14,
   "metadata": {},
   "outputs": [],
   "source": [
    "using JLD"
   ]
  },
  {
   "cell_type": "code",
   "execution_count": 64,
   "metadata": {},
   "outputs": [
    {
     "data": {
      "text/plain": [
       "0.3999999999999999"
      ]
     },
     "execution_count": 64,
     "metadata": {},
     "output_type": "execute_result"
    }
   ],
   "source": [
    "abs(1. - 1. * 1.4)"
   ]
  },
  {
   "cell_type": "code",
   "execution_count": 66,
   "metadata": {},
   "outputs": [
    {
     "data": {
      "text/plain": [
       "0.4"
      ]
     },
     "execution_count": 66,
     "metadata": {},
     "output_type": "execute_result"
    }
   ],
   "source": [
    "abs(1. - 1. * 0.6)"
   ]
  },
  {
   "cell_type": "code",
   "execution_count": 190,
   "metadata": {},
   "outputs": [],
   "source": [
    "#traces = Vector{Array{Float64,2}}(undef,10)\n",
    "#for i = 1:10\n",
    "#    @load \"/usr/people/briandd/example_\"*string(i)*\".jld\" trace\n",
    "#    traces[i] = trace\n",
    "#end"
   ]
  },
  {
   "cell_type": "code",
   "execution_count": 18,
   "metadata": {},
   "outputs": [],
   "source": [
    "using PyPlot"
   ]
  },
  {
   "cell_type": "code",
   "execution_count": 20,
   "metadata": {},
   "outputs": [
    {
     "data": {
      "image/png": "[encoded data removed]",
      "text/plain": [
       "Figure(PyObject <Figure size 900x900 with 9 Axes>)"
      ]
     },
     "metadata": {},
     "output_type": "display_data"
    }
   ],
   "source": [
    "num_rows, num_cols = 3,3\n",
    "fig, ax = subplots(num_rows, num_cols, figsize=(9,9))\n",
    "name = [\"σ2_i\", \"B\", \"λ\", \"σ2_a\", \"σ2_s\", \"ϕ\", \"τ_ϕ\", \"bias\", \"lapse\"]\n",
    "id = 1\n",
    "\n",
    "for i in 1:9\n",
    "                  \n",
    "    map(x-> ax[i].plot(x[i,:]), traces)\n",
    "    ax[i].set_title(name[i])\n",
    "end\n",
    "\n",
    "tight_layout() "
   ]
  },
  {
   "cell_type": "code",
   "execution_count": 91,
   "metadata": {},
   "outputs": [
    {
     "data": {
      "text/plain": [
       "0.09999999999999998"
      ]
     },
     "execution_count": 91,
     "metadata": {},
     "output_type": "execute_result"
    }
   ],
   "source": [
    "abs(1. - 1. * 0.9)"
   ]
  },
  {
   "cell_type": "code",
   "execution_count": 92,
   "metadata": {},
   "outputs": [
    {
     "data": {
      "text/plain": [
       "0.10000000000000009"
      ]
     },
     "execution_count": 92,
     "metadata": {},
     "output_type": "execute_result"
    }
   ],
   "source": [
    "abs(1. - 1. * 1.1)"
   ]
  },
  {
   "cell_type": "code",
   "execution_count": 121,
   "metadata": {},
   "outputs": [
    {
     "data": {
      "text/plain": [
       "0.09999999999999998"
      ]
     },
     "execution_count": 121,
     "metadata": {},
     "output_type": "execute_result"
    }
   ],
   "source": [
    "exp(log(1. - 1. * 0.9))"
   ]
  },
  {
   "cell_type": "code",
   "execution_count": 120,
   "metadata": {},
   "outputs": [
    {
     "data": {
      "text/plain": [
       "-0.10000000000000006 + 1.2246467991473539e-17im"
      ]
     },
     "execution_count": 120,
     "metadata": {},
     "output_type": "execute_result"
    }
   ],
   "source": [
    "exp(log(Complex(1. - 1. * 1.1)))"
   ]
  },
  {
   "cell_type": "code",
   "execution_count": 124,
   "metadata": {},
   "outputs": [],
   "source": [
    "using StatsFuns: xlogy"
   ]
  },
  {
   "cell_type": "code",
   "execution_count": 125,
   "metadata": {
    "collapsed": true
   },
   "outputs": [
    {
     "data": {
      "text/plain": [
       "20-element Array{Float64,1}:\n",
       " 0.04493732716079495  \n",
       " 0.006787804508223173 \n",
       " 0.007860411993734731 \n",
       " 0.002311769352086261 \n",
       " 0.0017663379041122848\n",
       " 0.03289947888352862  \n",
       " 0.031018339580117238 \n",
       " 0.0015123980455404307\n",
       " 0.016508322887999416 \n",
       " 0.0024143647782179645\n",
       " 0.02263596855698355  \n",
       " 0.09707481831187217  \n",
       " 0.014822972781030452 \n",
       " 0.032013489500425873 \n",
       " 0.004366034580432665 \n",
       " 0.008855970029352345 \n",
       " 0.03590464401897547  \n",
       " 0.013171762744933702 \n",
       " 0.008703471146099484 \n",
       " 0.0020300016537920795"
      ]
     },
     "execution_count": 125,
     "metadata": {},
     "output_type": "execute_result"
    }
   ],
   "source": [
    "ici = diff(L)"
   ]
  },
  {
   "cell_type": "code",
   "execution_count": 151,
   "metadata": {},
   "outputs": [
    {
     "data": {
      "text/plain": [
       "0.2"
      ]
     },
     "execution_count": 151,
     "metadata": {},
     "output_type": "execute_result"
    }
   ],
   "source": [
    "τ_ϕ = 0.2"
   ]
  },
  {
   "cell_type": "code",
   "execution_count": 156,
   "metadata": {},
   "outputs": [
    {
     "data": {
      "text/plain": [
       "-1.8341245482380755 + 0.0im"
      ]
     },
     "execution_count": 156,
     "metadata": {},
     "output_type": "execute_result"
    }
   ],
   "source": [
    "arg1 = (-ici[1] + τ_ϕ * log(Complex(1. - 1. * 0.8)))/τ_ϕ"
   ]
  },
  {
   "cell_type": "code",
   "execution_count": 157,
   "metadata": {},
   "outputs": [
    {
     "data": {
      "text/plain": [
       "0.8402467031275254 - 0.0im"
      ]
     },
     "execution_count": 157,
     "metadata": {},
     "output_type": "execute_result"
    }
   ],
   "source": [
    "1. - exp(arg1)"
   ]
  },
  {
   "cell_type": "code",
   "execution_count": 158,
   "metadata": {},
   "outputs": [
    {
     "data": {
      "text/plain": [
       "-1.8341245482380755 + 3.141592653589793im"
      ]
     },
     "execution_count": 158,
     "metadata": {},
     "output_type": "execute_result"
    }
   ],
   "source": [
    "arg2 = (-ici[1] + τ_ϕ * log(Complex(1. - 1. * 1.2)))/τ_ϕ"
   ]
  },
  {
   "cell_type": "code",
   "execution_count": 164,
   "metadata": {},
   "outputs": [
    {
     "data": {
      "text/plain": [
       "-1.0 + 1.2246467991473532e-16im"
      ]
     },
     "execution_count": 164,
     "metadata": {},
     "output_type": "execute_result"
    }
   ],
   "source": [
    "exp(im * pi)"
   ]
  },
  {
   "cell_type": "code",
   "execution_count": 165,
   "metadata": {},
   "outputs": [
    {
     "data": {
      "text/plain": [
       "1.1597532968724746 + 0.0im"
      ]
     },
     "execution_count": 165,
     "metadata": {},
     "output_type": "execute_result"
    }
   ],
   "source": [
    "1. + exp(arg1)"
   ]
  },
  {
   "cell_type": "code",
   "execution_count": 166,
   "metadata": {},
   "outputs": [
    {
     "data": {
      "text/plain": [
       "1.1597532968724746 - 1.9564136366811295e-17im"
      ]
     },
     "execution_count": 166,
     "metadata": {},
     "output_type": "execute_result"
    }
   ],
   "source": [
    "1. - exp(arg2)"
   ]
  },
  {
   "cell_type": "code",
   "execution_count": 174,
   "metadata": {},
   "outputs": [
    {
     "data": {
      "text/plain": [
       "(0.02, 1.2)"
      ]
     },
     "execution_count": 174,
     "metadata": {},
     "output_type": "execute_result"
    }
   ],
   "source": [
    "τ_ϕ, ϕ = 0.02, 1.2"
   ]
  },
  {
   "cell_type": "code",
   "execution_count": 175,
   "metadata": {},
   "outputs": [],
   "source": [
    "La = ones(length(L));"
   ]
  },
  {
   "cell_type": "code",
   "execution_count": 176,
   "metadata": {},
   "outputs": [],
   "source": [
    "ici = diff(L)\n",
    "\n",
    "for i = 1:length(ici)\n",
    "\n",
    "    arg = (1/τ_ϕ) * (-ici[i] + xlogy(τ_ϕ, abs(1. - La[i]* ϕ)))\n",
    "\n",
    "    if La[i]* ϕ <= 1\n",
    "        La[i+1] = 1. - exp(arg)\n",
    "    else\n",
    "        La[i+1] = 1. + exp(arg)\n",
    "    end\n",
    "\n",
    "end"
   ]
  },
  {
   "cell_type": "code",
   "execution_count": 177,
   "metadata": {},
   "outputs": [
    {
     "data": {
      "text/plain": [
       "21-element Array{Float64,1}:\n",
       " 1.0               \n",
       " 1.0211460052061025\n",
       " 1.16051323034703  \n",
       " 1.2650215439228047\n",
       " 1.461479061374706 \n",
       " 1.690058828158778 \n",
       " 1.1984357103789156\n",
       " 1.092905456296008 \n",
       " 1.2888005319645115\n",
       " 1.2394223422312545\n",
       " 1.4318920562351087\n",
       " 1.2316083424345363\n",
       " 1.0037274463909367\n",
       " 1.097444889641929 \n",
       " 1.0639447006456741\n",
       " 1.2224614279155346\n",
       " 1.2998947670816197\n",
       " 1.0929888002275825\n",
       " 1.1612714619970614\n",
       " 1.254671112538278 \n",
       " 1.4568048666160036"
      ]
     },
     "execution_count": 177,
     "metadata": {},
     "output_type": "execute_result"
    }
   ],
   "source": [
    "La"
   ]
  },
  {
   "cell_type": "code",
   "execution_count": 178,
   "metadata": {},
   "outputs": [],
   "source": [
    "La2 = ones(length(L));"
   ]
  },
  {
   "cell_type": "code",
   "execution_count": 181,
   "metadata": {},
   "outputs": [],
   "source": [
    "ici = diff(L)\n",
    "\n",
    "for i = 1:length(ici)\n",
    "\n",
    "    arg = (1/τ_ϕ) * (-ici[i] + τ_ϕ * log(complex(1. - La2[i]* ϕ)))\n",
    "    La2[i+1] = real(1. - exp(arg))\n",
    "\n",
    "end"
   ]
  },
  {
   "cell_type": "code",
   "execution_count": 183,
   "metadata": {},
   "outputs": [
    {
     "data": {
      "text/plain": [
       "21-element Array{Float64,1}:\n",
       " 0.0\n",
       " 0.0\n",
       " 0.0\n",
       " 0.0\n",
       " 0.0\n",
       " 0.0\n",
       " 0.0\n",
       " 0.0\n",
       " 0.0\n",
       " 0.0\n",
       " 0.0\n",
       " 0.0\n",
       " 0.0\n",
       " 0.0\n",
       " 0.0\n",
       " 0.0\n",
       " 0.0\n",
       " 0.0\n",
       " 0.0\n",
       " 0.0\n",
       " 0.0"
      ]
     },
     "execution_count": 183,
     "metadata": {},
     "output_type": "execute_result"
    }
   ],
   "source": [
    "La2 - La"
   ]
  },
  {
   "cell_type": "code",
   "execution_count": 93,
   "metadata": {},
   "outputs": [
    {
     "data": {
      "text/plain": [
       "([0.0, 0.04493732716079495, 0.051725131669018126, 0.05958554366275286, 0.06189731301483912, 0.0636636509189514, 0.09656312980248002, 0.12758146938259726, 0.1290938674281377, 0.1456021903161371  …  0.17065252365133862, 0.2677273419632108, 0.28255031474424125, 0.3145638042446671, 0.3189298388250998, 0.32778580885445213, 0.3636904528734276, 0.3768622156183613, 0.3855656867644608, 0.38759568841825287], [0.0, 0.02242497544320737, 0.04515810771517595, 0.054728520875007985, 0.20252473678806523, 0.27893257745363303, 0.2797621297828851, 0.3622987573252388])"
      ]
     },
     "execution_count": 93,
     "metadata": {},
     "output_type": "execute_result"
    }
   ],
   "source": [
    "L,R = data[1].click_data.clicks.L, data[1].click_data.clicks.R"
   ]
  },
  {
   "cell_type": "code",
   "execution_count": 94,
   "metadata": {},
   "outputs": [
    {
     "data": {
      "text/plain": [
       "([1.0, 0.9996365071707312, 0.9570532610701037, 0.9480949459164135, 0.8901058440205571, 0.8405016175888129, 0.9960136284856431, 0.9978550280376667, 0.9156275264829259, 0.9776556044070785  …  0.9893759918927276, 0.9999994114597706, 0.9843212877410487, 0.9979135082266612, 0.9409715133830071, 0.9493842651251373, 0.9983636506439744, 0.9804432675932558, 0.9603788071266439, 0.8947440798085189], [1.0, 0.9939379486125018, 0.9938487776857957, 0.9680953607488882, 0.9999999987803331, 0.9999928868485128, 0.9098441209918985, 0.9999940108550469])"
      ]
     },
     "execution_count": 94,
     "metadata": {},
     "output_type": "execute_result"
    }
   ],
   "source": [
    "La1, Ra1 = pulse_input_DDM.adapt_clicks(0.9, 0.008, \n",
    "    data[1].click_data.clicks.L, data[1].click_data.clicks.R)"
   ]
  },
  {
   "cell_type": "code",
   "execution_count": 95,
   "metadata": {},
   "outputs": [
    {
     "data": {
      "text/plain": [
       "([1.0, 0.9996365071707312, 0.9573644596369061, 0.9801214256971019, 0.9414753164162969, 0.9714346343318859, 0.9988775224406655, 0.9979548858139065, 0.9190875850046151, 0.9986034255066002  …  0.998824708801177, 0.9999994697673061, 0.9843214622351247, 0.9984868683667573, 0.943023930852968, 0.9876617701546226, 0.9990283595168536, 0.9809330919399539, 0.9733750673368187, 0.9451351328285512], [1.0, 0.9939379486125018, 0.9945559746234918, 0.9715793430828326, 0.9999999993486608, 0.9999928868486418, 0.9098569460192302, 0.9999999721392916])"
      ]
     },
     "execution_count": 95,
     "metadata": {},
     "output_type": "execute_result"
    }
   ],
   "source": [
    "La2, Ra2 = pulse_input_DDM.adapt_clicks(1.1, 0.008, L, R)"
   ]
  },
  {
   "cell_type": "code",
   "execution_count": 96,
   "metadata": {},
   "outputs": [
    {
     "data": {
      "text/plain": [
       "8-element Array{Float64,1}:\n",
       "  0.0                  \n",
       "  0.0                  \n",
       " -0.000707196937696053 \n",
       " -0.0034839823339443132\n",
       " -5.683277182200186e-10\n",
       " -1.290079154614432e-13\n",
       " -1.2825027331686556e-5\n",
       " -5.961284244682119e-6 "
      ]
     },
     "execution_count": 96,
     "metadata": {},
     "output_type": "execute_result"
    }
   ],
   "source": [
    "Ra1 - Ra2"
   ]
  },
  {
   "cell_type": "markdown",
   "metadata": {},
   "source": [
    "## Reverse mode"
   ]
  },
  {
   "cell_type": "code",
   "execution_count": 104,
   "metadata": {},
   "outputs": [
    {
     "name": "stderr",
     "output_type": "stream",
     "text": [
      "┌ Info: Recompiling stale cache file /usr/people/briandd/.julia/compiled/v1.2/Zygote/4kbLI.ji for Zygote [e88e6eb3-aa80-5325-afca-941959d7151f]\n",
      "└ @ Base loading.jl:1240\n"
     ]
    }
   ],
   "source": [
    "using Zygote"
   ]
  },
  {
   "cell_type": "code",
   "execution_count": 105,
   "metadata": {},
   "outputs": [
    {
     "data": {
      "text/plain": [
       "9×240 Array{Float64,2}:\n",
       "  0.472067   0.472206   0.46982    0.466091  …  10.9887       10.9887     \n",
       " 15.0       15.0       15.0013    15.002        56.1401       56.1401     \n",
       " -1.87293   -1.87229   -1.97288   -2.03806      -0.493637     -0.493637   \n",
       "  0.790928   0.79109    0.777284   0.767792      1.02139e-11   1.02217e-11\n",
       "  1.22153    1.22221    1.11589    1.05309       0.000146905   0.000146684\n",
       "  0.261052   0.262349   0.102158   0.043804  …   0.535829      0.535829   \n",
       "  0.952157   0.951511   0.8578     0.962402      0.0309048     0.030905   \n",
       "  4.86666    4.86618    4.87329    4.88406       0.144762      0.144762   \n",
       "  0.555751   0.90129    0.912848   0.917142      0.10905       0.10905    "
      ]
     },
     "execution_count": 105,
     "metadata": {},
     "output_type": "execute_result"
    }
   ],
   "source": [
    "traces[1]"
   ]
  },
  {
   "cell_type": "code",
   "execution_count": 106,
   "metadata": {},
   "outputs": [
    {
     "data": {
      "text/plain": [
       "ℓℓ (generic function with 1 method)"
      ]
     },
     "execution_count": 106,
     "metadata": {},
     "output_type": "execute_result"
    }
   ],
   "source": [
    "ℓℓ(x) = -loglikelihood(x, data, n)\n",
    "#ForwardDiff.gradient(ℓℓ, x)"
   ]
  },
  {
   "cell_type": "code",
   "execution_count": 113,
   "metadata": {
    "scrolled": true
   },
   "outputs": [
    {
     "ename": "Zygote.CompileError",
     "evalue": "Compiling Tuple{typeof(Base.maptwice),getfield(Base, Symbol(\"##696#698\")){Channel{Any},Array{Any,1},getfield(Distributed, Symbol(\"##214#217\")){WorkerPool},getfield(Base, Symbol(\"##689#694\")){getfield(Distributed, Symbol(\"##198#200\")){getfield(Distributed, Symbol(\"###198#199#201\")){WorkerPool,getfield(pulse_input_DDM, Symbol(\"##70#71\")){θchoice{θz{Float64},Float64},Int64,Array{Float64,1},Array{Float64,2},Array{Float64,1},Float64}}}},getfield(Base, Symbol(\"##695#697\")){Channel{Any}}},Channel{Any},Array{Any,1},Array{choicedata{pulse_input_DDM.choiceinputs{pulse_input_DDM.clicks,pulse_input_DDM.binned_clicks}},1}}: try/catch is not supported.",
     "output_type": "error",
     "traceback": [
      "Compiling Tuple{typeof(Base.maptwice),getfield(Base, Symbol(\"##696#698\")){Channel{Any},Array{Any,1},getfield(Distributed, Symbol(\"##214#217\")){WorkerPool},getfield(Base, Symbol(\"##689#694\")){getfield(Distributed, Symbol(\"##198#200\")){getfield(Distributed, Symbol(\"###198#199#201\")){WorkerPool,getfield(pulse_input_DDM, Symbol(\"##70#71\")){θchoice{θz{Float64},Float64},Int64,Array{Float64,1},Array{Float64,2},Array{Float64,1},Float64}}}},getfield(Base, Symbol(\"##695#697\")){Channel{Any}}},Channel{Any},Array{Any,1},Array{choicedata{pulse_input_DDM.choiceinputs{pulse_input_DDM.clicks,pulse_input_DDM.binned_clicks}},1}}: try/catch is not supported.",
      "",
      "Stacktrace:",
      " [1] error(::String) at ./error.jl:33",
      " [2] instrument(::IRTools.Inner.IR) at /usr/people/briandd/.julia/packages/Zygote/tJj2w/src/compiler/reverse.jl:90",
      " [3] #Primal#14 at /usr/people/briandd/.julia/packages/Zygote/tJj2w/src/compiler/reverse.jl:171 [inlined]",
      " [4] Type at ./none:0 [inlined]",
      " [5] #Adjoint#30(::Int64, ::Bool, ::Type{Zygote.Adjoint}, ::IRTools.Inner.IR) at /usr/people/briandd/.julia/packages/Zygote/tJj2w/src/compiler/reverse.jl:284",
      " [6] (::getfield(Core, Symbol(\"#kw#Type\")))(::NamedTuple{(:varargs, :normalise),Tuple{Int64,Bool}}, ::Type{Zygote.Adjoint}, ::IRTools.Inner.IR) at ./none:0",
      " [7] _lookup_grad(::Type) at /usr/people/briandd/.julia/packages/Zygote/tJj2w/src/compiler/emit.jl:101",
      " [8] #s3146#1746 at /usr/people/briandd/.julia/packages/Zygote/tJj2w/src/compiler/interface2.jl:21 [inlined]",
      " [9] #s3146#1746(::Any, ::Any, ::Any) at ./none:0",
      " [10] (::Core.GeneratedFunctionStub)(::Any, ::Vararg{Any,N} where N) at ./boot.jl:524",
      " [11] (::getfield(Zygote, Symbol(\"##165#166\")){typeof(∂(maptwice)),Tuple{Tuple{Nothing,Nothing,Nothing},Tuple{Nothing}}})(::FillArrays.Fill{Float64,1,Tuple{Base.OneTo{Int64}}}) at /usr/people/briandd/.julia/packages/Zygote/tJj2w/src/lib/lib.jl:156",
      " [12] (::getfield(Zygote, Symbol(\"##321#back#167\")){getfield(Zygote, Symbol(\"##165#166\")){typeof(∂(maptwice)),Tuple{Tuple{Nothing,Nothing,Nothing},Tuple{Nothing}}}})(::FillArrays.Fill{Float64,1,Tuple{Base.OneTo{Int64}}}) at /usr/people/briandd/.julia/packages/ZygoteRules/6nssF/src/adjoint.jl:49",
      " [13] wrap_n_exec_twice at ./asyncmap.jl:154 [inlined]",
      " [14] (::typeof(∂(wrap_n_exec_twice)))(::FillArrays.Fill{Float64,1,Tuple{Base.OneTo{Int64}}}) at /usr/people/briandd/.julia/packages/Zygote/tJj2w/src/compiler/interface2.jl:0",
      " [15] (::getfield(Zygote, Symbol(\"##165#166\")){typeof(∂(wrap_n_exec_twice)),Tuple{NTuple{4,Nothing},Tuple{Nothing}}})(::FillArrays.Fill{Float64,1,Tuple{Base.OneTo{Int64}}}) at /usr/people/briandd/.julia/packages/Zygote/tJj2w/src/lib/lib.jl:156",
      " [16] (::getfield(Zygote, Symbol(\"##321#back#167\")){getfield(Zygote, Symbol(\"##165#166\")){typeof(∂(wrap_n_exec_twice)),Tuple{NTuple{4,Nothing},Tuple{Nothing}}}})(::FillArrays.Fill{Float64,1,Tuple{Base.OneTo{Int64}}}) at /usr/people/briandd/.julia/packages/ZygoteRules/6nssF/src/adjoint.jl:49",
      " [17] #async_usemap#684 at ./asyncmap.jl:103 [inlined]",
      " [18] (::typeof(∂(#async_usemap#684)))(::FillArrays.Fill{Float64,1,Tuple{Base.OneTo{Int64}}}) at /usr/people/briandd/.julia/packages/Zygote/tJj2w/src/compiler/interface2.jl:0",
      " [19] (::getfield(Zygote, Symbol(\"##165#166\")){typeof(∂(#async_usemap#684)),Tuple{NTuple{4,Nothing},Tuple{Nothing}}})(::FillArrays.Fill{Float64,1,Tuple{Base.OneTo{Int64}}}) at /usr/people/briandd/.julia/packages/Zygote/tJj2w/src/lib/lib.jl:156",
      " [20] (::getfield(Zygote, Symbol(\"##321#back#167\")){getfield(Zygote, Symbol(\"##165#166\")){typeof(∂(#async_usemap#684)),Tuple{NTuple{4,Nothing},Tuple{Nothing}}}})(::FillArrays.Fill{Float64,1,Tuple{Base.OneTo{Int64}}}) at /usr/people/briandd/.julia/packages/ZygoteRules/6nssF/src/adjoint.jl:49",
      " [21] #async_usemap at /usr/people/briandd/.julia/packages/Zygote/tJj2w/src/compiler/interface2.jl:0 [inlined]",
      " [22] (::typeof(∂(#async_usemap)))(::FillArrays.Fill{Float64,1,Tuple{Base.OneTo{Int64}}}) at /usr/people/briandd/.julia/packages/Zygote/tJj2w/src/compiler/interface2.jl:0",
      " [23] (::getfield(Zygote, Symbol(\"##165#166\")){typeof(∂(#async_usemap)),Tuple{Tuple{Nothing,Nothing,Nothing},Tuple{Nothing}}})(::FillArrays.Fill{Float64,1,Tuple{Base.OneTo{Int64}}}) at /usr/people/briandd/.julia/packages/Zygote/tJj2w/src/lib/lib.jl:156",
      " [24] #321#back at /usr/people/briandd/.julia/packages/ZygoteRules/6nssF/src/adjoint.jl:49 [inlined]",
      " [25] #asyncmap#683 at ./asyncmap.jl:81 [inlined]",
      " [26] (::typeof(∂(#asyncmap#683)))(::FillArrays.Fill{Float64,1,Tuple{Base.OneTo{Int64}}}) at /usr/people/briandd/.julia/packages/Zygote/tJj2w/src/compiler/interface2.jl:0",
      " [27] #165 at /usr/people/briandd/.julia/packages/Zygote/tJj2w/src/lib/lib.jl:156 [inlined]",
      " [28] (::getfield(Zygote, Symbol(\"##321#back#167\")){getfield(Zygote, Symbol(\"##165#166\")){typeof(∂(#asyncmap#683)),Tuple{NTuple{4,Nothing},Tuple{Nothing}}}})(::FillArrays.Fill{Float64,1,Tuple{Base.OneTo{Int64}}}) at /usr/people/briandd/.julia/packages/ZygoteRules/6nssF/src/adjoint.jl:49",
      " [29] #asyncmap at /usr/people/briandd/.julia/packages/Zygote/tJj2w/src/compiler/interface2.jl:0 [inlined]",
      " [30] (::typeof(∂(#asyncmap)))(::FillArrays.Fill{Float64,1,Tuple{Base.OneTo{Int64}}}) at /usr/people/briandd/.julia/packages/Zygote/tJj2w/src/compiler/interface2.jl:0",
      " [31] #pmap#213 at /buildworker/worker/package_linux64/build/usr/share/julia/stdlib/v1.2/Distributed/src/pmap.jl:126 [inlined]",
      " [32] (::typeof(∂(#pmap#213)))(::FillArrays.Fill{Float64,1,Tuple{Base.OneTo{Int64}}}) at /usr/people/briandd/.julia/packages/Zygote/tJj2w/src/compiler/interface2.jl:0",
      " [33] pmap at /buildworker/worker/package_linux64/build/usr/share/julia/stdlib/v1.2/Distributed/src/pmap.jl:101 [inlined]",
      " [34] (::typeof(∂(pmap)))(::FillArrays.Fill{Float64,1,Tuple{Base.OneTo{Int64}}}) at /usr/people/briandd/.julia/packages/Zygote/tJj2w/src/compiler/interface2.jl:0",
      " [35] #pmap#223 at /buildworker/worker/package_linux64/build/usr/share/julia/stdlib/v1.2/Distributed/src/pmap.jl:156 [inlined]",
      " [36] (::typeof(∂(#pmap#223)))(::FillArrays.Fill{Float64,1,Tuple{Base.OneTo{Int64}}}) at /usr/people/briandd/.julia/packages/Zygote/tJj2w/src/compiler/interface2.jl:0",
      " [37] pmap at /buildworker/worker/package_linux64/build/usr/share/julia/stdlib/v1.2/Distributed/src/pmap.jl:156 [inlined]",
      " [38] (::typeof(∂(pmap)))(::FillArrays.Fill{Float64,1,Tuple{Base.OneTo{Int64}}}) at /usr/people/briandd/.julia/packages/Zygote/tJj2w/src/compiler/interface2.jl:0",
      " [39] loglikelihood at /usr/people/briandd/Projects/pulse_input_DDM/src/choice_model/compute_LL.jl:14 [inlined]",
      " [40] (::typeof(∂(loglikelihood)))(::Float64) at /usr/people/briandd/.julia/packages/Zygote/tJj2w/src/compiler/interface2.jl:0",
      " [41] loglikelihood at /usr/people/briandd/Projects/pulse_input_DDM/src/choice_model/choice_model.jl:126 [inlined]",
      " [42] (::typeof(∂(loglikelihood)))(::Float64) at /usr/people/briandd/.julia/packages/Zygote/tJj2w/src/compiler/interface2.jl:0",
      " [43] ℓℓ at ./In[106]:1 [inlined]",
      " [44] (::typeof(∂(ℓℓ)))(::Float64) at /usr/people/briandd/.julia/packages/Zygote/tJj2w/src/compiler/interface2.jl:0",
      " [45] #45 at ./In[113]:1 [inlined]",
      " [46] (::getfield(Zygote, Symbol(\"##36#37\")){typeof(∂(#45))})(::Float64) at /usr/people/briandd/.julia/packages/Zygote/tJj2w/src/compiler/interface.jl:38",
      " [47] gradient(::Function, ::Array{Float64,1}) at /usr/people/briandd/.julia/packages/Zygote/tJj2w/src/compiler/interface.jl:47",
      " [48] top-level scope at In[113]:1"
     ]
    }
   ],
   "source": [
    "Zygote.gradient(x-> ℓℓ(x), collect(Flatten.flatten(θ_syn)))"
   ]
  },
  {
   "cell_type": "markdown",
   "metadata": {},
   "source": [
    "### Compute Hessian\n",
    "Blah blah blah"
   ]
  },
  {
   "cell_type": "code",
   "execution_count": 42,
   "metadata": {},
   "outputs": [
    {
     "name": "stderr",
     "output_type": "stream",
     "text": [
      "┌ Warning: Hessian is not positive definite. Approximated by closest PSD matrix.\n",
      "│             ||ϵ||/||H|| is 0.223694523778866\n",
      "└ @ pulse_input_DDM /usr/people/briandd/Projects/pulse_input_DDM/src/base_model.jl:19\n"
     ]
    }
   ],
   "source": [
    "H = Hessian(model, n)\n",
    "CI, HPSD = CIs(H);"
   ]
  },
  {
   "cell_type": "code",
   "execution_count": 43,
   "metadata": {},
   "outputs": [
    {
     "data": {
      "text/plain": [
       "11-element Array{Float64,1}:\n",
       " 11.650158965965602   \n",
       " 50.08465038997119    \n",
       "  0.9794250017826648  \n",
       " 20.071962630628775   \n",
       "  0.8280034436388295  \n",
       "  0.15319607993220483 \n",
       "  0.009740611905573246\n",
       "  2.0                 \n",
       "  2.0                 \n",
       "  0.17024446361358803 \n",
       "  0.01086344275122942 "
      ]
     },
     "execution_count": 43,
     "metadata": {},
     "output_type": "execute_result"
    }
   ],
   "source": [
    "CI"
   ]
  },
  {
   "cell_type": "code",
   "execution_count": 44,
   "metadata": {},
   "outputs": [
    {
     "data": {
      "text/plain": [
       "11×3 Array{Float64,2}:\n",
       " -10.7113       1.0   12.5891   \n",
       " -38.3492      13.0   61.8201   \n",
       "  -1.35075     -0.5    0.608102 \n",
       "  -8.53344     10.0   31.6105   \n",
       "   0.0395871    1.0    1.69559  \n",
       "   0.281214     0.4    0.587606 \n",
       "   0.0129646    0.02   0.0324458\n",
       "  -2.0          0.0    2.0      \n",
       "  -2.0          0.0    2.0      \n",
       "  -0.00742028   0.1    0.333069 \n",
       "   0.0865729    0.1    0.1083   "
      ]
     },
     "execution_count": 44,
     "metadata": {},
     "output_type": "execute_result"
    }
   ],
   "source": [
    "hcat(collect(Flatten.flatten(model.θ)) - CI, collect(Flatten.flatten(θ_syn)), collect(Flatten.flatten(model.θ)) + CI)"
   ]
  },
  {
   "cell_type": "code",
   "execution_count": 45,
   "metadata": {},
   "outputs": [
    {
     "data": {
      "text/plain": [
       "11×2 Array{Float64,2}:\n",
       "  0.938897    1.0 \n",
       " 11.7354     13.0 \n",
       " -0.371323   -0.5 \n",
       " 11.5385     10.0 \n",
       "  0.867591    1.0 \n",
       "  0.43441     0.4 \n",
       "  0.0227052   0.02\n",
       "  0.0         0.0 \n",
       "  0.0         0.0 \n",
       "  0.162824    0.1 \n",
       "  0.0974364   0.1 "
      ]
     },
     "execution_count": 45,
     "metadata": {},
     "output_type": "execute_result"
    }
   ],
   "source": [
    "hcat(collect(Flatten.flatten(model.θ)), collect(Flatten.flatten(θ_syn)))"
   ]
  },
  {
   "cell_type": "code",
   "execution_count": 46,
   "metadata": {},
   "outputs": [
    {
     "data": {
      "text/plain": [
       "11×1 BitArray{2}:\n",
       " 1\n",
       " 1\n",
       " 1\n",
       " 1\n",
       " 1\n",
       " 1\n",
       " 1\n",
       " 1\n",
       " 1\n",
       " 1\n",
       " 1"
      ]
     },
     "execution_count": 46,
     "metadata": {},
     "output_type": "execute_result"
    }
   ],
   "source": [
    "hcat(collect(Flatten.flatten(model.θ)) - CI .< collect(Flatten.flatten(θ_syn)) .< collect(Flatten.flatten(model.θ)) + CI)"
   ]
  },
  {
   "cell_type": "code",
   "execution_count": null,
   "metadata": {},
   "outputs": [],
   "source": []
  }
 ],
 "metadata": {
  "kernelspec": {
   "display_name": "Julia 1.2.0",
   "language": "julia",
   "name": "julia-1.2"
  },
  "language_info": {
   "file_extension": ".jl",
   "mimetype": "application/julia",
   "name": "julia",
   "version": "1.2.0"
  }
 },
 "nbformat": 4,
 "nbformat_minor": 2
}
