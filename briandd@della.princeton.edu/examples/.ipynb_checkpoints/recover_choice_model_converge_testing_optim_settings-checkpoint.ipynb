{
 "cells": [
  {
   "cell_type": "code",
   "execution_count": 1,
   "metadata": {},
   "outputs": [],
   "source": [
    "using Distributed\n",
    "addprocs(44);"
   ]
  },
  {
   "cell_type": "markdown",
   "metadata": {
    "scrolled": true
   },
   "source": [
    "### Fitting a choice model.\n",
    "\n",
    "First you have to include the necessary package"
   ]
  },
  {
   "cell_type": "code",
   "execution_count": 2,
   "metadata": {},
   "outputs": [
    {
     "name": "stderr",
     "output_type": "stream",
     "text": [
      "┌ Info: Recompiling stale cache file /usr/people/briandd/.julia/compiled/v1.2/pulse_input_DDM/m8WoA.ji for pulse_input_DDM [c2542da2-1f7d-11e9-2506-87691095ebb2]\n",
      "└ @ Base loading.jl:1240\n",
      "WARNING: Method definition vec(Number) in module FiniteDiff at /usr/people/briandd/.julia/packages/FiniteDiff/EBys0/src/jacobians.jl:128 overwritten in module DiffEqDiffTools at /usr/people/briandd/.julia/packages/DiffEqDiffTools/3mm8U/src/jacobians.jl:114.\n",
      "  ** incremental compilation may be fatally broken for this module **\n",
      "\n"
     ]
    }
   ],
   "source": [
    "using pulse_input_DDM, Flatten"
   ]
  },
  {
   "cell_type": "markdown",
   "metadata": {},
   "source": [
    "### Geneerate some data\n",
    "Blah blah blah"
   ]
  },
  {
   "cell_type": "code",
   "execution_count": 3,
   "metadata": {},
   "outputs": [],
   "source": [
    "θ_syn = θchoice(θz=θz(σ2_i = 1., B = 13., λ = -0.5, σ2_a = 10., σ2_s = 1.0,\n",
    "    ϕ = 0.4, τ_ϕ = 0.02), bias=0.1, lapse=0.1);"
   ]
  },
  {
   "cell_type": "code",
   "execution_count": 4,
   "metadata": {},
   "outputs": [],
   "source": [
    "_, data = synthetic_data(;θ=θ_syn, ntrials=20_000, rng=1, dt=2e-2);"
   ]
  },
  {
   "cell_type": "code",
   "execution_count": 5,
   "metadata": {},
   "outputs": [
    {
     "data": {
      "text/plain": [
       "53"
      ]
     },
     "execution_count": 5,
     "metadata": {},
     "output_type": "execute_result"
    }
   ],
   "source": [
    "n = 53"
   ]
  },
  {
   "cell_type": "code",
   "execution_count": 6,
   "metadata": {},
   "outputs": [
    {
     "data": {
      "text/plain": [
       "-7584.331915222198"
      ]
     },
     "execution_count": 6,
     "metadata": {},
     "output_type": "execute_result"
    }
   ],
   "source": [
    "loglikelihood(θ_syn, data, n)"
   ]
  },
  {
   "cell_type": "code",
   "execution_count": 7,
   "metadata": {},
   "outputs": [
    {
     "data": {
      "text/plain": [
       "11-element Array{Float64,1}:\n",
       "  0.1  \n",
       " 15.0  \n",
       " -0.1  \n",
       " 20.0  \n",
       "  0.5  \n",
       "  0.2  \n",
       "  0.008\n",
       "  0.0  \n",
       "  0.0  \n",
       "  0.0  \n",
       "  0.01 "
      ]
     },
     "execution_count": 7,
     "metadata": {},
     "output_type": "execute_result"
    }
   ],
   "source": [
    "#x0 = collect(Flatten.flatten(θ_syn));\n",
    "fit = vcat(trues(7),falses(2),trues(2));\n",
    "x0 = vcat([0.1, 15., -0.1, 20., 0.5, 0.2, 0.008,0.,0.], [0.,0.01]) #random initial state"
   ]
  },
  {
   "cell_type": "code",
   "execution_count": 8,
   "metadata": {},
   "outputs": [
    {
     "data": {
      "text/plain": [
       "choiceoptions\n",
       "  fit: Array{Bool}((11,)) Bool[1, 1, 1, 1, 1, 1, 1, 0, 0, 1, 1]\n",
       "  lb: Array{Float64}((11,)) [0.0, 8.0, -5.0, 0.0, 0.0, 0.01, 0.005, -30.0, -30.0, -5.0, 0.0]\n",
       "  ub: Array{Float64}((11,)) [2.0, 30.0, 5.0, 100.0, 2.5, 1.2, 1.0, 30.0, 30.0, 5.0, 1.0]\n",
       "  x0: Array{Float64}((11,)) [0.1, 15.0, -0.1, 20.0, 0.5, 0.2, 0.008, 0.0, 0.0, 0.0, 0.01]\n"
      ]
     },
     "execution_count": 8,
     "metadata": {},
     "output_type": "execute_result"
    }
   ],
   "source": [
    "options = choiceoptions(x0=x0, fit=fit, \n",
    "    lb=vcat([0., 8., -5., 0.,   0.,  0.01, 0.005, -30., -30.], [-5., 0.]),\n",
    "    ub=vcat([2., 30., 5., 100., 2.5, 1.2,  1.,     30., 30.], [5., 1.]))"
   ]
  },
  {
   "cell_type": "code",
   "execution_count": 9,
   "metadata": {},
   "outputs": [],
   "source": [
    "using Random\n",
    "Random.seed!(4)\n",
    "x0 = options.lb + (options.ub - options.lb) .* rand(length(options.x0))\n",
    "x0[2] = 15.\n",
    "x0[8:9] .= 0.;\n",
    "#x0[1] = options.ub[1] - 2*eps()\n",
    "#x0[6] = options.ub[6] - 2*eps();"
   ]
  },
  {
   "cell_type": "code",
   "execution_count": 10,
   "metadata": {},
   "outputs": [],
   "source": [
    "#x0 = collect(Flatten.flatten(model.θ));"
   ]
  },
  {
   "cell_type": "code",
   "execution_count": 11,
   "metadata": {},
   "outputs": [
    {
     "data": {
      "text/plain": [
       "choiceoptions\n",
       "  fit: Array{Bool}((11,)) Bool[1, 1, 1, 1, 1, 1, 1, 0, 0, 1, 1]\n",
       "  lb: Array{Float64}((11,)) [0.0, 8.0, -5.0, 0.0, 0.0, 0.01, 0.005, -30.0, -30.0, -5.0, 0.0]\n",
       "  ub: Array{Float64}((11,)) [2.0, 30.0, 5.0, 200.0, 5.0, 1.2, 1.0, 30.0, 30.0, 5.0, 1.0]\n",
       "  x0: Array{Float64}((11,)) [1.360158471871482, 15.0, 4.240700869281602, 92.93362188436957, 1.5630977983246341, 0.8873318987544333, 0.271021313702263, 0.0, 0.0, 2.3238037955842117, 0.3888589512567495]\n"
      ]
     },
     "execution_count": 11,
     "metadata": {},
     "output_type": "execute_result"
    }
   ],
   "source": [
    "options = choiceoptions(x0=x0, fit=fit, \n",
    "    lb=vcat([0.,  8., -5., 0.,   0.,  0.01, 0.005, -30., -30.], [-5., 0.]),\n",
    "    ub=vcat([Inf, 30., 5., Inf, Inf,  1.2,  1.,     30.,  30.],  [5., 1.]))"
   ]
  },
  {
   "cell_type": "markdown",
   "metadata": {},
   "source": [
    "### Optimize stuff\n",
    "Blah blah blah"
   ]
  },
  {
   "cell_type": "code",
   "execution_count": 12,
   "metadata": {
    "scrolled": false
   },
   "outputs": [
    {
     "name": "stdout",
     "output_type": "stream",
     "text": [
      "Fminbox\n",
      "-------\n",
      "Initial mu = 0.910901\n",
      "\n",
      "Fminbox iteration 1\n",
      "-------------------\n",
      "Calling inner optimizer with mu = 0.910901\n",
      "\n",
      "(numbers below include barrier contribution)\n",
      "Iter     Function value   Gradient norm \n",
      "     0     1.005507e+04     1.028916e+04\n",
      " * Current step size: 1.0\n",
      " * time: 0.00020599365234375\n",
      " * g(x): [45.89123826921906, 2.126310714778598, 104.93545696811677, 4.888949175536933, 287.91708863735823, -10289.162362028781, 1834.7540731889976, 7.7762930801252494, 4790.902725808669]\n",
      " * x: [1.360158471871482, 15.0, 4.240700869281602, 92.93362188436957, 1.5630977983246341, 0.8873318987544333, 0.271021313702263, 2.3238037955842117, 0.3888589512567495]\n",
      "     5     7.927844e+03     1.122325e+03\n",
      " * Current step size: 0.25\n",
      " * time: 71.23986005783081\n",
      " * g(x): [-1.1657420754804642, 37.31484445560567, -102.88221322712504, -0.17584055521969513, -36.127109053952, 281.9594842434185, 33.756686805711595, 132.85996543723795, -1122.3253401787106]\n",
      " * x: [0.8554849460495922, 13.519494465968137, -3.163013338172198, 92.53014016401309, 3.424899092779207, 1.1080767878028712, 0.07683549633084194, 2.0979878280032063, 0.03915789688965368]\n",
      "    10     7.788447e+03     2.558555e+03\n",
      " * Current step size: 0.03125\n",
      " * time: 133.84846115112305\n",
      " * g(x): [0.21378696686477738, -14.761292159470905, 3.4391761923471034, 0.9318178930605722, 15.75056790446371, -21.705642973545032, -2558.5554122967037, 39.431129670078406, -286.3891473218491]\n",
      " * x: [0.7321206237077182, 11.881297584397155, -1.217070067190829, 91.11231362380357, 2.6683264934195936, 1.0773595233023134, 0.0053299191420746895, 2.069570698626217, 0.07401695988555607]\n",
      "    15     7.722675e+03     4.804673e+02\n",
      " * Current step size: 0.25\n",
      " * time: 247.17792415618896\n",
      " * g(x): [0.04678039586699034, -5.791332018436325, 7.803159998990107, 0.8891956277032984, 13.789357853771595, 59.77884932892429, 480.4672650112123, 1.4705895020350417, 127.44070223630098]\n",
      " * x: [0.7913391263709721, 14.52184095278637, -0.7548012766478394, 90.78194124768042, 2.4318768503678183, 1.1853847518078184, 0.013641636216213695, 0.44267331492408735, 0.08904606164565954]\n",
      "    20     7.709589e+03     1.031470e+03\n",
      " * Current step size: 0.5\n",
      " * time: 323.66647601127625\n",
      " * g(x): [0.23874068731068654, -0.6139111750220086, 3.5607258286792534, 0.5840551961448464, -1.5160646149827395, -4.8815139238379075, -1031.4700370611065, -3.3419535459110272, -98.16531506991966]\n",
      " * x: [1.1581241596942409, 18.73871477361195, -0.46472203700132075, 87.20960709556536, 2.541265331609869, 1.1740235460012636, 0.005676723473492859, 0.2914387328883878, 0.08828349084096666]\n",
      "    25     7.701368e+03     8.791998e+01\n",
      " * Current step size: 1.0\n",
      " * time: 406.9162971973419\n",
      " * g(x): [0.459405265401535, 0.34314691460429975, -6.456850020252666, 0.5392947001068018, -3.6765845847345244, -18.525411565873473, 87.91998392713344, 0.8871399701696888, -82.48472233406936]\n",
      " * x: [1.3217087071939908, 21.603574559711998, -0.5718485856682138, 73.4136362394843, 2.6172903073910896, 1.1514718816540062, 0.007784269273232681, 0.40008259287139475, 0.09045654128948254]\n",
      "    30     7.678204e+03     1.813237e+02\n",
      " * Current step size: 0.015625\n",
      " * time: 478.7357461452484\n",
      " * g(x): [24.254597802815283, 1.7655440504101465, -17.107056609253437, 0.3736391001949981, -5.551086878193555, -13.186431157651612, 181.323678743453, 1.4060512198902921, -91.5742425381926]\n",
      " * x: [1.9635746162478969, 29.385815028267537, -0.8550334050758888, 8.026837490115842, 3.091477587421284, 1.1714653122672836, 0.011250620898660427, 0.3570693410642808, 0.09559524163450257]\n",
      "    35     7.672086e+03     2.426041e+02\n",
      " * Current step size: 0.00454948154223516\n",
      " * time: 564.2831840515137\n",
      " * g(x): [20.941064568520144, 1.3231596012612052, 1.5938804966677367, 0.34586483946659574, 6.29007936574102, 23.65218121300248, 242.60406566222483, 5.203567765353266, 175.83328622427192]\n",
      " * x: [1.957337775609132, 29.14253052457587, -0.404477329416764, 1.3979889150150748, 3.3965906102633268, 1.1827551463420727, 0.010643334541963942, 0.5188503757731399, 0.09743067354761585]\n",
      "    40     7.668468e+03     6.162763e+01\n",
      " * Current step size: 1.0\n",
      " * time: 655.1796350479126\n",
      " * g(x): [2.9968573372720044, 0.5326595121267461, 4.1338795525246965, 0.12651680639715446, 0.9820558061384486, 12.205730544794065, 43.8123484631318, 2.710194532490247, 61.62762862042]\n",
      " * x: [1.7441250034129472, 27.423921255198938, -0.37050121585775275, 1.1880494198390887, 3.357540308205471, 1.183006901086562, 0.008623137892636228, 0.4535133153430834, 0.09702102557894549]\n",
      "    45     7.665457e+03     5.830026e+01\n",
      " * Current step size: 1.0\n",
      " * time: 719.2890241146088\n",
      " * g(x): [1.0276702444106496, 0.1232616449046282, -0.9009252174908672, 0.02526316114597127, -0.7783596405773464, 7.331433106025521, -58.30025632062109, -0.08151408730241437, 0.7651216183234197]\n",
      " * x: [1.4839567379727014, 19.74786734151404, -0.5504066893976228, 1.5723447297851851, 3.378751282358479, 1.1828573360544992, 0.008095742513237086, 0.3607703917749788, 0.09634587292918417]\n",
      "    50     7.665243e+03     5.072736e+01\n",
      " * Current step size: 0.014564779667796946\n",
      " * time: 821.3038470745087\n",
      " * g(x): [0.35641147901981374, 0.05521111481240916, 0.4525644248544602, 0.01976851989282924, 0.014979445171641459, -2.71168756620947, 50.727358232285695, 0.5751937199532167, 10.932783014954877]\n",
      " * x: [1.2350858001166243, 19.35576407267231, -0.5240019809622833, 1.516359836521215, 3.396346060167397, 1.177970783296944, 0.0090139498184334, 0.38226863557524204, 0.09629040044831597]\n",
      "    55     7.665177e+03     2.583609e-01\n",
      " * Current step size: 0.06710998871702284\n",
      " * time: 916.9607791900635\n",
      " * g(x): [0.006487888119757201, -0.0024677348546836776, -0.005500203778960093, 0.006289617357950972, 0.0018022669710491268, 0.03798421431132226, -0.1994972644572499, -0.0017239747946133574, 0.25836088395574563]\n",
      " * x: [1.05913614358448, 18.976729891180693, -0.5466499620810344, 1.5077691518235312, 3.405244937535872, 1.1796478121700302, 0.008541785524573488, 0.3655186539860404, 0.09596622672742487]\n",
      "    60     7.665177e+03     3.920038e-01\n",
      " * Current step size: 0.032250344136654036\n",
      " * time: 1044.6459710597992\n",
      " * g(x): [-0.0011731820396542053, -0.0031131880372927932, 0.01994137953112147, 0.002051639092793156, -0.019758410272461724, -0.056113359428820786, 0.32338641743800167, -0.012104485872424787, -0.3920037548297639]\n",
      " * x: [1.0552207859617273, 18.977216367770698, -0.5460668605369334, 1.4937047247732484, 3.405297152884487, 1.1796161014017075, 0.008548829972620743, 0.3652790845799215, 0.09595990817982177]\n",
      "\n",
      "Exiting inner optimizer with x = [1.0555113821471298, 18.978544364738905, -0.546465456198497, 1.4853899257728551, 3.40592592639179, 1.179630865400487, 0.008542516381813595, 0.3654923948537689, 0.09595899952650191]\n",
      "Current distance to box: 0.00354252\n",
      "Decreasing barrier term μ.\n",
      "\n",
      "Fminbox iteration 2\n",
      "-------------------\n",
      "Calling inner optimizer with mu = 0.000910901\n",
      "\n",
      "(numbers below include barrier contribution)\n",
      "Iter     Function value   Gradient norm \n",
      "     0     7.671326e+03     2.558041e+02\n",
      " * Current step size: 1.0\n",
      " * time: 5.507469177246094e-5\n",
      " * g(x): [-0.10154006725601368, -0.002218862834094572, 0.03981353828409292, 0.6081948091045434, -0.295638536395285, -43.8910813906925, 255.8041177214223, -0.029752392545270807, 8.607450240429419]\n",
      " * x: [1.0555113821471298, 18.978544364738905, -0.546465456198497, 1.4853899257728551, 3.40592592639179, 1.179630865400487, 0.008542516381813595, 0.3654923948537689, 0.09595899952650191]\n",
      "     5     7.670099e+03     1.031855e+02\n",
      " * Current step size: 0.00390625\n",
      " * time: 70.02104210853577\n",
      " * g(x): [-0.165130964664543, -0.014957684815285796, 0.36458378330287605, 0.5447881097376558, -3.5914924707552647, -46.84475811853599, -47.671113147462535, -0.034921579087148547, -103.18554570849193]\n",
      " * x: [1.0561404455815908, 18.978633028561084, -0.5492602488964039, 1.4807614603403325, 3.4003032716125494, 1.1996830110278967, 0.005919013027379965, 0.3655212441762146, 0.09411063644954006]\n",
      "    10     7.668962e+03     7.841837e+01\n",
      " * Current step size: 0.125\n",
      " * time: 134.27122402191162\n",
      " * g(x): [-0.02312520811183117, -0.07994384337255525, -0.1378915263706491, 1.4077557123839135, 3.43156024884245, -39.91633788894436, 58.46352510524501, 1.0322064092613306, 78.41836898324948]\n",
      " * x: [1.2738805743717945, 19.04031347390074, -0.537857661969993, 0.04827592176310147, 3.5072545296744253, 1.1994063188869564, 0.005811679629104792, 0.39664456964400996, 0.09589203925841712]\n"
     ]
    },
    {
     "name": "stdout",
     "output_type": "stream",
     "text": [
      "    15     7.668777e+03     9.555884e+01\n",
      " * Current step size: 0.0078125\n",
      " * time: 210.5542709827423\n",
      " * g(x): [-0.0762187657804824, -0.06952892042061366, -0.050954881538078554, 1.2553941096397998, 0.7831059023709808, 95.55884278442218, -2.967388557813713, 0.5670179401067427, 3.565431967908338]\n",
      " * x: [1.2779130930836657, 19.043745916846895, -0.5392339428042727, 0.006613543663893662, 3.4805423705955008, 1.1999935061876261, 0.005766332628460784, 0.38210134611509994, 0.09503131302173551]\n",
      "    20     7.668726e+03     1.852603e+01\n",
      " * Current step size: 1.0\n",
      " * time: 293.2027099132538\n",
      " * g(x): [-0.09855030028543477, -0.03918726583353794, 0.11737235882886914, 0.7839968249619422, -0.3779458528625049, -18.526033985151194, 0.5853328621681742, -0.2916568898610319, -1.766517085935188]\n",
      " * x: [1.5578733282957018, 19.234864653126586, -0.5333995974933883, 0.002438871671355746, 3.442822707838433, 1.1999668889588082, 0.005909808448514454, 0.35741737067502205, 0.09562721381513511]\n",
      "    25     7.668681e+03     3.279828e+01\n",
      " * Current step size: 0.0625\n",
      " * time: 382.742653131485\n",
      " * g(x): [-0.018981364832968486, -0.004950848779964819, 0.13661630810295, -0.1550643809907386, -0.09258586072850639, 32.79828397081686, 8.932000302970026, -0.16320334069179054, 0.9614280723586814]\n",
      " * x: [1.9876365612070954, 19.47981920178934, -0.5281394175607533, 0.0009245216802730057, 3.4430211555226053, 1.199988392442518, 0.005921160586537842, 0.36062910569295864, 0.09548706090222088]\n",
      "    30     7.668680e+03     3.839402e+00\n",
      " * Current step size: 0.0313736229757862\n",
      " * time: 485.12369108200073\n",
      " * g(x): [0.005175122652728667, -0.0012172813506944862, -0.031021415792396506, 0.13121591064064408, 0.014341038503943858, -3.839402143624696, -3.065831608184537, 0.03568940752272075, 0.1443292020271757]\n",
      " * x: [1.9905556837025928, 19.485344043030604, -0.5316810437721262, 0.0012090118143809549, 3.4488336068594108, 1.1999781202554771, 0.005825281381184875, 0.3659532837109307, 0.09536920270214028]\n",
      "\n",
      "Exiting inner optimizer with x = [1.9900779914921214, 19.48624939303292, -0.531215944533512, 0.0010620909253341428, 3.447381487665946, 1.1999804016884146, 0.0058468233450613616, 0.3647265762402209, 0.09538755116064908]\n",
      "Current distance to box: 1.95983e-5\n",
      "Decreasing barrier term μ.\n",
      "\n",
      "Fminbox iteration 3\n",
      "-------------------\n",
      "Calling inner optimizer with mu = 9.10901e-7\n",
      "\n",
      "(numbers below include barrier contribution)\n",
      "Iter     Function value   Gradient norm \n",
      "     0     7.668668e+03     4.546892e+01\n",
      " * Current step size: 1.0\n",
      " * time: 4.887580871582031e-5\n",
      " * g(x): [-0.09148652553079019, -0.004007774377390908, -0.010287689459081583, 0.8696381063519587, -0.02280095972387653, -45.46892402655954, -0.05218154109429019, -0.00810931180726394, -0.20052715692777046]\n",
      " * x: [1.9900779914921214, 19.48624939303292, -0.531215944533512, 0.0010620909253341428, 3.447381487665946, 1.1999804016884146, 0.0058468233450613616, 0.3647265762402209, 0.09538755116064908]\n",
      "     5     7.668667e+03     4.449315e+01\n",
      " * Current step size: 0.0625\n",
      " * time: 63.622967004776\n",
      " * g(x): [-0.0862315332337677, -0.0028413746429283688, 0.018827060535825092, 0.7487564607024827, 0.21293099069770888, -44.493148329333835, 10.319167264583266, -0.027869733880141863, 8.74707519620806]\n",
      " * x: [1.9962195331664354, 19.486268122249278, -0.5300204016232982, 0.00013506174408112821, 3.447462389050063, 1.1999987973950295, 0.005883105561877785, 0.36402875005200763, 0.09554862369700445]\n",
      "    10     7.668666e+03     4.293096e+01\n",
      " * Current step size: 0.125\n",
      " * time: 127.11415982246399\n",
      " * g(x): [-0.06865022349489094, -0.003508159721353603, 0.002653492576024383, 1.1267911153908055, 0.14817493746928168, -42.93095597218005, 8.980290509348718, -0.02064115960510145, 6.141960717387749]\n",
      " * x: [1.999952522064841, 19.48613632741704, -0.5305454016786473, 4.4190292612660876e-5, 3.4473812666141654, 1.1999996132761992, 0.005874462375777937, 0.36412753426912164, 0.09549952950447627]\n",
      "    15     7.668666e+03     4.243844e+01\n",
      " * Current step size: 3.814697265625e-6\n",
      " * time: 190.9282398223877\n",
      " * g(x): [-0.0653026107961076, -0.0030961742698285876, 0.00991620375883476, 2.022135082894611, 0.10788158415272393, -42.43844036448286, 7.964059862516256, -0.021863833916581605, 4.783949099415322]\n",
      " * x: [1.99996084010125, 19.486258319697647, -0.5304534294866249, 1.0733932476626188e-5, 3.4472060076545596, 1.1999996853840438, 0.0058732391956293414, 0.3640642526976349, 0.09547727464448304]\n",
      "\n",
      "Exiting inner optimizer with x = [1.9999678865579766, 19.486309410544337, -0.5307509176418742, 1.0983879987701687e-5, 3.447125762810642, 1.199999428641383, 0.005872299050800144, 0.3642289210075569, 0.09547869222623673]\n",
      "Current distance to box: 5.71359e-7\n",
      "Decreasing barrier term μ.\n",
      "\n",
      "Fminbox iteration 4\n",
      "-------------------\n",
      "Calling inner optimizer with mu = 9.10901e-10\n",
      "\n",
      "(numbers below include barrier contribution)\n",
      "Iter     Function value   Gradient norm \n",
      "     0     7.668666e+03     4.533532e+01\n",
      " * Current step size: 1.0\n",
      " * time: 3.504753112792969e-5\n",
      " * g(x): [-0.08868721062714446, -0.0026477853431313746, -0.0033165652828473008, 2.0703316836398438, 0.10389927000110234, -45.33532483904136, 7.755314312991039, -0.014771963378678513, 4.772516085003043]\n",
      " * x: [1.9999678865579766, 19.486309410544337, -0.5307509176418742, 1.0983879987701687e-5, 3.447125762810642, 1.199999428641383, 0.005872299050800144, 0.3642289210075569, 0.09547869222623673]\n",
      "\n",
      "Exiting inner optimizer with x = [1.9999733975266716, 19.48630976575085, -0.5307519829473741, 1.6348070182808785e-6, 3.447125901853883, 1.1999999949251614, 0.005854637329777091, 0.364230832014032, 0.09535198651726422]\n",
      "Current distance to box: 5.07484e-9\n",
      "Decreasing barrier term μ.\n",
      "\n",
      "Fminbox iteration 5\n",
      "-------------------\n",
      "Calling inner optimizer with mu = 9.10901e-13\n",
      "\n",
      "(numbers below include barrier contribution)\n",
      "Iter     Function value   Gradient norm \n",
      "     0     7.668665e+03     4.556600e+01\n",
      " * Current step size: 1.0\n",
      " * time: 3.600120544433594e-5\n",
      " * g(x): [-0.0919939422653146, -0.00304765547457103, 0.01338710770368175, 4.945810825718307, -0.0651759226293019, -45.56599736209975, 0.3120558802363303, -0.014565422983398208, -1.9653463692863422]\n",
      " * x: [1.9999733975266716, 19.48630976575085, -0.5307519829473741, 1.6348070182808785e-6, 3.447125901853883, 1.1999999949251614, 0.005854637329777091, 0.364230832014032, 0.09535198651726422]\n",
      "\n",
      "Exiting inner optimizer with x = [1.9999743642349652, 19.48630980610177, -0.5307520965347091, 7.098402082546974e-7, 3.447126254146752, 1.1999999999623536, 0.005855229734147218, 0.3642309924178056, 0.09535708483339257]\n",
      "Current distance to box: 3.76463e-11\n",
      "Decreasing barrier term μ.\n",
      "\n",
      "Fminbox iteration 6\n",
      "-------------------\n",
      "Calling inner optimizer with mu = 9.10901e-16\n",
      "\n",
      "(numbers below include barrier contribution)\n",
      "Iter     Function value   Gradient norm \n",
      "     0     7.668665e+03     4.556506e+01\n",
      " * Current step size: 1.0\n",
      " * time: 4.9114227294921875e-5\n",
      " * g(x): [-0.09186477766685723, -0.0030790554649517197, 0.012704496682774806, 7.401365919145852, -0.05840470546833533, -45.56505630306466, 0.7596221449493202, -0.014356835766530436, -1.6967636798620531]\n",
      " * x: [1.9999743642349652, 19.48630980610177, -0.5307520965347091, 7.098402082546974e-7, 3.447126254146752, 1.1999999999623536, 0.005855229734147218, 0.3642309924178056, 0.09535708483339257]\n",
      "\n",
      "Exiting inner optimizer with x = [1.999974416301995, 19.48630980784726, -0.5307521037578861, 2.6806766393976774e-7, 3.447126287264773, 1.1999999999953712, 0.005854792386051536, 0.36423100066456376, 0.09535804956041251]\n",
      "Current distance to box: 4.62874e-12\n",
      "Decreasing barrier term μ.\n",
      "\n",
      "optimization complete. converged: true \n",
      "\n"
     ]
    },
    {
     "data": {
      "text/plain": [
       "(choiceDDM{θchoice{θz{Float64},Float64},Array{choicedata{pulse_input_DDM.choiceinputs{pulse_input_DDM.clicks,pulse_input_DDM.binned_clicks}},1}}\n",
       "  θ: θchoice{θz{Float64},Float64}\n",
       "  data: Array{choicedata{pulse_input_DDM.choiceinputs{pulse_input_DDM.clicks,pulse_input_DDM.binned_clicks}}}((20000,))\n",
       ",  * Status: success\n",
       "\n",
       " * Candidate solution\n",
       "    Minimizer: [2.00e+00, 1.95e+01, -5.31e-01,  ...]\n",
       "    Minimum:   7.668665e+03\n",
       "\n",
       " * Found with\n",
       "    Algorithm:     Fminbox with L-BFGS\n",
       "    Initial Point: [1.36e+00, 1.50e+01, 4.24e+00,  ...]\n",
       "\n",
       " * Convergence measures\n",
       "    |x - x'|               = 1.15e-06 ≰ 1.0e-10\n",
       "    |x - x'|/|x'|          = 5.77e-08 ≰ 0.0e+00\n",
       "    |f(x) - f(x')|         = 5.96e-06 ≰ 1.0e-09\n",
       "    |f(x) - f(x')|/|f(x')| = 7.77e-10 ≰ 0.0e+00\n",
       "    |g(x)|                 = 4.56e+01 ≰ 1.0e-03\n",
       "\n",
       " * Work counters\n",
       "    Seconds run:   2168  (vs limit Inf)\n",
       "    Iterations:    6\n",
       "    f(x) calls:    3962\n",
       "    ∇f(x) calls:   665\n",
       ")"
      ]
     },
     "execution_count": 12,
     "metadata": {},
     "output_type": "execute_result"
    }
   ],
   "source": [
    "model, output = optimize(data, options, n; f_tol=1e-9, extended_trace=true, show_every=5, scaled=false)"
   ]
  },
  {
   "cell_type": "code",
   "execution_count": 14,
   "metadata": {},
   "outputs": [
    {
     "data": {
      "text/plain": [
       "9-element Array{Float64,1}:\n",
       "  1.360158471871482 \n",
       " 15.0               \n",
       "  4.240700869281602 \n",
       " 92.93362188436957  \n",
       "  1.5630977983246341\n",
       "  0.8873318987544333\n",
       "  0.271021313702263 \n",
       "  2.3238037955842117\n",
       "  0.3888589512567495"
      ]
     },
     "execution_count": 14,
     "metadata": {},
     "output_type": "execute_result"
    }
   ],
   "source": [
    "output.initial_x"
   ]
  },
  {
   "cell_type": "code",
   "execution_count": 15,
   "metadata": {},
   "outputs": [
    {
     "data": {
      "text/plain": [
       "9×131 Array{Float64,2}:\n",
       "  1.36016    1.35714    1.35269     1.04402   …   1.99997      1.99997   \n",
       " 15.0       14.9995    15.0046     15.3691       19.4863      19.4863    \n",
       "  4.2407     4.23081    4.1725     -2.57994      -0.530752    -0.530752  \n",
       " 92.9336    92.9324    92.9306     92.8008        2.69481e-7   2.68068e-7\n",
       "  1.5631     1.51462    1.44174     0.699085      3.44713      3.44713   \n",
       "  0.887332   1.10575    1.08552     1.08462   …   1.2          1.2       \n",
       "  0.271021   0.242281   0.257406    0.125812      0.00585518   0.00585479\n",
       "  2.3238     2.32214    2.32113     1.9766        0.364231     0.364231  \n",
       "  0.388859   0.265255   0.0429246   0.118091      0.0953572    0.095358  "
      ]
     },
     "execution_count": 15,
     "metadata": {},
     "output_type": "execute_result"
    }
   ],
   "source": [
    "results = hcat(map(x-> x.metadata[\"x\"], output.trace)...)"
   ]
  },
  {
   "cell_type": "code",
   "execution_count": 23,
   "metadata": {},
   "outputs": [
    {
     "data": {
      "text/plain": [
       "9×1062 Array{Float64,2}:\n",
       "  1.36016    1.35946    1.35793      1.25347    …   0.236785     0.236785  \n",
       " 15.0       15.0       15.0003      15.0268        27.7764      27.7764    \n",
       "  4.2407     4.2391     4.22907      3.24508       -0.458815    -0.458815  \n",
       " 92.9336    92.9335    92.9334      92.9217         0.154078     0.154078  \n",
       "  1.5631     1.5587     1.54821      1.088          3.43154      3.43154   \n",
       "  0.887332   1.04433    1.0305       0.990143   …   1.2          1.2       \n",
       "  0.271021   0.243025   0.241417     0.0215015      0.00578308   0.00578308\n",
       "  2.3238     2.32369    2.32355      2.30424        0.356216     0.356216  \n",
       "  0.388859   0.315756   0.00723382   0.0237366      0.0953406    0.0953406 "
      ]
     },
     "execution_count": 23,
     "metadata": {},
     "output_type": "execute_result"
    }
   ],
   "source": [
    "results = hcat(map(x-> x.metadata[\"x\"], output.trace)...)"
   ]
  },
  {
   "cell_type": "code",
   "execution_count": 14,
   "metadata": {},
   "outputs": [
    {
     "data": {
      "text/plain": [
       "9×581 Array{Float64,2}:\n",
       "  1.36016    1.35948    1.35806      1.26489    …  30.0         30.0       \n",
       " 15.0       15.0       15.0003      15.0268        20.1567      20.1567    \n",
       "  4.2407     4.2391     4.22907      3.24433       -0.677756    -0.677756  \n",
       " 92.9336    92.9335    92.9334      92.9217         1.01932e-6   1.01851e-6\n",
       "  1.5631     1.5587     1.54822      1.08814        2.92312      2.92312   \n",
       "  0.887332   1.04433    1.0305       0.990372   …   1.2          1.2       \n",
       "  0.271021   0.243028   0.24143      0.0226745      0.00609196   0.00609196\n",
       "  2.3238     2.32368    2.32355      2.30409        0.346567     0.346567  \n",
       "  0.388859   0.315757   0.00724292   0.0237153      0.0942129    0.0942129 "
      ]
     },
     "execution_count": 14,
     "metadata": {},
     "output_type": "execute_result"
    }
   ],
   "source": [
    "results = hcat(map(x-> x.metadata[\"x\"], output.trace)...)"
   ]
  },
  {
   "cell_type": "code",
   "execution_count": 15,
   "metadata": {},
   "outputs": [
    {
     "data": {
      "text/plain": [
       "9×207 Array{Float64,2}:\n",
       "  1.36016    1.35823    1.35729    …   0.205469    0.205469    0.205468 \n",
       " 15.0       14.9999    15.0            8.84025     8.84025     8.84025  \n",
       "  4.2407     4.23613    4.22903       -0.582535   -0.582535   -0.582535 \n",
       " 92.9336    92.9334    92.9333        10.5923     10.5923     10.5923   \n",
       "  1.5631     1.55059    1.54503        0.908078    0.908078    0.908078 \n",
       "  0.887332   1.33466    1.31071    …   0.42002     0.42002     0.42002  \n",
       "  0.271021   0.191292   0.187701       0.0222275   0.0222274   0.0222272\n",
       "  2.3238     2.32346    2.32331        0.164369    0.164369    0.164369 \n",
       "  0.388859   0.180621   0.0583239      0.0970287   0.0970289   0.0970307"
      ]
     },
     "execution_count": 15,
     "metadata": {},
     "output_type": "execute_result"
    }
   ],
   "source": [
    "results = hcat(map(x-> x.metadata[\"x\"], output.trace)...)"
   ]
  },
  {
   "cell_type": "code",
   "execution_count": 34,
   "metadata": {},
   "outputs": [
    {
     "data": {
      "text/plain": [
       "9×194 Array{Float64,2}:\n",
       "  1.36016    1.35919    1.35793     1.29291    …  30.0         30.0       \n",
       " 15.0       15.0       15.0002     15.0234        19.1194      19.1194    \n",
       "  4.2407     4.23842    4.22934     3.25216       -0.695264    -0.695264  \n",
       " 92.9336    92.9335    92.9334     92.9247         1.42781e-5   1.41775e-5\n",
       "  1.5631     1.55684    1.54788     1.40988        2.76364      2.76364   \n",
       "  0.887332   1.11098    1.09224     1.07048    …   1.2          1.2       \n",
       "  0.271021   0.231144   0.230363    0.0887166      0.266475     0.266475  \n",
       "  2.3238     2.32363    2.32351     2.29959        0.3287       0.3287    \n",
       "  0.388859   0.284721   0.0357555   0.0474539      0.0939354    0.0939354 "
      ]
     },
     "execution_count": 34,
     "metadata": {},
     "output_type": "execute_result"
    }
   ],
   "source": [
    "results = hcat(map(x-> x.metadata[\"x\"], output.trace)...)"
   ]
  },
  {
   "cell_type": "code",
   "execution_count": 15,
   "metadata": {},
   "outputs": [],
   "source": [
    "using PyPlot"
   ]
  },
  {
   "cell_type": "code",
   "execution_count": 24,
   "metadata": {},
   "outputs": [
    {
     "data": {
      "image/png": "[encoded data removed]",
      "text/plain": [
       "Figure(PyObject <Figure size 640x480 with 1 Axes>)"
      ]
     },
     "metadata": {},
     "output_type": "display_data"
    },
    {
     "data": {
      "text/plain": [
       "1-element Array{PyCall.PyObject,1}:\n",
       " PyObject <matplotlib.lines.Line2D object at 0x7f89d10d71d0>"
      ]
     },
     "execution_count": 24,
     "metadata": {},
     "output_type": "execute_result"
    }
   ],
   "source": [
    "plot(results[6,:])"
   ]
  },
  {
   "cell_type": "code",
   "execution_count": 17,
   "metadata": {},
   "outputs": [
    {
     "data": {
      "image/png": "[encoded data removed]",
      "text/plain": [
       "Figure(PyObject <Figure size 640x480 with 1 Axes>)"
      ]
     },
     "metadata": {},
     "output_type": "display_data"
    },
    {
     "data": {
      "text/plain": [
       "1-element Array{PyCall.PyObject,1}:\n",
       " PyObject <matplotlib.lines.Line2D object at 0x7f61e50bb400>"
      ]
     },
     "execution_count": 17,
     "metadata": {},
     "output_type": "execute_result"
    }
   ],
   "source": [
    "plot(results[6,:])"
   ]
  },
  {
   "cell_type": "code",
   "execution_count": 16,
   "metadata": {},
   "outputs": [
    {
     "data": {
      "image/png": "[encoded data removed]",
      "text/plain": [
       "Figure(PyObject <Figure size 640x480 with 1 Axes>)"
      ]
     },
     "metadata": {},
     "output_type": "display_data"
    },
    {
     "data": {
      "text/plain": [
       "1-element Array{PyCall.PyObject,1}:\n",
       " PyObject <matplotlib.lines.Line2D object at 0x7f89d113f5f8>"
      ]
     },
     "execution_count": 16,
     "metadata": {},
     "output_type": "execute_result"
    }
   ],
   "source": [
    "plot(results[6,:])"
   ]
  },
  {
   "cell_type": "code",
   "execution_count": 36,
   "metadata": {},
   "outputs": [
    {
     "data": {
      "image/png": "[encoded data removed]",
      "text/plain": [
       "Figure(PyObject <Figure size 640x480 with 1 Axes>)"
      ]
     },
     "metadata": {},
     "output_type": "display_data"
    },
    {
     "data": {
      "text/plain": [
       "1-element Array{PyCall.PyObject,1}:\n",
       " PyObject <matplotlib.lines.Line2D object at 0x7ffafcc48160>"
      ]
     },
     "execution_count": 36,
     "metadata": {},
     "output_type": "execute_result"
    }
   ],
   "source": [
    "plot(results[6,:])"
   ]
  },
  {
   "cell_type": "code",
   "execution_count": 44,
   "metadata": {
    "scrolled": true
   },
   "outputs": [
    {
     "data": {
      "text/plain": [
       "11-element Array{Float64,1}:\n",
       " 49.99967313438298     \n",
       " 21.36111840622258     \n",
       " -0.7190659578232897   \n",
       "  2.1386194647288506e-5\n",
       "  1.7992023069744272   \n",
       "  1.7999999941870481   \n",
       "  0.006656144275982201 \n",
       "  0.0                  \n",
       "  0.0                  \n",
       "  0.2855907772270928   \n",
       "  0.09199784796453968  "
      ]
     },
     "execution_count": 44,
     "metadata": {},
     "output_type": "execute_result"
    }
   ],
   "source": [
    "collect(Flatten.flatten(model.θ))"
   ]
  },
  {
   "cell_type": "code",
   "execution_count": 30,
   "metadata": {},
   "outputs": [
    {
     "data": {
      "text/plain": [
       "11-element Array{Float64,1}:\n",
       "  1.9983179881335271 \n",
       " 14.325513067509391  \n",
       " -0.8180672563105222 \n",
       "  4.89213930898213   \n",
       "  2.4999873800836583 \n",
       "  1.199999049475309  \n",
       "  0.00969638145449006\n",
       "  0.0                \n",
       "  0.0                \n",
       "  0.34246344078859825\n",
       "  0.11515042143806208"
      ]
     },
     "execution_count": 30,
     "metadata": {},
     "output_type": "execute_result"
    }
   ],
   "source": [
    "collect(Flatten.flatten(model.θ))"
   ]
  },
  {
   "cell_type": "code",
   "execution_count": 61,
   "metadata": {},
   "outputs": [
    {
     "data": {
      "text/plain": [
       "-7686.387794351638"
      ]
     },
     "execution_count": 61,
     "metadata": {},
     "output_type": "execute_result"
    }
   ],
   "source": [
    "## crappy solution\n",
    "#loglikelihood(model.θ, data, n)\n",
    "#-7686.387794351638"
   ]
  },
  {
   "cell_type": "code",
   "execution_count": 47,
   "metadata": {},
   "outputs": [
    {
     "data": {
      "text/plain": [
       "-7582.694132524038"
      ]
     },
     "execution_count": 47,
     "metadata": {},
     "output_type": "execute_result"
    }
   ],
   "source": [
    "#best solution!\n",
    "#loglikelihood(model.θ, data, n)\n",
    "#-7582.694132524038"
   ]
  },
  {
   "cell_type": "markdown",
   "metadata": {},
   "source": [
    "### Compute Hessian\n",
    "Blah blah blah"
   ]
  },
  {
   "cell_type": "code",
   "execution_count": 42,
   "metadata": {},
   "outputs": [
    {
     "name": "stderr",
     "output_type": "stream",
     "text": [
      "┌ Warning: Hessian is not positive definite. Approximated by closest PSD matrix.\n",
      "│             ||ϵ||/||H|| is 0.223694523778866\n",
      "└ @ pulse_input_DDM /usr/people/briandd/Projects/pulse_input_DDM/src/base_model.jl:19\n"
     ]
    }
   ],
   "source": [
    "H = Hessian(model, n)\n",
    "CI, HPSD = CIs(H);"
   ]
  },
  {
   "cell_type": "code",
   "execution_count": 43,
   "metadata": {},
   "outputs": [
    {
     "data": {
      "text/plain": [
       "11-element Array{Float64,1}:\n",
       " 11.650158965965602   \n",
       " 50.08465038997119    \n",
       "  0.9794250017826648  \n",
       " 20.071962630628775   \n",
       "  0.8280034436388295  \n",
       "  0.15319607993220483 \n",
       "  0.009740611905573246\n",
       "  2.0                 \n",
       "  2.0                 \n",
       "  0.17024446361358803 \n",
       "  0.01086344275122942 "
      ]
     },
     "execution_count": 43,
     "metadata": {},
     "output_type": "execute_result"
    }
   ],
   "source": [
    "CI"
   ]
  },
  {
   "cell_type": "code",
   "execution_count": 44,
   "metadata": {},
   "outputs": [
    {
     "data": {
      "text/plain": [
       "11×3 Array{Float64,2}:\n",
       " -10.7113       1.0   12.5891   \n",
       " -38.3492      13.0   61.8201   \n",
       "  -1.35075     -0.5    0.608102 \n",
       "  -8.53344     10.0   31.6105   \n",
       "   0.0395871    1.0    1.69559  \n",
       "   0.281214     0.4    0.587606 \n",
       "   0.0129646    0.02   0.0324458\n",
       "  -2.0          0.0    2.0      \n",
       "  -2.0          0.0    2.0      \n",
       "  -0.00742028   0.1    0.333069 \n",
       "   0.0865729    0.1    0.1083   "
      ]
     },
     "execution_count": 44,
     "metadata": {},
     "output_type": "execute_result"
    }
   ],
   "source": [
    "hcat(collect(Flatten.flatten(model.θ)) - CI, collect(Flatten.flatten(θ_syn)), collect(Flatten.flatten(model.θ)) + CI)"
   ]
  },
  {
   "cell_type": "code",
   "execution_count": 45,
   "metadata": {},
   "outputs": [
    {
     "data": {
      "text/plain": [
       "11×2 Array{Float64,2}:\n",
       "  0.938897    1.0 \n",
       " 11.7354     13.0 \n",
       " -0.371323   -0.5 \n",
       " 11.5385     10.0 \n",
       "  0.867591    1.0 \n",
       "  0.43441     0.4 \n",
       "  0.0227052   0.02\n",
       "  0.0         0.0 \n",
       "  0.0         0.0 \n",
       "  0.162824    0.1 \n",
       "  0.0974364   0.1 "
      ]
     },
     "execution_count": 45,
     "metadata": {},
     "output_type": "execute_result"
    }
   ],
   "source": [
    "hcat(collect(Flatten.flatten(model.θ)), collect(Flatten.flatten(θ_syn)))"
   ]
  },
  {
   "cell_type": "code",
   "execution_count": 46,
   "metadata": {},
   "outputs": [
    {
     "data": {
      "text/plain": [
       "11×1 BitArray{2}:\n",
       " 1\n",
       " 1\n",
       " 1\n",
       " 1\n",
       " 1\n",
       " 1\n",
       " 1\n",
       " 1\n",
       " 1\n",
       " 1\n",
       " 1"
      ]
     },
     "execution_count": 46,
     "metadata": {},
     "output_type": "execute_result"
    }
   ],
   "source": [
    "hcat(collect(Flatten.flatten(model.θ)) - CI .< collect(Flatten.flatten(θ_syn)) .< collect(Flatten.flatten(model.θ)) + CI)"
   ]
  },
  {
   "cell_type": "code",
   "execution_count": null,
   "metadata": {},
   "outputs": [],
   "source": []
  }
 ],
 "metadata": {
  "kernelspec": {
   "display_name": "Julia 1.2.0",
   "language": "julia",
   "name": "julia-1.2"
  },
  "language_info": {
   "file_extension": ".jl",
   "mimetype": "application/julia",
   "name": "julia",
   "version": "1.2.0"
  }
 },
 "nbformat": 4,
 "nbformat_minor": 2
}
